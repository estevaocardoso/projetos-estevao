{
  "nbformat": 4,
  "nbformat_minor": 0,
  "metadata": {
    "colab": {
      "provenance": [],
      "authorship_tag": "ABX9TyPmU5cuCJ84mwMueqT4hx6s",
      "include_colab_link": true
    },
    "kernelspec": {
      "name": "python3",
      "display_name": "Python 3"
    },
    "language_info": {
      "name": "python"
    }
  },
  "cells": [
    {
      "cell_type": "markdown",
      "metadata": {
        "id": "view-in-github",
        "colab_type": "text"
      },
      "source": [
        "<a href=\"https://colab.research.google.com/github/estevaomod/PROJETO-SOJA/blob/main/DASHBORAD_SOJA.ipynb\" target=\"_parent\"><img src=\"https://colab.research.google.com/assets/colab-badge.svg\" alt=\"Open In Colab\"/></a>"
      ]
    },
    {
      "cell_type": "code",
      "execution_count": 16,
      "metadata": {
        "id": "PJGseedKEvEc"
      },
      "outputs": [],
      "source": [
        "from dash import html, Dash, dcc, Input, Output\n",
        "import plotly.express as px\n",
        "import pandas as pd"
      ]
    },
    {
      "cell_type": "code",
      "source": [
        "app = Dash(__name__)"
      ],
      "metadata": {
        "id": "_m7at_FYF8Gg"
      },
      "execution_count": 5,
      "outputs": []
    },
    {
      "cell_type": "code",
      "source": [
        "from google.colab import drive\n",
        "drive.mount('/content/drive')"
      ],
      "metadata": {
        "id": "rY7uvpdmGV3M"
      },
      "execution_count": null,
      "outputs": []
    },
    {
      "cell_type": "code",
      "source": [
        "df = pd.read_excel(r'/content/drive/MyDrive/ECONOMIA/Mestrado KRALHOOO/PY_SOJA .xlsx')"
      ],
      "metadata": {
        "id": "UUBqCLcTGjF3"
      },
      "execution_count": 7,
      "outputs": []
    },
    {
      "cell_type": "code",
      "source": [
        "df.head()"
      ],
      "metadata": {
        "colab": {
          "base_uri": "https://localhost:8080/",
          "height": 206
        },
        "id": "Mlw0WmElMGcV",
        "outputId": "c9495ac7-c3a7-4bda-bf1c-7193209f7ddf"
      },
      "execution_count": 12,
      "outputs": [
        {
          "output_type": "execute_result",
          "data": {
            "text/plain": [
              "         REGIAO   ANO  AREA_COLHIDA_HC  PREÇO_SC  QUANTIDADE_SC_60KG  \\\n",
              "0  CENTRO-OESTE  2009           9900.1     40.00         485581.6667   \n",
              "1  CENTRO-OESTE  2010          10539.2     30.22         526445.0000   \n",
              "2  CENTRO-OESTE  2011          10819.4     39.01         565648.3333   \n",
              "3  CENTRO-OESTE  2012          11495.2     55.06         581746.6667   \n",
              "4  CENTRO-OESTE  2013          12778.2     49.88         634856.6667   \n",
              "\n",
              "   PRODUÇÃO_TN(MIL)  RECEITA_BRUTA_R$(MIL)   DOLAR  CUSTOS  \n",
              "0        29134900.0            19423266.67  1.9976     NaN  \n",
              "1        31586700.0            15909167.90  1.7603     NaN  \n",
              "2        33938900.0            22065941.48  1.6750     NaN  \n",
              "3        34904800.0            32030971.47  1.9546     NaN  \n",
              "4        38091400.0            31666650.53  2.1576     NaN  "
            ],
            "text/html": [
              "\n",
              "  <div id=\"df-7aa666c2-b283-4d60-8295-28b4f0916c52\">\n",
              "    <div class=\"colab-df-container\">\n",
              "      <div>\n",
              "<style scoped>\n",
              "    .dataframe tbody tr th:only-of-type {\n",
              "        vertical-align: middle;\n",
              "    }\n",
              "\n",
              "    .dataframe tbody tr th {\n",
              "        vertical-align: top;\n",
              "    }\n",
              "\n",
              "    .dataframe thead th {\n",
              "        text-align: right;\n",
              "    }\n",
              "</style>\n",
              "<table border=\"1\" class=\"dataframe\">\n",
              "  <thead>\n",
              "    <tr style=\"text-align: right;\">\n",
              "      <th></th>\n",
              "      <th>REGIAO</th>\n",
              "      <th>ANO</th>\n",
              "      <th>AREA_COLHIDA_HC</th>\n",
              "      <th>PREÇO_SC</th>\n",
              "      <th>QUANTIDADE_SC_60KG</th>\n",
              "      <th>PRODUÇÃO_TN(MIL)</th>\n",
              "      <th>RECEITA_BRUTA_R$(MIL)</th>\n",
              "      <th>DOLAR</th>\n",
              "      <th>CUSTOS</th>\n",
              "    </tr>\n",
              "  </thead>\n",
              "  <tbody>\n",
              "    <tr>\n",
              "      <th>0</th>\n",
              "      <td>CENTRO-OESTE</td>\n",
              "      <td>2009</td>\n",
              "      <td>9900.1</td>\n",
              "      <td>40.00</td>\n",
              "      <td>485581.6667</td>\n",
              "      <td>29134900.0</td>\n",
              "      <td>19423266.67</td>\n",
              "      <td>1.9976</td>\n",
              "      <td>NaN</td>\n",
              "    </tr>\n",
              "    <tr>\n",
              "      <th>1</th>\n",
              "      <td>CENTRO-OESTE</td>\n",
              "      <td>2010</td>\n",
              "      <td>10539.2</td>\n",
              "      <td>30.22</td>\n",
              "      <td>526445.0000</td>\n",
              "      <td>31586700.0</td>\n",
              "      <td>15909167.90</td>\n",
              "      <td>1.7603</td>\n",
              "      <td>NaN</td>\n",
              "    </tr>\n",
              "    <tr>\n",
              "      <th>2</th>\n",
              "      <td>CENTRO-OESTE</td>\n",
              "      <td>2011</td>\n",
              "      <td>10819.4</td>\n",
              "      <td>39.01</td>\n",
              "      <td>565648.3333</td>\n",
              "      <td>33938900.0</td>\n",
              "      <td>22065941.48</td>\n",
              "      <td>1.6750</td>\n",
              "      <td>NaN</td>\n",
              "    </tr>\n",
              "    <tr>\n",
              "      <th>3</th>\n",
              "      <td>CENTRO-OESTE</td>\n",
              "      <td>2012</td>\n",
              "      <td>11495.2</td>\n",
              "      <td>55.06</td>\n",
              "      <td>581746.6667</td>\n",
              "      <td>34904800.0</td>\n",
              "      <td>32030971.47</td>\n",
              "      <td>1.9546</td>\n",
              "      <td>NaN</td>\n",
              "    </tr>\n",
              "    <tr>\n",
              "      <th>4</th>\n",
              "      <td>CENTRO-OESTE</td>\n",
              "      <td>2013</td>\n",
              "      <td>12778.2</td>\n",
              "      <td>49.88</td>\n",
              "      <td>634856.6667</td>\n",
              "      <td>38091400.0</td>\n",
              "      <td>31666650.53</td>\n",
              "      <td>2.1576</td>\n",
              "      <td>NaN</td>\n",
              "    </tr>\n",
              "  </tbody>\n",
              "</table>\n",
              "</div>\n",
              "      <button class=\"colab-df-convert\" onclick=\"convertToInteractive('df-7aa666c2-b283-4d60-8295-28b4f0916c52')\"\n",
              "              title=\"Convert this dataframe to an interactive table.\"\n",
              "              style=\"display:none;\">\n",
              "        \n",
              "  <svg xmlns=\"http://www.w3.org/2000/svg\" height=\"24px\"viewBox=\"0 0 24 24\"\n",
              "       width=\"24px\">\n",
              "    <path d=\"M0 0h24v24H0V0z\" fill=\"none\"/>\n",
              "    <path d=\"M18.56 5.44l.94 2.06.94-2.06 2.06-.94-2.06-.94-.94-2.06-.94 2.06-2.06.94zm-11 1L8.5 8.5l.94-2.06 2.06-.94-2.06-.94L8.5 2.5l-.94 2.06-2.06.94zm10 10l.94 2.06.94-2.06 2.06-.94-2.06-.94-.94-2.06-.94 2.06-2.06.94z\"/><path d=\"M17.41 7.96l-1.37-1.37c-.4-.4-.92-.59-1.43-.59-.52 0-1.04.2-1.43.59L10.3 9.45l-7.72 7.72c-.78.78-.78 2.05 0 2.83L4 21.41c.39.39.9.59 1.41.59.51 0 1.02-.2 1.41-.59l7.78-7.78 2.81-2.81c.8-.78.8-2.07 0-2.86zM5.41 20L4 18.59l7.72-7.72 1.47 1.35L5.41 20z\"/>\n",
              "  </svg>\n",
              "      </button>\n",
              "      \n",
              "  <style>\n",
              "    .colab-df-container {\n",
              "      display:flex;\n",
              "      flex-wrap:wrap;\n",
              "      gap: 12px;\n",
              "    }\n",
              "\n",
              "    .colab-df-convert {\n",
              "      background-color: #E8F0FE;\n",
              "      border: none;\n",
              "      border-radius: 50%;\n",
              "      cursor: pointer;\n",
              "      display: none;\n",
              "      fill: #1967D2;\n",
              "      height: 32px;\n",
              "      padding: 0 0 0 0;\n",
              "      width: 32px;\n",
              "    }\n",
              "\n",
              "    .colab-df-convert:hover {\n",
              "      background-color: #E2EBFA;\n",
              "      box-shadow: 0px 1px 2px rgba(60, 64, 67, 0.3), 0px 1px 3px 1px rgba(60, 64, 67, 0.15);\n",
              "      fill: #174EA6;\n",
              "    }\n",
              "\n",
              "    [theme=dark] .colab-df-convert {\n",
              "      background-color: #3B4455;\n",
              "      fill: #D2E3FC;\n",
              "    }\n",
              "\n",
              "    [theme=dark] .colab-df-convert:hover {\n",
              "      background-color: #434B5C;\n",
              "      box-shadow: 0px 1px 3px 1px rgba(0, 0, 0, 0.15);\n",
              "      filter: drop-shadow(0px 1px 2px rgba(0, 0, 0, 0.3));\n",
              "      fill: #FFFFFF;\n",
              "    }\n",
              "  </style>\n",
              "\n",
              "      <script>\n",
              "        const buttonEl =\n",
              "          document.querySelector('#df-7aa666c2-b283-4d60-8295-28b4f0916c52 button.colab-df-convert');\n",
              "        buttonEl.style.display =\n",
              "          google.colab.kernel.accessAllowed ? 'block' : 'none';\n",
              "\n",
              "        async function convertToInteractive(key) {\n",
              "          const element = document.querySelector('#df-7aa666c2-b283-4d60-8295-28b4f0916c52');\n",
              "          const dataTable =\n",
              "            await google.colab.kernel.invokeFunction('convertToInteractive',\n",
              "                                                     [key], {});\n",
              "          if (!dataTable) return;\n",
              "\n",
              "          const docLinkHtml = 'Like what you see? Visit the ' +\n",
              "            '<a target=\"_blank\" href=https://colab.research.google.com/notebooks/data_table.ipynb>data table notebook</a>'\n",
              "            + ' to learn more about interactive tables.';\n",
              "          element.innerHTML = '';\n",
              "          dataTable['output_type'] = 'display_data';\n",
              "          await google.colab.output.renderOutput(dataTable, element);\n",
              "          const docLink = document.createElement('div');\n",
              "          docLink.innerHTML = docLinkHtml;\n",
              "          element.appendChild(docLink);\n",
              "        }\n",
              "      </script>\n",
              "    </div>\n",
              "  </div>\n",
              "  "
            ]
          },
          "metadata": {},
          "execution_count": 12
        }
      ]
    },
    {
      "cell_type": "code",
      "source": [
        "fig = px.bar(df, x='ANO', y='RECEITA_BRUTA_R$(MIL)', color='REGIAO', barmode='group')\n",
        "opcoes = list(df['REGIAO'].unique())"
      ],
      "metadata": {
        "id": "AlSdYLJJLVDi"
      },
      "execution_count": 21,
      "outputs": []
    },
    {
      "cell_type": "code",
      "source": [
        "app.layout = html.Div(children=[\n",
        "    html.H1(children = 'Receita da Soja por região 2009-2022'),\n",
        "    html.H2(children = 'Receita em Reais das safras de soja de 2009 a 2022'),\n",
        "    html.Div(children ='''\n",
        "      Os valores não estão corrigidos pela inflação corrente.\n",
        "    '''),\n",
        "    html.Div(id='texto'),\n",
        "    dcc.Dropdown(opcoes, value = 'Todas as Regioes', id='Lista de Regioes' ),\n",
        "\n",
        "    dcc.Graph(\n",
        "        id= 'Receita safras soja 2009 a 2022',\n",
        "        figure = fig\n",
        "    )\n",
        "    ])\n",
        "    "
      ],
      "metadata": {
        "id": "9m7VqwiHNLiK"
      },
      "execution_count": 23,
      "outputs": []
    },
    {
      "cell_type": "code",
      "source": [
        "@app.callback(\n",
        "    Output('Receita safras soja 2009 a 2022', 'fig'),\n",
        "    Input('Lista de Regioes', 'value')\n",
        ")"
      ],
      "metadata": {
        "colab": {
          "base_uri": "https://localhost:8080/",
          "height": 130
        },
        "id": "6CQ2RlWGR-g5",
        "outputId": "238e09d9-7df6-4293-edee-1e5f22236d55"
      },
      "execution_count": 28,
      "outputs": [
        {
          "output_type": "error",
          "ename": "SyntaxError",
          "evalue": "ignored",
          "traceback": [
            "\u001b[0;36m  File \u001b[0;32m\"<ipython-input-28-ffa81e758a9e>\"\u001b[0;36m, line \u001b[0;32m4\u001b[0m\n\u001b[0;31m    )\u001b[0m\n\u001b[0m     ^\u001b[0m\n\u001b[0;31mSyntaxError\u001b[0m\u001b[0;31m:\u001b[0m unexpected EOF while parsing\n"
          ]
        }
      ]
    },
    {
      "cell_type": "code",
      "source": [
        "def update_output(value):\n",
        "  if value == 'Todas as Regioes':\n",
        "\n",
        "    fig = px.bar(df, x='ANO', y='RECEITA_BRUTA_R$(MIL)', color='REGIAO', barmode='group')\n",
        "\n",
        "  else: \n",
        "    tabela_filtrada =  df.loc[df['REGIAO']==value, :]\n",
        "     fig = px.bar(tabela_filtrada, x='ANO', y='RECEITA_BRUTA_R$(MIL)', color='REGIAO', barmode='group')\n",
        "  return fig"
      ],
      "metadata": {
        "id": "jRrCdj1STkG2"
      },
      "execution_count": null,
      "outputs": []
    },
    {
      "cell_type": "code",
      "source": [
        "if __name__ == '__main__':\n",
        "  app.run_server(debug=True)"
      ],
      "metadata": {
        "colab": {
          "base_uri": "https://localhost:8080/"
        },
        "id": "G12M7WaFVy_0",
        "outputId": "ee257e38-46e8-4379-a3ff-a87428b20480"
      },
      "execution_count": 29,
      "outputs": [
        {
          "output_type": "stream",
          "name": "stdout",
          "text": [
            "Dash is running on http://127.0.0.1:8050/\n",
            "\n"
          ]
        },
        {
          "output_type": "stream",
          "name": "stderr",
          "text": [
            "INFO:__main__:Dash is running on http://127.0.0.1:8050/\n",
            "\n"
          ]
        },
        {
          "output_type": "stream",
          "name": "stdout",
          "text": [
            " * Serving Flask app \"__main__\" (lazy loading)\n",
            " * Environment: production\n",
            "\u001b[31m   WARNING: This is a development server. Do not use it in a production deployment.\u001b[0m\n",
            "\u001b[2m   Use a production WSGI server instead.\u001b[0m\n",
            " * Debug mode: on\n"
          ]
        }
      ]
    }
  ]
}