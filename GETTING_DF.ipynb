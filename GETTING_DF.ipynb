{
  "nbformat": 4,
  "nbformat_minor": 0,
  "metadata": {
    "colab": {
      "provenance": [],
      "authorship_tag": "ABX9TyM/T0yrAxRHeHG7OV1qn8pi",
      "include_colab_link": true
    },
    "kernelspec": {
      "name": "python3",
      "display_name": "Python 3"
    },
    "language_info": {
      "name": "python"
    }
  },
  "cells": [
    {
      "cell_type": "markdown",
      "metadata": {
        "id": "view-in-github",
        "colab_type": "text"
      },
      "source": [
        "<a href=\"https://colab.research.google.com/github/estevaocardoso/projetos-estevao/blob/main/GETTING_DF.ipynb\" target=\"_parent\"><img src=\"https://colab.research.google.com/assets/colab-badge.svg\" alt=\"Open In Colab\"/></a>"
      ]
    },
    {
      "cell_type": "code",
      "execution_count": 3,
      "metadata": {
        "id": "qnJR7vJSj2oJ"
      },
      "outputs": [],
      "source": [
        "import basedosdados as bd"
      ]
    },
    {
      "cell_type": "code",
      "source": [
        "query = '''\n",
        "SELECT ano, sigla_uf, id_municipio, bairro_revenda, cep_revenda, endereco_revenda, cnpj_revenda, nome_estabelecimento, bandeira_revenda, produto, unidade_medida, preco_compra, preco_venda FROM `basedosdados.br_anp_precos_combustiveis.microdados`\n",
        "WHERE sigla_uf = 'PA'\n",
        "'''\n",
        "df = bd.read_sql(query,\n",
        "billing_project_id=\"extended-spark-302513\")"
      ],
      "metadata": {
        "colab": {
          "base_uri": "https://localhost:8080/"
        },
        "id": "HOjmjhjhq1d-",
        "outputId": "4e756dee-d1ae-43a3-a8c5-4e628cdf222c"
      },
      "execution_count": 11,
      "outputs": [
        {
          "output_type": "stream",
          "name": "stderr",
          "text": [
            "Downloading: 100%|██████████| 299122/299122 [00:28<00:00, 10422.27rows/s]\n"
          ]
        }
      ]
    },
    {
      "cell_type": "markdown",
      "source": [
        "# Nova seção"
      ],
      "metadata": {
        "id": "Xf97Y0b7kf-S"
      }
    },
    {
      "cell_type": "code",
      "source": [
        "import pandas as pd\n",
        "\n",
        "json_file = 'PA.json'\n",
        "\n",
        "with open(json_file, 'w') as file:\n",
        "  df.to_json(file, orient='records', lines=True)"
      ],
      "metadata": {
        "id": "GBrlJq4pre7e"
      },
      "execution_count": 15,
      "outputs": []
    }
  ]
}