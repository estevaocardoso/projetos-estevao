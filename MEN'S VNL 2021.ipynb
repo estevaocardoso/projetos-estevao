{
 "cells": [
  {
   "cell_type": "code",
   "execution_count": 1,
   "metadata": {},
   "outputs": [],
   "source": [
    "from bs4 import BeautifulSoup\n",
    "import pandas as pd\n",
    "import requests"
   ]
  },
  {
   "cell_type": "code",
   "execution_count": 3,
   "metadata": {},
   "outputs": [],
   "source": [
    "items = ['best-scorers', 'best-attackers','best-blockers', 'best-servers', 'best-setters', 'best-diggers', 'best-receivers']\n",
    "#best scores"
   ]
  },
  {
   "cell_type": "code",
   "execution_count": 58,
   "metadata": {},
   "outputs": [],
   "source": [
    "\n",
    "\n",
    "items = ['best-scorers', 'best-attackers', 'best-blockers', 'best-servers', 'best-setters', 'best-diggers', 'best-receivers']\n",
    "\n",
    "base_url = \"https://en.volleyballworld.com/volleyball/competitions/vnl-2021/finals-statistics/men/\"\n",
    "\n",
    "headers = {\n",
    "    'authority': 'en.volleyballworld.com',\n",
    "    'accept': 'text/html,application/xhtml+xml,application/xml;q=0.9,image/avif,image/webp,image/apng,*/*;q=0.8,application/signed-exchange;v=b3;q=0.7',\n",
    "    'accept-language': 'pt-BR,pt;q=0.9,en-US;q=0.8,en;q=0.7',\n",
    "    'cache-control': 'max-age=0',\n",
    "    'cookie': '_gcl_au=1.1.1087252023.1696070766; _tt_enable_cookie=1; _ttp=mC9cwvZDEfFvm84XhcY_UpCFQS1; __qca=P0-22326168-1696070767255; _hjSessionUser_3054680=eyJpZCI6Ijc5NjFiZWRhLWFiYmItNTFmMi05YjZlLTljMWE4Mjg0Yzk2MiIsImNyZWF0ZWQiOjE2OTYwNzA3ODA1MjcsImV4aXN0aW5nIjp0cnVlfQ==; _vwo_uuid_v2=DB3B3C099E1E6AF8DAD0304C6CC4A4098|a687021c2fb118a0e3b8b34c2e8eef96; _hjSessionUser_1859763=eyJpZCI6IjcwNmIzOWRmLWU2ZWQtNWIyNC04YzgxLWQxYjczMmQxMWU2NCIsImNyZWF0ZWQiOjE2OTYwNzA3NjYxMjIsImV4aXN0aW5nIjp0cnVlfQ==; _ga=GA1.1.173820319.1696070762; _gid=GA1.2.283440947.1696070762; OptanonAlertBoxClosed=2023-09-30T22:00:03.458Z; Language=en; fivbCookies=true; _gid=GA1.2.283440947.1696070762; vnl2018#lang=en; _hjSession_1859763=eyJpZCI6IjZjODZjNDgyLTliNTUtNGZiNS1iZDI0LTQ4ZGRhMzYxNDY4YSIsImNyZWF0ZWQiOjE2OTg2Nzc3MTMwNDgsImluU2FtcGxlIjpmYWxzZSwic2Vzc2lvbml6ZXJCZXRhRW5hYmxlZCI6dHJ1ZX0=; _hjAbsoluteSessionInProgress=0; vnl2019#lang=en; SC_ANALYTICS_GLOBAL_COOKIE=44723ea96aec4a0a93489a9e76da254d|False; _hjIncludedInSessionSample_1859763=0; _ga_5ZY57D5RSS=GS1.1.1698680288.8.1.1698681683.59.0.0; _ga=GA1.1.173820319.1696070762; OptanonConsent=isIABGlobal=false&datestamp=Mon+Oct+30+2023+13%3A01%3A24+GMT-0300+(Hor%C3%A1rio+Padr%C3%A3o+de+Bras%C3%ADlia)&version=6.18.0&hosts=&consentId=99d3274d-8d3a-4770-9823-42325ef10494&interactionCount=2&landingPath=NotLandingPage&groups=C0001%3A1%2CC0004%3A1%2CC0002%3A1%2CC0003%3A1&AwaitingReconsent=false&geolocation=BR%3BPE; _ga_R215V1S3VM=GS1.1.1698677725.6.1.1698681685.0.0.0; _ga_0XQMFZ8Y93=GS1.2.1698677713.9.1.1698681685.0.0.0',\n",
    "    'if-none-match': '\"Kc51kEZgewFo69b0TlADrFkywqo\"',\n",
    "    'referer': 'https://en.volleyballworld.com/volleyball/competitions/vnl-2021/finals-statistics/men/',\n",
    "    'sec-ch-ua': '\"Chromium\";v=\"118\", \"Google Chrome\";v=\"118\", \"Not=A?Brand\";v=\"99\"',\n",
    "    'sec-ch-ua-mobile': '?0',\n",
    "    'sec-ch-ua-platform': '\"Windows\"',\n",
    "    'sec-fetch-dest': 'document',\n",
    "    'sec-fetch-mode': 'navigate',\n",
    "    'sec-fetch-site': 'same-origin',\n",
    "    'sec-fetch-user': '?1',\n",
    "    'upgrade-insecure-requests': '1',\n",
    "    'user-agent': 'Mozilla/5.0 (Windows NT 10.0; Win64; x64) AppleWebKit/537.36 (KHTML, like Gecko) Chrome/118.0.0.0 Safari/537.36'\n",
    "    }\n",
    "\n",
    "soup_list = []\n",
    "\n",
    "\n",
    "\n",
    "for item in items:\n",
    "    \n",
    "    url = base_url + item + \"/\"\n",
    "\n",
    "    response = requests.get(url, headers=headers)\n",
    "    content = response.text\n",
    "    #soup = BeautifulSoup(content, 'html.parser') ######## EU PEDI PRA TU MUDAR ESSE NEGÒCIO DE HTML.PARSER ELE NÃO SERVE\n",
    "    soup = BeautifulSoup(content, 'lxml') # Esse que é o certo\n",
    "    soup_list.append({'item': item, 'soup': soup})\n",
    "    "
   ]
  },
  {
   "cell_type": "code",
   "execution_count": 68,
   "metadata": {},
   "outputs": [
    {
     "data": {
      "text/plain": [
       "<Response [200]>"
      ]
     },
     "execution_count": 68,
     "metadata": {},
     "output_type": "execute_result"
    }
   ],
   "source": [
    "response = requests.get(\"https://en.volleyballworld.com/volleyball/competitions/vnl-2021/finals-statistics/men/best-receivers\", headers=headers)\n",
    "response"
   ]
  },
  {
   "cell_type": "code",
   "execution_count": 99,
   "metadata": {},
   "outputs": [],
   "source": [
    "content = response.text\n",
    "soup = BeautifulSoup(content, 'lxml')"
   ]
  },
  {
   "cell_type": "code",
   "execution_count": 23,
   "metadata": {},
   "outputs": [
    {
     "ename": "SyntaxError",
     "evalue": "invalid syntax (2488207321.py, line 1)",
     "output_type": "error",
     "traceback": [
      "\u001b[1;36m  Cell \u001b[1;32mIn[23], line 1\u001b[1;36m\u001b[0m\n\u001b[1;33m    soup = [for i in soup_list[i]['soup']]\u001b[0m\n\u001b[1;37m            ^\u001b[0m\n\u001b[1;31mSyntaxError\u001b[0m\u001b[1;31m:\u001b[0m invalid syntax\n"
     ]
    }
   ],
   "source": [
    "soup = [for i in soup_list[i]['soup']"
   ]
  },
  {
   "cell_type": "code",
   "execution_count": 106,
   "metadata": {},
   "outputs": [],
   "source": [
    "soup = soup_list[2]['soup']\n",
    "table = soup.select_one('#main-content > section:nth-child(3) > div > div > div > div > div > table')"
   ]
  },
  {
   "cell_type": "code",
   "execution_count": 107,
   "metadata": {},
   "outputs": [
    {
     "data": {
      "text/plain": [
       "<table class=\"vbw-o-table vbw-tournament-player-statistic-table vbw-stats-scorers\" data-enable-sorting=\"true\" data-pagination=\"20\"><thead class=\"vbw-o-table__header\"><tr class=\"vbw-o-table__header-group\"><th class=\"vbw-o-table__header shirtnumber\" scope=\"col\"><span class=\"full-text\">Shirt Number</span><span class=\"abbreviated-text\">Shirt</span></th><th class=\"vbw-o-table__header playername\" scope=\"col\"><span class=\"full-text\">Player Name</span><span class=\"abbreviated-text\">Player</span></th><th class=\"vbw-o-table__header federation\" scope=\"col\"><span class=\"full-text\">Team</span><span class=\"abbreviated-text\">Team</span></th><th class=\"vbw-o-table__header stuff-blocks\" scope=\"col\"><span class=\"full-text\">Blocks</span><span class=\"abbreviated-text\">stuff-blocks</span></th><th class=\"vbw-o-table__header faults\" scope=\"col\"><span class=\"full-text\">Errors</span><span class=\"abbreviated-text\">SE</span></th><th class=\"vbw-o-table__header rebounds\" scope=\"col\"><span class=\"full-text\">Rebounds</span><span class=\"abbreviated-text\">REB</span></th><th class=\"vbw-o-table__header average-per-match\" scope=\"col\"><span class=\"full-text\">Average per match</span><span class=\"abbreviated-text\">average-per-match</span></th><th class=\"vbw-o-table__header success-perc\" scope=\"col\"><span class=\"full-text\">Efficiency %</span><span class=\"abbreviated-text\">Eff</span></th><th class=\"vbw-o-table__header total-attempts\" scope=\"col\"><span class=\"full-text\">Total</span><span class=\"abbreviated-text\">TA</span></th></tr></thead><tbody class=\"vbw-o-table__body\"><tr class=\"vbw-o-table__row vbw-o-table__row--scorer vbw-stats-player-13\" data-player-no=\"136734\"><td class=\"vbw-o-table__cell shirtnumber\">13</td><td class=\"vbw-o-table__cell playername\">De Souza Mauricio Luiz</td><td class=\"vbw-o-table__cell federation\">BRA</td><td class=\"vbw-o-table__cell stuff-blocks\">9</td><td class=\"vbw-o-table__cell faults\">9</td><td class=\"vbw-o-table__cell rebounds\">10</td><td class=\"vbw-o-table__cell average-per-match\">4.50</td><td class=\"vbw-o-table__cell success-perc\">0.00</td><td class=\"vbw-o-table__cell total-attempts\">28</td></tr><tr class=\"vbw-o-table__row vbw-o-table__row--scorer vbw-stats-player-6\" data-player-no=\"115806\"><td class=\"vbw-o-table__cell shirtnumber\">6</td><td class=\"vbw-o-table__cell playername\">Kurek Bartosz</td><td class=\"vbw-o-table__cell federation\">POL</td><td class=\"vbw-o-table__cell stuff-blocks\">5</td><td class=\"vbw-o-table__cell faults\">4</td><td class=\"vbw-o-table__cell rebounds\">2</td><td class=\"vbw-o-table__cell average-per-match\">2.50</td><td class=\"vbw-o-table__cell success-perc\">9.09</td><td class=\"vbw-o-table__cell total-attempts\">11</td></tr><tr class=\"vbw-o-table__row vbw-o-table__row--scorer vbw-stats-player-8\" data-player-no=\"112869\"><td class=\"vbw-o-table__cell shirtnumber\">8</td><td class=\"vbw-o-table__cell playername\">De Souza Wallace</td><td class=\"vbw-o-table__cell federation\">BRA</td><td class=\"vbw-o-table__cell stuff-blocks\">4</td><td class=\"vbw-o-table__cell faults\">3</td><td class=\"vbw-o-table__cell rebounds\">10</td><td class=\"vbw-o-table__cell average-per-match\">2.00</td><td class=\"vbw-o-table__cell success-perc\">5.88</td><td class=\"vbw-o-table__cell total-attempts\">17</td></tr><tr class=\"vbw-o-table__row vbw-o-table__row--scorer vbw-stats-player-11\" data-player-no=\"136851\"><td class=\"vbw-o-table__cell shirtnumber\">11</td><td class=\"vbw-o-table__cell playername\">Brizard Antoine</td><td class=\"vbw-o-table__cell federation\">FRA</td><td class=\"vbw-o-table__cell stuff-blocks\">4</td><td class=\"vbw-o-table__cell faults\">0</td><td class=\"vbw-o-table__cell rebounds\">3</td><td class=\"vbw-o-table__cell average-per-match\">2.00</td><td class=\"vbw-o-table__cell success-perc\">57.14</td><td class=\"vbw-o-table__cell total-attempts\">7</td></tr><tr class=\"vbw-o-table__row vbw-o-table__row--scorer vbw-stats-player-14\" data-player-no=\"125073\"><td class=\"vbw-o-table__cell shirtnumber\">14</td><td class=\"vbw-o-table__cell playername\">Le Goff Nicolas</td><td class=\"vbw-o-table__cell federation\">FRA</td><td class=\"vbw-o-table__cell stuff-blocks\">4</td><td class=\"vbw-o-table__cell faults\">2</td><td class=\"vbw-o-table__cell rebounds\">4</td><td class=\"vbw-o-table__cell average-per-match\">2.00</td><td class=\"vbw-o-table__cell success-perc\">20.00</td><td class=\"vbw-o-table__cell total-attempts\">10</td></tr><tr class=\"vbw-o-table__row vbw-o-table__row--scorer vbw-stats-player-1\" data-player-no=\"120245\"><td class=\"vbw-o-table__cell shirtnumber\">1</td><td class=\"vbw-o-table__cell playername\">Nowakowski Piotr</td><td class=\"vbw-o-table__cell federation\">POL</td><td class=\"vbw-o-table__cell stuff-blocks\">4</td><td class=\"vbw-o-table__cell faults\">7</td><td class=\"vbw-o-table__cell rebounds\">3</td><td class=\"vbw-o-table__cell average-per-match\">2.00</td><td class=\"vbw-o-table__cell success-perc\">-21.43</td><td class=\"vbw-o-table__cell total-attempts\">14</td></tr><tr class=\"vbw-o-table__row vbw-o-table__row--scorer vbw-stats-player-11\" data-player-no=\"118612\"><td class=\"vbw-o-table__cell shirtnumber\">11</td><td class=\"vbw-o-table__cell playername\">Drzyzga Fabian</td><td class=\"vbw-o-table__cell federation\">POL</td><td class=\"vbw-o-table__cell stuff-blocks\">4</td><td class=\"vbw-o-table__cell faults\">5</td><td class=\"vbw-o-table__cell rebounds\">1</td><td class=\"vbw-o-table__cell average-per-match\">2.00</td><td class=\"vbw-o-table__cell success-perc\">-10.00</td><td class=\"vbw-o-table__cell total-attempts\">10</td></tr><tr class=\"vbw-o-table__row vbw-o-table__row--scorer vbw-stats-player-13\" data-player-no=\"115845\"><td class=\"vbw-o-table__cell shirtnumber\">13</td><td class=\"vbw-o-table__cell playername\">Kubiak Michal</td><td class=\"vbw-o-table__cell federation\">POL</td><td class=\"vbw-o-table__cell stuff-blocks\">3</td><td class=\"vbw-o-table__cell faults\">4</td><td class=\"vbw-o-table__cell rebounds\">3</td><td class=\"vbw-o-table__cell average-per-match\">1.50</td><td class=\"vbw-o-table__cell success-perc\">-10.00</td><td class=\"vbw-o-table__cell total-attempts\">10</td></tr><tr class=\"vbw-o-table__row vbw-o-table__row--scorer vbw-stats-player-20\" data-player-no=\"150734\"><td class=\"vbw-o-table__cell shirtnumber\">20</td><td class=\"vbw-o-table__cell playername\">Bieniek Mateusz</td><td class=\"vbw-o-table__cell federation\">POL</td><td class=\"vbw-o-table__cell stuff-blocks\">3</td><td class=\"vbw-o-table__cell faults\">8</td><td class=\"vbw-o-table__cell rebounds\">12</td><td class=\"vbw-o-table__cell average-per-match\">1.50</td><td class=\"vbw-o-table__cell success-perc\">-21.74</td><td class=\"vbw-o-table__cell total-attempts\">23</td></tr><tr class=\"vbw-o-table__row vbw-o-table__row--scorer vbw-stats-player-1\" data-player-no=\"151390\"><td class=\"vbw-o-table__cell shirtnumber\">1</td><td class=\"vbw-o-table__cell playername\">Å tern TonÄek</td><td class=\"vbw-o-table__cell federation\">SLO</td><td class=\"vbw-o-table__cell stuff-blocks\">3</td><td class=\"vbw-o-table__cell faults\">13</td><td class=\"vbw-o-table__cell rebounds\">3</td><td class=\"vbw-o-table__cell average-per-match\">1.50</td><td class=\"vbw-o-table__cell success-perc\">-52.63</td><td class=\"vbw-o-table__cell total-attempts\">19</td></tr><tr class=\"vbw-o-table__row vbw-o-table__row--scorer vbw-stats-player-16\" data-player-no=\"116081\"><td class=\"vbw-o-table__cell shirtnumber\">16</td><td class=\"vbw-o-table__cell playername\">Saatkamp Lucas</td><td class=\"vbw-o-table__cell federation\">BRA</td><td class=\"vbw-o-table__cell stuff-blocks\">2</td><td class=\"vbw-o-table__cell faults\">3</td><td class=\"vbw-o-table__cell rebounds\">5</td><td class=\"vbw-o-table__cell average-per-match\">1.00</td><td class=\"vbw-o-table__cell success-perc\">-10.00</td><td class=\"vbw-o-table__cell total-attempts\">10</td></tr><tr class=\"vbw-o-table__row vbw-o-table__row--scorer vbw-stats-player-17\" data-player-no=\"132948\"><td class=\"vbw-o-table__cell shirtnumber\">17</td><td class=\"vbw-o-table__cell playername\">Clevenot Trevor</td><td class=\"vbw-o-table__cell federation\">FRA</td><td class=\"vbw-o-table__cell stuff-blocks\">2</td><td class=\"vbw-o-table__cell faults\">5</td><td class=\"vbw-o-table__cell rebounds\">1</td><td class=\"vbw-o-table__cell average-per-match\">1.00</td><td class=\"vbw-o-table__cell success-perc\">-37.50</td><td class=\"vbw-o-table__cell total-attempts\">8</td></tr><tr class=\"vbw-o-table__row vbw-o-table__row--scorer vbw-stats-player-9\" data-player-no=\"119646\"><td class=\"vbw-o-table__cell shirtnumber\">9</td><td class=\"vbw-o-table__cell playername\">Leon Venero Wilfredo</td><td class=\"vbw-o-table__cell federation\">POL</td><td class=\"vbw-o-table__cell stuff-blocks\">2</td><td class=\"vbw-o-table__cell faults\">3</td><td class=\"vbw-o-table__cell rebounds\">2</td><td class=\"vbw-o-table__cell average-per-match\">1.00</td><td class=\"vbw-o-table__cell success-perc\">-14.29</td><td class=\"vbw-o-table__cell total-attempts\">7</td></tr><tr class=\"vbw-o-table__row vbw-o-table__row--scorer vbw-stats-player-4\" data-player-no=\"151391\"><td class=\"vbw-o-table__cell shirtnumber\">4</td><td class=\"vbw-o-table__cell playername\">Kozamernik Jan</td><td class=\"vbw-o-table__cell federation\">SLO</td><td class=\"vbw-o-table__cell stuff-blocks\">2</td><td class=\"vbw-o-table__cell faults\">6</td><td class=\"vbw-o-table__cell rebounds\">2</td><td class=\"vbw-o-table__cell average-per-match\">1.00</td><td class=\"vbw-o-table__cell success-perc\">-40.00</td><td class=\"vbw-o-table__cell total-attempts\">10</td></tr><tr class=\"vbw-o-table__row vbw-o-table__row--scorer vbw-stats-player-9\" data-player-no=\"114956\"><td class=\"vbw-o-table__cell shirtnumber\">9</td><td class=\"vbw-o-table__cell playername\">Vincic Dejan</td><td class=\"vbw-o-table__cell federation\">SLO</td><td class=\"vbw-o-table__cell stuff-blocks\">2</td><td class=\"vbw-o-table__cell faults\">1</td><td class=\"vbw-o-table__cell rebounds\">1</td><td class=\"vbw-o-table__cell average-per-match\">1.00</td><td class=\"vbw-o-table__cell success-perc\">25.00</td><td class=\"vbw-o-table__cell total-attempts\">4</td></tr><tr class=\"vbw-o-table__row vbw-o-table__row--scorer vbw-stats-player-17\" data-player-no=\"114957\"><td class=\"vbw-o-table__cell shirtnumber\">17</td><td class=\"vbw-o-table__cell playername\">Urnaut Tine</td><td class=\"vbw-o-table__cell federation\">SLO</td><td class=\"vbw-o-table__cell stuff-blocks\">2</td><td class=\"vbw-o-table__cell faults\">4</td><td class=\"vbw-o-table__cell rebounds\">3</td><td class=\"vbw-o-table__cell average-per-match\">1.00</td><td class=\"vbw-o-table__cell success-perc\">-22.22</td><td class=\"vbw-o-table__cell total-attempts\">9</td></tr><tr class=\"vbw-o-table__row vbw-o-table__row--scorer vbw-stats-player-1\" data-player-no=\"116099\"><td class=\"vbw-o-table__cell shirtnumber\">1</td><td class=\"vbw-o-table__cell playername\">Rezende Bruno Mossa</td><td class=\"vbw-o-table__cell federation\">BRA</td><td class=\"vbw-o-table__cell stuff-blocks\">1</td><td class=\"vbw-o-table__cell faults\">6</td><td class=\"vbw-o-table__cell rebounds\">4</td><td class=\"vbw-o-table__cell average-per-match\">0.50</td><td class=\"vbw-o-table__cell success-perc\">-45.45</td><td class=\"vbw-o-table__cell total-attempts\">11</td></tr><tr class=\"vbw-o-table__row vbw-o-table__row--scorer vbw-stats-player-9\" data-player-no=\"118928\"><td class=\"vbw-o-table__cell shirtnumber\">9</td><td class=\"vbw-o-table__cell playername\">Leal Hidalgo Yoandy</td><td class=\"vbw-o-table__cell federation\">BRA</td><td class=\"vbw-o-table__cell stuff-blocks\">1</td><td class=\"vbw-o-table__cell faults\">3</td><td class=\"vbw-o-table__cell rebounds\">4</td><td class=\"vbw-o-table__cell average-per-match\">0.50</td><td class=\"vbw-o-table__cell success-perc\">-25.00</td><td class=\"vbw-o-table__cell total-attempts\">8</td></tr><tr class=\"vbw-o-table__row vbw-o-table__row--scorer vbw-stats-player-18\" data-player-no=\"136468\"><td class=\"vbw-o-table__cell shirtnumber\">18</td><td class=\"vbw-o-table__cell playername\">Souza Ricardo Lucarelli</td><td class=\"vbw-o-table__cell federation\">BRA</td><td class=\"vbw-o-table__cell stuff-blocks\">1</td><td class=\"vbw-o-table__cell faults\">2</td><td class=\"vbw-o-table__cell rebounds\">5</td><td class=\"vbw-o-table__cell average-per-match\">0.50</td><td class=\"vbw-o-table__cell success-perc\">-12.50</td><td class=\"vbw-o-table__cell total-attempts\">8</td></tr><tr class=\"vbw-o-table__row vbw-o-table__row--scorer vbw-stats-player-1\" data-player-no=\"152494\"><td class=\"vbw-o-table__cell shirtnumber\">1</td><td class=\"vbw-o-table__cell playername\">Chinenyeze BarthÃ©lÃ©my</td><td class=\"vbw-o-table__cell federation\">FRA</td><td class=\"vbw-o-table__cell stuff-blocks\">1</td><td class=\"vbw-o-table__cell faults\">8</td><td class=\"vbw-o-table__cell rebounds\">8</td><td class=\"vbw-o-table__cell average-per-match\">0.50</td><td class=\"vbw-o-table__cell success-perc\">-41.18</td><td class=\"vbw-o-table__cell total-attempts\">17</td></tr><tr class=\"vbw-o-table__row vbw-o-table__row--scorer vbw-stats-player-4\" data-player-no=\"142694\"><td class=\"vbw-o-table__cell shirtnumber\">4</td><td class=\"vbw-o-table__cell playername\">Patry Jean</td><td class=\"vbw-o-table__cell federation\">FRA</td><td class=\"vbw-o-table__cell stuff-blocks\">1</td><td class=\"vbw-o-table__cell faults\">5</td><td class=\"vbw-o-table__cell rebounds\">1</td><td class=\"vbw-o-table__cell average-per-match\">0.50</td><td class=\"vbw-o-table__cell success-perc\">-57.14</td><td class=\"vbw-o-table__cell total-attempts\">7</td></tr><tr class=\"vbw-o-table__row vbw-o-table__row--scorer vbw-stats-player-9\" data-player-no=\"119800\"><td class=\"vbw-o-table__cell shirtnumber\">9</td><td class=\"vbw-o-table__cell playername\">Ngapeth Earvin</td><td class=\"vbw-o-table__cell federation\">FRA</td><td class=\"vbw-o-table__cell stuff-blocks\">1</td><td class=\"vbw-o-table__cell faults\">6</td><td class=\"vbw-o-table__cell rebounds\">2</td><td class=\"vbw-o-table__cell average-per-match\">0.50</td><td class=\"vbw-o-table__cell success-perc\">-55.56</td><td class=\"vbw-o-table__cell total-attempts\">9</td></tr><tr class=\"vbw-o-table__row vbw-o-table__row--scorer vbw-stats-player-12\" data-player-no=\"142710\"><td class=\"vbw-o-table__cell shirtnumber\">12</td><td class=\"vbw-o-table__cell playername\">Boyer Stephen</td><td class=\"vbw-o-table__cell federation\">FRA</td><td class=\"vbw-o-table__cell stuff-blocks\">1</td><td class=\"vbw-o-table__cell faults\">5</td><td class=\"vbw-o-table__cell rebounds\">3</td><td class=\"vbw-o-table__cell average-per-match\">0.50</td><td class=\"vbw-o-table__cell success-perc\">-44.44</td><td class=\"vbw-o-table__cell total-attempts\">9</td></tr><tr class=\"vbw-o-table__row vbw-o-table__row--scorer vbw-stats-player-2\" data-player-no=\"114962\"><td class=\"vbw-o-table__cell shirtnumber\">2</td><td class=\"vbw-o-table__cell playername\">Pajenk Alen</td><td class=\"vbw-o-table__cell federation\">SLO</td><td class=\"vbw-o-table__cell stuff-blocks\">1</td><td class=\"vbw-o-table__cell faults\">5</td><td class=\"vbw-o-table__cell rebounds\">7</td><td class=\"vbw-o-table__cell average-per-match\">0.50</td><td class=\"vbw-o-table__cell success-perc\">-30.77</td><td class=\"vbw-o-table__cell total-attempts\">13</td></tr><tr class=\"vbw-o-table__row vbw-o-table__row--scorer vbw-stats-player-16\" data-player-no=\"119018\"><td class=\"vbw-o-table__cell shirtnumber\">16</td><td class=\"vbw-o-table__cell playername\">Ropret Gregor</td><td class=\"vbw-o-table__cell federation\">SLO</td><td class=\"vbw-o-table__cell stuff-blocks\">1</td><td class=\"vbw-o-table__cell faults\">5</td><td class=\"vbw-o-table__cell rebounds\">2</td><td class=\"vbw-o-table__cell average-per-match\">0.50</td><td class=\"vbw-o-table__cell success-perc\">-50.00</td><td class=\"vbw-o-table__cell total-attempts\">8</td></tr><tr class=\"vbw-o-table__row vbw-o-table__row--scorer vbw-stats-player-18\" data-player-no=\"136918\"><td class=\"vbw-o-table__cell shirtnumber\">18</td><td class=\"vbw-o-table__cell playername\">Äebulj Klemen</td><td class=\"vbw-o-table__cell federation\">SLO</td><td class=\"vbw-o-table__cell stuff-blocks\">1</td><td class=\"vbw-o-table__cell faults\">2</td><td class=\"vbw-o-table__cell rebounds\">5</td><td class=\"vbw-o-table__cell average-per-match\">0.50</td><td class=\"vbw-o-table__cell success-perc\">-12.50</td><td class=\"vbw-o-table__cell total-attempts\">8</td></tr><tr class=\"vbw-o-table__row vbw-o-table__row--scorer vbw-stats-player-5\" data-player-no=\"132030\"><td class=\"vbw-o-table__cell shirtnumber\">5</td><td class=\"vbw-o-table__cell playername\">Borges Almeida Silva Mauricio</td><td class=\"vbw-o-table__cell federation\">BRA</td><td class=\"vbw-o-table__cell stuff-blocks\">0</td><td class=\"vbw-o-table__cell faults\">0</td><td class=\"vbw-o-table__cell rebounds\">0</td><td class=\"vbw-o-table__cell average-per-match\"></td><td class=\"vbw-o-table__cell success-perc\"></td><td class=\"vbw-o-table__cell total-attempts\">0</td></tr><tr class=\"vbw-o-table__row vbw-o-table__row--scorer vbw-stats-player-6\" data-player-no=\"142744\"><td class=\"vbw-o-table__cell shirtnumber\">6</td><td class=\"vbw-o-table__cell playername\">Gil Kreling Fernando</td><td class=\"vbw-o-table__cell federation\">BRA</td><td class=\"vbw-o-table__cell stuff-blocks\">0</td><td class=\"vbw-o-table__cell faults\">0</td><td class=\"vbw-o-table__cell rebounds\">0</td><td class=\"vbw-o-table__cell average-per-match\"></td><td class=\"vbw-o-table__cell success-perc\"></td><td class=\"vbw-o-table__cell total-attempts\">0</td></tr><tr class=\"vbw-o-table__row vbw-o-table__row--scorer vbw-stats-player-12\" data-player-no=\"119872\"><td class=\"vbw-o-table__cell shirtnumber\">12</td><td class=\"vbw-o-table__cell playername\">Santos Isac</td><td class=\"vbw-o-table__cell federation\">BRA</td><td class=\"vbw-o-table__cell stuff-blocks\">0</td><td class=\"vbw-o-table__cell faults\">1</td><td class=\"vbw-o-table__cell rebounds\">1</td><td class=\"vbw-o-table__cell average-per-match\">0.00</td><td class=\"vbw-o-table__cell success-perc\">-50.00</td><td class=\"vbw-o-table__cell total-attempts\">2</td></tr><tr class=\"vbw-o-table__row vbw-o-table__row--scorer vbw-stats-player-14\" data-player-no=\"142741\"><td class=\"vbw-o-table__cell shirtnumber\">14</td><td class=\"vbw-o-table__cell playername\">Correia De Souza Douglas</td><td class=\"vbw-o-table__cell federation\">BRA</td><td class=\"vbw-o-table__cell stuff-blocks\">0</td><td class=\"vbw-o-table__cell faults\">0</td><td class=\"vbw-o-table__cell rebounds\">0</td><td class=\"vbw-o-table__cell average-per-match\"></td><td class=\"vbw-o-table__cell success-perc\"></td><td class=\"vbw-o-table__cell total-attempts\">0</td></tr><tr class=\"vbw-o-table__row vbw-o-table__row--scorer vbw-stats-player-15\" data-player-no=\"161939\"><td class=\"vbw-o-table__cell shirtnumber\">15</td><td class=\"vbw-o-table__cell playername\">Nascimento Maique Reis</td><td class=\"vbw-o-table__cell federation\">BRA</td><td class=\"vbw-o-table__cell stuff-blocks\">0</td><td class=\"vbw-o-table__cell faults\">0</td><td class=\"vbw-o-table__cell rebounds\">0</td><td class=\"vbw-o-table__cell average-per-match\"></td><td class=\"vbw-o-table__cell success-perc\"></td><td class=\"vbw-o-table__cell total-attempts\">0</td></tr><tr class=\"vbw-o-table__row vbw-o-table__row--scorer vbw-stats-player-17\" data-player-no=\"118916\"><td class=\"vbw-o-table__cell shirtnumber\">17</td><td class=\"vbw-o-table__cell playername\">Hoss Thales</td><td class=\"vbw-o-table__cell federation\">BRA</td><td class=\"vbw-o-table__cell stuff-blocks\">0</td><td class=\"vbw-o-table__cell faults\">0</td><td class=\"vbw-o-table__cell rebounds\">0</td><td class=\"vbw-o-table__cell average-per-match\"></td><td class=\"vbw-o-table__cell success-perc\"></td><td class=\"vbw-o-table__cell total-attempts\">0</td></tr><tr class=\"vbw-o-table__row vbw-o-table__row--scorer vbw-stats-player-21\" data-player-no=\"136947\"><td class=\"vbw-o-table__cell shirtnumber\">21</td><td class=\"vbw-o-table__cell playername\">Souza Alan</td><td class=\"vbw-o-table__cell federation\">BRA</td><td class=\"vbw-o-table__cell stuff-blocks\">0</td><td class=\"vbw-o-table__cell faults\">0</td><td class=\"vbw-o-table__cell rebounds\">0</td><td class=\"vbw-o-table__cell average-per-match\"></td><td class=\"vbw-o-table__cell success-perc\"></td><td class=\"vbw-o-table__cell total-attempts\">0</td></tr><tr class=\"vbw-o-table__row vbw-o-table__row--scorer vbw-stats-player-23\" data-player-no=\"136956\"><td class=\"vbw-o-table__cell shirtnumber\">23</td><td class=\"vbw-o-table__cell playername\">Resende Gualberto Flavio</td><td class=\"vbw-o-table__cell federation\">BRA</td><td class=\"vbw-o-table__cell stuff-blocks\">0</td><td class=\"vbw-o-table__cell faults\">0</td><td class=\"vbw-o-table__cell rebounds\">0</td><td class=\"vbw-o-table__cell average-per-match\"></td><td class=\"vbw-o-table__cell success-perc\"></td><td class=\"vbw-o-table__cell total-attempts\">0</td></tr><tr class=\"vbw-o-table__row vbw-o-table__row--scorer vbw-stats-player-2\" data-player-no=\"119792\"><td class=\"vbw-o-table__cell shirtnumber\">2</td><td class=\"vbw-o-table__cell playername\">Grebennikov Jenia</td><td class=\"vbw-o-table__cell federation\">FRA</td><td class=\"vbw-o-table__cell stuff-blocks\">0</td><td class=\"vbw-o-table__cell faults\">0</td><td class=\"vbw-o-table__cell rebounds\">0</td><td class=\"vbw-o-table__cell average-per-match\"></td><td class=\"vbw-o-table__cell success-perc\"></td><td class=\"vbw-o-table__cell total-attempts\">0</td></tr><tr class=\"vbw-o-table__row vbw-o-table__row--scorer vbw-stats-player-6\" data-player-no=\"119804\"><td class=\"vbw-o-table__cell shirtnumber\">6</td><td class=\"vbw-o-table__cell playername\">Toniutti Benjamin</td><td class=\"vbw-o-table__cell federation\">FRA</td><td class=\"vbw-o-table__cell stuff-blocks\">0</td><td class=\"vbw-o-table__cell faults\">0</td><td class=\"vbw-o-table__cell rebounds\">0</td><td class=\"vbw-o-table__cell average-per-match\"></td><td class=\"vbw-o-table__cell success-perc\"></td><td class=\"vbw-o-table__cell total-attempts\">0</td></tr><tr class=\"vbw-o-table__row vbw-o-table__row--scorer vbw-stats-player-7\" data-player-no=\"124518\"><td class=\"vbw-o-table__cell shirtnumber\">7</td><td class=\"vbw-o-table__cell playername\">Tillie Kevin</td><td class=\"vbw-o-table__cell federation\">FRA</td><td class=\"vbw-o-table__cell stuff-blocks\">0</td><td class=\"vbw-o-table__cell faults\">0</td><td class=\"vbw-o-table__cell rebounds\">0</td><td class=\"vbw-o-table__cell average-per-match\"></td><td class=\"vbw-o-table__cell success-perc\"></td><td class=\"vbw-o-table__cell total-attempts\">0</td></tr><tr class=\"vbw-o-table__row vbw-o-table__row--scorer vbw-stats-player-16\" data-player-no=\"142677\"><td class=\"vbw-o-table__cell shirtnumber\">16</td><td class=\"vbw-o-table__cell playername\">Bultor Daryl</td><td class=\"vbw-o-table__cell federation\">FRA</td><td class=\"vbw-o-table__cell stuff-blocks\">0</td><td class=\"vbw-o-table__cell faults\">0</td><td class=\"vbw-o-table__cell rebounds\">0</td><td class=\"vbw-o-table__cell average-per-match\"></td><td class=\"vbw-o-table__cell success-perc\"></td><td class=\"vbw-o-table__cell total-attempts\">0</td></tr><tr class=\"vbw-o-table__row vbw-o-table__row--scorer vbw-stats-player-19\" data-player-no=\"120735\"><td class=\"vbw-o-table__cell shirtnumber\">19</td><td class=\"vbw-o-table__cell playername\">Louati Yacine</td><td class=\"vbw-o-table__cell federation\">FRA</td><td class=\"vbw-o-table__cell stuff-blocks\">0</td><td class=\"vbw-o-table__cell faults\">0</td><td class=\"vbw-o-table__cell rebounds\">0</td><td class=\"vbw-o-table__cell average-per-match\"></td><td class=\"vbw-o-table__cell success-perc\"></td><td class=\"vbw-o-table__cell total-attempts\">0</td></tr><tr class=\"vbw-o-table__row vbw-o-table__row--scorer vbw-stats-player-20\" data-player-no=\"152506\"><td class=\"vbw-o-table__cell shirtnumber\">20</td><td class=\"vbw-o-table__cell playername\">Diez Benjamin</td><td class=\"vbw-o-table__cell federation\">FRA</td><td class=\"vbw-o-table__cell stuff-blocks\">0</td><td class=\"vbw-o-table__cell faults\">0</td><td class=\"vbw-o-table__cell rebounds\">0</td><td class=\"vbw-o-table__cell average-per-match\"></td><td class=\"vbw-o-table__cell success-perc\"></td><td class=\"vbw-o-table__cell total-attempts\">0</td></tr><tr class=\"vbw-o-table__row vbw-o-table__row--scorer vbw-stats-player-24\" data-player-no=\"181197\"><td class=\"vbw-o-table__cell shirtnumber\">24</td><td class=\"vbw-o-table__cell playername\">Gueye Mousse</td><td class=\"vbw-o-table__cell federation\">FRA</td><td class=\"vbw-o-table__cell stuff-blocks\">0</td><td class=\"vbw-o-table__cell faults\">0</td><td class=\"vbw-o-table__cell rebounds\">0</td><td class=\"vbw-o-table__cell average-per-match\"></td><td class=\"vbw-o-table__cell success-perc\"></td><td class=\"vbw-o-table__cell total-attempts\">0</td></tr><tr class=\"vbw-o-table__row vbw-o-table__row--scorer vbw-stats-player-5\" data-player-no=\"162105\"><td class=\"vbw-o-table__cell shirtnumber\">5</td><td class=\"vbw-o-table__cell playername\">Kaczmarek Lukasz</td><td class=\"vbw-o-table__cell federation\">POL</td><td class=\"vbw-o-table__cell stuff-blocks\">0</td><td class=\"vbw-o-table__cell faults\">0</td><td class=\"vbw-o-table__cell rebounds\">1</td><td class=\"vbw-o-table__cell average-per-match\">0.00</td><td class=\"vbw-o-table__cell success-perc\">0.00</td><td class=\"vbw-o-table__cell total-attempts\">1</td></tr><tr class=\"vbw-o-table__row vbw-o-table__row--scorer vbw-stats-player-10\" data-player-no=\"135322\"><td class=\"vbw-o-table__cell shirtnumber\">10</td><td class=\"vbw-o-table__cell playername\">Wojtaszek Damian</td><td class=\"vbw-o-table__cell federation\">POL</td><td class=\"vbw-o-table__cell stuff-blocks\">0</td><td class=\"vbw-o-table__cell faults\">0</td><td class=\"vbw-o-table__cell rebounds\">0</td><td class=\"vbw-o-table__cell average-per-match\"></td><td class=\"vbw-o-table__cell success-perc\"></td><td class=\"vbw-o-table__cell total-attempts\">0</td></tr><tr class=\"vbw-o-table__row vbw-o-table__row--scorer vbw-stats-player-12\" data-player-no=\"115794\"><td class=\"vbw-o-table__cell shirtnumber\">12</td><td class=\"vbw-o-table__cell playername\">Lomacz Grzegorz</td><td class=\"vbw-o-table__cell federation\">POL</td><td class=\"vbw-o-table__cell stuff-blocks\">0</td><td class=\"vbw-o-table__cell faults\">0</td><td class=\"vbw-o-table__cell rebounds\">0</td><td class=\"vbw-o-table__cell average-per-match\"></td><td class=\"vbw-o-table__cell success-perc\"></td><td class=\"vbw-o-table__cell total-attempts\">0</td></tr><tr class=\"vbw-o-table__row vbw-o-table__row--scorer vbw-stats-player-14\" data-player-no=\"142679\"><td class=\"vbw-o-table__cell shirtnumber\">14</td><td class=\"vbw-o-table__cell playername\">Sliwka Aleksander</td><td class=\"vbw-o-table__cell federation\">POL</td><td class=\"vbw-o-table__cell stuff-blocks\">0</td><td class=\"vbw-o-table__cell faults\">1</td><td class=\"vbw-o-table__cell rebounds\">0</td><td class=\"vbw-o-table__cell average-per-match\">0.00</td><td class=\"vbw-o-table__cell success-perc\">-100.00</td><td class=\"vbw-o-table__cell total-attempts\">1</td></tr><tr class=\"vbw-o-table__row vbw-o-table__row--scorer vbw-stats-player-15\" data-player-no=\"152870\"><td class=\"vbw-o-table__cell shirtnumber\">15</td><td class=\"vbw-o-table__cell playername\">Kochanowski Jakub</td><td class=\"vbw-o-table__cell federation\">POL</td><td class=\"vbw-o-table__cell stuff-blocks\">0</td><td class=\"vbw-o-table__cell faults\">1</td><td class=\"vbw-o-table__cell rebounds\">2</td><td class=\"vbw-o-table__cell average-per-match\">0.00</td><td class=\"vbw-o-table__cell success-perc\">-33.33</td><td class=\"vbw-o-table__cell total-attempts\">3</td></tr><tr class=\"vbw-o-table__row vbw-o-table__row--scorer vbw-stats-player-16\" data-player-no=\"153395\"><td class=\"vbw-o-table__cell shirtnumber\">16</td><td class=\"vbw-o-table__cell playername\">Semeniuk Kamil</td><td class=\"vbw-o-table__cell federation\">POL</td><td class=\"vbw-o-table__cell stuff-blocks\">0</td><td class=\"vbw-o-table__cell faults\">2</td><td class=\"vbw-o-table__cell rebounds\">1</td><td class=\"vbw-o-table__cell average-per-match\">0.00</td><td class=\"vbw-o-table__cell success-perc\">-66.67</td><td class=\"vbw-o-table__cell total-attempts\">3</td></tr><tr class=\"vbw-o-table__row vbw-o-table__row--scorer vbw-stats-player-17\" data-player-no=\"118614\"><td class=\"vbw-o-table__cell shirtnumber\">17</td><td class=\"vbw-o-table__cell playername\">Zatorski Pawel</td><td class=\"vbw-o-table__cell federation\">POL</td><td class=\"vbw-o-table__cell stuff-blocks\">0</td><td class=\"vbw-o-table__cell faults\">0</td><td class=\"vbw-o-table__cell rebounds\">0</td><td class=\"vbw-o-table__cell average-per-match\"></td><td class=\"vbw-o-table__cell success-perc\"></td><td class=\"vbw-o-table__cell total-attempts\">0</td></tr><tr class=\"vbw-o-table__row vbw-o-table__row--scorer vbw-stats-player-21\" data-player-no=\"152866\"><td class=\"vbw-o-table__cell shirtnumber\">21</td><td class=\"vbw-o-table__cell playername\">Fornal Tomasz</td><td class=\"vbw-o-table__cell federation\">POL</td><td class=\"vbw-o-table__cell stuff-blocks\">0</td><td class=\"vbw-o-table__cell faults\">0</td><td class=\"vbw-o-table__cell rebounds\">0</td><td class=\"vbw-o-table__cell average-per-match\"></td><td class=\"vbw-o-table__cell success-perc\"></td><td class=\"vbw-o-table__cell total-attempts\">0</td></tr><tr class=\"vbw-o-table__row vbw-o-table__row--scorer vbw-stats-player-5\" data-player-no=\"119022\"><td class=\"vbw-o-table__cell shirtnumber\">5</td><td class=\"vbw-o-table__cell playername\">Å ket Alen</td><td class=\"vbw-o-table__cell federation\">SLO</td><td class=\"vbw-o-table__cell stuff-blocks\">0</td><td class=\"vbw-o-table__cell faults\">0</td><td class=\"vbw-o-table__cell rebounds\">0</td><td class=\"vbw-o-table__cell average-per-match\"></td><td class=\"vbw-o-table__cell success-perc\"></td><td class=\"vbw-o-table__cell total-attempts\">0</td></tr><tr class=\"vbw-o-table__row vbw-o-table__row--scorer vbw-stats-player-6\" data-player-no=\"114952\"><td class=\"vbw-o-table__cell shirtnumber\">6</td><td class=\"vbw-o-table__cell playername\">Gasparini Mitja</td><td class=\"vbw-o-table__cell federation\">SLO</td><td class=\"vbw-o-table__cell stuff-blocks\">0</td><td class=\"vbw-o-table__cell faults\">0</td><td class=\"vbw-o-table__cell rebounds\">0</td><td class=\"vbw-o-table__cell average-per-match\"></td><td class=\"vbw-o-table__cell success-perc\"></td><td class=\"vbw-o-table__cell total-attempts\">0</td></tr><tr class=\"vbw-o-table__row vbw-o-table__row--scorer vbw-stats-player-11\" data-player-no=\"155920\"><td class=\"vbw-o-table__cell shirtnumber\">11</td><td class=\"vbw-o-table__cell playername\">Å tern Å½iga</td><td class=\"vbw-o-table__cell federation\">SLO</td><td class=\"vbw-o-table__cell stuff-blocks\">0</td><td class=\"vbw-o-table__cell faults\">0</td><td class=\"vbw-o-table__cell rebounds\">0</td><td class=\"vbw-o-table__cell average-per-match\"></td><td class=\"vbw-o-table__cell success-perc\"></td><td class=\"vbw-o-table__cell total-attempts\">0</td></tr><tr class=\"vbw-o-table__row vbw-o-table__row--scorer vbw-stats-player-12\" data-player-no=\"154546\"><td class=\"vbw-o-table__cell shirtnumber\">12</td><td class=\"vbw-o-table__cell playername\">Klobucar Jan</td><td class=\"vbw-o-table__cell federation\">SLO</td><td class=\"vbw-o-table__cell stuff-blocks\">0</td><td class=\"vbw-o-table__cell faults\">0</td><td class=\"vbw-o-table__cell rebounds\">0</td><td class=\"vbw-o-table__cell average-per-match\"></td><td class=\"vbw-o-table__cell success-perc\"></td><td class=\"vbw-o-table__cell total-attempts\">0</td></tr><tr class=\"vbw-o-table__row vbw-o-table__row--scorer vbw-stats-player-13\" data-player-no=\"144415\"><td class=\"vbw-o-table__cell shirtnumber\">13</td><td class=\"vbw-o-table__cell playername\">KovaÄiÄ Jani</td><td class=\"vbw-o-table__cell federation\">SLO</td><td class=\"vbw-o-table__cell stuff-blocks\">0</td><td class=\"vbw-o-table__cell faults\">0</td><td class=\"vbw-o-table__cell rebounds\">0</td><td class=\"vbw-o-table__cell average-per-match\"></td><td class=\"vbw-o-table__cell success-perc\"></td><td class=\"vbw-o-table__cell total-attempts\">0</td></tr><tr class=\"vbw-o-table__row vbw-o-table__row--scorer vbw-stats-player-15\" data-player-no=\"161754\"><td class=\"vbw-o-table__cell shirtnumber\">15</td><td class=\"vbw-o-table__cell playername\">VideÄnik Matic</td><td class=\"vbw-o-table__cell federation\">SLO</td><td class=\"vbw-o-table__cell stuff-blocks\">0</td><td class=\"vbw-o-table__cell faults\">0</td><td class=\"vbw-o-table__cell rebounds\">0</td><td class=\"vbw-o-table__cell average-per-match\"></td><td class=\"vbw-o-table__cell success-perc\"></td><td class=\"vbw-o-table__cell total-attempts\">0</td></tr><tr class=\"vbw-o-table__row vbw-o-table__row--scorer vbw-stats-player-19\" data-player-no=\"168747\"><td class=\"vbw-o-table__cell shirtnumber\">19</td><td class=\"vbw-o-table__cell playername\">MoÅ¾iÄ Rok</td><td class=\"vbw-o-table__cell federation\">SLO</td><td class=\"vbw-o-table__cell stuff-blocks\">0</td><td class=\"vbw-o-table__cell faults\">0</td><td class=\"vbw-o-table__cell rebounds\">0</td><td class=\"vbw-o-table__cell average-per-match\"></td><td class=\"vbw-o-table__cell success-perc\"></td><td class=\"vbw-o-table__cell total-attempts\">0</td></tr><tr class=\"vbw-o-table__row vbw-o-table__row--scorer vbw-stats-player-10\" data-player-no=\"151404\"><td class=\"vbw-o-table__cell shirtnumber\">10</td><td class=\"vbw-o-table__cell playername\">Å talekar SaÅ¡o</td><td class=\"vbw-o-table__cell federation\">SLO</td><td class=\"vbw-o-table__cell stuff-blocks\">0</td><td class=\"vbw-o-table__cell faults\">0</td><td class=\"vbw-o-table__cell rebounds\">0</td><td class=\"vbw-o-table__cell average-per-match\"></td><td class=\"vbw-o-table__cell success-perc\"></td><td class=\"vbw-o-table__cell total-attempts\">0</td></tr><tr class=\"vbw-o-table__row vbw-o-table__row--scorer vbw-stats-player-99\" data-player-no=\"152869\"><td class=\"vbw-o-table__cell shirtnumber\">99</td><td class=\"vbw-o-table__cell playername\">Huber Norbert</td><td class=\"vbw-o-table__cell federation\">POL</td><td class=\"vbw-o-table__cell stuff-blocks\">0</td><td class=\"vbw-o-table__cell faults\">0</td><td class=\"vbw-o-table__cell rebounds\">0</td><td class=\"vbw-o-table__cell average-per-match\"></td><td class=\"vbw-o-table__cell success-perc\"></td><td class=\"vbw-o-table__cell total-attempts\">0</td></tr></tbody></table>"
      ]
     },
     "execution_count": 107,
     "metadata": {},
     "output_type": "execute_result"
    }
   ],
   "source": [
    "table"
   ]
  },
  {
   "cell_type": "code",
   "execution_count": 16,
   "metadata": {},
   "outputs": [],
   "source": [
    "table_head = [i.text.strip() for i in table.select(\"thead span.full-text\")]"
   ]
  },
  {
   "cell_type": "code",
   "execution_count": 17,
   "metadata": {},
   "outputs": [
    {
     "data": {
      "text/plain": [
       "['Shirt Number',\n",
       " 'Player Name',\n",
       " 'Team',\n",
       " 'Blocks',\n",
       " 'Errors',\n",
       " 'Rebounds',\n",
       " 'Average per match',\n",
       " 'Efficiency %',\n",
       " 'Total']"
      ]
     },
     "execution_count": 17,
     "metadata": {},
     "output_type": "execute_result"
    }
   ],
   "source": [
    "table_head"
   ]
  },
  {
   "cell_type": "code",
   "execution_count": 18,
   "metadata": {},
   "outputs": [],
   "source": [
    "all_data = []\n",
    "for i in table.select(\"tbody > tr.vbw-o-table__row--scorer\"):\n",
    "    values = [j.text for j in i.select('td')]\n",
    "    dict_values = dict(zip(table_head,values))\n",
    "    all_data.append(dict_values)"
   ]
  },
  {
   "cell_type": "code",
   "execution_count": null,
   "metadata": {},
   "outputs": [],
   "source": [
    "all_data"
   ]
  },
  {
   "cell_type": "code",
   "execution_count": null,
   "metadata": {},
   "outputs": [],
   "source": [
    "df = pd.DataFrame(all_data)\n",
    "df\n"
   ]
  },
  {
   "cell_type": "code",
   "execution_count": null,
   "metadata": {},
   "outputs": [],
   "source": [
    "soup_list"
   ]
  },
  {
   "cell_type": "code",
   "execution_count": 41,
   "metadata": {},
   "outputs": [
    {
     "data": {
      "text/plain": [
       "['Shirt Number']"
      ]
     },
     "execution_count": 41,
     "metadata": {},
     "output_type": "execute_result"
    }
   ],
   "source": [
    "table_head"
   ]
  },
  {
   "cell_type": "code",
   "execution_count": null,
   "metadata": {},
   "outputs": [],
   "source": [
    "soup_grp = [item['soup'] for item in soup_list]\n",
    "tables = []\n",
    "\n",
    "for soup in soup_grp:\n",
    "    table = soup.select_one('#main-content > section:nth-child(3) > div > div > div > div > div > table')\n",
    "    if table:\n",
    "        tables.append(table)\n",
    "\n",
    "tables\n",
    "\n"
   ]
  },
  {
   "cell_type": "code",
   "execution_count": 142,
   "metadata": {},
   "outputs": [
    {
     "ename": "AttributeError",
     "evalue": "'list' object has no attribute 'find_all'",
     "output_type": "error",
     "traceback": [
      "\u001b[1;31m---------------------------------------------------------------------------\u001b[0m",
      "\u001b[1;31mAttributeError\u001b[0m                            Traceback (most recent call last)",
      "\u001b[1;32mc:\\Users\\estev\\OneDrive\\Desktop\\DISCIPLINA PYTHON GUSTAVO\\SCRIPTS AULAS\\MEN'S VNL 2021.ipynb Cell 17\u001b[0m line \u001b[0;36m7\n\u001b[0;32m      <a href='vscode-notebook-cell:/c%3A/Users/estev/OneDrive/Desktop/DISCIPLINA%20PYTHON%20GUSTAVO/SCRIPTS%20AULAS/MEN%27S%20VNL%202021.ipynb#X30sZmlsZQ%3D%3D?line=2'>3</a>\u001b[0m     tb \u001b[39m=\u001b[39m [cell\u001b[39m.\u001b[39mtext\u001b[39m.\u001b[39mstrip() \u001b[39mfor\u001b[39;00m cell \u001b[39min\u001b[39;00m table\u001b[39m.\u001b[39mfind_all(\u001b[39m'\u001b[39m\u001b[39mtd\u001b[39m\u001b[39m'\u001b[39m)]\n\u001b[0;32m      <a href='vscode-notebook-cell:/c%3A/Users/estev/OneDrive/Desktop/DISCIPLINA%20PYTHON%20GUSTAVO/SCRIPTS%20AULAS/MEN%27S%20VNL%202021.ipynb#X30sZmlsZQ%3D%3D?line=3'>4</a>\u001b[0m     tabelas\u001b[39m.\u001b[39mappend(tb)\n\u001b[1;32m----> <a href='vscode-notebook-cell:/c%3A/Users/estev/OneDrive/Desktop/DISCIPLINA%20PYTHON%20GUSTAVO/SCRIPTS%20AULAS/MEN%27S%20VNL%202021.ipynb#X30sZmlsZQ%3D%3D?line=6'>7</a>\u001b[0m table_head \u001b[39m=\u001b[39m [th\u001b[39m.\u001b[39mtext\u001b[39m.\u001b[39mstrip() \u001b[39mfor\u001b[39;00m th \u001b[39min\u001b[39;00m soup_grp\u001b[39m.\u001b[39;49mfind_all[\u001b[39m'\u001b[39m\u001b[39mthead\u001b[39m\u001b[39m'\u001b[39m]]\n\u001b[0;32m      <a href='vscode-notebook-cell:/c%3A/Users/estev/OneDrive/Desktop/DISCIPLINA%20PYTHON%20GUSTAVO/SCRIPTS%20AULAS/MEN%27S%20VNL%202021.ipynb#X30sZmlsZQ%3D%3D?line=7'>8</a>\u001b[0m table_head\n",
      "\u001b[1;31mAttributeError\u001b[0m: 'list' object has no attribute 'find_all'"
     ]
    }
   ],
   "source": [
    "tabelas =[]\n",
    "for table in tables:\n",
    "    tb = [cell.text.strip() for cell in table.find_all('td')]\n",
    "    tabelas.append(tb)\n",
    "    \n",
    "\n",
    "table_head = [th.text.strip() for th in soup_grp.find_all['thead']]\n",
    "table_head\n"
   ]
  },
  {
   "cell_type": "code",
   "execution_count": 138,
   "metadata": {},
   "outputs": [
    {
     "ename": "AttributeError",
     "evalue": "'list' object has no attribute 'find'",
     "output_type": "error",
     "traceback": [
      "\u001b[1;31m---------------------------------------------------------------------------\u001b[0m",
      "\u001b[1;31mAttributeError\u001b[0m                            Traceback (most recent call last)",
      "\u001b[1;32mc:\\Users\\estev\\OneDrive\\Desktop\\DISCIPLINA PYTHON GUSTAVO\\SCRIPTS AULAS\\MEN'S VNL 2021.ipynb Cell 18\u001b[0m line \u001b[0;36m1\n\u001b[1;32m----> <a href='vscode-notebook-cell:/c%3A/Users/estev/OneDrive/Desktop/DISCIPLINA%20PYTHON%20GUSTAVO/SCRIPTS%20AULAS/MEN%27S%20VNL%202021.ipynb#X31sZmlsZQ%3D%3D?line=0'>1</a>\u001b[0m table_head \u001b[39m=\u001b[39m [th\u001b[39m.\u001b[39mtext\u001b[39m.\u001b[39mstrip() \u001b[39mfor\u001b[39;00m th \u001b[39min\u001b[39;00m tabelas\u001b[39m.\u001b[39;49mfind[\u001b[39m'\u001b[39m\u001b[39mthead\u001b[39m\u001b[39m'\u001b[39m]]\n\u001b[0;32m      <a href='vscode-notebook-cell:/c%3A/Users/estev/OneDrive/Desktop/DISCIPLINA%20PYTHON%20GUSTAVO/SCRIPTS%20AULAS/MEN%27S%20VNL%202021.ipynb#X31sZmlsZQ%3D%3D?line=1'>2</a>\u001b[0m table_head\n",
      "\u001b[1;31mAttributeError\u001b[0m: 'list' object has no attribute 'find'"
     ]
    }
   ],
   "source": []
  },
  {
   "cell_type": "code",
   "execution_count": 143,
   "metadata": {},
   "outputs": [],
   "source": [
    "all_data = []\n",
    "soup_grp = [item['soup'] for item in soup_list]\n",
    "\n",
    "for soup in soup_grp:\n",
    "    tables = soup.find_all('table')\n",
    "    \n",
    "    for table in tables:\n",
    "        table_head = [th.text.strip() for th in table.select(\"thead span.full-text\")]\n",
    "        data = []\n",
    "\n",
    "        for row in table.select(\"tbody > tr.vbw-o-table__row--scorer\"):\n",
    "            values = [cell.text for cell in row.select('td')]\n",
    "            dict_values = dict(zip(table_head, values))\n",
    "            data.append(dict_values)\n",
    "\n",
    "        all_data.append({'headers': table_head, 'content': data})\n",
    "    \n",
    "\n"
   ]
  },
  {
   "cell_type": "code",
   "execution_count": 167,
   "metadata": {},
   "outputs": [],
   "source": [
    "VNL_MEN_2021 = []\n",
    "soup_grp = [item['soup'] for item in soup_list]\n",
    "\n",
    "for soup in soup_grp:\n",
    "    tables = soup.find_all('table')\n",
    "    \n",
    "    for table in tables:\n",
    "        table_head = [th.text.strip() for th in table.select(\"thead span.full-text\")]\n",
    "        data = []\n",
    "\n",
    "        for row in table.select(\"tbody > tr.vbw-o-table__row--scorer\"):\n",
    "            values = [cell.text for cell in row.select('td')]\n",
    "            dict_values = dict(zip(table_head, values))\n",
    "            data.append(dict_values)\n",
    "\n",
    "        VNL_MEN_2021.append(data)\n",
    "\n",
    "\n",
    "    "
   ]
  },
  {
   "cell_type": "code",
   "execution_count": 168,
   "metadata": {},
   "outputs": [],
   "source": [
    "import json\n",
    "with open('VNL_MEN_2021.json', 'w') as json_file:\n",
    "    json.dump(VNL_MEN_2021, json_file)"
   ]
  },
  {
   "cell_type": "code",
   "execution_count": 165,
   "metadata": {},
   "outputs": [
    {
     "data": {
      "text/plain": [
       "{'Shirt Number': '9',\n",
       " 'Player Name': 'Leal Hidalgo Yoandy',\n",
       " 'Team': 'BRA',\n",
       " 'Points': '34',\n",
       " 'Errors': '5',\n",
       " 'Attempts': '23',\n",
       " 'Average per match': '17.00',\n",
       " 'Success %': '54.84',\n",
       " 'Total': '62'}"
      ]
     },
     "execution_count": 165,
     "metadata": {},
     "output_type": "execute_result"
    }
   ],
   "source": [
    "\n",
    "with open('all_data.json', 'r') as json_file:\n",
    "    data = json.load(json_file)\n",
    "\n",
    "\n"
   ]
  }
 ],
 "metadata": {
  "kernelspec": {
   "display_name": "Python 3",
   "language": "python",
   "name": "python3"
  },
  "language_info": {
   "codemirror_mode": {
    "name": "ipython",
    "version": 3
   },
   "file_extension": ".py",
   "mimetype": "text/x-python",
   "name": "python",
   "nbconvert_exporter": "python",
   "pygments_lexer": "ipython3",
   "version": "3.11.3"
  }
 },
 "nbformat": 4,
 "nbformat_minor": 2
}
