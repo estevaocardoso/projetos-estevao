{
 "cells": [
  {
   "cell_type": "code",
   "execution_count": null,
   "metadata": {},
   "outputs": [],
   "source": [
    "item_menu = \"arroz\"\n",
    "\n",
    "print (f\"O cardápio hoje é {item_menu}\")\n"
   ]
  },
  {
   "cell_type": "code",
   "execution_count": null,
   "metadata": {},
   "outputs": [],
   "source": [
    "item = \"arroz\"\n",
    "age = 15\n",
    "actual_age = 15.5\n",
    "\n",
    "type(age)"
   ]
  },
  {
   "cell_type": "code",
   "execution_count": null,
   "metadata": {},
   "outputs": [],
   "source": [
    "club = input(\"type the club's name: \")\n",
    "coach = input(\"type the coach's name\")\n",
    "city = input(\"type the city's name\")\n",
    "\n",
    "print(f\"the {club} has {coach} as its coach and it is  located at the city of {city}\")"
   ]
  },
  {
   "cell_type": "code",
   "execution_count": null,
   "metadata": {},
   "outputs": [],
   "source": [
    "list = ['KDB', 'EHL', 'BSL']\n",
    "list.append('FOLD')\n",
    "list"
   ]
  },
  {
   "cell_type": "code",
   "execution_count": null,
   "metadata": {},
   "outputs": [],
   "source": [
    "del(list)"
   ]
  },
  {
   "cell_type": "code",
   "execution_count": null,
   "metadata": {},
   "outputs": [],
   "source": [
    "tupla = (1, 2, 3, 4, 5)\n",
    "lista = list(tupla)\n",
    "serie = list(range(200, 5000))"
   ]
  },
  {
   "cell_type": "code",
   "execution_count": null,
   "metadata": {},
   "outputs": [],
   "source": [
    "phrase = \"the manchester city club has been scouting new players around the globe, especially in south america region given the recent good players who came up from that\""
   ]
  },
  {
   "cell_type": "code",
   "execution_count": null,
   "metadata": {},
   "outputs": [],
   "source": [
    "list_phrase = phrase.split(sep=' ')\n",
    "print(list_phrase)"
   ]
  },
  {
   "cell_type": "code",
   "execution_count": null,
   "metadata": {},
   "outputs": [],
   "source": [
    "clubs: list[str] = ['Manchester CIty', 'Liverpool', 'Barcelona', 'Chelsea', 'Arsenal', 'New Castle']\n",
    "clubs_copy: list[str] = clubs.copy()\n",
    "brazilian_clubs: list[str] = ['Flamengo', 'Grêmio', 'Palmeiras', 'Cruzeiro']\n",
    "\n",
    "clubs.extend(brazilian_clubs)\n",
    "print(clubs)"
   ]
  },
  {
   "cell_type": "code",
   "execution_count": null,
   "metadata": {},
   "outputs": [],
   "source": [
    "other_clubs: list[str] = ['Bayern', 'Juventus', 'Real Madrid', 'São Paulo', 'Vitória', 'Santos']\n",
    "\n",
    "clubs.extend(other_clubs)\n",
    "print(clubs)\n",
    "\n"
   ]
  },
  {
   "cell_type": "code",
   "execution_count": null,
   "metadata": {},
   "outputs": [],
   "source": [
    "upper_club = []\n",
    "for club in clubs:\n",
    "    club = club.upper()\n",
    "    upper_club.append(club)\n",
    "print(upper_club)\n"
   ]
  },
  {
   "cell_type": "code",
   "execution_count": null,
   "metadata": {},
   "outputs": [],
   "source": [
    "upper_club = [club.upper() for club in clubs ]\n",
    "print(upper_club)"
   ]
  },
  {
   "cell_type": "code",
   "execution_count": null,
   "metadata": {},
   "outputs": [],
   "source": [
    "new_clubbs = ''.join([i if i.islower() else \" \" + i for i in clubs])[1:]\n",
    "print(new_clubbs)"
   ]
  },
  {
   "cell_type": "code",
   "execution_count": null,
   "metadata": {},
   "outputs": [],
   "source": [
    "clubs.reverse()\n"
   ]
  },
  {
   "cell_type": "code",
   "execution_count": null,
   "metadata": {},
   "outputs": [],
   "source": [
    "club_dict = {\n",
    "    'Arsenal': 'Havertz',\n",
    "    'City': 'Debruine',\n",
    "    'Chelsea': 'Thiago Silva',\n",
    "    'Manchester U': 'Antony',\n",
    "    'Barcelona': 'Pedri',\n",
    "    'New Castle': 'Paqueta',\n",
    "    'Real Madrid': 'Vini Junior',\n",
    "    'Bayers': 'Kane',\n",
    "    'Borusia': 'Reus',\n",
    "    'PSG': 'Mbappe'\n",
    "    }\n"
   ]
  },
  {
   "cell_type": "code",
   "execution_count": null,
   "metadata": {},
   "outputs": [],
   "source": [
    "print(club_dict)"
   ]
  },
  {
   "cell_type": "code",
   "execution_count": null,
   "metadata": {},
   "outputs": [],
   "source": [
    "club_dict = {key+' Footbal Club':value+' Player' for (key, value) in club_dict.items()}\n",
    "print(club_dict)"
   ]
  },
  {
   "cell_type": "code",
   "execution_count": null,
   "metadata": {},
   "outputs": [],
   "source": [
    "club_dict = {key:(value if value != 'Havertz Player' else 'Kai Havertz') for(key, value) in club_dict.items()}\n"
   ]
  },
  {
   "cell_type": "code",
   "execution_count": null,
   "metadata": {},
   "outputs": [],
   "source": [
    "clubs = list(club_dict.keys())\n",
    "players = list(club_dict.values())"
   ]
  },
  {
   "cell_type": "code",
   "execution_count": null,
   "metadata": {},
   "outputs": [],
   "source": [
    "import random"
   ]
  },
  {
   "cell_type": "code",
   "execution_count": null,
   "metadata": {},
   "outputs": [],
   "source": [
    "\n",
    "clubs_list = random.choices(clubs, k = 50)\n",
    "pairs_clubs_players = [(club_dict[club], club) for club in clubs_list]\n",
    "pairs_clubs_players"
   ]
  },
  {
   "cell_type": "code",
   "execution_count": null,
   "metadata": {},
   "outputs": [],
   "source": [
    "club_dict['Arsenal']"
   ]
  },
  {
   "cell_type": "code",
   "execution_count": null,
   "metadata": {},
   "outputs": [],
   "source": [
    "url = 'https://books.toscrape.com/catalogue/page-1.html'\n",
    "from bs4 import BeautifulSoup\n",
    "import requests\n",
    "import re"
   ]
  },
  {
   "cell_type": "code",
   "execution_count": null,
   "metadata": {},
   "outputs": [],
   "source": [
    "page = requests.get(url)"
   ]
  },
  {
   "cell_type": "code",
   "execution_count": null,
   "metadata": {},
   "outputs": [],
   "source": [
    "page.status_code"
   ]
  },
  {
   "cell_type": "code",
   "execution_count": null,
   "metadata": {},
   "outputs": [],
   "source": [
    "source = BeautifulSoup(page.content)"
   ]
  },
  {
   "cell_type": "code",
   "execution_count": null,
   "metadata": {},
   "outputs": [],
   "source": [
    "books = source.select('h3 > a')\n"
   ]
  },
  {
   "cell_type": "code",
   "execution_count": null,
   "metadata": {},
   "outputs": [],
   "source": [
    "list_book = []\n",
    "for i in books:\n",
    "    print('buscando livro {}'.format(i.attrs['href']))\n",
    "    book = {}\n",
    "    book_page = requests.get(f'https://books.toscrape.com/catalogue/{i.attrs[\"href\"]}')\n",
    "    source_page = BeautifulSoup(book_page.content)\n",
    "    \n",
    "    book['title'] = source_page.find('h1').text\n",
    "    book['price'] = source_page.find('p', attrs={'class':'price_color'}).text\n",
    "    book['stock'] = source_page.find('p', attrs={'class':'instock'}).text.split('(')[1].split(' ')[0]\n",
    "    book['stars'] = source_page.find('p', attrs={'class': 'star-rating'}).attrs['class'][1]\n",
    "    book['description'] = list(source_page.select('article > p'))[0].text.strip()\n",
    "    book.update(dict(zip(list(map(lambda x: x.text, source_page.find_all('th'))), list(map(lambda x: x.text, source_page.find_all('td'))))))\n",
    "    \n",
    "    list_book.append(book)\n",
    "    #print(book)\n",
    "    \n",
    "    print()\n",
    "    \n",
    "    "
   ]
  },
  {
   "cell_type": "code",
   "execution_count": null,
   "metadata": {},
   "outputs": [],
   "source": [
    "import pandas as pd\n",
    "pd.DataFrame(list_book)"
   ]
  },
  {
   "cell_type": "code",
   "execution_count": null,
   "metadata": {},
   "outputs": [],
   "source": [
    "list_book = []\n",
    "pg = 0\n",
    "while True:\n",
    "    pg += 1\n",
    "    page = requests.get(f'https://books.toscrape.com/catalogue/page-{pg}.html')\n",
    "    source_page = BeautifulSoup(book_page.content) \n",
    "    books = source.select('h3 > a')\n",
    "    \n",
    "    \n",
    "    for i in books:\n",
    "        print('PG: {} | buscando livro {}'.format(pg, i.attrs['href']))\n",
    "        book = {}\n",
    "        book_page = requests.get('https://books.toscrape.com/catalogue/'+i.attrs['href'])\n",
    "        source_page = BeautifulSoup(book_page.content)\n",
    "        \n",
    "        book['title'] = source_page.find('h1').text\n",
    "        book['price'] = source_page.find('p', attrs={'class':'price_color'}).text\n",
    "        book['stock'] = source_page.find('p', attrs={'class':'instock'}).text.split('(')[1].split(' ')[0]\n",
    "        book['stars'] = source_page.find('p', attrs={'class': 'star-rating'}).attrs['class'][1]\n",
    "        desc = source_page.select('article > p')\n",
    "\n",
    "        if desc:\n",
    "            book['description'] = desc[0].text.strip()\n",
    "        book.update(dict(zip(list(map(lambda x: x.text, source_page.find_all('th'))), list(map(lambda x: x.text, source_page.find_all('td'))))))\n",
    "        \n",
    "        list_book.append(book)\n",
    "\n",
    "    if not source.find('a', string='next'):\n",
    "        break"
   ]
  }
 ],
 "metadata": {
  "kernelspec": {
   "display_name": "Python 3",
   "language": "python",
   "name": "python3"
  },
  "language_info": {
   "codemirror_mode": {
    "name": "ipython",
    "version": 3
   },
   "file_extension": ".py",
   "mimetype": "text/x-python",
   "name": "python",
   "nbconvert_exporter": "python",
   "pygments_lexer": "ipython3",
   "version": "3.11.3"
  }
 },
 "nbformat": 4,
 "nbformat_minor": 2
}
