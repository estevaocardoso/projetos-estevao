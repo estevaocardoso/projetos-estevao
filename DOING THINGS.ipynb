{
 "cells": [
  {
   "cell_type": "code",
   "execution_count": null,
   "metadata": {},
   "outputs": [],
   "source": [
    "item_menu = \"arroz\"\n",
    "\n",
    "print (f\"O cardápio hoje é {item_menu}\")\n"
   ]
  },
  {
   "cell_type": "code",
   "execution_count": null,
   "metadata": {},
   "outputs": [],
   "source": [
    "item = \"arroz\"\n",
    "age = 15\n",
    "actual_age = 15.5\n",
    "\n",
    "type(age)"
   ]
  },
  {
   "cell_type": "code",
   "execution_count": null,
   "metadata": {},
   "outputs": [],
   "source": [
    "club = input(\"type the club's name: \")\n",
    "coach = input(\"type the coach's name\")\n",
    "city = input(\"type the city's name\")\n",
    "\n",
    "print(f\"the {club} has {coach} as its coach and it is  located at the city of {city}\")"
   ]
  },
  {
   "cell_type": "code",
   "execution_count": null,
   "metadata": {},
   "outputs": [],
   "source": [
    "list = ['KDB', 'EHL', 'BSL']\n",
    "list.append('FOLD')\n",
    "list"
   ]
  },
  {
   "cell_type": "code",
   "execution_count": null,
   "metadata": {},
   "outputs": [],
   "source": [
    "del(list)"
   ]
  },
  {
   "cell_type": "code",
   "execution_count": null,
   "metadata": {},
   "outputs": [],
   "source": [
    "tupla = (1, 2, 3, 4, 5)\n",
    "lista = list(tupla)\n",
    "serie = list(range(200, 5000))"
   ]
  },
  {
   "cell_type": "code",
   "execution_count": null,
   "metadata": {},
   "outputs": [],
   "source": [
    "phrase = \"the manchester city club has been scouting new players around the globe, especially in south america region given the recent good players who came up from that\""
   ]
  },
  {
   "cell_type": "code",
   "execution_count": null,
   "metadata": {},
   "outputs": [],
   "source": [
    "list_phrase = phrase.split(sep=' ')\n",
    "print(list_phrase)"
   ]
  },
  {
   "cell_type": "code",
   "execution_count": null,
   "metadata": {},
   "outputs": [],
   "source": [
    "clubs: list[str] = ['Manchester CIty', 'Liverpool', 'Barcelona', 'Chelsea', 'Arsenal', 'New Castle']\n",
    "clubs_copy: list[str] = clubs.copy()\n",
    "brazilian_clubs: list[str] = ['Flamengo', 'Grêmio', 'Palmeiras', 'Cruzeiro']\n",
    "\n",
    "clubs.extend(brazilian_clubs)\n",
    "print(clubs)"
   ]
  },
  {
   "cell_type": "code",
   "execution_count": null,
   "metadata": {},
   "outputs": [],
   "source": [
    "other_clubs: list[str] = ['Bayern', 'Juventus', 'Real Madrid', 'São Paulo', 'Vitória', 'Santos']\n",
    "\n",
    "clubs.extend(other_clubs)\n",
    "print(clubs)\n",
    "\n"
   ]
  },
  {
   "cell_type": "code",
   "execution_count": null,
   "metadata": {},
   "outputs": [],
   "source": [
    "upper_club = []\n",
    "for club in clubs:\n",
    "    club = club.upper()\n",
    "    upper_club.append(club)\n",
    "print(upper_club)\n"
   ]
  },
  {
   "cell_type": "code",
   "execution_count": null,
   "metadata": {},
   "outputs": [],
   "source": [
    "upper_club = [club.upper() for club in clubs ]\n",
    "print(upper_club)"
   ]
  },
  {
   "cell_type": "code",
   "execution_count": null,
   "metadata": {},
   "outputs": [],
   "source": [
    "new_clubbs = ''.join([i if i.islower() else \" \" + i for i in clubs])[1:]\n",
    "print(new_clubbs)"
   ]
  },
  {
   "cell_type": "code",
   "execution_count": null,
   "metadata": {},
   "outputs": [],
   "source": [
    "clubs.reverse()\n"
   ]
  },
  {
   "cell_type": "code",
   "execution_count": null,
   "metadata": {},
   "outputs": [],
   "source": [
    "club_dict = {\n",
    "    'Arsenal': 'Havertz',\n",
    "    'City': 'Debruine',\n",
    "    'Chelsea': 'Thiago Silva',\n",
    "    'Manchester U': 'Antony',\n",
    "    'Barcelona': 'Pedri',\n",
    "    'New Castle': 'Paqueta',\n",
    "    'Real Madrid': 'Vini Junior',\n",
    "    'Bayers': 'Kane',\n",
    "    'Borusia': 'Reus',\n",
    "    'PSG': 'Mbappe'\n",
    "    }\n"
   ]
  },
  {
   "cell_type": "code",
   "execution_count": null,
   "metadata": {},
   "outputs": [],
   "source": [
    "print(club_dict)"
   ]
  },
  {
   "cell_type": "code",
   "execution_count": null,
   "metadata": {},
   "outputs": [],
   "source": [
    "club_dict = {key+' Footbal Club':value+' Player' for (key, value) in club_dict.items()}\n",
    "print(club_dict)"
   ]
  },
  {
   "cell_type": "code",
   "execution_count": null,
   "metadata": {},
   "outputs": [],
   "source": [
    "club_dict = {key:(value if value != 'Havertz Player' else 'Kai Havertz') for(key, value) in club_dict.items()}\n"
   ]
  },
  {
   "cell_type": "code",
   "execution_count": null,
   "metadata": {},
   "outputs": [],
   "source": [
    "clubs = list(club_dict.keys())\n",
    "players = list(club_dict.values())"
   ]
  },
  {
   "cell_type": "code",
   "execution_count": null,
   "metadata": {},
   "outputs": [],
   "source": [
    "import random"
   ]
  },
  {
   "cell_type": "code",
   "execution_count": null,
   "metadata": {},
   "outputs": [],
   "source": [
    "\n",
    "clubs_list = random.choices(clubs, k = 50)\n",
    "pairs_clubs_players = [(club_dict[club], club) for club in clubs_list]\n",
    "pairs_clubs_players"
   ]
  },
  {
   "cell_type": "code",
   "execution_count": null,
   "metadata": {},
   "outputs": [],
   "source": [
    "club_dict['Arsenal']"
   ]
  },
  {
   "cell_type": "code",
   "execution_count": null,
   "metadata": {},
   "outputs": [],
   "source": [
    "url = 'https://books.toscrape.com/catalogue/page-1.html'\n",
    "from bs4 import BeautifulSoup\n",
    "import requests\n",
    "import re"
   ]
  },
  {
   "cell_type": "code",
   "execution_count": null,
   "metadata": {},
   "outputs": [],
   "source": [
    "page = requests.get(url)"
   ]
  },
  {
   "cell_type": "code",
   "execution_count": null,
   "metadata": {},
   "outputs": [],
   "source": [
    "page.status_code"
   ]
  },
  {
   "cell_type": "code",
   "execution_count": null,
   "metadata": {},
   "outputs": [],
   "source": [
    "source = BeautifulSoup(page.content)"
   ]
  },
  {
   "cell_type": "code",
   "execution_count": null,
   "metadata": {},
   "outputs": [],
   "source": [
    "books = source.select('h3 > a')\n"
   ]
  },
  {
   "cell_type": "code",
   "execution_count": null,
   "metadata": {},
   "outputs": [],
   "source": [
    "list_book = []\n",
    "for i in books:\n",
    "    print('buscando livro {}'.format(i.attrs['href']))\n",
    "    book = {}\n",
    "    book_page = requests.get(f'https://books.toscrape.com/catalogue/{i.attrs[\"href\"]}')\n",
    "    source_page = BeautifulSoup(book_page.content)\n",
    "    \n",
    "    book['title'] = source_page.find('h1').text\n",
    "    book['price'] = source_page.find('p', attrs={'class':'price_color'}).text\n",
    "    book['stock'] = source_page.find('p', attrs={'class':'instock'}).text.split('(')[1].split(' ')[0]\n",
    "    book['stars'] = source_page.find('p', attrs={'class': 'star-rating'}).attrs['class'][1]\n",
    "    book['description'] = list(source_page.select('article > p'))[0].text.strip()\n",
    "    book.update(dict(zip(list(map(lambda x: x.text, source_page.find_all('th'))), list(map(lambda x: x.text, source_page.find_all('td'))))))\n",
    "    \n",
    "    list_book.append(book)\n",
    "    #print(book)\n",
    "    \n",
    "    print()\n",
    "    \n",
    "    "
   ]
  },
  {
   "cell_type": "code",
   "execution_count": null,
   "metadata": {},
   "outputs": [],
   "source": [
    "import pandas as pd\n",
    "pd.DataFrame(list_book)"
   ]
  },
  {
   "cell_type": "code",
   "execution_count": null,
   "metadata": {},
   "outputs": [],
   "source": [
    "list_book = []\n",
    "pg = 0\n",
    "while True:\n",
    "    pg += 1\n",
    "    page = requests.get(f'https://books.toscrape.com/catalogue/page-{pg}.html')\n",
    "    source_page = BeautifulSoup(book_page.content) \n",
    "    books = source.select('h3 > a')\n",
    "    \n",
    "    \n",
    "    for i in books:\n",
    "        print('PG: {} | buscando livro {}'.format(pg, i.attrs['href']))\n",
    "        book = {}\n",
    "        book_page = requests.get('https://books.toscrape.com/catalogue/'+i.attrs['href'])\n",
    "        source_page = BeautifulSoup(book_page.content)\n",
    "        \n",
    "        book['title'] = source_page.find('h1').text\n",
    "        book['price'] = source_page.find('p', attrs={'class':'price_color'}).text\n",
    "        book['stock'] = source_page.find('p', attrs={'class':'instock'}).text.split('(')[1].split(' ')[0]\n",
    "        book['stars'] = source_page.find('p', attrs={'class': 'star-rating'}).attrs['class'][1]\n",
    "        desc = source_page.select('article > p')\n",
    "\n",
    "        if desc:\n",
    "            book['description'] = desc[0].text.strip()\n",
    "        book.update(dict(zip(list(map(lambda x: x.text, source_page.find_all('th'))), list(map(lambda x: x.text, source_page.find_all('td'))))))\n",
    "        \n",
    "        list_book.append(book)\n",
    "\n",
    "    if not source.find('a', string='next'):\n",
    "        break"
   ]
  },
  {
   "cell_type": "code",
   "execution_count": null,
   "metadata": {},
   "outputs": [],
   "source": [
    "import requests\n",
    "\n",
    "url = \"https://www.dafiti.com.br/calcados-masculinos/tenis/\"\n",
    "\n",
    "payload = {}\n",
    "headers = {\n",
    "  'authority': 'www.dafiti.com.br',\n",
    "  'accept': 'text/html,application/xhtml+xml,application/xml;q=0.9,image/avif,image/webp,image/apng,*/*;q=0.8,application/signed-exchange;v=b3;q=0.7',\n",
    "  'accept-language': 'pt-BR,pt;q=0.9,en-US;q=0.8,en;q=0.7',\n",
    "  'cache-control': 'max-age=0',\n",
    "  'cookie': 'dftab-boletopdf=1; abTestSimilar=variante A; _dy_c_exps=; _dy_c_att_exps=; abProductCampaigns=1; dftab-debit3ds=1; _dycnst=dg; _dyid=-2580562335678812526; _dycst=dk.w.c.ws.; _gcl_au=1.1.1884286422.1701208755; Zanpid=; _tt_enable_cookie=1; _ttp=IDwqc9UaC3ExsTSNNckpj3EHU6Y; _pin_unauth=dWlkPU1qQmlOMlpqTTJVdE1qUXdPQzAwWkRsa0xUZzNZMkl0WlRkbFltSTBOalk1TTJZdw; cookieconsent_status=dismiss; _gcl_aw=GCL.1701256727.Cj0KCQiA35urBhDCARIsAOU7QwnUo96SNYhvvnK0bWxr_xY-zBRJJykLlA2vr2DMVkwhY_DCZsXxbhkaAv1kEALw_wcB; _gac_UA-86950572-1=1.1701256727.Cj0KCQiA35urBhDCARIsAOU7QwnUo96SNYhvvnK0bWxr_xY-zBRJJykLlA2vr2DMVkwhY_DCZsXxbhkaAv1kEALw_wcB; _gac_UA-20348534-21=1.1701256727.Cj0KCQiA35urBhDCARIsAOU7QwnUo96SNYhvvnK0bWxr_xY-zBRJJykLlA2vr2DMVkwhY_DCZsXxbhkaAv1kEALw_wcB; _hjSessionUser_1196013=eyJpZCI6IjczZWJlMWMyLTU4NzQtNTk0ZC1hZjEzLTk5Mjg5OTQ1NGUwOSIsImNyZWF0ZWQiOjE3MDEyMDg3NTU3NzgsImV4aXN0aW5nIjp0cnVlfQ==; _gac_UA-20348534-2=1.1701256731.Cj0KCQiA35urBhDCARIsAOU7QwnUo96SNYhvvnK0bWxr_xY-zBRJJykLlA2vr2DMVkwhY_DCZsXxbhkaAv1kEALw_wcB; DFTSID=e1dd5e882c8939bdb8641ab929731196; YII_CSRF_TOKEN=23a22c0553a5e704bf0b081d3d2418a0b057d9bc; ADS_UUID_FINGERPRINT=mRPGcaxDOJ01OyVWa%2Fej8UXE1wDHCE0ghpVpXCXAHEhLkYrMAVbukHTZPNe9F3cARH8b36zpJMFRenHhH3HjmYSsAs75pTh6811wpBFNy8JTrk1F9WMdM6K4gKtjxtohdeXrAB4hGFfOUnPaUG5uJzNYgwOWWLJoBKQEy0343iw%3D; _dy_csc_ses=t; x-config=false; showInterestFreeLabel=true; disable-boleto=false; __hl=6570686240c8a8335037daf4; utm_source=awin; utm_medium=af; utm_campaign=1437558; _gid=GA1.3.1015799447.1704547123; _dyjsession=6f9d70647c803a3d65a366856234dcc6; _dy_geo=BR.SA.BR_PA.BR_PA_Santar%C3%A9m; _dy_df_geo=Brazil..Santar%C3%A9m; _hjShownFeedbackMessage=true; dftab-boletopdf=1; seal_refresh=false; _fitAnalyticsABTestFunnel=fitanalytics_false; close-floater-baixe-app=1; tracking-data=; AwinChannelCookie=aw; _hjHasCachedUserAttributes=true; catalog-category-filter=%255B%255D; cart_count=0; cart_total=0; search=%5B%5D; _aw_j_17697={\"id\":\"19abde54-d087-4aee-a375-37796a2d50b5-1\",\"expiration\":1712431816}; id-product=AD970SCM03VGI; _ga_B0521B3853=GS1.1.1704547162.4.1.1704548601.0.0.0; dy_fs_page=www.dafiti.com.br%2Ftenis-adidas-performance-pureboost-23-branco-13389734.html; _hjIncludedInSessionSample_1196013=0; _hjSession_1196013=eyJpZCI6IjExNTU1ODlhLWMxOGEtNDQxYy1hYmU5LTYzZmFiY2Q3MWRkNyIsImMiOjE3MDQ1NTE3MzcyOTksInMiOjAsInIiOjAsInNiIjowfQ==; _hjAbsoluteSessionInProgress=0; vip=yes; hostDomain=secure.dafiti.com.br; last-viewed=%5B%22AD970SCM65VHU%22%2C%22AD970SCM03VGI%22%2C%22AS296SCM99TIE%22%2C%22AS296SCM85TQK%22%5D; _dy_ses_load_seq=99395%3A1704551744894; _dy_soct=456415.821753.1696378515*365712.607483.1704547119*829988.1628234.1704547119*337486.546172.1704551744*394538.671875.1704551744*398246.681150.1704551744*834177.1644413.1704551744*856832.1733472.1704551744*860195.1744574.1704551744*114287.157919.1704551744*237122.354091.1704551744; mbox=check#true#1704551806|session#1704551736524-142957#1704553606; _dy_lu_ses=6f9d70647c803a3d65a366856234dcc6%3A1704551745508; _dy_toffset=0; _aw_m_17697=17697_1704547110_cfb3c6c0d94310ea512fb03fe33ab4c5; _derived_epik=dj0yJnU9VU9ZT0JkRFFObGhXWEZmc0RZck8tM0ZWMklnRl9xMW8mbj1VSTRxVjZPTWFHcDEwaE1vT09rNkhnJm09MSZ0PUFBQUFBR1daWlVFJnJtPTEmcnQ9QUFBQUFHV1paVUUmc3A9NQ; cto_bundle=PW9lSl82eXNGcFJSQXlnMXlIUUxWSWhnamlVV1huY3pRdVp0c0YlMkJma2F2NyUyQlNLSXdHdU5WWXNkNjZteGp2UE44Rm14OGJ5UGg5diUyRnhuQWJFSVJUTnNZR1BlSDhJbnhROVRDbnpPdzZ0czdDWk1namMlMkZ6TE1qMjlVRFpVRVVHVSUyRk4lMkIxTTFLTFAlMkZUM25Xc2lEaEsyQ1dYY1clMkZKRUlVRnVMZm8ybjF5a1RxbE1JaUNZM01yOTg4V0QzdnhuTFpjSEdBZHkzVEJNQnZiU2V5UlZCclVQeGlTZjAlMkJ3JTNEJTNE; _ga_6173967VRP=GS1.3.1704551737.6.1.1704551745.0.0.0; _uetsid=1e0c4fe0ac9611ee84b6ab80a20bfe6f; _uetvid=743502d024c611ee9f6e0355c6dee5c0; BackToShop__dafiti_com_br=https%3A%2F%2Fwww.dafiti.com.br%2Fcalcados-masculinos%2Ftenis%2F; _ga=GA1.3.256339213.1701208756; _ga_4X2HC5Z756=GS1.1.1704551738.6.1.1704551754.44.0.0',\n",
    "  'referer': 'https://www.dafiti.com.br/Tenis-Adidas-Performance-Pureboost-23-Branco-13389734.html',\n",
    "  'sec-ch-ua': '\"Not_A Brand\";v=\"8\", \"Chromium\";v=\"120\", \"Google Chrome\";v=\"120\"',\n",
    "  'sec-ch-ua-mobile': '?0',\n",
    "  'sec-ch-ua-platform': '\"Windows\"',\n",
    "  'sec-fetch-dest': 'document',\n",
    "  'sec-fetch-mode': 'navigate',\n",
    "  'sec-fetch-site': 'same-origin',\n",
    "  'sec-fetch-user': '?1',\n",
    "  'upgrade-insecure-requests': '1',\n",
    "  'user-agent': 'Mozilla/5.0 (Windows NT 10.0; Win64; x64) AppleWebKit/537.36 (KHTML, like Gecko) Chrome/120.0.0.0 Safari/537.36'\n",
    "}\n",
    "\n",
    "response = requests.request(\"GET\", url, headers=headers, data=payload)\n",
    "\n",
    "print(response.text)\n"
   ]
  },
  {
   "cell_type": "code",
   "execution_count": 2,
   "metadata": {},
   "outputs": [],
   "source": [
    "from bs4 import BeautifulSoup"
   ]
  },
  {
   "cell_type": "code",
   "execution_count": 3,
   "metadata": {},
   "outputs": [],
   "source": [
    "soup = BeautifulSoup(response.content)"
   ]
  },
  {
   "cell_type": "code",
   "execution_count": 27,
   "metadata": {},
   "outputs": [],
   "source": [
    "\n",
    "tenis = {}\n",
    "tenis ['model'] = soup.find('p', attrs={'class':'product-box-title'})\n",
    "tenis ['origin_price'] = soup.find('span', attrs={'class': 'product-box-price-from'})\n",
    "tenis ['actuall_price'] = soup.find('span', attrs={'class': 'product-box-price-to'})\n",
    "tenis ['brand'] = soup.select('div.product-box-brand > span')[0].text\n",
    "\n"
   ]
  },
  {
   "cell_type": "code",
   "execution_count": 28,
   "metadata": {},
   "outputs": [
    {
     "data": {
      "text/plain": [
       "{'model': <p class=\"product-box-title\">Tênis Vans Doheny Marrom</p>,\n",
       " 'origin_price': <span class=\"product-box-price-from\">R$ 349,99</span>,\n",
       " 'actuall_price': <span class=\"product-box-price-to\">R$ 249,99</span>,\n",
       " 'brand': 'Vans'}"
      ]
     },
     "execution_count": 28,
     "metadata": {},
     "output_type": "execute_result"
    }
   ],
   "source": [
    "tenis"
   ]
  },
  {
   "cell_type": "code",
   "execution_count": 1,
   "metadata": {},
   "outputs": [],
   "source": [
    "from selenium import webdriver\n",
    "from selenium.webdriver.firefox.options import Options\n",
    "with webdriver.Firefox() as driver:\n",
    "    driver.get(\"https://mozilla.org\")\n",
    "profile = Options()\n",
    "options = Options()\n",
    "options.add_argument('-headless')\n",
    "profile.set_preference('browser.download.folderlist', 2)\n",
    "profile.set_preference('browser.download.dir', r'C:\\Users\\estev\\OneDrive\\Desktop\\DISCIPLINA PYTHON GUSTAVO\\SCRIPTS AULAS\\PROJETOS-ESTEVAO')\n",
    "profile.set_preference('general.useragent.override', 'Mozilla/5.0 (Linux; U; Android 4.0.3; en-us; KFTT Build/IML74K) AppleWebKit/537.36 (KHTML, like Gecko) Silk/3.68 like Chrome/39.0.2171.93 Safari/537.36')\n"
   ]
  },
  {
   "cell_type": "code",
   "execution_count": 9,
   "metadata": {},
   "outputs": [],
   "source": [
    "driver = webdriver.Firefox(options=profile)\n",
    "import time "
   ]
  },
  {
   "cell_type": "code",
   "execution_count": 2,
   "metadata": {},
   "outputs": [],
   "source": [
    "from selenium.webdriver.common.keys import Keys\n",
    "from selenium.webdriver.common.by import By\n",
    "from selenium.webdriver.support.ui import WebDriverWait\n",
    "from selenium.webdriver.support import expected_conditions as EC"
   ]
  },
  {
   "cell_type": "code",
   "execution_count": 10,
   "metadata": {},
   "outputs": [],
   "source": [
    "driver.get('https://www.amazon.com.br/')"
   ]
  },
  {
   "cell_type": "code",
   "execution_count": 3,
   "metadata": {},
   "outputs": [],
   "source": [
    "def find_element(driver, xpath):\n",
    "    element = WebDriverWait(driver, 10).until(\n",
    "        EC.presence_of_element_located((By.XPATH, xpath))\n",
    "    )\n",
    "    return element"
   ]
  },
  {
   "cell_type": "code",
   "execution_count": null,
   "metadata": {},
   "outputs": [],
   "source": [
    "from selenium.common.exceptions import TimeoutException\n",
    "\n",
    "def find_element(driver, xpath):\n",
    "    try:\n",
    "        # Esperar por até 20 segundos até que o elemento seja visível\n",
    "        element = WebDriverWait(driver, 20).until(\n",
    "            EC.presence_of_element_located((By.XPATH, xpath))\n",
    "        )\n",
    "        return element\n",
    "    except TimeoutException as te:\n",
    "        print(f'Tempo limite excedido ao tentar encontrar o elemento: {xpath}')\n",
    "        raise te\n",
    "\n",
    "# Usar a função find_element com WebDriverWait\n",
    "search_input = find_element(driver, '/html/body/div[1]/div[1]/div[2]/div[2]/div/div[1]/div/div/div[2]/div/ul/li[2]/span/a/img')\n"
   ]
  },
  {
   "cell_type": "code",
   "execution_count": 44,
   "metadata": {},
   "outputs": [],
   "source": [
    "from selenium.webdriver.support.expected_conditions import presence_of_element_located\n",
    "with webdriver.Firefox() as driver:\n",
    "\n",
    "    driver.get(\"https://www.amazon.com.br/\")\n",
    "    wait = WebDriverWait(driver, 10)\n",
    "    driver.find_element(By.XPATH, \"//*[@id='search']/div[1]/div[1]/div/span[1]/div[1]/div[3]/div\").send_keys(\"livros\" + Keys.RETURN)\n",
    "with open('img.png', 'r'):\n",
    "    img.write(driver.find_element(By.XPATH, \"//*[@id='search']/div[1]/div[1]/div/span[1]/div[1]/div[3]/div\"))\n",
    "\n"
   ]
  },
  {
   "cell_type": "code",
   "execution_count": null,
   "metadata": {},
   "outputs": [],
   "source": [
    "with webdriver.Firefox() as driver:\n",
    "\n",
    "    driver.get(\"https://www.amazon.com.br/\")\n",
    "    wait = WebDriverWait(driver, 10)\n",
    "    driver.find_element(By.XPATH, \"//*[@id='search']/div[1]/div[1]/div/span[1]/div[1]/div[3]/div\").send_keys(\"amor\" + Keys.RETURN)\n",
    "    wait.until(presence_of_element_located((By.XPATH, '/html/body/div[1]/div[1]/div[1]/div[1]/div/span[1]/div[1]/div[2]/div/div/div/div/span/div/div/div[1]')))\n",
    "    with open('img.png', 'wb') as img:\n",
    "        img.write(driver.find_element(By.XPATH, \"/html/body/div[1]/div[1]/div[1]/div[1]/div/span[1]/div[1]/div[2]/div/div/div/div/span/div/div/div[1]\").screenshot_as_png)"
   ]
  },
  {
   "cell_type": "code",
   "execution_count": 58,
   "metadata": {},
   "outputs": [],
   "source": [
    "with webdriver.Firefox() as driver:\n",
    "    driver.get(\"https://www.amazon.com.br/\")\n",
    "    \n",
    "    \n",
    "    search_input = driver.find_element(By.XPATH, \"//*[@id='twotabsearchtextbox']\")\n",
    "    wait = WebDriverWait(driver, 10)\n",
    "    search_input.send_keys(\"livros\" + Keys.RETURN)\n",
    "\n",
    "\n",
    "    wait = WebDriverWait(driver, 10)\n",
    "    wait.until(presence_of_element_located((By.XPATH, '/html/body/div[1]/div[1]/div[1]/div[1]/div/span[1]/div[1]/div[3]/div/div/div/div/span/div/div/div[1]')))\n",
    "    \n",
    "   \n",
    "    target_element = driver.find_element(By.XPATH, \"/html/body/div[1]/div[1]/div[1]/div[1]/div/span[1]/div[1]/div[3]/div/div/div/div/span/div/div/div[1]\")\n",
    "    \n",
    " \n",
    "    screenshot = target_element.screenshot_as_png\n",
    "    with open('img.png', 'wb') as img:\n",
    "        img.write(screenshot)\n"
   ]
  },
  {
   "cell_type": "code",
   "execution_count": 31,
   "metadata": {},
   "outputs": [],
   "source": [
    "from selenium.common.exceptions import TimeoutException\n",
    "def find_elements(driver, xpath):\n",
    "    elements = WebDriverWait(driver, 10).until(\n",
    "        EC.presence_of_all_elements_located((By.XPATH, xpath))\n",
    "    )\n",
    "    return elements\n",
    "\n",
    "search_input = find_elements(driver, \"//*[@id='twotabsearchtextbox']\")\n",
    "for element in search_input:\n",
    "    search_input[0].clear()\n",
    "    search_input[0].send_keys('livros')\n",
    "    search_input[0].send_keys(Keys.ENTER) "
   ]
  },
  {
   "cell_type": "code",
   "execution_count": 32,
   "metadata": {},
   "outputs": [],
   "source": [
    "book_list = list(map(lambda x: x.get_attribute('href'), find_elements(driver, '//div[@class=\"a-section a-spacing-base\"]/div[1]/span/a[@class=\"a-link-normal s-no-outline\"]')))\n"
   ]
  },
  {
   "cell_type": "code",
   "execution_count": 34,
   "metadata": {},
   "outputs": [],
   "source": [
    "def wait_element_load(driver, xpath, time):\n",
    "    try:\n",
    "        element = WebDriverWait(driver, time).until(\n",
    "            EC.presence_of_all_elements_located(By.XPATH,xpath)\n",
    "        )\n",
    "    except:\n",
    "        print(\"element didn't load\")"
   ]
  },
  {
   "cell_type": "code",
   "execution_count": 35,
   "metadata": {},
   "outputs": [],
   "source": [
    "home = driver.current_window_handle\n",
    "new_tab = driver.window_handles[1]\n",
    "driver.current_url\n",
    "driver.switch_to.window(new_tab)"
   ]
  },
  {
   "cell_type": "code",
   "execution_count": null,
   "metadata": {},
   "outputs": [],
   "source": [
    "all_books = []\n",
    "pg = 0\n",
    "\n",
    "while True:\n",
    "    pg +=1\n",
    "    driver.switch_to.window(home)\n",
    "    time.sleep(1)\n",
    "\n",
    "    book_list = list(map(lambda x: x.get_attribute('href'), find_elements(driver, '//div[@class=\"a-section a-spacing-base\"]/div[1]/span/a[@class=\"a-link-normal s-no-outline\"]')))\n",
    "    find_elements(\"//a[@class = 's-pagination-item s-pagination-next s-pagination-button s-pagination-separator']\")\n",
    "    driver.switch_to.window(new_tab)\n",
    "    book_c = 0\n",
    "    for i in book_list:\n",
    "        book_c += 1\n",
    "        actual_book = {}\n",
    "        driver.get(i)\n",
    "        wait_element_load(driver, \"//h1[@id = 'title']\", 3)\n",
    "        actual_book['book_title'] = find_elements(driver, \"//h1[@id = 'title']\").text\n",
    "        break\n",
    "\n",
    "        \n",
    "\n"
   ]
  },
  {
   "cell_type": "code",
   "execution_count": 40,
   "metadata": {},
   "outputs": [
    {
     "ename": "TimeoutException",
     "evalue": "Message: \n",
     "output_type": "error",
     "traceback": [
      "\u001b[1;31m---------------------------------------------------------------------------\u001b[0m",
      "\u001b[1;31mTimeoutException\u001b[0m                          Traceback (most recent call last)",
      "Cell \u001b[1;32mIn[40], line 1\u001b[0m\n\u001b[1;32m----> 1\u001b[0m \u001b[43mfind_elements\u001b[49m\u001b[43m(\u001b[49m\u001b[43mdriver\u001b[49m\u001b[43m,\u001b[49m\u001b[43m \u001b[49m\u001b[38;5;124;43m\"\u001b[39;49m\u001b[38;5;124;43m//a[@class = \u001b[39;49m\u001b[38;5;124;43m'\u001b[39;49m\u001b[38;5;124;43ms-pagination-item s-pagination-next s-pagination-button s-pagination-separator\u001b[39;49m\u001b[38;5;124;43m'\u001b[39;49m\u001b[38;5;124;43m]\u001b[39;49m\u001b[38;5;124;43m\"\u001b[39;49m\u001b[43m)\u001b[49m\n",
      "Cell \u001b[1;32mIn[31], line 3\u001b[0m, in \u001b[0;36mfind_elements\u001b[1;34m(driver, xpath)\u001b[0m\n\u001b[0;32m      2\u001b[0m \u001b[38;5;28;01mdef\u001b[39;00m \u001b[38;5;21mfind_elements\u001b[39m(driver, xpath):\n\u001b[1;32m----> 3\u001b[0m     elements \u001b[38;5;241m=\u001b[39m \u001b[43mWebDriverWait\u001b[49m\u001b[43m(\u001b[49m\u001b[43mdriver\u001b[49m\u001b[43m,\u001b[49m\u001b[43m \u001b[49m\u001b[38;5;241;43m10\u001b[39;49m\u001b[43m)\u001b[49m\u001b[38;5;241;43m.\u001b[39;49m\u001b[43muntil\u001b[49m\u001b[43m(\u001b[49m\n\u001b[0;32m      4\u001b[0m \u001b[43m        \u001b[49m\u001b[43mEC\u001b[49m\u001b[38;5;241;43m.\u001b[39;49m\u001b[43mpresence_of_all_elements_located\u001b[49m\u001b[43m(\u001b[49m\u001b[43m(\u001b[49m\u001b[43mBy\u001b[49m\u001b[38;5;241;43m.\u001b[39;49m\u001b[43mXPATH\u001b[49m\u001b[43m,\u001b[49m\u001b[43m \u001b[49m\u001b[43mxpath\u001b[49m\u001b[43m)\u001b[49m\u001b[43m)\u001b[49m\n\u001b[0;32m      5\u001b[0m \u001b[43m    \u001b[49m\u001b[43m)\u001b[49m\n\u001b[0;32m      6\u001b[0m     \u001b[38;5;28;01mreturn\u001b[39;00m elements\n",
      "File \u001b[1;32mc:\\Users\\estev\\AppData\\Local\\Programs\\Python\\Python311\\Lib\\site-packages\\selenium\\webdriver\\support\\wait.py:95\u001b[0m, in \u001b[0;36mWebDriverWait.until\u001b[1;34m(self, method, message)\u001b[0m\n\u001b[0;32m     93\u001b[0m     \u001b[38;5;28;01mif\u001b[39;00m time\u001b[38;5;241m.\u001b[39mmonotonic() \u001b[38;5;241m>\u001b[39m end_time:\n\u001b[0;32m     94\u001b[0m         \u001b[38;5;28;01mbreak\u001b[39;00m\n\u001b[1;32m---> 95\u001b[0m \u001b[38;5;28;01mraise\u001b[39;00m TimeoutException(message, screen, stacktrace)\n",
      "\u001b[1;31mTimeoutException\u001b[0m: Message: \n"
     ]
    }
   ],
   "source": [
    "find_elements(driver, \"//a[@class = 's-pagination-item s-pagination-next s-pagination-button s-pagination-separator']\")"
   ]
  },
  {
   "cell_type": "code",
   "execution_count": 29,
   "metadata": {},
   "outputs": [],
   "source": [
    "import basedosdados as bd\n"
   ]
  },
  {
   "cell_type": "code",
   "execution_count": null,
   "metadata": {},
   "outputs": [],
   "source": [
    "query = '''\n",
    "SELECT sigla_uf * \n",
    "FROM basedosdados.br_anp_precos_combustiveis.microdados \n",
    "WHERE sigla_uf = 'PA'\n",
    "'''\n",
    "df = bd.read_sql(query,\n",
    "billing_project_id=\"estevaomcsproject\")"
   ]
  },
  {
   "cell_type": "code",
   "execution_count": 1,
   "metadata": {},
   "outputs": [],
   "source": [
    "def nums (num):\n",
    "\n",
    "    print (num)\n",
    "    if num % 2 != 0:\n",
    "        print('please enter an even number')\n",
    "\n",
    "    elif num == 2:\n",
    "        return num\n",
    "    else:\n",
    "        return nums(num-2)"
   ]
  },
  {
   "cell_type": "code",
   "execution_count": 19,
   "metadata": {},
   "outputs": [],
   "source": [
    "def Fibonacci(idx):\n",
    "    if idx <= 1:\n",
    "        return idx\n",
    "    else:\n",
    "        return Fibonacci(idx-1)+Fibonacci(idx-2)\n"
   ]
  },
  {
   "cell_type": "code",
   "execution_count": 21,
   "metadata": {},
   "outputs": [],
   "source": [
    "def fibonacci (idx):\n",
    "    seq = [0, 1]\n",
    "    for i in range(idx):\n",
    "        seq.append(seq[-1]+seq[-2])\n",
    "    return seq[-2]\n",
    "    \n",
    "\n"
   ]
  },
  {
   "cell_type": "code",
   "execution_count": 27,
   "metadata": {},
   "outputs": [],
   "source": [
    "import pandas as pd"
   ]
  },
  {
   "cell_type": "code",
   "execution_count": 36,
   "metadata": {},
   "outputs": [
    {
     "data": {
      "text/html": [
       "<div>\n",
       "<style scoped>\n",
       "    .dataframe tbody tr th:only-of-type {\n",
       "        vertical-align: middle;\n",
       "    }\n",
       "\n",
       "    .dataframe tbody tr th {\n",
       "        vertical-align: top;\n",
       "    }\n",
       "\n",
       "    .dataframe thead th {\n",
       "        text-align: right;\n",
       "    }\n",
       "</style>\n",
       "<table border=\"1\" class=\"dataframe\">\n",
       "  <thead>\n",
       "    <tr style=\"text-align: right;\">\n",
       "      <th></th>\n",
       "      <th>Clubs</th>\n",
       "      <th>Players</th>\n",
       "      <th>Trophies</th>\n",
       "    </tr>\n",
       "  </thead>\n",
       "  <tbody>\n",
       "    <tr>\n",
       "      <th>0</th>\n",
       "      <td>BArcelona</td>\n",
       "      <td>Pedri</td>\n",
       "      <td>5</td>\n",
       "    </tr>\n",
       "    <tr>\n",
       "      <th>1</th>\n",
       "      <td>Real Madrid</td>\n",
       "      <td>Vini Junior</td>\n",
       "      <td>6</td>\n",
       "    </tr>\n",
       "    <tr>\n",
       "      <th>2</th>\n",
       "      <td>Bayern</td>\n",
       "      <td>Kimichi</td>\n",
       "      <td>7</td>\n",
       "    </tr>\n",
       "    <tr>\n",
       "      <th>3</th>\n",
       "      <td>Manchenster CIty</td>\n",
       "      <td>Rodri</td>\n",
       "      <td>9</td>\n",
       "    </tr>\n",
       "    <tr>\n",
       "      <th>4</th>\n",
       "      <td>Liverpool</td>\n",
       "      <td>Salah</td>\n",
       "      <td>0</td>\n",
       "    </tr>\n",
       "  </tbody>\n",
       "</table>\n",
       "</div>"
      ],
      "text/plain": [
       "              Clubs      Players  Trophies\n",
       "0         BArcelona        Pedri         5\n",
       "1       Real Madrid  Vini Junior         6\n",
       "2            Bayern      Kimichi         7\n",
       "3  Manchenster CIty        Rodri         9\n",
       "4         Liverpool        Salah         0"
      ]
     },
     "execution_count": 36,
     "metadata": {},
     "output_type": "execute_result"
    }
   ],
   "source": [
    "Clubs = {'Clubs': ['BArcelona',  'Real Madrid', 'Bayern', 'Manchenster CIty', 'Liverpool'],\n",
    "         'Players': ['Pedri', 'Vini Junior', 'Kimichi', 'Rodri', 'Salah'],\n",
    "         'Trophies':[5, 6, 7, 9, 0]}\n",
    "\n",
    " \n",
    "\n",
    "\n",
    "pd.DataFrame(Clubs)"
   ]
  },
  {
   "cell_type": "code",
   "execution_count": 50,
   "metadata": {},
   "outputs": [],
   "source": [
    "a = [1, 2, 3, 4, 5]\n",
    "b = ['Pimeiro', 'Segundo', 'Terceiro', 'Quarto', 'Quinto']\n",
    "c = ['FIrst', 'Second', 'Third', 'Fourth', 'Fifth']\n",
    "\n",
    "pos = list(zip(a, b, c))\n",
    "\n"
   ]
  },
  {
   "cell_type": "code",
   "execution_count": 51,
   "metadata": {},
   "outputs": [
    {
     "data": {
      "text/plain": [
       "[(1, 'Pimeiro', 'FIrst'),\n",
       " (2, 'Segundo', 'Second'),\n",
       " (3, 'Terceiro', 'Third'),\n",
       " (4, 'Quarto', 'Fourth'),\n",
       " (5, 'Quinto', 'Fifth')]"
      ]
     },
     "execution_count": 51,
     "metadata": {},
     "output_type": "execute_result"
    }
   ],
   "source": [
    "pos"
   ]
  },
  {
   "cell_type": "code",
   "execution_count": 91,
   "metadata": {},
   "outputs": [],
   "source": [
    "clubs = [\n",
    "    {'clubs': 'Real Madrid', 'trophies': 10, 'stadium_grass': ['fake', 'real'], 'locate': 'Spain'},\n",
    "    {'clubs': 'Barcelona', 'trophies': 9, 'stadium_grass': ['real'], 'locate':'Spain'},\n",
    "    {'clubs': 'Bayern Munich', 'trophies': 10, 'stadium_grass': ['fake'], 'locate':'Germany'},\n",
    "    {'clubs': 'Manchester United', 'trophies': 20, 'stadium_grass': ['fake', 'real'], 'locate':'England'},\n",
    "    {'clubs': 'Liverpool', 'trophies': 2, 'stadium_grass': ['real'], 'locate':'England'},\n",
    "    {'clubs': 'Chelsea', 'trophies': 3, 'stadium_grass': ['fake'], 'locate':'England'},\n",
    "    {'clubs': 'Manchester City', 'trophies': 5, 'stadium_grass': ['fake', 'real'], 'locate':'England'},\n",
    "    {'clubs': 'Arsenal', 'trophies': 39, 'stadium_grass': ['fake', 'real'], 'locate':'England'},\n",
    "    {'clubs': 'Tottenham Hotspur', 'trophies': 90, 'stadium_grass': ['real'], 'locate':'England'},\n",
    "    {'clubs': 'Juventus', 'trophies': 5, 'stadium_grass': ['fake', 'real'], 'locate':'Italy'},\n",
    "    {'clubs': 'Atlético Madrid', 'trophies': 34, 'stadium_grass': ['fake'], 'locate':'Spain'},\n",
    "    {'clubs': 'Inter Milan', 'trophies': 19, 'stadium_grass': ['fake', 'real'], 'locate':'Italy'},\n",
    "    {'clubs': 'Roma', 'trophies': 22, 'stadium_grass': ['fake'], 'locate':'Italy'},\n",
    "    {'clubs': 'Napoli', 'trophies': 2, 'stadium_grass': ['real'], 'locate':'Italy'},\n",
    "    {'clubs': 'AC Milan', 'trophies': 69, 'stadium_grass': ['fake', 'real'], 'locate':'Italy'},\n",
    "    {'clubs': 'Lazio', 'trophies': 18, 'stadium_grass': ['fake', 'real'], 'locate':'Italy'},\n",
    "    {'clubs': 'Fiorentina', 'trophies': 30, 'stadium_grass': ['fake', 'real'], 'locate':'Italy'},\n",
    "    {'clubs': 'Atalanta', 'trophies': 3, 'stadium_grass': ['real'], 'locate':'Italy'},\n",
    "    {'clubs': 'Bayer Leverkusen', 'trophies': 10, 'stadium_grass': ['real'], 'locate':'Germany'},\n",
    "    {'clubs': 'Borussia Dortmund', 'trophies': 29, 'stadium_grass': ['fake', 'real'], 'locate':'Germany'}\n",
    "]\n",
    "\n"
   ]
  },
  {
   "cell_type": "code",
   "execution_count": 99,
   "metadata": {},
   "outputs": [
    {
     "data": {
      "text/plain": [
       "['Manchester United',\n",
       " 'Liverpool',\n",
       " 'Chelsea',\n",
       " 'Manchester City',\n",
       " 'Arsenal',\n",
       " 'Tottenham Hotspur']"
      ]
     },
     "execution_count": 99,
     "metadata": {},
     "output_type": "execute_result"
    }
   ],
   "source": [
    "clubs_filter = list(map(lambda c: c['clubs'], filter(lambda c: c['locate'] == 'England', clubs)))\n",
    "clubs_filter"
   ]
  },
  {
   "cell_type": "code",
   "execution_count": 102,
   "metadata": {},
   "outputs": [
    {
     "data": {
      "text/plain": [
       "['Manchester United',\n",
       " 'Liverpool',\n",
       " 'Chelsea',\n",
       " 'Manchester City',\n",
       " 'Arsenal',\n",
       " 'Tottenham Hotspur']"
      ]
     },
     "execution_count": 102,
     "metadata": {},
     "output_type": "execute_result"
    }
   ],
   "source": [
    "clubes_eng = [club['clubs'] for club in clubs if club['locate']=='England']\n",
    "clubes_eng"
   ]
  }
 ],
 "metadata": {
  "kernelspec": {
   "display_name": "Python 3",
   "language": "python",
   "name": "python3"
  },
  "language_info": {
   "codemirror_mode": {
    "name": "ipython",
    "version": 3
   },
   "file_extension": ".py",
   "mimetype": "text/x-python",
   "name": "python",
   "nbconvert_exporter": "python",
   "pygments_lexer": "ipython3",
   "version": "3.9.11"
  }
 },
 "nbformat": 4,
 "nbformat_minor": 2
}
