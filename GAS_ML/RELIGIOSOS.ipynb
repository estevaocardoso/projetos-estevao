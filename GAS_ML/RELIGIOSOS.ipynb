{
 "cells": [
  {
   "cell_type": "markdown",
   "metadata": {},
   "source": [
    "Importando base de coordenadas CENSO 2022"
   ]
  },
  {
   "cell_type": "code",
   "execution_count": null,
   "metadata": {},
   "outputs": [],
   "source": [
    "import basedosdados as bd\n",
    "import pandas as pd"
   ]
  },
  {
   "cell_type": "code",
   "execution_count": null,
   "metadata": {},
   "outputs": [
    {
     "name": "stderr",
     "output_type": "stream",
     "text": [
      "Downloading: 100%|██████████| 146496/146496 [00:15<00:00, 9346.25rows/s]\n"
     ]
    }
   ],
   "source": [
    "\n",
    "query_cord = \"\"\"\n",
    "    SELECT *\n",
    "    FROM `basedosdados.br_ibge_censo_2022.coordenada_endereco` \n",
    "    WHERE id_municipio IN ('1506807')\n",
    "\"\"\"\n",
    "df_coord = bd.read_sql(query_cord,\n",
    "billing_project_id=\"extended-spark-302513\")"
   ]
  },
  {
   "cell_type": "code",
   "execution_count": null,
   "metadata": {},
   "outputs": [
    {
     "data": {
      "text/html": [
       "<div>\n",
       "<style scoped>\n",
       "    .dataframe tbody tr th:only-of-type {\n",
       "        vertical-align: middle;\n",
       "    }\n",
       "\n",
       "    .dataframe tbody tr th {\n",
       "        vertical-align: top;\n",
       "    }\n",
       "\n",
       "    .dataframe thead th {\n",
       "        text-align: right;\n",
       "    }\n",
       "</style>\n",
       "<table border=\"1\" class=\"dataframe\">\n",
       "  <thead>\n",
       "    <tr style=\"text-align: right;\">\n",
       "      <th></th>\n",
       "      <th>id_uf</th>\n",
       "      <th>id_municipio</th>\n",
       "      <th>especie_endereco</th>\n",
       "      <th>nivel_geo_coordenada</th>\n",
       "      <th>latitude</th>\n",
       "      <th>longitude</th>\n",
       "      <th>ponto</th>\n",
       "    </tr>\n",
       "  </thead>\n",
       "  <tbody>\n",
       "    <tr>\n",
       "      <th>0</th>\n",
       "      <td>15</td>\n",
       "      <td>1506807</td>\n",
       "      <td>1</td>\n",
       "      <td>1</td>\n",
       "      <td>-2.435061</td>\n",
       "      <td>-54.720836</td>\n",
       "      <td>POINT(-54.720836 -2.435061)</td>\n",
       "    </tr>\n",
       "    <tr>\n",
       "      <th>1</th>\n",
       "      <td>15</td>\n",
       "      <td>1506807</td>\n",
       "      <td>1</td>\n",
       "      <td>1</td>\n",
       "      <td>-2.434332</td>\n",
       "      <td>-54.720000</td>\n",
       "      <td>POINT(-54.72 -2.434332)</td>\n",
       "    </tr>\n",
       "    <tr>\n",
       "      <th>2</th>\n",
       "      <td>15</td>\n",
       "      <td>1506807</td>\n",
       "      <td>1</td>\n",
       "      <td>1</td>\n",
       "      <td>-2.434763</td>\n",
       "      <td>-54.718722</td>\n",
       "      <td>POINT(-54.718722 -2.434763)</td>\n",
       "    </tr>\n",
       "    <tr>\n",
       "      <th>3</th>\n",
       "      <td>15</td>\n",
       "      <td>1506807</td>\n",
       "      <td>1</td>\n",
       "      <td>1</td>\n",
       "      <td>-2.437363</td>\n",
       "      <td>-54.717541</td>\n",
       "      <td>POINT(-54.717541 -2.437363)</td>\n",
       "    </tr>\n",
       "    <tr>\n",
       "      <th>4</th>\n",
       "      <td>15</td>\n",
       "      <td>1506807</td>\n",
       "      <td>1</td>\n",
       "      <td>1</td>\n",
       "      <td>-2.438072</td>\n",
       "      <td>-54.716247</td>\n",
       "      <td>POINT(-54.716247 -2.438072)</td>\n",
       "    </tr>\n",
       "    <tr>\n",
       "      <th>...</th>\n",
       "      <td>...</td>\n",
       "      <td>...</td>\n",
       "      <td>...</td>\n",
       "      <td>...</td>\n",
       "      <td>...</td>\n",
       "      <td>...</td>\n",
       "      <td>...</td>\n",
       "    </tr>\n",
       "    <tr>\n",
       "      <th>146491</th>\n",
       "      <td>15</td>\n",
       "      <td>1506807</td>\n",
       "      <td>8</td>\n",
       "      <td>1</td>\n",
       "      <td>-2.574829</td>\n",
       "      <td>-54.637610</td>\n",
       "      <td>POINT(-54.63761 -2.574829)</td>\n",
       "    </tr>\n",
       "    <tr>\n",
       "      <th>146492</th>\n",
       "      <td>15</td>\n",
       "      <td>1506807</td>\n",
       "      <td>8</td>\n",
       "      <td>1</td>\n",
       "      <td>-2.389323</td>\n",
       "      <td>-54.570533</td>\n",
       "      <td>POINT(-54.570533 -2.389323)</td>\n",
       "    </tr>\n",
       "    <tr>\n",
       "      <th>146493</th>\n",
       "      <td>15</td>\n",
       "      <td>1506807</td>\n",
       "      <td>8</td>\n",
       "      <td>1</td>\n",
       "      <td>-2.449664</td>\n",
       "      <td>-54.763298</td>\n",
       "      <td>POINT(-54.763298 -2.449664)</td>\n",
       "    </tr>\n",
       "    <tr>\n",
       "      <th>146494</th>\n",
       "      <td>15</td>\n",
       "      <td>1506807</td>\n",
       "      <td>8</td>\n",
       "      <td>1</td>\n",
       "      <td>-2.901309</td>\n",
       "      <td>-54.160323</td>\n",
       "      <td>POINT(-54.160323 -2.901309)</td>\n",
       "    </tr>\n",
       "    <tr>\n",
       "      <th>146495</th>\n",
       "      <td>15</td>\n",
       "      <td>1506807</td>\n",
       "      <td>8</td>\n",
       "      <td>1</td>\n",
       "      <td>-2.436211</td>\n",
       "      <td>-54.762837</td>\n",
       "      <td>POINT(-54.762837 -2.436211)</td>\n",
       "    </tr>\n",
       "  </tbody>\n",
       "</table>\n",
       "<p>146496 rows × 7 columns</p>\n",
       "</div>"
      ],
      "text/plain": [
       "       id_uf id_municipio especie_endereco nivel_geo_coordenada  latitude  \\\n",
       "0         15      1506807                1                    1 -2.435061   \n",
       "1         15      1506807                1                    1 -2.434332   \n",
       "2         15      1506807                1                    1 -2.434763   \n",
       "3         15      1506807                1                    1 -2.437363   \n",
       "4         15      1506807                1                    1 -2.438072   \n",
       "...      ...          ...              ...                  ...       ...   \n",
       "146491    15      1506807                8                    1 -2.574829   \n",
       "146492    15      1506807                8                    1 -2.389323   \n",
       "146493    15      1506807                8                    1 -2.449664   \n",
       "146494    15      1506807                8                    1 -2.901309   \n",
       "146495    15      1506807                8                    1 -2.436211   \n",
       "\n",
       "        longitude                        ponto  \n",
       "0      -54.720836  POINT(-54.720836 -2.435061)  \n",
       "1      -54.720000      POINT(-54.72 -2.434332)  \n",
       "2      -54.718722  POINT(-54.718722 -2.434763)  \n",
       "3      -54.717541  POINT(-54.717541 -2.437363)  \n",
       "4      -54.716247  POINT(-54.716247 -2.438072)  \n",
       "...           ...                          ...  \n",
       "146491 -54.637610   POINT(-54.63761 -2.574829)  \n",
       "146492 -54.570533  POINT(-54.570533 -2.389323)  \n",
       "146493 -54.763298  POINT(-54.763298 -2.449664)  \n",
       "146494 -54.160323  POINT(-54.160323 -2.901309)  \n",
       "146495 -54.762837  POINT(-54.762837 -2.436211)  \n",
       "\n",
       "[146496 rows x 7 columns]"
      ]
     },
     "execution_count": 37,
     "metadata": {},
     "output_type": "execute_result"
    }
   ],
   "source": [
    "df_coord"
   ]
  },
  {
   "cell_type": "markdown",
   "metadata": {},
   "source": [
    "Importando a base de diconario"
   ]
  },
  {
   "cell_type": "code",
   "execution_count": null,
   "metadata": {},
   "outputs": [
    {
     "name": "stderr",
     "output_type": "stream",
     "text": [
      "Downloading: 100%|██████████| 14/14 [00:00<00:00, 37.37rows/s]\n"
     ]
    }
   ],
   "source": [
    "query_dict = \"\"\"\n",
    "    SELECT *\n",
    "    FROM `basedosdados.br_ibge_censo_2022.dicionario`\n",
    "\"\"\"\n",
    "df_dict = bd.read_sql(query_dict, \n",
    "billing_project_id=\"extended-spark-302513\")\n",
    "\n"
   ]
  },
  {
   "cell_type": "code",
   "execution_count": null,
   "metadata": {},
   "outputs": [
    {
     "data": {
      "text/plain": [
       "14"
      ]
     },
     "execution_count": 27,
     "metadata": {},
     "output_type": "execute_result"
    }
   ],
   "source": [
    "len(df_dict)"
   ]
  },
  {
   "cell_type": "code",
   "execution_count": null,
   "metadata": {},
   "outputs": [
    {
     "data": {
      "text/plain": [
       "0                                  Domicílio particular\n",
       "1                 Estabelecimento de outras finalidades\n",
       "2                              Estabelecimento de saúde\n",
       "3                                    Domicílio coletivo\n",
       "4                          Estabelecimento agropecuário\n",
       "5                              Edificação em construção\n",
       "6                             Estabelecimento de ensino\n",
       "7                             Estabelecimento religioso\n",
       "8                                        Face de quadra\n",
       "9          Endereço - coordenada original do Censo 2022\n",
       "10                                     Setor censitário\n",
       "11    Endereço - coordenada modificada (apartamentos...\n",
       "12    Endereço - coordenada estimada (endereços orig...\n",
       "13                                           Localidade\n",
       "Name: valor, dtype: object"
      ]
     },
     "execution_count": 26,
     "metadata": {},
     "output_type": "execute_result"
    }
   ],
   "source": [
    "values = df_dict['valor']\n",
    "values"
   ]
  },
  {
   "cell_type": "code",
   "execution_count": null,
   "metadata": {},
   "outputs": [
    {
     "data": {
      "text/html": [
       "<div>\n",
       "<style scoped>\n",
       "    .dataframe tbody tr th:only-of-type {\n",
       "        vertical-align: middle;\n",
       "    }\n",
       "\n",
       "    .dataframe tbody tr th {\n",
       "        vertical-align: top;\n",
       "    }\n",
       "\n",
       "    .dataframe thead th {\n",
       "        text-align: right;\n",
       "    }\n",
       "</style>\n",
       "<table border=\"1\" class=\"dataframe\">\n",
       "  <thead>\n",
       "    <tr style=\"text-align: right;\">\n",
       "      <th></th>\n",
       "      <th>id_uf</th>\n",
       "      <th>id_municipio</th>\n",
       "      <th>especie_endereco</th>\n",
       "      <th>nivel_geo_coordenada</th>\n",
       "      <th>latitude</th>\n",
       "      <th>longitude</th>\n",
       "      <th>ponto</th>\n",
       "    </tr>\n",
       "  </thead>\n",
       "  <tbody>\n",
       "    <tr>\n",
       "      <th>121834</th>\n",
       "      <td>15</td>\n",
       "      <td>1506807</td>\n",
       "      <td>6</td>\n",
       "      <td>1</td>\n",
       "      <td>-2.435714</td>\n",
       "      <td>-54.720290</td>\n",
       "      <td>POINT(-54.72029 -2.435714)</td>\n",
       "    </tr>\n",
       "    <tr>\n",
       "      <th>121835</th>\n",
       "      <td>15</td>\n",
       "      <td>1506807</td>\n",
       "      <td>6</td>\n",
       "      <td>1</td>\n",
       "      <td>-2.439201</td>\n",
       "      <td>-54.725989</td>\n",
       "      <td>POINT(-54.725989 -2.439201)</td>\n",
       "    </tr>\n",
       "    <tr>\n",
       "      <th>121836</th>\n",
       "      <td>15</td>\n",
       "      <td>1506807</td>\n",
       "      <td>6</td>\n",
       "      <td>1</td>\n",
       "      <td>-2.439152</td>\n",
       "      <td>-54.724718</td>\n",
       "      <td>POINT(-54.724718 -2.439152)</td>\n",
       "    </tr>\n",
       "    <tr>\n",
       "      <th>121837</th>\n",
       "      <td>15</td>\n",
       "      <td>1506807</td>\n",
       "      <td>6</td>\n",
       "      <td>1</td>\n",
       "      <td>-2.441055</td>\n",
       "      <td>-54.725385</td>\n",
       "      <td>POINT(-54.725385 -2.441055)</td>\n",
       "    </tr>\n",
       "    <tr>\n",
       "      <th>121838</th>\n",
       "      <td>15</td>\n",
       "      <td>1506807</td>\n",
       "      <td>6</td>\n",
       "      <td>1</td>\n",
       "      <td>-2.440555</td>\n",
       "      <td>-54.723278</td>\n",
       "      <td>POINT(-54.723278 -2.440555)</td>\n",
       "    </tr>\n",
       "    <tr>\n",
       "      <th>...</th>\n",
       "      <td>...</td>\n",
       "      <td>...</td>\n",
       "      <td>...</td>\n",
       "      <td>...</td>\n",
       "      <td>...</td>\n",
       "      <td>...</td>\n",
       "      <td>...</td>\n",
       "    </tr>\n",
       "    <tr>\n",
       "      <th>145481</th>\n",
       "      <td>15</td>\n",
       "      <td>1506807</td>\n",
       "      <td>7</td>\n",
       "      <td>1</td>\n",
       "      <td>-2.306683</td>\n",
       "      <td>-55.560926</td>\n",
       "      <td>POINT(-55.560926 -2.306683)</td>\n",
       "    </tr>\n",
       "    <tr>\n",
       "      <th>145482</th>\n",
       "      <td>15</td>\n",
       "      <td>1506807</td>\n",
       "      <td>7</td>\n",
       "      <td>1</td>\n",
       "      <td>-2.311428</td>\n",
       "      <td>-55.564434</td>\n",
       "      <td>POINT(-55.564434 -2.311428)</td>\n",
       "    </tr>\n",
       "    <tr>\n",
       "      <th>145483</th>\n",
       "      <td>15</td>\n",
       "      <td>1506807</td>\n",
       "      <td>7</td>\n",
       "      <td>1</td>\n",
       "      <td>-2.185854</td>\n",
       "      <td>-55.589816</td>\n",
       "      <td>POINT(-55.589816 -2.185854)</td>\n",
       "    </tr>\n",
       "    <tr>\n",
       "      <th>145484</th>\n",
       "      <td>15</td>\n",
       "      <td>1506807</td>\n",
       "      <td>7</td>\n",
       "      <td>1</td>\n",
       "      <td>-2.271707</td>\n",
       "      <td>-55.262753</td>\n",
       "      <td>POINT(-55.262753 -2.271707)</td>\n",
       "    </tr>\n",
       "    <tr>\n",
       "      <th>145485</th>\n",
       "      <td>15</td>\n",
       "      <td>1506807</td>\n",
       "      <td>7</td>\n",
       "      <td>1</td>\n",
       "      <td>-2.289304</td>\n",
       "      <td>-55.474683</td>\n",
       "      <td>POINT(-55.474683 -2.289304)</td>\n",
       "    </tr>\n",
       "  </tbody>\n",
       "</table>\n",
       "<p>23652 rows × 7 columns</p>\n",
       "</div>"
      ],
      "text/plain": [
       "       id_uf id_municipio especie_endereco nivel_geo_coordenada  latitude  \\\n",
       "121834    15      1506807                6                    1 -2.435714   \n",
       "121835    15      1506807                6                    1 -2.439201   \n",
       "121836    15      1506807                6                    1 -2.439152   \n",
       "121837    15      1506807                6                    1 -2.441055   \n",
       "121838    15      1506807                6                    1 -2.440555   \n",
       "...      ...          ...              ...                  ...       ...   \n",
       "145481    15      1506807                7                    1 -2.306683   \n",
       "145482    15      1506807                7                    1 -2.311428   \n",
       "145483    15      1506807                7                    1 -2.185854   \n",
       "145484    15      1506807                7                    1 -2.271707   \n",
       "145485    15      1506807                7                    1 -2.289304   \n",
       "\n",
       "        longitude                        ponto  \n",
       "121834 -54.720290   POINT(-54.72029 -2.435714)  \n",
       "121835 -54.725989  POINT(-54.725989 -2.439201)  \n",
       "121836 -54.724718  POINT(-54.724718 -2.439152)  \n",
       "121837 -54.725385  POINT(-54.725385 -2.441055)  \n",
       "121838 -54.723278  POINT(-54.723278 -2.440555)  \n",
       "...           ...                          ...  \n",
       "145481 -55.560926  POINT(-55.560926 -2.306683)  \n",
       "145482 -55.564434  POINT(-55.564434 -2.311428)  \n",
       "145483 -55.589816  POINT(-55.589816 -2.185854)  \n",
       "145484 -55.262753  POINT(-55.262753 -2.271707)  \n",
       "145485 -55.474683  POINT(-55.474683 -2.289304)  \n",
       "\n",
       "[23652 rows x 7 columns]"
      ]
     },
     "execution_count": 48,
     "metadata": {},
     "output_type": "execute_result"
    }
   ],
   "source": [
    "df_filtrado = df_coord[df_coord['especie_endereco'].isin(['6', '7'])]\n",
    "df_filtrado"
   ]
  },
  {
   "cell_type": "code",
   "execution_count": null,
   "metadata": {},
   "outputs": [
    {
     "data": {
      "image/png": "[encoded data removed]",
      "text/plain": [
       "<Figure size 1000x800 with 1 Axes>"
      ]
     },
     "metadata": {},
     "output_type": "display_data"
    }
   ],
   "source": [
    "import geopandas as gpd\n",
    "import matplotlib.pyplot as plt\n",
    "from shapely.wkt import loads\n",
    "from shapely.geometry import Point\n",
    "\n",
    "# Supondo que df_coord seja o seu DataFrame\n",
    "# e df_especies seja o DataFrame de espécies (6 e 7)\n",
    "\n",
    "df_filtrado = df_coord[df_coord['especie_endereco'].isin(['6', '7'])]\n",
    "\n",
    "# Criar uma coluna 'geometry' com objetos Point\n",
    "df_filtrado['geometry'] = [Point(lon, lat) for lon, lat in zip(df_filtrado['longitude'], df_filtrado['latitude'])]\n",
    "\n",
    "# Criar um GeoDataFrame a partir do DataFrame filtrado\n",
    "gdf = gpd.GeoDataFrame(df_filtrado, geometry='geometry')\n",
    "\n",
    "# Plotar o mapa\n",
    "fig, ax = plt.subplots(figsize=(10, 8))\n",
    "gdf.plot(ax=ax, marker='o', color='red', markersize=50)\n",
    "plt.title('Mapa de Estabelecimentos de Ensino e Religiosos')\n",
    "plt.xlabel('Longitude')\n",
    "plt.ylabel('Latitude')\n",
    "plt.show()\n"
   ]
  },
  {
   "cell_type": "code",
   "execution_count": null,
   "metadata": {},
   "outputs": [
    {
     "ename": "UnidentifiedImageError",
     "evalue": "cannot identify image file <_io.BytesIO object at 0x0000017EC0241590>",
     "output_type": "error",
     "traceback": [
      "\u001b[1;31m---------------------------------------------------------------------------\u001b[0m",
      "\u001b[1;31mUnidentifiedImageError\u001b[0m                    Traceback (most recent call last)",
      "Cell \u001b[1;32mIn[6], line 20\u001b[0m\n\u001b[0;32m     17\u001b[0m img_data\u001b[38;5;241m.\u001b[39mseek(\u001b[38;5;241m0\u001b[39m)\n\u001b[0;32m     19\u001b[0m \u001b[38;5;66;03m# Abrir a imagem com o PIL\u001b[39;00m\n\u001b[1;32m---> 20\u001b[0m img \u001b[38;5;241m=\u001b[39m \u001b[43mImage\u001b[49m\u001b[38;5;241;43m.\u001b[39;49m\u001b[43mopen\u001b[49m\u001b[43m(\u001b[49m\u001b[43mimg_data\u001b[49m\u001b[43m)\u001b[49m\n\u001b[0;32m     22\u001b[0m \u001b[38;5;66;03m# Salvar a imagem como um arquivo JPG\u001b[39;00m\n\u001b[0;32m     23\u001b[0m img\u001b[38;5;241m.\u001b[39msave(\u001b[38;5;124m'\u001b[39m\u001b[38;5;124mmapa.jpg\u001b[39m\u001b[38;5;124m'\u001b[39m, \u001b[38;5;28mformat\u001b[39m\u001b[38;5;241m=\u001b[39m\u001b[38;5;124m'\u001b[39m\u001b[38;5;124mJPEG\u001b[39m\u001b[38;5;124m'\u001b[39m)\n",
      "File \u001b[1;32mc:\\Users\\estev\\OneDrive\\Desktop\\projetos-estevao\\venv\\lib\\site-packages\\PIL\\Image.py:3309\u001b[0m, in \u001b[0;36mopen\u001b[1;34m(fp, mode, formats)\u001b[0m\n\u001b[0;32m   3307\u001b[0m     warnings\u001b[38;5;241m.\u001b[39mwarn(message)\n\u001b[0;32m   3308\u001b[0m msg \u001b[38;5;241m=\u001b[39m \u001b[38;5;124m\"\u001b[39m\u001b[38;5;124mcannot identify image file \u001b[39m\u001b[38;5;132;01m%r\u001b[39;00m\u001b[38;5;124m\"\u001b[39m \u001b[38;5;241m%\u001b[39m (filename \u001b[38;5;28;01mif\u001b[39;00m filename \u001b[38;5;28;01melse\u001b[39;00m fp)\n\u001b[1;32m-> 3309\u001b[0m \u001b[38;5;28;01mraise\u001b[39;00m UnidentifiedImageError(msg)\n",
      "\u001b[1;31mUnidentifiedImageError\u001b[0m: cannot identify image file <_io.BytesIO object at 0x0000017EC0241590>"
     ]
    }
   ],
   "source": [
    "import matplotlib\n",
    "import matplotlib.pyplot as plt\n",
    "import geopandas as gpd\n",
    "import plotly.express as px\n"
   ]
  }
 ],
 "metadata": {
  "kernelspec": {
   "display_name": "venv",
   "language": "python",
   "name": "python3"
  },
  "language_info": {
   "codemirror_mode": {
    "name": "ipython",
    "version": 3
   },
   "file_extension": ".py",
   "mimetype": "text/x-python",
   "name": "python",
   "nbconvert_exporter": "python",
   "pygments_lexer": "ipython3",
   "version": "3.9.11"
  }
 },
 "nbformat": 4,
 "nbformat_minor": 2
}
