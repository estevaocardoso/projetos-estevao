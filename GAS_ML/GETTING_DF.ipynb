{
  "cells": [
    {
      "cell_type": "markdown",
      "metadata": {
        "colab_type": "text",
        "id": "view-in-github"
      },
      "source": [
        "<a href=\"https://colab.research.google.com/github/estevaocardoso/projetos-estevao/blob/main/GETTING_DF.ipynb\" target=\"_parent\"><img src=\"https://colab.research.google.com/assets/colab-badge.svg\" alt=\"Open In Colab\"/></a>"
      ]
    },
    {
      "cell_type": "code",
      "execution_count": 2,
      "metadata": {
        "id": "qnJR7vJSj2oJ"
      },
      "outputs": [],
      "source": [
        "import basedosdados as bd "
      ]
    },
    {
      "cell_type": "code",
      "execution_count": 6,
      "metadata": {
        "colab": {
          "base_uri": "https://localhost:8080/"
        },
        "id": "HOjmjhjhq1d-",
        "outputId": "4e756dee-d1ae-43a3-a8c5-4e628cdf222c"
      },
      "outputs": [
        {
          "name": "stderr",
          "output_type": "stream",
          "text": [
            "Downloading: 100%|██████████| 5343344/5343344 [16:01<00:00, 5554.42rows/s]\n"
          ]
        }
      ],
      "source": [
        "query = '''\n",
        "SELECT ano, sigla_uf, id_municipio, bairro_revenda, cep_revenda, endereco_revenda, cnpj_revenda, nome_estabelecimento, bandeira_revenda, produto, unidade_medida, preco_compra, preco_venda FROM `basedosdados.br_anp_precos_combustiveis.microdados`\n",
        "WHERE sigla_uf IN ('PA', 'AM', 'SP', 'RJ')\n",
        "'''\n",
        "df = bd.read_sql(query,\n",
        "billing_project_id=\"extended-spark-302513\")"
      ]
    },
    {
      "cell_type": "markdown",
      "metadata": {
        "id": "Xf97Y0b7kf-S"
      },
      "source": [
        "# Nova seção"
      ]
    },
    {
      "cell_type": "code",
      "execution_count": 4,
      "metadata": {
        "id": "GBrlJq4pre7e"
      },
      "outputs": [],
      "source": [
        "import pandas as pd\n",
        "\n",
        "\n",
        "parquet_name = 'PA_FUEL.parquet'\n",
        "\n",
        "\n",
        "df.to_parquet(parquet_name, index=False)\n"
      ]
    },
    {
      "cell_type": "code",
      "execution_count": 7,
      "metadata": {},
      "outputs": [],
      "source": [
        "import pandas as pd\n",
        "\n",
        "parquet_name = 'PA_RJ_SP_AM_FUEL.parquet'\n",
        "\n",
        "df.to_parquet(parquet_name, index=False)"
      ]
    },
    {
      "cell_type": "code",
      "execution_count": 1,
      "metadata": {},
      "outputs": [],
      "source": [
        "duet = \"ej\""
      ]
    }
  ],
  "metadata": {
    "colab": {
      "authorship_tag": "ABX9TyM/T0yrAxRHeHG7OV1qn8pi",
      "include_colab_link": true,
      "provenance": []
    },
    "kernelspec": {
      "display_name": "Python 3",
      "name": "python3"
    },
    "language_info": {
      "codemirror_mode": {
        "name": "ipython",
        "version": 3
      },
      "file_extension": ".py",
      "mimetype": "text/x-python",
      "name": "python",
      "nbconvert_exporter": "python",
      "pygments_lexer": "ipython3",
      "version": "3.9.11"
    }
  },
  "nbformat": 4,
  "nbformat_minor": 0
}
