{
 "cells": [
  {
   "cell_type": "code",
   "execution_count": 1,
   "id": "99c0943d",
   "metadata": {},
   "outputs": [],
   "source": [
    "# Brasília - Neural Network\n",
    "\n",
    "import tensorflow\n",
    "tensorflow.random.set_seed(42)\n",
    "import numpy as np\n",
    "import pandas as pd\n",
    "import seaborn as sns\n",
    "import matplotlib.pyplot as plt\n",
    "from matplotlib.pyplot import rcParams\n",
    "%matplotlib inline\n",
    "rcParams['figure.figsize'] = 6,4\n",
    "sns.set(style='whitegrid', palette='muted',\n",
    "        rc={'figure.figsize': (6,4)})\n",
    "import os\n",
    "from sklearn.preprocessing import StandardScaler\n",
    "from sklearn.model_selection import train_test_split\n",
    "from sklearn.model_selection import GridSearchCV\n",
    "from keras.wrappers.scikit_learn import KerasClassifier\n",
    "from keras.models import Sequential\n",
    "from keras.layers import Dense, Activation, Dropout, Flatten\n",
    "from keras.layers import Conv2D, MaxPooling2D"
   ]
  },
  {
   "cell_type": "code",
   "execution_count": 2,
   "id": "3dbb8b7b",
   "metadata": {},
   "outputs": [
    {
     "data": {
      "text/html": [
       "<div>\n",
       "<style scoped>\n",
       "    .dataframe tbody tr th:only-of-type {\n",
       "        vertical-align: middle;\n",
       "    }\n",
       "\n",
       "    .dataframe tbody tr th {\n",
       "        vertical-align: top;\n",
       "    }\n",
       "\n",
       "    .dataframe thead th {\n",
       "        text-align: right;\n",
       "    }\n",
       "</style>\n",
       "<table border=\"1\" class=\"dataframe\">\n",
       "  <thead>\n",
       "    <tr style=\"text-align: right;\">\n",
       "      <th></th>\n",
       "      <th>SPD</th>\n",
       "      <th>CV</th>\n",
       "      <th>Price_sd</th>\n",
       "      <th>Price_skewness</th>\n",
       "      <th>Price_kurtosis</th>\n",
       "      <th>Cartel_DF</th>\n",
       "    </tr>\n",
       "  </thead>\n",
       "  <tbody>\n",
       "    <tr>\n",
       "      <th>0</th>\n",
       "      <td>-0.717529</td>\n",
       "      <td>-0.626223</td>\n",
       "      <td>-0.666778</td>\n",
       "      <td>-0.196953</td>\n",
       "      <td>-0.477565</td>\n",
       "      <td>1</td>\n",
       "    </tr>\n",
       "    <tr>\n",
       "      <th>1</th>\n",
       "      <td>-0.838328</td>\n",
       "      <td>-0.807425</td>\n",
       "      <td>-0.792635</td>\n",
       "      <td>0.885682</td>\n",
       "      <td>-0.286445</td>\n",
       "      <td>1</td>\n",
       "    </tr>\n",
       "    <tr>\n",
       "      <th>2</th>\n",
       "      <td>-0.516970</td>\n",
       "      <td>-0.574450</td>\n",
       "      <td>-0.631149</td>\n",
       "      <td>-1.795652</td>\n",
       "      <td>1.239965</td>\n",
       "      <td>1</td>\n",
       "    </tr>\n",
       "    <tr>\n",
       "      <th>3</th>\n",
       "      <td>-0.777291</td>\n",
       "      <td>-0.761828</td>\n",
       "      <td>-0.761104</td>\n",
       "      <td>-1.063986</td>\n",
       "      <td>0.201244</td>\n",
       "      <td>1</td>\n",
       "    </tr>\n",
       "    <tr>\n",
       "      <th>4</th>\n",
       "      <td>-0.716441</td>\n",
       "      <td>-0.647552</td>\n",
       "      <td>-0.681930</td>\n",
       "      <td>-0.602536</td>\n",
       "      <td>-0.301323</td>\n",
       "      <td>1</td>\n",
       "    </tr>\n",
       "  </tbody>\n",
       "</table>\n",
       "</div>"
      ],
      "text/plain": [
       "        SPD        CV  Price_sd  Price_skewness  Price_kurtosis  Cartel_DF\n",
       "0 -0.717529 -0.626223 -0.666778       -0.196953       -0.477565          1\n",
       "1 -0.838328 -0.807425 -0.792635        0.885682       -0.286445          1\n",
       "2 -0.516970 -0.574450 -0.631149       -1.795652        1.239965          1\n",
       "3 -0.777291 -0.761828 -0.761104       -1.063986        0.201244          1\n",
       "4 -0.716441 -0.647552 -0.681930       -0.602536       -0.301323          1"
      ]
     },
     "execution_count": 2,
     "metadata": {},
     "output_type": "execute_result"
    }
   ],
   "source": [
    "df = pd.read_excel(r\"Brasilia_ML_Std.xls\")\n",
    "df.head()"
   ]
  },
  {
   "cell_type": "code",
   "execution_count": 3,
   "id": "a0dbf663",
   "metadata": {},
   "outputs": [],
   "source": [
    "# Predicting Cartel\n",
    "# define X and y\n",
    "X = df.drop(\"Cartel_DF\",axis = 1)\n",
    "y = df.Cartel_DF"
   ]
  },
  {
   "cell_type": "code",
   "execution_count": 4,
   "id": "af30d9be",
   "metadata": {},
   "outputs": [
    {
     "name": "stdout",
     "output_type": "stream",
     "text": [
      "(489, 5) (489,)\n"
     ]
    }
   ],
   "source": [
    "# summarize the dataset\n",
    "print(X.shape, y.shape)"
   ]
  },
  {
   "cell_type": "code",
   "execution_count": 5,
   "id": "7522eb77",
   "metadata": {},
   "outputs": [],
   "source": [
    "from sklearn.model_selection import train_test_split\n",
    "X_train,X_test,y_train,y_test = train_test_split(X,y,test_size=0.3,random_state=42)"
   ]
  },
  {
   "cell_type": "code",
   "execution_count": 6,
   "id": "00670d96",
   "metadata": {},
   "outputs": [],
   "source": [
    "# The neural network model\n",
    "\n",
    "def create_model(lyrs=[5], act='linear', opt='Adam', dr=0.0):\n",
    "    \n",
    "    model = Sequential()\n",
    "    \n",
    "    # create first hidden layer\n",
    "    model.add(Dense(lyrs[0], input_dim=X_train.shape[1], activation=act))\n",
    "    \n",
    "    # create additional hidden layers\n",
    "    for i in range(1,len(lyrs)):\n",
    "        model.add(Dense(lyrs[i], activation=act))\n",
    "    \n",
    "    # add dropout, default is none\n",
    "    model.add(Dropout(dr))\n",
    "    \n",
    "    # create output layer\n",
    "    model.add(Dense(1, activation='sigmoid'))  # output layer\n",
    "    \n",
    "    model.compile(loss='binary_crossentropy', optimizer=opt, metrics=['accuracy'])\n",
    "    \n",
    "    return model"
   ]
  },
  {
   "cell_type": "code",
   "execution_count": 7,
   "id": "8ce027b1",
   "metadata": {},
   "outputs": [
    {
     "name": "stdout",
     "output_type": "stream",
     "text": [
      "Model: \"sequential\"\n",
      "_________________________________________________________________\n",
      "Layer (type)                 Output Shape              Param #   \n",
      "=================================================================\n",
      "dense (Dense)                (None, 5)                 30        \n",
      "_________________________________________________________________\n",
      "dropout (Dropout)            (None, 5)                 0         \n",
      "_________________________________________________________________\n",
      "dense_1 (Dense)              (None, 1)                 6         \n",
      "=================================================================\n",
      "Total params: 36\n",
      "Trainable params: 36\n",
      "Non-trainable params: 0\n",
      "_________________________________________________________________\n",
      "None\n"
     ]
    }
   ],
   "source": [
    "model = create_model()\n",
    "print(model.summary())"
   ]
  },
  {
   "cell_type": "code",
   "execution_count": 8,
   "id": "8891ab71",
   "metadata": {},
   "outputs": [
    {
     "name": "stdout",
     "output_type": "stream",
     "text": [
      "\n",
      "val_accuracy: 84.84%\n"
     ]
    }
   ],
   "source": [
    "# train model on full train set, with 80/20 CV split\n",
    "training = model.fit(X_train, y_train, epochs=100, batch_size=32, validation_split=0.2, verbose=0)\n",
    "val_accuracy = np.mean(training.history['val_accuracy'])\n",
    "print(\"\\n%s: %.2f%%\" % ('val_accuracy', val_accuracy*100))"
   ]
  },
  {
   "cell_type": "code",
   "execution_count": 9,
   "id": "4187f2db",
   "metadata": {},
   "outputs": [
    {
     "data": {
      "image/png": "[encoded data removed]",
      "text/plain": [
       "<Figure size 432x288 with 1 Axes>"
      ]
     },
     "metadata": {},
     "output_type": "display_data"
    }
   ],
   "source": [
    "# summarize history for accuracy\n",
    "plt.plot(training.history['accuracy'])\n",
    "plt.plot(training.history['val_accuracy'])\n",
    "plt.title('Neural Network Model Accuracy (Brasília)')\n",
    "plt.ylabel('Accuracy')\n",
    "plt.xlabel('Epoch')\n",
    "plt.legend(['train', 'validation'])\n",
    "plt.grid(False)\n",
    "plt.show()"
   ]
  },
  {
   "cell_type": "code",
   "execution_count": 10,
   "id": "4a69c476",
   "metadata": {},
   "outputs": [
    {
     "name": "stdout",
     "output_type": "stream",
     "text": [
      "Fitting 3 folds for each of 20 candidates, totalling 60 fits\n"
     ]
    }
   ],
   "source": [
    "# Grid search for the batch size and epochs\n",
    "\n",
    "# create model\n",
    "model = KerasClassifier(build_fn=create_model, verbose=0)\n",
    "\n",
    "# define the grid search parameters\n",
    "batch_size = [4, 8, 16, 32, 64]\n",
    "epochs = [25, 50, 75, 100]\n",
    "param_grid = dict(batch_size=batch_size, epochs=epochs)\n",
    "\n",
    "# search the grid\n",
    "grid = GridSearchCV(estimator=model, param_grid=param_grid, scoring='accuracy', cv=3, verbose=2, n_jobs=-1)  \n",
    "grid_result = grid.fit(X_train, y_train)"
   ]
  },
  {
   "cell_type": "code",
   "execution_count": 11,
   "id": "a949b0cc",
   "metadata": {},
   "outputs": [
    {
     "name": "stdout",
     "output_type": "stream",
     "text": [
      "Best: 0.941520 using {'batch_size': 4, 'epochs': 25}\n",
      "0.941520 (0.036049) with: {'batch_size': 4, 'epochs': 25}\n",
      "0.941520 (0.036049) with: {'batch_size': 4, 'epochs': 50}\n",
      "0.941520 (0.036049) with: {'batch_size': 4, 'epochs': 75}\n",
      "0.941520 (0.036049) with: {'batch_size': 4, 'epochs': 100}\n",
      "0.915205 (0.020676) with: {'batch_size': 8, 'epochs': 25}\n",
      "0.941520 (0.036049) with: {'batch_size': 8, 'epochs': 50}\n",
      "0.941520 (0.036049) with: {'batch_size': 8, 'epochs': 75}\n",
      "0.941520 (0.036049) with: {'batch_size': 8, 'epochs': 100}\n",
      "0.935673 (0.043762) with: {'batch_size': 16, 'epochs': 25}\n",
      "0.938596 (0.032822) with: {'batch_size': 16, 'epochs': 50}\n",
      "0.941520 (0.036049) with: {'batch_size': 16, 'epochs': 75}\n",
      "0.941520 (0.036049) with: {'batch_size': 16, 'epochs': 100}\n",
      "0.938596 (0.037216) with: {'batch_size': 32, 'epochs': 25}\n",
      "0.923977 (0.021881) with: {'batch_size': 32, 'epochs': 50}\n",
      "0.926901 (0.032296) with: {'batch_size': 32, 'epochs': 75}\n",
      "0.938596 (0.032822) with: {'batch_size': 32, 'epochs': 100}\n",
      "0.625731 (0.344409) with: {'batch_size': 64, 'epochs': 25}\n",
      "0.926901 (0.036754) with: {'batch_size': 64, 'epochs': 50}\n",
      "0.941520 (0.028946) with: {'batch_size': 64, 'epochs': 75}\n",
      "0.929825 (0.037899) with: {'batch_size': 64, 'epochs': 100}\n"
     ]
    }
   ],
   "source": [
    "# summarize results\n",
    "print(\"Best: %f using %s\" % (grid_result.best_score_, grid_result.best_params_))\n",
    "means = grid_result.cv_results_['mean_test_score']\n",
    "stds = grid_result.cv_results_['std_test_score']\n",
    "params = grid_result.cv_results_['params']\n",
    "for mean, stdev, param in zip(means, stds, params):\n",
    "    print(\"%f (%f) with: %r\" % (mean, stdev, param))"
   ]
  },
  {
   "cell_type": "code",
   "execution_count": 12,
   "id": "c8dad2bf",
   "metadata": {},
   "outputs": [
    {
     "name": "stdout",
     "output_type": "stream",
     "text": [
      "Fitting 5 folds for each of 6 candidates, totalling 30 fits\n"
     ]
    }
   ],
   "source": [
    "# optimization Algorithm \n",
    "\n",
    "# create model\n",
    "model = KerasClassifier(build_fn=create_model, epochs=75, batch_size=4, verbose=0)\n",
    "\n",
    "# define the grid search parameters\n",
    "optimizer = ['SGD', 'RMSprop', 'Adagrad', 'Adadelta', 'Adam', 'Nadam']\n",
    "param_grid = dict(opt=optimizer)\n",
    "\n",
    "# search the grid\n",
    "grid = GridSearchCV(estimator=model, param_grid=param_grid, scoring='accuracy', verbose=2, n_jobs=-1)\n",
    "grid_result = grid.fit(X_train, y_train)"
   ]
  },
  {
   "cell_type": "code",
   "execution_count": 13,
   "id": "3e3e1408",
   "metadata": {},
   "outputs": [
    {
     "name": "stdout",
     "output_type": "stream",
     "text": [
      "Best: 0.944203 using {'opt': 'RMSprop'}\n",
      "0.941304 (0.046599) with: {'opt': 'SGD'}\n",
      "0.944203 (0.048757) with: {'opt': 'RMSprop'}\n",
      "0.876726 (0.078896) with: {'opt': 'Adagrad'}\n",
      "0.398636 (0.293266) with: {'opt': 'Adadelta'}\n",
      "0.941304 (0.046599) with: {'opt': 'Adam'}\n",
      "0.941304 (0.046599) with: {'opt': 'Nadam'}\n"
     ]
    }
   ],
   "source": [
    "# summarize results\n",
    "print(\"Best: %f using %s\" % (grid_result.best_score_, grid_result.best_params_))\n",
    "means = grid_result.cv_results_['mean_test_score']\n",
    "stds = grid_result.cv_results_['std_test_score']\n",
    "params = grid_result.cv_results_['params']\n",
    "for mean, stdev, param in zip(means, stds, params):\n",
    "    print(\"%f (%f) with: %r\" % (mean, stdev, param))"
   ]
  },
  {
   "cell_type": "code",
   "execution_count": 14,
   "id": "b7bda50d",
   "metadata": {},
   "outputs": [
    {
     "name": "stdout",
     "output_type": "stream",
     "text": [
      "Fitting 5 folds for each of 3 candidates, totalling 15 fits\n",
      "WARNING:tensorflow:From C:\\Users\\Douglas Silveira\\anaconda3\\lib\\site-packages\\tensorflow\\python\\keras\\wrappers\\scikit_learn.py:241: Sequential.predict_classes (from tensorflow.python.keras.engine.sequential) is deprecated and will be removed after 2021-01-01.\n",
      "Instructions for updating:\n",
      "Please use instead:* `np.argmax(model.predict(x), axis=-1)`,   if your model does multi-class classification   (e.g. if it uses a `softmax` last-layer activation).* `(model.predict(x) > 0.5).astype(\"int32\")`,   if your model does binary classification   (e.g. if it uses a `sigmoid` last-layer activation).\n",
      "[CV] END ..........................................lyrs=(6,); total time=   2.7s\n",
      "[CV] END ..........................................lyrs=(6,); total time=   2.5s\n",
      "[CV] END ..........................................lyrs=(6,); total time=   2.7s\n",
      "[CV] END ..........................................lyrs=(6,); total time=   2.5s\n",
      "[CV] END ..........................................lyrs=(6,); total time=   2.6s\n",
      "[CV] END ........................................lyrs=(6, 4); total time=   3.2s\n",
      "[CV] END ........................................lyrs=(6, 4); total time=   2.9s\n",
      "[CV] END ........................................lyrs=(6, 4); total time=   2.8s\n",
      "[CV] END ........................................lyrs=(6, 4); total time=   2.8s\n",
      "[CV] END ........................................lyrs=(6, 4); total time=   2.7s\n",
      "[CV] END .....................................lyrs=(6, 4, 2); total time=   2.8s\n",
      "[CV] END .....................................lyrs=(6, 4, 2); total time=   2.9s\n",
      "[CV] END .....................................lyrs=(6, 4, 2); total time=   2.8s\n",
      "[CV] END .....................................lyrs=(6, 4, 2); total time=   2.8s\n",
      "[CV] END .....................................lyrs=(6, 4, 2); total time=   3.3s\n"
     ]
    }
   ],
   "source": [
    "#Hidden neurons\n",
    "\n",
    "# create model\n",
    "model = KerasClassifier(build_fn=create_model, \n",
    "                        epochs=75, batch_size=4, verbose=0)\n",
    "\n",
    "# define the grid search parameters\n",
    "layers = [(6,),(6, 4), (6, 4, 2)]\n",
    "param_grid = dict(lyrs=layers)\n",
    "\n",
    "# search the grid\n",
    "grid = GridSearchCV(estimator=model, param_grid=param_grid, scoring='accuracy', verbose=2)\n",
    "grid_result = grid.fit(X_train, y_train)"
   ]
  },
  {
   "cell_type": "code",
   "execution_count": 15,
   "id": "a90ade77",
   "metadata": {},
   "outputs": [
    {
     "name": "stdout",
     "output_type": "stream",
     "text": [
      "Best: 0.958866 using {'lyrs': (6, 4, 2)}\n",
      "0.944203 (0.048757) with: {'lyrs': (6,)}\n",
      "0.950043 (0.046163) with: {'lyrs': (6, 4)}\n",
      "0.958866 (0.031439) with: {'lyrs': (6, 4, 2)}\n"
     ]
    }
   ],
   "source": [
    "# summarize results\n",
    "print(\"Best: %f using %s\" % (grid_result.best_score_, grid_result.best_params_))\n",
    "means = grid_result.cv_results_['mean_test_score']\n",
    "stds = grid_result.cv_results_['std_test_score']\n",
    "params = grid_result.cv_results_['params']\n",
    "for mean, stdev, param in zip(means, stds, params):\n",
    "    print(\"%f (%f) with: %r\" % (mean, stdev, param))"
   ]
  },
  {
   "cell_type": "code",
   "execution_count": 16,
   "id": "48fb1776",
   "metadata": {},
   "outputs": [
    {
     "name": "stdout",
     "output_type": "stream",
     "text": [
      "Fitting 5 folds for each of 6 candidates, totalling 30 fits\n",
      "[CV] END .............................................dr=0.0; total time=   2.6s\n",
      "[CV] END .............................................dr=0.0; total time=   2.6s\n",
      "[CV] END .............................................dr=0.0; total time=   2.5s\n",
      "[CV] END .............................................dr=0.0; total time=   2.5s\n",
      "[CV] END .............................................dr=0.0; total time=   2.7s\n",
      "[CV] END ............................................dr=0.01; total time=   2.5s\n",
      "[CV] END ............................................dr=0.01; total time=   2.5s\n",
      "[CV] END ............................................dr=0.01; total time=   2.5s\n",
      "[CV] END ............................................dr=0.01; total time=   2.6s\n",
      "[CV] END ............................................dr=0.01; total time=   2.5s\n",
      "[CV] END ............................................dr=0.05; total time=   2.6s\n",
      "[CV] END ............................................dr=0.05; total time=   2.5s\n",
      "[CV] END ............................................dr=0.05; total time=   2.5s\n",
      "[CV] END ............................................dr=0.05; total time=   2.6s\n",
      "[CV] END ............................................dr=0.05; total time=   2.5s\n",
      "[CV] END .............................................dr=0.1; total time=   2.6s\n",
      "[CV] END .............................................dr=0.1; total time=   2.6s\n",
      "[CV] END .............................................dr=0.1; total time=   2.5s\n",
      "[CV] END .............................................dr=0.1; total time=   2.6s\n",
      "[CV] END .............................................dr=0.1; total time=   2.6s\n",
      "[CV] END .............................................dr=0.2; total time=   2.5s\n",
      "[CV] END .............................................dr=0.2; total time=   2.5s\n",
      "[CV] END .............................................dr=0.2; total time=   2.7s\n",
      "[CV] END .............................................dr=0.2; total time=   2.7s\n",
      "[CV] END .............................................dr=0.2; total time=   2.5s\n",
      "[CV] END .............................................dr=0.5; total time=   2.5s\n",
      "[CV] END .............................................dr=0.5; total time=   2.7s\n",
      "[CV] END .............................................dr=0.5; total time=   3.4s\n",
      "[CV] END .............................................dr=0.5; total time=   3.3s\n",
      "[CV] END .............................................dr=0.5; total time=   3.4s\n"
     ]
    }
   ],
   "source": [
    "#Dropout\n",
    "\n",
    "# create model\n",
    "model = KerasClassifier(build_fn=create_model, \n",
    "                        epochs=75, batch_size=4, verbose=0)\n",
    "\n",
    "# define the grid search parameters\n",
    "drops = [0.0, 0.01, 0.05, 0.1, 0.2, 0.5]\n",
    "param_grid = dict(dr=drops)\n",
    "grid = GridSearchCV(estimator=model, param_grid=param_grid, scoring='accuracy', verbose=2)\n",
    "grid_result = grid.fit(X_train, y_train)"
   ]
  },
  {
   "cell_type": "code",
   "execution_count": 17,
   "id": "005ee3fd",
   "metadata": {},
   "outputs": [
    {
     "name": "stdout",
     "output_type": "stream",
     "text": [
      "Best: 0.944203 using {'dr': 0.01}\n",
      "0.941304 (0.046599) with: {'dr': 0.0}\n",
      "0.944203 (0.048757) with: {'dr': 0.01}\n",
      "0.941304 (0.046599) with: {'dr': 0.05}\n",
      "0.941304 (0.046599) with: {'dr': 0.1}\n",
      "0.941304 (0.046599) with: {'dr': 0.2}\n",
      "0.941304 (0.046599) with: {'dr': 0.5}\n"
     ]
    }
   ],
   "source": [
    "# summarize results\n",
    "print(\"Best: %f using %s\" % (grid_result.best_score_, grid_result.best_params_))\n",
    "means = grid_result.cv_results_['mean_test_score']\n",
    "stds = grid_result.cv_results_['std_test_score']\n",
    "params = grid_result.cv_results_['params']\n",
    "for mean, stdev, param in zip(means, stds, params):\n",
    "    print(\"%f (%f) with: %r\" % (mean, stdev, param))"
   ]
  },
  {
   "cell_type": "code",
   "execution_count": 18,
   "id": "894f2c34",
   "metadata": {},
   "outputs": [
    {
     "name": "stdout",
     "output_type": "stream",
     "text": [
      "Model: \"sequential_50\"\n",
      "_________________________________________________________________\n",
      "Layer (type)                 Output Shape              Param #   \n",
      "=================================================================\n",
      "dense_117 (Dense)            (None, 6)                 36        \n",
      "_________________________________________________________________\n",
      "dense_118 (Dense)            (None, 4)                 28        \n",
      "_________________________________________________________________\n",
      "dropout_50 (Dropout)         (None, 4)                 0         \n",
      "_________________________________________________________________\n",
      "dense_119 (Dense)            (None, 1)                 5         \n",
      "=================================================================\n",
      "Total params: 69\n",
      "Trainable params: 69\n",
      "Non-trainable params: 0\n",
      "_________________________________________________________________\n",
      "None\n"
     ]
    }
   ],
   "source": [
    "# create final model\n",
    "model = create_model(lyrs=[6,4], dr=0.01)\n",
    "\n",
    "print(model.summary())"
   ]
  },
  {
   "cell_type": "code",
   "execution_count": 19,
   "id": "e1b22d78",
   "metadata": {},
   "outputs": [
    {
     "name": "stdout",
     "output_type": "stream",
     "text": [
      "11/11 [==============================] - 0s 907us/step - loss: 0.1556 - accuracy: 0.9444\n",
      "\n",
      "accuracy: 94.44%\n"
     ]
    }
   ],
   "source": [
    "# train model on full train set, with 80/20 CV split\n",
    "training = model.fit(X_train, y_train, epochs=75, batch_size=4, \n",
    "                     validation_split=0.2, verbose=0)\n",
    "\n",
    "# evaluate the model\n",
    "scores = model.evaluate(X_train, y_train)\n",
    "print(\"\\n%s: %.2f%%\" % (model.metrics_names[1], scores[1]*100))"
   ]
  },
  {
   "cell_type": "code",
   "execution_count": 20,
   "id": "7a900971",
   "metadata": {
    "scrolled": true
   },
   "outputs": [
    {
     "data": {
      "image/png": "[encoded data removed]",
      "text/plain": [
       "<Figure size 432x288 with 1 Axes>"
      ]
     },
     "metadata": {},
     "output_type": "display_data"
    }
   ],
   "source": [
    "# summarize history for accuracy\n",
    "plt.plot(training.history['accuracy'])\n",
    "plt.plot(training.history['val_accuracy'])\n",
    "plt.title('Neural Network Model Accuracy (Brasília)')\n",
    "plt.ylabel('Accuracy')\n",
    "plt.xlabel('Epoch')\n",
    "plt.legend(['train', 'validation'])\n",
    "plt.grid(False)\n",
    "plt.show()"
   ]
  },
  {
   "cell_type": "code",
   "execution_count": 21,
   "id": "e774b01a",
   "metadata": {},
   "outputs": [
    {
     "name": "stdout",
     "output_type": "stream",
     "text": [
      "Epoch 1/75\n",
      "37/37 [==============================] - 0s 1ms/step - loss: 0.6890 - accuracy: 0.7211\n",
      "Epoch 2/75\n",
      "37/37 [==============================] - 0s 1ms/step - loss: 0.6168 - accuracy: 0.7483\n",
      "Epoch 3/75\n",
      "37/37 [==============================] - 0s 996us/step - loss: 0.5671 - accuracy: 0.7551\n",
      "Epoch 4/75\n",
      "37/37 [==============================] - 0s 1ms/step - loss: 0.5291 - accuracy: 0.7619\n",
      "Epoch 5/75\n",
      "37/37 [==============================] - 0s 1ms/step - loss: 0.5000 - accuracy: 0.7755\n",
      "Epoch 6/75\n",
      "37/37 [==============================] - 0s 1ms/step - loss: 0.4763 - accuracy: 0.8027\n",
      "Epoch 7/75\n",
      "37/37 [==============================] - 0s 973us/step - loss: 0.4574 - accuracy: 0.8095\n",
      "Epoch 8/75\n",
      "37/37 [==============================] - 0s 1ms/step - loss: 0.4419 - accuracy: 0.8095\n",
      "Epoch 9/75\n",
      "37/37 [==============================] - 0s 1ms/step - loss: 0.4290 - accuracy: 0.8027\n",
      "Epoch 10/75\n",
      "37/37 [==============================] - 0s 1ms/step - loss: 0.4190 - accuracy: 0.8027\n",
      "Epoch 11/75\n",
      "37/37 [==============================] - 0s 1ms/step - loss: 0.4096 - accuracy: 0.8231\n",
      "Epoch 12/75\n",
      "37/37 [==============================] - 0s 1ms/step - loss: 0.4031 - accuracy: 0.8367\n",
      "Epoch 13/75\n",
      "37/37 [==============================] - 0s 1ms/step - loss: 0.3967 - accuracy: 0.8503\n",
      "Epoch 14/75\n",
      "37/37 [==============================] - 0s 973us/step - loss: 0.3916 - accuracy: 0.8503\n",
      "Epoch 15/75\n",
      "37/37 [==============================] - 0s 973us/step - loss: 0.3873 - accuracy: 0.8503\n",
      "Epoch 16/75\n",
      "37/37 [==============================] - 0s 946us/step - loss: 0.3841 - accuracy: 0.8503\n",
      "Epoch 17/75\n",
      "37/37 [==============================] - 0s 1ms/step - loss: 0.3805 - accuracy: 0.8571\n",
      "Epoch 18/75\n",
      "37/37 [==============================] - 0s 1ms/step - loss: 0.3775 - accuracy: 0.8571\n",
      "Epoch 19/75\n",
      "37/37 [==============================] - 0s 916us/step - loss: 0.3751 - accuracy: 0.8571\n",
      "Epoch 20/75\n",
      "37/37 [==============================] - 0s 978us/step - loss: 0.3728 - accuracy: 0.8571\n",
      "Epoch 21/75\n",
      "37/37 [==============================] - 0s 946us/step - loss: 0.3708 - accuracy: 0.8571\n",
      "Epoch 22/75\n",
      "37/37 [==============================] - 0s 946us/step - loss: 0.3687 - accuracy: 0.8571\n",
      "Epoch 23/75\n",
      "37/37 [==============================] - 0s 946us/step - loss: 0.3672 - accuracy: 0.8571\n",
      "Epoch 24/75\n",
      "37/37 [==============================] - 0s 1ms/step - loss: 0.3650 - accuracy: 0.8571\n",
      "Epoch 25/75\n",
      "37/37 [==============================] - 0s 946us/step - loss: 0.3636 - accuracy: 0.8571\n",
      "Epoch 26/75\n",
      "37/37 [==============================] - 0s 946us/step - loss: 0.3626 - accuracy: 0.8571\n",
      "Epoch 27/75\n",
      "37/37 [==============================] - 0s 1ms/step - loss: 0.3605 - accuracy: 0.8571\n",
      "Epoch 28/75\n",
      "37/37 [==============================] - 0s 974us/step - loss: 0.3597 - accuracy: 0.8571\n",
      "Epoch 29/75\n",
      "37/37 [==============================] - 0s 1ms/step - loss: 0.3584 - accuracy: 0.8571\n",
      "Epoch 30/75\n",
      "37/37 [==============================] - 0s 946us/step - loss: 0.3574 - accuracy: 0.8571\n",
      "Epoch 31/75\n",
      "37/37 [==============================] - 0s 1ms/step - loss: 0.3566 - accuracy: 0.8571\n",
      "Epoch 32/75\n",
      "37/37 [==============================] - 0s 973us/step - loss: 0.3548 - accuracy: 0.8571\n",
      "Epoch 33/75\n",
      "37/37 [==============================] - 0s 1ms/step - loss: 0.3543 - accuracy: 0.8571\n",
      "Epoch 34/75\n",
      "37/37 [==============================] - 0s 1000us/step - loss: 0.3530 - accuracy: 0.8571\n",
      "Epoch 35/75\n",
      "37/37 [==============================] - 0s 1ms/step - loss: 0.3521 - accuracy: 0.8571\n",
      "Epoch 36/75\n",
      "37/37 [==============================] - 0s 973us/step - loss: 0.3514 - accuracy: 0.8571\n",
      "Epoch 37/75\n",
      "37/37 [==============================] - 0s 1ms/step - loss: 0.3502 - accuracy: 0.8571\n",
      "Epoch 38/75\n",
      "37/37 [==============================] - 0s 892us/step - loss: 0.3495 - accuracy: 0.8571\n",
      "Epoch 39/75\n",
      "37/37 [==============================] - 0s 973us/step - loss: 0.3485 - accuracy: 0.8571\n",
      "Epoch 40/75\n",
      "37/37 [==============================] - 0s 997us/step - loss: 0.3479 - accuracy: 0.8571\n",
      "Epoch 41/75\n",
      "37/37 [==============================] - 0s 892us/step - loss: 0.3466 - accuracy: 0.8571\n",
      "Epoch 42/75\n",
      "37/37 [==============================] - 0s 919us/step - loss: 0.3460 - accuracy: 0.8571\n",
      "Epoch 43/75\n",
      "37/37 [==============================] - 0s 892us/step - loss: 0.3452 - accuracy: 0.8571\n",
      "Epoch 44/75\n",
      "37/37 [==============================] - 0s 919us/step - loss: 0.3449 - accuracy: 0.8571\n",
      "Epoch 45/75\n",
      "37/37 [==============================] - 0s 892us/step - loss: 0.3436 - accuracy: 0.8571\n",
      "Epoch 46/75\n",
      "37/37 [==============================] - 0s 892us/step - loss: 0.3431 - accuracy: 0.8571\n",
      "Epoch 47/75\n",
      "37/37 [==============================] - 0s 892us/step - loss: 0.3429 - accuracy: 0.8571\n",
      "Epoch 48/75\n",
      "37/37 [==============================] - 0s 973us/step - loss: 0.3414 - accuracy: 0.8571\n",
      "Epoch 49/75\n",
      "37/37 [==============================] - 0s 946us/step - loss: 0.3409 - accuracy: 0.8571\n",
      "Epoch 50/75\n",
      "37/37 [==============================] - 0s 999us/step - loss: 0.3404 - accuracy: 0.8571\n",
      "Epoch 51/75\n",
      "37/37 [==============================] - 0s 1ms/step - loss: 0.3393 - accuracy: 0.8571\n",
      "Epoch 52/75\n",
      "37/37 [==============================] - 0s 973us/step - loss: 0.3389 - accuracy: 0.8571\n",
      "Epoch 53/75\n",
      "37/37 [==============================] - 0s 978us/step - loss: 0.3382 - accuracy: 0.8571\n",
      "Epoch 54/75\n",
      "37/37 [==============================] - 0s 945us/step - loss: 0.3374 - accuracy: 0.8571\n",
      "Epoch 55/75\n",
      "37/37 [==============================] - 0s 919us/step - loss: 0.3364 - accuracy: 0.8571\n",
      "Epoch 56/75\n",
      "37/37 [==============================] - 0s 946us/step - loss: 0.3363 - accuracy: 0.8571\n",
      "Epoch 57/75\n",
      "37/37 [==============================] - 0s 973us/step - loss: 0.3358 - accuracy: 0.8571\n",
      "Epoch 58/75\n",
      "37/37 [==============================] - 0s 919us/step - loss: 0.3349 - accuracy: 0.8571\n",
      "Epoch 59/75\n",
      "37/37 [==============================] - 0s 892us/step - loss: 0.3339 - accuracy: 0.8571\n",
      "Epoch 60/75\n",
      "37/37 [==============================] - 0s 838us/step - loss: 0.3334 - accuracy: 0.8571\n",
      "Epoch 61/75\n",
      "37/37 [==============================] - 0s 838us/step - loss: 0.3329 - accuracy: 0.8571\n",
      "Epoch 62/75\n",
      "37/37 [==============================] - 0s 974us/step - loss: 0.3315 - accuracy: 0.8571\n",
      "Epoch 63/75\n",
      "37/37 [==============================] - 0s 946us/step - loss: 0.3314 - accuracy: 0.8571\n",
      "Epoch 64/75\n",
      "37/37 [==============================] - 0s 892us/step - loss: 0.3301 - accuracy: 0.8571\n",
      "Epoch 65/75\n",
      "37/37 [==============================] - 0s 919us/step - loss: 0.3295 - accuracy: 0.8571\n",
      "Epoch 66/75\n",
      "37/37 [==============================] - 0s 919us/step - loss: 0.3293 - accuracy: 0.8571\n",
      "Epoch 67/75\n",
      "37/37 [==============================] - 0s 892us/step - loss: 0.3281 - accuracy: 0.8571\n",
      "Epoch 68/75\n",
      "37/37 [==============================] - 0s 919us/step - loss: 0.3277 - accuracy: 0.8571\n",
      "Epoch 69/75\n",
      "37/37 [==============================] - 0s 919us/step - loss: 0.3270 - accuracy: 0.8571\n",
      "Epoch 70/75\n",
      "37/37 [==============================] - 0s 946us/step - loss: 0.3257 - accuracy: 0.8571\n",
      "Epoch 71/75\n",
      "37/37 [==============================] - 0s 892us/step - loss: 0.3253 - accuracy: 0.8571\n",
      "Epoch 72/75\n",
      "37/37 [==============================] - 0s 919us/step - loss: 0.3247 - accuracy: 0.8571\n",
      "Epoch 73/75\n",
      "37/37 [==============================] - 0s 892us/step - loss: 0.3239 - accuracy: 0.8571\n",
      "Epoch 74/75\n",
      "37/37 [==============================] - 0s 892us/step - loss: 0.3235 - accuracy: 0.8571\n",
      "Epoch 75/75\n",
      "37/37 [==============================] - 0s 892us/step - loss: 0.3225 - accuracy: 0.8571\n"
     ]
    }
   ],
   "source": [
    "# make class predictions for the testing set\n",
    "model = create_model()\n",
    "model.fit(X_test, y_test,\n",
    "          batch_size=4,\n",
    "          epochs=75,\n",
    "          shuffle=True)\n",
    "y_pred = model.predict(X_test)"
   ]
  },
  {
   "cell_type": "code",
   "execution_count": 37,
   "id": "4a7a8c4b",
   "metadata": {},
   "outputs": [
    {
     "data": {
      "image/png": "[encoded data removed]",
      "text/plain": [
       "<Figure size 432x288 with 2 Axes>"
      ]
     },
     "metadata": {},
     "output_type": "display_data"
    }
   ],
   "source": [
    "from sklearn import metrics\n",
    "cnf_matrix = metrics.confusion_matrix(y_test, y_pred.round())\n",
    "sns.set(font_scale=1.2) # Adjust to fit\n",
    "p = sns.heatmap(pd.DataFrame(cnf_matrix), annot=True, cmap=\"YlGnBu\" ,fmt='g')\n",
    "plt.title('Neural Network', y=1.025)\n",
    "plt.ylabel('Actual Values')\n",
    "plt.xlabel('Predicted Values')\n",
    "plt.savefig('CM_NeuralNetwork_Brasilia.png', dpi=600)"
   ]
  },
  {
   "cell_type": "code",
   "execution_count": 23,
   "id": "2fb1ae46",
   "metadata": {},
   "outputs": [
    {
     "name": "stdout",
     "output_type": "stream",
     "text": [
      "              precision    recall  f1-score   support\n",
      "\n",
      "           0       0.84      0.80      0.82        60\n",
      "           1       0.87      0.90      0.88        87\n",
      "\n",
      "    accuracy                           0.86       147\n",
      "   macro avg       0.85      0.85      0.85       147\n",
      "weighted avg       0.86      0.86      0.86       147\n",
      "\n"
     ]
    }
   ],
   "source": [
    "#import classification_report\n",
    "from sklearn.metrics import classification_report\n",
    "print(classification_report(y_test,y_pred.round()))"
   ]
  },
  {
   "cell_type": "code",
   "execution_count": 24,
   "id": "09f96d96",
   "metadata": {},
   "outputs": [],
   "source": [
    "from sklearn.metrics import roc_curve\n",
    "y_pred_proba = model.predict(X_test)[:,0]\n",
    "fpr, tpr, thresholds = roc_curve(y_test, y_pred_proba)"
   ]
  },
  {
   "cell_type": "code",
   "execution_count": 25,
   "id": "479f5c38",
   "metadata": {},
   "outputs": [
    {
     "data": {
      "image/png": "[encoded data removed]",
      "text/plain": [
       "<Figure size 432x288 with 1 Axes>"
      ]
     },
     "metadata": {},
     "output_type": "display_data"
    }
   ],
   "source": [
    "# histogram of predicted probabilities\n",
    "plt.hist(y_pred_proba, bins=8)\n",
    "plt.xlim(0, 1)\n",
    "plt.title('Histogram of predicted probabilities - Neural Network')\n",
    "plt.xlabel('Predicted probability - (Brasília) ')\n",
    "plt.ylabel('Frequency')\n",
    "plt.grid(False)\n",
    "plt.savefig('Histogram_NeuralNetwork_Brasilia.eps', format='eps')\n",
    "## "
   ]
  },
  {
   "cell_type": "code",
   "execution_count": 26,
   "id": "265c5d26",
   "metadata": {},
   "outputs": [
    {
     "data": {
      "image/png": "[encoded data removed]",
      "text/plain": [
       "<Figure size 432x288 with 1 Axes>"
      ]
     },
     "metadata": {},
     "output_type": "display_data"
    }
   ],
   "source": [
    "plt.plot([0,1],[0,1],'k--')\n",
    "plt.plot(fpr,tpr, label='Logistic')\n",
    "plt.xlabel('False Positive')\n",
    "plt.ylabel('True Positive')\n",
    "plt.title('Neural Network - ROC curve (Brasília)')\n",
    "plt.grid(False)\n",
    "sns.set_style(\"ticks\")\n",
    "plt.savefig('ROC_NeuralNetwork_Brasilia.eps', format='eps')"
   ]
  },
  {
   "cell_type": "code",
   "execution_count": 27,
   "id": "7ab8926a",
   "metadata": {},
   "outputs": [
    {
     "data": {
      "text/plain": [
       "0.9061302681992338"
      ]
     },
     "execution_count": 27,
     "metadata": {},
     "output_type": "execute_result"
    }
   ],
   "source": [
    "#Area under ROC curve\n",
    "from sklearn.metrics import roc_auc_score\n",
    "roc_auc_score(y_test,y_pred_proba)"
   ]
  },
  {
   "cell_type": "code",
   "execution_count": 28,
   "id": "2c165fc2",
   "metadata": {},
   "outputs": [
    {
     "data": {
      "text/html": [
       "\n",
       "    <style>\n",
       "    table.eli5-weights tr:hover {\n",
       "        filter: brightness(85%);\n",
       "    }\n",
       "</style>\n",
       "\n",
       "\n",
       "\n",
       "    \n",
       "\n",
       "    \n",
       "\n",
       "    \n",
       "\n",
       "    \n",
       "\n",
       "    \n",
       "\n",
       "    \n",
       "\n",
       "\n",
       "    \n",
       "\n",
       "    \n",
       "\n",
       "    \n",
       "\n",
       "    \n",
       "\n",
       "    \n",
       "\n",
       "    \n",
       "\n",
       "\n",
       "    \n",
       "\n",
       "    \n",
       "\n",
       "    \n",
       "\n",
       "    \n",
       "\n",
       "    \n",
       "        <table class=\"eli5-weights eli5-feature-importances\" style=\"border-collapse: collapse; border: none; margin-top: 0em; table-layout: auto;\">\n",
       "    <thead>\n",
       "    <tr style=\"border: none;\">\n",
       "        <th style=\"padding: 0 1em 0 0.5em; text-align: right; border: none;\">Weight</th>\n",
       "        <th style=\"padding: 0 0.5em 0 0.5em; text-align: left; border: none;\">Feature</th>\n",
       "    </tr>\n",
       "    </thead>\n",
       "    <tbody>\n",
       "    \n",
       "        <tr style=\"background-color: hsl(120, 100.00%, 80.00%); border: none;\">\n",
       "            <td style=\"padding: 0 1em 0 0.5em; text-align: right; border: none;\">\n",
       "                0.0661\n",
       "                \n",
       "                    &plusmn; 0.0003\n",
       "                \n",
       "            </td>\n",
       "            <td style=\"padding: 0 0.5em 0 0.5em; text-align: left; border: none;\">\n",
       "                Price_sd\n",
       "            </td>\n",
       "        </tr>\n",
       "    \n",
       "        <tr style=\"background-color: hsl(120, 100.00%, 85.45%); border: none;\">\n",
       "            <td style=\"padding: 0 1em 0 0.5em; text-align: right; border: none;\">\n",
       "                0.0420\n",
       "                \n",
       "                    &plusmn; 0.0198\n",
       "                \n",
       "            </td>\n",
       "            <td style=\"padding: 0 0.5em 0 0.5em; text-align: left; border: none;\">\n",
       "                CV\n",
       "            </td>\n",
       "        </tr>\n",
       "    \n",
       "        <tr style=\"background-color: hsl(120, 100.00%, 89.02%); border: none;\">\n",
       "            <td style=\"padding: 0 1em 0 0.5em; text-align: right; border: none;\">\n",
       "                0.0281\n",
       "                \n",
       "                    &plusmn; 0.0343\n",
       "                \n",
       "            </td>\n",
       "            <td style=\"padding: 0 0.5em 0 0.5em; text-align: left; border: none;\">\n",
       "                Price_kurtosis\n",
       "            </td>\n",
       "        </tr>\n",
       "    \n",
       "        <tr style=\"background-color: hsl(120, 100.00%, 96.37%); border: none;\">\n",
       "            <td style=\"padding: 0 1em 0 0.5em; text-align: right; border: none;\">\n",
       "                0.0058\n",
       "                \n",
       "                    &plusmn; 0.0010\n",
       "                \n",
       "            </td>\n",
       "            <td style=\"padding: 0 0.5em 0 0.5em; text-align: left; border: none;\">\n",
       "                SPD\n",
       "            </td>\n",
       "        </tr>\n",
       "    \n",
       "        <tr style=\"background-color: hsl(120, 100.00%, 99.79%); border: none;\">\n",
       "            <td style=\"padding: 0 1em 0 0.5em; text-align: right; border: none;\">\n",
       "                0.0001\n",
       "                \n",
       "                    &plusmn; 0.0373\n",
       "                \n",
       "            </td>\n",
       "            <td style=\"padding: 0 0.5em 0 0.5em; text-align: left; border: none;\">\n",
       "                Price_skewness\n",
       "            </td>\n",
       "        </tr>\n",
       "    \n",
       "    \n",
       "    </tbody>\n",
       "</table>\n",
       "    \n",
       "\n",
       "    \n",
       "\n",
       "\n",
       "    \n",
       "\n",
       "    \n",
       "\n",
       "    \n",
       "\n",
       "    \n",
       "\n",
       "    \n",
       "\n",
       "    \n",
       "\n",
       "\n",
       "\n"
      ],
      "text/plain": [
       "<IPython.core.display.HTML object>"
      ]
     },
     "execution_count": 28,
     "metadata": {},
     "output_type": "execute_result"
    }
   ],
   "source": [
    "import eli5\n",
    "from eli5.sklearn import PermutationImportance\n",
    "# max error measures the classification Error: Overall, how often is the classifier incorrect?\n",
    "perm = PermutationImportance(model, scoring='max_error', random_state=1).fit(X_test, y_test)\n",
    "eli5.show_weights(perm, feature_names = X_test.columns.tolist())"
   ]
  },
  {
   "cell_type": "code",
   "execution_count": 29,
   "id": "c8ac4fc9",
   "metadata": {},
   "outputs": [
    {
     "name": "stdout",
     "output_type": "stream",
     "text": [
      "Feature: 0, Score: 0.00616\n",
      "Feature: 1, Score: 0.03821\n",
      "Feature: 2, Score: 0.06597\n",
      "Feature: 3, Score: -0.00127\n",
      "Feature: 4, Score: 0.01220\n"
     ]
    },
    {
     "data": {
      "image/png": "[encoded data removed]",
      "text/plain": [
       "<Figure size 432x288 with 1 Axes>"
      ]
     },
     "metadata": {},
     "output_type": "display_data"
    }
   ],
   "source": [
    "# perform permutation importance\n",
    "from sklearn.inspection import permutation_importance\n",
    "from matplotlib import pyplot\n",
    "\n",
    "results = permutation_importance(model, X_test, y_test, scoring='max_error',  n_repeats=100, random_state=1)\n",
    "# max error measures the classification Error: Overall, how often is the classifier incorrect?\n",
    "# get importance\n",
    "importance = results.importances_mean\n",
    "# summarize feature importance\n",
    "for i,v in enumerate(importance):\n",
    "\tprint('Feature: %0d, Score: %.5f' % (i,v))\n",
    "# plot feature importance\n",
    "pyplot.bar([x for x in range(len(importance))], importance)\n",
    "pyplot.show()\n",
    "\n",
    "#Feature 0: SPD\n",
    "#Feature 1: CV\n",
    "#Feature 2: Price_sd\n",
    "#Feature 3: Price_skewness\n",
    "#Feature 4: Price_kurtosis"
   ]
  },
  {
   "cell_type": "code",
   "execution_count": 30,
   "id": "c8a0e787",
   "metadata": {},
   "outputs": [],
   "source": [
    "# define a function that accepts a threshold and prints sensitivity and specificity\n",
    "def evaluate_threshold(threshold):\n",
    "    print('Sensitivity:', tpr[thresholds > threshold][-1])\n",
    "    print('Especificity:', 1 - fpr[thresholds > threshold][-1])"
   ]
  },
  {
   "cell_type": "code",
   "execution_count": 31,
   "id": "5fbfe692",
   "metadata": {},
   "outputs": [
    {
     "name": "stdout",
     "output_type": "stream",
     "text": [
      "Sensitividade: 0.896551724137931\n",
      "Especificidade: 0.8\n"
     ]
    }
   ],
   "source": [
    "evaluate_threshold(0.5)"
   ]
  },
  {
   "cell_type": "code",
   "execution_count": 32,
   "id": "7f82f26f",
   "metadata": {},
   "outputs": [
    {
     "name": "stdout",
     "output_type": "stream",
     "text": [
      "Sensitividade: 0.8850574712643678\n",
      "Especificidade: 0.8333333333333334\n"
     ]
    }
   ],
   "source": [
    "evaluate_threshold(0.6)"
   ]
  },
  {
   "cell_type": "code",
   "execution_count": 33,
   "id": "8958df8f",
   "metadata": {},
   "outputs": [
    {
     "name": "stdout",
     "output_type": "stream",
     "text": [
      "Sensitividade: 0.8850574712643678\n",
      "Especificidade: 0.8333333333333334\n"
     ]
    }
   ],
   "source": [
    "evaluate_threshold(0.7)"
   ]
  },
  {
   "cell_type": "code",
   "execution_count": 34,
   "id": "16599942",
   "metadata": {},
   "outputs": [
    {
     "name": "stdout",
     "output_type": "stream",
     "text": [
      "Sensitividade: 0.8275862068965517\n",
      "Especificidade: 0.85\n"
     ]
    }
   ],
   "source": [
    "evaluate_threshold(0.8)"
   ]
  },
  {
   "cell_type": "code",
   "execution_count": 35,
   "id": "9a4099df",
   "metadata": {},
   "outputs": [
    {
     "name": "stdout",
     "output_type": "stream",
     "text": [
      "Sensitividade: 0.19540229885057472\n",
      "Especificidade: 0.9166666666666666\n"
     ]
    }
   ],
   "source": [
    "evaluate_threshold(0.9)"
   ]
  },
  {
   "cell_type": "code",
   "execution_count": 36,
   "id": "1b347f95",
   "metadata": {},
   "outputs": [
    {
     "name": "stdout",
     "output_type": "stream",
     "text": [
      "Sensitividade: 0.011494252873563218\n",
      "Especificidade: 1.0\n"
     ]
    }
   ],
   "source": [
    "evaluate_threshold(0.99)"
   ]
  }
 ],
 "metadata": {
  "kernelspec": {
   "display_name": "Python 3",
   "language": "python",
   "name": "python3"
  },
  "language_info": {
   "codemirror_mode": {
    "name": "ipython",
    "version": 3
   },
   "file_extension": ".py",
   "mimetype": "text/x-python",
   "name": "python",
   "nbconvert_exporter": "python",
   "pygments_lexer": "ipython3",
   "version": "3.8.8"
  }
 },
 "nbformat": 4,
 "nbformat_minor": 5
}
