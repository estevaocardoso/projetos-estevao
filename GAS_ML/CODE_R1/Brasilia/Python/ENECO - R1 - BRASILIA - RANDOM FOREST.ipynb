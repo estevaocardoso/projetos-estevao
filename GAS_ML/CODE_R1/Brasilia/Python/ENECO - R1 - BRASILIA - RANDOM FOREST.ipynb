{
 "cells": [
  {
   "cell_type": "code",
   "execution_count": 1,
   "id": "76a1fc81",
   "metadata": {},
   "outputs": [],
   "source": [
    "# Brasília - Random Forest\n",
    "\n",
    "import numpy as np \n",
    "import pandas as pd \n",
    "\n",
    "from sklearn import preprocessing\n",
    "import matplotlib.pyplot as plt \n",
    "plt.rc(\"font\", size=14)\n",
    "import seaborn as sns\n",
    "sns.set(style=\"white\") #white background style for seaborn plots\n",
    "sns.set(style=\"whitegrid\", color_codes=True)\n",
    "from matplotlib.pyplot import rcParams\n",
    "%matplotlib inline\n",
    "rcParams['figure.figsize'] = 6,4\n",
    "sns.set(style='whitegrid', palette='muted',\n",
    "        rc={'figure.figsize': (6,4)})\n",
    "\n",
    "import warnings\n",
    "warnings.simplefilter(action='ignore')"
   ]
  },
  {
   "cell_type": "code",
   "execution_count": 2,
   "id": "b6a15cd0",
   "metadata": {},
   "outputs": [
    {
     "data": {
      "text/html": [
       "<div>\n",
       "<style scoped>\n",
       "    .dataframe tbody tr th:only-of-type {\n",
       "        vertical-align: middle;\n",
       "    }\n",
       "\n",
       "    .dataframe tbody tr th {\n",
       "        vertical-align: top;\n",
       "    }\n",
       "\n",
       "    .dataframe thead th {\n",
       "        text-align: right;\n",
       "    }\n",
       "</style>\n",
       "<table border=\"1\" class=\"dataframe\">\n",
       "  <thead>\n",
       "    <tr style=\"text-align: right;\">\n",
       "      <th></th>\n",
       "      <th>SPD</th>\n",
       "      <th>CV</th>\n",
       "      <th>Price_sd</th>\n",
       "      <th>Price_skewness</th>\n",
       "      <th>Price_kurtosis</th>\n",
       "      <th>Cartel_DF</th>\n",
       "    </tr>\n",
       "  </thead>\n",
       "  <tbody>\n",
       "    <tr>\n",
       "      <th>0</th>\n",
       "      <td>-0.717529</td>\n",
       "      <td>-0.626223</td>\n",
       "      <td>-0.666778</td>\n",
       "      <td>-0.196953</td>\n",
       "      <td>-0.477565</td>\n",
       "      <td>1</td>\n",
       "    </tr>\n",
       "    <tr>\n",
       "      <th>1</th>\n",
       "      <td>-0.838328</td>\n",
       "      <td>-0.807425</td>\n",
       "      <td>-0.792635</td>\n",
       "      <td>0.885682</td>\n",
       "      <td>-0.286445</td>\n",
       "      <td>1</td>\n",
       "    </tr>\n",
       "    <tr>\n",
       "      <th>2</th>\n",
       "      <td>-0.516970</td>\n",
       "      <td>-0.574450</td>\n",
       "      <td>-0.631149</td>\n",
       "      <td>-1.795652</td>\n",
       "      <td>1.239965</td>\n",
       "      <td>1</td>\n",
       "    </tr>\n",
       "    <tr>\n",
       "      <th>3</th>\n",
       "      <td>-0.777291</td>\n",
       "      <td>-0.761828</td>\n",
       "      <td>-0.761104</td>\n",
       "      <td>-1.063986</td>\n",
       "      <td>0.201244</td>\n",
       "      <td>1</td>\n",
       "    </tr>\n",
       "    <tr>\n",
       "      <th>4</th>\n",
       "      <td>-0.716441</td>\n",
       "      <td>-0.647552</td>\n",
       "      <td>-0.681930</td>\n",
       "      <td>-0.602536</td>\n",
       "      <td>-0.301323</td>\n",
       "      <td>1</td>\n",
       "    </tr>\n",
       "  </tbody>\n",
       "</table>\n",
       "</div>"
      ],
      "text/plain": [
       "        SPD        CV  Price_sd  Price_skewness  Price_kurtosis  Cartel_DF\n",
       "0 -0.717529 -0.626223 -0.666778       -0.196953       -0.477565          1\n",
       "1 -0.838328 -0.807425 -0.792635        0.885682       -0.286445          1\n",
       "2 -0.516970 -0.574450 -0.631149       -1.795652        1.239965          1\n",
       "3 -0.777291 -0.761828 -0.761104       -1.063986        0.201244          1\n",
       "4 -0.716441 -0.647552 -0.681930       -0.602536       -0.301323          1"
      ]
     },
     "execution_count": 2,
     "metadata": {},
     "output_type": "execute_result"
    }
   ],
   "source": [
    "df = pd.read_excel(r\"Brasilia_ML_Std.xls\")\n",
    "df.head()"
   ]
  },
  {
   "cell_type": "code",
   "execution_count": 3,
   "id": "47a320c6",
   "metadata": {},
   "outputs": [],
   "source": [
    "# Predicting Cartel\n",
    "# define X and y\n",
    "X = df.drop(\"Cartel_DF\",axis = 1)\n",
    "y = df.Cartel_DF"
   ]
  },
  {
   "cell_type": "code",
   "execution_count": 4,
   "id": "7cfd875b",
   "metadata": {},
   "outputs": [
    {
     "name": "stdout",
     "output_type": "stream",
     "text": [
      "(489, 5) (489,)\n"
     ]
    }
   ],
   "source": [
    "# summarize the dataset\n",
    "print(X.shape, y.shape)"
   ]
  },
  {
   "cell_type": "code",
   "execution_count": 5,
   "id": "1d27530f",
   "metadata": {},
   "outputs": [
    {
     "name": "stdout",
     "output_type": "stream",
     "text": [
      "0.24.2\n"
     ]
    }
   ],
   "source": [
    "# check scikit-learn version\n",
    "import sklearn\n",
    "print(sklearn.__version__)"
   ]
  },
  {
   "cell_type": "code",
   "execution_count": 6,
   "id": "ba92ae4d",
   "metadata": {},
   "outputs": [],
   "source": [
    "from sklearn.model_selection import train_test_split\n",
    "X_train,X_test,y_train,y_test = train_test_split(X,y,test_size=0.3,random_state=42, stratify=y)"
   ]
  },
  {
   "cell_type": "code",
   "execution_count": 7,
   "id": "ca5259d3",
   "metadata": {},
   "outputs": [],
   "source": [
    "from sklearn.metrics import accuracy_score, confusion_matrix, classification_report\n",
    "\n",
    "def print_score(clf, X_train, y_train, X_test, y_test, train=True):\n",
    "    if train:\n",
    "        pred = clf.predict(X_train)\n",
    "        clf_report = pd.DataFrame(classification_report(y_train, pred, output_dict=True))\n",
    "        print(\"Train Result:\\n================================================\")\n",
    "        print(f\"Accuracy Score: {accuracy_score(y_train, pred) * 100:.2f}%\")\n",
    "        print(\"_______________________________________________\")\n",
    "        print(f\"CLASSIFICATION REPORT:\\n{clf_report}\")\n",
    "        print(\"_______________________________________________\")\n",
    "        print(f\"Confusion Matrix: \\n {confusion_matrix(y_train, pred)}\\n\")\n",
    "        \n",
    "    elif train==False:\n",
    "        pred = clf.predict(X_test)\n",
    "        clf_report = pd.DataFrame(classification_report(y_test, pred, output_dict=True))\n",
    "        print(\"Test Result:\\n================================================\")        \n",
    "        print(f\"Accuracy Score: {accuracy_score(y_test, pred) * 100:.2f}%\")\n",
    "        print(\"_______________________________________________\")\n",
    "        print(f\"CLASSIFICATION REPORT:\\n{clf_report}\")\n",
    "        print(\"_______________________________________________\")\n",
    "        print(f\"Confusion Matrix: \\n {confusion_matrix(y_test, pred)}\\n\")"
   ]
  },
  {
   "cell_type": "code",
   "execution_count": 8,
   "id": "5816f45d",
   "metadata": {},
   "outputs": [
    {
     "name": "stdout",
     "output_type": "stream",
     "text": [
      "Train Result:\n",
      "================================================\n",
      "Accuracy Score: 100.00%\n",
      "_______________________________________________\n",
      "CLASSIFICATION REPORT:\n",
      "               0      1  accuracy  macro avg  weighted avg\n",
      "precision    1.0    1.0       1.0        1.0           1.0\n",
      "recall       1.0    1.0       1.0        1.0           1.0\n",
      "f1-score     1.0    1.0       1.0        1.0           1.0\n",
      "support    124.0  218.0       1.0      342.0         342.0\n",
      "_______________________________________________\n",
      "Confusion Matrix: \n",
      " [[124   0]\n",
      " [  0 218]]\n",
      "\n",
      "Test Result:\n",
      "================================================\n",
      "Accuracy Score: 97.96%\n",
      "_______________________________________________\n",
      "CLASSIFICATION REPORT:\n",
      "                   0          1  accuracy   macro avg  weighted avg\n",
      "precision   1.000000   0.968750  0.979592    0.984375      0.980230\n",
      "recall      0.944444   1.000000  0.979592    0.972222      0.979592\n",
      "f1-score    0.971429   0.984127  0.979592    0.977778      0.979462\n",
      "support    54.000000  93.000000  0.979592  147.000000    147.000000\n",
      "_______________________________________________\n",
      "Confusion Matrix: \n",
      " [[51  3]\n",
      " [ 0 93]]\n",
      "\n"
     ]
    }
   ],
   "source": [
    "from sklearn.ensemble import RandomForestClassifier\n",
    "\n",
    "rf_clf = RandomForestClassifier(n_estimators=100)\n",
    "rf_clf.fit(X_train, y_train)\n",
    "\n",
    "print_score(rf_clf, X_train, y_train, X_test, y_test, train=True)\n",
    "print_score(rf_clf, X_train, y_train, X_test, y_test, train=False)"
   ]
  },
  {
   "cell_type": "code",
   "execution_count": 9,
   "id": "fd12c652",
   "metadata": {},
   "outputs": [
    {
     "name": "stdout",
     "output_type": "stream",
     "text": [
      "Fitting 3 folds for each of 100 candidates, totalling 300 fits\n",
      "Best paramters: {'n_estimators': 800, 'min_samples_split': 2, 'min_samples_leaf': 1, 'max_samples': 0.9, 'max_features': 'sqrt', 'max_depth': 8, 'criterion': 'entropy', 'bootstrap': True})\n",
      "Train Result:\n",
      "================================================\n",
      "Accuracy Score: 100.00%\n",
      "_______________________________________________\n",
      "CLASSIFICATION REPORT:\n",
      "               0      1  accuracy  macro avg  weighted avg\n",
      "precision    1.0    1.0       1.0        1.0           1.0\n",
      "recall       1.0    1.0       1.0        1.0           1.0\n",
      "f1-score     1.0    1.0       1.0        1.0           1.0\n",
      "support    124.0  218.0       1.0      342.0         342.0\n",
      "_______________________________________________\n",
      "Confusion Matrix: \n",
      " [[124   0]\n",
      " [  0 218]]\n",
      "\n",
      "Test Result:\n",
      "================================================\n",
      "Accuracy Score: 97.96%\n",
      "_______________________________________________\n",
      "CLASSIFICATION REPORT:\n",
      "                   0          1  accuracy   macro avg  weighted avg\n",
      "precision   1.000000   0.968750  0.979592    0.984375      0.980230\n",
      "recall      0.944444   1.000000  0.979592    0.972222      0.979592\n",
      "f1-score    0.971429   0.984127  0.979592    0.977778      0.979462\n",
      "support    54.000000  93.000000  0.979592  147.000000    147.000000\n",
      "_______________________________________________\n",
      "Confusion Matrix: \n",
      " [[51  3]\n",
      " [ 0 93]]\n",
      "\n"
     ]
    }
   ],
   "source": [
    "#Random Forest hyperparameter tuning - Randomized Search Cross Validation\n",
    "\n",
    "from sklearn.ensemble import RandomForestClassifier\n",
    "from sklearn.model_selection import RandomizedSearchCV\n",
    "from numpy import arange\n",
    "\n",
    "n_estimators = [int(x) for x in np.linspace(start=200, stop=2000, num=10)]\n",
    "criterion = ['gini', 'entropy' ]\n",
    "max_features = ['auto', 'sqrt']\n",
    "max_depth = [2, 4, 6, 8, 10]\n",
    "#max_depth.append(None)\n",
    "min_samples_split = [2, 5, 10]\n",
    "min_samples_leaf = [1, 2, 4]\n",
    "bootstrap = [True, False]\n",
    "max_samples = [float(i) for i in arange(0.1, 1.1, 0.1)]\n",
    "\n",
    "random_grid = {'n_estimators': n_estimators, 'criterion': criterion,'max_features': max_features,\n",
    "               'max_depth': max_depth, 'min_samples_split': min_samples_split,\n",
    "               'min_samples_leaf': min_samples_leaf, 'bootstrap': bootstrap, 'max_samples': max_samples}\n",
    "\n",
    "rf_clf = RandomForestClassifier(random_state=42)\n",
    "\n",
    "rf_cv = RandomizedSearchCV(estimator=rf_clf, scoring='f1',param_distributions=random_grid, n_iter=100, cv=3, \n",
    "                               verbose=2, random_state=42, n_jobs=-1)\n",
    "\n",
    "rf_cv.fit(X_train, y_train)\n",
    "rf_best_params = rf_cv.best_params_\n",
    "print(f\"Best paramters: {rf_best_params})\")\n",
    "\n",
    "rf_clf = RandomForestClassifier(**rf_best_params)\n",
    "rf_clf.fit(X_train, y_train)\n",
    "\n",
    "print_score(rf_clf, X_train, y_train, X_test, y_test, train=True)\n",
    "print_score(rf_clf, X_train, y_train, X_test, y_test, train=False)"
   ]
  },
  {
   "cell_type": "code",
   "execution_count": 10,
   "id": "b777a32d",
   "metadata": {},
   "outputs": [],
   "source": [
    "# make class predictions for the testing set\n",
    "y_pred = rf_clf.predict(X_test)"
   ]
  },
  {
   "cell_type": "code",
   "execution_count": 91,
   "id": "2f6bf4d0",
   "metadata": {},
   "outputs": [
    {
     "data": {
      "image/png": "[encoded data removed]",
      "text/plain": [
       "<Figure size 432x288 with 2 Axes>"
      ]
     },
     "metadata": {},
     "output_type": "display_data"
    }
   ],
   "source": [
    "from sklearn import metrics\n",
    "cnf_matrix = metrics.confusion_matrix(y_test, y_pred)\n",
    "sns.set(font_scale=1.25) # Adjust to fit\n",
    "p = sns.heatmap(pd.DataFrame(cnf_matrix), annot=True, cmap=\"YlGnBu\" ,fmt='g')\n",
    "plt.title('Random Forest', y=1.025)\n",
    "plt.ylabel('Actual Values')\n",
    "plt.xlabel('Predicted Values')\n",
    "plt.savefig('CM_RandomForest_Brasilia.png', dpi=600)"
   ]
  },
  {
   "cell_type": "code",
   "execution_count": 12,
   "id": "d44325f3",
   "metadata": {},
   "outputs": [
    {
     "name": "stdout",
     "output_type": "stream",
     "text": [
      "              precision    recall  f1-score   support\n",
      "\n",
      "           0       1.00      0.94      0.97        54\n",
      "           1       0.97      1.00      0.98        93\n",
      "\n",
      "    accuracy                           0.98       147\n",
      "   macro avg       0.98      0.97      0.98       147\n",
      "weighted avg       0.98      0.98      0.98       147\n",
      "\n"
     ]
    }
   ],
   "source": [
    "#import classification_report\n",
    "from sklearn.metrics import classification_report\n",
    "print(classification_report(y_test,y_pred))"
   ]
  },
  {
   "cell_type": "code",
   "execution_count": 13,
   "id": "9e780d51",
   "metadata": {},
   "outputs": [],
   "source": [
    "# store the predicted probabilities for class 1\n",
    "from sklearn.metrics import roc_curve\n",
    "y_pred_proba = rf_clf.predict_proba(X_test)[:,1]\n",
    "fpr, tpr, thresholds = roc_curve(y_test, y_pred_proba)"
   ]
  },
  {
   "cell_type": "code",
   "execution_count": 97,
   "id": "cd5e7094",
   "metadata": {},
   "outputs": [
    {
     "data": {
      "image/png": "[encoded data removed]",
      "text/plain": [
       "<Figure size 432x288 with 1 Axes>"
      ]
     },
     "metadata": {},
     "output_type": "display_data"
    }
   ],
   "source": [
    "# histogram of predicted probabilities\n",
    "plt.hist(y_pred_proba, bins=8)\n",
    "plt.xlim(0, 1)\n",
    "plt.title('Histogram of predicted probabilities - Random Forest')\n",
    "plt.xlabel('Predicted probability - (Brasília) ')\n",
    "plt.ylabel('Frequency')\n",
    "plt.grid(False)\n",
    "plt.savefig('Histogram_RandomForest_Brasiia.eps', format='eps')\n",
    "plt.show()"
   ]
  },
  {
   "cell_type": "code",
   "execution_count": 98,
   "id": "dfad8d11",
   "metadata": {},
   "outputs": [
    {
     "data": {
      "image/png": "[encoded data removed]",
      "text/plain": [
       "<Figure size 432x288 with 1 Axes>"
      ]
     },
     "metadata": {},
     "output_type": "display_data"
    }
   ],
   "source": [
    "plt.plot([0,1],[0,1],'k--')\n",
    "plt.plot(fpr,tpr, label='Logistic')\n",
    "plt.xlabel('False Positive')\n",
    "plt.ylabel('True Positive')\n",
    "plt.title('Random Forest - ROC curve (Brasília)')\n",
    "plt.grid(False)\n",
    "sns.set_style(\"ticks\")\n",
    "plt.savefig('ROC_RandomForest_Brasilia.eps', format='eps')"
   ]
  },
  {
   "cell_type": "code",
   "execution_count": 16,
   "id": "38720959",
   "metadata": {},
   "outputs": [],
   "source": [
    "from sklearn.metrics import roc_curve\n",
    "y_pred_proba = rf_clf.predict_proba(X_test)[:,1]\n",
    "fpr, tpr, thresholds = roc_curve(y_test, y_pred_proba)"
   ]
  },
  {
   "cell_type": "code",
   "execution_count": 17,
   "id": "b79ecca8",
   "metadata": {},
   "outputs": [
    {
     "name": "stdout",
     "output_type": "stream",
     "text": [
      "AUC: 0.9961722488038276\n"
     ]
    }
   ],
   "source": [
    "# calculate cross-validated AUC\n",
    "from sklearn.model_selection import cross_val_score\n",
    "auc = cross_val_score(rf_clf, X_test, y_test, cv=5, scoring='roc_auc').mean()\n",
    "print('AUC:',auc)"
   ]
  },
  {
   "cell_type": "code",
   "execution_count": 18,
   "id": "435220f4",
   "metadata": {},
   "outputs": [],
   "source": [
    "import eli5\n",
    "from eli5.sklearn import PermutationImportance"
   ]
  },
  {
   "cell_type": "code",
   "execution_count": 19,
   "id": "6aeb2b4e",
   "metadata": {},
   "outputs": [
    {
     "data": {
      "text/html": [
       "\n",
       "    <style>\n",
       "    table.eli5-weights tr:hover {\n",
       "        filter: brightness(85%);\n",
       "    }\n",
       "</style>\n",
       "\n",
       "\n",
       "\n",
       "    \n",
       "\n",
       "    \n",
       "\n",
       "    \n",
       "\n",
       "    \n",
       "\n",
       "    \n",
       "\n",
       "    \n",
       "\n",
       "\n",
       "    \n",
       "\n",
       "    \n",
       "\n",
       "    \n",
       "\n",
       "    \n",
       "\n",
       "    \n",
       "\n",
       "    \n",
       "\n",
       "\n",
       "    \n",
       "\n",
       "    \n",
       "\n",
       "    \n",
       "\n",
       "    \n",
       "\n",
       "    \n",
       "        <table class=\"eli5-weights eli5-feature-importances\" style=\"border-collapse: collapse; border: none; margin-top: 0em; table-layout: auto;\">\n",
       "    <thead>\n",
       "    <tr style=\"border: none;\">\n",
       "        <th style=\"padding: 0 1em 0 0.5em; text-align: right; border: none;\">Weight</th>\n",
       "        <th style=\"padding: 0 0.5em 0 0.5em; text-align: left; border: none;\">Feature</th>\n",
       "    </tr>\n",
       "    </thead>\n",
       "    <tbody>\n",
       "    \n",
       "        <tr style=\"background-color: hsl(120, 100.00%, 80.00%); border: none;\">\n",
       "            <td style=\"padding: 0 1em 0 0.5em; text-align: right; border: none;\">\n",
       "                0.3946\n",
       "                \n",
       "                    &plusmn; 0.0298\n",
       "                \n",
       "            </td>\n",
       "            <td style=\"padding: 0 0.5em 0 0.5em; text-align: left; border: none;\">\n",
       "                Price_sd\n",
       "            </td>\n",
       "        </tr>\n",
       "    \n",
       "        <tr style=\"background-color: hsl(120, 100.00%, 97.72%); border: none;\">\n",
       "            <td style=\"padding: 0 1em 0 0.5em; text-align: right; border: none;\">\n",
       "                0.0177\n",
       "                \n",
       "                    &plusmn; 0.0163\n",
       "                \n",
       "            </td>\n",
       "            <td style=\"padding: 0 0.5em 0 0.5em; text-align: left; border: none;\">\n",
       "                CV\n",
       "            </td>\n",
       "        </tr>\n",
       "    \n",
       "        <tr style=\"background-color: hsl(120, 100.00%, 98.52%); border: none;\">\n",
       "            <td style=\"padding: 0 1em 0 0.5em; text-align: right; border: none;\">\n",
       "                0.0095\n",
       "                \n",
       "                    &plusmn; 0.0067\n",
       "                \n",
       "            </td>\n",
       "            <td style=\"padding: 0 0.5em 0 0.5em; text-align: left; border: none;\">\n",
       "                Price_skewness\n",
       "            </td>\n",
       "        </tr>\n",
       "    \n",
       "        <tr style=\"background-color: hsl(120, 100.00%, 99.00%); border: none;\">\n",
       "            <td style=\"padding: 0 1em 0 0.5em; text-align: right; border: none;\">\n",
       "                0.0054\n",
       "                \n",
       "                    &plusmn; 0.0102\n",
       "                \n",
       "            </td>\n",
       "            <td style=\"padding: 0 0.5em 0 0.5em; text-align: left; border: none;\">\n",
       "                SPD\n",
       "            </td>\n",
       "        </tr>\n",
       "    \n",
       "        <tr style=\"background-color: hsl(120, 100.00%, 99.62%); border: none;\">\n",
       "            <td style=\"padding: 0 1em 0 0.5em; text-align: right; border: none;\">\n",
       "                0.0014\n",
       "                \n",
       "                    &plusmn; 0.0054\n",
       "                \n",
       "            </td>\n",
       "            <td style=\"padding: 0 0.5em 0 0.5em; text-align: left; border: none;\">\n",
       "                Price_kurtosis\n",
       "            </td>\n",
       "        </tr>\n",
       "    \n",
       "    \n",
       "    </tbody>\n",
       "</table>\n",
       "    \n",
       "\n",
       "    \n",
       "\n",
       "\n",
       "    \n",
       "\n",
       "    \n",
       "\n",
       "    \n",
       "\n",
       "    \n",
       "\n",
       "    \n",
       "\n",
       "    \n",
       "\n",
       "\n",
       "\n"
      ],
      "text/plain": [
       "<IPython.core.display.HTML object>"
      ]
     },
     "execution_count": 19,
     "metadata": {},
     "output_type": "execute_result"
    }
   ],
   "source": [
    "perm = PermutationImportance(rf_clf, random_state=1).fit(X_test, y_test)\n",
    "eli5.show_weights(perm, feature_names = X_test.columns.tolist())"
   ]
  },
  {
   "cell_type": "code",
   "execution_count": 20,
   "id": "2005eee5",
   "metadata": {},
   "outputs": [],
   "source": [
    "# define a function that accepts a threshold and prints sensitivity and specificity\n",
    "def evaluate_threshold(threshold):\n",
    "    print('sensitivity:', tpr[thresholds > threshold][-1])\n",
    "    print('specificity:', 1 - fpr[thresholds > threshold][-1])"
   ]
  },
  {
   "cell_type": "code",
   "execution_count": 21,
   "id": "4d3f10eb",
   "metadata": {},
   "outputs": [
    {
     "name": "stdout",
     "output_type": "stream",
     "text": [
      "sensitivity: 1.0\n",
      "specificity: 0.962962962962963\n"
     ]
    }
   ],
   "source": [
    "evaluate_threshold(0.5)"
   ]
  },
  {
   "cell_type": "code",
   "execution_count": 22,
   "id": "572035cd",
   "metadata": {},
   "outputs": [
    {
     "name": "stdout",
     "output_type": "stream",
     "text": [
      "sensitivity: 1.0\n",
      "specificity: 0.962962962962963\n"
     ]
    }
   ],
   "source": [
    "evaluate_threshold(0.6)"
   ]
  },
  {
   "cell_type": "code",
   "execution_count": 23,
   "id": "80c07b3f",
   "metadata": {},
   "outputs": [
    {
     "name": "stdout",
     "output_type": "stream",
     "text": [
      "sensitivity: 1.0\n",
      "specificity: 0.962962962962963\n"
     ]
    }
   ],
   "source": [
    "evaluate_threshold(0.7)"
   ]
  },
  {
   "cell_type": "code",
   "execution_count": 24,
   "id": "1b0717a5",
   "metadata": {},
   "outputs": [
    {
     "name": "stdout",
     "output_type": "stream",
     "text": [
      "sensitivity: 0.8494623655913979\n",
      "specificity: 0.962962962962963\n"
     ]
    }
   ],
   "source": [
    "evaluate_threshold(0.8)"
   ]
  },
  {
   "cell_type": "code",
   "execution_count": 25,
   "id": "c5458e3b",
   "metadata": {},
   "outputs": [
    {
     "name": "stdout",
     "output_type": "stream",
     "text": [
      "sensitivity: 0.8494623655913979\n",
      "specificity: 0.962962962962963\n"
     ]
    }
   ],
   "source": [
    "evaluate_threshold(0.9)"
   ]
  },
  {
   "cell_type": "code",
   "execution_count": 26,
   "id": "47b4a573",
   "metadata": {},
   "outputs": [
    {
     "name": "stdout",
     "output_type": "stream",
     "text": [
      "sensitivity: 0.45161290322580644\n",
      "specificity: 1.0\n"
     ]
    }
   ],
   "source": [
    "evaluate_threshold(0.99)"
   ]
  },
  {
   "cell_type": "code",
   "execution_count": 27,
   "id": "33087c3c",
   "metadata": {},
   "outputs": [
    {
     "data": {
      "text/html": [
       "<div>\n",
       "<style scoped>\n",
       "    .dataframe tbody tr th:only-of-type {\n",
       "        vertical-align: middle;\n",
       "    }\n",
       "\n",
       "    .dataframe tbody tr th {\n",
       "        vertical-align: top;\n",
       "    }\n",
       "\n",
       "    .dataframe thead th {\n",
       "        text-align: right;\n",
       "    }\n",
       "</style>\n",
       "<table border=\"1\" class=\"dataframe\">\n",
       "  <thead>\n",
       "    <tr style=\"text-align: right;\">\n",
       "      <th></th>\n",
       "      <th>SPD</th>\n",
       "      <th>CV</th>\n",
       "      <th>Price_sd</th>\n",
       "      <th>Price_skewness</th>\n",
       "      <th>Price_kurtosis</th>\n",
       "      <th>Cartel_BH</th>\n",
       "    </tr>\n",
       "  </thead>\n",
       "  <tbody>\n",
       "    <tr>\n",
       "      <th>0</th>\n",
       "      <td>2.189400</td>\n",
       "      <td>0.696896</td>\n",
       "      <td>-0.998037</td>\n",
       "      <td>1.168642</td>\n",
       "      <td>1.167386</td>\n",
       "      <td>1</td>\n",
       "    </tr>\n",
       "    <tr>\n",
       "      <th>1</th>\n",
       "      <td>2.080311</td>\n",
       "      <td>0.575242</td>\n",
       "      <td>-1.052757</td>\n",
       "      <td>1.306965</td>\n",
       "      <td>1.297908</td>\n",
       "      <td>1</td>\n",
       "    </tr>\n",
       "    <tr>\n",
       "      <th>2</th>\n",
       "      <td>2.721430</td>\n",
       "      <td>0.301509</td>\n",
       "      <td>-1.186487</td>\n",
       "      <td>0.909275</td>\n",
       "      <td>1.058800</td>\n",
       "      <td>1</td>\n",
       "    </tr>\n",
       "    <tr>\n",
       "      <th>3</th>\n",
       "      <td>1.905134</td>\n",
       "      <td>0.254569</td>\n",
       "      <td>-1.208158</td>\n",
       "      <td>1.094816</td>\n",
       "      <td>1.235846</td>\n",
       "      <td>1</td>\n",
       "    </tr>\n",
       "    <tr>\n",
       "      <th>4</th>\n",
       "      <td>2.879854</td>\n",
       "      <td>0.487816</td>\n",
       "      <td>-1.101539</td>\n",
       "      <td>0.829424</td>\n",
       "      <td>0.997040</td>\n",
       "      <td>1</td>\n",
       "    </tr>\n",
       "  </tbody>\n",
       "</table>\n",
       "</div>"
      ],
      "text/plain": [
       "        SPD        CV  Price_sd  Price_skewness  Price_kurtosis  Cartel_BH\n",
       "0  2.189400  0.696896 -0.998037        1.168642        1.167386          1\n",
       "1  2.080311  0.575242 -1.052757        1.306965        1.297908          1\n",
       "2  2.721430  0.301509 -1.186487        0.909275        1.058800          1\n",
       "3  1.905134  0.254569 -1.208158        1.094816        1.235846          1\n",
       "4  2.879854  0.487816 -1.101539        0.829424        0.997040          1"
      ]
     },
     "execution_count": 27,
     "metadata": {},
     "output_type": "execute_result"
    }
   ],
   "source": [
    "#Testing the Best Model estimated for Brasilia (Random Forest) in the Belo Horizonte's database\n",
    "\n",
    "df_BH= pd.read_excel(r\"BeloHorizonte_ML_Std.xls\")\n",
    "df_BH.head()"
   ]
  },
  {
   "cell_type": "code",
   "execution_count": 28,
   "id": "e084450a",
   "metadata": {},
   "outputs": [],
   "source": [
    "# Predicting the Cartel in Belo Horizonte\n",
    "# define X and y\n",
    "X_BH = df_BH.drop(\"Cartel_BH\",axis = 1)\n",
    "y_BH = df_BH.Cartel_BH"
   ]
  },
  {
   "cell_type": "code",
   "execution_count": 29,
   "id": "7d189cf1",
   "metadata": {},
   "outputs": [
    {
     "name": "stdout",
     "output_type": "stream",
     "text": [
      "(489, 5) (489,) (496, 5) (496,)\n"
     ]
    }
   ],
   "source": [
    "# summarize the dataset\n",
    "print(X.shape, y.shape, X_BH.shape, y_BH.shape)"
   ]
  },
  {
   "cell_type": "code",
   "execution_count": 30,
   "id": "9596234d",
   "metadata": {},
   "outputs": [
    {
     "name": "stdout",
     "output_type": "stream",
     "text": [
      "Test Result:\n",
      "================================================\n",
      "Accuracy Score: 79.23%\n",
      "_______________________________________________\n",
      "CLASSIFICATION REPORT:\n",
      "                    0           1  accuracy   macro avg  weighted avg\n",
      "precision    0.898618    0.709677  0.792339    0.804147      0.814813\n",
      "recall       0.706522    0.900000  0.792339    0.803261      0.792339\n",
      "f1-score     0.791075    0.793587  0.792339    0.792331      0.792189\n",
      "support    276.000000  220.000000  0.792339  496.000000    496.000000\n",
      "_______________________________________________\n",
      "Confusion Matrix: \n",
      " [[195  81]\n",
      " [ 22 198]]\n",
      "\n"
     ]
    }
   ],
   "source": [
    "print_score(rf_clf, X_train, y_train, X_BH, y_BH, train=False)"
   ]
  },
  {
   "cell_type": "code",
   "execution_count": 31,
   "id": "f99644eb",
   "metadata": {},
   "outputs": [],
   "source": [
    "# make class predictions for the testing set\n",
    "y_pred_BH = rf_clf.predict(X_BH)"
   ]
  },
  {
   "cell_type": "code",
   "execution_count": 93,
   "id": "b26bfd06",
   "metadata": {},
   "outputs": [
    {
     "data": {
      "image/png": "[encoded data removed]",
      "text/plain": [
       "<Figure size 432x288 with 2 Axes>"
      ]
     },
     "metadata": {},
     "output_type": "display_data"
    }
   ],
   "source": [
    "from sklearn import metrics\n",
    "cnf_matrix = metrics.confusion_matrix(y_BH, y_pred_BH)\n",
    "sns.set(font_scale=1.25) # Adjust to fit\n",
    "p = sns.heatmap(pd.DataFrame(cnf_matrix), annot=True, cmap=\"YlGnBu\" ,fmt='g')\n",
    "plt.title('Random Forest (Brasília vs Belo Horizonte)', y=1.025)\n",
    "plt.ylabel('Actual Values')\n",
    "plt.xlabel('Predicted Values')\n",
    "plt.savefig('CM_RandomForest_BrasiliavsBeloHorizonte.png', dpi=600)"
   ]
  },
  {
   "cell_type": "code",
   "execution_count": 33,
   "id": "1d9fdd1b",
   "metadata": {},
   "outputs": [
    {
     "name": "stdout",
     "output_type": "stream",
     "text": [
      "              precision    recall  f1-score   support\n",
      "\n",
      "           0       0.90      0.71      0.79       276\n",
      "           1       0.71      0.90      0.79       220\n",
      "\n",
      "    accuracy                           0.79       496\n",
      "   macro avg       0.80      0.80      0.79       496\n",
      "weighted avg       0.81      0.79      0.79       496\n",
      "\n"
     ]
    }
   ],
   "source": [
    "#import classification_report\n",
    "from sklearn.metrics import classification_report\n",
    "print(classification_report(y_BH,y_pred_BH))"
   ]
  },
  {
   "cell_type": "code",
   "execution_count": 34,
   "id": "d3c4d781",
   "metadata": {},
   "outputs": [],
   "source": [
    "from sklearn.metrics import roc_curve\n",
    "y_pred_BH_proba = rf_clf.predict_proba(X_BH)[:,1]\n",
    "fprBH, tprBH, thresholdsBH = roc_curve(y_BH, y_pred_BH_proba)"
   ]
  },
  {
   "cell_type": "code",
   "execution_count": 35,
   "id": "22da658d",
   "metadata": {},
   "outputs": [
    {
     "name": "stdout",
     "output_type": "stream",
     "text": [
      "AUC Brasilia vs Belo Horizonte: 0.8812664690382082\n"
     ]
    }
   ],
   "source": [
    "#Area under ROC curve\n",
    "from sklearn.metrics import roc_auc_score\n",
    "auc_BH = roc_auc_score(y_BH,y_pred_BH_proba)\n",
    "print('AUC Brasilia vs Belo Horizonte:',auc_BH)"
   ]
  },
  {
   "cell_type": "code",
   "execution_count": 99,
   "id": "f2972835",
   "metadata": {},
   "outputs": [
    {
     "data": {
      "image/png": "[encoded data removed]",
      "text/plain": [
       "<Figure size 432x288 with 1 Axes>"
      ]
     },
     "metadata": {},
     "output_type": "display_data"
    }
   ],
   "source": [
    "plt.plot([0,1],[0,1],'k--')\n",
    "plt.plot(fprBH,tprBH, label='Logistic')\n",
    "plt.xlabel('False Positive')\n",
    "plt.ylabel('True Positive')\n",
    "plt.title('Random Forest - ROC curve (Brasília vs Belo Horizonte)')\n",
    "plt.grid(False)\n",
    "sns.set_style(\"ticks\")\n",
    "plt.savefig('ROC_RandomForest_BrasiliavsBeloHorizonte.png', format='png')"
   ]
  },
  {
   "cell_type": "code",
   "execution_count": 37,
   "id": "ebc5062b",
   "metadata": {},
   "outputs": [],
   "source": [
    "# define a function that accepts a threshold and prints sensitivity and specificity\n",
    "def evaluate_threshold(threshold):\n",
    "    print('sensitivity:', tprBH[thresholdsBH > threshold][-1])\n",
    "    print('specificity:', 1 - fprBH[thresholdsBH > threshold][-1])"
   ]
  },
  {
   "cell_type": "code",
   "execution_count": 38,
   "id": "868ebbe1",
   "metadata": {},
   "outputs": [
    {
     "name": "stdout",
     "output_type": "stream",
     "text": [
      "sensitivity: 0.8909090909090909\n",
      "specificity: 0.7065217391304348\n"
     ]
    }
   ],
   "source": [
    "evaluate_threshold(0.5)"
   ]
  },
  {
   "cell_type": "code",
   "execution_count": 39,
   "id": "0edf4ade",
   "metadata": {},
   "outputs": [
    {
     "name": "stdout",
     "output_type": "stream",
     "text": [
      "sensitivity: 0.7909090909090909\n",
      "specificity: 0.8369565217391304\n"
     ]
    }
   ],
   "source": [
    "evaluate_threshold(0.6)"
   ]
  },
  {
   "cell_type": "code",
   "execution_count": 40,
   "id": "1fafd97f",
   "metadata": {},
   "outputs": [
    {
     "name": "stdout",
     "output_type": "stream",
     "text": [
      "sensitivity: 0.5772727272727273\n",
      "specificity: 0.9311594202898551\n"
     ]
    }
   ],
   "source": [
    "evaluate_threshold(0.7)"
   ]
  },
  {
   "cell_type": "code",
   "execution_count": 41,
   "id": "938ae330",
   "metadata": {},
   "outputs": [
    {
     "name": "stdout",
     "output_type": "stream",
     "text": [
      "sensitivity: 0.39545454545454545\n",
      "specificity: 0.967391304347826\n"
     ]
    }
   ],
   "source": [
    "evaluate_threshold(0.8)"
   ]
  },
  {
   "cell_type": "code",
   "execution_count": 42,
   "id": "53e40ac2",
   "metadata": {},
   "outputs": [
    {
     "name": "stdout",
     "output_type": "stream",
     "text": [
      "sensitivity: 0.2681818181818182\n",
      "specificity: 0.9782608695652174\n"
     ]
    }
   ],
   "source": [
    "evaluate_threshold(0.9)"
   ]
  },
  {
   "cell_type": "code",
   "execution_count": 43,
   "id": "827c362c",
   "metadata": {},
   "outputs": [
    {
     "name": "stdout",
     "output_type": "stream",
     "text": [
      "sensitivity: 0.09090909090909091\n",
      "specificity: 0.9891304347826086\n"
     ]
    }
   ],
   "source": [
    "evaluate_threshold(0.99)"
   ]
  },
  {
   "cell_type": "code",
   "execution_count": 44,
   "id": "fd02d340",
   "metadata": {},
   "outputs": [
    {
     "data": {
      "text/html": [
       "<div>\n",
       "<style scoped>\n",
       "    .dataframe tbody tr th:only-of-type {\n",
       "        vertical-align: middle;\n",
       "    }\n",
       "\n",
       "    .dataframe tbody tr th {\n",
       "        vertical-align: top;\n",
       "    }\n",
       "\n",
       "    .dataframe thead th {\n",
       "        text-align: right;\n",
       "    }\n",
       "</style>\n",
       "<table border=\"1\" class=\"dataframe\">\n",
       "  <thead>\n",
       "    <tr style=\"text-align: right;\">\n",
       "      <th></th>\n",
       "      <th>SPD</th>\n",
       "      <th>CV</th>\n",
       "      <th>Price_sd</th>\n",
       "      <th>Price_skewness</th>\n",
       "      <th>Price_kurtosis</th>\n",
       "      <th>Cartel_CS</th>\n",
       "    </tr>\n",
       "  </thead>\n",
       "  <tbody>\n",
       "    <tr>\n",
       "      <th>0</th>\n",
       "      <td>-0.502234</td>\n",
       "      <td>-0.771008</td>\n",
       "      <td>-0.954957</td>\n",
       "      <td>-1.152634</td>\n",
       "      <td>0.981293</td>\n",
       "      <td>1</td>\n",
       "    </tr>\n",
       "    <tr>\n",
       "      <th>1</th>\n",
       "      <td>-0.011977</td>\n",
       "      <td>-0.384726</td>\n",
       "      <td>-0.753369</td>\n",
       "      <td>-2.024678</td>\n",
       "      <td>2.454060</td>\n",
       "      <td>1</td>\n",
       "    </tr>\n",
       "    <tr>\n",
       "      <th>2</th>\n",
       "      <td>-0.637640</td>\n",
       "      <td>-0.824221</td>\n",
       "      <td>-0.983101</td>\n",
       "      <td>-1.343260</td>\n",
       "      <td>1.275377</td>\n",
       "      <td>1</td>\n",
       "    </tr>\n",
       "    <tr>\n",
       "      <th>3</th>\n",
       "      <td>0.079973</td>\n",
       "      <td>-0.440566</td>\n",
       "      <td>-0.781865</td>\n",
       "      <td>-2.067829</td>\n",
       "      <td>2.904549</td>\n",
       "      <td>1</td>\n",
       "    </tr>\n",
       "    <tr>\n",
       "      <th>4</th>\n",
       "      <td>0.141272</td>\n",
       "      <td>-0.439377</td>\n",
       "      <td>-0.781214</td>\n",
       "      <td>-2.052522</td>\n",
       "      <td>2.963625</td>\n",
       "      <td>1</td>\n",
       "    </tr>\n",
       "  </tbody>\n",
       "</table>\n",
       "</div>"
      ],
      "text/plain": [
       "        SPD        CV  Price_sd  Price_skewness  Price_kurtosis  Cartel_CS\n",
       "0 -0.502234 -0.771008 -0.954957       -1.152634        0.981293          1\n",
       "1 -0.011977 -0.384726 -0.753369       -2.024678        2.454060          1\n",
       "2 -0.637640 -0.824221 -0.983101       -1.343260        1.275377          1\n",
       "3  0.079973 -0.440566 -0.781865       -2.067829        2.904549          1\n",
       "4  0.141272 -0.439377 -0.781214       -2.052522        2.963625          1"
      ]
     },
     "execution_count": 44,
     "metadata": {},
     "output_type": "execute_result"
    }
   ],
   "source": [
    "#Testing the Best Model estimated for Brasilia (Random Forest) in the Caxias do Sul's database\n",
    "\n",
    "df_CS= pd.read_excel(r\"CaxiasdoSul_ML_Std.xls\")\n",
    "df_CS.head()"
   ]
  },
  {
   "cell_type": "code",
   "execution_count": 45,
   "id": "e6d460b3",
   "metadata": {},
   "outputs": [],
   "source": [
    "# Predicting the Cartel in Caxias do Sul\n",
    "# define X and y\n",
    "X_CS = df_CS.drop(\"Cartel_CS\",axis = 1)\n",
    "y_CS = df_CS.Cartel_CS"
   ]
  },
  {
   "cell_type": "code",
   "execution_count": 46,
   "id": "747a8e8c",
   "metadata": {},
   "outputs": [
    {
     "name": "stdout",
     "output_type": "stream",
     "text": [
      "(489, 5) (489,) (484, 5) (484,)\n"
     ]
    }
   ],
   "source": [
    "# summarize the dataset\n",
    "print(X.shape, y.shape, X_CS.shape, y_CS.shape)"
   ]
  },
  {
   "cell_type": "code",
   "execution_count": 47,
   "id": "cf408962",
   "metadata": {},
   "outputs": [
    {
     "name": "stdout",
     "output_type": "stream",
     "text": [
      "Test Result:\n",
      "================================================\n",
      "Accuracy Score: 70.25%\n",
      "_______________________________________________\n",
      "CLASSIFICATION REPORT:\n",
      "                    0           1  accuracy   macro avg  weighted avg\n",
      "precision    0.987952    0.553459  0.702479    0.770705      0.828159\n",
      "recall       0.535948    0.988764  0.702479    0.762356      0.702479\n",
      "f1-score     0.694915    0.709677  0.702479    0.702296      0.700344\n",
      "support    306.000000  178.000000  0.702479  484.000000    484.000000\n",
      "_______________________________________________\n",
      "Confusion Matrix: \n",
      " [[164 142]\n",
      " [  2 176]]\n",
      "\n"
     ]
    }
   ],
   "source": [
    "print_score(rf_clf, X_train, y_train, X_CS, y_CS, train=False)"
   ]
  },
  {
   "cell_type": "code",
   "execution_count": 48,
   "id": "323d4fcf",
   "metadata": {},
   "outputs": [],
   "source": [
    "# make class predictions for the testing set\n",
    "y_pred_CS = rf_clf.predict(X_CS)"
   ]
  },
  {
   "cell_type": "code",
   "execution_count": 94,
   "id": "e73741ae",
   "metadata": {},
   "outputs": [
    {
     "data": {
      "image/png": "[encoded data removed]",
      "text/plain": [
       "<Figure size 432x288 with 2 Axes>"
      ]
     },
     "metadata": {},
     "output_type": "display_data"
    }
   ],
   "source": [
    "from sklearn import metrics\n",
    "cnf_matrix = metrics.confusion_matrix(y_CS, y_pred_CS)\n",
    "sns.set(font_scale=1.25) # Adjust to fit\n",
    "p = sns.heatmap(pd.DataFrame(cnf_matrix), annot=True, cmap=\"YlGnBu\" ,fmt='g')\n",
    "plt.title('Random Forest (Brasília vs Caxias do Sul)', y=1.025)\n",
    "plt.ylabel('Actual Values')\n",
    "plt.xlabel('Predicted Values')\n",
    "plt.savefig('CM_RandomForest_BrasiliavsCaxiasdoSul.png', dpi=600)\n",
    "plt.savefig('CM_RandomForest_BrasiliavsCaxiasdoSul.eps', format='eps')"
   ]
  },
  {
   "cell_type": "code",
   "execution_count": 50,
   "id": "b4b56c32",
   "metadata": {},
   "outputs": [
    {
     "name": "stdout",
     "output_type": "stream",
     "text": [
      "              precision    recall  f1-score   support\n",
      "\n",
      "           0       0.99      0.54      0.69       306\n",
      "           1       0.55      0.99      0.71       178\n",
      "\n",
      "    accuracy                           0.70       484\n",
      "   macro avg       0.77      0.76      0.70       484\n",
      "weighted avg       0.83      0.70      0.70       484\n",
      "\n"
     ]
    }
   ],
   "source": [
    "#import classification_report\n",
    "from sklearn.metrics import classification_report\n",
    "print(classification_report(y_CS,y_pred_CS))"
   ]
  },
  {
   "cell_type": "code",
   "execution_count": 51,
   "id": "24ca7660",
   "metadata": {},
   "outputs": [
    {
     "name": "stdout",
     "output_type": "stream",
     "text": [
      "AUC Brasilia vs Caxias do Sul: 0.926048321950503\n"
     ]
    }
   ],
   "source": [
    "y_pred_CS_proba = rf_clf.predict_proba(X_CS)[:,1]\n",
    "fprCS, tprCS, thresholdsCS = roc_curve(y_CS, y_pred_CS_proba)\n",
    "#Area under ROC curve\n",
    "from sklearn.metrics import roc_auc_score\n",
    "auc_CS = roc_auc_score(y_CS,y_pred_CS_proba)\n",
    "print('AUC Brasilia vs Caxias do Sul:',auc_CS)"
   ]
  },
  {
   "cell_type": "code",
   "execution_count": 104,
   "id": "db6cb0e7",
   "metadata": {},
   "outputs": [
    {
     "data": {
      "image/png": "[encoded data removed]",
      "text/plain": [
       "<Figure size 432x288 with 1 Axes>"
      ]
     },
     "metadata": {},
     "output_type": "display_data"
    }
   ],
   "source": [
    "#plt.plot([0,1],[0,1],'k--')\n",
    "plt.plot(fprCS,tprCS, fprBH, tprBH, label='Logistic')\n",
    "plt.xlabel('False Positive')\n",
    "plt.ylabel('True Positive')\n",
    "plt.title('Random Forest - ROC curve (Brasília)')\n",
    "plt.legend(['Belo Horizonte', 'Caxias do Sul'])\n",
    "plt.grid(False)\n",
    "sns.set_style(\"ticks\")\n",
    "plt.savefig('ROC_RandomForest_BrasiliavsBH_CS.png', format='png')"
   ]
  },
  {
   "cell_type": "code",
   "execution_count": 53,
   "id": "13288780",
   "metadata": {},
   "outputs": [],
   "source": [
    "# define a function that accepts a threshold and prints sensitivity and specificity\n",
    "def evaluate_threshold(threshold):\n",
    "    print('sensitivity:', tprCS[thresholdsCS > threshold][-1])\n",
    "    print('specificity:', 1 - fprCS[thresholdsCS > threshold][-1])"
   ]
  },
  {
   "cell_type": "code",
   "execution_count": 54,
   "id": "2a77b25b",
   "metadata": {},
   "outputs": [
    {
     "name": "stdout",
     "output_type": "stream",
     "text": [
      "sensitivity: 0.9887640449438202\n",
      "specificity: 0.5751633986928104\n"
     ]
    }
   ],
   "source": [
    "evaluate_threshold(0.5)"
   ]
  },
  {
   "cell_type": "code",
   "execution_count": 55,
   "id": "9168d619",
   "metadata": {},
   "outputs": [
    {
     "name": "stdout",
     "output_type": "stream",
     "text": [
      "sensitivity: 0.9719101123595506\n",
      "specificity: 0.630718954248366\n"
     ]
    }
   ],
   "source": [
    "evaluate_threshold(0.6)"
   ]
  },
  {
   "cell_type": "code",
   "execution_count": 56,
   "id": "c02c3618",
   "metadata": {},
   "outputs": [
    {
     "name": "stdout",
     "output_type": "stream",
     "text": [
      "sensitivity: 0.9325842696629213\n",
      "specificity: 0.6993464052287581\n"
     ]
    }
   ],
   "source": [
    "evaluate_threshold(0.7)"
   ]
  },
  {
   "cell_type": "code",
   "execution_count": 57,
   "id": "417027df",
   "metadata": {},
   "outputs": [
    {
     "name": "stdout",
     "output_type": "stream",
     "text": [
      "sensitivity: 0.848314606741573\n",
      "specificity: 0.826797385620915\n"
     ]
    }
   ],
   "source": [
    "evaluate_threshold(0.8)"
   ]
  },
  {
   "cell_type": "code",
   "execution_count": 58,
   "id": "54a766a3",
   "metadata": {},
   "outputs": [
    {
     "name": "stdout",
     "output_type": "stream",
     "text": [
      "sensitivity: 0.6573033707865169\n",
      "specificity: 0.9444444444444444\n"
     ]
    }
   ],
   "source": [
    "evaluate_threshold(0.9)"
   ]
  },
  {
   "cell_type": "code",
   "execution_count": 59,
   "id": "5f7b0635",
   "metadata": {},
   "outputs": [
    {
     "name": "stdout",
     "output_type": "stream",
     "text": [
      "sensitivity: 0.29775280898876405\n",
      "specificity: 0.9901960784313726\n"
     ]
    }
   ],
   "source": [
    "evaluate_threshold(0.99)"
   ]
  },
  {
   "cell_type": "code",
   "execution_count": 60,
   "id": "5ed85d95",
   "metadata": {},
   "outputs": [
    {
     "data": {
      "text/html": [
       "<div>\n",
       "<style scoped>\n",
       "    .dataframe tbody tr th:only-of-type {\n",
       "        vertical-align: middle;\n",
       "    }\n",
       "\n",
       "    .dataframe tbody tr th {\n",
       "        vertical-align: top;\n",
       "    }\n",
       "\n",
       "    .dataframe thead th {\n",
       "        text-align: right;\n",
       "    }\n",
       "</style>\n",
       "<table border=\"1\" class=\"dataframe\">\n",
       "  <thead>\n",
       "    <tr style=\"text-align: right;\">\n",
       "      <th></th>\n",
       "      <th>SPD</th>\n",
       "      <th>CV</th>\n",
       "      <th>Price_sd</th>\n",
       "      <th>Price_skewness</th>\n",
       "      <th>Price_kurtosis</th>\n",
       "      <th>Cartel_SL</th>\n",
       "    </tr>\n",
       "  </thead>\n",
       "  <tbody>\n",
       "    <tr>\n",
       "      <th>0</th>\n",
       "      <td>-1.512210</td>\n",
       "      <td>-1.415126</td>\n",
       "      <td>-1.523575</td>\n",
       "      <td>0.530595</td>\n",
       "      <td>-0.372297</td>\n",
       "      <td>1</td>\n",
       "    </tr>\n",
       "    <tr>\n",
       "      <th>1</th>\n",
       "      <td>-1.590998</td>\n",
       "      <td>-1.423813</td>\n",
       "      <td>-1.531361</td>\n",
       "      <td>0.465319</td>\n",
       "      <td>-0.465210</td>\n",
       "      <td>1</td>\n",
       "    </tr>\n",
       "    <tr>\n",
       "      <th>2</th>\n",
       "      <td>-1.472599</td>\n",
       "      <td>-1.390720</td>\n",
       "      <td>-1.500943</td>\n",
       "      <td>0.277075</td>\n",
       "      <td>-0.523992</td>\n",
       "      <td>1</td>\n",
       "    </tr>\n",
       "    <tr>\n",
       "      <th>3</th>\n",
       "      <td>-1.891792</td>\n",
       "      <td>-1.794681</td>\n",
       "      <td>-1.874691</td>\n",
       "      <td>0.988610</td>\n",
       "      <td>-0.150930</td>\n",
       "      <td>1</td>\n",
       "    </tr>\n",
       "    <tr>\n",
       "      <th>4</th>\n",
       "      <td>-1.512210</td>\n",
       "      <td>-1.424056</td>\n",
       "      <td>-1.531331</td>\n",
       "      <td>-0.390301</td>\n",
       "      <td>-0.859725</td>\n",
       "      <td>1</td>\n",
       "    </tr>\n",
       "  </tbody>\n",
       "</table>\n",
       "</div>"
      ],
      "text/plain": [
       "        SPD        CV  Price_sd  Price_skewness  Price_kurtosis  Cartel_SL\n",
       "0 -1.512210 -1.415126 -1.523575        0.530595       -0.372297          1\n",
       "1 -1.590998 -1.423813 -1.531361        0.465319       -0.465210          1\n",
       "2 -1.472599 -1.390720 -1.500943        0.277075       -0.523992          1\n",
       "3 -1.891792 -1.794681 -1.874691        0.988610       -0.150930          1\n",
       "4 -1.512210 -1.424056 -1.531331       -0.390301       -0.859725          1"
      ]
     },
     "execution_count": 60,
     "metadata": {},
     "output_type": "execute_result"
    }
   ],
   "source": [
    "#Testing the Best Model estimated for Brasilia (Random Forest) in São Luís\n",
    "\n",
    "df_SL= pd.read_excel(r\"SaoLuis_ML_Std.xls\")\n",
    "df_SL.head()"
   ]
  },
  {
   "cell_type": "code",
   "execution_count": 61,
   "id": "d220215f",
   "metadata": {},
   "outputs": [],
   "source": [
    "# Predicting the Cartel in São Luís\n",
    "# define X and y\n",
    "X_SL = df_SL.drop(\"Cartel_SL\",axis = 1)\n",
    "y_SL = df_SL.Cartel_SL"
   ]
  },
  {
   "cell_type": "code",
   "execution_count": 62,
   "id": "090e3d1c",
   "metadata": {},
   "outputs": [
    {
     "name": "stdout",
     "output_type": "stream",
     "text": [
      "(489, 5) (489,) (449, 5) (449,)\n"
     ]
    }
   ],
   "source": [
    "# summarize the dataset\n",
    "print(X.shape, y.shape, X_SL.shape, y_SL.shape)"
   ]
  },
  {
   "cell_type": "code",
   "execution_count": 63,
   "id": "141cdeb3",
   "metadata": {},
   "outputs": [
    {
     "name": "stdout",
     "output_type": "stream",
     "text": [
      "Test Result:\n",
      "================================================\n",
      "Accuracy Score: 59.24%\n",
      "_______________________________________________\n",
      "CLASSIFICATION REPORT:\n",
      "                    0           1  accuracy   macro avg  weighted avg\n",
      "precision    0.640212    0.557692  0.592428    0.598952      0.601065\n",
      "recall       0.512712    0.680751  0.592428    0.596732      0.592428\n",
      "f1-score     0.569412    0.613108  0.592428    0.591260      0.590141\n",
      "support    236.000000  213.000000  0.592428  449.000000    449.000000\n",
      "_______________________________________________\n",
      "Confusion Matrix: \n",
      " [[121 115]\n",
      " [ 68 145]]\n",
      "\n"
     ]
    }
   ],
   "source": [
    "print_score(rf_clf, X_train, y_train, X_SL, y_SL, train=False)"
   ]
  },
  {
   "cell_type": "code",
   "execution_count": 64,
   "id": "22ea7300",
   "metadata": {},
   "outputs": [],
   "source": [
    "# make class predictions for the testing set\n",
    "y_pred_SL = rf_clf.predict(X_SL)"
   ]
  },
  {
   "cell_type": "code",
   "execution_count": 95,
   "id": "35699e8c",
   "metadata": {},
   "outputs": [
    {
     "data": {
      "image/png": "[encoded data removed]",
      "text/plain": [
       "<Figure size 432x288 with 2 Axes>"
      ]
     },
     "metadata": {},
     "output_type": "display_data"
    }
   ],
   "source": [
    "from sklearn import metrics\n",
    "cnf_matrix = metrics.confusion_matrix(y_SL, y_pred_SL)\n",
    "sns.set(font_scale=1.2) # Adjust to fit\n",
    "p = sns.heatmap(pd.DataFrame(cnf_matrix), annot=True, cmap=\"YlGnBu\" ,fmt='g')\n",
    "plt.title('Random Forest (Brasília vs São Luís)', y=1.025)\n",
    "plt.ylabel('Actual Values')\n",
    "plt.xlabel('Predicted Values')\n",
    "plt.savefig('CM_RandomForest_BrasiliavsSaoLuis.png', dpi=600)\n",
    "plt.savefig('CM_RandomForest_BrasiliavsSaoLuis.eps', format='eps')"
   ]
  },
  {
   "cell_type": "code",
   "execution_count": 66,
   "id": "5e66e668",
   "metadata": {},
   "outputs": [
    {
     "name": "stdout",
     "output_type": "stream",
     "text": [
      "              precision    recall  f1-score   support\n",
      "\n",
      "           0       0.64      0.51      0.57       236\n",
      "           1       0.56      0.68      0.61       213\n",
      "\n",
      "    accuracy                           0.59       449\n",
      "   macro avg       0.60      0.60      0.59       449\n",
      "weighted avg       0.60      0.59      0.59       449\n",
      "\n"
     ]
    }
   ],
   "source": [
    "#import classification_report\n",
    "print(classification_report(y_SL,y_pred_SL))"
   ]
  },
  {
   "cell_type": "code",
   "execution_count": 67,
   "id": "8bbe0bbb",
   "metadata": {},
   "outputs": [
    {
     "name": "stdout",
     "output_type": "stream",
     "text": [
      "AUC Brasilia vs São Luís: 0.6945074401209517\n"
     ]
    }
   ],
   "source": [
    "#Area under ROC curve\n",
    "y_pred_SL_proba = rf_clf.predict_proba(X_SL)[:,1]\n",
    "fprSL, tprSL, thresholdsSL = roc_curve(y_SL, y_pred_SL_proba)\n",
    "#Area under ROC curve\n",
    "from sklearn.metrics import roc_auc_score\n",
    "auc_SL = roc_auc_score(y_SL,y_pred_SL_proba)\n",
    "print('AUC Brasilia vs São Luís:',auc_SL)"
   ]
  },
  {
   "cell_type": "code",
   "execution_count": 108,
   "id": "717f4d27",
   "metadata": {},
   "outputs": [
    {
     "data": {
      "image/png": "[encoded data removed]",
      "text/plain": [
       "<Figure size 432x288 with 1 Axes>"
      ]
     },
     "metadata": {},
     "output_type": "display_data"
    }
   ],
   "source": [
    "plt.plot(fprCS,tprCS, fprBH, tprBH, fprSL, tprSL, label='Logistic')\n",
    "sns.set(font_scale=1.1) # Adjust to fit\n",
    "plt.xlabel('False Positive')#False Positive Rate\n",
    "plt.ylabel('True Positive')#True Positive Rate\n",
    "plt.title('Random Forest - ROC curve ')\n",
    "plt.legend(['Belo Horizonte (AUC = 0.89)', 'Caxias do Sul (AUC = 0.92)', 'São Luís (AUC = 0.69)'])\n",
    "plt.plot([0,1],[0,1],'k--')\n",
    "plt.grid(False)\n",
    "sns.set_style(\"ticks\")\n",
    "plt.savefig('ROC_RandomForest_Brasilia_vs_BH_CS_SL.png', format='png', dpi=600)"
   ]
  },
  {
   "cell_type": "code",
   "execution_count": 69,
   "id": "fe21cc51",
   "metadata": {},
   "outputs": [],
   "source": [
    "# define a function that accepts a threshold and prints sensitivity and specificity\n",
    "def evaluate_threshold(threshold):\n",
    "    print('sensitivity:', tprSL[thresholdsSL > threshold][-1])\n",
    "    print('specificity:', 1 - fprSL[thresholdsSL > threshold][-1])"
   ]
  },
  {
   "cell_type": "code",
   "execution_count": 70,
   "id": "ded881ec",
   "metadata": {},
   "outputs": [
    {
     "name": "stdout",
     "output_type": "stream",
     "text": [
      "sensitivity: 0.6807511737089202\n",
      "specificity: 0.5127118644067796\n"
     ]
    }
   ],
   "source": [
    "evaluate_threshold(0.5)"
   ]
  },
  {
   "cell_type": "code",
   "execution_count": 71,
   "id": "37122b5b",
   "metadata": {},
   "outputs": [
    {
     "name": "stdout",
     "output_type": "stream",
     "text": [
      "sensitivity: 0.6431924882629108\n",
      "specificity: 0.6271186440677966\n"
     ]
    }
   ],
   "source": [
    "evaluate_threshold(0.6)"
   ]
  },
  {
   "cell_type": "code",
   "execution_count": 72,
   "id": "e247b03e",
   "metadata": {},
   "outputs": [
    {
     "name": "stdout",
     "output_type": "stream",
     "text": [
      "sensitivity: 0.6150234741784038\n",
      "specificity: 0.7245762711864407\n"
     ]
    }
   ],
   "source": [
    "evaluate_threshold(0.7)"
   ]
  },
  {
   "cell_type": "code",
   "execution_count": 73,
   "id": "f52e3ae1",
   "metadata": {},
   "outputs": [
    {
     "name": "stdout",
     "output_type": "stream",
     "text": [
      "sensitivity: 0.5727699530516432\n",
      "specificity: 0.8050847457627118\n"
     ]
    }
   ],
   "source": [
    "evaluate_threshold(0.8)"
   ]
  },
  {
   "cell_type": "code",
   "execution_count": 74,
   "id": "0e0e704c",
   "metadata": {},
   "outputs": [
    {
     "name": "stdout",
     "output_type": "stream",
     "text": [
      "sensitivity: 0.4788732394366197\n",
      "specificity: 0.885593220338983\n"
     ]
    }
   ],
   "source": [
    "evaluate_threshold(0.9)"
   ]
  },
  {
   "cell_type": "code",
   "execution_count": 75,
   "id": "19e3776e",
   "metadata": {},
   "outputs": [
    {
     "name": "stdout",
     "output_type": "stream",
     "text": [
      "sensitivity: 0.215962441314554\n",
      "specificity: 0.9364406779661016\n"
     ]
    }
   ],
   "source": [
    "evaluate_threshold(0.99)"
   ]
  }
 ],
 "metadata": {
  "kernelspec": {
   "display_name": "Python 3",
   "language": "python",
   "name": "python3"
  },
  "language_info": {
   "codemirror_mode": {
    "name": "ipython",
    "version": 3
   },
   "file_extension": ".py",
   "mimetype": "text/x-python",
   "name": "python",
   "nbconvert_exporter": "python",
   "pygments_lexer": "ipython3",
   "version": "3.8.8"
  }
 },
 "nbformat": 4,
 "nbformat_minor": 5
}
