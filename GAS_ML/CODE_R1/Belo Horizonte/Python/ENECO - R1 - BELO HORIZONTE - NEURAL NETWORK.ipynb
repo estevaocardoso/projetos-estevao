{
 "cells": [
  {
   "cell_type": "code",
   "execution_count": 1,
   "id": "164fa339",
   "metadata": {},
   "outputs": [],
   "source": [
    "# Belo Horizonte - Neural Network\n",
    "\n",
    "import tensorflow\n",
    "tensorflow.random.set_seed(42)\n",
    "import numpy as np\n",
    "import pandas as pd\n",
    "import seaborn as sns\n",
    "import matplotlib.pyplot as plt\n",
    "from matplotlib.pyplot import rcParams\n",
    "%matplotlib inline\n",
    "rcParams['figure.figsize'] = 6,4\n",
    "sns.set(style='whitegrid', palette='muted',\n",
    "        rc={'figure.figsize': (6,4)})\n",
    "import os\n",
    "from sklearn.preprocessing import StandardScaler\n",
    "from sklearn.model_selection import train_test_split\n",
    "from sklearn.model_selection import GridSearchCV\n",
    "from keras.wrappers.scikit_learn import KerasClassifier\n",
    "from keras.models import Sequential\n",
    "from keras.layers import Dense, Activation, Dropout, Flatten\n",
    "from keras.layers import Conv2D, MaxPooling2D"
   ]
  },
  {
   "cell_type": "code",
   "execution_count": 2,
   "id": "22cf0aa0",
   "metadata": {},
   "outputs": [
    {
     "data": {
      "text/html": [
       "<div>\n",
       "<style scoped>\n",
       "    .dataframe tbody tr th:only-of-type {\n",
       "        vertical-align: middle;\n",
       "    }\n",
       "\n",
       "    .dataframe tbody tr th {\n",
       "        vertical-align: top;\n",
       "    }\n",
       "\n",
       "    .dataframe thead th {\n",
       "        text-align: right;\n",
       "    }\n",
       "</style>\n",
       "<table border=\"1\" class=\"dataframe\">\n",
       "  <thead>\n",
       "    <tr style=\"text-align: right;\">\n",
       "      <th></th>\n",
       "      <th>SPD</th>\n",
       "      <th>CV</th>\n",
       "      <th>Price_sd</th>\n",
       "      <th>Price_skewness</th>\n",
       "      <th>Price_kurtosis</th>\n",
       "      <th>Cartel_BH</th>\n",
       "    </tr>\n",
       "  </thead>\n",
       "  <tbody>\n",
       "    <tr>\n",
       "      <th>0</th>\n",
       "      <td>2.189400</td>\n",
       "      <td>0.696896</td>\n",
       "      <td>-0.998037</td>\n",
       "      <td>1.168642</td>\n",
       "      <td>1.167386</td>\n",
       "      <td>1</td>\n",
       "    </tr>\n",
       "    <tr>\n",
       "      <th>1</th>\n",
       "      <td>2.080311</td>\n",
       "      <td>0.575242</td>\n",
       "      <td>-1.052757</td>\n",
       "      <td>1.306965</td>\n",
       "      <td>1.297908</td>\n",
       "      <td>1</td>\n",
       "    </tr>\n",
       "    <tr>\n",
       "      <th>2</th>\n",
       "      <td>2.721430</td>\n",
       "      <td>0.301509</td>\n",
       "      <td>-1.186487</td>\n",
       "      <td>0.909275</td>\n",
       "      <td>1.058800</td>\n",
       "      <td>1</td>\n",
       "    </tr>\n",
       "    <tr>\n",
       "      <th>3</th>\n",
       "      <td>1.905134</td>\n",
       "      <td>0.254569</td>\n",
       "      <td>-1.208158</td>\n",
       "      <td>1.094816</td>\n",
       "      <td>1.235846</td>\n",
       "      <td>1</td>\n",
       "    </tr>\n",
       "    <tr>\n",
       "      <th>4</th>\n",
       "      <td>2.879854</td>\n",
       "      <td>0.487816</td>\n",
       "      <td>-1.101539</td>\n",
       "      <td>0.829424</td>\n",
       "      <td>0.997040</td>\n",
       "      <td>1</td>\n",
       "    </tr>\n",
       "  </tbody>\n",
       "</table>\n",
       "</div>"
      ],
      "text/plain": [
       "        SPD        CV  Price_sd  Price_skewness  Price_kurtosis  Cartel_BH\n",
       "0  2.189400  0.696896 -0.998037        1.168642        1.167386          1\n",
       "1  2.080311  0.575242 -1.052757        1.306965        1.297908          1\n",
       "2  2.721430  0.301509 -1.186487        0.909275        1.058800          1\n",
       "3  1.905134  0.254569 -1.208158        1.094816        1.235846          1\n",
       "4  2.879854  0.487816 -1.101539        0.829424        0.997040          1"
      ]
     },
     "execution_count": 2,
     "metadata": {},
     "output_type": "execute_result"
    }
   ],
   "source": [
    "df = pd.read_excel(r\"BeloHorizonte_ML_Std.xls\")\n",
    "df.head()"
   ]
  },
  {
   "cell_type": "code",
   "execution_count": 3,
   "id": "ab67ff0c",
   "metadata": {},
   "outputs": [],
   "source": [
    "# Predicting Cartel\n",
    "# define X and y\n",
    "X = df.drop(\"Cartel_BH\",axis = 1)\n",
    "y = df.Cartel_BH"
   ]
  },
  {
   "cell_type": "code",
   "execution_count": 4,
   "id": "5a11364e",
   "metadata": {},
   "outputs": [
    {
     "name": "stdout",
     "output_type": "stream",
     "text": [
      "(496, 5) (496,)\n"
     ]
    }
   ],
   "source": [
    "# summarize the dataset\n",
    "print(X.shape, y.shape)"
   ]
  },
  {
   "cell_type": "code",
   "execution_count": 5,
   "id": "fdb1fbd9",
   "metadata": {},
   "outputs": [],
   "source": [
    "from sklearn.model_selection import train_test_split\n",
    "X_train,X_test,y_train,y_test = train_test_split(X,y,test_size=0.3,random_state=42)"
   ]
  },
  {
   "cell_type": "code",
   "execution_count": 6,
   "id": "e8809e68",
   "metadata": {},
   "outputs": [],
   "source": [
    "# The neural network model\n",
    "\n",
    "def create_model(lyrs=[5], act='linear', opt='Adam', dr=0.0):\n",
    "    \n",
    "    model = Sequential()\n",
    "    \n",
    "    # create first hidden layer\n",
    "    model.add(Dense(lyrs[0], input_dim=X_train.shape[1], activation=act))\n",
    "    \n",
    "    # create additional hidden layers\n",
    "    for i in range(1,len(lyrs)):\n",
    "        model.add(Dense(lyrs[i], activation=act))\n",
    "    \n",
    "    # add dropout, default is none\n",
    "    model.add(Dropout(dr))\n",
    "    \n",
    "    # create output layer\n",
    "    model.add(Dense(1, activation='sigmoid'))  # output layer\n",
    "    \n",
    "    model.compile(loss='binary_crossentropy', optimizer=opt, metrics=['accuracy'])\n",
    "    \n",
    "    return model"
   ]
  },
  {
   "cell_type": "code",
   "execution_count": 7,
   "id": "7bc948c0",
   "metadata": {},
   "outputs": [
    {
     "name": "stdout",
     "output_type": "stream",
     "text": [
      "Model: \"sequential\"\n",
      "_________________________________________________________________\n",
      "Layer (type)                 Output Shape              Param #   \n",
      "=================================================================\n",
      "dense (Dense)                (None, 5)                 30        \n",
      "_________________________________________________________________\n",
      "dropout (Dropout)            (None, 5)                 0         \n",
      "_________________________________________________________________\n",
      "dense_1 (Dense)              (None, 1)                 6         \n",
      "=================================================================\n",
      "Total params: 36\n",
      "Trainable params: 36\n",
      "Non-trainable params: 0\n",
      "_________________________________________________________________\n",
      "None\n"
     ]
    }
   ],
   "source": [
    "model = create_model()\n",
    "print(model.summary())"
   ]
  },
  {
   "cell_type": "code",
   "execution_count": 8,
   "id": "9e978881",
   "metadata": {},
   "outputs": [
    {
     "name": "stdout",
     "output_type": "stream",
     "text": [
      "\n",
      "val_accuracy: 97.11%\n"
     ]
    }
   ],
   "source": [
    "# train model on full train set, with 80/20 CV split\n",
    "training = model.fit(X_train, y_train, epochs=100, batch_size=32, validation_split=0.2, verbose=0)\n",
    "val_accuracy = np.mean(training.history['val_accuracy'])\n",
    "print(\"\\n%s: %.2f%%\" % ('val_accuracy', val_accuracy*100))"
   ]
  },
  {
   "cell_type": "code",
   "execution_count": 9,
   "id": "27da288d",
   "metadata": {},
   "outputs": [
    {
     "data": {
      "image/png": "[encoded data removed]",
      "text/plain": [
       "<Figure size 432x288 with 1 Axes>"
      ]
     },
     "metadata": {},
     "output_type": "display_data"
    }
   ],
   "source": [
    "# summarize history for accuracy\n",
    "plt.plot(training.history['accuracy'])\n",
    "plt.plot(training.history['val_accuracy'])\n",
    "plt.title('Neural Network Model Accuracy (Belo Horizonte)')\n",
    "plt.ylabel('Accuracy')\n",
    "plt.xlabel('Epoch')\n",
    "plt.legend(['train', 'validation'])\n",
    "plt.grid(False)\n",
    "plt.show()"
   ]
  },
  {
   "cell_type": "code",
   "execution_count": 10,
   "id": "105fe35a",
   "metadata": {},
   "outputs": [
    {
     "name": "stdout",
     "output_type": "stream",
     "text": [
      "Fitting 3 folds for each of 20 candidates, totalling 60 fits\n"
     ]
    }
   ],
   "source": [
    "# Grid search for the batch size and epochs\n",
    "\n",
    "# create model\n",
    "model = KerasClassifier(build_fn=create_model, verbose=0)\n",
    "\n",
    "# define the grid search parameters\n",
    "batch_size = [4, 8, 16, 32, 64]\n",
    "epochs = [25, 50, 75, 100]\n",
    "param_grid = dict(batch_size=batch_size, epochs=epochs)\n",
    "\n",
    "# search the grid\n",
    "grid = GridSearchCV(estimator=model, param_grid=param_grid, scoring='accuracy', cv=3, verbose=2, n_jobs=-1)  \n",
    "grid_result = grid.fit(X_train, y_train)"
   ]
  },
  {
   "cell_type": "code",
   "execution_count": 11,
   "id": "57080499",
   "metadata": {},
   "outputs": [
    {
     "name": "stdout",
     "output_type": "stream",
     "text": [
      "Best: 1.000000 using {'batch_size': 4, 'epochs': 75}\n",
      "0.985532 (0.014790) with: {'batch_size': 4, 'epochs': 25}\n",
      "0.994203 (0.008198) with: {'batch_size': 4, 'epochs': 50}\n",
      "1.000000 (0.000000) with: {'batch_size': 4, 'epochs': 75}\n",
      "1.000000 (0.000000) with: {'batch_size': 4, 'epochs': 100}\n",
      "0.985532 (0.014790) with: {'batch_size': 8, 'epochs': 25}\n",
      "0.997126 (0.004064) with: {'batch_size': 8, 'epochs': 50}\n",
      "0.997101 (0.004099) with: {'batch_size': 8, 'epochs': 75}\n",
      "1.000000 (0.000000) with: {'batch_size': 8, 'epochs': 100}\n",
      "0.919515 (0.107732) with: {'batch_size': 16, 'epochs': 25}\n",
      "0.994203 (0.008198) with: {'batch_size': 16, 'epochs': 50}\n",
      "0.994203 (0.008198) with: {'batch_size': 16, 'epochs': 75}\n",
      "0.994203 (0.008198) with: {'batch_size': 16, 'epochs': 100}\n",
      "0.898926 (0.073754) with: {'batch_size': 32, 'epochs': 25}\n",
      "0.994203 (0.008198) with: {'batch_size': 32, 'epochs': 50}\n",
      "0.968316 (0.028432) with: {'batch_size': 32, 'epochs': 75}\n",
      "0.997101 (0.004099) with: {'batch_size': 32, 'epochs': 100}\n",
      "0.623188 (0.187897) with: {'batch_size': 64, 'epochs': 25}\n",
      "0.876012 (0.093044) with: {'batch_size': 64, 'epochs': 50}\n",
      "0.950850 (0.042814) with: {'batch_size': 64, 'epochs': 75}\n",
      "0.945302 (0.047870) with: {'batch_size': 64, 'epochs': 100}\n"
     ]
    }
   ],
   "source": [
    "# summarize results\n",
    "print(\"Best: %f using %s\" % (grid_result.best_score_, grid_result.best_params_))\n",
    "means = grid_result.cv_results_['mean_test_score']\n",
    "stds = grid_result.cv_results_['std_test_score']\n",
    "params = grid_result.cv_results_['params']\n",
    "for mean, stdev, param in zip(means, stds, params):\n",
    "    print(\"%f (%f) with: %r\" % (mean, stdev, param))"
   ]
  },
  {
   "cell_type": "code",
   "execution_count": 12,
   "id": "db409ffe",
   "metadata": {},
   "outputs": [
    {
     "name": "stdout",
     "output_type": "stream",
     "text": [
      "Fitting 5 folds for each of 6 candidates, totalling 30 fits\n"
     ]
    }
   ],
   "source": [
    "# optimization Algorithm \n",
    "\n",
    "# create model\n",
    "model = KerasClassifier(build_fn=create_model, epochs=50, batch_size=4, verbose=0)\n",
    "\n",
    "# define the grid search parameters\n",
    "optimizer = ['SGD', 'RMSprop', 'Adagrad', 'Adadelta', 'Adam', 'Nadam']\n",
    "param_grid = dict(opt=optimizer)\n",
    "\n",
    "# search the grid\n",
    "grid = GridSearchCV(estimator=model, param_grid=param_grid, scoring='accuracy', verbose=2, n_jobs=-1)\n",
    "grid_result = grid.fit(X_train, y_train)"
   ]
  },
  {
   "cell_type": "code",
   "execution_count": 13,
   "id": "2398460a",
   "metadata": {},
   "outputs": [
    {
     "name": "stdout",
     "output_type": "stream",
     "text": [
      "Best: 1.000000 using {'opt': 'SGD'}\n",
      "1.000000 (0.000000) with: {'opt': 'SGD'}\n",
      "1.000000 (0.000000) with: {'opt': 'RMSprop'}\n",
      "0.882567 (0.138502) with: {'opt': 'Adagrad'}\n",
      "0.728696 (0.096173) with: {'opt': 'Adadelta'}\n",
      "1.000000 (0.000000) with: {'opt': 'Adam'}\n",
      "1.000000 (0.000000) with: {'opt': 'Nadam'}\n"
     ]
    }
   ],
   "source": [
    "# summarize results\n",
    "print(\"Best: %f using %s\" % (grid_result.best_score_, grid_result.best_params_))\n",
    "means = grid_result.cv_results_['mean_test_score']\n",
    "stds = grid_result.cv_results_['std_test_score']\n",
    "params = grid_result.cv_results_['params']\n",
    "for mean, stdev, param in zip(means, stds, params):\n",
    "    print(\"%f (%f) with: %r\" % (mean, stdev, param))"
   ]
  },
  {
   "cell_type": "code",
   "execution_count": 14,
   "id": "c63c5476",
   "metadata": {},
   "outputs": [
    {
     "name": "stdout",
     "output_type": "stream",
     "text": [
      "Fitting 5 folds for each of 3 candidates, totalling 15 fits\n",
      "WARNING:tensorflow:From C:\\Users\\Douglas Silveira\\anaconda3\\lib\\site-packages\\tensorflow\\python\\keras\\wrappers\\scikit_learn.py:241: Sequential.predict_classes (from tensorflow.python.keras.engine.sequential) is deprecated and will be removed after 2021-01-01.\n",
      "Instructions for updating:\n",
      "Please use instead:* `np.argmax(model.predict(x), axis=-1)`,   if your model does multi-class classification   (e.g. if it uses a `softmax` last-layer activation).* `(model.predict(x) > 0.5).astype(\"int32\")`,   if your model does binary classification   (e.g. if it uses a `sigmoid` last-layer activation).\n",
      "[CV] END ..........................................lyrs=(6,); total time=   2.1s\n",
      "[CV] END ..........................................lyrs=(6,); total time=   2.4s\n",
      "[CV] END ..........................................lyrs=(6,); total time=   2.4s\n",
      "[CV] END ..........................................lyrs=(6,); total time=   2.2s\n",
      "[CV] END ..........................................lyrs=(6,); total time=   2.4s\n",
      "[CV] END ........................................lyrs=(6, 4); total time=   2.5s\n",
      "[CV] END ........................................lyrs=(6, 4); total time=   2.4s\n",
      "[CV] END ........................................lyrs=(6, 4); total time=   2.2s\n",
      "[CV] END ........................................lyrs=(6, 4); total time=   2.2s\n",
      "[CV] END ........................................lyrs=(6, 4); total time=   2.1s\n",
      "[CV] END .....................................lyrs=(6, 4, 2); total time=   2.2s\n",
      "[CV] END .....................................lyrs=(6, 4, 2); total time=   2.3s\n",
      "[CV] END .....................................lyrs=(6, 4, 2); total time=   2.2s\n",
      "[CV] END .....................................lyrs=(6, 4, 2); total time=   2.2s\n",
      "[CV] END .....................................lyrs=(6, 4, 2); total time=   2.1s\n"
     ]
    }
   ],
   "source": [
    "#Hidden neurons\n",
    "\n",
    "# create model\n",
    "model = KerasClassifier(build_fn=create_model, \n",
    "                        epochs=50, batch_size=4, verbose=0)\n",
    "\n",
    "# define the grid search parameters\n",
    "layers = [(6,),(6, 4), (6, 4, 2)]\n",
    "param_grid = dict(lyrs=layers)\n",
    "\n",
    "# search the grid\n",
    "grid = GridSearchCV(estimator=model, param_grid=param_grid, scoring='accuracy', verbose=2)\n",
    "grid_result = grid.fit(X_train, y_train)"
   ]
  },
  {
   "cell_type": "code",
   "execution_count": 15,
   "id": "d3a877ef",
   "metadata": {},
   "outputs": [
    {
     "name": "stdout",
     "output_type": "stream",
     "text": [
      "Best: 1.000000 using {'lyrs': (6,)}\n",
      "1.000000 (0.000000) with: {'lyrs': (6,)}\n",
      "1.000000 (0.000000) with: {'lyrs': (6, 4)}\n",
      "1.000000 (0.000000) with: {'lyrs': (6, 4, 2)}\n"
     ]
    }
   ],
   "source": [
    "# summarize results\n",
    "print(\"Best: %f using %s\" % (grid_result.best_score_, grid_result.best_params_))\n",
    "means = grid_result.cv_results_['mean_test_score']\n",
    "stds = grid_result.cv_results_['std_test_score']\n",
    "params = grid_result.cv_results_['params']\n",
    "for mean, stdev, param in zip(means, stds, params):\n",
    "    print(\"%f (%f) with: %r\" % (mean, stdev, param))"
   ]
  },
  {
   "cell_type": "code",
   "execution_count": 16,
   "id": "8f628f7d",
   "metadata": {},
   "outputs": [
    {
     "name": "stdout",
     "output_type": "stream",
     "text": [
      "Fitting 5 folds for each of 6 candidates, totalling 30 fits\n",
      "[CV] END .............................................dr=0.0; total time=   2.0s\n",
      "[CV] END .............................................dr=0.0; total time=   2.2s\n",
      "[CV] END .............................................dr=0.0; total time=   2.3s\n",
      "[CV] END .............................................dr=0.0; total time=   2.5s\n",
      "[CV] END .............................................dr=0.0; total time=   2.2s\n",
      "[CV] END ............................................dr=0.01; total time=   2.1s\n",
      "[CV] END ............................................dr=0.01; total time=   2.1s\n",
      "[CV] END ............................................dr=0.01; total time=   2.1s\n",
      "[CV] END ............................................dr=0.01; total time=   2.3s\n",
      "[CV] END ............................................dr=0.01; total time=   2.2s\n",
      "[CV] END ............................................dr=0.05; total time=   2.1s\n",
      "[CV] END ............................................dr=0.05; total time=   2.1s\n",
      "[CV] END ............................................dr=0.05; total time=   2.2s\n",
      "[CV] END ............................................dr=0.05; total time=   2.2s\n",
      "[CV] END ............................................dr=0.05; total time=   2.1s\n",
      "[CV] END .............................................dr=0.1; total time=   2.0s\n",
      "[CV] END .............................................dr=0.1; total time=   2.0s\n",
      "[CV] END .............................................dr=0.1; total time=   2.0s\n",
      "[CV] END .............................................dr=0.1; total time=   2.1s\n",
      "[CV] END .............................................dr=0.1; total time=   2.2s\n",
      "[CV] END .............................................dr=0.2; total time=   2.2s\n",
      "[CV] END .............................................dr=0.2; total time=   2.0s\n",
      "[CV] END .............................................dr=0.2; total time=   1.8s\n",
      "[CV] END .............................................dr=0.2; total time=   2.5s\n",
      "[CV] END .............................................dr=0.2; total time=   2.1s\n",
      "[CV] END .............................................dr=0.5; total time=   1.8s\n",
      "[CV] END .............................................dr=0.5; total time=   1.8s\n",
      "[CV] END .............................................dr=0.5; total time=   1.8s\n",
      "[CV] END .............................................dr=0.5; total time=   2.0s\n",
      "[CV] END .............................................dr=0.5; total time=   1.9s\n"
     ]
    }
   ],
   "source": [
    "#Dropout\n",
    "\n",
    "# create model\n",
    "model = KerasClassifier(build_fn=create_model, \n",
    "                        epochs=50, batch_size=4, verbose=0)\n",
    "\n",
    "# define the grid search parameters\n",
    "drops = [0.0, 0.01, 0.05, 0.1, 0.2, 0.5]\n",
    "param_grid = dict(dr=drops)\n",
    "grid = GridSearchCV(estimator=model, param_grid=param_grid, scoring='accuracy', verbose=2)\n",
    "grid_result = grid.fit(X_train, y_train)"
   ]
  },
  {
   "cell_type": "code",
   "execution_count": 17,
   "id": "f64b2cb1",
   "metadata": {},
   "outputs": [
    {
     "name": "stdout",
     "output_type": "stream",
     "text": [
      "Best: 1.000000 using {'dr': 0.0}\n",
      "1.000000 (0.000000) with: {'dr': 0.0}\n",
      "1.000000 (0.000000) with: {'dr': 0.01}\n",
      "0.994203 (0.011594) with: {'dr': 0.05}\n",
      "0.997101 (0.005797) with: {'dr': 0.1}\n",
      "1.000000 (0.000000) with: {'dr': 0.2}\n",
      "1.000000 (0.000000) with: {'dr': 0.5}\n"
     ]
    }
   ],
   "source": [
    "# summarize results\n",
    "print(\"Best: %f using %s\" % (grid_result.best_score_, grid_result.best_params_))\n",
    "means = grid_result.cv_results_['mean_test_score']\n",
    "stds = grid_result.cv_results_['std_test_score']\n",
    "params = grid_result.cv_results_['params']\n",
    "for mean, stdev, param in zip(means, stds, params):\n",
    "    print(\"%f (%f) with: %r\" % (mean, stdev, param))"
   ]
  },
  {
   "cell_type": "code",
   "execution_count": 18,
   "id": "2b396d37",
   "metadata": {},
   "outputs": [
    {
     "name": "stdout",
     "output_type": "stream",
     "text": [
      "Model: \"sequential_50\"\n",
      "_________________________________________________________________\n",
      "Layer (type)                 Output Shape              Param #   \n",
      "=================================================================\n",
      "dense_115 (Dense)            (None, 6)                 36        \n",
      "_________________________________________________________________\n",
      "dropout_50 (Dropout)         (None, 6)                 0         \n",
      "_________________________________________________________________\n",
      "dense_116 (Dense)            (None, 1)                 7         \n",
      "=================================================================\n",
      "Total params: 43\n",
      "Trainable params: 43\n",
      "Non-trainable params: 0\n",
      "_________________________________________________________________\n",
      "None\n"
     ]
    }
   ],
   "source": [
    "# create final model\n",
    "model = create_model(lyrs=[6], dr=0.01)\n",
    "\n",
    "print(model.summary())"
   ]
  },
  {
   "cell_type": "code",
   "execution_count": 19,
   "id": "e8129242",
   "metadata": {},
   "outputs": [
    {
     "name": "stdout",
     "output_type": "stream",
     "text": [
      "11/11 [==============================] - 0s 909us/step - loss: 0.0145 - accuracy: 0.9971\n",
      "\n",
      "accuracy: 99.71%\n"
     ]
    }
   ],
   "source": [
    "# train model on full train set, with 80/20 CV split\n",
    "training = model.fit(X_train, y_train, epochs=50, batch_size=4, \n",
    "                     validation_split=0.2, verbose=0)\n",
    "\n",
    "# evaluate the model\n",
    "scores = model.evaluate(X_train, y_train)\n",
    "print(\"\\n%s: %.2f%%\" % (model.metrics_names[1], scores[1]*100))"
   ]
  },
  {
   "cell_type": "code",
   "execution_count": 20,
   "id": "172dbbdf",
   "metadata": {
    "scrolled": true
   },
   "outputs": [
    {
     "data": {
      "image/png": "[encoded data removed]",
      "text/plain": [
       "<Figure size 432x288 with 1 Axes>"
      ]
     },
     "metadata": {},
     "output_type": "display_data"
    }
   ],
   "source": [
    "# summarize history for accuracy\n",
    "plt.plot(training.history['accuracy'])\n",
    "plt.plot(training.history['val_accuracy'])\n",
    "plt.title('Neural Network Model Accuracy (Belo Horizonte)')\n",
    "plt.ylabel('Accuracy')\n",
    "plt.xlabel('Epoch')\n",
    "plt.legend(['train', 'validation'])\n",
    "plt.grid(False)\n",
    "plt.show()"
   ]
  },
  {
   "cell_type": "code",
   "execution_count": 21,
   "id": "719dee37",
   "metadata": {},
   "outputs": [
    {
     "name": "stdout",
     "output_type": "stream",
     "text": [
      "Epoch 1/25\n",
      " 1/38 [..............................] - ETA: 0s - loss: 0.7080 - accuracy: 0.5000WARNING:tensorflow:Callbacks method `on_train_batch_end` is slow compared to the batch time (batch time: 0.0000s vs `on_train_batch_end` time: 0.0010s). Check your callbacks.\n",
      "38/38 [==============================] - 0s 1ms/step - loss: 0.7590 - accuracy: 0.5503\n",
      "Epoch 2/25\n",
      "38/38 [==============================] - 0s 768us/step - loss: 0.6817 - accuracy: 0.6174\n",
      "Epoch 3/25\n",
      "38/38 [==============================] - 0s 923us/step - loss: 0.6215 - accuracy: 0.6846\n",
      "Epoch 4/25\n",
      "38/38 [==============================] - 0s 924us/step - loss: 0.5696 - accuracy: 0.7651\n",
      "Epoch 5/25\n",
      "38/38 [==============================] - 0s 921us/step - loss: 0.5252 - accuracy: 0.7852\n",
      "Epoch 6/25\n",
      "38/38 [==============================] - 0s 895us/step - loss: 0.4844 - accuracy: 0.8121\n",
      "Epoch 7/25\n",
      "38/38 [==============================] - 0s 868us/step - loss: 0.4481 - accuracy: 0.8523\n",
      "Epoch 8/25\n",
      "38/38 [==============================] - 0s 894us/step - loss: 0.4158 - accuracy: 0.9060\n",
      "Epoch 9/25\n",
      "38/38 [==============================] - 0s 895us/step - loss: 0.3861 - accuracy: 0.9262\n",
      "Epoch 10/25\n",
      "38/38 [==============================] - 0s 868us/step - loss: 0.3593 - accuracy: 0.9329\n",
      "Epoch 11/25\n",
      "38/38 [==============================] - 0s 868us/step - loss: 0.3346 - accuracy: 0.9329\n",
      "Epoch 12/25\n",
      "38/38 [==============================] - 0s 842us/step - loss: 0.3123 - accuracy: 0.9329\n",
      "Epoch 13/25\n",
      "38/38 [==============================] - 0s 922us/step - loss: 0.2916 - accuracy: 0.9329\n",
      "Epoch 14/25\n",
      "38/38 [==============================] - 0s 921us/step - loss: 0.2726 - accuracy: 0.9463\n",
      "Epoch 15/25\n",
      "38/38 [==============================] - 0s 926us/step - loss: 0.2554 - accuracy: 0.9463\n",
      "Epoch 16/25\n",
      "38/38 [==============================] - 0s 947us/step - loss: 0.2391 - accuracy: 0.9530\n",
      "Epoch 17/25\n",
      "38/38 [==============================] - 0s 1ms/step - loss: 0.2246 - accuracy: 0.9530\n",
      "Epoch 18/25\n",
      "38/38 [==============================] - 0s 1ms/step - loss: 0.2110 - accuracy: 0.9597\n",
      "Epoch 19/25\n",
      "38/38 [==============================] - 0s 1ms/step - loss: 0.1989 - accuracy: 0.9597\n",
      "Epoch 20/25\n",
      "38/38 [==============================] - 0s 1ms/step - loss: 0.1872 - accuracy: 0.9799\n",
      "Epoch 21/25\n",
      "38/38 [==============================] - 0s 1ms/step - loss: 0.1765 - accuracy: 0.9799\n",
      "Epoch 22/25\n",
      "38/38 [==============================] - 0s 1ms/step - loss: 0.1667 - accuracy: 0.9866\n",
      "Epoch 23/25\n",
      "38/38 [==============================] - 0s 1ms/step - loss: 0.1577 - accuracy: 0.9866\n",
      "Epoch 24/25\n",
      "38/38 [==============================] - 0s 1ms/step - loss: 0.1495 - accuracy: 0.9866\n",
      "Epoch 25/25\n",
      "38/38 [==============================] - 0s 1ms/step - loss: 0.1418 - accuracy: 0.9866\n"
     ]
    }
   ],
   "source": [
    "# make class predictions for the testing set\n",
    "model = create_model()\n",
    "model.fit(X_test, y_test,\n",
    "          batch_size=4,\n",
    "          epochs=25,\n",
    "          shuffle=True)\n",
    "y_pred = model.predict(X_test)"
   ]
  },
  {
   "cell_type": "code",
   "execution_count": 39,
   "id": "e1cb0ec2",
   "metadata": {},
   "outputs": [
    {
     "data": {
      "image/png": "[encoded data removed]",
      "text/plain": [
       "<Figure size 432x288 with 2 Axes>"
      ]
     },
     "metadata": {},
     "output_type": "display_data"
    }
   ],
   "source": [
    "from sklearn import metrics\n",
    "cnf_matrix = metrics.confusion_matrix(y_test, y_pred.round())\n",
    "sns.set(font_scale=1.2) # Adjust to fit\n",
    "p = sns.heatmap(pd.DataFrame(cnf_matrix), annot=True, cmap=\"YlGnBu\" ,fmt='g')\n",
    "plt.title('Neural Network', y=1.025)\n",
    "plt.ylabel('Actual Values')\n",
    "plt.xlabel('Predicted Values')\n",
    "plt.savefig('CM_NeuralNetwork_BeloHorizonte.png', dpi=600)"
   ]
  },
  {
   "cell_type": "code",
   "execution_count": 23,
   "id": "42590cec",
   "metadata": {},
   "outputs": [
    {
     "name": "stdout",
     "output_type": "stream",
     "text": [
      "              precision    recall  f1-score   support\n",
      "\n",
      "           0       1.00      0.98      0.99        82\n",
      "           1       0.97      1.00      0.99        67\n",
      "\n",
      "    accuracy                           0.99       149\n",
      "   macro avg       0.99      0.99      0.99       149\n",
      "weighted avg       0.99      0.99      0.99       149\n",
      "\n"
     ]
    }
   ],
   "source": [
    "#import classification_report\n",
    "from sklearn.metrics import classification_report\n",
    "print(classification_report(y_test,y_pred.round()))"
   ]
  },
  {
   "cell_type": "code",
   "execution_count": 24,
   "id": "b38f64f4",
   "metadata": {},
   "outputs": [],
   "source": [
    "from sklearn.metrics import roc_curve\n",
    "y_pred_proba = model.predict(X_test)[:,0]\n",
    "fpr, tpr, thresholds = roc_curve(y_test, y_pred_proba)"
   ]
  },
  {
   "cell_type": "code",
   "execution_count": 37,
   "id": "6cc023e9",
   "metadata": {},
   "outputs": [
    {
     "data": {
      "image/png": "[encoded data removed]",
      "text/plain": [
       "<Figure size 432x288 with 1 Axes>"
      ]
     },
     "metadata": {},
     "output_type": "display_data"
    }
   ],
   "source": [
    "# histogram of predicted probabilities\n",
    "plt.hist(y_pred_proba, bins=8)\n",
    "plt.xlim(0, 1)\n",
    "plt.title('Histogram of predicted probabilities - Neural Network')\n",
    "plt.xlabel('Predicted probability - (Belo Horizonte) ')\n",
    "plt.ylabel('Frequency')\n",
    "plt.grid(False)\n",
    "plt.savefig('Histogram_NeuralNetwork_BeloHorizonte.eps', format='eps')\n",
    "plt.show()"
   ]
  },
  {
   "cell_type": "code",
   "execution_count": 38,
   "id": "34ade9ba",
   "metadata": {},
   "outputs": [
    {
     "data": {
      "image/png": "[encoded data removed]",
      "text/plain": [
       "<Figure size 432x288 with 1 Axes>"
      ]
     },
     "metadata": {},
     "output_type": "display_data"
    }
   ],
   "source": [
    "plt.plot([0,1],[0,1],'k--')\n",
    "plt.plot(fpr,tpr, label='Logistic')\n",
    "plt.xlabel('False Positive')\n",
    "plt.ylabel('True Positive')\n",
    "plt.title('Neural Network - ROC curve (Belo Horizonte)')\n",
    "plt.grid(False)\n",
    "sns.set_style(\"ticks\")\n",
    "plt.savefig('ROC_NeuralNetwork_BeloHorizonte.eps', format='eps')\n",
    "plt.show()"
   ]
  },
  {
   "cell_type": "code",
   "execution_count": 27,
   "id": "55d6f214",
   "metadata": {},
   "outputs": [
    {
     "data": {
      "text/plain": [
       "0.9998179832544594"
      ]
     },
     "execution_count": 27,
     "metadata": {},
     "output_type": "execute_result"
    }
   ],
   "source": [
    "#Area under ROC curve\n",
    "from sklearn.metrics import roc_auc_score\n",
    "roc_auc_score(y_test,y_pred_proba)"
   ]
  },
  {
   "cell_type": "code",
   "execution_count": 28,
   "id": "127b1025",
   "metadata": {},
   "outputs": [
    {
     "data": {
      "text/html": [
       "\n",
       "    <style>\n",
       "    table.eli5-weights tr:hover {\n",
       "        filter: brightness(85%);\n",
       "    }\n",
       "</style>\n",
       "\n",
       "\n",
       "\n",
       "    \n",
       "\n",
       "    \n",
       "\n",
       "    \n",
       "\n",
       "    \n",
       "\n",
       "    \n",
       "\n",
       "    \n",
       "\n",
       "\n",
       "    \n",
       "\n",
       "    \n",
       "\n",
       "    \n",
       "\n",
       "    \n",
       "\n",
       "    \n",
       "\n",
       "    \n",
       "\n",
       "\n",
       "    \n",
       "\n",
       "    \n",
       "\n",
       "    \n",
       "\n",
       "    \n",
       "\n",
       "    \n",
       "        <table class=\"eli5-weights eli5-feature-importances\" style=\"border-collapse: collapse; border: none; margin-top: 0em; table-layout: auto;\">\n",
       "    <thead>\n",
       "    <tr style=\"border: none;\">\n",
       "        <th style=\"padding: 0 1em 0 0.5em; text-align: right; border: none;\">Weight</th>\n",
       "        <th style=\"padding: 0 0.5em 0 0.5em; text-align: left; border: none;\">Feature</th>\n",
       "    </tr>\n",
       "    </thead>\n",
       "    <tbody>\n",
       "    \n",
       "        <tr style=\"background-color: hsl(120, 100.00%, 80.00%); border: none;\">\n",
       "            <td style=\"padding: 0 1em 0 0.5em; text-align: right; border: none;\">\n",
       "                0.3733\n",
       "                \n",
       "                    &plusmn; 0.0011\n",
       "                \n",
       "            </td>\n",
       "            <td style=\"padding: 0 0.5em 0 0.5em; text-align: left; border: none;\">\n",
       "                Price_sd\n",
       "            </td>\n",
       "        </tr>\n",
       "    \n",
       "        <tr style=\"background-color: hsl(120, 100.00%, 80.19%); border: none;\">\n",
       "            <td style=\"padding: 0 1em 0 0.5em; text-align: right; border: none;\">\n",
       "                0.3684\n",
       "                \n",
       "                    &plusmn; 0.0051\n",
       "                \n",
       "            </td>\n",
       "            <td style=\"padding: 0 0.5em 0 0.5em; text-align: left; border: none;\">\n",
       "                SPD\n",
       "            </td>\n",
       "        </tr>\n",
       "    \n",
       "        <tr style=\"background-color: hsl(120, 100.00%, 91.23%); border: none;\">\n",
       "            <td style=\"padding: 0 1em 0 0.5em; text-align: right; border: none;\">\n",
       "                0.1150\n",
       "                \n",
       "                    &plusmn; 0.0686\n",
       "                \n",
       "            </td>\n",
       "            <td style=\"padding: 0 0.5em 0 0.5em; text-align: left; border: none;\">\n",
       "                CV\n",
       "            </td>\n",
       "        </tr>\n",
       "    \n",
       "        <tr style=\"background-color: hsl(120, 100.00%, 96.61%); border: none;\">\n",
       "            <td style=\"padding: 0 1em 0 0.5em; text-align: right; border: none;\">\n",
       "                0.0296\n",
       "                \n",
       "                    &plusmn; 0.0782\n",
       "                \n",
       "            </td>\n",
       "            <td style=\"padding: 0 0.5em 0 0.5em; text-align: left; border: none;\">\n",
       "                Price_skewness\n",
       "            </td>\n",
       "        </tr>\n",
       "    \n",
       "        <tr style=\"background-color: hsl(120, 100.00%, 97.23%); border: none;\">\n",
       "            <td style=\"padding: 0 1em 0 0.5em; text-align: right; border: none;\">\n",
       "                0.0221\n",
       "                \n",
       "                    &plusmn; 0.0356\n",
       "                \n",
       "            </td>\n",
       "            <td style=\"padding: 0 0.5em 0 0.5em; text-align: left; border: none;\">\n",
       "                Price_kurtosis\n",
       "            </td>\n",
       "        </tr>\n",
       "    \n",
       "    \n",
       "    </tbody>\n",
       "</table>\n",
       "    \n",
       "\n",
       "    \n",
       "\n",
       "\n",
       "    \n",
       "\n",
       "    \n",
       "\n",
       "    \n",
       "\n",
       "    \n",
       "\n",
       "    \n",
       "\n",
       "    \n",
       "\n",
       "\n",
       "\n"
      ],
      "text/plain": [
       "<IPython.core.display.HTML object>"
      ]
     },
     "execution_count": 28,
     "metadata": {},
     "output_type": "execute_result"
    }
   ],
   "source": [
    "import eli5\n",
    "from eli5.sklearn import PermutationImportance\n",
    "# max error measures the classification Error: Overall, how often is the classifier incorrect?\n",
    "perm = PermutationImportance(model, scoring='max_error', random_state=1).fit(X_test, y_test)\n",
    "eli5.show_weights(perm, feature_names = X_test.columns.tolist())"
   ]
  },
  {
   "cell_type": "code",
   "execution_count": 29,
   "id": "995131c6",
   "metadata": {},
   "outputs": [
    {
     "name": "stdout",
     "output_type": "stream",
     "text": [
      "Feature: 0, Score: 0.36874\n",
      "Feature: 1, Score: 0.14275\n",
      "Feature: 2, Score: 0.37267\n",
      "Feature: 3, Score: 0.02005\n",
      "Feature: 4, Score: 0.02139\n"
     ]
    },
    {
     "data": {
      "image/png": "[encoded data removed]",
      "text/plain": [
       "<Figure size 432x288 with 1 Axes>"
      ]
     },
     "metadata": {},
     "output_type": "display_data"
    }
   ],
   "source": [
    "# perform permutation importance\n",
    "from sklearn.inspection import permutation_importance\n",
    "from matplotlib import pyplot\n",
    "\n",
    "results = permutation_importance(model, X_test, y_test, scoring='max_error',  n_repeats=100, random_state=1)\n",
    "# max error measures the classification Error: Overall, how often is the classifier incorrect?\n",
    "# get importance\n",
    "importance = results.importances_mean\n",
    "# summarize feature importance\n",
    "for i,v in enumerate(importance):\n",
    "\tprint('Feature: %0d, Score: %.5f' % (i,v))\n",
    "# plot feature importance\n",
    "pyplot.bar([x for x in range(len(importance))], importance)\n",
    "pyplot.show()\n",
    "\n",
    "#Feature 0: SPD\n",
    "#Feature 1: CV\n",
    "#Feature 2: Price_sd\n",
    "#Feature 3: Price_skewness\n",
    "#Feature 4: Price_kurtosis"
   ]
  },
  {
   "cell_type": "code",
   "execution_count": 30,
   "id": "a8825106",
   "metadata": {},
   "outputs": [],
   "source": [
    "# define a function that accepts a threshold and prints sensitivity and specificity\n",
    "def evaluate_threshold(threshold):\n",
    "    print('Sensitivity:', tpr[thresholds > threshold][-1])\n",
    "    print('Especificity:', 1 - fpr[thresholds > threshold][-1])"
   ]
  },
  {
   "cell_type": "code",
   "execution_count": 31,
   "id": "94363272",
   "metadata": {},
   "outputs": [
    {
     "name": "stdout",
     "output_type": "stream",
     "text": [
      "Sensitividade: 1.0\n",
      "Especificidade: 0.9878048780487805\n"
     ]
    }
   ],
   "source": [
    "evaluate_threshold(0.5)"
   ]
  },
  {
   "cell_type": "code",
   "execution_count": 32,
   "id": "dd4e1f2a",
   "metadata": {},
   "outputs": [
    {
     "name": "stdout",
     "output_type": "stream",
     "text": [
      "Sensitividade: 1.0\n",
      "Especificidade: 0.9878048780487805\n"
     ]
    }
   ],
   "source": [
    "evaluate_threshold(0.6)"
   ]
  },
  {
   "cell_type": "code",
   "execution_count": 33,
   "id": "e30cde7e",
   "metadata": {},
   "outputs": [
    {
     "name": "stdout",
     "output_type": "stream",
     "text": [
      "Sensitividade: 0.014925373134328358\n",
      "Especificidade: 1.0\n"
     ]
    }
   ],
   "source": [
    "evaluate_threshold(0.7)"
   ]
  },
  {
   "cell_type": "code",
   "execution_count": 34,
   "id": "7d0a864e",
   "metadata": {},
   "outputs": [
    {
     "name": "stdout",
     "output_type": "stream",
     "text": [
      "Sensitividade: 0.014925373134328358\n",
      "Especificidade: 1.0\n"
     ]
    }
   ],
   "source": [
    "evaluate_threshold(0.8)"
   ]
  },
  {
   "cell_type": "code",
   "execution_count": 35,
   "id": "01f7c3f4",
   "metadata": {},
   "outputs": [
    {
     "name": "stdout",
     "output_type": "stream",
     "text": [
      "Sensitividade: 0.014925373134328358\n",
      "Especificidade: 1.0\n"
     ]
    }
   ],
   "source": [
    "evaluate_threshold(0.9)"
   ]
  },
  {
   "cell_type": "code",
   "execution_count": 36,
   "id": "49478248",
   "metadata": {},
   "outputs": [
    {
     "name": "stdout",
     "output_type": "stream",
     "text": [
      "Sensitividade: 0.014925373134328358\n",
      "Especificidade: 1.0\n"
     ]
    }
   ],
   "source": [
    "evaluate_threshold(0.99)"
   ]
  }
 ],
 "metadata": {
  "kernelspec": {
   "display_name": "Python 3",
   "language": "python",
   "name": "python3"
  },
  "language_info": {
   "codemirror_mode": {
    "name": "ipython",
    "version": 3
   },
   "file_extension": ".py",
   "mimetype": "text/x-python",
   "name": "python",
   "nbconvert_exporter": "python",
   "pygments_lexer": "ipython3",
   "version": "3.8.8"
  }
 },
 "nbformat": 4,
 "nbformat_minor": 5
}
