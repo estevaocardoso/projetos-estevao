{
 "cells": [
  {
   "cell_type": "code",
   "execution_count": 1,
   "id": "447b2f1d",
   "metadata": {},
   "outputs": [],
   "source": [
    "# Caxias do Sul - Logit"
   ]
  },
  {
   "cell_type": "code",
   "execution_count": 2,
   "id": "32528410",
   "metadata": {},
   "outputs": [],
   "source": [
    "import pandas as pd \n",
    "import matplotlib.pyplot as plt\n",
    "\n",
    "import seaborn as sns\n",
    "sns.set(style=\"white\") #white background style for seaborn plots\n",
    "sns.set(style=\"whitegrid\", color_codes=True)\n",
    "from matplotlib.pyplot import rcParams\n",
    "%matplotlib inline\n",
    "rcParams['figure.figsize'] = 6,4\n",
    "sns.set(style='whitegrid', palette='muted',\n",
    "        rc={'figure.figsize': (6,4)})\n",
    "import warnings\n",
    "warnings.simplefilter(action='ignore')"
   ]
  },
  {
   "cell_type": "code",
   "execution_count": 3,
   "id": "da53d44f",
   "metadata": {},
   "outputs": [
    {
     "data": {
      "text/html": [
       "<div>\n",
       "<style scoped>\n",
       "    .dataframe tbody tr th:only-of-type {\n",
       "        vertical-align: middle;\n",
       "    }\n",
       "\n",
       "    .dataframe tbody tr th {\n",
       "        vertical-align: top;\n",
       "    }\n",
       "\n",
       "    .dataframe thead th {\n",
       "        text-align: right;\n",
       "    }\n",
       "</style>\n",
       "<table border=\"1\" class=\"dataframe\">\n",
       "  <thead>\n",
       "    <tr style=\"text-align: right;\">\n",
       "      <th></th>\n",
       "      <th>SPD</th>\n",
       "      <th>CV</th>\n",
       "      <th>Price_sd</th>\n",
       "      <th>Price_skewness</th>\n",
       "      <th>Price_kurtosis</th>\n",
       "      <th>Cartel_CS</th>\n",
       "    </tr>\n",
       "  </thead>\n",
       "  <tbody>\n",
       "    <tr>\n",
       "      <th>0</th>\n",
       "      <td>-0.502234</td>\n",
       "      <td>-0.771008</td>\n",
       "      <td>-0.954957</td>\n",
       "      <td>-1.152634</td>\n",
       "      <td>0.981293</td>\n",
       "      <td>1</td>\n",
       "    </tr>\n",
       "    <tr>\n",
       "      <th>1</th>\n",
       "      <td>-0.011977</td>\n",
       "      <td>-0.384726</td>\n",
       "      <td>-0.753369</td>\n",
       "      <td>-2.024678</td>\n",
       "      <td>2.454060</td>\n",
       "      <td>1</td>\n",
       "    </tr>\n",
       "    <tr>\n",
       "      <th>2</th>\n",
       "      <td>-0.637640</td>\n",
       "      <td>-0.824221</td>\n",
       "      <td>-0.983101</td>\n",
       "      <td>-1.343260</td>\n",
       "      <td>1.275377</td>\n",
       "      <td>1</td>\n",
       "    </tr>\n",
       "    <tr>\n",
       "      <th>3</th>\n",
       "      <td>0.079973</td>\n",
       "      <td>-0.440566</td>\n",
       "      <td>-0.781865</td>\n",
       "      <td>-2.067829</td>\n",
       "      <td>2.904549</td>\n",
       "      <td>1</td>\n",
       "    </tr>\n",
       "    <tr>\n",
       "      <th>4</th>\n",
       "      <td>0.141272</td>\n",
       "      <td>-0.439377</td>\n",
       "      <td>-0.781214</td>\n",
       "      <td>-2.052522</td>\n",
       "      <td>2.963625</td>\n",
       "      <td>1</td>\n",
       "    </tr>\n",
       "  </tbody>\n",
       "</table>\n",
       "</div>"
      ],
      "text/plain": [
       "        SPD        CV  Price_sd  Price_skewness  Price_kurtosis  Cartel_CS\n",
       "0 -0.502234 -0.771008 -0.954957       -1.152634        0.981293          1\n",
       "1 -0.011977 -0.384726 -0.753369       -2.024678        2.454060          1\n",
       "2 -0.637640 -0.824221 -0.983101       -1.343260        1.275377          1\n",
       "3  0.079973 -0.440566 -0.781865       -2.067829        2.904549          1\n",
       "4  0.141272 -0.439377 -0.781214       -2.052522        2.963625          1"
      ]
     },
     "execution_count": 3,
     "metadata": {},
     "output_type": "execute_result"
    }
   ],
   "source": [
    "df = pd.read_excel(r\"CaxiasdoSul_ML_Std.xls\")\n",
    "df.head()"
   ]
  },
  {
   "cell_type": "code",
   "execution_count": 4,
   "id": "b7da33fb",
   "metadata": {},
   "outputs": [],
   "source": [
    "# Predicting Cartel\n",
    "# define X and y\n",
    "X = df.drop(\"Cartel_CS\",axis = 1)\n",
    "y = df.Cartel_CS"
   ]
  },
  {
   "cell_type": "code",
   "execution_count": 5,
   "id": "0d1e13c4",
   "metadata": {},
   "outputs": [],
   "source": [
    "# split X and y into training and testing sets\n",
    "from sklearn.model_selection import train_test_split\n",
    "X_train,X_test,y_train,y_test = train_test_split(X,y,test_size=0.30,random_state=42, stratify=y)"
   ]
  },
  {
   "cell_type": "code",
   "execution_count": 6,
   "id": "0b3efbe8",
   "metadata": {},
   "outputs": [
    {
     "data": {
      "text/plain": [
       "LogisticRegression(max_iter=15000, penalty='none', solver='saga')"
      ]
     },
     "execution_count": 6,
     "metadata": {},
     "output_type": "execute_result"
    }
   ],
   "source": [
    "# train a logistic regression model on the training set\n",
    "from sklearn.linear_model import LogisticRegression\n",
    "logreg = LogisticRegression(C=1.0, class_weight=None, dual=False, fit_intercept=True,\n",
    "                   intercept_scaling=1, l1_ratio=None, max_iter=15000,\n",
    "                   multi_class='auto', n_jobs=None, penalty='none',\n",
    "                   random_state=None, solver='saga', tol=0.0001, verbose=0,\n",
    "                   warm_start=False)\n",
    "logreg.fit(X_train, y_train)"
   ]
  },
  {
   "cell_type": "code",
   "execution_count": 7,
   "id": "8c11de10",
   "metadata": {},
   "outputs": [
    {
     "name": "stdout",
     "output_type": "stream",
     "text": [
      "[[ -1.11913291  28.35713243 -44.1797346    0.15791492   0.40061889]] [-11.56851723]\n"
     ]
    }
   ],
   "source": [
    "print(logreg.coef_, logreg.intercept_)"
   ]
  },
  {
   "cell_type": "code",
   "execution_count": 8,
   "id": "afe09071",
   "metadata": {},
   "outputs": [],
   "source": [
    "# make class predictions for the testing set\n",
    "y_pred = logreg.predict(X_test)"
   ]
  },
  {
   "cell_type": "code",
   "execution_count": 9,
   "id": "eabe0a54",
   "metadata": {},
   "outputs": [
    {
     "data": {
      "text/plain": [
       "0    92\n",
       "1    54\n",
       "Name: Cartel_CS, dtype: int64"
      ]
     },
     "execution_count": 9,
     "metadata": {},
     "output_type": "execute_result"
    }
   ],
   "source": [
    "## Null accuracy: accuracy that could be achieved by always predicting the most frequent class\n",
    "\n",
    "y_test.value_counts()"
   ]
  },
  {
   "cell_type": "code",
   "execution_count": 10,
   "id": "ef4ee11d",
   "metadata": {},
   "outputs": [
    {
     "name": "stdout",
     "output_type": "stream",
     "text": [
      "Null Accuracy: 0.3698630136986301\n"
     ]
    }
   ],
   "source": [
    "#calculate the percentage of ones\n",
    "Percentage_of_ones = y_test.mean()\n",
    "print('Null Accuracy:', Percentage_of_ones)"
   ]
  },
  {
   "cell_type": "code",
   "execution_count": 11,
   "id": "2035e087",
   "metadata": {},
   "outputs": [
    {
     "name": "stdout",
     "output_type": "stream",
     "text": [
      "1.0\n"
     ]
    }
   ],
   "source": [
    "# calculate accuracy\n",
    "from sklearn import metrics\n",
    "print(metrics.accuracy_score(y_test, y_pred))"
   ]
  },
  {
   "cell_type": "code",
   "execution_count": 76,
   "id": "324f68c5",
   "metadata": {},
   "outputs": [
    {
     "data": {
      "image/png": "[encoded data removed]",
      "text/plain": [
       "<Figure size 432x288 with 2 Axes>"
      ]
     },
     "metadata": {},
     "output_type": "display_data"
    }
   ],
   "source": [
    "import seaborn as sns\n",
    "from sklearn import metrics\n",
    "cnf_matrix = metrics.confusion_matrix(y_test, y_pred)\n",
    "sns.set(font_scale=1.2) # Adjust to fit\n",
    "p = sns.heatmap(pd.DataFrame(cnf_matrix), annot=True, cmap=\"YlGnBu\" ,fmt='g')\n",
    "plt.title('Logit', y=1.025)\n",
    "plt.ylabel('Actual Values')\n",
    "plt.xlabel('Predicted Values')\n",
    "plt.savefig('CM_Logistic_CaxiasdoSul.png', dpi=600)\n",
    "plt.show()"
   ]
  },
  {
   "cell_type": "code",
   "execution_count": 13,
   "id": "33f9ca5b",
   "metadata": {},
   "outputs": [
    {
     "name": "stdout",
     "output_type": "stream",
     "text": [
      "              precision    recall  f1-score   support\n",
      "\n",
      "           0       1.00      1.00      1.00        92\n",
      "           1       1.00      1.00      1.00        54\n",
      "\n",
      "    accuracy                           1.00       146\n",
      "   macro avg       1.00      1.00      1.00       146\n",
      "weighted avg       1.00      1.00      1.00       146\n",
      "\n"
     ]
    }
   ],
   "source": [
    "#import classification_report\n",
    "from sklearn.metrics import classification_report\n",
    "print(classification_report(y_test,y_pred))"
   ]
  },
  {
   "cell_type": "code",
   "execution_count": 14,
   "id": "c362bcb4",
   "metadata": {},
   "outputs": [],
   "source": [
    "# store the predicted probabilities for class 1\n",
    "from sklearn.metrics import roc_curve\n",
    "y_pred_proba = logreg.predict_proba(X_test)[:,1]\n",
    "fpr, tpr, thresholds = roc_curve(y_test, y_pred_proba)"
   ]
  },
  {
   "cell_type": "code",
   "execution_count": 15,
   "id": "709601b2",
   "metadata": {},
   "outputs": [
    {
     "data": {
      "image/png": "[encoded data removed]",
      "text/plain": [
       "<Figure size 432x288 with 1 Axes>"
      ]
     },
     "metadata": {},
     "output_type": "display_data"
    }
   ],
   "source": [
    "# histogram of predicted probabilities\n",
    "plt.hist(y_pred_proba, bins=8)\n",
    "plt.xlim(0, 1)\n",
    "plt.title('Histogram of predicted probabilities - Logistic')\n",
    "plt.xlabel('Predicted probability - (Caxias do Sul) ')\n",
    "plt.ylabel('Frequency')\n",
    "plt.grid(False)\n",
    "plt.savefig('Histogram_Logistic_CaxiasdoSul.png', format='png')\n",
    "plt.show()"
   ]
  },
  {
   "cell_type": "code",
   "execution_count": 16,
   "id": "6d16d8e3",
   "metadata": {},
   "outputs": [
    {
     "data": {
      "image/png": "[encoded data removed]",
      "text/plain": [
       "<Figure size 432x288 with 1 Axes>"
      ]
     },
     "metadata": {},
     "output_type": "display_data"
    }
   ],
   "source": [
    "plt.plot([0,1],[0,1],'k--')\n",
    "plt.plot(fpr,tpr, label='Logistic')\n",
    "plt.xlabel('False Positive')\n",
    "plt.ylabel('True Positive')\n",
    "plt.title('Logit - ROC curve (Caxias do Sul)')\n",
    "plt.grid(False)\n",
    "sns.set_style(\"ticks\")\n",
    "plt.savefig('ROC_Logistic_CaxiasdoSul.png', format='png')\n",
    "plt.show()"
   ]
  },
  {
   "cell_type": "code",
   "execution_count": 17,
   "id": "7d2c22ca",
   "metadata": {},
   "outputs": [],
   "source": [
    "from sklearn.metrics import roc_curve\n",
    "y_pred_proba = logreg.predict_proba(X_test)[:,1]\n",
    "fpr, tpr, thresholds = roc_curve(y_test, y_pred_proba)"
   ]
  },
  {
   "cell_type": "code",
   "execution_count": 18,
   "id": "a425d77f",
   "metadata": {},
   "outputs": [
    {
     "name": "stdout",
     "output_type": "stream",
     "text": [
      "AUC: 1.0\n"
     ]
    }
   ],
   "source": [
    "# calculate cross-validated AUC\n",
    "from sklearn.model_selection import cross_val_score\n",
    "auc = cross_val_score(logreg, X_test, y_test, cv=5, scoring='roc_auc').mean()\n",
    "print('AUC:',auc)"
   ]
  },
  {
   "cell_type": "code",
   "execution_count": 19,
   "id": "5d69412c",
   "metadata": {},
   "outputs": [],
   "source": [
    "import eli5\n",
    "from eli5.sklearn import PermutationImportance"
   ]
  },
  {
   "cell_type": "code",
   "execution_count": 20,
   "id": "d68824e3",
   "metadata": {},
   "outputs": [
    {
     "data": {
      "text/html": [
       "\n",
       "    <style>\n",
       "    table.eli5-weights tr:hover {\n",
       "        filter: brightness(85%);\n",
       "    }\n",
       "</style>\n",
       "\n",
       "\n",
       "\n",
       "    \n",
       "\n",
       "    \n",
       "\n",
       "    \n",
       "\n",
       "    \n",
       "\n",
       "    \n",
       "\n",
       "    \n",
       "\n",
       "\n",
       "    \n",
       "\n",
       "    \n",
       "\n",
       "    \n",
       "\n",
       "    \n",
       "\n",
       "    \n",
       "\n",
       "    \n",
       "\n",
       "\n",
       "    \n",
       "\n",
       "    \n",
       "\n",
       "    \n",
       "\n",
       "    \n",
       "\n",
       "    \n",
       "        <table class=\"eli5-weights eli5-feature-importances\" style=\"border-collapse: collapse; border: none; margin-top: 0em; table-layout: auto;\">\n",
       "    <thead>\n",
       "    <tr style=\"border: none;\">\n",
       "        <th style=\"padding: 0 1em 0 0.5em; text-align: right; border: none;\">Weight</th>\n",
       "        <th style=\"padding: 0 0.5em 0 0.5em; text-align: left; border: none;\">Feature</th>\n",
       "    </tr>\n",
       "    </thead>\n",
       "    <tbody>\n",
       "    \n",
       "        <tr style=\"background-color: hsl(120, 100.00%, 80.00%); border: none;\">\n",
       "            <td style=\"padding: 0 1em 0 0.5em; text-align: right; border: none;\">\n",
       "                0.6014\n",
       "                \n",
       "                    &plusmn; 0.0530\n",
       "                \n",
       "            </td>\n",
       "            <td style=\"padding: 0 0.5em 0 0.5em; text-align: left; border: none;\">\n",
       "                Price_sd\n",
       "            </td>\n",
       "        </tr>\n",
       "    \n",
       "        <tr style=\"background-color: hsl(120, 100.00%, 89.28%); border: none;\">\n",
       "            <td style=\"padding: 0 1em 0 0.5em; text-align: right; border: none;\">\n",
       "                0.2466\n",
       "                \n",
       "                    &plusmn; 0.0594\n",
       "                \n",
       "            </td>\n",
       "            <td style=\"padding: 0 0.5em 0 0.5em; text-align: left; border: none;\">\n",
       "                CV\n",
       "            </td>\n",
       "        </tr>\n",
       "    \n",
       "        <tr style=\"background-color: hsl(120, 100.00%, 98.30%); border: none;\">\n",
       "            <td style=\"padding: 0 1em 0 0.5em; text-align: right; border: none;\">\n",
       "                0.0178\n",
       "                \n",
       "                    &plusmn; 0.0186\n",
       "                \n",
       "            </td>\n",
       "            <td style=\"padding: 0 0.5em 0 0.5em; text-align: left; border: none;\">\n",
       "                SPD\n",
       "            </td>\n",
       "        </tr>\n",
       "    \n",
       "        <tr style=\"background-color: hsl(120, 100.00%, 99.01%); border: none;\">\n",
       "            <td style=\"padding: 0 1em 0 0.5em; text-align: right; border: none;\">\n",
       "                0.0082\n",
       "                \n",
       "                    &plusmn; 0.0055\n",
       "                \n",
       "            </td>\n",
       "            <td style=\"padding: 0 0.5em 0 0.5em; text-align: left; border: none;\">\n",
       "                Price_kurtosis\n",
       "            </td>\n",
       "        </tr>\n",
       "    \n",
       "        <tr style=\"background-color: hsl(0, 100.00%, 100.00%); border: none;\">\n",
       "            <td style=\"padding: 0 1em 0 0.5em; text-align: right; border: none;\">\n",
       "                0\n",
       "                \n",
       "                    &plusmn; 0.0000\n",
       "                \n",
       "            </td>\n",
       "            <td style=\"padding: 0 0.5em 0 0.5em; text-align: left; border: none;\">\n",
       "                Price_skewness\n",
       "            </td>\n",
       "        </tr>\n",
       "    \n",
       "    \n",
       "    </tbody>\n",
       "</table>\n",
       "    \n",
       "\n",
       "    \n",
       "\n",
       "\n",
       "    \n",
       "\n",
       "    \n",
       "\n",
       "    \n",
       "\n",
       "    \n",
       "\n",
       "    \n",
       "\n",
       "    \n",
       "\n",
       "\n",
       "\n"
      ],
      "text/plain": [
       "<IPython.core.display.HTML object>"
      ]
     },
     "execution_count": 20,
     "metadata": {},
     "output_type": "execute_result"
    }
   ],
   "source": [
    "perm = PermutationImportance(logreg, random_state=1).fit(X_test, y_test)\n",
    "eli5.show_weights(perm, feature_names = X_test.columns.tolist())"
   ]
  },
  {
   "cell_type": "code",
   "execution_count": 21,
   "id": "45a55229",
   "metadata": {},
   "outputs": [],
   "source": [
    "# define a function that accepts a threshold and prints sensitivity and specificity\n",
    "def evaluate_threshold(threshold):\n",
    "    print('sensitivity:', tpr[thresholds > threshold][-1])\n",
    "    print('specificity:', 1 - fpr[thresholds > threshold][-1])"
   ]
  },
  {
   "cell_type": "code",
   "execution_count": 22,
   "id": "60d81bbf",
   "metadata": {},
   "outputs": [
    {
     "name": "stdout",
     "output_type": "stream",
     "text": [
      "sensitivity: 1.0\n",
      "specificity: 1.0\n"
     ]
    }
   ],
   "source": [
    "evaluate_threshold(0.5)"
   ]
  },
  {
   "cell_type": "code",
   "execution_count": 23,
   "id": "6db87c18",
   "metadata": {},
   "outputs": [
    {
     "name": "stdout",
     "output_type": "stream",
     "text": [
      "sensitivity: 1.0\n",
      "specificity: 1.0\n"
     ]
    }
   ],
   "source": [
    "evaluate_threshold(0.6)"
   ]
  },
  {
   "cell_type": "code",
   "execution_count": 24,
   "id": "bbe0c3e6",
   "metadata": {},
   "outputs": [
    {
     "name": "stdout",
     "output_type": "stream",
     "text": [
      "sensitivity: 1.0\n",
      "specificity: 1.0\n"
     ]
    }
   ],
   "source": [
    "evaluate_threshold(0.7)"
   ]
  },
  {
   "cell_type": "code",
   "execution_count": 25,
   "id": "822b3254",
   "metadata": {},
   "outputs": [
    {
     "name": "stdout",
     "output_type": "stream",
     "text": [
      "sensitivity: 0.018518518518518517\n",
      "specificity: 1.0\n"
     ]
    }
   ],
   "source": [
    "evaluate_threshold(0.8)"
   ]
  },
  {
   "cell_type": "code",
   "execution_count": 26,
   "id": "cd21b54c",
   "metadata": {},
   "outputs": [
    {
     "name": "stdout",
     "output_type": "stream",
     "text": [
      "sensitivity: 0.018518518518518517\n",
      "specificity: 1.0\n"
     ]
    }
   ],
   "source": [
    "evaluate_threshold(0.9)"
   ]
  },
  {
   "cell_type": "code",
   "execution_count": 27,
   "id": "6a7d3e40",
   "metadata": {},
   "outputs": [
    {
     "name": "stdout",
     "output_type": "stream",
     "text": [
      "sensitivity: 0.018518518518518517\n",
      "specificity: 1.0\n"
     ]
    }
   ],
   "source": [
    "evaluate_threshold(0.99)"
   ]
  },
  {
   "cell_type": "code",
   "execution_count": 28,
   "id": "c1628cd9",
   "metadata": {},
   "outputs": [
    {
     "data": {
      "text/html": [
       "<div>\n",
       "<style scoped>\n",
       "    .dataframe tbody tr th:only-of-type {\n",
       "        vertical-align: middle;\n",
       "    }\n",
       "\n",
       "    .dataframe tbody tr th {\n",
       "        vertical-align: top;\n",
       "    }\n",
       "\n",
       "    .dataframe thead th {\n",
       "        text-align: right;\n",
       "    }\n",
       "</style>\n",
       "<table border=\"1\" class=\"dataframe\">\n",
       "  <thead>\n",
       "    <tr style=\"text-align: right;\">\n",
       "      <th></th>\n",
       "      <th>SPD</th>\n",
       "      <th>CV</th>\n",
       "      <th>Price_sd</th>\n",
       "      <th>Price_skewness</th>\n",
       "      <th>Price_kurtosis</th>\n",
       "      <th>Cartel_DF</th>\n",
       "    </tr>\n",
       "  </thead>\n",
       "  <tbody>\n",
       "    <tr>\n",
       "      <th>0</th>\n",
       "      <td>-0.717529</td>\n",
       "      <td>-0.626223</td>\n",
       "      <td>-0.666778</td>\n",
       "      <td>-0.196953</td>\n",
       "      <td>-0.477565</td>\n",
       "      <td>1</td>\n",
       "    </tr>\n",
       "    <tr>\n",
       "      <th>1</th>\n",
       "      <td>-0.838328</td>\n",
       "      <td>-0.807425</td>\n",
       "      <td>-0.792635</td>\n",
       "      <td>0.885682</td>\n",
       "      <td>-0.286445</td>\n",
       "      <td>1</td>\n",
       "    </tr>\n",
       "    <tr>\n",
       "      <th>2</th>\n",
       "      <td>-0.516970</td>\n",
       "      <td>-0.574450</td>\n",
       "      <td>-0.631149</td>\n",
       "      <td>-1.795652</td>\n",
       "      <td>1.239965</td>\n",
       "      <td>1</td>\n",
       "    </tr>\n",
       "    <tr>\n",
       "      <th>3</th>\n",
       "      <td>-0.777291</td>\n",
       "      <td>-0.761828</td>\n",
       "      <td>-0.761104</td>\n",
       "      <td>-1.063986</td>\n",
       "      <td>0.201244</td>\n",
       "      <td>1</td>\n",
       "    </tr>\n",
       "    <tr>\n",
       "      <th>4</th>\n",
       "      <td>-0.716441</td>\n",
       "      <td>-0.647552</td>\n",
       "      <td>-0.681930</td>\n",
       "      <td>-0.602536</td>\n",
       "      <td>-0.301323</td>\n",
       "      <td>1</td>\n",
       "    </tr>\n",
       "  </tbody>\n",
       "</table>\n",
       "</div>"
      ],
      "text/plain": [
       "        SPD        CV  Price_sd  Price_skewness  Price_kurtosis  Cartel_DF\n",
       "0 -0.717529 -0.626223 -0.666778       -0.196953       -0.477565          1\n",
       "1 -0.838328 -0.807425 -0.792635        0.885682       -0.286445          1\n",
       "2 -0.516970 -0.574450 -0.631149       -1.795652        1.239965          1\n",
       "3 -0.777291 -0.761828 -0.761104       -1.063986        0.201244          1\n",
       "4 -0.716441 -0.647552 -0.681930       -0.602536       -0.301323          1"
      ]
     },
     "execution_count": 28,
     "metadata": {},
     "output_type": "execute_result"
    }
   ],
   "source": [
    "#Testing the Best Model estimated for Caxias do Sul (Logistic) in the Brasília's database\n",
    "\n",
    "df_BRA= pd.read_excel(r\"Brasilia_ML_Std.xls\")\n",
    "df_BRA.head()"
   ]
  },
  {
   "cell_type": "code",
   "execution_count": 29,
   "id": "53580187",
   "metadata": {},
   "outputs": [],
   "source": [
    "# Predicting the Cartel in Brasília\n",
    "# define X and y\n",
    "X_BRA = df_BRA.drop(\"Cartel_DF\",axis = 1)\n",
    "y_BRA = df_BRA.Cartel_DF"
   ]
  },
  {
   "cell_type": "code",
   "execution_count": 30,
   "id": "21364c57",
   "metadata": {},
   "outputs": [
    {
     "name": "stdout",
     "output_type": "stream",
     "text": [
      "(484, 5) (484,) (489, 5) (489,)\n"
     ]
    }
   ],
   "source": [
    "# summarize the dataset\n",
    "print(X.shape, y.shape, X_BRA.shape, y_BRA.shape)"
   ]
  },
  {
   "cell_type": "code",
   "execution_count": 31,
   "id": "4d6290e6",
   "metadata": {},
   "outputs": [],
   "source": [
    "# make class predictions for the testing set\n",
    "y_pred_BRA = logreg.predict(X_BRA)"
   ]
  },
  {
   "cell_type": "code",
   "execution_count": 32,
   "id": "844d20b2",
   "metadata": {},
   "outputs": [
    {
     "data": {
      "image/png": "[encoded data removed]",
      "text/plain": [
       "<Figure size 432x288 with 2 Axes>"
      ]
     },
     "metadata": {},
     "output_type": "display_data"
    }
   ],
   "source": [
    "import seaborn as sns\n",
    "from sklearn import metrics\n",
    "cnf_matrix = metrics.confusion_matrix(y_BRA, y_pred_BRA)\n",
    "p = sns.heatmap(pd.DataFrame(cnf_matrix), annot=True, cmap=\"YlGnBu\" ,fmt='g')\n",
    "plt.title('Logit (Caxias do Sul vs Brasília)', y=1.025)\n",
    "plt.ylabel('Actual Values')\n",
    "plt.xlabel('Predicted Values')\n",
    "plt.savefig('CM_Logistic_CaxiasdoSul_vs_Brasilia.png', dpi=600)"
   ]
  },
  {
   "cell_type": "code",
   "execution_count": 33,
   "id": "130720f9",
   "metadata": {},
   "outputs": [
    {
     "name": "stdout",
     "output_type": "stream",
     "text": [
      "              precision    recall  f1-score   support\n",
      "\n",
      "           0       0.58      1.00      0.74       178\n",
      "           1       1.00      0.59      0.74       311\n",
      "\n",
      "    accuracy                           0.74       489\n",
      "   macro avg       0.79      0.80      0.74       489\n",
      "weighted avg       0.85      0.74      0.74       489\n",
      "\n"
     ]
    }
   ],
   "source": [
    "print(classification_report(y_BRA,y_pred_BRA))"
   ]
  },
  {
   "cell_type": "code",
   "execution_count": 34,
   "id": "dee6654d",
   "metadata": {},
   "outputs": [],
   "source": [
    "from sklearn.metrics import roc_curve\n",
    "y_pred_BRA_proba = logreg.predict_proba(X_BRA)[:,1]\n",
    "fprBRA, tprBRA, thresholdsBRA = roc_curve(y_BRA, y_pred_BRA_proba)"
   ]
  },
  {
   "cell_type": "code",
   "execution_count": 35,
   "id": "b9f461c4",
   "metadata": {},
   "outputs": [
    {
     "data": {
      "image/png": "[encoded data removed]",
      "text/plain": [
       "<Figure size 432x288 with 1 Axes>"
      ]
     },
     "metadata": {},
     "output_type": "display_data"
    }
   ],
   "source": [
    "#plt.plot([0,1],[0,1],'k--')\n",
    "plt.plot(fprBRA,tprBRA, label='Logistic')\n",
    "plt.xlabel('False Positive')\n",
    "plt.ylabel('True Positive')\n",
    "plt.title('Logit (Caxias do Sul) - ROC curve ')\n",
    "plt.legend(['Brasília'])\n",
    "plt.grid(False)\n",
    "sns.set_style(\"ticks\")\n",
    "plt.savefig('ROC_Logistic_CaxiasdoSul_vs_BRA.png', format='png')\n",
    "plt.show()"
   ]
  },
  {
   "cell_type": "code",
   "execution_count": 36,
   "id": "19781d65",
   "metadata": {},
   "outputs": [
    {
     "name": "stdout",
     "output_type": "stream",
     "text": [
      "AUC Caxias do Sul vs Brasília: 0.9921781856280935\n"
     ]
    }
   ],
   "source": [
    "#Area under ROC curve\n",
    "from sklearn.metrics import roc_auc_score\n",
    "auc_BRA = roc_auc_score(y_BRA,y_pred_BRA_proba)\n",
    "print('AUC Caxias do Sul vs Brasília:',auc_BRA)"
   ]
  },
  {
   "cell_type": "code",
   "execution_count": 37,
   "id": "5bd37701",
   "metadata": {},
   "outputs": [],
   "source": [
    "# define a function that accepts a threshold and prints sensitivity and specificity\n",
    "def evaluate_threshold(threshold):\n",
    "    print('sensitivity:', tprBRA[thresholdsBRA > threshold][-1])\n",
    "    print('specificity:', 1 - fprBRA[thresholdsBRA > threshold][-1])"
   ]
  },
  {
   "cell_type": "code",
   "execution_count": 38,
   "id": "762701a6",
   "metadata": {},
   "outputs": [
    {
     "name": "stdout",
     "output_type": "stream",
     "text": [
      "sensitivity: 0.5916398713826366\n",
      "specificity: 1.0\n"
     ]
    }
   ],
   "source": [
    "evaluate_threshold(0.5)"
   ]
  },
  {
   "cell_type": "code",
   "execution_count": 39,
   "id": "43f9d2dc",
   "metadata": {},
   "outputs": [
    {
     "name": "stdout",
     "output_type": "stream",
     "text": [
      "sensitivity: 0.4405144694533762\n",
      "specificity: 1.0\n"
     ]
    }
   ],
   "source": [
    "evaluate_threshold(0.6)"
   ]
  },
  {
   "cell_type": "code",
   "execution_count": 40,
   "id": "bc9e5198",
   "metadata": {},
   "outputs": [
    {
     "name": "stdout",
     "output_type": "stream",
     "text": [
      "sensitivity: 0.2733118971061093\n",
      "specificity: 1.0\n"
     ]
    }
   ],
   "source": [
    "evaluate_threshold(0.7)"
   ]
  },
  {
   "cell_type": "code",
   "execution_count": 41,
   "id": "03bb8ebb",
   "metadata": {},
   "outputs": [
    {
     "name": "stdout",
     "output_type": "stream",
     "text": [
      "sensitivity: 0.05144694533762058\n",
      "specificity: 1.0\n"
     ]
    }
   ],
   "source": [
    "evaluate_threshold(0.8)"
   ]
  },
  {
   "cell_type": "code",
   "execution_count": 42,
   "id": "2d5727fe",
   "metadata": {},
   "outputs": [
    {
     "name": "stdout",
     "output_type": "stream",
     "text": [
      "sensitivity: 0.0\n",
      "specificity: 1.0\n"
     ]
    }
   ],
   "source": [
    "evaluate_threshold(0.9)"
   ]
  },
  {
   "cell_type": "code",
   "execution_count": 43,
   "id": "5a60f335",
   "metadata": {},
   "outputs": [
    {
     "name": "stdout",
     "output_type": "stream",
     "text": [
      "sensitivity: 0.0\n",
      "specificity: 1.0\n"
     ]
    }
   ],
   "source": [
    "evaluate_threshold(0.99)"
   ]
  },
  {
   "cell_type": "code",
   "execution_count": 44,
   "id": "f79b517a",
   "metadata": {},
   "outputs": [
    {
     "data": {
      "text/html": [
       "<div>\n",
       "<style scoped>\n",
       "    .dataframe tbody tr th:only-of-type {\n",
       "        vertical-align: middle;\n",
       "    }\n",
       "\n",
       "    .dataframe tbody tr th {\n",
       "        vertical-align: top;\n",
       "    }\n",
       "\n",
       "    .dataframe thead th {\n",
       "        text-align: right;\n",
       "    }\n",
       "</style>\n",
       "<table border=\"1\" class=\"dataframe\">\n",
       "  <thead>\n",
       "    <tr style=\"text-align: right;\">\n",
       "      <th></th>\n",
       "      <th>SPD</th>\n",
       "      <th>CV</th>\n",
       "      <th>Price_sd</th>\n",
       "      <th>Price_skewness</th>\n",
       "      <th>Price_kurtosis</th>\n",
       "      <th>Cartel_BH</th>\n",
       "    </tr>\n",
       "  </thead>\n",
       "  <tbody>\n",
       "    <tr>\n",
       "      <th>0</th>\n",
       "      <td>2.189400</td>\n",
       "      <td>0.696896</td>\n",
       "      <td>-0.998037</td>\n",
       "      <td>1.168642</td>\n",
       "      <td>1.167386</td>\n",
       "      <td>1</td>\n",
       "    </tr>\n",
       "    <tr>\n",
       "      <th>1</th>\n",
       "      <td>2.080311</td>\n",
       "      <td>0.575242</td>\n",
       "      <td>-1.052757</td>\n",
       "      <td>1.306965</td>\n",
       "      <td>1.297908</td>\n",
       "      <td>1</td>\n",
       "    </tr>\n",
       "    <tr>\n",
       "      <th>2</th>\n",
       "      <td>2.721430</td>\n",
       "      <td>0.301509</td>\n",
       "      <td>-1.186487</td>\n",
       "      <td>0.909275</td>\n",
       "      <td>1.058800</td>\n",
       "      <td>1</td>\n",
       "    </tr>\n",
       "    <tr>\n",
       "      <th>3</th>\n",
       "      <td>1.905134</td>\n",
       "      <td>0.254569</td>\n",
       "      <td>-1.208158</td>\n",
       "      <td>1.094816</td>\n",
       "      <td>1.235846</td>\n",
       "      <td>1</td>\n",
       "    </tr>\n",
       "    <tr>\n",
       "      <th>4</th>\n",
       "      <td>2.879854</td>\n",
       "      <td>0.487816</td>\n",
       "      <td>-1.101539</td>\n",
       "      <td>0.829424</td>\n",
       "      <td>0.997040</td>\n",
       "      <td>1</td>\n",
       "    </tr>\n",
       "  </tbody>\n",
       "</table>\n",
       "</div>"
      ],
      "text/plain": [
       "        SPD        CV  Price_sd  Price_skewness  Price_kurtosis  Cartel_BH\n",
       "0  2.189400  0.696896 -0.998037        1.168642        1.167386          1\n",
       "1  2.080311  0.575242 -1.052757        1.306965        1.297908          1\n",
       "2  2.721430  0.301509 -1.186487        0.909275        1.058800          1\n",
       "3  1.905134  0.254569 -1.208158        1.094816        1.235846          1\n",
       "4  2.879854  0.487816 -1.101539        0.829424        0.997040          1"
      ]
     },
     "execution_count": 44,
     "metadata": {},
     "output_type": "execute_result"
    }
   ],
   "source": [
    "#Testing the Best Model estimated for Caxias do Sul (Logistic Classifier) in the Belo Horizonte's database\n",
    "df_BH= pd.read_excel(r\"BeloHorizonte_ML_Std.xls\")\n",
    "df_BH.head()"
   ]
  },
  {
   "cell_type": "code",
   "execution_count": 45,
   "id": "af673d6d",
   "metadata": {},
   "outputs": [],
   "source": [
    "# Predicting the Cartel in Caxias do Sul\n",
    "# define X and y\n",
    "X_BH = df_BH.drop(\"Cartel_BH\",axis = 1)\n",
    "y_BH = df_BH.Cartel_BH"
   ]
  },
  {
   "cell_type": "code",
   "execution_count": 46,
   "id": "04ef111c",
   "metadata": {},
   "outputs": [
    {
     "name": "stdout",
     "output_type": "stream",
     "text": [
      "(484, 5) (484,) (496, 5) (496,)\n"
     ]
    }
   ],
   "source": [
    "# summarize the dataset\n",
    "print(X.shape, y.shape, X_BH.shape, y_BH.shape)"
   ]
  },
  {
   "cell_type": "code",
   "execution_count": 47,
   "id": "1cb91e79",
   "metadata": {},
   "outputs": [],
   "source": [
    "# make class predictions for the testing set\n",
    "y_pred_BH = logreg.predict(X_BH)"
   ]
  },
  {
   "cell_type": "code",
   "execution_count": 48,
   "id": "92dc2beb",
   "metadata": {},
   "outputs": [
    {
     "data": {
      "image/png": "[encoded data removed]",
      "text/plain": [
       "<Figure size 432x288 with 2 Axes>"
      ]
     },
     "metadata": {},
     "output_type": "display_data"
    }
   ],
   "source": [
    "cnf_matrix = metrics.confusion_matrix(y_BH, y_pred_BH)\n",
    "p = sns.heatmap(pd.DataFrame(cnf_matrix), annot=True, cmap=\"YlGnBu\" ,fmt='g')\n",
    "plt.title('Logit (Caxias do Sul vs Belo Horizonte)', y=1.025)\n",
    "plt.ylabel('Actual Values')\n",
    "plt.xlabel('Predicted Values')\n",
    "plt.savefig('CM_Logistic_CS_vs_BH.png', dpi=600)"
   ]
  },
  {
   "cell_type": "code",
   "execution_count": 49,
   "id": "8d12dd59",
   "metadata": {},
   "outputs": [
    {
     "name": "stdout",
     "output_type": "stream",
     "text": [
      "              precision    recall  f1-score   support\n",
      "\n",
      "           0       1.00      1.00      1.00       276\n",
      "           1       1.00      1.00      1.00       220\n",
      "\n",
      "    accuracy                           1.00       496\n",
      "   macro avg       1.00      1.00      1.00       496\n",
      "weighted avg       1.00      1.00      1.00       496\n",
      "\n"
     ]
    }
   ],
   "source": [
    "print(classification_report(y_BH,y_pred_BH))"
   ]
  },
  {
   "cell_type": "code",
   "execution_count": 50,
   "id": "d902d7a1",
   "metadata": {},
   "outputs": [],
   "source": [
    "from sklearn.metrics import roc_curve\n",
    "y_pred_BH_proba = logreg.predict_proba(X_BH)[:,1]\n",
    "fprBH, tprBH, thresholdsBH = roc_curve(y_BH, y_pred_BH_proba)"
   ]
  },
  {
   "cell_type": "code",
   "execution_count": 51,
   "id": "fe5c0846",
   "metadata": {},
   "outputs": [
    {
     "data": {
      "image/png": "[encoded data removed]",
      "text/plain": [
       "<Figure size 432x288 with 1 Axes>"
      ]
     },
     "metadata": {},
     "output_type": "display_data"
    }
   ],
   "source": [
    "#plt.plot([0,1],[0,1],'k--')\n",
    "plt.plot(fprBH,tprBH, label='Logistic')\n",
    "plt.xlabel('False Positive')\n",
    "plt.ylabel('True Positive')\n",
    "plt.title('Logit (Caxias do Sul) - ROC curve ')\n",
    "plt.legend(['Belo Horizonte'])\n",
    "plt.grid(False)\n",
    "sns.set_style(\"ticks\")\n",
    "plt.savefig('ROC_Logistic_CS_vs_BH.png', format='png')"
   ]
  },
  {
   "cell_type": "code",
   "execution_count": 52,
   "id": "2aa696f1",
   "metadata": {},
   "outputs": [
    {
     "name": "stdout",
     "output_type": "stream",
     "text": [
      "AUC Caxias do Sul vs Belo Horizonte: 1.0\n"
     ]
    }
   ],
   "source": [
    "#Area under ROC curve\n",
    "auc_BH = roc_auc_score(y_BH,y_pred_BH_proba)\n",
    "print('AUC Caxias do Sul vs Belo Horizonte:',auc_BH)"
   ]
  },
  {
   "cell_type": "code",
   "execution_count": 53,
   "id": "abe16d95",
   "metadata": {},
   "outputs": [],
   "source": [
    "# define a function that accepts a threshold and prints sensitivity and specificity\n",
    "def evaluate_threshold(threshold):\n",
    "    print('sensitivity:', tprBH[thresholdsBH > threshold][-1])\n",
    "    print('specificity:', 1 - fprBH[thresholdsBH > threshold][-1])"
   ]
  },
  {
   "cell_type": "code",
   "execution_count": 54,
   "id": "d40e1d1a",
   "metadata": {},
   "outputs": [
    {
     "name": "stdout",
     "output_type": "stream",
     "text": [
      "sensitivity: 1.0\n",
      "specificity: 1.0\n"
     ]
    }
   ],
   "source": [
    "evaluate_threshold(0.5)"
   ]
  },
  {
   "cell_type": "code",
   "execution_count": 55,
   "id": "659186bb",
   "metadata": {},
   "outputs": [
    {
     "name": "stdout",
     "output_type": "stream",
     "text": [
      "sensitivity: 1.0\n",
      "specificity: 1.0\n"
     ]
    }
   ],
   "source": [
    "evaluate_threshold(0.6)"
   ]
  },
  {
   "cell_type": "code",
   "execution_count": 56,
   "id": "78a2cb64",
   "metadata": {},
   "outputs": [
    {
     "name": "stdout",
     "output_type": "stream",
     "text": [
      "sensitivity: 1.0\n",
      "specificity: 1.0\n"
     ]
    }
   ],
   "source": [
    "evaluate_threshold(0.7)"
   ]
  },
  {
   "cell_type": "code",
   "execution_count": 57,
   "id": "fc2b7010",
   "metadata": {},
   "outputs": [
    {
     "name": "stdout",
     "output_type": "stream",
     "text": [
      "sensitivity: 1.0\n",
      "specificity: 1.0\n"
     ]
    }
   ],
   "source": [
    "evaluate_threshold(0.8)"
   ]
  },
  {
   "cell_type": "code",
   "execution_count": 58,
   "id": "33d5d0d9",
   "metadata": {},
   "outputs": [
    {
     "name": "stdout",
     "output_type": "stream",
     "text": [
      "sensitivity: 1.0\n",
      "specificity: 1.0\n"
     ]
    }
   ],
   "source": [
    "evaluate_threshold(0.9)"
   ]
  },
  {
   "cell_type": "code",
   "execution_count": 59,
   "id": "fa4d11cd",
   "metadata": {},
   "outputs": [
    {
     "name": "stdout",
     "output_type": "stream",
     "text": [
      "sensitivity: 1.0\n",
      "specificity: 1.0\n"
     ]
    }
   ],
   "source": [
    "evaluate_threshold(0.99)"
   ]
  },
  {
   "cell_type": "code",
   "execution_count": 60,
   "id": "adcc72e1",
   "metadata": {},
   "outputs": [
    {
     "data": {
      "text/html": [
       "<div>\n",
       "<style scoped>\n",
       "    .dataframe tbody tr th:only-of-type {\n",
       "        vertical-align: middle;\n",
       "    }\n",
       "\n",
       "    .dataframe tbody tr th {\n",
       "        vertical-align: top;\n",
       "    }\n",
       "\n",
       "    .dataframe thead th {\n",
       "        text-align: right;\n",
       "    }\n",
       "</style>\n",
       "<table border=\"1\" class=\"dataframe\">\n",
       "  <thead>\n",
       "    <tr style=\"text-align: right;\">\n",
       "      <th></th>\n",
       "      <th>SPD</th>\n",
       "      <th>CV</th>\n",
       "      <th>Price_sd</th>\n",
       "      <th>Price_skewness</th>\n",
       "      <th>Price_kurtosis</th>\n",
       "      <th>Cartel_SL</th>\n",
       "    </tr>\n",
       "  </thead>\n",
       "  <tbody>\n",
       "    <tr>\n",
       "      <th>0</th>\n",
       "      <td>-1.512210</td>\n",
       "      <td>-1.415126</td>\n",
       "      <td>-1.523575</td>\n",
       "      <td>0.530595</td>\n",
       "      <td>-0.372297</td>\n",
       "      <td>1</td>\n",
       "    </tr>\n",
       "    <tr>\n",
       "      <th>1</th>\n",
       "      <td>-1.590998</td>\n",
       "      <td>-1.423813</td>\n",
       "      <td>-1.531361</td>\n",
       "      <td>0.465319</td>\n",
       "      <td>-0.465210</td>\n",
       "      <td>1</td>\n",
       "    </tr>\n",
       "    <tr>\n",
       "      <th>2</th>\n",
       "      <td>-1.472599</td>\n",
       "      <td>-1.390720</td>\n",
       "      <td>-1.500943</td>\n",
       "      <td>0.277075</td>\n",
       "      <td>-0.523992</td>\n",
       "      <td>1</td>\n",
       "    </tr>\n",
       "    <tr>\n",
       "      <th>3</th>\n",
       "      <td>-1.891792</td>\n",
       "      <td>-1.794681</td>\n",
       "      <td>-1.874691</td>\n",
       "      <td>0.988610</td>\n",
       "      <td>-0.150930</td>\n",
       "      <td>1</td>\n",
       "    </tr>\n",
       "    <tr>\n",
       "      <th>4</th>\n",
       "      <td>-1.512210</td>\n",
       "      <td>-1.424056</td>\n",
       "      <td>-1.531331</td>\n",
       "      <td>-0.390301</td>\n",
       "      <td>-0.859725</td>\n",
       "      <td>1</td>\n",
       "    </tr>\n",
       "  </tbody>\n",
       "</table>\n",
       "</div>"
      ],
      "text/plain": [
       "        SPD        CV  Price_sd  Price_skewness  Price_kurtosis  Cartel_SL\n",
       "0 -1.512210 -1.415126 -1.523575        0.530595       -0.372297          1\n",
       "1 -1.590998 -1.423813 -1.531361        0.465319       -0.465210          1\n",
       "2 -1.472599 -1.390720 -1.500943        0.277075       -0.523992          1\n",
       "3 -1.891792 -1.794681 -1.874691        0.988610       -0.150930          1\n",
       "4 -1.512210 -1.424056 -1.531331       -0.390301       -0.859725          1"
      ]
     },
     "execution_count": 60,
     "metadata": {},
     "output_type": "execute_result"
    }
   ],
   "source": [
    "#Testing the Best Model estimated for Caxias do Sul (Logistic Classifier) in São Luís\n",
    "df_SL= pd.read_excel(r\"SaoLuis_ML_Std.xls\")\n",
    "df_SL.head()"
   ]
  },
  {
   "cell_type": "code",
   "execution_count": 61,
   "id": "fc2b91dd",
   "metadata": {},
   "outputs": [],
   "source": [
    "# Predicting the Cartel in Caxias do Sul\n",
    "# define X and y\n",
    "X_SL = df_SL.drop(\"Cartel_SL\",axis = 1)\n",
    "y_SL = df_SL.Cartel_SL"
   ]
  },
  {
   "cell_type": "code",
   "execution_count": 62,
   "id": "00771a38",
   "metadata": {},
   "outputs": [
    {
     "name": "stdout",
     "output_type": "stream",
     "text": [
      "(484, 5) (484,) (449, 5) (449,)\n"
     ]
    }
   ],
   "source": [
    "# summarize the dataset\n",
    "print(X.shape, y.shape, X_SL.shape, y_SL.shape)"
   ]
  },
  {
   "cell_type": "code",
   "execution_count": 63,
   "id": "16438087",
   "metadata": {},
   "outputs": [],
   "source": [
    "# make class predictions for the testing set\n",
    "y_pred_SL = logreg.predict(X_SL)"
   ]
  },
  {
   "cell_type": "code",
   "execution_count": 64,
   "id": "546f4677",
   "metadata": {},
   "outputs": [
    {
     "data": {
      "image/png": "[encoded data removed]",
      "text/plain": [
       "<Figure size 432x288 with 2 Axes>"
      ]
     },
     "metadata": {},
     "output_type": "display_data"
    }
   ],
   "source": [
    "import seaborn as sns\n",
    "from sklearn import metrics\n",
    "cnf_matrix = metrics.confusion_matrix(y_SL, y_pred_SL)\n",
    "p = sns.heatmap(pd.DataFrame(cnf_matrix), annot=True, cmap=\"YlGnBu\" ,fmt='g')\n",
    "plt.title('Logit (Caxias do Sul vs São Luís)', y=1.025)\n",
    "plt.ylabel('Actual Values')\n",
    "plt.xlabel('Predicted Values')\n",
    "plt.savefig('CM_Logistic_CS_vs_SL.png')"
   ]
  },
  {
   "cell_type": "code",
   "execution_count": 65,
   "id": "2d3e4a1f",
   "metadata": {},
   "outputs": [
    {
     "name": "stdout",
     "output_type": "stream",
     "text": [
      "              precision    recall  f1-score   support\n",
      "\n",
      "           0       0.80      0.93      0.86       236\n",
      "           1       0.91      0.74      0.81       213\n",
      "\n",
      "    accuracy                           0.84       449\n",
      "   macro avg       0.85      0.83      0.84       449\n",
      "weighted avg       0.85      0.84      0.84       449\n",
      "\n"
     ]
    }
   ],
   "source": [
    "print(classification_report(y_SL,y_pred_SL))"
   ]
  },
  {
   "cell_type": "code",
   "execution_count": 66,
   "id": "1a4858bf",
   "metadata": {},
   "outputs": [
    {
     "name": "stdout",
     "output_type": "stream",
     "text": [
      "AUC Caxias do Sul vs São Luís: 0.9279462083233867\n"
     ]
    }
   ],
   "source": [
    "y_pred_SL_proba = logreg.predict_proba(X_SL)[:,1]\n",
    "fprSL, tprSL, thresholdsSL = roc_curve(y_SL, y_pred_SL_proba)\n",
    "\n",
    "#Area under ROC curve\n",
    "auc_SL = roc_auc_score(y_SL,y_pred_SL_proba)\n",
    "print('AUC Caxias do Sul vs São Luís:',auc_SL)"
   ]
  },
  {
   "cell_type": "code",
   "execution_count": 67,
   "id": "6856c5ff",
   "metadata": {},
   "outputs": [
    {
     "data": {
      "image/png": "[encoded data removed]",
      "text/plain": [
       "<Figure size 432x288 with 1 Axes>"
      ]
     },
     "metadata": {},
     "output_type": "display_data"
    }
   ],
   "source": [
    "#plt.plot([0,1],[0,1],'k--')\n",
    "plt.plot(fprSL,tprSL, label='Logistic')\n",
    "plt.xlabel('False Positive')\n",
    "plt.ylabel('True Positive')\n",
    "plt.title('Logit (Caxias do Sul) - ROC curve ')\n",
    "plt.legend(['São Luís'])\n",
    "plt.grid(False)\n",
    "sns.set_style(\"ticks\")\n",
    "plt.savefig('ROC_Logistic_CaxiasdoSul_vs_SL.png', format='png')"
   ]
  },
  {
   "cell_type": "code",
   "execution_count": 68,
   "id": "b329a380",
   "metadata": {},
   "outputs": [],
   "source": [
    "# define a function that accepts a threshold and prints sensitivity and specificity\n",
    "def evaluate_threshold(threshold):\n",
    "    print('sensitivity:', tprSL[thresholdsSL > threshold][-1])\n",
    "    print('specificity:', 1 - fprSL[thresholdsSL > threshold][-1])"
   ]
  },
  {
   "cell_type": "code",
   "execution_count": 69,
   "id": "ad0a544b",
   "metadata": {},
   "outputs": [
    {
     "name": "stdout",
     "output_type": "stream",
     "text": [
      "sensitivity: 0.7089201877934272\n",
      "specificity: 0.9322033898305084\n"
     ]
    }
   ],
   "source": [
    "evaluate_threshold(0.5)"
   ]
  },
  {
   "cell_type": "code",
   "execution_count": 70,
   "id": "4c2cd77c",
   "metadata": {},
   "outputs": [
    {
     "name": "stdout",
     "output_type": "stream",
     "text": [
      "sensitivity: 0.7089201877934272\n",
      "specificity: 0.9322033898305084\n"
     ]
    }
   ],
   "source": [
    "evaluate_threshold(0.6)"
   ]
  },
  {
   "cell_type": "code",
   "execution_count": 71,
   "id": "5181d704",
   "metadata": {},
   "outputs": [
    {
     "name": "stdout",
     "output_type": "stream",
     "text": [
      "sensitivity: 0.7089201877934272\n",
      "specificity: 0.9322033898305084\n"
     ]
    }
   ],
   "source": [
    "evaluate_threshold(0.7)"
   ]
  },
  {
   "cell_type": "code",
   "execution_count": 72,
   "id": "2f183a95",
   "metadata": {},
   "outputs": [
    {
     "name": "stdout",
     "output_type": "stream",
     "text": [
      "sensitivity: 0.6807511737089202\n",
      "specificity: 0.9364406779661016\n"
     ]
    }
   ],
   "source": [
    "evaluate_threshold(0.8)"
   ]
  },
  {
   "cell_type": "code",
   "execution_count": 73,
   "id": "ead11765",
   "metadata": {},
   "outputs": [
    {
     "name": "stdout",
     "output_type": "stream",
     "text": [
      "sensitivity: 0.647887323943662\n",
      "specificity: 0.9449152542372882\n"
     ]
    }
   ],
   "source": [
    "evaluate_threshold(0.9)"
   ]
  },
  {
   "cell_type": "code",
   "execution_count": 74,
   "id": "86647d96",
   "metadata": {},
   "outputs": [
    {
     "name": "stdout",
     "output_type": "stream",
     "text": [
      "sensitivity: 0.5821596244131455\n",
      "specificity: 0.978813559322034\n"
     ]
    }
   ],
   "source": [
    "evaluate_threshold(0.99)"
   ]
  },
  {
   "cell_type": "code",
   "execution_count": 75,
   "id": "86b6533b",
   "metadata": {},
   "outputs": [
    {
     "data": {
      "image/png": "[encoded data removed]",
      "text/plain": [
       "<Figure size 432x288 with 1 Axes>"
      ]
     },
     "metadata": {},
     "output_type": "display_data"
    }
   ],
   "source": [
    "plt.plot(fprBH,tprBH, fprBRA, tprBRA, fprSL, tprSL, label='Logistic')\n",
    "sns.set(font_scale=1.1) # Adjust to fit\n",
    "plt.xlabel('False Positive')\n",
    "plt.ylabel('True Positive')\n",
    "plt.title('Logit - ROC curve ')\n",
    "plt.legend(['Belo Horizonte (AUC = 1.00)', 'Brasília (AUC = 0.99)', 'São Luís (AUC = 0.93)'])\n",
    "plt.plot([0,1],[0,1],'k--')\n",
    "plt.grid(False)\n",
    "sns.set_style(\"ticks\")\n",
    "plt.savefig('ROC_Logistic_CaxiasdoSul_vs_BRA_BH_SL.png', format='png', dpi=600)\n",
    "plt.show()"
   ]
  }
 ],
 "metadata": {
  "kernelspec": {
   "display_name": "Python 3",
   "language": "python",
   "name": "python3"
  },
  "language_info": {
   "codemirror_mode": {
    "name": "ipython",
    "version": 3
   },
   "file_extension": ".py",
   "mimetype": "text/x-python",
   "name": "python",
   "nbconvert_exporter": "python",
   "pygments_lexer": "ipython3",
   "version": "3.8.8"
  }
 },
 "nbformat": 4,
 "nbformat_minor": 5
}
