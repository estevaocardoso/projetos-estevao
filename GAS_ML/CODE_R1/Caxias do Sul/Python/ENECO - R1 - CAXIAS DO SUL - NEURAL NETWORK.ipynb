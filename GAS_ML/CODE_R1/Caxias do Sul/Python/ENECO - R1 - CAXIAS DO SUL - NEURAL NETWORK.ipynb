{
 "cells": [
  {
   "cell_type": "code",
   "execution_count": 1,
   "id": "99c0943d",
   "metadata": {},
   "outputs": [],
   "source": [
    "# Caxias do Sul - Neural Network\n",
    "\n",
    "import tensorflow\n",
    "tensorflow.random.set_seed(42)\n",
    "import numpy as np\n",
    "import pandas as pd\n",
    "import seaborn as sns\n",
    "import matplotlib.pyplot as plt\n",
    "from matplotlib.pyplot import rcParams\n",
    "%matplotlib inline\n",
    "rcParams['figure.figsize'] = 6,4\n",
    "sns.set(style='whitegrid', palette='muted',\n",
    "        rc={'figure.figsize': (6,4)})\n",
    "import os\n",
    "from sklearn.preprocessing import StandardScaler\n",
    "from sklearn.model_selection import train_test_split\n",
    "from sklearn.model_selection import GridSearchCV\n",
    "from keras.wrappers.scikit_learn import KerasClassifier\n",
    "from keras.models import Sequential\n",
    "from keras.layers import Dense, Activation, Dropout, Flatten\n",
    "from keras.layers import Conv2D, MaxPooling2D"
   ]
  },
  {
   "cell_type": "code",
   "execution_count": 2,
   "id": "3dbb8b7b",
   "metadata": {},
   "outputs": [
    {
     "data": {
      "text/html": [
       "<div>\n",
       "<style scoped>\n",
       "    .dataframe tbody tr th:only-of-type {\n",
       "        vertical-align: middle;\n",
       "    }\n",
       "\n",
       "    .dataframe tbody tr th {\n",
       "        vertical-align: top;\n",
       "    }\n",
       "\n",
       "    .dataframe thead th {\n",
       "        text-align: right;\n",
       "    }\n",
       "</style>\n",
       "<table border=\"1\" class=\"dataframe\">\n",
       "  <thead>\n",
       "    <tr style=\"text-align: right;\">\n",
       "      <th></th>\n",
       "      <th>SPD</th>\n",
       "      <th>CV</th>\n",
       "      <th>Price_sd</th>\n",
       "      <th>Price_skewness</th>\n",
       "      <th>Price_kurtosis</th>\n",
       "      <th>Cartel_CS</th>\n",
       "    </tr>\n",
       "  </thead>\n",
       "  <tbody>\n",
       "    <tr>\n",
       "      <th>0</th>\n",
       "      <td>-0.502234</td>\n",
       "      <td>-0.771008</td>\n",
       "      <td>-0.954957</td>\n",
       "      <td>-1.152634</td>\n",
       "      <td>0.981293</td>\n",
       "      <td>1</td>\n",
       "    </tr>\n",
       "    <tr>\n",
       "      <th>1</th>\n",
       "      <td>-0.011977</td>\n",
       "      <td>-0.384726</td>\n",
       "      <td>-0.753369</td>\n",
       "      <td>-2.024678</td>\n",
       "      <td>2.454060</td>\n",
       "      <td>1</td>\n",
       "    </tr>\n",
       "    <tr>\n",
       "      <th>2</th>\n",
       "      <td>-0.637640</td>\n",
       "      <td>-0.824221</td>\n",
       "      <td>-0.983101</td>\n",
       "      <td>-1.343260</td>\n",
       "      <td>1.275377</td>\n",
       "      <td>1</td>\n",
       "    </tr>\n",
       "    <tr>\n",
       "      <th>3</th>\n",
       "      <td>0.079973</td>\n",
       "      <td>-0.440566</td>\n",
       "      <td>-0.781865</td>\n",
       "      <td>-2.067829</td>\n",
       "      <td>2.904549</td>\n",
       "      <td>1</td>\n",
       "    </tr>\n",
       "    <tr>\n",
       "      <th>4</th>\n",
       "      <td>0.141272</td>\n",
       "      <td>-0.439377</td>\n",
       "      <td>-0.781214</td>\n",
       "      <td>-2.052522</td>\n",
       "      <td>2.963625</td>\n",
       "      <td>1</td>\n",
       "    </tr>\n",
       "  </tbody>\n",
       "</table>\n",
       "</div>"
      ],
      "text/plain": [
       "        SPD        CV  Price_sd  Price_skewness  Price_kurtosis  Cartel_CS\n",
       "0 -0.502234 -0.771008 -0.954957       -1.152634        0.981293          1\n",
       "1 -0.011977 -0.384726 -0.753369       -2.024678        2.454060          1\n",
       "2 -0.637640 -0.824221 -0.983101       -1.343260        1.275377          1\n",
       "3  0.079973 -0.440566 -0.781865       -2.067829        2.904549          1\n",
       "4  0.141272 -0.439377 -0.781214       -2.052522        2.963625          1"
      ]
     },
     "execution_count": 2,
     "metadata": {},
     "output_type": "execute_result"
    }
   ],
   "source": [
    "df = pd.read_excel(r\"CaxiasdoSul_ML_Std.xls\")\n",
    "df.head()"
   ]
  },
  {
   "cell_type": "code",
   "execution_count": 3,
   "id": "a0dbf663",
   "metadata": {},
   "outputs": [],
   "source": [
    "# Predicting Cartel\n",
    "# define X and y\n",
    "X = df.drop(\"Cartel_CS\",axis = 1)\n",
    "y = df.Cartel_CS"
   ]
  },
  {
   "cell_type": "code",
   "execution_count": 4,
   "id": "af30d9be",
   "metadata": {},
   "outputs": [
    {
     "name": "stdout",
     "output_type": "stream",
     "text": [
      "(484, 5) (484,)\n"
     ]
    }
   ],
   "source": [
    "# summarize the dataset\n",
    "print(X.shape, y.shape)"
   ]
  },
  {
   "cell_type": "code",
   "execution_count": 5,
   "id": "7522eb77",
   "metadata": {},
   "outputs": [],
   "source": [
    "from sklearn.model_selection import train_test_split\n",
    "X_train,X_test,y_train,y_test = train_test_split(X,y,test_size=0.3,random_state=42)"
   ]
  },
  {
   "cell_type": "code",
   "execution_count": 6,
   "id": "00670d96",
   "metadata": {},
   "outputs": [],
   "source": [
    "# The neural network model\n",
    "\n",
    "def create_model(lyrs=[5], act='linear', opt='Adam', dr=0.0):\n",
    "    \n",
    "    model = Sequential()\n",
    "    \n",
    "    # create first hidden layer\n",
    "    model.add(Dense(lyrs[0], input_dim=X_train.shape[1], activation=act))\n",
    "    \n",
    "    # create additional hidden layers\n",
    "    for i in range(1,len(lyrs)):\n",
    "        model.add(Dense(lyrs[i], activation=act))\n",
    "    \n",
    "    # add dropout, default is none\n",
    "    model.add(Dropout(dr))\n",
    "    \n",
    "    # create output layer\n",
    "    model.add(Dense(1, activation='sigmoid'))  # output layer\n",
    "    \n",
    "    model.compile(loss='binary_crossentropy', optimizer=opt, metrics=['accuracy'])\n",
    "    \n",
    "    return model"
   ]
  },
  {
   "cell_type": "code",
   "execution_count": 7,
   "id": "8ce027b1",
   "metadata": {},
   "outputs": [
    {
     "name": "stdout",
     "output_type": "stream",
     "text": [
      "Model: \"sequential\"\n",
      "_________________________________________________________________\n",
      "Layer (type)                 Output Shape              Param #   \n",
      "=================================================================\n",
      "dense (Dense)                (None, 5)                 30        \n",
      "_________________________________________________________________\n",
      "dropout (Dropout)            (None, 5)                 0         \n",
      "_________________________________________________________________\n",
      "dense_1 (Dense)              (None, 1)                 6         \n",
      "=================================================================\n",
      "Total params: 36\n",
      "Trainable params: 36\n",
      "Non-trainable params: 0\n",
      "_________________________________________________________________\n",
      "None\n"
     ]
    }
   ],
   "source": [
    "model = create_model()\n",
    "print(model.summary())"
   ]
  },
  {
   "cell_type": "code",
   "execution_count": 8,
   "id": "8891ab71",
   "metadata": {},
   "outputs": [
    {
     "name": "stdout",
     "output_type": "stream",
     "text": [
      "\n",
      "val_accuracy: 88.68%\n"
     ]
    }
   ],
   "source": [
    "# train model on full train set, with 80/20 CV split\n",
    "training = model.fit(X_train, y_train, epochs=100, batch_size=32, validation_split=0.2, verbose=0)\n",
    "val_accuracy = np.mean(training.history['val_accuracy'])\n",
    "print(\"\\n%s: %.2f%%\" % ('val_accuracy', val_accuracy*100))"
   ]
  },
  {
   "cell_type": "code",
   "execution_count": 9,
   "id": "4187f2db",
   "metadata": {},
   "outputs": [
    {
     "data": {
      "image/png": "[encoded data removed]",
      "text/plain": [
       "<Figure size 432x288 with 1 Axes>"
      ]
     },
     "metadata": {},
     "output_type": "display_data"
    }
   ],
   "source": [
    "# summarize history for accuracy\n",
    "plt.plot(training.history['accuracy'])\n",
    "plt.plot(training.history['val_accuracy'])\n",
    "plt.title('Neural Network Model Accuracy (Caxias do Sul)')\n",
    "plt.ylabel('Accuracy')\n",
    "plt.xlabel('Epoch')\n",
    "plt.legend(['train', 'validation'])\n",
    "plt.grid(False)\n",
    "plt.show()"
   ]
  },
  {
   "cell_type": "code",
   "execution_count": 10,
   "id": "4a69c476",
   "metadata": {},
   "outputs": [
    {
     "name": "stdout",
     "output_type": "stream",
     "text": [
      "Fitting 3 folds for each of 20 candidates, totalling 60 fits\n"
     ]
    }
   ],
   "source": [
    "# Grid search for the batch size and epochs\n",
    "\n",
    "# create model\n",
    "model = KerasClassifier(build_fn=create_model, verbose=0)\n",
    "\n",
    "# define the grid search parameters\n",
    "batch_size = [4, 8, 16, 32, 64]\n",
    "epochs = [25, 50, 75, 100]\n",
    "param_grid = dict(batch_size=batch_size, epochs=epochs)\n",
    "\n",
    "# search the grid\n",
    "grid = GridSearchCV(estimator=model, param_grid=param_grid, scoring='accuracy', cv=3, verbose=2, n_jobs=-1)  \n",
    "grid_result = grid.fit(X_train, y_train)"
   ]
  },
  {
   "cell_type": "code",
   "execution_count": 11,
   "id": "a949b0cc",
   "metadata": {},
   "outputs": [
    {
     "name": "stdout",
     "output_type": "stream",
     "text": [
      "Best: 0.934972 using {'batch_size': 4, 'epochs': 100}\n",
      "0.872840 (0.042186) with: {'batch_size': 4, 'epochs': 25}\n",
      "0.905368 (0.041003) with: {'batch_size': 4, 'epochs': 50}\n",
      "0.914270 (0.039687) with: {'batch_size': 4, 'epochs': 75}\n",
      "0.934972 (0.023111) with: {'batch_size': 4, 'epochs': 100}\n",
      "0.843368 (0.041935) with: {'batch_size': 8, 'epochs': 25}\n",
      "0.869969 (0.043282) with: {'batch_size': 8, 'epochs': 50}\n",
      "0.890513 (0.043603) with: {'batch_size': 8, 'epochs': 75}\n",
      "0.917246 (0.041606) with: {'batch_size': 8, 'epochs': 100}\n",
      "0.861120 (0.059933) with: {'batch_size': 16, 'epochs': 25}\n",
      "0.837442 (0.039351) with: {'batch_size': 16, 'epochs': 50}\n",
      "0.866941 (0.043763) with: {'batch_size': 16, 'epochs': 75}\n",
      "0.881690 (0.023070) with: {'batch_size': 16, 'epochs': 100}\n",
      "0.775126 (0.005140) with: {'batch_size': 32, 'epochs': 25}\n",
      "0.822403 (0.019959) with: {'batch_size': 32, 'epochs': 50}\n",
      "0.849268 (0.037832) with: {'batch_size': 32, 'epochs': 75}\n",
      "0.843315 (0.029613) with: {'batch_size': 32, 'epochs': 100}\n",
      "0.626686 (0.139956) with: {'batch_size': 64, 'epochs': 25}\n",
      "0.787321 (0.093579) with: {'batch_size': 64, 'epochs': 50}\n",
      "0.816635 (0.021572) with: {'batch_size': 64, 'epochs': 75}\n",
      "0.819743 (0.052823) with: {'batch_size': 64, 'epochs': 100}\n"
     ]
    }
   ],
   "source": [
    "# summarize results\n",
    "print(\"Best: %f using %s\" % (grid_result.best_score_, grid_result.best_params_))\n",
    "means = grid_result.cv_results_['mean_test_score']\n",
    "stds = grid_result.cv_results_['std_test_score']\n",
    "params = grid_result.cv_results_['params']\n",
    "for mean, stdev, param in zip(means, stds, params):\n",
    "    print(\"%f (%f) with: %r\" % (mean, stdev, param))"
   ]
  },
  {
   "cell_type": "code",
   "execution_count": 12,
   "id": "c8dad2bf",
   "metadata": {},
   "outputs": [
    {
     "name": "stdout",
     "output_type": "stream",
     "text": [
      "Fitting 5 folds for each of 6 candidates, totalling 30 fits\n"
     ]
    }
   ],
   "source": [
    "# optimization Algorithm \n",
    "\n",
    "# create model\n",
    "model = KerasClassifier(build_fn=create_model, epochs=100, batch_size=4, verbose=0)\n",
    "\n",
    "# define the grid search parameters\n",
    "optimizer = ['SGD', 'RMSprop', 'Adagrad', 'Adadelta', 'Adam', 'Nadam']\n",
    "param_grid = dict(opt=optimizer)\n",
    "\n",
    "# search the grid\n",
    "grid = GridSearchCV(estimator=model, param_grid=param_grid, scoring='accuracy', verbose=2, n_jobs=-1)\n",
    "grid_result = grid.fit(X_train, y_train)"
   ]
  },
  {
   "cell_type": "code",
   "execution_count": 13,
   "id": "3e3e1408",
   "metadata": {},
   "outputs": [
    {
     "name": "stdout",
     "output_type": "stream",
     "text": [
      "Best: 0.940825 using {'opt': 'Nadam'}\n",
      "0.931958 (0.014988) with: {'opt': 'SGD'}\n",
      "0.931914 (0.024224) with: {'opt': 'RMSprop'}\n",
      "0.772037 (0.127368) with: {'opt': 'Adagrad'}\n",
      "0.518218 (0.105497) with: {'opt': 'Adadelta'}\n",
      "0.931914 (0.024224) with: {'opt': 'Adam'}\n",
      "0.940825 (0.020864) with: {'opt': 'Nadam'}\n"
     ]
    }
   ],
   "source": [
    "# summarize results\n",
    "print(\"Best: %f using %s\" % (grid_result.best_score_, grid_result.best_params_))\n",
    "means = grid_result.cv_results_['mean_test_score']\n",
    "stds = grid_result.cv_results_['std_test_score']\n",
    "params = grid_result.cv_results_['params']\n",
    "for mean, stdev, param in zip(means, stds, params):\n",
    "    print(\"%f (%f) with: %r\" % (mean, stdev, param))"
   ]
  },
  {
   "cell_type": "code",
   "execution_count": 14,
   "id": "b7bda50d",
   "metadata": {},
   "outputs": [
    {
     "name": "stdout",
     "output_type": "stream",
     "text": [
      "Fitting 5 folds for each of 3 candidates, totalling 15 fits\n",
      "WARNING:tensorflow:From C:\\Users\\Douglas Silveira\\anaconda3\\lib\\site-packages\\tensorflow\\python\\keras\\wrappers\\scikit_learn.py:241: Sequential.predict_classes (from tensorflow.python.keras.engine.sequential) is deprecated and will be removed after 2021-01-01.\n",
      "Instructions for updating:\n",
      "Please use instead:* `np.argmax(model.predict(x), axis=-1)`,   if your model does multi-class classification   (e.g. if it uses a `softmax` last-layer activation).* `(model.predict(x) > 0.5).astype(\"int32\")`,   if your model does binary classification   (e.g. if it uses a `sigmoid` last-layer activation).\n",
      "[CV] END ..........................................lyrs=(6,); total time=   3.5s\n",
      "[CV] END ..........................................lyrs=(6,); total time=   3.4s\n",
      "[CV] END ..........................................lyrs=(6,); total time=   3.3s\n",
      "[CV] END ..........................................lyrs=(6,); total time=   3.4s\n",
      "[CV] END ..........................................lyrs=(6,); total time=   3.4s\n",
      "[CV] END ........................................lyrs=(6, 4); total time=   3.6s\n",
      "[CV] END ........................................lyrs=(6, 4); total time=   3.8s\n",
      "[CV] END ........................................lyrs=(6, 4); total time=   3.5s\n",
      "[CV] END ........................................lyrs=(6, 4); total time=   3.5s\n",
      "[CV] END ........................................lyrs=(6, 4); total time=   3.6s\n",
      "[CV] END .....................................lyrs=(6, 4, 2); total time=   4.0s\n",
      "[CV] END .....................................lyrs=(6, 4, 2); total time=   3.7s\n",
      "[CV] END .....................................lyrs=(6, 4, 2); total time=   3.9s\n",
      "[CV] END .....................................lyrs=(6, 4, 2); total time=   3.9s\n",
      "[CV] END .....................................lyrs=(6, 4, 2); total time=   3.9s\n"
     ]
    }
   ],
   "source": [
    "#Hidden neurons\n",
    "\n",
    "# create model\n",
    "model = KerasClassifier(build_fn=create_model, \n",
    "                        epochs=100, batch_size=4, verbose=0)\n",
    "\n",
    "# define the grid search parameters\n",
    "layers = [(6,),(6, 4), (6, 4, 2)]\n",
    "param_grid = dict(lyrs=layers)\n",
    "\n",
    "# search the grid\n",
    "grid = GridSearchCV(estimator=model, param_grid=param_grid, scoring='accuracy', verbose=2)\n",
    "grid_result = grid.fit(X_train, y_train)"
   ]
  },
  {
   "cell_type": "code",
   "execution_count": 15,
   "id": "a90ade77",
   "metadata": {},
   "outputs": [
    {
     "name": "stdout",
     "output_type": "stream",
     "text": [
      "Best: 0.982309 using {'lyrs': (6, 4, 2)}\n",
      "0.943810 (0.023599) with: {'lyrs': (6,)}\n",
      "0.973442 (0.021566) with: {'lyrs': (6, 4)}\n",
      "0.982309 (0.021607) with: {'lyrs': (6, 4, 2)}\n"
     ]
    }
   ],
   "source": [
    "# summarize results\n",
    "print(\"Best: %f using %s\" % (grid_result.best_score_, grid_result.best_params_))\n",
    "means = grid_result.cv_results_['mean_test_score']\n",
    "stds = grid_result.cv_results_['std_test_score']\n",
    "params = grid_result.cv_results_['params']\n",
    "for mean, stdev, param in zip(means, stds, params):\n",
    "    print(\"%f (%f) with: %r\" % (mean, stdev, param))"
   ]
  },
  {
   "cell_type": "code",
   "execution_count": 16,
   "id": "48fb1776",
   "metadata": {},
   "outputs": [
    {
     "name": "stdout",
     "output_type": "stream",
     "text": [
      "Fitting 5 folds for each of 6 candidates, totalling 30 fits\n",
      "[CV] END .............................................dr=0.0; total time=   3.4s\n",
      "[CV] END .............................................dr=0.0; total time=   3.3s\n",
      "[CV] END .............................................dr=0.0; total time=   3.4s\n",
      "[CV] END .............................................dr=0.0; total time=   3.4s\n",
      "[CV] END .............................................dr=0.0; total time=   3.5s\n",
      "[CV] END ............................................dr=0.01; total time=   3.4s\n",
      "[CV] END ............................................dr=0.01; total time=   3.4s\n",
      "[CV] END ............................................dr=0.01; total time=   3.4s\n",
      "[CV] END ............................................dr=0.01; total time=   3.4s\n",
      "[CV] END ............................................dr=0.01; total time=   3.6s\n",
      "[CV] END ............................................dr=0.05; total time=   3.3s\n",
      "[CV] END ............................................dr=0.05; total time=   3.3s\n",
      "[CV] END ............................................dr=0.05; total time=   3.4s\n",
      "[CV] END ............................................dr=0.05; total time=   3.5s\n",
      "[CV] END ............................................dr=0.05; total time=   3.4s\n",
      "[CV] END .............................................dr=0.1; total time=   3.4s\n",
      "[CV] END .............................................dr=0.1; total time=   3.3s\n",
      "[CV] END .............................................dr=0.1; total time=   3.3s\n",
      "[CV] END .............................................dr=0.1; total time=   3.4s\n",
      "[CV] END .............................................dr=0.1; total time=   3.4s\n",
      "[CV] END .............................................dr=0.2; total time=   3.4s\n",
      "[CV] END .............................................dr=0.2; total time=   3.4s\n",
      "[CV] END .............................................dr=0.2; total time=   3.4s\n",
      "[CV] END .............................................dr=0.2; total time=   5.2s\n",
      "[CV] END .............................................dr=0.2; total time=   3.3s\n",
      "[CV] END .............................................dr=0.5; total time=   3.6s\n",
      "[CV] END .............................................dr=0.5; total time=   3.3s\n",
      "[CV] END .............................................dr=0.5; total time=   3.2s\n",
      "[CV] END .............................................dr=0.5; total time=   3.7s\n",
      "[CV] END .............................................dr=0.5; total time=   3.5s\n"
     ]
    }
   ],
   "source": [
    "#Dropout\n",
    "\n",
    "# create model\n",
    "model = KerasClassifier(build_fn=create_model, \n",
    "                        epochs=100, batch_size=4, verbose=0)\n",
    "\n",
    "# define the grid search parameters\n",
    "drops = [0.0, 0.01, 0.05, 0.1, 0.2, 0.5]\n",
    "param_grid = dict(dr=drops)\n",
    "grid = GridSearchCV(estimator=model, param_grid=param_grid, scoring='accuracy', verbose=2)\n",
    "grid_result = grid.fit(X_train, y_train)"
   ]
  },
  {
   "cell_type": "code",
   "execution_count": 17,
   "id": "005ee3fd",
   "metadata": {},
   "outputs": [
    {
     "name": "stdout",
     "output_type": "stream",
     "text": [
      "Best: 0.946839 using {'dr': 0.2}\n",
      "0.946795 (0.014932) with: {'dr': 0.0}\n",
      "0.937840 (0.017277) with: {'dr': 0.01}\n",
      "0.937884 (0.017171) with: {'dr': 0.05}\n",
      "0.934899 (0.027597) with: {'dr': 0.1}\n",
      "0.946839 (0.019788) with: {'dr': 0.2}\n",
      "0.917164 (0.027363) with: {'dr': 0.5}\n"
     ]
    }
   ],
   "source": [
    "# summarize results\n",
    "print(\"Best: %f using %s\" % (grid_result.best_score_, grid_result.best_params_))\n",
    "means = grid_result.cv_results_['mean_test_score']\n",
    "stds = grid_result.cv_results_['std_test_score']\n",
    "params = grid_result.cv_results_['params']\n",
    "for mean, stdev, param in zip(means, stds, params):\n",
    "    print(\"%f (%f) with: %r\" % (mean, stdev, param))"
   ]
  },
  {
   "cell_type": "code",
   "execution_count": 18,
   "id": "894f2c34",
   "metadata": {},
   "outputs": [
    {
     "name": "stdout",
     "output_type": "stream",
     "text": [
      "Model: \"sequential_50\"\n",
      "_________________________________________________________________\n",
      "Layer (type)                 Output Shape              Param #   \n",
      "=================================================================\n",
      "dense_117 (Dense)            (None, 6)                 36        \n",
      "_________________________________________________________________\n",
      "dense_118 (Dense)            (None, 4)                 28        \n",
      "_________________________________________________________________\n",
      "dense_119 (Dense)            (None, 2)                 10        \n",
      "_________________________________________________________________\n",
      "dropout_50 (Dropout)         (None, 2)                 0         \n",
      "_________________________________________________________________\n",
      "dense_120 (Dense)            (None, 1)                 3         \n",
      "=================================================================\n",
      "Total params: 77\n",
      "Trainable params: 77\n",
      "Non-trainable params: 0\n",
      "_________________________________________________________________\n",
      "None\n"
     ]
    }
   ],
   "source": [
    "# create final model\n",
    "model = create_model(lyrs=[6,4, 2], dr=0.2)\n",
    "\n",
    "print(model.summary())"
   ]
  },
  {
   "cell_type": "code",
   "execution_count": 19,
   "id": "e1b22d78",
   "metadata": {},
   "outputs": [
    {
     "name": "stdout",
     "output_type": "stream",
     "text": [
      "11/11 [==============================] - 0s 1ms/step - loss: 0.0355 - accuracy: 0.9882\n",
      "\n",
      "accuracy: 98.82%\n"
     ]
    }
   ],
   "source": [
    "# train model on full train set, with 80/20 CV split\n",
    "training = model.fit(X_train, y_train, epochs=100, batch_size=4, \n",
    "                     validation_split=0.2, verbose=0)\n",
    "\n",
    "# evaluate the model\n",
    "scores = model.evaluate(X_train, y_train)\n",
    "print(\"\\n%s: %.2f%%\" % (model.metrics_names[1], scores[1]*100))"
   ]
  },
  {
   "cell_type": "code",
   "execution_count": 20,
   "id": "7a900971",
   "metadata": {
    "scrolled": true
   },
   "outputs": [
    {
     "data": {
      "image/png": "[encoded data removed]",
      "text/plain": [
       "<Figure size 432x288 with 1 Axes>"
      ]
     },
     "metadata": {},
     "output_type": "display_data"
    }
   ],
   "source": [
    "# summarize history for accuracy\n",
    "plt.plot(training.history['accuracy'])\n",
    "plt.plot(training.history['val_accuracy'])\n",
    "plt.title('Neural Network Model Accuracy (Caxias do Sul)')\n",
    "plt.ylabel('Accuracy')\n",
    "plt.xlabel('Epoch')\n",
    "plt.legend(['train', 'validation'])\n",
    "plt.grid(False)\n",
    "plt.show()"
   ]
  },
  {
   "cell_type": "code",
   "execution_count": 21,
   "id": "e774b01a",
   "metadata": {},
   "outputs": [
    {
     "name": "stdout",
     "output_type": "stream",
     "text": [
      "Epoch 1/100\n",
      "37/37 [==============================] - 0s 864us/step - loss: 0.8512 - accuracy: 0.3699\n",
      "Epoch 2/100\n",
      "37/37 [==============================] - 0s 866us/step - loss: 0.7642 - accuracy: 0.4110\n",
      "Epoch 3/100\n",
      "37/37 [==============================] - 0s 863us/step - loss: 0.6887 - accuracy: 0.5068\n",
      "Epoch 4/100\n",
      "37/37 [==============================] - 0s 864us/step - loss: 0.6300 - accuracy: 0.6575\n",
      "Epoch 5/100\n",
      "37/37 [==============================] - 0s 648us/step - loss: 0.5862 - accuracy: 0.7466\n",
      "Epoch 6/100\n",
      "37/37 [==============================] - 0s 648us/step - loss: 0.5532 - accuracy: 0.8219\n",
      "Epoch 7/100\n",
      "37/37 [==============================] - 0s 865us/step - loss: 0.5270 - accuracy: 0.8356\n",
      "Epoch 8/100\n",
      "37/37 [==============================] - 0s 864us/step - loss: 0.5066 - accuracy: 0.8425\n",
      "Epoch 9/100\n",
      "37/37 [==============================] - 0s 649us/step - loss: 0.4908 - accuracy: 0.8493\n",
      "Epoch 10/100\n",
      "37/37 [==============================] - 0s 864us/step - loss: 0.4768 - accuracy: 0.8493\n",
      "Epoch 11/100\n",
      "37/37 [==============================] - 0s 864us/step - loss: 0.4656 - accuracy: 0.8630\n",
      "Epoch 12/100\n",
      "37/37 [==============================] - 0s 648us/step - loss: 0.4558 - accuracy: 0.8630\n",
      "Epoch 13/100\n",
      "37/37 [==============================] - 0s 648us/step - loss: 0.4469 - accuracy: 0.8630\n",
      "Epoch 14/100\n",
      "37/37 [==============================] - 0s 865us/step - loss: 0.4398 - accuracy: 0.8630\n",
      "Epoch 15/100\n",
      "37/37 [==============================] - 0s 865us/step - loss: 0.4346 - accuracy: 0.8699\n",
      "Epoch 16/100\n",
      "37/37 [==============================] - 0s 865us/step - loss: 0.4272 - accuracy: 0.8630\n",
      "Epoch 17/100\n",
      "37/37 [==============================] - 0s 864us/step - loss: 0.4226 - accuracy: 0.8699\n",
      "Epoch 18/100\n",
      "37/37 [==============================] - 0s 1ms/step - loss: 0.4167 - accuracy: 0.8699\n",
      "Epoch 19/100\n",
      "37/37 [==============================] - 0s 864us/step - loss: 0.4121 - accuracy: 0.8699\n",
      "Epoch 20/100\n",
      "37/37 [==============================] - 0s 648us/step - loss: 0.4076 - accuracy: 0.8699\n",
      "Epoch 21/100\n",
      "37/37 [==============================] - 0s 1ms/step - loss: 0.4034 - accuracy: 0.8699\n",
      "Epoch 22/100\n",
      "37/37 [==============================] - 0s 1ms/step - loss: 0.3989 - accuracy: 0.8699\n",
      "Epoch 23/100\n",
      "37/37 [==============================] - 0s 649us/step - loss: 0.3947 - accuracy: 0.8699\n",
      "Epoch 24/100\n",
      "37/37 [==============================] - 0s 649us/step - loss: 0.3908 - accuracy: 0.8836\n",
      "Epoch 25/100\n",
      "37/37 [==============================] - 0s 864us/step - loss: 0.3871 - accuracy: 0.8836\n",
      "Epoch 26/100\n",
      "37/37 [==============================] - 0s 648us/step - loss: 0.3847 - accuracy: 0.8836\n",
      "Epoch 27/100\n",
      "37/37 [==============================] - 0s 866us/step - loss: 0.3801 - accuracy: 0.8836\n",
      "Epoch 28/100\n",
      "37/37 [==============================] - 0s 647us/step - loss: 0.3762 - accuracy: 0.8836\n",
      "Epoch 29/100\n",
      "37/37 [==============================] - 0s 648us/step - loss: 0.3735 - accuracy: 0.8836\n",
      "Epoch 30/100\n",
      "37/37 [==============================] - 0s 864us/step - loss: 0.3691 - accuracy: 0.8836\n",
      "Epoch 31/100\n",
      "37/37 [==============================] - 0s 648us/step - loss: 0.3660 - accuracy: 0.8836\n",
      "Epoch 32/100\n",
      "37/37 [==============================] - 0s 649us/step - loss: 0.3624 - accuracy: 0.8904\n",
      "Epoch 33/100\n",
      "37/37 [==============================] - 0s 864us/step - loss: 0.3593 - accuracy: 0.8904\n",
      "Epoch 34/100\n",
      "37/37 [==============================] - 0s 865us/step - loss: 0.3557 - accuracy: 0.8904\n",
      "Epoch 35/100\n",
      "37/37 [==============================] - 0s 864us/step - loss: 0.3522 - accuracy: 0.8904\n",
      "Epoch 36/100\n",
      "37/37 [==============================] - 0s 865us/step - loss: 0.3492 - accuracy: 0.8973\n",
      "Epoch 37/100\n",
      "37/37 [==============================] - 0s 864us/step - loss: 0.3458 - accuracy: 0.8973\n",
      "Epoch 38/100\n",
      "37/37 [==============================] - 0s 865us/step - loss: 0.3424 - accuracy: 0.8973\n",
      "Epoch 39/100\n",
      "37/37 [==============================] - 0s 864us/step - loss: 0.3396 - accuracy: 0.8973\n",
      "Epoch 40/100\n",
      "37/37 [==============================] - 0s 649us/step - loss: 0.3359 - accuracy: 0.8973\n",
      "Epoch 41/100\n",
      "37/37 [==============================] - 0s 649us/step - loss: 0.3326 - accuracy: 0.8973\n",
      "Epoch 42/100\n",
      "37/37 [==============================] - 0s 864us/step - loss: 0.3298 - accuracy: 0.8973\n",
      "Epoch 43/100\n",
      "37/37 [==============================] - 0s 648us/step - loss: 0.3260 - accuracy: 0.8973\n",
      "Epoch 44/100\n",
      "37/37 [==============================] - 0s 865us/step - loss: 0.3231 - accuracy: 0.8973\n",
      "Epoch 45/100\n",
      "37/37 [==============================] - 0s 648us/step - loss: 0.3195 - accuracy: 0.8973\n",
      "Epoch 46/100\n",
      "37/37 [==============================] - 0s 648us/step - loss: 0.3169 - accuracy: 0.8973\n",
      "Epoch 47/100\n",
      "37/37 [==============================] - 0s 865us/step - loss: 0.3134 - accuracy: 0.9041\n",
      "Epoch 48/100\n",
      "37/37 [==============================] - 0s 864us/step - loss: 0.3103 - accuracy: 0.9041\n",
      "Epoch 49/100\n",
      "37/37 [==============================] - 0s 648us/step - loss: 0.3071 - accuracy: 0.9041\n",
      "Epoch 50/100\n",
      "37/37 [==============================] - 0s 864us/step - loss: 0.3041 - accuracy: 0.9041\n",
      "Epoch 51/100\n",
      "37/37 [==============================] - 0s 649us/step - loss: 0.3014 - accuracy: 0.9041\n",
      "Epoch 52/100\n",
      "37/37 [==============================] - 0s 648us/step - loss: 0.2986 - accuracy: 0.9041\n",
      "Epoch 53/100\n",
      "37/37 [==============================] - 0s 865us/step - loss: 0.2952 - accuracy: 0.9041\n",
      "Epoch 54/100\n",
      "37/37 [==============================] - 0s 648us/step - loss: 0.2924 - accuracy: 0.9041\n",
      "Epoch 55/100\n",
      "37/37 [==============================] - 0s 648us/step - loss: 0.2894 - accuracy: 0.9110\n",
      "Epoch 56/100\n",
      "37/37 [==============================] - 0s 864us/step - loss: 0.2863 - accuracy: 0.9041\n",
      "Epoch 57/100\n",
      "37/37 [==============================] - 0s 648us/step - loss: 0.2833 - accuracy: 0.9110\n",
      "Epoch 58/100\n",
      "37/37 [==============================] - 0s 648us/step - loss: 0.2808 - accuracy: 0.9110\n",
      "Epoch 59/100\n",
      "37/37 [==============================] - 0s 864us/step - loss: 0.2790 - accuracy: 0.9110\n",
      "Epoch 60/100\n",
      "37/37 [==============================] - ETA: 0s - loss: 0.4663 - accuracy: 0.75 - 0s 648us/step - loss: 0.2755 - accuracy: 0.9178\n",
      "Epoch 61/100\n",
      "37/37 [==============================] - 0s 649us/step - loss: 0.2729 - accuracy: 0.9178\n",
      "Epoch 62/100\n",
      "37/37 [==============================] - 0s 864us/step - loss: 0.2705 - accuracy: 0.9178\n",
      "Epoch 63/100\n",
      "37/37 [==============================] - 0s 865us/step - loss: 0.2683 - accuracy: 0.9178\n",
      "Epoch 64/100\n",
      "37/37 [==============================] - 0s 864us/step - loss: 0.2656 - accuracy: 0.9247\n",
      "Epoch 65/100\n",
      "37/37 [==============================] - 0s 865us/step - loss: 0.2629 - accuracy: 0.9247\n",
      "Epoch 66/100\n",
      "37/37 [==============================] - 0s 648us/step - loss: 0.2612 - accuracy: 0.9110\n",
      "Epoch 67/100\n",
      "37/37 [==============================] - 0s 648us/step - loss: 0.2588 - accuracy: 0.9110\n",
      "Epoch 68/100\n",
      "37/37 [==============================] - 0s 649us/step - loss: 0.2562 - accuracy: 0.9315\n",
      "Epoch 69/100\n",
      "37/37 [==============================] - 0s 648us/step - loss: 0.2539 - accuracy: 0.9247\n",
      "Epoch 70/100\n",
      "37/37 [==============================] - 0s 648us/step - loss: 0.2522 - accuracy: 0.9247\n",
      "Epoch 71/100\n",
      "37/37 [==============================] - 0s 648us/step - loss: 0.2502 - accuracy: 0.9247\n",
      "Epoch 72/100\n",
      "37/37 [==============================] - 0s 648us/step - loss: 0.2477 - accuracy: 0.9247\n",
      "Epoch 73/100\n",
      "37/37 [==============================] - 0s 648us/step - loss: 0.2455 - accuracy: 0.9247\n",
      "Epoch 74/100\n",
      "37/37 [==============================] - 0s 865us/step - loss: 0.2441 - accuracy: 0.9247\n",
      "Epoch 75/100\n",
      "37/37 [==============================] - 0s 864us/step - loss: 0.2413 - accuracy: 0.9315\n",
      "Epoch 76/100\n",
      "37/37 [==============================] - 0s 649us/step - loss: 0.2401 - accuracy: 0.9315\n",
      "Epoch 77/100\n",
      "37/37 [==============================] - 0s 864us/step - loss: 0.2378 - accuracy: 0.9315\n",
      "Epoch 78/100\n",
      "37/37 [==============================] - 0s 648us/step - loss: 0.2364 - accuracy: 0.9315\n",
      "Epoch 79/100\n",
      "37/37 [==============================] - 0s 648us/step - loss: 0.2351 - accuracy: 0.9315\n",
      "Epoch 80/100\n",
      "37/37 [==============================] - 0s 648us/step - loss: 0.2331 - accuracy: 0.9315\n",
      "Epoch 81/100\n"
     ]
    },
    {
     "name": "stdout",
     "output_type": "stream",
     "text": [
      "37/37 [==============================] - 0s 649us/step - loss: 0.2310 - accuracy: 0.9315\n",
      "Epoch 82/100\n",
      "37/37 [==============================] - 0s 864us/step - loss: 0.2307 - accuracy: 0.9315\n",
      "Epoch 83/100\n",
      "37/37 [==============================] - 0s 649us/step - loss: 0.2280 - accuracy: 0.9315\n",
      "Epoch 84/100\n",
      "37/37 [==============================] - 0s 648us/step - loss: 0.2259 - accuracy: 0.9384\n",
      "Epoch 85/100\n",
      "37/37 [==============================] - 0s 648us/step - loss: 0.2238 - accuracy: 0.9384\n",
      "Epoch 86/100\n",
      "37/37 [==============================] - 0s 648us/step - loss: 0.2221 - accuracy: 0.9384\n",
      "Epoch 87/100\n",
      "37/37 [==============================] - 0s 649us/step - loss: 0.2214 - accuracy: 0.9315\n",
      "Epoch 88/100\n",
      "37/37 [==============================] - 0s 648us/step - loss: 0.2192 - accuracy: 0.9315\n",
      "Epoch 89/100\n",
      "37/37 [==============================] - 0s 648us/step - loss: 0.2181 - accuracy: 0.9384\n",
      "Epoch 90/100\n",
      "37/37 [==============================] - 0s 648us/step - loss: 0.2168 - accuracy: 0.9315\n",
      "Epoch 91/100\n",
      "37/37 [==============================] - 0s 648us/step - loss: 0.2161 - accuracy: 0.9384\n",
      "Epoch 92/100\n",
      "37/37 [==============================] - 0s 433us/step - loss: 0.2149 - accuracy: 0.9315\n",
      "Epoch 93/100\n",
      "37/37 [==============================] - 0s 648us/step - loss: 0.2119 - accuracy: 0.9315\n",
      "Epoch 94/100\n",
      "37/37 [==============================] - 0s 865us/step - loss: 0.2111 - accuracy: 0.9315\n",
      "Epoch 95/100\n",
      "37/37 [==============================] - 0s 648us/step - loss: 0.2100 - accuracy: 0.9315\n",
      "Epoch 96/100\n",
      "37/37 [==============================] - 0s 864us/step - loss: 0.2092 - accuracy: 0.9315\n",
      "Epoch 97/100\n",
      "37/37 [==============================] - 0s 648us/step - loss: 0.2075 - accuracy: 0.9315\n",
      "Epoch 98/100\n",
      "37/37 [==============================] - 0s 864us/step - loss: 0.2063 - accuracy: 0.9315\n",
      "Epoch 99/100\n",
      "37/37 [==============================] - 0s 648us/step - loss: 0.2043 - accuracy: 0.9315\n",
      "Epoch 100/100\n",
      "37/37 [==============================] - 0s 648us/step - loss: 0.2038 - accuracy: 0.9315\n"
     ]
    }
   ],
   "source": [
    "# make class predictions for the testing set\n",
    "model = create_model()\n",
    "model.fit(X_test, y_test,\n",
    "          batch_size=4,\n",
    "          epochs=100,\n",
    "          shuffle=True)\n",
    "y_pred = model.predict(X_test)"
   ]
  },
  {
   "cell_type": "code",
   "execution_count": 22,
   "id": "4a7a8c4b",
   "metadata": {},
   "outputs": [
    {
     "data": {
      "image/png": "[encoded data removed]",
      "text/plain": [
       "<Figure size 432x288 with 2 Axes>"
      ]
     },
     "metadata": {},
     "output_type": "display_data"
    }
   ],
   "source": [
    "from sklearn import metrics\n",
    "cnf_matrix = metrics.confusion_matrix(y_test, y_pred.round())\n",
    "sns.set(font_scale=1.2) # Adjust to fit\n",
    "p = sns.heatmap(pd.DataFrame(cnf_matrix), annot=True, cmap=\"YlGnBu\" ,fmt='g')\n",
    "plt.title('Neural Network', y=1.025)\n",
    "plt.ylabel('Actual Values')\n",
    "plt.xlabel('Predicted Values')\n",
    "plt.savefig('CM_NeuralNetwork_CaxiasdoSul.png', dpi=600)"
   ]
  },
  {
   "cell_type": "code",
   "execution_count": 23,
   "id": "2fb1ae46",
   "metadata": {},
   "outputs": [
    {
     "name": "stdout",
     "output_type": "stream",
     "text": [
      "              precision    recall  f1-score   support\n",
      "\n",
      "           0       0.98      0.91      0.94        88\n",
      "           1       0.88      0.97      0.92        58\n",
      "\n",
      "    accuracy                           0.93       146\n",
      "   macro avg       0.93      0.94      0.93       146\n",
      "weighted avg       0.94      0.93      0.93       146\n",
      "\n"
     ]
    }
   ],
   "source": [
    "#import classification_report\n",
    "from sklearn.metrics import classification_report\n",
    "print(classification_report(y_test,y_pred.round()))"
   ]
  },
  {
   "cell_type": "code",
   "execution_count": 24,
   "id": "09f96d96",
   "metadata": {},
   "outputs": [],
   "source": [
    "from sklearn.metrics import roc_curve\n",
    "y_pred_proba = model.predict(X_test)[:,0]\n",
    "fpr, tpr, thresholds = roc_curve(y_test, y_pred_proba)"
   ]
  },
  {
   "cell_type": "code",
   "execution_count": 25,
   "id": "479f5c38",
   "metadata": {},
   "outputs": [
    {
     "data": {
      "image/png": "[encoded data removed]",
      "text/plain": [
       "<Figure size 432x288 with 1 Axes>"
      ]
     },
     "metadata": {},
     "output_type": "display_data"
    }
   ],
   "source": [
    "# histogram of predicted probabilities\n",
    "plt.hist(y_pred_proba, bins=8)\n",
    "plt.xlim(0, 1)\n",
    "plt.title('Histogram of predicted probabilities - Neural Network')\n",
    "plt.xlabel('Predicted probability - (Caxias do Sul) ')\n",
    "plt.ylabel('Frequency')\n",
    "plt.grid(False)\n",
    "plt.savefig('Histogram_NeuralNetwork_CaxiasdoSul.png')"
   ]
  },
  {
   "cell_type": "code",
   "execution_count": 26,
   "id": "265c5d26",
   "metadata": {},
   "outputs": [
    {
     "data": {
      "image/png": "[encoded data removed]",
      "text/plain": [
       "<Figure size 432x288 with 1 Axes>"
      ]
     },
     "metadata": {},
     "output_type": "display_data"
    }
   ],
   "source": [
    "plt.plot([0,1],[0,1],'k--')\n",
    "plt.plot(fpr,tpr, label='Logistic')\n",
    "plt.xlabel('False Positive')\n",
    "plt.ylabel('True Positive')\n",
    "plt.title('Neural Network - ROC curve (Caxias do Sul)')\n",
    "plt.grid(False)\n",
    "sns.set_style(\"ticks\")\n",
    "plt.savefig('ROC_NeuralNetwork_CaxiasdoSul.eps', format='eps')"
   ]
  },
  {
   "cell_type": "code",
   "execution_count": 27,
   "id": "7ab8926a",
   "metadata": {},
   "outputs": [
    {
     "data": {
      "text/plain": [
       "0.9849137931034483"
      ]
     },
     "execution_count": 27,
     "metadata": {},
     "output_type": "execute_result"
    }
   ],
   "source": [
    "#Area under ROC curve\n",
    "from sklearn.metrics import roc_auc_score\n",
    "roc_auc_score(y_test,y_pred_proba)"
   ]
  },
  {
   "cell_type": "code",
   "execution_count": 28,
   "id": "2c165fc2",
   "metadata": {},
   "outputs": [
    {
     "data": {
      "text/html": [
       "\n",
       "    <style>\n",
       "    table.eli5-weights tr:hover {\n",
       "        filter: brightness(85%);\n",
       "    }\n",
       "</style>\n",
       "\n",
       "\n",
       "\n",
       "    \n",
       "\n",
       "    \n",
       "\n",
       "    \n",
       "\n",
       "    \n",
       "\n",
       "    \n",
       "\n",
       "    \n",
       "\n",
       "\n",
       "    \n",
       "\n",
       "    \n",
       "\n",
       "    \n",
       "\n",
       "    \n",
       "\n",
       "    \n",
       "\n",
       "    \n",
       "\n",
       "\n",
       "    \n",
       "\n",
       "    \n",
       "\n",
       "    \n",
       "\n",
       "    \n",
       "\n",
       "    \n",
       "        <table class=\"eli5-weights eli5-feature-importances\" style=\"border-collapse: collapse; border: none; margin-top: 0em; table-layout: auto;\">\n",
       "    <thead>\n",
       "    <tr style=\"border: none;\">\n",
       "        <th style=\"padding: 0 1em 0 0.5em; text-align: right; border: none;\">Weight</th>\n",
       "        <th style=\"padding: 0 0.5em 0 0.5em; text-align: left; border: none;\">Feature</th>\n",
       "    </tr>\n",
       "    </thead>\n",
       "    <tbody>\n",
       "    \n",
       "        <tr style=\"background-color: hsl(120, 100.00%, 80.00%); border: none;\">\n",
       "            <td style=\"padding: 0 1em 0 0.5em; text-align: right; border: none;\">\n",
       "                0.2113\n",
       "                \n",
       "                    &plusmn; 0.0000\n",
       "                \n",
       "            </td>\n",
       "            <td style=\"padding: 0 0.5em 0 0.5em; text-align: left; border: none;\">\n",
       "                Price_sd\n",
       "            </td>\n",
       "        </tr>\n",
       "    \n",
       "        <tr style=\"background-color: hsl(120, 100.00%, 80.06%); border: none;\">\n",
       "            <td style=\"padding: 0 1em 0 0.5em; text-align: right; border: none;\">\n",
       "                0.2105\n",
       "                \n",
       "                    &plusmn; 0.0018\n",
       "                \n",
       "            </td>\n",
       "            <td style=\"padding: 0 0.5em 0 0.5em; text-align: left; border: none;\">\n",
       "                CV\n",
       "            </td>\n",
       "        </tr>\n",
       "    \n",
       "        <tr style=\"background-color: hsl(120, 100.00%, 80.17%); border: none;\">\n",
       "            <td style=\"padding: 0 1em 0 0.5em; text-align: right; border: none;\">\n",
       "                0.2087\n",
       "                \n",
       "                    &plusmn; 0.0036\n",
       "                \n",
       "            </td>\n",
       "            <td style=\"padding: 0 0.5em 0 0.5em; text-align: left; border: none;\">\n",
       "                SPD\n",
       "            </td>\n",
       "        </tr>\n",
       "    \n",
       "        <tr style=\"background-color: hsl(120, 100.00%, 94.23%); border: none;\">\n",
       "            <td style=\"padding: 0 1em 0 0.5em; text-align: right; border: none;\">\n",
       "                0.0358\n",
       "                \n",
       "                    &plusmn; 0.0289\n",
       "                \n",
       "            </td>\n",
       "            <td style=\"padding: 0 0.5em 0 0.5em; text-align: left; border: none;\">\n",
       "                Price_kurtosis\n",
       "            </td>\n",
       "        </tr>\n",
       "    \n",
       "        <tr style=\"background-color: hsl(120, 100.00%, 97.68%); border: none;\">\n",
       "            <td style=\"padding: 0 1em 0 0.5em; text-align: right; border: none;\">\n",
       "                0.0097\n",
       "                \n",
       "                    &plusmn; 0.0602\n",
       "                \n",
       "            </td>\n",
       "            <td style=\"padding: 0 0.5em 0 0.5em; text-align: left; border: none;\">\n",
       "                Price_skewness\n",
       "            </td>\n",
       "        </tr>\n",
       "    \n",
       "    \n",
       "    </tbody>\n",
       "</table>\n",
       "    \n",
       "\n",
       "    \n",
       "\n",
       "\n",
       "    \n",
       "\n",
       "    \n",
       "\n",
       "    \n",
       "\n",
       "    \n",
       "\n",
       "    \n",
       "\n",
       "    \n",
       "\n",
       "\n",
       "\n"
      ],
      "text/plain": [
       "<IPython.core.display.HTML object>"
      ]
     },
     "execution_count": 28,
     "metadata": {},
     "output_type": "execute_result"
    }
   ],
   "source": [
    "import eli5\n",
    "from eli5.sklearn import PermutationImportance\n",
    "# max error measures the classification Error: Overall, how often is the classifier incorrect?\n",
    "perm = PermutationImportance(model, scoring='max_error', random_state=1).fit(X_test, y_test)\n",
    "eli5.show_weights(perm, feature_names = X_test.columns.tolist())"
   ]
  },
  {
   "cell_type": "code",
   "execution_count": 29,
   "id": "7ed76b4f",
   "metadata": {},
   "outputs": [
    {
     "name": "stdout",
     "output_type": "stream",
     "text": [
      "Feature: 0, Score: 0.20533\n",
      "Feature: 1, Score: 0.20852\n",
      "Feature: 2, Score: 0.21134\n",
      "Feature: 3, Score: 0.01915\n",
      "Feature: 4, Score: 0.02601\n"
     ]
    },
    {
     "data": {
      "image/png": "[encoded data removed]",
      "text/plain": [
       "<Figure size 432x288 with 1 Axes>"
      ]
     },
     "metadata": {},
     "output_type": "display_data"
    }
   ],
   "source": [
    "# perform permutation importance\n",
    "from sklearn.inspection import permutation_importance\n",
    "from matplotlib import pyplot\n",
    "\n",
    "results = permutation_importance(model, X_test, y_test, scoring='max_error',  n_repeats=100, random_state=1)\n",
    "# max error measures the classification Error: Overall, how often is the classifier incorrect?\n",
    "# get importance\n",
    "importance = results.importances_mean\n",
    "# summarize feature importance\n",
    "for i,v in enumerate(importance):\n",
    "\tprint('Feature: %0d, Score: %.5f' % (i,v))\n",
    "# plot feature importance\n",
    "pyplot.bar([x for x in range(len(importance))], importance)\n",
    "pyplot.show()\n",
    "\n",
    "#Feature 0: SPD\n",
    "#Feature 1: CV\n",
    "#Feature 2: Price_sd\n",
    "#Feature 3: Price_skewness\n",
    "#Feature 4: Price_kurtosis"
   ]
  },
  {
   "cell_type": "code",
   "execution_count": 30,
   "id": "c8a0e787",
   "metadata": {},
   "outputs": [],
   "source": [
    "# define a function that accepts a threshold and prints sensitivity and specificity\n",
    "def evaluate_threshold(threshold):\n",
    "    print('Sensitivity:', tpr[thresholds > threshold][-1])\n",
    "    print('Especificity:', 1 - fpr[thresholds > threshold][-1])"
   ]
  },
  {
   "cell_type": "code",
   "execution_count": 31,
   "id": "5fbfe692",
   "metadata": {},
   "outputs": [
    {
     "name": "stdout",
     "output_type": "stream",
     "text": [
      "Sensitividade: 0.9655172413793104\n",
      "Especificidade: 0.9545454545454546\n"
     ]
    }
   ],
   "source": [
    "evaluate_threshold(0.5)"
   ]
  },
  {
   "cell_type": "code",
   "execution_count": 32,
   "id": "7f82f26f",
   "metadata": {},
   "outputs": [
    {
     "name": "stdout",
     "output_type": "stream",
     "text": [
      "Sensitividade: 0.8448275862068966\n",
      "Especificidade: 0.9545454545454546\n"
     ]
    }
   ],
   "source": [
    "evaluate_threshold(0.6)"
   ]
  },
  {
   "cell_type": "code",
   "execution_count": 33,
   "id": "8958df8f",
   "metadata": {},
   "outputs": [
    {
     "name": "stdout",
     "output_type": "stream",
     "text": [
      "Sensitividade: 0.8448275862068966\n",
      "Especificidade: 0.9772727272727273\n"
     ]
    }
   ],
   "source": [
    "evaluate_threshold(0.7)"
   ]
  },
  {
   "cell_type": "code",
   "execution_count": 34,
   "id": "16599942",
   "metadata": {},
   "outputs": [
    {
     "name": "stdout",
     "output_type": "stream",
     "text": [
      "Sensitividade: 0.017241379310344827\n",
      "Especificidade: 1.0\n"
     ]
    }
   ],
   "source": [
    "evaluate_threshold(0.8)"
   ]
  },
  {
   "cell_type": "code",
   "execution_count": 35,
   "id": "9a4099df",
   "metadata": {},
   "outputs": [
    {
     "name": "stdout",
     "output_type": "stream",
     "text": [
      "Sensitividade: 0.017241379310344827\n",
      "Especificidade: 1.0\n"
     ]
    }
   ],
   "source": [
    "evaluate_threshold(0.9)"
   ]
  },
  {
   "cell_type": "code",
   "execution_count": 36,
   "id": "1b347f95",
   "metadata": {},
   "outputs": [
    {
     "name": "stdout",
     "output_type": "stream",
     "text": [
      "Sensitividade: 0.0\n",
      "Especificidade: 1.0\n"
     ]
    }
   ],
   "source": [
    "evaluate_threshold(0.99)"
   ]
  }
 ],
 "metadata": {
  "kernelspec": {
   "display_name": "Python 3",
   "language": "python",
   "name": "python3"
  },
  "language_info": {
   "codemirror_mode": {
    "name": "ipython",
    "version": 3
   },
   "file_extension": ".py",
   "mimetype": "text/x-python",
   "name": "python",
   "nbconvert_exporter": "python",
   "pygments_lexer": "ipython3",
   "version": "3.8.8"
  }
 },
 "nbformat": 4,
 "nbformat_minor": 5
}
