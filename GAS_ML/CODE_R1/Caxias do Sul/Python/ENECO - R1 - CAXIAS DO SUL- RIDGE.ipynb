{
 "cells": [
  {
   "cell_type": "code",
   "execution_count": 1,
   "id": "00ed9de4",
   "metadata": {},
   "outputs": [],
   "source": [
    "# Caxias do Sul - Ridge Regression"
   ]
  },
  {
   "cell_type": "code",
   "execution_count": 2,
   "id": "483894d3",
   "metadata": {},
   "outputs": [],
   "source": [
    "import numpy as np \n",
    "import pandas as pd \n",
    "\n",
    "from sklearn import preprocessing\n",
    "import matplotlib.pyplot as plt \n",
    "plt.rc(\"font\", size=14)\n",
    "import seaborn as sns\n",
    "sns.set(style=\"white\") #white background style for seaborn plots\n",
    "sns.set(style=\"whitegrid\", color_codes=True)\n",
    "from matplotlib.pyplot import rcParams\n",
    "%matplotlib inline\n",
    "rcParams['figure.figsize'] = 6,4\n",
    "sns.set(style='whitegrid', palette='muted',\n",
    "        rc={'figure.figsize': (6,4)})\n",
    "import warnings\n",
    "warnings.simplefilter(action='ignore')"
   ]
  },
  {
   "cell_type": "code",
   "execution_count": 3,
   "id": "d911e076",
   "metadata": {},
   "outputs": [
    {
     "data": {
      "text/html": [
       "<div>\n",
       "<style scoped>\n",
       "    .dataframe tbody tr th:only-of-type {\n",
       "        vertical-align: middle;\n",
       "    }\n",
       "\n",
       "    .dataframe tbody tr th {\n",
       "        vertical-align: top;\n",
       "    }\n",
       "\n",
       "    .dataframe thead th {\n",
       "        text-align: right;\n",
       "    }\n",
       "</style>\n",
       "<table border=\"1\" class=\"dataframe\">\n",
       "  <thead>\n",
       "    <tr style=\"text-align: right;\">\n",
       "      <th></th>\n",
       "      <th>SPD</th>\n",
       "      <th>CV</th>\n",
       "      <th>Price_sd</th>\n",
       "      <th>Price_skewness</th>\n",
       "      <th>Price_kurtosis</th>\n",
       "      <th>Cartel_CS</th>\n",
       "    </tr>\n",
       "  </thead>\n",
       "  <tbody>\n",
       "    <tr>\n",
       "      <th>0</th>\n",
       "      <td>-0.502234</td>\n",
       "      <td>-0.771008</td>\n",
       "      <td>-0.954957</td>\n",
       "      <td>-1.152634</td>\n",
       "      <td>0.981293</td>\n",
       "      <td>1</td>\n",
       "    </tr>\n",
       "    <tr>\n",
       "      <th>1</th>\n",
       "      <td>-0.011977</td>\n",
       "      <td>-0.384726</td>\n",
       "      <td>-0.753369</td>\n",
       "      <td>-2.024678</td>\n",
       "      <td>2.454060</td>\n",
       "      <td>1</td>\n",
       "    </tr>\n",
       "    <tr>\n",
       "      <th>2</th>\n",
       "      <td>-0.637640</td>\n",
       "      <td>-0.824221</td>\n",
       "      <td>-0.983101</td>\n",
       "      <td>-1.343260</td>\n",
       "      <td>1.275377</td>\n",
       "      <td>1</td>\n",
       "    </tr>\n",
       "    <tr>\n",
       "      <th>3</th>\n",
       "      <td>0.079973</td>\n",
       "      <td>-0.440566</td>\n",
       "      <td>-0.781865</td>\n",
       "      <td>-2.067829</td>\n",
       "      <td>2.904549</td>\n",
       "      <td>1</td>\n",
       "    </tr>\n",
       "    <tr>\n",
       "      <th>4</th>\n",
       "      <td>0.141272</td>\n",
       "      <td>-0.439377</td>\n",
       "      <td>-0.781214</td>\n",
       "      <td>-2.052522</td>\n",
       "      <td>2.963625</td>\n",
       "      <td>1</td>\n",
       "    </tr>\n",
       "  </tbody>\n",
       "</table>\n",
       "</div>"
      ],
      "text/plain": [
       "        SPD        CV  Price_sd  Price_skewness  Price_kurtosis  Cartel_CS\n",
       "0 -0.502234 -0.771008 -0.954957       -1.152634        0.981293          1\n",
       "1 -0.011977 -0.384726 -0.753369       -2.024678        2.454060          1\n",
       "2 -0.637640 -0.824221 -0.983101       -1.343260        1.275377          1\n",
       "3  0.079973 -0.440566 -0.781865       -2.067829        2.904549          1\n",
       "4  0.141272 -0.439377 -0.781214       -2.052522        2.963625          1"
      ]
     },
     "execution_count": 3,
     "metadata": {},
     "output_type": "execute_result"
    }
   ],
   "source": [
    "df = pd.read_excel(r\"CaxiasdoSul_ML_Std.xls\")\n",
    "df.head()"
   ]
  },
  {
   "cell_type": "code",
   "execution_count": 4,
   "id": "e0ac4377",
   "metadata": {},
   "outputs": [],
   "source": [
    "# Predicting Cartel\n",
    "# define X and y\n",
    "X = df.drop(\"Cartel_CS\",axis = 1)\n",
    "y = df.Cartel_CS"
   ]
  },
  {
   "cell_type": "code",
   "execution_count": 5,
   "id": "d07dabb7",
   "metadata": {},
   "outputs": [
    {
     "data": {
      "text/html": [
       "<div>\n",
       "<style scoped>\n",
       "    .dataframe tbody tr th:only-of-type {\n",
       "        vertical-align: middle;\n",
       "    }\n",
       "\n",
       "    .dataframe tbody tr th {\n",
       "        vertical-align: top;\n",
       "    }\n",
       "\n",
       "    .dataframe thead th {\n",
       "        text-align: right;\n",
       "    }\n",
       "</style>\n",
       "<table border=\"1\" class=\"dataframe\">\n",
       "  <thead>\n",
       "    <tr style=\"text-align: right;\">\n",
       "      <th></th>\n",
       "      <th>SPD</th>\n",
       "      <th>CV</th>\n",
       "      <th>Price_sd</th>\n",
       "      <th>Price_skewness</th>\n",
       "      <th>Price_kurtosis</th>\n",
       "    </tr>\n",
       "  </thead>\n",
       "  <tbody>\n",
       "    <tr>\n",
       "      <th>0</th>\n",
       "      <td>-0.502234</td>\n",
       "      <td>-0.771008</td>\n",
       "      <td>-0.954957</td>\n",
       "      <td>-1.152634</td>\n",
       "      <td>0.981293</td>\n",
       "    </tr>\n",
       "    <tr>\n",
       "      <th>1</th>\n",
       "      <td>-0.011977</td>\n",
       "      <td>-0.384726</td>\n",
       "      <td>-0.753369</td>\n",
       "      <td>-2.024678</td>\n",
       "      <td>2.454060</td>\n",
       "    </tr>\n",
       "    <tr>\n",
       "      <th>2</th>\n",
       "      <td>-0.637640</td>\n",
       "      <td>-0.824221</td>\n",
       "      <td>-0.983101</td>\n",
       "      <td>-1.343260</td>\n",
       "      <td>1.275377</td>\n",
       "    </tr>\n",
       "    <tr>\n",
       "      <th>3</th>\n",
       "      <td>0.079973</td>\n",
       "      <td>-0.440566</td>\n",
       "      <td>-0.781865</td>\n",
       "      <td>-2.067829</td>\n",
       "      <td>2.904549</td>\n",
       "    </tr>\n",
       "    <tr>\n",
       "      <th>4</th>\n",
       "      <td>0.141272</td>\n",
       "      <td>-0.439377</td>\n",
       "      <td>-0.781214</td>\n",
       "      <td>-2.052522</td>\n",
       "      <td>2.963625</td>\n",
       "    </tr>\n",
       "  </tbody>\n",
       "</table>\n",
       "</div>"
      ],
      "text/plain": [
       "        SPD        CV  Price_sd  Price_skewness  Price_kurtosis\n",
       "0 -0.502234 -0.771008 -0.954957       -1.152634        0.981293\n",
       "1 -0.011977 -0.384726 -0.753369       -2.024678        2.454060\n",
       "2 -0.637640 -0.824221 -0.983101       -1.343260        1.275377\n",
       "3  0.079973 -0.440566 -0.781865       -2.067829        2.904549\n",
       "4  0.141272 -0.439377 -0.781214       -2.052522        2.963625"
      ]
     },
     "execution_count": 5,
     "metadata": {},
     "output_type": "execute_result"
    }
   ],
   "source": [
    "X.head()"
   ]
  },
  {
   "cell_type": "code",
   "execution_count": 6,
   "id": "47dcc52f",
   "metadata": {},
   "outputs": [],
   "source": [
    "#importing train_test_split\n",
    "from sklearn.model_selection import train_test_split\n",
    "X_train,X_test,y_train,y_test = train_test_split(X,y,test_size=0.3,random_state=42, stratify=y)"
   ]
  },
  {
   "cell_type": "code",
   "execution_count": 7,
   "id": "dc6c8a1d",
   "metadata": {},
   "outputs": [
    {
     "name": "stdout",
     "output_type": "stream",
     "text": [
      "accuracy: 0.921\n",
      "Best value for C: {'C': 0.97}\n"
     ]
    }
   ],
   "source": [
    "# grid search hyperparameters for Ridge regression\n",
    "from numpy import arange\n",
    "from sklearn.model_selection import GridSearchCV\n",
    "from sklearn.model_selection import RepeatedKFold\n",
    "from sklearn.linear_model import LogisticRegression\n",
    "model = LogisticRegression(penalty='l2')\n",
    "# define model evaluation method\n",
    "cv = RepeatedKFold(n_splits=5, n_repeats=5, random_state=1)\n",
    "# define grid\n",
    "grid = dict()\n",
    "grid['C'] = arange(0, 1, 0.01)\n",
    "# define search\n",
    "search = GridSearchCV(model, grid, scoring=\"accuracy\", cv=cv, n_jobs=-1)\n",
    "# perform the search\n",
    "results = search.fit(X_train, y_train)\n",
    "# summarize\n",
    "print('accuracy: %.3f' % results.best_score_)\n",
    "print('Best value for C: %s' % results.best_params_)"
   ]
  },
  {
   "cell_type": "code",
   "execution_count": 8,
   "id": "1e42fd98",
   "metadata": {},
   "outputs": [
    {
     "data": {
      "text/plain": [
       "LogisticRegression(C=0.97)"
      ]
     },
     "execution_count": 8,
     "metadata": {},
     "output_type": "execute_result"
    }
   ],
   "source": [
    "logreg = LogisticRegression(penalty='l2', C= 0.97)\n",
    "logreg.fit(X_train, y_train)"
   ]
  },
  {
   "cell_type": "code",
   "execution_count": 9,
   "id": "ec0d1364",
   "metadata": {},
   "outputs": [
    {
     "name": "stdout",
     "output_type": "stream",
     "text": [
      "[[ 0.85164113  0.78454219 -5.91441815  0.15190649  0.080607  ]] [-2.28996785]\n"
     ]
    }
   ],
   "source": [
    "print(logreg.coef_, logreg.intercept_)"
   ]
  },
  {
   "cell_type": "code",
   "execution_count": 10,
   "id": "6e0278d1",
   "metadata": {},
   "outputs": [],
   "source": [
    "# make class predictions for the testing set\n",
    "y_pred = logreg.predict(X_test)"
   ]
  },
  {
   "cell_type": "code",
   "execution_count": 11,
   "id": "d46d8ce0",
   "metadata": {},
   "outputs": [
    {
     "name": "stdout",
     "output_type": "stream",
     "text": [
      "Null Accuracy: 0.3698630136986301\n"
     ]
    }
   ],
   "source": [
    "#calculate the percentage of ones\n",
    "Percentage_of_ones = y_test.mean()\n",
    "print('Null Accuracy:', Percentage_of_ones)"
   ]
  },
  {
   "cell_type": "code",
   "execution_count": 12,
   "id": "46fe9f5a",
   "metadata": {},
   "outputs": [
    {
     "name": "stdout",
     "output_type": "stream",
     "text": [
      "0.9383561643835616\n"
     ]
    }
   ],
   "source": [
    "# calculate accuracy\n",
    "from sklearn import metrics\n",
    "print(metrics.accuracy_score(y_test, y_pred))\n",
    "#mean_squared_error(y_test, y_pred_class)"
   ]
  },
  {
   "cell_type": "code",
   "execution_count": 13,
   "id": "59496765",
   "metadata": {},
   "outputs": [
    {
     "data": {
      "image/png": "[encoded data removed]",
      "text/plain": [
       "<Figure size 432x288 with 2 Axes>"
      ]
     },
     "metadata": {},
     "output_type": "display_data"
    }
   ],
   "source": [
    "import seaborn as sns\n",
    "from sklearn import metrics\n",
    "cnf_matrix = metrics.confusion_matrix(y_test, y_pred)\n",
    "sns.set(font_scale=1.2) # Adjust to fit\n",
    "p = sns.heatmap(pd.DataFrame(cnf_matrix), annot=True, cmap=\"YlGnBu\" ,fmt='g')\n",
    "plt.title('Ridge', y=1.025)\n",
    "plt.ylabel('Actual Values')\n",
    "plt.xlabel('Predicted Values')\n",
    "plt.savefig('CM_Ridge_CaxiasdoSul.png', dpi=600)"
   ]
  },
  {
   "cell_type": "code",
   "execution_count": 14,
   "id": "631d850f",
   "metadata": {},
   "outputs": [
    {
     "name": "stdout",
     "output_type": "stream",
     "text": [
      "              precision    recall  f1-score   support\n",
      "\n",
      "           0       0.96      0.95      0.95        92\n",
      "           1       0.91      0.93      0.92        54\n",
      "\n",
      "    accuracy                           0.94       146\n",
      "   macro avg       0.93      0.94      0.93       146\n",
      "weighted avg       0.94      0.94      0.94       146\n",
      "\n"
     ]
    }
   ],
   "source": [
    "#import classification_report\n",
    "from sklearn.metrics import classification_report\n",
    "print(classification_report(y_test,y_pred))"
   ]
  },
  {
   "cell_type": "code",
   "execution_count": 15,
   "id": "c5818ba9",
   "metadata": {},
   "outputs": [],
   "source": [
    "# store the predicted probabilities for class 1\n",
    "from sklearn.metrics import roc_curve\n",
    "y_pred_proba = logreg.predict_proba(X_test)[:,1]\n",
    "fpr, tpr, thresholds = roc_curve(y_test, y_pred_proba)"
   ]
  },
  {
   "cell_type": "code",
   "execution_count": 16,
   "id": "2ad3d697",
   "metadata": {},
   "outputs": [
    {
     "data": {
      "image/png": "[encoded data removed]",
      "text/plain": [
       "<Figure size 432x288 with 1 Axes>"
      ]
     },
     "metadata": {},
     "output_type": "display_data"
    }
   ],
   "source": [
    "# histogram of predicted probabilities\n",
    "plt.hist(y_pred_proba, bins=8)\n",
    "plt.xlim(0, 1)\n",
    "plt.title('Histogram of predicted probabilities - Ridge')\n",
    "plt.xlabel('Predicted probability - (Caxias do Sul) ')\n",
    "plt.ylabel('Frequency')\n",
    "plt.grid(False)\n",
    "plt.savefig('Histogram_Ridge_CaxiasdoSul.eps', format='eps')\n",
    "## "
   ]
  },
  {
   "cell_type": "code",
   "execution_count": 17,
   "id": "0f1e3213",
   "metadata": {},
   "outputs": [
    {
     "data": {
      "image/png": "[encoded data removed]",
      "text/plain": [
       "<Figure size 432x288 with 1 Axes>"
      ]
     },
     "metadata": {},
     "output_type": "display_data"
    }
   ],
   "source": [
    "plt.plot([0,1],[0,1],'k--')\n",
    "plt.plot(fpr,tpr, label='Logistic')\n",
    "plt.xlabel('False Positive')\n",
    "plt.ylabel('True Positive')\n",
    "plt.title('Ridge - ROC curve (Caxias do Sul)')\n",
    "plt.grid(False)\n",
    "sns.set_style(\"ticks\")\n",
    "plt.savefig('ROC_Ridge_CaxiasdoSul.eps', format='eps')"
   ]
  },
  {
   "cell_type": "code",
   "execution_count": 18,
   "id": "eb7aa4de",
   "metadata": {},
   "outputs": [],
   "source": [
    "from sklearn.metrics import roc_curve\n",
    "y_pred_proba = logreg.predict_proba(X_test)[:,1]\n",
    "fpr, tpr, thresholds = roc_curve(y_test, y_pred_proba)"
   ]
  },
  {
   "cell_type": "code",
   "execution_count": 19,
   "id": "b53d8e02",
   "metadata": {},
   "outputs": [
    {
     "name": "stdout",
     "output_type": "stream",
     "text": [
      "AUC: 0.9624136097820308\n"
     ]
    }
   ],
   "source": [
    "# calculate cross-validated AUC\n",
    "from sklearn.model_selection import cross_val_score\n",
    "auc = cross_val_score(logreg, X_test, y_test, cv=5, scoring='roc_auc').mean()\n",
    "print('AUC:',auc)"
   ]
  },
  {
   "cell_type": "code",
   "execution_count": 20,
   "id": "d8feec09",
   "metadata": {},
   "outputs": [],
   "source": [
    "import eli5\n",
    "from eli5.sklearn import PermutationImportance"
   ]
  },
  {
   "cell_type": "code",
   "execution_count": 21,
   "id": "4354740d",
   "metadata": {},
   "outputs": [
    {
     "data": {
      "text/html": [
       "\n",
       "    <style>\n",
       "    table.eli5-weights tr:hover {\n",
       "        filter: brightness(85%);\n",
       "    }\n",
       "</style>\n",
       "\n",
       "\n",
       "\n",
       "    \n",
       "\n",
       "    \n",
       "\n",
       "    \n",
       "\n",
       "    \n",
       "\n",
       "    \n",
       "\n",
       "    \n",
       "\n",
       "\n",
       "    \n",
       "\n",
       "    \n",
       "\n",
       "    \n",
       "\n",
       "    \n",
       "\n",
       "    \n",
       "\n",
       "    \n",
       "\n",
       "\n",
       "    \n",
       "\n",
       "    \n",
       "\n",
       "    \n",
       "\n",
       "    \n",
       "\n",
       "    \n",
       "        <table class=\"eli5-weights eli5-feature-importances\" style=\"border-collapse: collapse; border: none; margin-top: 0em; table-layout: auto;\">\n",
       "    <thead>\n",
       "    <tr style=\"border: none;\">\n",
       "        <th style=\"padding: 0 1em 0 0.5em; text-align: right; border: none;\">Weight</th>\n",
       "        <th style=\"padding: 0 0.5em 0 0.5em; text-align: left; border: none;\">Feature</th>\n",
       "    </tr>\n",
       "    </thead>\n",
       "    <tbody>\n",
       "    \n",
       "        <tr style=\"background-color: hsl(120, 100.00%, 80.00%); border: none;\">\n",
       "            <td style=\"padding: 0 1em 0 0.5em; text-align: right; border: none;\">\n",
       "                0.4726\n",
       "                \n",
       "                    &plusmn; 0.0450\n",
       "                \n",
       "            </td>\n",
       "            <td style=\"padding: 0 0.5em 0 0.5em; text-align: left; border: none;\">\n",
       "                Price_sd\n",
       "            </td>\n",
       "        </tr>\n",
       "    \n",
       "        <tr style=\"background-color: hsl(120, 100.00%, 95.19%); border: none;\">\n",
       "            <td style=\"padding: 0 1em 0 0.5em; text-align: right; border: none;\">\n",
       "                0.0616\n",
       "                \n",
       "                    &plusmn; 0.0087\n",
       "                \n",
       "            </td>\n",
       "            <td style=\"padding: 0 0.5em 0 0.5em; text-align: left; border: none;\">\n",
       "                SPD\n",
       "            </td>\n",
       "        </tr>\n",
       "    \n",
       "        <tr style=\"background-color: hsl(120, 100.00%, 95.50%); border: none;\">\n",
       "            <td style=\"padding: 0 1em 0 0.5em; text-align: right; border: none;\">\n",
       "                0.0562\n",
       "                \n",
       "                    &plusmn; 0.0236\n",
       "                \n",
       "            </td>\n",
       "            <td style=\"padding: 0 0.5em 0 0.5em; text-align: left; border: none;\">\n",
       "                CV\n",
       "            </td>\n",
       "        </tr>\n",
       "    \n",
       "        <tr style=\"background-color: hsl(0, 100.00%, 98.83%); border: none;\">\n",
       "            <td style=\"padding: 0 1em 0 0.5em; text-align: right; border: none;\">\n",
       "                -0.0082\n",
       "                \n",
       "                    &plusmn; 0.0201\n",
       "                \n",
       "            </td>\n",
       "            <td style=\"padding: 0 0.5em 0 0.5em; text-align: left; border: none;\">\n",
       "                Price_skewness\n",
       "            </td>\n",
       "        </tr>\n",
       "    \n",
       "        <tr style=\"background-color: hsl(0, 100.00%, 98.83%); border: none;\">\n",
       "            <td style=\"padding: 0 1em 0 0.5em; text-align: right; border: none;\">\n",
       "                -0.0082\n",
       "                \n",
       "                    &plusmn; 0.0103\n",
       "                \n",
       "            </td>\n",
       "            <td style=\"padding: 0 0.5em 0 0.5em; text-align: left; border: none;\">\n",
       "                Price_kurtosis\n",
       "            </td>\n",
       "        </tr>\n",
       "    \n",
       "    \n",
       "    </tbody>\n",
       "</table>\n",
       "    \n",
       "\n",
       "    \n",
       "\n",
       "\n",
       "    \n",
       "\n",
       "    \n",
       "\n",
       "    \n",
       "\n",
       "    \n",
       "\n",
       "    \n",
       "\n",
       "    \n",
       "\n",
       "\n",
       "\n"
      ],
      "text/plain": [
       "<IPython.core.display.HTML object>"
      ]
     },
     "execution_count": 21,
     "metadata": {},
     "output_type": "execute_result"
    }
   ],
   "source": [
    "perm = PermutationImportance(logreg, random_state=1).fit(X_test, y_test)\n",
    "eli5.show_weights(perm, feature_names = X_test.columns.tolist())"
   ]
  },
  {
   "cell_type": "code",
   "execution_count": 22,
   "id": "bde81e54",
   "metadata": {},
   "outputs": [],
   "source": [
    "# define a function that accepts a threshold and prints sensitivity and specificity\n",
    "def evaluate_threshold(threshold):\n",
    "    print('sensitivity:', tpr[thresholds > threshold][-1])\n",
    "    print('specificity:', 1 - fpr[thresholds > threshold][-1])"
   ]
  },
  {
   "cell_type": "code",
   "execution_count": 23,
   "id": "e2fd0f9e",
   "metadata": {},
   "outputs": [
    {
     "name": "stdout",
     "output_type": "stream",
     "text": [
      "sensitivity: 0.9259259259259259\n",
      "specificity: 0.9456521739130435\n"
     ]
    }
   ],
   "source": [
    "evaluate_threshold(0.5)"
   ]
  },
  {
   "cell_type": "code",
   "execution_count": 24,
   "id": "d67a0108",
   "metadata": {},
   "outputs": [
    {
     "name": "stdout",
     "output_type": "stream",
     "text": [
      "sensitivity: 0.8518518518518519\n",
      "specificity: 0.9565217391304348\n"
     ]
    }
   ],
   "source": [
    "evaluate_threshold(0.6)"
   ]
  },
  {
   "cell_type": "code",
   "execution_count": 25,
   "id": "795b405f",
   "metadata": {},
   "outputs": [
    {
     "name": "stdout",
     "output_type": "stream",
     "text": [
      "sensitivity: 0.6666666666666666\n",
      "specificity: 0.9891304347826086\n"
     ]
    }
   ],
   "source": [
    "evaluate_threshold(0.7)"
   ]
  },
  {
   "cell_type": "code",
   "execution_count": 26,
   "id": "43bef756",
   "metadata": {},
   "outputs": [
    {
     "name": "stdout",
     "output_type": "stream",
     "text": [
      "sensitivity: 0.018518518518518517\n",
      "specificity: 1.0\n"
     ]
    }
   ],
   "source": [
    "evaluate_threshold(0.8)"
   ]
  },
  {
   "cell_type": "code",
   "execution_count": 27,
   "id": "29338210",
   "metadata": {},
   "outputs": [
    {
     "name": "stdout",
     "output_type": "stream",
     "text": [
      "sensitivity: 0.018518518518518517\n",
      "specificity: 1.0\n"
     ]
    }
   ],
   "source": [
    "evaluate_threshold(0.9)"
   ]
  },
  {
   "cell_type": "code",
   "execution_count": 28,
   "id": "fe1a4aae",
   "metadata": {},
   "outputs": [
    {
     "name": "stdout",
     "output_type": "stream",
     "text": [
      "sensitivity: 0.0\n",
      "specificity: 1.0\n"
     ]
    }
   ],
   "source": [
    "evaluate_threshold(0.99)"
   ]
  }
 ],
 "metadata": {
  "kernelspec": {
   "display_name": "Python 3",
   "language": "python",
   "name": "python3"
  },
  "language_info": {
   "codemirror_mode": {
    "name": "ipython",
    "version": 3
   },
   "file_extension": ".py",
   "mimetype": "text/x-python",
   "name": "python",
   "nbconvert_exporter": "python",
   "pygments_lexer": "ipython3",
   "version": "3.8.8"
  }
 },
 "nbformat": 4,
 "nbformat_minor": 5
}
