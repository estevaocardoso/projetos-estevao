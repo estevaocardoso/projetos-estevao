{
 "cells": [
  {
   "cell_type": "code",
   "execution_count": 1,
   "id": "99c0943d",
   "metadata": {},
   "outputs": [],
   "source": [
    "# São Luís - Neural Network\n",
    "\n",
    "import tensorflow\n",
    "tensorflow.random.set_seed(42)\n",
    "import numpy as np\n",
    "import pandas as pd\n",
    "import seaborn as sns\n",
    "import matplotlib.pyplot as plt\n",
    "from matplotlib.pyplot import rcParams\n",
    "%matplotlib inline\n",
    "rcParams['figure.figsize'] = 6,4\n",
    "sns.set(style='whitegrid', palette='muted',\n",
    "        rc={'figure.figsize': (6,4)})\n",
    "import os\n",
    "from sklearn.preprocessing import StandardScaler\n",
    "from sklearn.model_selection import train_test_split\n",
    "from sklearn.model_selection import GridSearchCV\n",
    "from keras.wrappers.scikit_learn import KerasClassifier\n",
    "from keras.models import Sequential\n",
    "from keras.layers import Dense, Activation, Dropout, Flatten\n",
    "from keras.layers import Conv2D, MaxPooling2D"
   ]
  },
  {
   "cell_type": "code",
   "execution_count": 2,
   "id": "3dbb8b7b",
   "metadata": {},
   "outputs": [
    {
     "data": {
      "text/html": [
       "<div>\n",
       "<style scoped>\n",
       "    .dataframe tbody tr th:only-of-type {\n",
       "        vertical-align: middle;\n",
       "    }\n",
       "\n",
       "    .dataframe tbody tr th {\n",
       "        vertical-align: top;\n",
       "    }\n",
       "\n",
       "    .dataframe thead th {\n",
       "        text-align: right;\n",
       "    }\n",
       "</style>\n",
       "<table border=\"1\" class=\"dataframe\">\n",
       "  <thead>\n",
       "    <tr style=\"text-align: right;\">\n",
       "      <th></th>\n",
       "      <th>SPD</th>\n",
       "      <th>CV</th>\n",
       "      <th>Price_sd</th>\n",
       "      <th>Price_skewness</th>\n",
       "      <th>Price_kurtosis</th>\n",
       "      <th>Cartel_SL</th>\n",
       "    </tr>\n",
       "  </thead>\n",
       "  <tbody>\n",
       "    <tr>\n",
       "      <th>0</th>\n",
       "      <td>-1.512210</td>\n",
       "      <td>-1.415126</td>\n",
       "      <td>-1.523575</td>\n",
       "      <td>0.530595</td>\n",
       "      <td>-0.372297</td>\n",
       "      <td>1</td>\n",
       "    </tr>\n",
       "    <tr>\n",
       "      <th>1</th>\n",
       "      <td>-1.590998</td>\n",
       "      <td>-1.423813</td>\n",
       "      <td>-1.531361</td>\n",
       "      <td>0.465319</td>\n",
       "      <td>-0.465210</td>\n",
       "      <td>1</td>\n",
       "    </tr>\n",
       "    <tr>\n",
       "      <th>2</th>\n",
       "      <td>-1.472599</td>\n",
       "      <td>-1.390720</td>\n",
       "      <td>-1.500943</td>\n",
       "      <td>0.277075</td>\n",
       "      <td>-0.523992</td>\n",
       "      <td>1</td>\n",
       "    </tr>\n",
       "    <tr>\n",
       "      <th>3</th>\n",
       "      <td>-1.891792</td>\n",
       "      <td>-1.794681</td>\n",
       "      <td>-1.874691</td>\n",
       "      <td>0.988610</td>\n",
       "      <td>-0.150930</td>\n",
       "      <td>1</td>\n",
       "    </tr>\n",
       "    <tr>\n",
       "      <th>4</th>\n",
       "      <td>-1.512210</td>\n",
       "      <td>-1.424056</td>\n",
       "      <td>-1.531331</td>\n",
       "      <td>-0.390301</td>\n",
       "      <td>-0.859725</td>\n",
       "      <td>1</td>\n",
       "    </tr>\n",
       "  </tbody>\n",
       "</table>\n",
       "</div>"
      ],
      "text/plain": [
       "        SPD        CV  Price_sd  Price_skewness  Price_kurtosis  Cartel_SL\n",
       "0 -1.512210 -1.415126 -1.523575        0.530595       -0.372297          1\n",
       "1 -1.590998 -1.423813 -1.531361        0.465319       -0.465210          1\n",
       "2 -1.472599 -1.390720 -1.500943        0.277075       -0.523992          1\n",
       "3 -1.891792 -1.794681 -1.874691        0.988610       -0.150930          1\n",
       "4 -1.512210 -1.424056 -1.531331       -0.390301       -0.859725          1"
      ]
     },
     "execution_count": 2,
     "metadata": {},
     "output_type": "execute_result"
    }
   ],
   "source": [
    "df = pd.read_excel(r\"SaoLuis_ML_Std.xls\")\n",
    "df.head()"
   ]
  },
  {
   "cell_type": "code",
   "execution_count": 3,
   "id": "a0dbf663",
   "metadata": {},
   "outputs": [],
   "source": [
    "# Predicting Cartel\n",
    "# define X and y\n",
    "X = df.drop(\"Cartel_SL\",axis = 1)\n",
    "y = df.Cartel_SL"
   ]
  },
  {
   "cell_type": "code",
   "execution_count": 4,
   "id": "af30d9be",
   "metadata": {},
   "outputs": [
    {
     "name": "stdout",
     "output_type": "stream",
     "text": [
      "(449, 5) (449,)\n"
     ]
    }
   ],
   "source": [
    "# summarize the dataset\n",
    "print(X.shape, y.shape)"
   ]
  },
  {
   "cell_type": "code",
   "execution_count": 5,
   "id": "7522eb77",
   "metadata": {},
   "outputs": [],
   "source": [
    "from sklearn.model_selection import train_test_split\n",
    "X_train,X_test,y_train,y_test = train_test_split(X,y,test_size=0.3,random_state=42)"
   ]
  },
  {
   "cell_type": "code",
   "execution_count": 6,
   "id": "00670d96",
   "metadata": {},
   "outputs": [],
   "source": [
    "# The neural network model\n",
    "\n",
    "def create_model(lyrs=[5], act='linear', opt='Adam', dr=0.0):\n",
    "    \n",
    "    model = Sequential()\n",
    "    \n",
    "    # create first hidden layer\n",
    "    model.add(Dense(lyrs[0], input_dim=X_train.shape[1], activation=act))\n",
    "    \n",
    "    # create additional hidden layers\n",
    "    for i in range(1,len(lyrs)):\n",
    "        model.add(Dense(lyrs[i], activation=act))\n",
    "    \n",
    "    # add dropout, default is none\n",
    "    model.add(Dropout(dr))\n",
    "    \n",
    "    # create output layer\n",
    "    model.add(Dense(1, activation='sigmoid'))  # output layer\n",
    "    \n",
    "    model.compile(loss='binary_crossentropy', optimizer=opt, metrics=['accuracy'])\n",
    "    \n",
    "    return model"
   ]
  },
  {
   "cell_type": "code",
   "execution_count": 7,
   "id": "8ce027b1",
   "metadata": {},
   "outputs": [
    {
     "name": "stdout",
     "output_type": "stream",
     "text": [
      "Model: \"sequential\"\n",
      "_________________________________________________________________\n",
      "Layer (type)                 Output Shape              Param #   \n",
      "=================================================================\n",
      "dense (Dense)                (None, 5)                 30        \n",
      "_________________________________________________________________\n",
      "dropout (Dropout)            (None, 5)                 0         \n",
      "_________________________________________________________________\n",
      "dense_1 (Dense)              (None, 1)                 6         \n",
      "=================================================================\n",
      "Total params: 36\n",
      "Trainable params: 36\n",
      "Non-trainable params: 0\n",
      "_________________________________________________________________\n",
      "None\n"
     ]
    }
   ],
   "source": [
    "model = create_model()\n",
    "print(model.summary())"
   ]
  },
  {
   "cell_type": "code",
   "execution_count": 8,
   "id": "8891ab71",
   "metadata": {},
   "outputs": [
    {
     "name": "stdout",
     "output_type": "stream",
     "text": [
      "\n",
      "val_accuracy: 79.48%\n"
     ]
    }
   ],
   "source": [
    "# train model on full train set, with 80/20 CV split\n",
    "training = model.fit(X_train, y_train, epochs=100, batch_size=32, validation_split=0.2, verbose=0)\n",
    "val_accuracy = np.mean(training.history['val_accuracy'])\n",
    "print(\"\\n%s: %.2f%%\" % ('val_accuracy', val_accuracy*100))"
   ]
  },
  {
   "cell_type": "code",
   "execution_count": 9,
   "id": "4187f2db",
   "metadata": {},
   "outputs": [
    {
     "data": {
      "image/png": "[encoded data removed]",
      "text/plain": [
       "<Figure size 432x288 with 1 Axes>"
      ]
     },
     "metadata": {},
     "output_type": "display_data"
    }
   ],
   "source": [
    "# summarize history for accuracy\n",
    "plt.plot(training.history['accuracy'])\n",
    "plt.plot(training.history['val_accuracy'])\n",
    "plt.title('Neural Network Model Accuracy (São Luís)')\n",
    "plt.ylabel('Accuracy')\n",
    "plt.xlabel('Epoch')\n",
    "plt.legend(['train', 'validation'])\n",
    "plt.grid(False)\n",
    "plt.show()"
   ]
  },
  {
   "cell_type": "code",
   "execution_count": 10,
   "id": "4a69c476",
   "metadata": {},
   "outputs": [
    {
     "name": "stdout",
     "output_type": "stream",
     "text": [
      "Fitting 3 folds for each of 20 candidates, totalling 60 fits\n"
     ]
    }
   ],
   "source": [
    "# Grid search for the batch size and epochs\n",
    "\n",
    "# create model\n",
    "model = KerasClassifier(build_fn=create_model, verbose=0)\n",
    "\n",
    "# define the grid search parameters\n",
    "batch_size = [4, 8, 16, 32, 64]\n",
    "epochs = [25, 50, 75, 100]\n",
    "param_grid = dict(batch_size=batch_size, epochs=epochs)\n",
    "\n",
    "# search the grid\n",
    "grid = GridSearchCV(estimator=model, param_grid=param_grid, scoring='accuracy', cv=3, verbose=2, n_jobs=-1)  \n",
    "grid_result = grid.fit(X_train, y_train)"
   ]
  },
  {
   "cell_type": "code",
   "execution_count": 11,
   "id": "a949b0cc",
   "metadata": {},
   "outputs": [
    {
     "name": "stdout",
     "output_type": "stream",
     "text": [
      "Best: 0.961813 using {'batch_size': 4, 'epochs': 100}\n",
      "0.856624 (0.027312) with: {'batch_size': 4, 'epochs': 25}\n",
      "0.901099 (0.040565) with: {'batch_size': 4, 'epochs': 50}\n",
      "0.952228 (0.023329) with: {'batch_size': 4, 'epochs': 75}\n",
      "0.961813 (0.020532) with: {'batch_size': 4, 'epochs': 100}\n",
      "0.760867 (0.102568) with: {'batch_size': 8, 'epochs': 25}\n",
      "0.789652 (0.049377) with: {'batch_size': 8, 'epochs': 50}\n",
      "0.936294 (0.035085) with: {'batch_size': 8, 'epochs': 75}\n",
      "0.952259 (0.013383) with: {'batch_size': 8, 'epochs': 100}\n",
      "0.732295 (0.062692) with: {'batch_size': 16, 'epochs': 25}\n",
      "0.741789 (0.055929) with: {'batch_size': 16, 'epochs': 50}\n",
      "0.888614 (0.029205) with: {'batch_size': 16, 'epochs': 75}\n",
      "0.875702 (0.021252) with: {'batch_size': 16, 'epochs': 100}\n",
      "0.751435 (0.055271) with: {'batch_size': 32, 'epochs': 25}\n",
      "0.744963 (0.058799) with: {'batch_size': 32, 'epochs': 50}\n",
      "0.764042 (0.100917) with: {'batch_size': 32, 'epochs': 75}\n",
      "0.789560 (0.089116) with: {'batch_size': 32, 'epochs': 100}\n",
      "0.453358 (0.254859) with: {'batch_size': 64, 'epochs': 25}\n",
      "0.713431 (0.048241) with: {'batch_size': 64, 'epochs': 50}\n",
      "0.722924 (0.015603) with: {'batch_size': 64, 'epochs': 75}\n",
      "0.789652 (0.049377) with: {'batch_size': 64, 'epochs': 100}\n"
     ]
    }
   ],
   "source": [
    "# summarize results\n",
    "print(\"Best: %f using %s\" % (grid_result.best_score_, grid_result.best_params_))\n",
    "means = grid_result.cv_results_['mean_test_score']\n",
    "stds = grid_result.cv_results_['std_test_score']\n",
    "params = grid_result.cv_results_['params']\n",
    "for mean, stdev, param in zip(means, stds, params):\n",
    "    print(\"%f (%f) with: %r\" % (mean, stdev, param))"
   ]
  },
  {
   "cell_type": "code",
   "execution_count": 12,
   "id": "c8dad2bf",
   "metadata": {},
   "outputs": [
    {
     "name": "stdout",
     "output_type": "stream",
     "text": [
      "Fitting 5 folds for each of 6 candidates, totalling 30 fits\n"
     ]
    }
   ],
   "source": [
    "# optimization Algorithm \n",
    "\n",
    "# create model\n",
    "model = KerasClassifier(build_fn=create_model, epochs=100, batch_size=4, verbose=0)\n",
    "\n",
    "# define the grid search parameters\n",
    "optimizer = ['SGD', 'RMSprop', 'Adagrad', 'Adadelta', 'Adam', 'Nadam']\n",
    "param_grid = dict(opt=optimizer)\n",
    "\n",
    "# search the grid\n",
    "grid = GridSearchCV(estimator=model, param_grid=param_grid, scoring='accuracy', verbose=2, n_jobs=-1)\n",
    "grid_result = grid.fit(X_train, y_train)"
   ]
  },
  {
   "cell_type": "code",
   "execution_count": 13,
   "id": "3e3e1408",
   "metadata": {},
   "outputs": [
    {
     "name": "stdout",
     "output_type": "stream",
     "text": [
      "Best: 0.971377 using {'opt': 'SGD'}\n",
      "0.971377 (0.018476) with: {'opt': 'SGD'}\n",
      "0.961854 (0.016117) with: {'opt': 'RMSprop'}\n",
      "0.547773 (0.075460) with: {'opt': 'Adagrad'}\n",
      "0.395136 (0.086622) with: {'opt': 'Adadelta'}\n",
      "0.968203 (0.017342) with: {'opt': 'Adam'}\n",
      "0.961854 (0.016117) with: {'opt': 'Nadam'}\n"
     ]
    }
   ],
   "source": [
    "# summarize results\n",
    "print(\"Best: %f using %s\" % (grid_result.best_score_, grid_result.best_params_))\n",
    "means = grid_result.cv_results_['mean_test_score']\n",
    "stds = grid_result.cv_results_['std_test_score']\n",
    "params = grid_result.cv_results_['params']\n",
    "for mean, stdev, param in zip(means, stds, params):\n",
    "    print(\"%f (%f) with: %r\" % (mean, stdev, param))"
   ]
  },
  {
   "cell_type": "code",
   "execution_count": 14,
   "id": "b7bda50d",
   "metadata": {},
   "outputs": [
    {
     "name": "stdout",
     "output_type": "stream",
     "text": [
      "Fitting 5 folds for each of 3 candidates, totalling 15 fits\n",
      "WARNING:tensorflow:From C:\\Users\\Douglas Silveira\\anaconda3\\lib\\site-packages\\tensorflow\\python\\keras\\wrappers\\scikit_learn.py:241: Sequential.predict_classes (from tensorflow.python.keras.engine.sequential) is deprecated and will be removed after 2021-01-01.\n",
      "Instructions for updating:\n",
      "Please use instead:* `np.argmax(model.predict(x), axis=-1)`,   if your model does multi-class classification   (e.g. if it uses a `softmax` last-layer activation).* `(model.predict(x) > 0.5).astype(\"int32\")`,   if your model does binary classification   (e.g. if it uses a `sigmoid` last-layer activation).\n",
      "[CV] END ..........................................lyrs=(6,); total time=   3.3s\n",
      "[CV] END ..........................................lyrs=(6,); total time=   3.3s\n",
      "[CV] END ..........................................lyrs=(6,); total time=   3.6s\n",
      "[CV] END ..........................................lyrs=(6,); total time=   3.4s\n",
      "[CV] END ..........................................lyrs=(6,); total time=   2.8s\n",
      "[CV] END ........................................lyrs=(6, 4); total time=   3.8s\n",
      "[CV] END ........................................lyrs=(6, 4); total time=   4.1s\n",
      "[CV] END ........................................lyrs=(6, 4); total time=   3.6s\n",
      "[CV] END ........................................lyrs=(6, 4); total time=   3.5s\n",
      "[CV] END ........................................lyrs=(6, 4); total time=   3.0s\n",
      "[CV] END .....................................lyrs=(6, 4, 2); total time=   3.6s\n",
      "[CV] END .....................................lyrs=(6, 4, 2); total time=   3.8s\n",
      "[CV] END .....................................lyrs=(6, 4, 2); total time=   3.5s\n",
      "[CV] END .....................................lyrs=(6, 4, 2); total time=   3.9s\n",
      "[CV] END .....................................lyrs=(6, 4, 2); total time=   3.6s\n"
     ]
    }
   ],
   "source": [
    "#Hidden neurons\n",
    "\n",
    "# create model\n",
    "model = KerasClassifier(build_fn=create_model, \n",
    "                        epochs=100, batch_size=4, verbose=0)\n",
    "\n",
    "# define the grid search parameters\n",
    "layers = [(6,),(6, 4), (6, 4, 2)]\n",
    "param_grid = dict(lyrs=layers)\n",
    "\n",
    "# search the grid\n",
    "grid = GridSearchCV(estimator=model, param_grid=param_grid, scoring='accuracy', verbose=2)\n",
    "grid_result = grid.fit(X_train, y_train)"
   ]
  },
  {
   "cell_type": "code",
   "execution_count": 15,
   "id": "a90ade77",
   "metadata": {},
   "outputs": [
    {
     "name": "stdout",
     "output_type": "stream",
     "text": [
      "Best: 0.993600 using {'lyrs': (6, 4, 2)}\n",
      "0.961854 (0.016117) with: {'lyrs': (6,)}\n",
      "0.990425 (0.007819) with: {'lyrs': (6, 4)}\n",
      "0.993600 (0.007839) with: {'lyrs': (6, 4, 2)}\n"
     ]
    }
   ],
   "source": [
    "# summarize results\n",
    "print(\"Best: %f using %s\" % (grid_result.best_score_, grid_result.best_params_))\n",
    "means = grid_result.cv_results_['mean_test_score']\n",
    "stds = grid_result.cv_results_['std_test_score']\n",
    "params = grid_result.cv_results_['params']\n",
    "for mean, stdev, param in zip(means, stds, params):\n",
    "    print(\"%f (%f) with: %r\" % (mean, stdev, param))"
   ]
  },
  {
   "cell_type": "code",
   "execution_count": 16,
   "id": "48fb1776",
   "metadata": {},
   "outputs": [
    {
     "name": "stdout",
     "output_type": "stream",
     "text": [
      "Fitting 5 folds for each of 6 candidates, totalling 30 fits\n",
      "[CV] END .............................................dr=0.0; total time=   3.3s\n",
      "[CV] END .............................................dr=0.0; total time=   3.4s\n",
      "[CV] END .............................................dr=0.0; total time=   3.5s\n",
      "[CV] END .............................................dr=0.0; total time=   3.4s\n",
      "[CV] END .............................................dr=0.0; total time=   3.0s\n",
      "[CV] END ............................................dr=0.01; total time=   3.5s\n",
      "[CV] END ............................................dr=0.01; total time=   3.5s\n",
      "[CV] END ............................................dr=0.01; total time=   3.4s\n",
      "[CV] END ............................................dr=0.01; total time=   3.9s\n",
      "[CV] END ............................................dr=0.01; total time=   3.6s\n",
      "[CV] END ............................................dr=0.05; total time=   3.8s\n",
      "[CV] END ............................................dr=0.05; total time=   3.6s\n",
      "[CV] END ............................................dr=0.05; total time=   3.9s\n",
      "[CV] END ............................................dr=0.05; total time=   3.3s\n",
      "[CV] END ............................................dr=0.05; total time=   3.0s\n",
      "[CV] END .............................................dr=0.1; total time=   3.2s\n",
      "[CV] END .............................................dr=0.1; total time=   3.5s\n",
      "[CV] END .............................................dr=0.1; total time=   3.4s\n",
      "[CV] END .............................................dr=0.1; total time=   3.5s\n",
      "[CV] END .............................................dr=0.1; total time=   2.9s\n",
      "[CV] END .............................................dr=0.2; total time=   3.4s\n",
      "[CV] END .............................................dr=0.2; total time=   3.5s\n",
      "[CV] END .............................................dr=0.2; total time=   3.2s\n",
      "[CV] END .............................................dr=0.2; total time=   3.6s\n",
      "[CV] END .............................................dr=0.2; total time=   2.9s\n",
      "[CV] END .............................................dr=0.5; total time=   3.5s\n",
      "[CV] END .............................................dr=0.5; total time=   3.5s\n",
      "[CV] END .............................................dr=0.5; total time=   3.5s\n",
      "[CV] END .............................................dr=0.5; total time=   3.6s\n",
      "[CV] END .............................................dr=0.5; total time=   3.1s\n"
     ]
    }
   ],
   "source": [
    "#Dropout\n",
    "\n",
    "# create model\n",
    "model = KerasClassifier(build_fn=create_model, \n",
    "                        epochs=100, batch_size=4, verbose=0)\n",
    "\n",
    "# define the grid search parameters\n",
    "drops = [0.0, 0.01, 0.05, 0.1, 0.2, 0.5]\n",
    "param_grid = dict(dr=drops)\n",
    "grid = GridSearchCV(estimator=model, param_grid=param_grid, scoring='accuracy', verbose=2)\n",
    "grid_result = grid.fit(X_train, y_train)"
   ]
  },
  {
   "cell_type": "code",
   "execution_count": 17,
   "id": "005ee3fd",
   "metadata": {},
   "outputs": [
    {
     "name": "stdout",
     "output_type": "stream",
     "text": [
      "Best: 0.965028 using {'dr': 0.2}\n",
      "0.961854 (0.016117) with: {'dr': 0.0}\n",
      "0.961854 (0.016117) with: {'dr': 0.01}\n",
      "0.961854 (0.016117) with: {'dr': 0.05}\n",
      "0.961854 (0.016117) with: {'dr': 0.1}\n",
      "0.965028 (0.015490) with: {'dr': 0.2}\n",
      "0.949002 (0.015724) with: {'dr': 0.5}\n"
     ]
    }
   ],
   "source": [
    "# summarize results\n",
    "print(\"Best: %f using %s\" % (grid_result.best_score_, grid_result.best_params_))\n",
    "means = grid_result.cv_results_['mean_test_score']\n",
    "stds = grid_result.cv_results_['std_test_score']\n",
    "params = grid_result.cv_results_['params']\n",
    "for mean, stdev, param in zip(means, stds, params):\n",
    "    print(\"%f (%f) with: %r\" % (mean, stdev, param))"
   ]
  },
  {
   "cell_type": "code",
   "execution_count": 18,
   "id": "894f2c34",
   "metadata": {},
   "outputs": [
    {
     "name": "stdout",
     "output_type": "stream",
     "text": [
      "Model: \"sequential_50\"\n",
      "_________________________________________________________________\n",
      "Layer (type)                 Output Shape              Param #   \n",
      "=================================================================\n",
      "dense_117 (Dense)            (None, 6)                 36        \n",
      "_________________________________________________________________\n",
      "dense_118 (Dense)            (None, 4)                 28        \n",
      "_________________________________________________________________\n",
      "dense_119 (Dense)            (None, 2)                 10        \n",
      "_________________________________________________________________\n",
      "dropout_50 (Dropout)         (None, 2)                 0         \n",
      "_________________________________________________________________\n",
      "dense_120 (Dense)            (None, 1)                 3         \n",
      "=================================================================\n",
      "Total params: 77\n",
      "Trainable params: 77\n",
      "Non-trainable params: 0\n",
      "_________________________________________________________________\n",
      "None\n"
     ]
    }
   ],
   "source": [
    "# create final model\n",
    "model = create_model(lyrs=[6,4, 2], dr=0.2)\n",
    "\n",
    "print(model.summary())"
   ]
  },
  {
   "cell_type": "code",
   "execution_count": 19,
   "id": "e1b22d78",
   "metadata": {},
   "outputs": [
    {
     "name": "stdout",
     "output_type": "stream",
     "text": [
      "10/10 [==============================] - 0s 795us/step - loss: 0.0124 - accuracy: 1.0000\n",
      "\n",
      "accuracy: 100.00%\n"
     ]
    }
   ],
   "source": [
    "# train model on full train set, with 80/20 CV split\n",
    "training = model.fit(X_train, y_train, epochs=100, batch_size=4, \n",
    "                     validation_split=0.2, verbose=0)\n",
    "\n",
    "# evaluate the model\n",
    "scores = model.evaluate(X_train, y_train)\n",
    "print(\"\\n%s: %.2f%%\" % (model.metrics_names[1], scores[1]*100))"
   ]
  },
  {
   "cell_type": "code",
   "execution_count": 20,
   "id": "7a900971",
   "metadata": {
    "scrolled": true
   },
   "outputs": [
    {
     "data": {
      "image/png": "[encoded data removed]",
      "text/plain": [
       "<Figure size 432x288 with 1 Axes>"
      ]
     },
     "metadata": {},
     "output_type": "display_data"
    }
   ],
   "source": [
    "# summarize history for accuracy\n",
    "plt.plot(training.history['accuracy'])\n",
    "plt.plot(training.history['val_accuracy'])\n",
    "plt.title('Neural Network Model Accuracy (São Luís)')\n",
    "plt.ylabel('Accuracy')\n",
    "plt.xlabel('Epoch')\n",
    "plt.legend(['train', 'validation'])\n",
    "plt.grid(False)\n",
    "plt.show()"
   ]
  },
  {
   "cell_type": "code",
   "execution_count": 21,
   "id": "e774b01a",
   "metadata": {},
   "outputs": [
    {
     "name": "stdout",
     "output_type": "stream",
     "text": [
      "Epoch 1/100\n",
      "34/34 [==============================] - 0s 941us/step - loss: 0.6545 - accuracy: 0.6296\n",
      "Epoch 2/100\n",
      "34/34 [==============================] - 0s 704us/step - loss: 0.5994 - accuracy: 0.6741\n",
      "Epoch 3/100\n",
      "34/34 [==============================] - 0s 704us/step - loss: 0.5575 - accuracy: 0.7778\n",
      "Epoch 4/100\n",
      "34/34 [==============================] - 0s 705us/step - loss: 0.5264 - accuracy: 0.8074\n",
      "Epoch 5/100\n",
      "34/34 [==============================] - 0s 940us/step - loss: 0.5061 - accuracy: 0.7926\n",
      "Epoch 6/100\n",
      "34/34 [==============================] - 0s 706us/step - loss: 0.4868 - accuracy: 0.8222\n",
      "Epoch 7/100\n",
      "34/34 [==============================] - 0s 705us/step - loss: 0.4736 - accuracy: 0.8296\n",
      "Epoch 8/100\n",
      "34/34 [==============================] - 0s 705us/step - loss: 0.4637 - accuracy: 0.8296\n",
      "Epoch 9/100\n",
      "34/34 [==============================] - 0s 705us/step - loss: 0.4544 - accuracy: 0.8296\n",
      "Epoch 10/100\n",
      "34/34 [==============================] - 0s 706us/step - loss: 0.4476 - accuracy: 0.8370\n",
      "Epoch 11/100\n",
      "34/34 [==============================] - 0s 705us/step - loss: 0.4420 - accuracy: 0.8370\n",
      "Epoch 12/100\n",
      "34/34 [==============================] - 0s 941us/step - loss: 0.4357 - accuracy: 0.8370\n",
      "Epoch 13/100\n",
      "34/34 [==============================] - 0s 941us/step - loss: 0.4293 - accuracy: 0.8370\n",
      "Epoch 14/100\n",
      "34/34 [==============================] - 0s 705us/step - loss: 0.4244 - accuracy: 0.8370\n",
      "Epoch 15/100\n",
      "34/34 [==============================] - 0s 705us/step - loss: 0.4193 - accuracy: 0.8370\n",
      "Epoch 16/100\n",
      "34/34 [==============================] - 0s 1ms/step - loss: 0.4154 - accuracy: 0.8444\n",
      "Epoch 17/100\n",
      "34/34 [==============================] - 0s 706us/step - loss: 0.4108 - accuracy: 0.8444\n",
      "Epoch 18/100\n",
      "34/34 [==============================] - 0s 941us/step - loss: 0.4070 - accuracy: 0.8519\n",
      "Epoch 19/100\n",
      "34/34 [==============================] - 0s 706us/step - loss: 0.4024 - accuracy: 0.8519\n",
      "Epoch 20/100\n",
      "34/34 [==============================] - 0s 706us/step - loss: 0.3982 - accuracy: 0.8593\n",
      "Epoch 21/100\n",
      "34/34 [==============================] - 0s 705us/step - loss: 0.3950 - accuracy: 0.8667\n",
      "Epoch 22/100\n",
      "34/34 [==============================] - 0s 941us/step - loss: 0.3906 - accuracy: 0.8667\n",
      "Epoch 23/100\n",
      "34/34 [==============================] - 0s 706us/step - loss: 0.3875 - accuracy: 0.8667\n",
      "Epoch 24/100\n",
      "34/34 [==============================] - 0s 705us/step - loss: 0.3839 - accuracy: 0.8741\n",
      "Epoch 25/100\n",
      "34/34 [==============================] - 0s 940us/step - loss: 0.3793 - accuracy: 0.8667\n",
      "Epoch 26/100\n",
      "34/34 [==============================] - 0s 941us/step - loss: 0.3748 - accuracy: 0.8667\n",
      "Epoch 27/100\n",
      "34/34 [==============================] - 0s 940us/step - loss: 0.3711 - accuracy: 0.8667\n",
      "Epoch 28/100\n",
      "34/34 [==============================] - 0s 940us/step - loss: 0.3680 - accuracy: 0.8741\n",
      "Epoch 29/100\n",
      "34/34 [==============================] - 0s 941us/step - loss: 0.3636 - accuracy: 0.8741\n",
      "Epoch 30/100\n",
      "34/34 [==============================] - 0s 941us/step - loss: 0.3601 - accuracy: 0.8741\n",
      "Epoch 31/100\n",
      "34/34 [==============================] - 0s 705us/step - loss: 0.3563 - accuracy: 0.8815\n",
      "Epoch 32/100\n",
      "34/34 [==============================] - 0s 706us/step - loss: 0.3532 - accuracy: 0.8815\n",
      "Epoch 33/100\n",
      "34/34 [==============================] - 0s 705us/step - loss: 0.3490 - accuracy: 0.8815\n",
      "Epoch 34/100\n",
      "34/34 [==============================] - 0s 706us/step - loss: 0.3456 - accuracy: 0.8741\n",
      "Epoch 35/100\n",
      "34/34 [==============================] - 0s 939us/step - loss: 0.3418 - accuracy: 0.8815\n",
      "Epoch 36/100\n",
      "34/34 [==============================] - 0s 1ms/step - loss: 0.3382 - accuracy: 0.8889\n",
      "Epoch 37/100\n",
      "34/34 [==============================] - 0s 941us/step - loss: 0.3352 - accuracy: 0.8889\n",
      "Epoch 38/100\n",
      "34/34 [==============================] - 0s 705us/step - loss: 0.3314 - accuracy: 0.8889\n",
      "Epoch 39/100\n",
      "34/34 [==============================] - 0s 705us/step - loss: 0.3277 - accuracy: 0.8889\n",
      "Epoch 40/100\n",
      "34/34 [==============================] - 0s 941us/step - loss: 0.3241 - accuracy: 0.8889\n",
      "Epoch 41/100\n",
      "34/34 [==============================] - 0s 706us/step - loss: 0.3216 - accuracy: 0.8963\n",
      "Epoch 42/100\n",
      "34/34 [==============================] - 0s 706us/step - loss: 0.3163 - accuracy: 0.8963\n",
      "Epoch 43/100\n",
      "34/34 [==============================] - 0s 706us/step - loss: 0.3137 - accuracy: 0.9037\n",
      "Epoch 44/100\n",
      "34/34 [==============================] - 0s 706us/step - loss: 0.3104 - accuracy: 0.9037\n",
      "Epoch 45/100\n",
      "34/34 [==============================] - 0s 706us/step - loss: 0.3065 - accuracy: 0.9037\n",
      "Epoch 46/100\n",
      "34/34 [==============================] - 0s 941us/step - loss: 0.3039 - accuracy: 0.9037\n",
      "Epoch 47/100\n",
      "34/34 [==============================] - 0s 705us/step - loss: 0.2998 - accuracy: 0.9111\n",
      "Epoch 48/100\n",
      "34/34 [==============================] - 0s 705us/step - loss: 0.2972 - accuracy: 0.9185\n",
      "Epoch 49/100\n",
      "34/34 [==============================] - 0s 941us/step - loss: 0.2930 - accuracy: 0.9185\n",
      "Epoch 50/100\n",
      "34/34 [==============================] - 0s 941us/step - loss: 0.2905 - accuracy: 0.9111\n",
      "Epoch 51/100\n",
      "34/34 [==============================] - 0s 706us/step - loss: 0.2873 - accuracy: 0.9185\n",
      "Epoch 52/100\n",
      "34/34 [==============================] - 0s 705us/step - loss: 0.2831 - accuracy: 0.9259\n",
      "Epoch 53/100\n",
      "34/34 [==============================] - 0s 705us/step - loss: 0.2804 - accuracy: 0.9259\n",
      "Epoch 54/100\n",
      "34/34 [==============================] - 0s 941us/step - loss: 0.2771 - accuracy: 0.9259\n",
      "Epoch 55/100\n",
      "34/34 [==============================] - 0s 941us/step - loss: 0.2737 - accuracy: 0.9259\n",
      "Epoch 56/100\n",
      "34/34 [==============================] - 0s 706us/step - loss: 0.2705 - accuracy: 0.9259\n",
      "Epoch 57/100\n",
      "34/34 [==============================] - 0s 706us/step - loss: 0.2680 - accuracy: 0.9259\n",
      "Epoch 58/100\n",
      "34/34 [==============================] - 0s 705us/step - loss: 0.2645 - accuracy: 0.9259\n",
      "Epoch 59/100\n",
      "34/34 [==============================] - 0s 706us/step - loss: 0.2618 - accuracy: 0.9259\n",
      "Epoch 60/100\n",
      "34/34 [==============================] - 0s 705us/step - loss: 0.2591 - accuracy: 0.9259\n",
      "Epoch 61/100\n",
      "34/34 [==============================] - 0s 706us/step - loss: 0.2564 - accuracy: 0.9259\n",
      "Epoch 62/100\n",
      "34/34 [==============================] - 0s 705us/step - loss: 0.2543 - accuracy: 0.9185\n",
      "Epoch 63/100\n",
      "34/34 [==============================] - 0s 941us/step - loss: 0.2504 - accuracy: 0.9259\n",
      "Epoch 64/100\n",
      "34/34 [==============================] - 0s 705us/step - loss: 0.2480 - accuracy: 0.9259\n",
      "Epoch 65/100\n",
      "34/34 [==============================] - 0s 706us/step - loss: 0.2448 - accuracy: 0.9333\n",
      "Epoch 66/100\n",
      "34/34 [==============================] - 0s 941us/step - loss: 0.2425 - accuracy: 0.9333\n",
      "Epoch 67/100\n",
      "34/34 [==============================] - 0s 706us/step - loss: 0.2393 - accuracy: 0.9333\n",
      "Epoch 68/100\n",
      "34/34 [==============================] - 0s 940us/step - loss: 0.2371 - accuracy: 0.9333\n",
      "Epoch 69/100\n",
      "34/34 [==============================] - 0s 941us/step - loss: 0.2343 - accuracy: 0.9333\n",
      "Epoch 70/100\n",
      "34/34 [==============================] - 0s 706us/step - loss: 0.2316 - accuracy: 0.9333\n",
      "Epoch 71/100\n",
      "34/34 [==============================] - 0s 941us/step - loss: 0.2293 - accuracy: 0.9333\n",
      "Epoch 72/100\n",
      "34/34 [==============================] - 0s 705us/step - loss: 0.2271 - accuracy: 0.9259\n",
      "Epoch 73/100\n",
      "34/34 [==============================] - 0s 706us/step - loss: 0.2253 - accuracy: 0.9333\n",
      "Epoch 74/100\n",
      "34/34 [==============================] - 0s 941us/step - loss: 0.2234 - accuracy: 0.9333\n",
      "Epoch 75/100\n",
      "34/34 [==============================] - 0s 940us/step - loss: 0.2209 - accuracy: 0.9333\n",
      "Epoch 76/100\n",
      "34/34 [==============================] - 0s 706us/step - loss: 0.2171 - accuracy: 0.9333\n",
      "Epoch 77/100\n",
      "34/34 [==============================] - 0s 706us/step - loss: 0.2152 - accuracy: 0.9333\n",
      "Epoch 78/100\n",
      "34/34 [==============================] - 0s 706us/step - loss: 0.2126 - accuracy: 0.9333\n",
      "Epoch 79/100\n",
      "34/34 [==============================] - 0s 706us/step - loss: 0.2108 - accuracy: 0.9333\n",
      "Epoch 80/100\n",
      "34/34 [==============================] - 0s 706us/step - loss: 0.2086 - accuracy: 0.9407\n",
      "Epoch 81/100\n",
      "34/34 [==============================] - 0s 941us/step - loss: 0.2063 - accuracy: 0.9407\n",
      "Epoch 82/100\n",
      "34/34 [==============================] - 0s 941us/step - loss: 0.2038 - accuracy: 0.9407\n",
      "Epoch 83/100\n",
      "34/34 [==============================] - 0s 706us/step - loss: 0.2020 - accuracy: 0.9407\n",
      "Epoch 84/100\n",
      "34/34 [==============================] - 0s 706us/step - loss: 0.2001 - accuracy: 0.9407\n",
      "Epoch 85/100\n",
      "34/34 [==============================] - 0s 706us/step - loss: 0.1984 - accuracy: 0.9407\n",
      "Epoch 86/100\n",
      "34/34 [==============================] - 0s 706us/step - loss: 0.1965 - accuracy: 0.9407\n",
      "Epoch 87/100\n",
      "34/34 [==============================] - 0s 706us/step - loss: 0.1950 - accuracy: 0.9407\n",
      "Epoch 88/100\n",
      "34/34 [==============================] - 0s 706us/step - loss: 0.1916 - accuracy: 0.9407\n",
      "Epoch 89/100\n",
      "34/34 [==============================] - 0s 706us/step - loss: 0.1903 - accuracy: 0.9407\n",
      "Epoch 90/100\n",
      "34/34 [==============================] - 0s 706us/step - loss: 0.1883 - accuracy: 0.9407\n",
      "Epoch 91/100\n",
      "34/34 [==============================] - 0s 705us/step - loss: 0.1860 - accuracy: 0.9407\n",
      "Epoch 92/100\n",
      "34/34 [==============================] - 0s 941us/step - loss: 0.1844 - accuracy: 0.9407\n",
      "Epoch 93/100\n",
      "34/34 [==============================] - 0s 707us/step - loss: 0.1830 - accuracy: 0.9407\n",
      "Epoch 94/100\n",
      "34/34 [==============================] - 0s 705us/step - loss: 0.1815 - accuracy: 0.9407\n",
      "Epoch 95/100\n",
      "34/34 [==============================] - 0s 706us/step - loss: 0.1786 - accuracy: 0.9407\n",
      "Epoch 96/100\n",
      "34/34 [==============================] - 0s 705us/step - loss: 0.1769 - accuracy: 0.9407\n",
      "Epoch 97/100\n",
      "34/34 [==============================] - 0s 706us/step - loss: 0.1754 - accuracy: 0.9407\n",
      "Epoch 98/100\n",
      "34/34 [==============================] - 0s 706us/step - loss: 0.1737 - accuracy: 0.9407\n",
      "Epoch 99/100\n",
      "34/34 [==============================] - 0s 705us/step - loss: 0.1722 - accuracy: 0.9407\n",
      "Epoch 100/100\n",
      "34/34 [==============================] - 0s 706us/step - loss: 0.1705 - accuracy: 0.9407\n"
     ]
    }
   ],
   "source": [
    "# make class predictions for the testing set\n",
    "model = create_model()\n",
    "model.fit(X_test, y_test,\n",
    "          batch_size=4,\n",
    "          epochs=100,\n",
    "          shuffle=True)\n",
    "y_pred = model.predict(X_test)"
   ]
  },
  {
   "cell_type": "code",
   "execution_count": 22,
   "id": "4a7a8c4b",
   "metadata": {},
   "outputs": [
    {
     "data": {
      "image/png": "[encoded data removed]",
      "text/plain": [
       "<Figure size 432x288 with 2 Axes>"
      ]
     },
     "metadata": {},
     "output_type": "display_data"
    }
   ],
   "source": [
    "from sklearn import metrics\n",
    "cnf_matrix = metrics.confusion_matrix(y_test, y_pred.round())\n",
    "p = sns.heatmap(pd.DataFrame(cnf_matrix), annot=True, cmap=\"YlGnBu\" ,fmt='g')\n",
    "sns.set(font_scale=1.2) # Adjust to fit\n",
    "plt.title('Neural Network', y=1.025)\n",
    "plt.ylabel('Actual Values')\n",
    "plt.xlabel('Predicted Values')\n",
    "plt.savefig('CM_NeuralNetwork_SaoLuis.png', dpi=600)"
   ]
  },
  {
   "cell_type": "code",
   "execution_count": 23,
   "id": "2fb1ae46",
   "metadata": {},
   "outputs": [
    {
     "name": "stdout",
     "output_type": "stream",
     "text": [
      "              precision    recall  f1-score   support\n",
      "\n",
      "           0       0.97      0.91      0.94        66\n",
      "           1       0.92      0.97      0.94        69\n",
      "\n",
      "    accuracy                           0.94       135\n",
      "   macro avg       0.94      0.94      0.94       135\n",
      "weighted avg       0.94      0.94      0.94       135\n",
      "\n"
     ]
    }
   ],
   "source": [
    "#import classification_report\n",
    "from sklearn.metrics import classification_report\n",
    "print(classification_report(y_test,y_pred.round()))"
   ]
  },
  {
   "cell_type": "code",
   "execution_count": 24,
   "id": "09f96d96",
   "metadata": {},
   "outputs": [],
   "source": [
    "from sklearn.metrics import roc_curve\n",
    "y_pred_proba = model.predict(X_test)[:,0]\n",
    "fpr, tpr, thresholds = roc_curve(y_test, y_pred_proba)"
   ]
  },
  {
   "cell_type": "code",
   "execution_count": 25,
   "id": "479f5c38",
   "metadata": {},
   "outputs": [
    {
     "data": {
      "image/png": "[encoded data removed]",
      "text/plain": [
       "<Figure size 432x288 with 1 Axes>"
      ]
     },
     "metadata": {},
     "output_type": "display_data"
    }
   ],
   "source": [
    "# histogram of predicted probabilities\n",
    "plt.hist(y_pred_proba, bins=8)\n",
    "plt.xlim(0, 1)\n",
    "plt.title('Histogram of predicted probabilities - Neural Network')\n",
    "plt.xlabel('Predicted probability - (São Luís) ')\n",
    "plt.ylabel('Frequency')\n",
    "plt.grid(False)\n",
    "plt.savefig('Histogram_NeuralNetwork_SaoLuis.png', dpi=600)"
   ]
  },
  {
   "cell_type": "code",
   "execution_count": 26,
   "id": "265c5d26",
   "metadata": {},
   "outputs": [
    {
     "data": {
      "image/png": "[encoded data removed]",
      "text/plain": [
       "<Figure size 432x288 with 1 Axes>"
      ]
     },
     "metadata": {},
     "output_type": "display_data"
    }
   ],
   "source": [
    "plt.plot([0,1],[0,1],'k--')\n",
    "plt.plot(fpr,tpr, label='Logistic')\n",
    "plt.xlabel('False Positive')\n",
    "plt.ylabel('True Positive')\n",
    "plt.title('Neural Network - ROC curve (São Luís)')\n",
    "plt.grid(False)\n",
    "sns.set_style(\"ticks\")\n",
    "plt.savefig('ROC_NeuralNetwork_SaoLuis.png', dpi=600)"
   ]
  },
  {
   "cell_type": "code",
   "execution_count": 27,
   "id": "7ab8926a",
   "metadata": {},
   "outputs": [
    {
     "data": {
      "text/plain": [
       "0.9938515590689504"
      ]
     },
     "execution_count": 27,
     "metadata": {},
     "output_type": "execute_result"
    }
   ],
   "source": [
    "#Area under ROC curve\n",
    "from sklearn.metrics import roc_auc_score\n",
    "roc_auc_score(y_test,y_pred_proba)"
   ]
  },
  {
   "cell_type": "code",
   "execution_count": 28,
   "id": "2c165fc2",
   "metadata": {},
   "outputs": [
    {
     "data": {
      "text/html": [
       "\n",
       "    <style>\n",
       "    table.eli5-weights tr:hover {\n",
       "        filter: brightness(85%);\n",
       "    }\n",
       "</style>\n",
       "\n",
       "\n",
       "\n",
       "    \n",
       "\n",
       "    \n",
       "\n",
       "    \n",
       "\n",
       "    \n",
       "\n",
       "    \n",
       "\n",
       "    \n",
       "\n",
       "\n",
       "    \n",
       "\n",
       "    \n",
       "\n",
       "    \n",
       "\n",
       "    \n",
       "\n",
       "    \n",
       "\n",
       "    \n",
       "\n",
       "\n",
       "    \n",
       "\n",
       "    \n",
       "\n",
       "    \n",
       "\n",
       "    \n",
       "\n",
       "    \n",
       "        <table class=\"eli5-weights eli5-feature-importances\" style=\"border-collapse: collapse; border: none; margin-top: 0em; table-layout: auto;\">\n",
       "    <thead>\n",
       "    <tr style=\"border: none;\">\n",
       "        <th style=\"padding: 0 1em 0 0.5em; text-align: right; border: none;\">Weight</th>\n",
       "        <th style=\"padding: 0 0.5em 0 0.5em; text-align: left; border: none;\">Feature</th>\n",
       "    </tr>\n",
       "    </thead>\n",
       "    <tbody>\n",
       "    \n",
       "        <tr style=\"background-color: hsl(120, 100.00%, 80.00%); border: none;\">\n",
       "            <td style=\"padding: 0 1em 0 0.5em; text-align: right; border: none;\">\n",
       "                0.1939\n",
       "                \n",
       "                    &plusmn; 0.0000\n",
       "                \n",
       "            </td>\n",
       "            <td style=\"padding: 0 0.5em 0 0.5em; text-align: left; border: none;\">\n",
       "                Price_sd\n",
       "            </td>\n",
       "        </tr>\n",
       "    \n",
       "        <tr style=\"background-color: hsl(120, 100.00%, 80.02%); border: none;\">\n",
       "            <td style=\"padding: 0 1em 0 0.5em; text-align: right; border: none;\">\n",
       "                0.1935\n",
       "                \n",
       "                    &plusmn; 0.0012\n",
       "                \n",
       "            </td>\n",
       "            <td style=\"padding: 0 0.5em 0 0.5em; text-align: left; border: none;\">\n",
       "                CV\n",
       "            </td>\n",
       "        </tr>\n",
       "    \n",
       "        <tr style=\"background-color: hsl(120, 100.00%, 80.06%); border: none;\">\n",
       "            <td style=\"padding: 0 1em 0 0.5em; text-align: right; border: none;\">\n",
       "                0.1931\n",
       "                \n",
       "                    &plusmn; 0.0009\n",
       "                \n",
       "            </td>\n",
       "            <td style=\"padding: 0 0.5em 0 0.5em; text-align: left; border: none;\">\n",
       "                SPD\n",
       "            </td>\n",
       "        </tr>\n",
       "    \n",
       "        <tr style=\"background-color: hsl(120, 100.00%, 93.31%); border: none;\">\n",
       "            <td style=\"padding: 0 1em 0 0.5em; text-align: right; border: none;\">\n",
       "                0.0405\n",
       "                \n",
       "                    &plusmn; 0.1220\n",
       "                \n",
       "            </td>\n",
       "            <td style=\"padding: 0 0.5em 0 0.5em; text-align: left; border: none;\">\n",
       "                Price_skewness\n",
       "            </td>\n",
       "        </tr>\n",
       "    \n",
       "        <tr style=\"background-color: hsl(0, 100.00%, 93.32%); border: none;\">\n",
       "            <td style=\"padding: 0 1em 0 0.5em; text-align: right; border: none;\">\n",
       "                -0.0404\n",
       "                \n",
       "                    &plusmn; 0.0581\n",
       "                \n",
       "            </td>\n",
       "            <td style=\"padding: 0 0.5em 0 0.5em; text-align: left; border: none;\">\n",
       "                Price_kurtosis\n",
       "            </td>\n",
       "        </tr>\n",
       "    \n",
       "    \n",
       "    </tbody>\n",
       "</table>\n",
       "    \n",
       "\n",
       "    \n",
       "\n",
       "\n",
       "    \n",
       "\n",
       "    \n",
       "\n",
       "    \n",
       "\n",
       "    \n",
       "\n",
       "    \n",
       "\n",
       "    \n",
       "\n",
       "\n",
       "\n"
      ],
      "text/plain": [
       "<IPython.core.display.HTML object>"
      ]
     },
     "execution_count": 28,
     "metadata": {},
     "output_type": "execute_result"
    }
   ],
   "source": [
    "import eli5\n",
    "from eli5.sklearn import PermutationImportance\n",
    "# max error measures the classification Error: Overall, how often is the classifier incorrect?\n",
    "perm = PermutationImportance(model, scoring='max_error', random_state=1).fit(X_test, y_test)\n",
    "eli5.show_weights(perm, feature_names = X_test.columns.tolist())"
   ]
  },
  {
   "cell_type": "code",
   "execution_count": 29,
   "id": "f05d4558",
   "metadata": {},
   "outputs": [
    {
     "name": "stdout",
     "output_type": "stream",
     "text": [
      "Feature: 0, Score: 0.19188\n",
      "Feature: 1, Score: 0.19377\n",
      "Feature: 2, Score: 0.19387\n",
      "Feature: 3, Score: 0.03156\n",
      "Feature: 4, Score: -0.06277\n"
     ]
    },
    {
     "data": {
      "image/png": "[encoded data removed]",
      "text/plain": [
       "<Figure size 432x288 with 1 Axes>"
      ]
     },
     "metadata": {},
     "output_type": "display_data"
    }
   ],
   "source": [
    "# perform permutation importance\n",
    "from sklearn.inspection import permutation_importance\n",
    "from matplotlib import pyplot\n",
    "\n",
    "results = permutation_importance(model, X_test, y_test, scoring='max_error',  n_repeats=100, random_state=1)\n",
    "# max error measures the classification Error: Overall, how often is the classifier incorrect?\n",
    "# get importance\n",
    "importance = results.importances_mean\n",
    "# summarize feature importance\n",
    "for i,v in enumerate(importance):\n",
    "\tprint('Feature: %0d, Score: %.5f' % (i,v))\n",
    "# plot feature importance\n",
    "pyplot.bar([x for x in range(len(importance))], importance)\n",
    "pyplot.show()\n",
    "\n",
    "#Feature 0: SPD\n",
    "#Feature 1: CV\n",
    "#Feature 2: Price_sd\n",
    "#Feature 3: Price_skewness\n",
    "#Feature 4: Price_kurtosis"
   ]
  },
  {
   "cell_type": "code",
   "execution_count": 30,
   "id": "c8a0e787",
   "metadata": {},
   "outputs": [],
   "source": [
    "# define a function that accepts a threshold and prints sensitivity and specificity\n",
    "def evaluate_threshold(threshold):\n",
    "    print('Sensitivity:', tpr[thresholds > threshold][-1])\n",
    "    print('Especificity:', 1 - fpr[thresholds > threshold][-1])"
   ]
  },
  {
   "cell_type": "code",
   "execution_count": 31,
   "id": "5fbfe692",
   "metadata": {},
   "outputs": [
    {
     "name": "stdout",
     "output_type": "stream",
     "text": [
      "Sensitividade: 0.9710144927536232\n",
      "Especificidade: 0.9090909090909091\n"
     ]
    }
   ],
   "source": [
    "evaluate_threshold(0.5)"
   ]
  },
  {
   "cell_type": "code",
   "execution_count": 32,
   "id": "7f82f26f",
   "metadata": {},
   "outputs": [
    {
     "name": "stdout",
     "output_type": "stream",
     "text": [
      "Sensitividade: 0.9710144927536232\n",
      "Especificidade: 0.9393939393939394\n"
     ]
    }
   ],
   "source": [
    "evaluate_threshold(0.6)"
   ]
  },
  {
   "cell_type": "code",
   "execution_count": 33,
   "id": "8958df8f",
   "metadata": {},
   "outputs": [
    {
     "name": "stdout",
     "output_type": "stream",
     "text": [
      "Sensitividade: 0.927536231884058\n",
      "Especificidade: 0.9545454545454546\n"
     ]
    }
   ],
   "source": [
    "evaluate_threshold(0.7)"
   ]
  },
  {
   "cell_type": "code",
   "execution_count": 34,
   "id": "16599942",
   "metadata": {},
   "outputs": [
    {
     "name": "stdout",
     "output_type": "stream",
     "text": [
      "Sensitividade: 0.855072463768116\n",
      "Especificidade: 0.9848484848484849\n"
     ]
    }
   ],
   "source": [
    "evaluate_threshold(0.8)"
   ]
  },
  {
   "cell_type": "code",
   "execution_count": 35,
   "id": "9a4099df",
   "metadata": {},
   "outputs": [
    {
     "name": "stdout",
     "output_type": "stream",
     "text": [
      "Sensitividade: 0.014492753623188406\n",
      "Especificidade: 1.0\n"
     ]
    }
   ],
   "source": [
    "evaluate_threshold(0.9)"
   ]
  },
  {
   "cell_type": "code",
   "execution_count": 36,
   "id": "1b347f95",
   "metadata": {},
   "outputs": [
    {
     "name": "stdout",
     "output_type": "stream",
     "text": [
      "Sensitividade: 0.014492753623188406\n",
      "Especificidade: 1.0\n"
     ]
    }
   ],
   "source": [
    "evaluate_threshold(0.99)"
   ]
  }
 ],
 "metadata": {
  "kernelspec": {
   "display_name": "Python 3",
   "language": "python",
   "name": "python3"
  },
  "language_info": {
   "codemirror_mode": {
    "name": "ipython",
    "version": 3
   },
   "file_extension": ".py",
   "mimetype": "text/x-python",
   "name": "python",
   "nbconvert_exporter": "python",
   "pygments_lexer": "ipython3",
   "version": "3.8.8"
  }
 },
 "nbformat": 4,
 "nbformat_minor": 5
}
