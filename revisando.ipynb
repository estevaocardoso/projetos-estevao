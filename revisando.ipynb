{
 "cells": [
  {
   "cell_type": "code",
   "execution_count": 3,
   "metadata": {},
   "outputs": [
    {
     "name": "stdout",
     "output_type": "stream",
     "text": [
      "O cardápio hoje é arroz\n"
     ]
    }
   ],
   "source": [
    "item_menu = \"arroz\"\n",
    "\n",
    "print (f\"O cardápio hoje é {item_menu}\")\n"
   ]
  },
  {
   "cell_type": "code",
   "execution_count": 7,
   "metadata": {},
   "outputs": [
    {
     "data": {
      "text/plain": [
       "int"
      ]
     },
     "execution_count": 7,
     "metadata": {},
     "output_type": "execute_result"
    }
   ],
   "source": [
    "item = \"arroz\"\n",
    "age = 15\n",
    "actual_age = 15.5\n",
    "\n",
    "type(age)"
   ]
  },
  {
   "cell_type": "code",
   "execution_count": 10,
   "metadata": {},
   "outputs": [
    {
     "name": "stdout",
     "output_type": "stream",
     "text": [
      "the Manchester City has Pepe Guardiola as its coach and it is  located at the city of Manchester\n"
     ]
    }
   ],
   "source": [
    "club = input(\"type the club's name: \")\n",
    "coach = input(\"type the coach's name\")\n",
    "city = input(\"type the city's name\")\n",
    "\n",
    "print(f\"the {club} has {coach} as its coach and it is  located at the city of {city}\")"
   ]
  },
  {
   "cell_type": "code",
   "execution_count": 22,
   "metadata": {},
   "outputs": [
    {
     "data": {
      "text/plain": [
       "['KDB', 'EHL', 'BSL', 'FOLD']"
      ]
     },
     "execution_count": 22,
     "metadata": {},
     "output_type": "execute_result"
    }
   ],
   "source": [
    "list = ['KDB', 'EHL', 'BSL']\n",
    "list.append('FOLD')\n",
    "list"
   ]
  },
  {
   "cell_type": "code",
   "execution_count": 27,
   "metadata": {},
   "outputs": [],
   "source": [
    "del(list)"
   ]
  },
  {
   "cell_type": "code",
   "execution_count": 28,
   "metadata": {},
   "outputs": [],
   "source": [
    "tupla = (1, 2, 3, 4, 5)\n",
    "lista = list(tupla)\n",
    "serie = list(range(200, 5000))"
   ]
  },
  {
   "cell_type": "code",
   "execution_count": 30,
   "metadata": {},
   "outputs": [],
   "source": [
    "phrase = \"the manchester city club has been scouting new players around the globe, especially in south america region given the recent good players who came up from that\""
   ]
  },
  {
   "cell_type": "code",
   "execution_count": 32,
   "metadata": {},
   "outputs": [
    {
     "name": "stdout",
     "output_type": "stream",
     "text": [
      "['the', 'manchester', 'city', 'club', 'has', 'been', 'scouting', 'new', 'players', 'around', 'the', 'globe,', 'especially', 'in', 'south', 'america', 'region', 'given', 'the', 'recent', 'good', 'players', 'who', 'came', 'up', 'from', 'that']\n"
     ]
    }
   ],
   "source": [
    "list_phrase = phrase.split(sep=' ')\n",
    "print(list_phrase)"
   ]
  },
  {
   "cell_type": "code",
   "execution_count": 57,
   "metadata": {},
   "outputs": [
    {
     "name": "stdout",
     "output_type": "stream",
     "text": [
      "['Manchester CIty', 'Liverpool', 'Barcelona', 'Chelsea', 'Arsenal', 'New Castle', 'Flamengo', 'Grêmio', 'Palmeiras', 'Cruzeiro']\n"
     ]
    }
   ],
   "source": [
    "clubs: list[str] = ['Manchester CIty', 'Liverpool', 'Barcelona', 'Chelsea', 'Arsenal', 'New Castle']\n",
    "clubs_copy: list[str] = clubs.copy()\n",
    "brazilian_clubs: list[str] = ['Flamengo', 'Grêmio', 'Palmeiras', 'Cruzeiro']\n",
    "\n",
    "clubs.extend(brazilian_clubs)\n",
    "print(clubs)"
   ]
  },
  {
   "cell_type": "code",
   "execution_count": 62,
   "metadata": {},
   "outputs": [
    {
     "name": "stdout",
     "output_type": "stream",
     "text": [
      "['Manchester CIty', 'Barcelona', 'Chelsea', 'Arsenal', 'New Castle', 'Flamengo', 'Grêmio', 'Palmeiras', 'Cruzeiro', 'Bayern', 'Juventus', 'Real Madrid', 'São Paulo', 'Vitória', 'Santos']\n"
     ]
    }
   ],
   "source": [
    "other_clubs: list[str] = ['Bayern', 'Juventus', 'Real Madrid', 'São Paulo', 'Vitória', 'Santos']\n",
    "\n",
    "clubs.extend(other_clubs)\n",
    "print(clubs)\n",
    "\n"
   ]
  },
  {
   "cell_type": "code",
   "execution_count": 68,
   "metadata": {},
   "outputs": [
    {
     "name": "stdout",
     "output_type": "stream",
     "text": [
      "Manchester CIty\n",
      "Barcelona\n",
      "Chelsea\n",
      "Arsenal\n",
      "New Castle\n",
      "Flamengo\n",
      "Grêmio\n",
      "Palmeiras\n",
      "Cruzeiro\n",
      "Bayern\n",
      "Juventus\n",
      "Real Madrid\n",
      "São Paulo\n",
      "Vitória\n",
      "Santos\n"
     ]
    },
    {
     "data": {
      "text/plain": [
       "[None,\n",
       " None,\n",
       " None,\n",
       " None,\n",
       " None,\n",
       " None,\n",
       " None,\n",
       " None,\n",
       " None,\n",
       " None,\n",
       " None,\n",
       " None,\n",
       " None,\n",
       " None,\n",
       " None]"
      ]
     },
     "execution_count": 68,
     "metadata": {},
     "output_type": "execute_result"
    }
   ],
   "source": [
    "[print(club) for club in clubs] "
   ]
  }
 ],
 "metadata": {
  "kernelspec": {
   "display_name": "Python 3",
   "language": "python",
   "name": "python3"
  },
  "language_info": {
   "codemirror_mode": {
    "name": "ipython",
    "version": 3
   },
   "file_extension": ".py",
   "mimetype": "text/x-python",
   "name": "python",
   "nbconvert_exporter": "python",
   "pygments_lexer": "ipython3",
   "version": "3.11.3"
  }
 },
 "nbformat": 4,
 "nbformat_minor": 2
}
