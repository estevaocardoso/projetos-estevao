{
 "cells": [
  {
   "cell_type": "code",
   "execution_count": 3,
   "metadata": {},
   "outputs": [
    {
     "name": "stdout",
     "output_type": "stream",
     "text": [
      "O cardápio hoje é arroz\n"
     ]
    }
   ],
   "source": [
    "item_menu = \"arroz\"\n",
    "\n",
    "print (f\"O cardápio hoje é {item_menu}\")\n"
   ]
  },
  {
   "cell_type": "code",
   "execution_count": 7,
   "metadata": {},
   "outputs": [
    {
     "data": {
      "text/plain": [
       "int"
      ]
     },
     "execution_count": 7,
     "metadata": {},
     "output_type": "execute_result"
    }
   ],
   "source": [
    "item = \"arroz\"\n",
    "age = 15\n",
    "actual_age = 15.5\n",
    "\n",
    "type(age)"
   ]
  },
  {
   "cell_type": "code",
   "execution_count": 10,
   "metadata": {},
   "outputs": [
    {
     "name": "stdout",
     "output_type": "stream",
     "text": [
      "the Manchester City has Pepe Guardiola as its coach and it is  located at the city of Manchester\n"
     ]
    }
   ],
   "source": [
    "club = input(\"type the club's name: \")\n",
    "coach = input(\"type the coach's name\")\n",
    "city = input(\"type the city's name\")\n",
    "\n",
    "print(f\"the {club} has {coach} as its coach and it is  located at the city of {city}\")"
   ]
  },
  {
   "cell_type": "code",
   "execution_count": 22,
   "metadata": {},
   "outputs": [
    {
     "data": {
      "text/plain": [
       "['KDB', 'EHL', 'BSL', 'FOLD']"
      ]
     },
     "execution_count": 22,
     "metadata": {},
     "output_type": "execute_result"
    }
   ],
   "source": [
    "list = ['KDB', 'EHL', 'BSL']\n",
    "list.append('FOLD')\n",
    "list"
   ]
  },
  {
   "cell_type": "code",
   "execution_count": 27,
   "metadata": {},
   "outputs": [],
   "source": [
    "del(list)"
   ]
  },
  {
   "cell_type": "code",
   "execution_count": 28,
   "metadata": {},
   "outputs": [],
   "source": [
    "tupla = (1, 2, 3, 4, 5)\n",
    "lista = list(tupla)\n",
    "serie = list(range(200, 5000))"
   ]
  },
  {
   "cell_type": "code",
   "execution_count": 30,
   "metadata": {},
   "outputs": [],
   "source": [
    "phrase = \"the manchester city club has been scouting new players around the globe, especially in south america region given the recent good players who came up from that\""
   ]
  },
  {
   "cell_type": "code",
   "execution_count": 32,
   "metadata": {},
   "outputs": [
    {
     "name": "stdout",
     "output_type": "stream",
     "text": [
      "['the', 'manchester', 'city', 'club', 'has', 'been', 'scouting', 'new', 'players', 'around', 'the', 'globe,', 'especially', 'in', 'south', 'america', 'region', 'given', 'the', 'recent', 'good', 'players', 'who', 'came', 'up', 'from', 'that']\n"
     ]
    }
   ],
   "source": [
    "list_phrase = phrase.split(sep=' ')\n",
    "print(list_phrase)"
   ]
  },
  {
   "cell_type": "code",
   "execution_count": 17,
   "metadata": {},
   "outputs": [
    {
     "name": "stdout",
     "output_type": "stream",
     "text": [
      "['Manchester CIty', 'Liverpool', 'Barcelona', 'Chelsea', 'Arsenal', 'New Castle', 'Flamengo', 'Grêmio', 'Palmeiras', 'Cruzeiro']\n"
     ]
    }
   ],
   "source": [
    "clubs: list[str] = ['Manchester CIty', 'Liverpool', 'Barcelona', 'Chelsea', 'Arsenal', 'New Castle']\n",
    "clubs_copy: list[str] = clubs.copy()\n",
    "brazilian_clubs: list[str] = ['Flamengo', 'Grêmio', 'Palmeiras', 'Cruzeiro']\n",
    "\n",
    "clubs.extend(brazilian_clubs)\n",
    "print(clubs)"
   ]
  },
  {
   "cell_type": "code",
   "execution_count": 18,
   "metadata": {},
   "outputs": [
    {
     "name": "stdout",
     "output_type": "stream",
     "text": [
      "['Manchester CIty', 'Liverpool', 'Barcelona', 'Chelsea', 'Arsenal', 'New Castle', 'Flamengo', 'Grêmio', 'Palmeiras', 'Cruzeiro', 'Bayern', 'Juventus', 'Real Madrid', 'São Paulo', 'Vitória', 'Santos']\n"
     ]
    }
   ],
   "source": [
    "other_clubs: list[str] = ['Bayern', 'Juventus', 'Real Madrid', 'São Paulo', 'Vitória', 'Santos']\n",
    "\n",
    "clubs.extend(other_clubs)\n",
    "print(clubs)\n",
    "\n"
   ]
  },
  {
   "cell_type": "code",
   "execution_count": 4,
   "metadata": {},
   "outputs": [
    {
     "name": "stdout",
     "output_type": "stream",
     "text": [
      "['MANCHESTER CITY', 'LIVERPOOL', 'BARCELONA', 'CHELSEA', 'ARSENAL', 'NEW CASTLE', 'FLAMENGO', 'GRÊMIO', 'PALMEIRAS', 'CRUZEIRO', 'BAYERN', 'JUVENTUS', 'REAL MADRID', 'SÃO PAULO', 'VITÓRIA', 'SANTOS']\n"
     ]
    }
   ],
   "source": [
    "upper_club = []\n",
    "for club in clubs:\n",
    "    club = club.upper()\n",
    "    upper_club.append(club)\n",
    "print(upper_club)\n"
   ]
  },
  {
   "cell_type": "code",
   "execution_count": 7,
   "metadata": {},
   "outputs": [
    {
     "name": "stdout",
     "output_type": "stream",
     "text": [
      "['MANCHESTER CITY', 'LIVERPOOL', 'BARCELONA', 'CHELSEA', 'ARSENAL', 'NEW CASTLE', 'FLAMENGO', 'GRÊMIO', 'PALMEIRAS', 'CRUZEIRO', 'BAYERN', 'JUVENTUS', 'REAL MADRID', 'SÃO PAULO', 'VITÓRIA', 'SANTOS']\n"
     ]
    }
   ],
   "source": [
    "upper_club = [club.upper() for club in clubs ]\n",
    "print(upper_club)"
   ]
  },
  {
   "cell_type": "code",
   "execution_count": 15,
   "metadata": {},
   "outputs": [
    {
     "name": "stdout",
     "output_type": "stream",
     "text": [
      "Manchester   C Ity Liverpool Barcelona Chelsea Arsenal New   Castle Flamengo Grêmio Palmeiras Cruzeiro Bayern Juventus Real   Madrid São   Paulo Vitória Santos\n"
     ]
    }
   ],
   "source": [
    "new_clubbs = ''.join([i if i.islower() else \" \" + i for i in clubs])[1:]\n",
    "print(new_clubbs)"
   ]
  },
  {
   "cell_type": "code",
   "execution_count": 20,
   "metadata": {},
   "outputs": [
    {
     "name": "stdout",
     "output_type": "stream",
     "text": [
      "['Manchester CIty', 'Liverpool', 'Barcelona', 'Chelsea', 'Arsenal', 'New Castle', 'Flamengo', 'Grêmio', 'Palmeiras', 'Cruzeiro', 'Bayern', 'Juventus', 'Real Madrid', 'São Paulo', 'Vitória', 'Santos']\n"
     ]
    }
   ],
   "source": [
    "clubs.reverse()\n"
   ]
  },
  {
   "cell_type": "code",
   "execution_count": 71,
   "metadata": {},
   "outputs": [],
   "source": [
    "club_dict = {\n",
    "    'Arsenal': 'Havertz',\n",
    "    'City': 'Debruine',\n",
    "    'Chelsea': 'Thiago Silva',\n",
    "    'Manchester U': 'Antony',\n",
    "    'Barcelona': 'Pedri',\n",
    "    'New Castle': 'Paqueta',\n",
    "    'Real Madrid': 'Vini Junior',\n",
    "    'Bayers': 'Kane',\n",
    "    'Borusia': 'Reus',\n",
    "    'PSG': 'Mbappe'\n",
    "    }\n"
   ]
  },
  {
   "cell_type": "code",
   "execution_count": 35,
   "metadata": {},
   "outputs": [
    {
     "name": "stdout",
     "output_type": "stream",
     "text": [
      "{'Arsenal': 'Havertz', 'City': 'Debruine', 'Chelsea': 'Thiago Silva', 'Manchester U': 'Antony', 'Barcelona': 'Pedri', 'New Castle': 'Paqueta', 'Real Madrid': 'Vini Junior', 'Bayers': 'Kane', 'Borusia': 'Reus', 'PSG': 'Mbappe'}\n"
     ]
    }
   ],
   "source": [
    "print(club_dict)"
   ]
  },
  {
   "cell_type": "code",
   "execution_count": 42,
   "metadata": {},
   "outputs": [
    {
     "name": "stdout",
     "output_type": "stream",
     "text": [
      "{'Arsenal Footbal Club': 'Havertz Player', 'City Footbal Club': 'Debruine Player', 'Chelsea Footbal Club': 'Thiago Silva Player', 'Manchester U Footbal Club': 'Antony Player', 'Barcelona Footbal Club': 'Pedri Player', 'New Castle Footbal Club': 'Paqueta Player', 'Real Madrid Footbal Club': 'Vini Junior Player', 'Bayers Footbal Club': 'Kane Player', 'Borusia Footbal Club': 'Reus Player', 'PSG Footbal Club': 'Mbappe Player'}\n"
     ]
    }
   ],
   "source": [
    "club_dict = {key+' Footbal Club':value+' Player' for (key, value) in club_dict.items()}\n",
    "print(club_dict)"
   ]
  },
  {
   "cell_type": "code",
   "execution_count": 68,
   "metadata": {},
   "outputs": [],
   "source": [
    "club_dict = {key:(value if value != 'Havertz Player' else 'Kai Havertz') for(key, value) in club_dict.items()}\n"
   ]
  },
  {
   "cell_type": "code",
   "execution_count": 73,
   "metadata": {},
   "outputs": [],
   "source": [
    "clubs = list(club_dict.keys())\n",
    "players = list(club_dict.values())"
   ]
  },
  {
   "cell_type": "code",
   "execution_count": 59,
   "metadata": {},
   "outputs": [],
   "source": [
    "import random"
   ]
  },
  {
   "cell_type": "code",
   "execution_count": 81,
   "metadata": {},
   "outputs": [
    {
     "data": {
      "text/plain": [
       "[('Reus', 'Borusia'),\n",
       " ('Kane', 'Bayers'),\n",
       " ('Paqueta', 'New Castle'),\n",
       " ('Havertz', 'Arsenal'),\n",
       " ('Vini Junior', 'Real Madrid'),\n",
       " ('Paqueta', 'New Castle'),\n",
       " ('Havertz', 'Arsenal'),\n",
       " ('Pedri', 'Barcelona'),\n",
       " ('Paqueta', 'New Castle'),\n",
       " ('Havertz', 'Arsenal'),\n",
       " ('Reus', 'Borusia'),\n",
       " ('Antony', 'Manchester U'),\n",
       " ('Mbappe', 'PSG'),\n",
       " ('Debruine', 'City'),\n",
       " ('Mbappe', 'PSG'),\n",
       " ('Thiago Silva', 'Chelsea'),\n",
       " ('Thiago Silva', 'Chelsea'),\n",
       " ('Thiago Silva', 'Chelsea'),\n",
       " ('Antony', 'Manchester U'),\n",
       " ('Kane', 'Bayers'),\n",
       " ('Reus', 'Borusia'),\n",
       " ('Havertz', 'Arsenal'),\n",
       " ('Mbappe', 'PSG'),\n",
       " ('Kane', 'Bayers'),\n",
       " ('Thiago Silva', 'Chelsea'),\n",
       " ('Debruine', 'City'),\n",
       " ('Vini Junior', 'Real Madrid'),\n",
       " ('Havertz', 'Arsenal'),\n",
       " ('Havertz', 'Arsenal'),\n",
       " ('Havertz', 'Arsenal'),\n",
       " ('Pedri', 'Barcelona'),\n",
       " ('Pedri', 'Barcelona'),\n",
       " ('Antony', 'Manchester U'),\n",
       " ('Antony', 'Manchester U'),\n",
       " ('Havertz', 'Arsenal'),\n",
       " ('Reus', 'Borusia'),\n",
       " ('Havertz', 'Arsenal'),\n",
       " ('Antony', 'Manchester U'),\n",
       " ('Antony', 'Manchester U'),\n",
       " ('Pedri', 'Barcelona'),\n",
       " ('Reus', 'Borusia'),\n",
       " ('Vini Junior', 'Real Madrid'),\n",
       " ('Reus', 'Borusia'),\n",
       " ('Kane', 'Bayers'),\n",
       " ('Pedri', 'Barcelona'),\n",
       " ('Thiago Silva', 'Chelsea'),\n",
       " ('Reus', 'Borusia'),\n",
       " ('Havertz', 'Arsenal'),\n",
       " ('Mbappe', 'PSG'),\n",
       " ('Paqueta', 'New Castle')]"
      ]
     },
     "execution_count": 81,
     "metadata": {},
     "output_type": "execute_result"
    }
   ],
   "source": [
    "\n",
    "clubs_list = random.choices(clubs, k = 50)\n",
    "pairs_clubs_players = [(club_dict[club], club) for club in clubs_list]\n",
    "pairs_clubs_players"
   ]
  },
  {
   "cell_type": "code",
   "execution_count": 79,
   "metadata": {},
   "outputs": [
    {
     "data": {
      "text/plain": [
       "'Havertz'"
      ]
     },
     "execution_count": 79,
     "metadata": {},
     "output_type": "execute_result"
    }
   ],
   "source": [
    "club_dict['Arsenal']"
   ]
  }
 ],
 "metadata": {
  "kernelspec": {
   "display_name": "Python 3",
   "language": "python",
   "name": "python3"
  },
  "language_info": {
   "codemirror_mode": {
    "name": "ipython",
    "version": 3
   },
   "file_extension": ".py",
   "mimetype": "text/x-python",
   "name": "python",
   "nbconvert_exporter": "python",
   "pygments_lexer": "ipython3",
   "version": "3.11.3"
  }
 },
 "nbformat": 4,
 "nbformat_minor": 2
}
