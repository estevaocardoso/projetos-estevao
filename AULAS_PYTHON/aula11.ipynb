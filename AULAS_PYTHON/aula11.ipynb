{
 "cells": [
  {
   "cell_type": "markdown",
   "metadata": {},
   "source": [
    "#  Aula 11: Machine Learning (Cont...)"
   ]
  },
  {
   "cell_type": "markdown",
   "metadata": {},
   "source": [
    "A base de dados 20 Newsgroups é uma coleção de, aproximadamente, 20 mil documentos com textos de notícias, distribuídas igualmente entre 20 tipos de tópicos.\n",
    "\n",
    "Alguns dos tópicos são bastante similares como, por exemplo, comp.sys.ibm.pc.hardware e comp.sys.mac.hardware. Outros são bem destintos (misc.forsale e soc.religion.christian). Abaixo segue a lista completa dos 20 tópicos\n",
    "\n",
    "``comp.graphics\n",
    "comp.os.ms-windows.misc\n",
    "comp.sys.ibm.pc.hardware\n",
    "comp.sys.mac.hardware\n",
    "comp.windows.x\t\n",
    "rec.autos\n",
    "rec.motorcycles\n",
    "rec.sport.baseball\n",
    "rec.sport.hockey\t\n",
    "sci.crypt\n",
    "sci.electronics\n",
    "sci.med\n",
    "sci.space\n",
    "misc.forsale\t\n",
    "talk.politics.misc\n",
    "talk.politics.guns\n",
    "talk.politics.mideast\t\n",
    "talk.religion.misc\n",
    "alt.atheism\n",
    "soc.religion.christian``\n",
    "\n",
    "Como exemplo, podemos ver abaixo um desses textos:"
   ]
  },
  {
   "cell_type": "markdown",
   "metadata": {},
   "source": [
    "### comp.sys.mac.hardware\n",
    "\n",
    "From: narlochn@kirk.msoe.edu\n",
    "\n",
    "Subject: General questions on software and hardware...\n",
    "\n",
    "Distribution: usa\n",
    "\n",
    "Organization: Milwaukee School Of Engineering, Milwaukee, WI USA\n",
    "\n",
    "Lines: 18\n",
    "\n",
    "I have just been introduced to Macintosh systems.\n",
    "I have a few questions.  E-mail prefered.\n",
    "\n",
    "1) Just what is System 7?  I want hard details not dingy commercials like their ads in magazines...\n",
    "\n",
    "2) Has anyone used the Microsoft Office 3.0?  I would like suggestions on, and descriptions on:\n",
    "\n",
    "* each has a microsoft before the actual name.\n",
    "\n",
    "a) *Word 5.1:\n",
    "\n",
    "b) *Excel 4.0:\n",
    "\n",
    "c) *Power Point:\n",
    "\n",
    "d) *Mail 3.1\n",
    "\n",
    "3)  What is the major differences between Mac Wordperfect and Word?\n",
    "\n",
    "Thanks a lot!\n",
    "\n",
    "\n",
    "### rec.sport.baseball\n",
    "\n",
    "From: zappala@pollux.usc.edu (Daniel Zappala)\n",
    "\n",
    "Subject: Angels win!\n",
    "\n",
    "Article-I.D.: pollux.1psvouINNa2l\n",
    "\n",
    "Distribution: world\n",
    "\n",
    "Organization: University of Southern California, Los Angeles, CA\n",
    "\n",
    "Lines: 6\n",
    "\n",
    "NNTP-Posting-Host: pollux.usc.edu\n",
    "\n",
    "\n",
    "The Angels won their home opener against the Brewers today before 33,000+ \n",
    "at Anaheim Stadium, 3-1 on a 3-hitter by Mark Langston.  J.T. Snow and \n",
    "Gary Discarcina hit home runs for the Angels.\n",
    "\n",
    "Daniel"
   ]
  },
  {
   "cell_type": "markdown",
   "metadata": {},
   "source": [
    "### Objetivo:\n",
    "\n",
    "Montar um modelo de Machine learning para prever em qual dos 20 grupos um novo texto pertence. "
   ]
  },
  {
   "cell_type": "code",
   "execution_count": 1,
   "metadata": {},
   "outputs": [],
   "source": [
    "import json\n",
    "import logging\n",
    "import pickle\n",
    "import shutil\n",
    "import re\n",
    "import codecs\n",
    "import csv\n",
    "import os, errno\n",
    "import tarfile\n",
    "import time\n",
    "import sys\n",
    "import numpy as np\n",
    "import pandas as pd\n",
    "import scipy.sparse as sp\n",
    "from pprint import pprint\n",
    "from random import shuffle\n",
    "import unicodedata"
   ]
  },
  {
   "cell_type": "code",
   "execution_count": 2,
   "metadata": {},
   "outputs": [
    {
     "data": {
      "text/plain": [
       "['9', '9', '5', '3', '7', '8', '1', '2', '9']"
      ]
     },
     "execution_count": 2,
     "metadata": {},
     "output_type": "execute_result"
    }
   ],
   "source": [
    "texto = \"bla Bla Bla 995378129\"\n",
    "t = re.compile(r'[0-9]')\n",
    "t.findall(texto)"
   ]
  },
  {
   "cell_type": "code",
   "execution_count": null,
   "metadata": {},
   "outputs": [],
   "source": []
  },
  {
   "cell_type": "code",
   "execution_count": 22,
   "metadata": {},
   "outputs": [],
   "source": [
    "from sklearn.feature_extraction.text import CountVectorizer\n",
    "from sklearn.feature_extraction.text import TfidfTransformer\n",
    "from sklearn.naive_bayes import MultinomialNB\n",
    "from sklearn.pipeline import Pipeline\n",
    "from sklearn.linear_model import SGDClassifier\n",
    "from sklearn.model_selection import GridSearchCV\n",
    "from sklearn.datasets import load_files\n",
    "from sklearn import preprocessing\n",
    "from sklearn.preprocessing import LabelEncoder\n",
    "import joblib"
   ]
  },
  {
   "cell_type": "code",
   "execution_count": 3,
   "metadata": {},
   "outputs": [],
   "source": [
    "from itertools import islice"
   ]
  },
  {
   "cell_type": "code",
   "execution_count": null,
   "metadata": {},
   "outputs": [],
   "source": []
  },
  {
   "cell_type": "code",
   "execution_count": 11,
   "metadata": {},
   "outputs": [],
   "source": [
    "cache = {\"train\": {'target': [], 'DESCR': [], 'target_names': [], 'data': [], 'filenames': []} , \n",
    "         \"test\": {'target': [], 'DESCR': [], 'target_names': [], 'data': [], 'filenames': []}}"
   ]
  },
  {
   "cell_type": "code",
   "execution_count": 12,
   "metadata": {},
   "outputs": [
    {
     "data": {
      "text/plain": [
       "2"
      ]
     },
     "execution_count": 12,
     "metadata": {},
     "output_type": "execute_result"
    }
   ],
   "source": [
    "len(cache)"
   ]
  },
  {
   "cell_type": "code",
   "execution_count": 13,
   "metadata": {},
   "outputs": [],
   "source": [
    "data_train = cache['train']\n",
    "data_test = cache['test']"
   ]
  },
  {
   "cell_type": "code",
   "execution_count": 14,
   "metadata": {},
   "outputs": [
    {
     "name": "stdout",
     "output_type": "stream",
     "text": [
      "['target', 'DESCR', 'target_names', 'data', 'filenames']\n",
      "\n",
      "\n",
      "['target', 'DESCR', 'target_names', 'data', 'filenames']\n"
     ]
    }
   ],
   "source": [
    "print(list(data_train))\n",
    "print(\"\\n\")\n",
    "print(list(data_test))"
   ]
  },
  {
   "cell_type": "code",
   "execution_count": 15,
   "metadata": {},
   "outputs": [
    {
     "data": {
      "text/plain": [
       "[]"
      ]
     },
     "execution_count": 15,
     "metadata": {},
     "output_type": "execute_result"
    }
   ],
   "source": [
    "data_train[\"target\"]"
   ]
  },
  {
   "cell_type": "code",
   "execution_count": 16,
   "metadata": {},
   "outputs": [
    {
     "data": {
      "text/plain": [
       "[]"
      ]
     },
     "execution_count": 16,
     "metadata": {},
     "output_type": "execute_result"
    }
   ],
   "source": [
    "data_train[\"target_names\"]"
   ]
  },
  {
   "cell_type": "code",
   "execution_count": 17,
   "metadata": {
    "tags": []
   },
   "outputs": [
    {
     "data": {
      "text/plain": [
       "[]"
      ]
     },
     "execution_count": 17,
     "metadata": {},
     "output_type": "execute_result"
    }
   ],
   "source": [
    "data_train[\"data\"]"
   ]
  },
  {
   "cell_type": "code",
   "execution_count": 18,
   "metadata": {
    "tags": []
   },
   "outputs": [
    {
     "data": {
      "text/plain": [
       "[]"
      ]
     },
     "execution_count": 18,
     "metadata": {},
     "output_type": "execute_result"
    }
   ],
   "source": [
    "data_train[\"filenames\"]"
   ]
  },
  {
   "cell_type": "code",
   "execution_count": null,
   "metadata": {},
   "outputs": [],
   "source": []
  },
  {
   "cell_type": "markdown",
   "metadata": {},
   "source": [
    "Podemos ler os arquivos a partir de duas pastas. Uma contendo arquivos para treinamento e outra contendo os arquivos para a validação do nosso modelo."
   ]
  },
  {
   "cell_type": "code",
   "execution_count": 19,
   "metadata": {},
   "outputs": [],
   "source": [
    "data_home = \"/Users/gustavorsampaio/Documents/Cursos/Python 2022.2/Aulas/20news-bydate/\"\n",
    "TRAIN_FOLDER = \"/Users/gustavorsampaio/Documents/Cursos/Python 2022.2/Aulas/20news-bydate/20news-bydate-train\"\n",
    "TEST_FOLDER = \"/Users/gustavorsampaio/Documents/Cursos/Python 2022.2/Aulas/20news-bydate/20news-bydate-test\""
   ]
  },
  {
   "cell_type": "code",
   "execution_count": 20,
   "metadata": {},
   "outputs": [
    {
     "data": {
      "text/plain": [
       "'/Users/gustavorsampaio/Documents/Cursos/Python 2022.2/Aulas/20news-bydate/20news-bydate-train'"
      ]
     },
     "execution_count": 20,
     "metadata": {},
     "output_type": "execute_result"
    }
   ],
   "source": [
    "TRAIN_FOLDER"
   ]
  },
  {
   "cell_type": "code",
   "execution_count": 23,
   "metadata": {},
   "outputs": [
    {
     "data": {
      "text/plain": [
       "['data', 'filenames', 'target_names', 'target', 'DESCR']"
      ]
     },
     "execution_count": 23,
     "metadata": {},
     "output_type": "execute_result"
    }
   ],
   "source": [
    "list(load_files(TRAIN_FOLDER))"
   ]
  },
  {
   "cell_type": "code",
   "execution_count": 24,
   "metadata": {},
   "outputs": [],
   "source": [
    "paulo = {\"train\":load_files(TRAIN_FOLDER), \"test\":load_files(TEST_FOLDER)}"
   ]
  },
  {
   "cell_type": "code",
   "execution_count": null,
   "metadata": {},
   "outputs": [],
   "source": []
  },
  {
   "cell_type": "code",
   "execution_count": 26,
   "metadata": {},
   "outputs": [],
   "source": [
    "cache = dict(train=load_files(TRAIN_FOLDER, encoding='latin1'), test=load_files(TEST_FOLDER, encoding='latin1'))"
   ]
  },
  {
   "cell_type": "code",
   "execution_count": 27,
   "metadata": {},
   "outputs": [
    {
     "data": {
      "text/plain": [
       "2"
      ]
     },
     "execution_count": 27,
     "metadata": {},
     "output_type": "execute_result"
    }
   ],
   "source": [
    "len(cache)"
   ]
  },
  {
   "cell_type": "code",
   "execution_count": 28,
   "metadata": {},
   "outputs": [
    {
     "data": {
      "text/plain": [
       "['train', 'test']"
      ]
     },
     "execution_count": 28,
     "metadata": {},
     "output_type": "execute_result"
    }
   ],
   "source": [
    "list(cache)"
   ]
  },
  {
   "cell_type": "code",
   "execution_count": 29,
   "metadata": {},
   "outputs": [
    {
     "data": {
      "text/plain": [
       "['data', 'filenames', 'target_names', 'target', 'DESCR']"
      ]
     },
     "execution_count": 29,
     "metadata": {},
     "output_type": "execute_result"
    }
   ],
   "source": [
    "list(cache[\"train\"])"
   ]
  },
  {
   "cell_type": "code",
   "execution_count": 30,
   "metadata": {},
   "outputs": [
    {
     "data": {
      "text/plain": [
       "'From: maler@vercors.imag.fr (Oded Maler)\\nSubject: Re: FLAME and a Jewish home in Palestine\\nNntp-Posting-Host: pelvoux\\nOrganization: IMAG, University of Grenoble, France\\nLines: 40\\n\\nIn article <C5HJBC.1HC@bony1.bony.com>, jake@bony1.bony.com (Jake Livni) writes:\\n|> In article <1993Apr13.172422.2407@newshub.ariel.yorku.ca> nabil@ariel.yorku.ca (Nabil Gangi) writes:\\n|> \\n|> >According to Exodus, there were 600,000 Jews that marched out of Egypt.\\n|> \\n|> This is only the number of adult males.  The total number of Jewish\\n|> slaves leaving Egypt was much larger.\\n|> \\n|> >The number which could have arrived to the Holy Lands must have been\\n|> >substantially less ude to the harsh desert and the killings between the\\n|> >Jewish tribes on the way..\\n|> >\\n|> >NABIL\\n|> \\n|> Typical Arabic thinking.  If we are guilty of something, so is\\n|> everyone else.  Unfortunately for you, Nabil, Jewish tribes are not\\n|> nearly as susceptible to the fratricidal murdering that is still so\\n|> common among Arabs in the Middle East.  There were no \" killings\\n|> between the Jewish tribes on the way.\"\\n\\nI don\\'t like this comment about \"Typical\" thinking. You could state\\nyour interpretation of Exodus without it. As I read Exodus I can see \\na lot of killing there, which is painted by the author of the bible\\nin ideological/religious colors. The history in the desert can be seen\\nas an ethos of any nomadic people occupying a land. That\\'s why I think\\nit is a great book with which descendants Arabs, Turks and Mongols can \\nunify as well.\\n\\n\\n|> Jake\\n|> -- \\n|> Jake Livni  jake@bony1.bony.com           Ten years from now, George Bush will\\n|> American-Occupied New York                   have replaced Jimmy Carter as the\\n|> My opinions only - employer has no opinions.    standard of a failed President.\\n\\n-- \\n===============================================================\\nOded Maler, LGI-IMAG, Bat D, B.P. 53x, 38041 Grenoble, France\\nPhone:  76635846     Fax: 76446675      e-mail: maler@imag.fr\\n===============================================================\\n'"
      ]
     },
     "execution_count": 30,
     "metadata": {},
     "output_type": "execute_result"
    }
   ],
   "source": [
    "cache[\"train\"][\"data\"][10]"
   ]
  },
  {
   "cell_type": "code",
   "execution_count": 31,
   "metadata": {},
   "outputs": [
    {
     "data": {
      "text/plain": [
       "['alt.atheism',\n",
       " 'comp.graphics',\n",
       " 'comp.os.ms-windows.misc',\n",
       " 'comp.sys.ibm.pc.hardware',\n",
       " 'comp.sys.mac.hardware',\n",
       " 'comp.windows.x',\n",
       " 'misc.forsale',\n",
       " 'rec.autos',\n",
       " 'rec.motorcycles',\n",
       " 'rec.sport.baseball',\n",
       " 'rec.sport.hockey',\n",
       " 'sci.crypt',\n",
       " 'sci.electronics',\n",
       " 'sci.med',\n",
       " 'sci.space',\n",
       " 'soc.religion.christian',\n",
       " 'talk.politics.guns',\n",
       " 'talk.politics.mideast',\n",
       " 'talk.politics.misc',\n",
       " 'talk.religion.misc']"
      ]
     },
     "execution_count": 31,
     "metadata": {},
     "output_type": "execute_result"
    }
   ],
   "source": [
    "cache[\"train\"][\"target_names\"]"
   ]
  },
  {
   "cell_type": "code",
   "execution_count": 32,
   "metadata": {},
   "outputs": [
    {
     "data": {
      "text/plain": [
       "17"
      ]
     },
     "execution_count": 32,
     "metadata": {},
     "output_type": "execute_result"
    }
   ],
   "source": [
    "cache[\"train\"][\"target\"][10]"
   ]
  },
  {
   "cell_type": "code",
   "execution_count": null,
   "metadata": {},
   "outputs": [],
   "source": []
  },
  {
   "cell_type": "code",
   "execution_count": 33,
   "metadata": {},
   "outputs": [],
   "source": [
    "data_train = cache['train']\n",
    "data_test = cache['test']"
   ]
  },
  {
   "cell_type": "code",
   "execution_count": 34,
   "metadata": {},
   "outputs": [
    {
     "name": "stdout",
     "output_type": "stream",
     "text": [
      "['data', 'filenames', 'target_names', 'target', 'DESCR']\n",
      "\n",
      "\n",
      "['data', 'filenames', 'target_names', 'target', 'DESCR']\n"
     ]
    }
   ],
   "source": [
    "print(list(data_train))\n",
    "print(\"\\n\")\n",
    "print(list(data_test))"
   ]
  },
  {
   "cell_type": "code",
   "execution_count": 35,
   "metadata": {},
   "outputs": [
    {
     "data": {
      "text/plain": [
       "'From: maler@vercors.imag.fr (Oded Maler)\\nSubject: Re: FLAME and a Jewish home in Palestine\\nNntp-Posting-Host: pelvoux\\nOrganization: IMAG, University of Grenoble, France\\nLines: 40\\n\\nIn article <C5HJBC.1HC@bony1.bony.com>, jake@bony1.bony.com (Jake Livni) writes:\\n|> In article <1993Apr13.172422.2407@newshub.ariel.yorku.ca> nabil@ariel.yorku.ca (Nabil Gangi) writes:\\n|> \\n|> >According to Exodus, there were 600,000 Jews that marched out of Egypt.\\n|> \\n|> This is only the number of adult males.  The total number of Jewish\\n|> slaves leaving Egypt was much larger.\\n|> \\n|> >The number which could have arrived to the Holy Lands must have been\\n|> >substantially less ude to the harsh desert and the killings between the\\n|> >Jewish tribes on the way..\\n|> >\\n|> >NABIL\\n|> \\n|> Typical Arabic thinking.  If we are guilty of something, so is\\n|> everyone else.  Unfortunately for you, Nabil, Jewish tribes are not\\n|> nearly as susceptible to the fratricidal murdering that is still so\\n|> common among Arabs in the Middle East.  There were no \" killings\\n|> between the Jewish tribes on the way.\"\\n\\nI don\\'t like this comment about \"Typical\" thinking. You could state\\nyour interpretation of Exodus without it. As I read Exodus I can see \\na lot of killing there, which is painted by the author of the bible\\nin ideological/religious colors. The history in the desert can be seen\\nas an ethos of any nomadic people occupying a land. That\\'s why I think\\nit is a great book with which descendants Arabs, Turks and Mongols can \\nunify as well.\\n\\n\\n|> Jake\\n|> -- \\n|> Jake Livni  jake@bony1.bony.com           Ten years from now, George Bush will\\n|> American-Occupied New York                   have replaced Jimmy Carter as the\\n|> My opinions only - employer has no opinions.    standard of a failed President.\\n\\n-- \\n===============================================================\\nOded Maler, LGI-IMAG, Bat D, B.P. 53x, 38041 Grenoble, France\\nPhone:  76635846     Fax: 76446675      e-mail: maler@imag.fr\\n===============================================================\\n'"
      ]
     },
     "execution_count": 35,
     "metadata": {},
     "output_type": "execute_result"
    }
   ],
   "source": [
    "data_train[\"data\"][10]"
   ]
  },
  {
   "cell_type": "code",
   "execution_count": null,
   "metadata": {},
   "outputs": [],
   "source": []
  },
  {
   "cell_type": "code",
   "execution_count": 36,
   "metadata": {},
   "outputs": [
    {
     "data": {
      "text/plain": [
       "\"From: cubbie@garnet.berkeley.edu (                               )\\nSubject: Re: Cubs behind Marlins? How?\\nArticle-I.D.: agate.1pt592$f9a\\nOrganization: University of California, Berkeley\\nLines: 12\\nNNTP-Posting-Host: garnet.berkeley.edu\\n\\n\\ngajarsky@pilot.njin.net writes:\\n\\nmorgan and guzman will have era's 1 run higher than last year, and\\n the cubs will be idiots and not pitch harkey as much as hibbard.\\n castillo won't be good (i think he's a stud pitcher)\\n\\n       This season so far, Morgan and Guzman helped to lead the Cubs\\n       at top in ERA, even better than THE rotation at Atlanta.\\n       Cubs ERA at 0.056 while Braves at 0.059. We know it is early\\n       in the season, we Cubs fans have learned how to enjoy the\\n       short triumph while it is still there.\\n\""
      ]
     },
     "execution_count": 36,
     "metadata": {},
     "output_type": "execute_result"
    }
   ],
   "source": [
    "data_train[\"data\"][0]"
   ]
  },
  {
   "cell_type": "code",
   "execution_count": 37,
   "metadata": {},
   "outputs": [
    {
     "data": {
      "text/plain": [
       "'/Users/gustavorsampaio/Documents/Cursos/Python 2022.2/Aulas/20news-bydate/20news-bydate-train/rec.sport.baseball/102736'"
      ]
     },
     "execution_count": 37,
     "metadata": {},
     "output_type": "execute_result"
    }
   ],
   "source": [
    "data_train[\"filenames\"][0]"
   ]
  },
  {
   "cell_type": "code",
   "execution_count": null,
   "metadata": {},
   "outputs": [],
   "source": []
  },
  {
   "cell_type": "markdown",
   "metadata": {},
   "source": [
    "### Limpeza da base\n",
    "\n",
    "Devemos realizar uma limpeza nos textos para eliminar quebra de linhas, tabs, ...\n",
    "\n",
    "Tanto na base de treinamento:"
   ]
  },
  {
   "cell_type": "code",
   "execution_count": null,
   "metadata": {},
   "outputs": [],
   "source": []
  },
  {
   "cell_type": "code",
   "execution_count": 38,
   "metadata": {},
   "outputs": [],
   "source": [
    "data_train.data = [w.replace(\"\\r\\n\", \" \") for w in data_train.data]\n",
    "data_train.data = [w.replace(\"\\t\", \"\") for w in data_train.data]\n",
    "data_train.data = [w.replace(\"\\n\", \"\") for w in data_train.data]\n",
    "data_train.data = [w.replace(\">\", \"\") for w in data_train.data]\n",
    "data_train.data = [w.replace(\"<\", \"\") for w in data_train.data]"
   ]
  },
  {
   "cell_type": "code",
   "execution_count": 39,
   "metadata": {},
   "outputs": [
    {
     "data": {
      "text/plain": [
       "\"From: cubbie@garnet.berkeley.edu (                               )Subject: Re: Cubs behind Marlins? How?Article-I.D.: agate.1pt592$f9aOrganization: University of California, BerkeleyLines: 12NNTP-Posting-Host: garnet.berkeley.edugajarsky@pilot.njin.net writes:morgan and guzman will have era's 1 run higher than last year, and the cubs will be idiots and not pitch harkey as much as hibbard. castillo won't be good (i think he's a stud pitcher)       This season so far, Morgan and Guzman helped to lead the Cubs       at top in ERA, even better than THE rotation at Atlanta.       Cubs ERA at 0.056 while Braves at 0.059. We know it is early       in the season, we Cubs fans have learned how to enjoy the       short triumph while it is still there.\""
      ]
     },
     "execution_count": 39,
     "metadata": {},
     "output_type": "execute_result"
    }
   ],
   "source": [
    "data_train[\"data\"][0]"
   ]
  },
  {
   "cell_type": "code",
   "execution_count": null,
   "metadata": {},
   "outputs": [],
   "source": []
  },
  {
   "cell_type": "code",
   "execution_count": 40,
   "metadata": {},
   "outputs": [
    {
     "data": {
      "text/plain": [
       "'From: maler@vercors.imag.fr (Oded Maler)Subject: Re: FLAME and a Jewish home in PalestineNntp-Posting-Host: pelvouxOrganization: IMAG, University of Grenoble, FranceLines: 40In article C5HJBC.1HC@bony1.bony.com, jake@bony1.bony.com (Jake Livni) writes:| In article 1993Apr13.172422.2407@newshub.ariel.yorku.ca nabil@ariel.yorku.ca (Nabil Gangi) writes:| | According to Exodus, there were 600,000 Jews that marched out of Egypt.| | This is only the number of adult males.  The total number of Jewish| slaves leaving Egypt was much larger.| | The number which could have arrived to the Holy Lands must have been| substantially less ude to the harsh desert and the killings between the| Jewish tribes on the way..| | NABIL| | Typical Arabic thinking.  If we are guilty of something, so is| everyone else.  Unfortunately for you, Nabil, Jewish tribes are not| nearly as susceptible to the fratricidal murdering that is still so| common among Arabs in the Middle East.  There were no \" killings| between the Jewish tribes on the way.\"I don\\'t like this comment about \"Typical\" thinking. You could stateyour interpretation of Exodus without it. As I read Exodus I can see a lot of killing there, which is painted by the author of the biblein ideological/religious colors. The history in the desert can be seenas an ethos of any nomadic people occupying a land. That\\'s why I thinkit is a great book with which descendants Arabs, Turks and Mongols can unify as well.| Jake| -- | Jake Livni  jake@bony1.bony.com           Ten years from now, George Bush will| American-Occupied New York                   have replaced Jimmy Carter as the| My opinions only - employer has no opinions.    standard of a failed President.-- ===============================================================Oded Maler, LGI-IMAG, Bat D, B.P. 53x, 38041 Grenoble, FrancePhone:  76635846     Fax: 76446675      e-mail: maler@imag.fr==============================================================='"
      ]
     },
     "execution_count": 40,
     "metadata": {},
     "output_type": "execute_result"
    }
   ],
   "source": [
    "data_train[\"data\"][10]"
   ]
  },
  {
   "cell_type": "markdown",
   "metadata": {},
   "source": [
    "quanto na base de validação:"
   ]
  },
  {
   "cell_type": "code",
   "execution_count": 41,
   "metadata": {},
   "outputs": [],
   "source": [
    "data_test.data = [w.replace(\"\\r\\n\", \" \") for w in data_test.data]\n",
    "data_test.data = [w.replace(\"\\t\", \"\") for w in data_test.data]\n",
    "data_test.data = [w.replace(\"\\n\", \"\") for w in data_test.data]"
   ]
  },
  {
   "cell_type": "markdown",
   "metadata": {},
   "source": [
    "### Descrever os dados:"
   ]
  },
  {
   "cell_type": "code",
   "execution_count": 42,
   "metadata": {},
   "outputs": [
    {
     "name": "stdout",
     "output_type": "stream",
     "text": [
      "Existem nesta base de treinamento 20 classes:\n",
      "\n",
      "Elas São ... \n",
      "\n",
      "\t ['alt.atheism', 'comp.graphics', 'comp.os.ms-windows.misc', 'comp.sys.ibm.pc.hardware', 'comp.sys.mac.hardware', 'comp.windows.x', 'misc.forsale', 'rec.autos', 'rec.motorcycles', 'rec.sport.baseball', 'rec.sport.hockey', 'sci.crypt', 'sci.electronics', 'sci.med', 'sci.space', 'soc.religion.christian', 'talk.politics.guns', 'talk.politics.mideast', 'talk.politics.misc', 'talk.religion.misc'] \n",
      "\n"
     ]
    }
   ],
   "source": [
    "print('Existem nesta base de treinamento ' + str(len(data_train.target_names)) + ' classes:\\n')\n",
    "print(\"Elas São ... \\n\")\n",
    "print('\\t', data_train.target_names, '\\n')"
   ]
  },
  {
   "cell_type": "code",
   "execution_count": 43,
   "metadata": {},
   "outputs": [
    {
     "data": {
      "text/plain": [
       "\"From: cubbie@garnet.berkeley.edu (                               )Subject: Re: Cubs behind Marlins? How?Article-I.D.: agate.1pt592$f9aOrganization: University of California, BerkeleyLines: 12NNTP-Posting-Host: garnet.berkeley.edugajarsky@pilot.njin.net writes:morgan and guzman will have era's 1 run higher than last year, and the cubs will be idiots and not pitch harkey as much as hibbard. castillo won't be good (i think he's a stud pitcher)       This season so far, Morgan and Guzman helped to lead the Cubs       at top in ERA, even better than THE rotation at Atlanta.       Cubs ERA at 0.056 while Braves at 0.059. We know it is early       in the season, we Cubs fans have learned how to enjoy the       short triumph while it is still there.\""
      ]
     },
     "execution_count": 43,
     "metadata": {},
     "output_type": "execute_result"
    }
   ],
   "source": [
    "data_train[\"data\"][0]"
   ]
  },
  {
   "cell_type": "code",
   "execution_count": 44,
   "metadata": {},
   "outputs": [
    {
     "data": {
      "text/plain": [
       "'From: sera@zuma.UUCP (Serdar Argic)Subject: Role of \\'SDPA.ORG\\' in slaughter of Gunduz, Ariyak, Arikan, Benler,...Reply-To: sera@zuma.UUCP (Serdar Argic)Distribution: worldLines: 107In article 1993Apr16.044001.15540@urartu.sdpa.org hla@urartu.sdpa.org  writes:Sure it is. It tells us how far right the whole Turkish political spectrum Nobody ever exposed your crimes like that before? What was your personal role in the murder of Orhan Gunduz and Kemal Arikan, again? How many moreMuslims will be slaughtered by \\'SDPA.ORG\\' as publicly declared and filedwith legal authorities? Please spell it out for us. \"...that more people have to die...\"                     SDPA 91@urartu.UUCP  \"Yes, I stated this and stand by it.\"                    SDPA 255@urartu.UUCP    January 28, 1982 - Los AngelesKemal Arikan is slaughtered by two Armenians while driving to work.     March 22, 1982 - Cambridge, MassachusettsPrelude to grisly murder. A gift and import shop belonging toOrhan Gunduz is blown up. Gunduz receives an ultimatum: Either         he gives up his honorary position or he will be \"executed\". He         refuses. \"Responsibility\" is claimed by JCAG and SDPA.    May 4, 1982 - Cambridge, MassachusettsOrhan Gunduz, the Turkish honorary consul in Boston, would not bow to the Armenian terrorist ultimatum that he give up his title of \"honorary consul\". Now he is attacked and murdered in cold blood.President Reagan orders an all-out manhunt-to no avail. An eye-witness who gave a description of the murderer is shot down.  He survives... but falls silent. One of the most revolting \"triumphs\" in the senseless, mindless history of Armenian terrorism. Such a murder brings absolutely nothing - except an ego boost for the murderer within the Armenian terrorist underworld, which is already wallowing in self-satisfaction. Were you involved in the murder of Sarik Ariyak?    December 17, 1980 - SydneyTwo Nazi Armenians massacre Sarik Ariyak and his bodyguard, Engin         Sever. JCAG and SDPA claim responsibility.It is public knowledge that the founder of the Marxist-Leninist terrorist organization, the ASALA (an integral part of ASALA/SDPA/ARF), HagopHagopian, began his notorious career as a member of the terrorist group which perpetrated the massacre of the Israeli athletes at theMunich Olympics in 1972. And the \\'Armenian Foundation\\' stole from the children of Turkiye to fund the criminal activities of the ASALA/SDPA/ARFterrorists in their cold-blooded murder of defenceless Turkish andKurdish people. THE ARMENIAN FOUNDATION PROVIDED 30 BILLION TL TO ASALA    01/09/92, MILLIYET-- The Armenian Foundation based inIstanbul is found to have provided 30 billion Turkish Lira ($6million) to the Armenian terrorist organization ASALA which havemurdered several Turkish diplomats abroad... Experts on international terrorism assert that the Armenian terroristsuse proceeds from drug trafficking (and from the Armenian Foundation)to fund their deadly enterprises. The deadliest of terrorist assassins,Carlos, proclaimed on Spanish television that his organization hadentered into a working relationship with Armenian terrorists and theyare using drug trafficking to raise money \\'to continue\\' to slaughterinnocent people. Now, what is your personal and organizational role in this scheme?Recent reports which have been confirmed by the U.S. Administration, indicate that Armenian terrorist organizations are collaborating with those who are responsible for the bombing of the United States Marine barracks in Beirut. You won\\'t be able to get away with your crimes forever; the justice is long overdue.As for the Armenian genocide of 2.5 million Muslim people between 1914 and 1920:Source: Documents: Volume I (1919).        \"Document No: 42,\" Archive No: 1-2, Cabin No: 110, Drawer         No: 1(4), File No: 373, Section No: 1484(1032), Contents No: 9, 9-1.        (To the Office of Acting Supreme Commander - Acting Assistant        Section Director Major Ali Sukru)\"It is sufficient to mention just some of the terrible and shameful crimes committed only in Erzurum to get an idea about the Armenian atrocities in the villages... I would also like to mention with disgust and abominable sight, a stain on humanity, that I encountered at the west of Hasankale while my regiment was proceeding into this town. There was a young Turkish women, apparently once a very beautiful one, lying dead on one side of the road. A huge stick had been inserted into her vagina. We took the corpses and left it at a spot that was invisible from the road...\" Serdar Argic                           \\'We closed the roads and mountain passes that                             might serve as ways of escape for the Turks                             and then proceeded in the work of extermination.\\'                                                  (Ohanus Appressian - 1919)                           \\'In Soviet Armenia today there no longer exists                             a single Turkish soul.\\' (Sahak Melkonian - 1920)'"
      ]
     },
     "execution_count": 44,
     "metadata": {},
     "output_type": "execute_result"
    }
   ],
   "source": [
    "data_train.data[100]"
   ]
  },
  {
   "cell_type": "code",
   "execution_count": null,
   "metadata": {},
   "outputs": [],
   "source": []
  },
  {
   "cell_type": "markdown",
   "metadata": {},
   "source": [
    "### Processando os textos para estimação\n",
    "\n",
    "Extrair palavras do texto e converter para vetores numéricos:\n",
    "\n",
    "max_df: Eliminar palavras nos documentos que aparecam com uma frequência muito elevada. Elas não irão adicionar muito ao nosso modelo."
   ]
  },
  {
   "cell_type": "code",
   "execution_count": 45,
   "metadata": {},
   "outputs": [],
   "source": [
    "count_vect = CountVectorizer(max_df=0.75) \n",
    "X_train_counts = count_vect.fit_transform(data_train.data)"
   ]
  },
  {
   "cell_type": "code",
   "execution_count": 46,
   "metadata": {},
   "outputs": [
    {
     "data": {
      "text/plain": [
       "<11314x210310 sparse matrix of type '<class 'numpy.int64'>'\n",
       "\twith 1728698 stored elements in Compressed Sparse Row format>"
      ]
     },
     "execution_count": 46,
     "metadata": {},
     "output_type": "execute_result"
    }
   ],
   "source": [
    "X_train_counts"
   ]
  },
  {
   "cell_type": "code",
   "execution_count": null,
   "metadata": {},
   "outputs": [],
   "source": []
  },
  {
   "cell_type": "code",
   "execution_count": 47,
   "metadata": {},
   "outputs": [
    {
     "data": {
      "text/plain": [
       "(11314, 210310)"
      ]
     },
     "execution_count": 47,
     "metadata": {},
     "output_type": "execute_result"
    }
   ],
   "source": [
    "X_train_counts.shape"
   ]
  },
  {
   "cell_type": "code",
   "execution_count": 48,
   "metadata": {},
   "outputs": [
    {
     "name": "stdout",
     "output_type": "stream",
     "text": [
      "Nos 11314 processos de treinamento temos 210310 palavras\n"
     ]
    }
   ],
   "source": [
    "print('Nos ' + str(X_train_counts.shape[0]) + ' processos de treinamento temos ' + str(X_train_counts.shape[1]) + ' palavras')"
   ]
  },
  {
   "cell_type": "markdown",
   "metadata": {},
   "source": [
    "Listar Palavras que mais aparecem"
   ]
  },
  {
   "cell_type": "code",
   "execution_count": 49,
   "metadata": {},
   "outputs": [
    {
     "data": {
      "text/plain": [
       "[('cubbie', 69862),\n",
       " ('garnet', 92339),\n",
       " ('berkeley', 52009),\n",
       " ('edu', 79458),\n",
       " ('re', 157006),\n",
       " ('cubs', 69874),\n",
       " ('behind', 51346),\n",
       " ('marlins', 124966),\n",
       " ('how', 102030),\n",
       " ('article', 45867),\n",
       " ('agate', 38594),\n",
       " ('1pt592', 10810),\n",
       " ('f9aorganization', 85389),\n",
       " ('university', 193049),\n",
       " ('california', 58827),\n",
       " ('berkeleylines', 52014),\n",
       " ('12nntp', 5302),\n",
       " ('posting', 150186),\n",
       " ('host', 101868),\n",
       " ('edugajarsky', 79714)]"
      ]
     },
     "execution_count": 49,
     "metadata": {},
     "output_type": "execute_result"
    }
   ],
   "source": [
    "list(islice(count_vect.vocabulary_.items(), 20))"
   ]
  },
  {
   "cell_type": "markdown",
   "metadata": {},
   "source": [
    "Imaginem que textos mais longos possuem mais palavras e, desta maneira, teriam maior peso.\n",
    "\n",
    "Para eliminar tal problema, iremos, ao invés de utilizar número de palavras, utilizar a sua frequência dentro de um texto\n",
    "\n",
    "TfidfTransformer: Transformas uma matriz de contagem em uma matriz de frequências.\n",
    "\n",
    "``Transform a count matrix to a normalized tf or tf-idf representation. Tf means term-frequency while tf-idf means term-frequency times inverse document-frequency``"
   ]
  },
  {
   "cell_type": "code",
   "execution_count": 50,
   "metadata": {},
   "outputs": [],
   "source": [
    "tfidf_transformer = TfidfTransformer()\n",
    "X_train_tfidf = tfidf_transformer.fit_transform(X_train_counts)"
   ]
  },
  {
   "cell_type": "code",
   "execution_count": 51,
   "metadata": {},
   "outputs": [
    {
     "data": {
      "text/plain": [
       "(11314, 210310)"
      ]
     },
     "execution_count": 51,
     "metadata": {},
     "output_type": "execute_result"
    }
   ],
   "source": [
    "X_train_tfidf.shape"
   ]
  },
  {
   "cell_type": "code",
   "execution_count": null,
   "metadata": {},
   "outputs": [],
   "source": []
  },
  {
   "cell_type": "markdown",
   "metadata": {},
   "source": [
    "Listar Palavras que mais aparecem com maior detalhes"
   ]
  },
  {
   "cell_type": "code",
   "execution_count": 52,
   "metadata": {},
   "outputs": [],
   "source": [
    "count_vect = CountVectorizer(stop_words='english', max_df=0.75, ngram_range=(1, 3))"
   ]
  },
  {
   "cell_type": "code",
   "execution_count": 53,
   "metadata": {},
   "outputs": [],
   "source": [
    "X_train_counts = count_vect.fit_transform(data_train.data)"
   ]
  },
  {
   "cell_type": "code",
   "execution_count": 54,
   "metadata": {},
   "outputs": [
    {
     "data": {
      "text/plain": [
       "(11314, 2741169)"
      ]
     },
     "execution_count": 54,
     "metadata": {},
     "output_type": "execute_result"
    }
   ],
   "source": [
    "X_train_counts.shape"
   ]
  },
  {
   "cell_type": "code",
   "execution_count": 55,
   "metadata": {},
   "outputs": [
    {
     "data": {
      "text/plain": [
       "[('cubbie', 748673),\n",
       " ('garnet', 1093758),\n",
       " ('berkeley', 468461),\n",
       " ('edu', 904406),\n",
       " ('cubs', 748772),\n",
       " ('marlins', 1561272),\n",
       " ('article', 380815),\n",
       " ('agate', 302083),\n",
       " ('1pt592', 86695),\n",
       " ('f9aorganization', 993133),\n",
       " ('university', 2521966),\n",
       " ('california', 551965),\n",
       " ('berkeleylines', 468792),\n",
       " ('12nntp', 38576),\n",
       " ('posting', 1894821),\n",
       " ('host', 1233071),\n",
       " ('edugajarsky', 916173),\n",
       " ('pilot', 1853949),\n",
       " ('njin', 1703881),\n",
       " ('net', 1685277),\n",
       " ('writes', 2683390),\n",
       " ('morgan', 1638693),\n",
       " ('guzman', 1166581),\n",
       " ('era', 952884),\n",
       " ('run', 2103089),\n",
       " ('higher', 1212863),\n",
       " ('year', 2716043),\n",
       " ('idiots', 1260599),\n",
       " ('pitch', 1856168),\n",
       " ('harkey', 1183678),\n",
       " ('hibbard', 1210812),\n",
       " ('castillo', 578407),\n",
       " ('won', 2662760),\n",
       " ('good', 1129773),\n",
       " ('think', 2419433),\n",
       " ('stud', 2303926),\n",
       " ('pitcher', 1856396),\n",
       " ('season', 2153396),\n",
       " ('far', 1006517),\n",
       " ('helped', 1205377),\n",
       " ('lead', 1443315),\n",
       " ('better', 472317),\n",
       " ('rotation', 2096148),\n",
       " ('atlanta', 404739),\n",
       " ('056', 11470),\n",
       " ('braves', 514550),\n",
       " ('059', 11513),\n",
       " ('know', 1408898),\n",
       " ('early', 894357),\n",
       " ('fans', 1005004)]"
      ]
     },
     "execution_count": 55,
     "metadata": {},
     "output_type": "execute_result"
    }
   ],
   "source": [
    "list(islice(count_vect.vocabulary_.items(), 50))"
   ]
  },
  {
   "cell_type": "code",
   "execution_count": null,
   "metadata": {},
   "outputs": [],
   "source": []
  },
  {
   "cell_type": "code",
   "execution_count": 57,
   "metadata": {},
   "outputs": [
    {
     "data": {
      "text/plain": [
       "[('from', 1216443),\n",
       " ('cubbie', 880696),\n",
       " ('garnet', 1255429),\n",
       " ('berkeley', 598899),\n",
       " ('edu', 1024851),\n",
       " ('subject', 2674276),\n",
       " ('re', 2371131),\n",
       " ('cubs', 880795),\n",
       " ('behind', 588962),\n",
       " ('marlins', 1810891),\n",
       " ('how', 1429360),\n",
       " ('article', 473807),\n",
       " ('agate', 305942),\n",
       " ('1pt592', 85160),\n",
       " ('f9aorganization', 1115709),\n",
       " ('university', 3091079),\n",
       " ('of', 2028197),\n",
       " ('california', 698218),\n",
       " ('berkeleylines', 599228),\n",
       " ('12nntp', 37981)]"
      ]
     },
     "execution_count": 57,
     "metadata": {},
     "output_type": "execute_result"
    }
   ],
   "source": [
    "count_vect1 = CountVectorizer(ngram_range=(1, 3))\n",
    "X_train_counts1 = count_vect1.fit_transform(data_train.data)\n",
    "list(islice(count_vect1.vocabulary_.items(), 20))"
   ]
  },
  {
   "cell_type": "markdown",
   "metadata": {},
   "source": [
    "Podemos construir um DataFrame com Palavras que mais aparecem\n",
    "\n",
    "Função ravel():\n",
    "\n",
    "``x = np.array([[1, 2, 3], [4, 5, 6]])\n",
    "\n",
    "np.ravel(x)\n",
    "\n",
    "array([1, 2, 3, 4, 5, 6])``"
   ]
  },
  {
   "cell_type": "code",
   "execution_count": 58,
   "metadata": {},
   "outputs": [],
   "source": [
    "x = np.array([[1, 2, 3], [4, 5, 6]])"
   ]
  },
  {
   "cell_type": "code",
   "execution_count": 59,
   "metadata": {},
   "outputs": [
    {
     "data": {
      "text/plain": [
       "array([[1, 2, 3],\n",
       "       [4, 5, 6]])"
      ]
     },
     "execution_count": 59,
     "metadata": {},
     "output_type": "execute_result"
    }
   ],
   "source": [
    "x"
   ]
  },
  {
   "cell_type": "code",
   "execution_count": 60,
   "metadata": {},
   "outputs": [
    {
     "data": {
      "text/plain": [
       "array([1, 2, 3, 4, 5, 6])"
      ]
     },
     "execution_count": 60,
     "metadata": {},
     "output_type": "execute_result"
    }
   ],
   "source": [
    "np.ravel(x)"
   ]
  },
  {
   "cell_type": "code",
   "execution_count": null,
   "metadata": {},
   "outputs": [],
   "source": []
  },
  {
   "cell_type": "code",
   "execution_count": 61,
   "metadata": {
    "tags": []
   },
   "outputs": [],
   "source": [
    "occ = np.asarray(X_train_counts.sum(axis=0)).ravel().tolist()"
   ]
  },
  {
   "cell_type": "code",
   "execution_count": 62,
   "metadata": {},
   "outputs": [
    {
     "data": {
      "text/plain": [
       "2741169"
      ]
     },
     "execution_count": 62,
     "metadata": {},
     "output_type": "execute_result"
    }
   ],
   "source": [
    "len(occ)"
   ]
  },
  {
   "cell_type": "code",
   "execution_count": 64,
   "metadata": {},
   "outputs": [
    {
     "data": {
      "text/html": [
       "<style>#sk-container-id-1 {color: black;}#sk-container-id-1 pre{padding: 0;}#sk-container-id-1 div.sk-toggleable {background-color: white;}#sk-container-id-1 label.sk-toggleable__label {cursor: pointer;display: block;width: 100%;margin-bottom: 0;padding: 0.3em;box-sizing: border-box;text-align: center;}#sk-container-id-1 label.sk-toggleable__label-arrow:before {content: \"▸\";float: left;margin-right: 0.25em;color: #696969;}#sk-container-id-1 label.sk-toggleable__label-arrow:hover:before {color: black;}#sk-container-id-1 div.sk-estimator:hover label.sk-toggleable__label-arrow:before {color: black;}#sk-container-id-1 div.sk-toggleable__content {max-height: 0;max-width: 0;overflow: hidden;text-align: left;background-color: #f0f8ff;}#sk-container-id-1 div.sk-toggleable__content pre {margin: 0.2em;color: black;border-radius: 0.25em;background-color: #f0f8ff;}#sk-container-id-1 input.sk-toggleable__control:checked~div.sk-toggleable__content {max-height: 200px;max-width: 100%;overflow: auto;}#sk-container-id-1 input.sk-toggleable__control:checked~label.sk-toggleable__label-arrow:before {content: \"▾\";}#sk-container-id-1 div.sk-estimator input.sk-toggleable__control:checked~label.sk-toggleable__label {background-color: #d4ebff;}#sk-container-id-1 div.sk-label input.sk-toggleable__control:checked~label.sk-toggleable__label {background-color: #d4ebff;}#sk-container-id-1 input.sk-hidden--visually {border: 0;clip: rect(1px 1px 1px 1px);clip: rect(1px, 1px, 1px, 1px);height: 1px;margin: -1px;overflow: hidden;padding: 0;position: absolute;width: 1px;}#sk-container-id-1 div.sk-estimator {font-family: monospace;background-color: #f0f8ff;border: 1px dotted black;border-radius: 0.25em;box-sizing: border-box;margin-bottom: 0.5em;}#sk-container-id-1 div.sk-estimator:hover {background-color: #d4ebff;}#sk-container-id-1 div.sk-parallel-item::after {content: \"\";width: 100%;border-bottom: 1px solid gray;flex-grow: 1;}#sk-container-id-1 div.sk-label:hover label.sk-toggleable__label {background-color: #d4ebff;}#sk-container-id-1 div.sk-serial::before {content: \"\";position: absolute;border-left: 1px solid gray;box-sizing: border-box;top: 0;bottom: 0;left: 50%;z-index: 0;}#sk-container-id-1 div.sk-serial {display: flex;flex-direction: column;align-items: center;background-color: white;padding-right: 0.2em;padding-left: 0.2em;position: relative;}#sk-container-id-1 div.sk-item {position: relative;z-index: 1;}#sk-container-id-1 div.sk-parallel {display: flex;align-items: stretch;justify-content: center;background-color: white;position: relative;}#sk-container-id-1 div.sk-item::before, #sk-container-id-1 div.sk-parallel-item::before {content: \"\";position: absolute;border-left: 1px solid gray;box-sizing: border-box;top: 0;bottom: 0;left: 50%;z-index: -1;}#sk-container-id-1 div.sk-parallel-item {display: flex;flex-direction: column;z-index: 1;position: relative;background-color: white;}#sk-container-id-1 div.sk-parallel-item:first-child::after {align-self: flex-end;width: 50%;}#sk-container-id-1 div.sk-parallel-item:last-child::after {align-self: flex-start;width: 50%;}#sk-container-id-1 div.sk-parallel-item:only-child::after {width: 0;}#sk-container-id-1 div.sk-dashed-wrapped {border: 1px dashed gray;margin: 0 0.4em 0.5em 0.4em;box-sizing: border-box;padding-bottom: 0.4em;background-color: white;}#sk-container-id-1 div.sk-label label {font-family: monospace;font-weight: bold;display: inline-block;line-height: 1.2em;}#sk-container-id-1 div.sk-label-container {text-align: center;}#sk-container-id-1 div.sk-container {/* jupyter's `normalize.less` sets `[hidden] { display: none; }` but bootstrap.min.css set `[hidden] { display: none !important; }` so we also need the `!important` here to be able to override the default hidden behavior on the sphinx rendered scikit-learn.org. See: https://github.com/scikit-learn/scikit-learn/issues/21755 */display: inline-block !important;position: relative;}#sk-container-id-1 div.sk-text-repr-fallback {display: none;}</style><div id=\"sk-container-id-1\" class=\"sk-top-container\"><div class=\"sk-text-repr-fallback\"><pre>CountVectorizer(max_df=0.75, ngram_range=(1, 3), stop_words=&#x27;english&#x27;)</pre><b>In a Jupyter environment, please rerun this cell to show the HTML representation or trust the notebook. <br />On GitHub, the HTML representation is unable to render, please try loading this page with nbviewer.org.</b></div><div class=\"sk-container\" hidden><div class=\"sk-item\"><div class=\"sk-estimator sk-toggleable\"><input class=\"sk-toggleable__control sk-hidden--visually\" id=\"sk-estimator-id-1\" type=\"checkbox\" checked><label for=\"sk-estimator-id-1\" class=\"sk-toggleable__label sk-toggleable__label-arrow\">CountVectorizer</label><div class=\"sk-toggleable__content\"><pre>CountVectorizer(max_df=0.75, ngram_range=(1, 3), stop_words=&#x27;english&#x27;)</pre></div></div></div></div></div>"
      ],
      "text/plain": [
       "CountVectorizer(max_df=0.75, ngram_range=(1, 3), stop_words='english')"
      ]
     },
     "execution_count": 64,
     "metadata": {},
     "output_type": "execute_result"
    }
   ],
   "source": [
    "count_vect"
   ]
  },
  {
   "cell_type": "code",
   "execution_count": 66,
   "metadata": {
    "tags": []
   },
   "outputs": [
    {
     "data": {
      "text/html": [
       "<div>\n",
       "<style scoped>\n",
       "    .dataframe tbody tr th:only-of-type {\n",
       "        vertical-align: middle;\n",
       "    }\n",
       "\n",
       "    .dataframe tbody tr th {\n",
       "        vertical-align: top;\n",
       "    }\n",
       "\n",
       "    .dataframe thead th {\n",
       "        text-align: right;\n",
       "    }\n",
       "</style>\n",
       "<table border=\"1\" class=\"dataframe\">\n",
       "  <thead>\n",
       "    <tr style=\"text-align: right;\">\n",
       "      <th></th>\n",
       "      <th>term</th>\n",
       "      <th>occurrences</th>\n",
       "    </tr>\n",
       "  </thead>\n",
       "  <tbody>\n",
       "    <tr>\n",
       "      <th>425054</th>\n",
       "      <td>ax</td>\n",
       "      <td>62089</td>\n",
       "    </tr>\n",
       "    <tr>\n",
       "      <th>426032</th>\n",
       "      <td>ax ax</td>\n",
       "      <td>56047</td>\n",
       "    </tr>\n",
       "    <tr>\n",
       "      <th>426307</th>\n",
       "      <td>ax ax ax</td>\n",
       "      <td>50430</td>\n",
       "    </tr>\n",
       "    <tr>\n",
       "      <th>904406</th>\n",
       "      <td>edu</td>\n",
       "      <td>16792</td>\n",
       "    </tr>\n",
       "    <tr>\n",
       "      <th>652440</th>\n",
       "      <td>com</td>\n",
       "      <td>10195</td>\n",
       "    </tr>\n",
       "    <tr>\n",
       "      <th>2683390</th>\n",
       "      <td>writes</td>\n",
       "      <td>7833</td>\n",
       "    </tr>\n",
       "    <tr>\n",
       "      <th>380815</th>\n",
       "      <td>article</td>\n",
       "      <td>6970</td>\n",
       "    </tr>\n",
       "    <tr>\n",
       "      <th>863017</th>\n",
       "      <td>don</td>\n",
       "      <td>5787</td>\n",
       "    </tr>\n",
       "    <tr>\n",
       "      <th>1826754</th>\n",
       "      <td>people</td>\n",
       "      <td>5524</td>\n",
       "    </tr>\n",
       "    <tr>\n",
       "      <th>1468757</th>\n",
       "      <td>like</td>\n",
       "      <td>5496</td>\n",
       "    </tr>\n",
       "    <tr>\n",
       "      <th>1894821</th>\n",
       "      <td>posting</td>\n",
       "      <td>5455</td>\n",
       "    </tr>\n",
       "    <tr>\n",
       "      <th>1375668</th>\n",
       "      <td>just</td>\n",
       "      <td>5172</td>\n",
       "    </tr>\n",
       "    <tr>\n",
       "      <th>1233071</th>\n",
       "      <td>host</td>\n",
       "      <td>4984</td>\n",
       "    </tr>\n",
       "    <tr>\n",
       "      <th>1408898</th>\n",
       "      <td>know</td>\n",
       "      <td>4871</td>\n",
       "    </tr>\n",
       "    <tr>\n",
       "      <th>1895191</th>\n",
       "      <td>posting host</td>\n",
       "      <td>4786</td>\n",
       "    </tr>\n",
       "    <tr>\n",
       "      <th>1570130</th>\n",
       "      <td>max</td>\n",
       "      <td>4643</td>\n",
       "    </tr>\n",
       "    <tr>\n",
       "      <th>2521966</th>\n",
       "      <td>university</td>\n",
       "      <td>4493</td>\n",
       "    </tr>\n",
       "    <tr>\n",
       "      <th>427445</th>\n",
       "      <td>ax max</td>\n",
       "      <td>4295</td>\n",
       "    </tr>\n",
       "    <tr>\n",
       "      <th>1570285</th>\n",
       "      <td>max ax</td>\n",
       "      <td>4293</td>\n",
       "    </tr>\n",
       "    <tr>\n",
       "      <th>2419433</th>\n",
       "      <td>think</td>\n",
       "      <td>4278</td>\n",
       "    </tr>\n",
       "  </tbody>\n",
       "</table>\n",
       "</div>"
      ],
      "text/plain": [
       "                 term  occurrences\n",
       "425054             ax        62089\n",
       "426032          ax ax        56047\n",
       "426307       ax ax ax        50430\n",
       "904406            edu        16792\n",
       "652440            com        10195\n",
       "2683390        writes         7833\n",
       "380815        article         6970\n",
       "863017            don         5787\n",
       "1826754        people         5524\n",
       "1468757          like         5496\n",
       "1894821       posting         5455\n",
       "1375668          just         5172\n",
       "1233071          host         4984\n",
       "1408898          know         4871\n",
       "1895191  posting host         4786\n",
       "1570130           max         4643\n",
       "2521966    university         4493\n",
       "427445         ax max         4295\n",
       "1570285        max ax         4293\n",
       "2419433         think         4278"
      ]
     },
     "execution_count": 66,
     "metadata": {},
     "output_type": "execute_result"
    }
   ],
   "source": [
    "counts_df = pd.DataFrame({'term': count_vect.get_feature_names_out(), 'occurrences': occ})\n",
    "counts_df.sort_values(by='occurrences', ascending=False).head(20)"
   ]
  },
  {
   "cell_type": "code",
   "execution_count": null,
   "metadata": {},
   "outputs": [],
   "source": []
  },
  {
   "cell_type": "markdown",
   "metadata": {},
   "source": [
    "Listar Palavras que mais aparecem com maior detalhes por frequência pesando tamanho do texto"
   ]
  },
  {
   "cell_type": "code",
   "execution_count": 67,
   "metadata": {},
   "outputs": [
    {
     "data": {
      "text/plain": [
       "(11314, 2741169)"
      ]
     },
     "execution_count": 67,
     "metadata": {},
     "output_type": "execute_result"
    }
   ],
   "source": [
    "tfidf_transformer = TfidfTransformer(use_idf=False) # Enable inverse-document-frequency reweighting\n",
    "X_train_tfidf = tfidf_transformer.fit_transform(X_train_counts)\n",
    "X_train_tfidf.shape"
   ]
  },
  {
   "cell_type": "markdown",
   "metadata": {},
   "source": [
    "Dataframe com Palavras que mais aparecem"
   ]
  },
  {
   "cell_type": "code",
   "execution_count": 68,
   "metadata": {},
   "outputs": [
    {
     "data": {
      "text/html": [
       "<div>\n",
       "<style scoped>\n",
       "    .dataframe tbody tr th:only-of-type {\n",
       "        vertical-align: middle;\n",
       "    }\n",
       "\n",
       "    .dataframe tbody tr th {\n",
       "        vertical-align: top;\n",
       "    }\n",
       "\n",
       "    .dataframe thead th {\n",
       "        text-align: right;\n",
       "    }\n",
       "</style>\n",
       "<table border=\"1\" class=\"dataframe\">\n",
       "  <thead>\n",
       "    <tr style=\"text-align: right;\">\n",
       "      <th></th>\n",
       "      <th>term</th>\n",
       "      <th>weight</th>\n",
       "    </tr>\n",
       "  </thead>\n",
       "  <tbody>\n",
       "    <tr>\n",
       "      <th>904406</th>\n",
       "      <td>edu</td>\n",
       "      <td>0.066391</td>\n",
       "    </tr>\n",
       "    <tr>\n",
       "      <th>652440</th>\n",
       "      <td>com</td>\n",
       "      <td>0.039626</td>\n",
       "    </tr>\n",
       "    <tr>\n",
       "      <th>2683390</th>\n",
       "      <td>writes</td>\n",
       "      <td>0.030184</td>\n",
       "    </tr>\n",
       "    <tr>\n",
       "      <th>380815</th>\n",
       "      <td>article</td>\n",
       "      <td>0.026204</td>\n",
       "    </tr>\n",
       "    <tr>\n",
       "      <th>1894821</th>\n",
       "      <td>posting</td>\n",
       "      <td>0.023643</td>\n",
       "    </tr>\n",
       "    <tr>\n",
       "      <th>1233071</th>\n",
       "      <td>host</td>\n",
       "      <td>0.022187</td>\n",
       "    </tr>\n",
       "    <tr>\n",
       "      <th>1895191</th>\n",
       "      <td>posting host</td>\n",
       "      <td>0.021693</td>\n",
       "    </tr>\n",
       "    <tr>\n",
       "      <th>2521966</th>\n",
       "      <td>university</td>\n",
       "      <td>0.019331</td>\n",
       "    </tr>\n",
       "    <tr>\n",
       "      <th>863017</th>\n",
       "      <td>don</td>\n",
       "      <td>0.018489</td>\n",
       "    </tr>\n",
       "    <tr>\n",
       "      <th>1468757</th>\n",
       "      <td>like</td>\n",
       "      <td>0.018357</td>\n",
       "    </tr>\n",
       "    <tr>\n",
       "      <th>1375668</th>\n",
       "      <td>just</td>\n",
       "      <td>0.017315</td>\n",
       "    </tr>\n",
       "    <tr>\n",
       "      <th>1408898</th>\n",
       "      <td>know</td>\n",
       "      <td>0.016769</td>\n",
       "    </tr>\n",
       "    <tr>\n",
       "      <th>1774516</th>\n",
       "      <td>organization</td>\n",
       "      <td>0.016744</td>\n",
       "    </tr>\n",
       "    <tr>\n",
       "      <th>1826754</th>\n",
       "      <td>people</td>\n",
       "      <td>0.015175</td>\n",
       "    </tr>\n",
       "    <tr>\n",
       "      <th>2419433</th>\n",
       "      <td>think</td>\n",
       "      <td>0.013502</td>\n",
       "    </tr>\n",
       "    <tr>\n",
       "      <th>853432</th>\n",
       "      <td>does</td>\n",
       "      <td>0.012582</td>\n",
       "    </tr>\n",
       "    <tr>\n",
       "      <th>1689928</th>\n",
       "      <td>new</td>\n",
       "      <td>0.011591</td>\n",
       "    </tr>\n",
       "    <tr>\n",
       "      <th>1129773</th>\n",
       "      <td>good</td>\n",
       "      <td>0.011433</td>\n",
       "    </tr>\n",
       "    <tr>\n",
       "      <th>2538009</th>\n",
       "      <td>use</td>\n",
       "      <td>0.011023</td>\n",
       "    </tr>\n",
       "    <tr>\n",
       "      <th>2437053</th>\n",
       "      <td>time</td>\n",
       "      <td>0.011019</td>\n",
       "    </tr>\n",
       "  </tbody>\n",
       "</table>\n",
       "</div>"
      ],
      "text/plain": [
       "                 term    weight\n",
       "904406            edu  0.066391\n",
       "652440            com  0.039626\n",
       "2683390        writes  0.030184\n",
       "380815        article  0.026204\n",
       "1894821       posting  0.023643\n",
       "1233071          host  0.022187\n",
       "1895191  posting host  0.021693\n",
       "2521966    university  0.019331\n",
       "863017            don  0.018489\n",
       "1468757          like  0.018357\n",
       "1375668          just  0.017315\n",
       "1408898          know  0.016769\n",
       "1774516  organization  0.016744\n",
       "1826754        people  0.015175\n",
       "2419433         think  0.013502\n",
       "853432           does  0.012582\n",
       "1689928           new  0.011591\n",
       "1129773          good  0.011433\n",
       "2538009           use  0.011023\n",
       "2437053          time  0.011019"
      ]
     },
     "execution_count": 68,
     "metadata": {},
     "output_type": "execute_result"
    }
   ],
   "source": [
    "weights = np.asarray(X_train_tfidf.mean(axis=0)).ravel().tolist()\n",
    "weights_df = pd.DataFrame({'term': count_vect.get_feature_names_out(), 'weight': weights})\n",
    "weights_df.sort_values(by='weight', ascending=False).head(20)"
   ]
  },
  {
   "cell_type": "code",
   "execution_count": null,
   "metadata": {},
   "outputs": [],
   "source": []
  },
  {
   "cell_type": "markdown",
   "metadata": {},
   "source": [
    "### Construir primeiro modelo de ML"
   ]
  },
  {
   "cell_type": "code",
   "execution_count": 69,
   "metadata": {},
   "outputs": [],
   "source": [
    "text_clf = Pipeline([('vect', CountVectorizer(stop_words='english', max_df=0.75, ngram_range=(1, 3))),\n",
    "                    ('tfidf', TfidfTransformer(use_idf=False)),\n",
    "                    ('clf', MultinomialNB(fit_prior=False)), #Whether to learn class prior probabilities or not. If false, a uniform prior will be used.\n",
    "                    ])"
   ]
  },
  {
   "cell_type": "code",
   "execution_count": 70,
   "metadata": {},
   "outputs": [
    {
     "data": {
      "text/html": [
       "<style>#sk-container-id-2 {color: black;}#sk-container-id-2 pre{padding: 0;}#sk-container-id-2 div.sk-toggleable {background-color: white;}#sk-container-id-2 label.sk-toggleable__label {cursor: pointer;display: block;width: 100%;margin-bottom: 0;padding: 0.3em;box-sizing: border-box;text-align: center;}#sk-container-id-2 label.sk-toggleable__label-arrow:before {content: \"▸\";float: left;margin-right: 0.25em;color: #696969;}#sk-container-id-2 label.sk-toggleable__label-arrow:hover:before {color: black;}#sk-container-id-2 div.sk-estimator:hover label.sk-toggleable__label-arrow:before {color: black;}#sk-container-id-2 div.sk-toggleable__content {max-height: 0;max-width: 0;overflow: hidden;text-align: left;background-color: #f0f8ff;}#sk-container-id-2 div.sk-toggleable__content pre {margin: 0.2em;color: black;border-radius: 0.25em;background-color: #f0f8ff;}#sk-container-id-2 input.sk-toggleable__control:checked~div.sk-toggleable__content {max-height: 200px;max-width: 100%;overflow: auto;}#sk-container-id-2 input.sk-toggleable__control:checked~label.sk-toggleable__label-arrow:before {content: \"▾\";}#sk-container-id-2 div.sk-estimator input.sk-toggleable__control:checked~label.sk-toggleable__label {background-color: #d4ebff;}#sk-container-id-2 div.sk-label input.sk-toggleable__control:checked~label.sk-toggleable__label {background-color: #d4ebff;}#sk-container-id-2 input.sk-hidden--visually {border: 0;clip: rect(1px 1px 1px 1px);clip: rect(1px, 1px, 1px, 1px);height: 1px;margin: -1px;overflow: hidden;padding: 0;position: absolute;width: 1px;}#sk-container-id-2 div.sk-estimator {font-family: monospace;background-color: #f0f8ff;border: 1px dotted black;border-radius: 0.25em;box-sizing: border-box;margin-bottom: 0.5em;}#sk-container-id-2 div.sk-estimator:hover {background-color: #d4ebff;}#sk-container-id-2 div.sk-parallel-item::after {content: \"\";width: 100%;border-bottom: 1px solid gray;flex-grow: 1;}#sk-container-id-2 div.sk-label:hover label.sk-toggleable__label {background-color: #d4ebff;}#sk-container-id-2 div.sk-serial::before {content: \"\";position: absolute;border-left: 1px solid gray;box-sizing: border-box;top: 0;bottom: 0;left: 50%;z-index: 0;}#sk-container-id-2 div.sk-serial {display: flex;flex-direction: column;align-items: center;background-color: white;padding-right: 0.2em;padding-left: 0.2em;position: relative;}#sk-container-id-2 div.sk-item {position: relative;z-index: 1;}#sk-container-id-2 div.sk-parallel {display: flex;align-items: stretch;justify-content: center;background-color: white;position: relative;}#sk-container-id-2 div.sk-item::before, #sk-container-id-2 div.sk-parallel-item::before {content: \"\";position: absolute;border-left: 1px solid gray;box-sizing: border-box;top: 0;bottom: 0;left: 50%;z-index: -1;}#sk-container-id-2 div.sk-parallel-item {display: flex;flex-direction: column;z-index: 1;position: relative;background-color: white;}#sk-container-id-2 div.sk-parallel-item:first-child::after {align-self: flex-end;width: 50%;}#sk-container-id-2 div.sk-parallel-item:last-child::after {align-self: flex-start;width: 50%;}#sk-container-id-2 div.sk-parallel-item:only-child::after {width: 0;}#sk-container-id-2 div.sk-dashed-wrapped {border: 1px dashed gray;margin: 0 0.4em 0.5em 0.4em;box-sizing: border-box;padding-bottom: 0.4em;background-color: white;}#sk-container-id-2 div.sk-label label {font-family: monospace;font-weight: bold;display: inline-block;line-height: 1.2em;}#sk-container-id-2 div.sk-label-container {text-align: center;}#sk-container-id-2 div.sk-container {/* jupyter's `normalize.less` sets `[hidden] { display: none; }` but bootstrap.min.css set `[hidden] { display: none !important; }` so we also need the `!important` here to be able to override the default hidden behavior on the sphinx rendered scikit-learn.org. See: https://github.com/scikit-learn/scikit-learn/issues/21755 */display: inline-block !important;position: relative;}#sk-container-id-2 div.sk-text-repr-fallback {display: none;}</style><div id=\"sk-container-id-2\" class=\"sk-top-container\"><div class=\"sk-text-repr-fallback\"><pre>Pipeline(steps=[(&#x27;vect&#x27;,\n",
       "                 CountVectorizer(max_df=0.75, ngram_range=(1, 3),\n",
       "                                 stop_words=&#x27;english&#x27;)),\n",
       "                (&#x27;tfidf&#x27;, TfidfTransformer(use_idf=False)),\n",
       "                (&#x27;clf&#x27;, MultinomialNB(fit_prior=False))])</pre><b>In a Jupyter environment, please rerun this cell to show the HTML representation or trust the notebook. <br />On GitHub, the HTML representation is unable to render, please try loading this page with nbviewer.org.</b></div><div class=\"sk-container\" hidden><div class=\"sk-item sk-dashed-wrapped\"><div class=\"sk-label-container\"><div class=\"sk-label sk-toggleable\"><input class=\"sk-toggleable__control sk-hidden--visually\" id=\"sk-estimator-id-2\" type=\"checkbox\" ><label for=\"sk-estimator-id-2\" class=\"sk-toggleable__label sk-toggleable__label-arrow\">Pipeline</label><div class=\"sk-toggleable__content\"><pre>Pipeline(steps=[(&#x27;vect&#x27;,\n",
       "                 CountVectorizer(max_df=0.75, ngram_range=(1, 3),\n",
       "                                 stop_words=&#x27;english&#x27;)),\n",
       "                (&#x27;tfidf&#x27;, TfidfTransformer(use_idf=False)),\n",
       "                (&#x27;clf&#x27;, MultinomialNB(fit_prior=False))])</pre></div></div></div><div class=\"sk-serial\"><div class=\"sk-item\"><div class=\"sk-estimator sk-toggleable\"><input class=\"sk-toggleable__control sk-hidden--visually\" id=\"sk-estimator-id-3\" type=\"checkbox\" ><label for=\"sk-estimator-id-3\" class=\"sk-toggleable__label sk-toggleable__label-arrow\">CountVectorizer</label><div class=\"sk-toggleable__content\"><pre>CountVectorizer(max_df=0.75, ngram_range=(1, 3), stop_words=&#x27;english&#x27;)</pre></div></div></div><div class=\"sk-item\"><div class=\"sk-estimator sk-toggleable\"><input class=\"sk-toggleable__control sk-hidden--visually\" id=\"sk-estimator-id-4\" type=\"checkbox\" ><label for=\"sk-estimator-id-4\" class=\"sk-toggleable__label sk-toggleable__label-arrow\">TfidfTransformer</label><div class=\"sk-toggleable__content\"><pre>TfidfTransformer(use_idf=False)</pre></div></div></div><div class=\"sk-item\"><div class=\"sk-estimator sk-toggleable\"><input class=\"sk-toggleable__control sk-hidden--visually\" id=\"sk-estimator-id-5\" type=\"checkbox\" ><label for=\"sk-estimator-id-5\" class=\"sk-toggleable__label sk-toggleable__label-arrow\">MultinomialNB</label><div class=\"sk-toggleable__content\"><pre>MultinomialNB(fit_prior=False)</pre></div></div></div></div></div></div></div>"
      ],
      "text/plain": [
       "Pipeline(steps=[('vect',\n",
       "                 CountVectorizer(max_df=0.75, ngram_range=(1, 3),\n",
       "                                 stop_words='english')),\n",
       "                ('tfidf', TfidfTransformer(use_idf=False)),\n",
       "                ('clf', MultinomialNB(fit_prior=False))])"
      ]
     },
     "execution_count": 70,
     "metadata": {},
     "output_type": "execute_result"
    }
   ],
   "source": [
    "text_clf"
   ]
  },
  {
   "cell_type": "code",
   "execution_count": 71,
   "metadata": {},
   "outputs": [],
   "source": [
    "text_clf_ok = text_clf.fit(data_train.data, data_train.target)"
   ]
  },
  {
   "cell_type": "code",
   "execution_count": 72,
   "metadata": {},
   "outputs": [
    {
     "data": {
      "text/html": [
       "<style>#sk-container-id-3 {color: black;}#sk-container-id-3 pre{padding: 0;}#sk-container-id-3 div.sk-toggleable {background-color: white;}#sk-container-id-3 label.sk-toggleable__label {cursor: pointer;display: block;width: 100%;margin-bottom: 0;padding: 0.3em;box-sizing: border-box;text-align: center;}#sk-container-id-3 label.sk-toggleable__label-arrow:before {content: \"▸\";float: left;margin-right: 0.25em;color: #696969;}#sk-container-id-3 label.sk-toggleable__label-arrow:hover:before {color: black;}#sk-container-id-3 div.sk-estimator:hover label.sk-toggleable__label-arrow:before {color: black;}#sk-container-id-3 div.sk-toggleable__content {max-height: 0;max-width: 0;overflow: hidden;text-align: left;background-color: #f0f8ff;}#sk-container-id-3 div.sk-toggleable__content pre {margin: 0.2em;color: black;border-radius: 0.25em;background-color: #f0f8ff;}#sk-container-id-3 input.sk-toggleable__control:checked~div.sk-toggleable__content {max-height: 200px;max-width: 100%;overflow: auto;}#sk-container-id-3 input.sk-toggleable__control:checked~label.sk-toggleable__label-arrow:before {content: \"▾\";}#sk-container-id-3 div.sk-estimator input.sk-toggleable__control:checked~label.sk-toggleable__label {background-color: #d4ebff;}#sk-container-id-3 div.sk-label input.sk-toggleable__control:checked~label.sk-toggleable__label {background-color: #d4ebff;}#sk-container-id-3 input.sk-hidden--visually {border: 0;clip: rect(1px 1px 1px 1px);clip: rect(1px, 1px, 1px, 1px);height: 1px;margin: -1px;overflow: hidden;padding: 0;position: absolute;width: 1px;}#sk-container-id-3 div.sk-estimator {font-family: monospace;background-color: #f0f8ff;border: 1px dotted black;border-radius: 0.25em;box-sizing: border-box;margin-bottom: 0.5em;}#sk-container-id-3 div.sk-estimator:hover {background-color: #d4ebff;}#sk-container-id-3 div.sk-parallel-item::after {content: \"\";width: 100%;border-bottom: 1px solid gray;flex-grow: 1;}#sk-container-id-3 div.sk-label:hover label.sk-toggleable__label {background-color: #d4ebff;}#sk-container-id-3 div.sk-serial::before {content: \"\";position: absolute;border-left: 1px solid gray;box-sizing: border-box;top: 0;bottom: 0;left: 50%;z-index: 0;}#sk-container-id-3 div.sk-serial {display: flex;flex-direction: column;align-items: center;background-color: white;padding-right: 0.2em;padding-left: 0.2em;position: relative;}#sk-container-id-3 div.sk-item {position: relative;z-index: 1;}#sk-container-id-3 div.sk-parallel {display: flex;align-items: stretch;justify-content: center;background-color: white;position: relative;}#sk-container-id-3 div.sk-item::before, #sk-container-id-3 div.sk-parallel-item::before {content: \"\";position: absolute;border-left: 1px solid gray;box-sizing: border-box;top: 0;bottom: 0;left: 50%;z-index: -1;}#sk-container-id-3 div.sk-parallel-item {display: flex;flex-direction: column;z-index: 1;position: relative;background-color: white;}#sk-container-id-3 div.sk-parallel-item:first-child::after {align-self: flex-end;width: 50%;}#sk-container-id-3 div.sk-parallel-item:last-child::after {align-self: flex-start;width: 50%;}#sk-container-id-3 div.sk-parallel-item:only-child::after {width: 0;}#sk-container-id-3 div.sk-dashed-wrapped {border: 1px dashed gray;margin: 0 0.4em 0.5em 0.4em;box-sizing: border-box;padding-bottom: 0.4em;background-color: white;}#sk-container-id-3 div.sk-label label {font-family: monospace;font-weight: bold;display: inline-block;line-height: 1.2em;}#sk-container-id-3 div.sk-label-container {text-align: center;}#sk-container-id-3 div.sk-container {/* jupyter's `normalize.less` sets `[hidden] { display: none; }` but bootstrap.min.css set `[hidden] { display: none !important; }` so we also need the `!important` here to be able to override the default hidden behavior on the sphinx rendered scikit-learn.org. See: https://github.com/scikit-learn/scikit-learn/issues/21755 */display: inline-block !important;position: relative;}#sk-container-id-3 div.sk-text-repr-fallback {display: none;}</style><div id=\"sk-container-id-3\" class=\"sk-top-container\"><div class=\"sk-text-repr-fallback\"><pre>Pipeline(steps=[(&#x27;vect&#x27;,\n",
       "                 CountVectorizer(max_df=0.75, ngram_range=(1, 3),\n",
       "                                 stop_words=&#x27;english&#x27;)),\n",
       "                (&#x27;tfidf&#x27;, TfidfTransformer(use_idf=False)),\n",
       "                (&#x27;clf&#x27;, MultinomialNB(fit_prior=False))])</pre><b>In a Jupyter environment, please rerun this cell to show the HTML representation or trust the notebook. <br />On GitHub, the HTML representation is unable to render, please try loading this page with nbviewer.org.</b></div><div class=\"sk-container\" hidden><div class=\"sk-item sk-dashed-wrapped\"><div class=\"sk-label-container\"><div class=\"sk-label sk-toggleable\"><input class=\"sk-toggleable__control sk-hidden--visually\" id=\"sk-estimator-id-6\" type=\"checkbox\" ><label for=\"sk-estimator-id-6\" class=\"sk-toggleable__label sk-toggleable__label-arrow\">Pipeline</label><div class=\"sk-toggleable__content\"><pre>Pipeline(steps=[(&#x27;vect&#x27;,\n",
       "                 CountVectorizer(max_df=0.75, ngram_range=(1, 3),\n",
       "                                 stop_words=&#x27;english&#x27;)),\n",
       "                (&#x27;tfidf&#x27;, TfidfTransformer(use_idf=False)),\n",
       "                (&#x27;clf&#x27;, MultinomialNB(fit_prior=False))])</pre></div></div></div><div class=\"sk-serial\"><div class=\"sk-item\"><div class=\"sk-estimator sk-toggleable\"><input class=\"sk-toggleable__control sk-hidden--visually\" id=\"sk-estimator-id-7\" type=\"checkbox\" ><label for=\"sk-estimator-id-7\" class=\"sk-toggleable__label sk-toggleable__label-arrow\">CountVectorizer</label><div class=\"sk-toggleable__content\"><pre>CountVectorizer(max_df=0.75, ngram_range=(1, 3), stop_words=&#x27;english&#x27;)</pre></div></div></div><div class=\"sk-item\"><div class=\"sk-estimator sk-toggleable\"><input class=\"sk-toggleable__control sk-hidden--visually\" id=\"sk-estimator-id-8\" type=\"checkbox\" ><label for=\"sk-estimator-id-8\" class=\"sk-toggleable__label sk-toggleable__label-arrow\">TfidfTransformer</label><div class=\"sk-toggleable__content\"><pre>TfidfTransformer(use_idf=False)</pre></div></div></div><div class=\"sk-item\"><div class=\"sk-estimator sk-toggleable\"><input class=\"sk-toggleable__control sk-hidden--visually\" id=\"sk-estimator-id-9\" type=\"checkbox\" ><label for=\"sk-estimator-id-9\" class=\"sk-toggleable__label sk-toggleable__label-arrow\">MultinomialNB</label><div class=\"sk-toggleable__content\"><pre>MultinomialNB(fit_prior=False)</pre></div></div></div></div></div></div></div>"
      ],
      "text/plain": [
       "Pipeline(steps=[('vect',\n",
       "                 CountVectorizer(max_df=0.75, ngram_range=(1, 3),\n",
       "                                 stop_words='english')),\n",
       "                ('tfidf', TfidfTransformer(use_idf=False)),\n",
       "                ('clf', MultinomialNB(fit_prior=False))])"
      ]
     },
     "execution_count": 72,
     "metadata": {},
     "output_type": "execute_result"
    }
   ],
   "source": [
    "text_clf_ok"
   ]
  },
  {
   "cell_type": "code",
   "execution_count": 73,
   "metadata": {},
   "outputs": [
    {
     "data": {
      "text/plain": [
       "['From: stimpy@dev-null.phys.psu.edu (Gregory Nagy)Subject: Re: ESPN UP YOURS .........Organization: Penn State Laboratory for Elementary Steam PhysicsLines: 52NNTP-Posting-Host: dev-null.phys.psu.eduIn article <C5u542.3CD@news.udel.edu> tmavor@earthview.cms.udel.edu writes:>>>>[Various justifiable rantings on ESPN coverage by several deleted]>>>>The only way to change ESPN\\'s thinking, if it is even possible, is to complain>to them directly.  Anyone know there telephone # in Bristol, Ct?  Heh... Try the rec.autos.sport FAQ. They are always calling ESPN to complain.I\\'m sure you could find the number for ABC there too, as many west-coast viewers were compaining about how something as boring as hockey cut intothe Long Beach GP. =)>>I do find it hard to believe that ESPN doesn\\'t think viewers will simply>change the channel from a boring game....I know I did.  And then, when>they didn\\'t show the NYI-Wash overtime(s), I was livid!  If I wanted>to watch baseball, I could have turned on the Phillies-Padres extra>inning game....instead, I went to bed angry......I boycotted ESPN\\'s>morning Sportscenter today, I was still so incensed.Were you (and several of the other people here it seems) asleep the day\"contracts\" were explained? ASPN has a piece of paper saying it MUSTshow that baseball game if it happens. Many businesses payedd money tohave their commercials run during a baseball game. This is a business,not your own personal video servant.>>My wife says I shouldn\\'t go to bed angry, but last nite.........GRRRRRRR!>Maybe you should put that anger into something positive. For example, I sawads for the new Dodge both on the ESPN and KBL broadcasts. Why not write toDodge saying that \"thanks to the ads run during the STANLEY CUP PLAYOFFS, you will now concider their products in the future. They love to hear stufflike that and in the future will be more willing to buy commercial timefor hockey games, giving ESPN (and other networks) more incentive to carrygames (just one example)Come on people, as great as we think it is, Hockey does not leapfrog the\"big three\" overight.> >--------------------------------------------------------------------->Tim Mavor   |  \"I am known by many names.......>College of Marine Studies  |   some call me.........Tim.\">Univ. of Delaware   |    >Newark, DE 19716   |  \"You know much that is hidden, O\\' Tim!\">tmavor@pandora.cms.udel.edu|  Monty Python and the Holy Grail--------------------------------------------------------------------->',\n",
       " 'From: kennejs@a.cs.okstate.edu (KENNEDY JAMES SCOT)Subject: Re: Blast them next timeOrganization: Oklahoma State UniversityDistribution: usaLines: 56From article <1r19l9$7dv@usenet.INS.CWRU.Edu>, by oldham@ces.cwru.edu (Daniel Oldham):> What happened in Waco is not the fault of the BATF. If they would of> had the proper equipment and personal then they could of captured the> compound on the initial assault and none of this would of happened.They did have the proper equipment.  The problem is that they went aboutthings the wrong way.  The ATF should have served the warrant in apeacable manner instead of going in there like a bunch of Rambos withguns blazing.  I\\'m not trying to excuse what David Koresh did.  I\\'mjust saying that the ATF (henceforth to be known as the cigarette cops :-)went about the \"raid\" in an improper manner.> The BATF needs more people, better weapons and more armored> transports. When they meet hostile fire they should be able to use> more force instead of retreating to a stand off. If you are going to> do a job then do it right. The BATF is there to protect us and they> must have the proper equipment and people to do the job.Let the FBI, Customs, and local police officers do the ATF\\'s job.  WEDON\\'T NEED THEM ANYMORE!!!  The cigarette cops are just leftoversfrom Prohibition days.  They are an anachronism!> With the WoD and the increased crime in the streets the BATF is needed> more now then ever. If they blast away a few good fokes then that is> the price we all have to pay for law and order in this country. Look> at all the good people that died in wars to protect this great country> of ours.Including you?  What if the cigarette cops kicked down your door andcut you in half with a machine gun?  THIS COULD ACTUALLY HAPPEN.Maybe they get the wrong address and then raid *your* home, for example.It\\'s happened before and it can happen *again*.  I have heard of morethan one instance of a no-knock raid going sour.  Just recently Iheard about a case in which police raided this guy\\'s home because theythought he had dope or something.  The guy blew both of the officersaway and he didn\\'t go to jail for it.  The judge hearing the caseruled that the man was acting in self-defense.> With the arms build up in Waco they needed to hit that compound with> mega fire power. They could of gone in there blasting and killed a few> women and kids but it would of been better then letting them all burn> to death 51 days later.Are you sure that that would have been the way to go?  Surely the FBIand ATF could have handled this fiasco better.  They didn\\'t have tomassacre all those people.  As Stimpy said in \"Fake Dad\", \"Shame, shame,double shame!\"  The FBI and ATF should be ashamed of theirselves. Scott Kennedy,  Brewer and PatriotBefore:  \"David Koresh is a cheap thug who interprets          the Bible through the barrel of a gun...\"  --ATF spokesmanAfter:   \"[The ATF] is a cheap thug who interprets          [the Constitution] through the barrel of a gun...\"  --Me',\n",
       " \"From: perky@acs.bu.edu (Melissa Sherrin)Subject: Re: moon image in weather sat imageOrganization: Boston University, Boston, MA, USALines: 14Originator: perky@acs.bu.eduI'm afraid I was not able to find the GIFs... is the list updated weekly, perhaps, or am I just missing something?   _______  (       ) (_  (     )   (      )  (    )  ) (  (     )(__________) / / / / / Melissa Sherrin perky@acs.bu.edu\"]"
      ]
     },
     "execution_count": 73,
     "metadata": {},
     "output_type": "execute_result"
    }
   ],
   "source": [
    "data_test.data[0:3]"
   ]
  },
  {
   "cell_type": "code",
   "execution_count": null,
   "metadata": {},
   "outputs": [],
   "source": []
  },
  {
   "cell_type": "code",
   "execution_count": 74,
   "metadata": {},
   "outputs": [],
   "source": [
    "predictedNB = text_clf_ok.predict(data_test.data)"
   ]
  },
  {
   "cell_type": "code",
   "execution_count": 75,
   "metadata": {},
   "outputs": [
    {
     "data": {
      "text/plain": [
       "array([10, 16, 10, ..., 13,  3,  0])"
      ]
     },
     "execution_count": 75,
     "metadata": {},
     "output_type": "execute_result"
    }
   ],
   "source": [
    "predictedNB"
   ]
  },
  {
   "cell_type": "code",
   "execution_count": 76,
   "metadata": {},
   "outputs": [
    {
     "data": {
      "text/plain": [
       "array([10, 16, 14, ...,  4,  6,  7])"
      ]
     },
     "execution_count": 76,
     "metadata": {},
     "output_type": "execute_result"
    }
   ],
   "source": [
    "data_test.target"
   ]
  },
  {
   "cell_type": "code",
   "execution_count": null,
   "metadata": {},
   "outputs": [],
   "source": []
  },
  {
   "cell_type": "code",
   "execution_count": 77,
   "metadata": {},
   "outputs": [
    {
     "data": {
      "text/plain": [
       "array([ True,  True, False, ..., False, False, False])"
      ]
     },
     "execution_count": 77,
     "metadata": {},
     "output_type": "execute_result"
    }
   ],
   "source": [
    "predictedNB == data_test.target"
   ]
  },
  {
   "cell_type": "code",
   "execution_count": null,
   "metadata": {},
   "outputs": [],
   "source": []
  },
  {
   "cell_type": "code",
   "execution_count": 78,
   "metadata": {},
   "outputs": [
    {
     "data": {
      "text/plain": [
       "0.7837227827934148"
      ]
     },
     "execution_count": 78,
     "metadata": {},
     "output_type": "execute_result"
    }
   ],
   "source": [
    "np.mean(predictedNB == data_test.target)"
   ]
  },
  {
   "cell_type": "code",
   "execution_count": 79,
   "metadata": {},
   "outputs": [
    {
     "data": {
      "text/plain": [
       "['alt.atheism',\n",
       " 'comp.graphics',\n",
       " 'comp.os.ms-windows.misc',\n",
       " 'comp.sys.ibm.pc.hardware',\n",
       " 'comp.sys.mac.hardware',\n",
       " 'comp.windows.x',\n",
       " 'misc.forsale',\n",
       " 'rec.autos',\n",
       " 'rec.motorcycles',\n",
       " 'rec.sport.baseball',\n",
       " 'rec.sport.hockey',\n",
       " 'sci.crypt',\n",
       " 'sci.electronics',\n",
       " 'sci.med',\n",
       " 'sci.space',\n",
       " 'soc.religion.christian',\n",
       " 'talk.politics.guns',\n",
       " 'talk.politics.mideast',\n",
       " 'talk.politics.misc',\n",
       " 'talk.religion.misc']"
      ]
     },
     "execution_count": 79,
     "metadata": {},
     "output_type": "execute_result"
    }
   ],
   "source": [
    "data_test.target_names"
   ]
  },
  {
   "cell_type": "code",
   "execution_count": 80,
   "metadata": {},
   "outputs": [
    {
     "data": {
      "text/plain": [
       "'From: zstern@adobe.com (Zalman Stern)Subject: Re: Adobe Photo Shop type software for Unix/X/Motif platforms?Organization: Adobe Systems IncorporatedLines: 24Charles Boesel writes> > In article <C5w8xB.Iv6@world.std.com>  (sci.image.processing,comp.graphics), wdm@world.std.com (Wayne Michael)  writes:> >    I have been searching for a quality image enhancement and> >    manipulation package for Unix/X/Motif platforms that is comparable> >    to Adobe Photo Shop for the Mac. [stuff deleted]> > I understand that Adobe is working on making Photoshop available for> the SGI Indigo, but that is just \"rumor\" and I wouldn\\'t bet on it> until I see it. But they >are< going to release Illustrator for the SGI> \"real soon now.\"> Illustrator for SGI is a shipping product. Adobe and SGI have announced that  Photoshop is being ported to SGI machines. A simillar announcement has been  made by Adobe and Sun for Sun platforms. No dates have been announced to the  best of my knowledge.--Zalman Stern   zalman@adobe.com    (415) 962 3824Adobe Systems, 1585 Charleston Rd., POB 7900, Mountain View, CA 94039-7900  \"We\\'re just a couple of joyful little pervo-goats.\" -- Akbar (Jeff?)'"
      ]
     },
     "execution_count": 80,
     "metadata": {},
     "output_type": "execute_result"
    }
   ],
   "source": [
    "data_test.data[497]"
   ]
  },
  {
   "cell_type": "code",
   "execution_count": 81,
   "metadata": {},
   "outputs": [
    {
     "data": {
      "text/plain": [
       "1"
      ]
     },
     "execution_count": 81,
     "metadata": {},
     "output_type": "execute_result"
    }
   ],
   "source": [
    "data_test.target[497]"
   ]
  },
  {
   "cell_type": "code",
   "execution_count": 82,
   "metadata": {},
   "outputs": [
    {
     "data": {
      "text/plain": [
       "['alt.atheism',\n",
       " 'comp.graphics',\n",
       " 'comp.os.ms-windows.misc',\n",
       " 'comp.sys.ibm.pc.hardware',\n",
       " 'comp.sys.mac.hardware',\n",
       " 'comp.windows.x',\n",
       " 'misc.forsale',\n",
       " 'rec.autos',\n",
       " 'rec.motorcycles',\n",
       " 'rec.sport.baseball',\n",
       " 'rec.sport.hockey',\n",
       " 'sci.crypt',\n",
       " 'sci.electronics',\n",
       " 'sci.med',\n",
       " 'sci.space',\n",
       " 'soc.religion.christian',\n",
       " 'talk.politics.guns',\n",
       " 'talk.politics.mideast',\n",
       " 'talk.politics.misc',\n",
       " 'talk.religion.misc']"
      ]
     },
     "execution_count": 82,
     "metadata": {},
     "output_type": "execute_result"
    }
   ],
   "source": [
    "data_test.target_names"
   ]
  },
  {
   "cell_type": "code",
   "execution_count": 83,
   "metadata": {},
   "outputs": [
    {
     "data": {
      "text/plain": [
       "array([1])"
      ]
     },
     "execution_count": 83,
     "metadata": {},
     "output_type": "execute_result"
    }
   ],
   "source": [
    "text_clf_ok.predict([data_test.data[497]])"
   ]
  },
  {
   "cell_type": "code",
   "execution_count": null,
   "metadata": {},
   "outputs": [],
   "source": []
  },
  {
   "cell_type": "code",
   "execution_count": 94,
   "metadata": {},
   "outputs": [],
   "source": [
    "luana = \"you are preparing for an exam thursday. The exam will be very easy and you can use \\\n",
    "you mac computer to do it. while you are doing you exams I will be watching the world \\\n",
    "cup games. Soccer games and baseball games as well\""
   ]
  },
  {
   "cell_type": "code",
   "execution_count": 95,
   "metadata": {},
   "outputs": [
    {
     "data": {
      "text/plain": [
       "'you are preparing for an exam thursday. The exam will be very easy and you can use you mac computer to do it. while you are doing you exams I will be watching the world cup games. Soccer games and baseball games as well'"
      ]
     },
     "execution_count": 95,
     "metadata": {},
     "output_type": "execute_result"
    }
   ],
   "source": [
    "luana"
   ]
  },
  {
   "cell_type": "code",
   "execution_count": 96,
   "metadata": {},
   "outputs": [
    {
     "data": {
      "text/plain": [
       "array([10])"
      ]
     },
     "execution_count": 96,
     "metadata": {},
     "output_type": "execute_result"
    }
   ],
   "source": [
    "text_clf_ok.predict([luana])"
   ]
  },
  {
   "cell_type": "code",
   "execution_count": 97,
   "metadata": {},
   "outputs": [
    {
     "data": {
      "text/plain": [
       "'rec.sport.baseball'"
      ]
     },
     "execution_count": 97,
     "metadata": {},
     "output_type": "execute_result"
    }
   ],
   "source": [
    "data_test.target_names[9]"
   ]
  },
  {
   "cell_type": "code",
   "execution_count": null,
   "metadata": {},
   "outputs": [],
   "source": []
  },
  {
   "cell_type": "code",
   "execution_count": 99,
   "metadata": {},
   "outputs": [],
   "source": [
    "andre = \"From: jbrown@vax.cns.muskingum.eduSubject: ESPN cares less about hockeyOrganization: Muskingum CollegeLines: 23ESPN is pathetic, I have been watching everybody complain about ESPN's coverageand I agree with all of you.  Might I suggest that we are getting all worked upover nothing.  We ALL knew that ESPN's coverage was going to suck.  I mean haveyou ever watched during the regular season Sportscenter coverage of hockey? Itsucks, I mean really sucks!!!  ESPN does not know hockey if it shot them in theass.  I was really pissed of about last night, coverage.  I go to school in OhioI *know* the Indians suck, so why show them?  If I were Bill Clement I wouldshoot myself.Anyway after I calmed down after I realized that they were not going to showovertime of the Caps Isles game I thought to myself I knew that this was goingto happen, in fact I remerbed myself praying that at least they would keep eventhe boring Devils game.Overall I think ESPN does not care if they show hockey or not and I firmlybelive that they have know respect for the fans. ie *because of contract       obligations*, screw you ESPN.Praise be to all hockey fans who put up with this shit!GO HAWKS!!!JB\""
   ]
  },
  {
   "cell_type": "code",
   "execution_count": 100,
   "metadata": {},
   "outputs": [
    {
     "data": {
      "text/plain": [
       "array([10])"
      ]
     },
     "execution_count": 100,
     "metadata": {},
     "output_type": "execute_result"
    }
   ],
   "source": [
    "text_clf_ok.predict([andre])"
   ]
  },
  {
   "cell_type": "code",
   "execution_count": 101,
   "metadata": {},
   "outputs": [
    {
     "data": {
      "text/plain": [
       "'rec.sport.hockey'"
      ]
     },
     "execution_count": 101,
     "metadata": {},
     "output_type": "execute_result"
    }
   ],
   "source": [
    "data_test.target_names[10]"
   ]
  },
  {
   "cell_type": "code",
   "execution_count": 102,
   "metadata": {},
   "outputs": [
    {
     "data": {
      "text/plain": [
       "'From: jmeritt@mental.mitre.orgSubject: Rawlins has been listening to the DevilOrganization: UTexas Mail-to-News GatewayLines: 5NNTP-Posting-Host: cs.utexas.eduGod ItSelf appeared to me and spoke to me, saying \"Rawlins has been listening toa deamon, and has been taken in by its satanic words!\"Now, how we tell which divine inspiration comes from the One True God and whichcomes from a satanic trickster?'"
      ]
     },
     "execution_count": 102,
     "metadata": {},
     "output_type": "execute_result"
    }
   ],
   "source": [
    "data_test.data[5000]"
   ]
  },
  {
   "cell_type": "code",
   "execution_count": 103,
   "metadata": {},
   "outputs": [
    {
     "data": {
      "text/plain": [
       "19"
      ]
     },
     "execution_count": 103,
     "metadata": {},
     "output_type": "execute_result"
    }
   ],
   "source": [
    "data_test.target[5000]"
   ]
  },
  {
   "cell_type": "code",
   "execution_count": 104,
   "metadata": {},
   "outputs": [
    {
     "data": {
      "text/plain": [
       "'talk.religion.misc'"
      ]
     },
     "execution_count": 104,
     "metadata": {},
     "output_type": "execute_result"
    }
   ],
   "source": [
    "data_test.target_names[19]"
   ]
  },
  {
   "cell_type": "code",
   "execution_count": null,
   "metadata": {},
   "outputs": [],
   "source": []
  },
  {
   "cell_type": "code",
   "execution_count": 105,
   "metadata": {},
   "outputs": [],
   "source": [
    "#texto = 'From: stimpy@dev-null.phys.psu.edu (Gregory Nagy)Subject: Re: ESPN UP YOURS .........Organization: Penn State Laboratory for Elementary Steam PhysicsLines: 52NNTP-Posting-Host: dev-null.phys.psu.eduIn article <C5u542.3CD@news.udel.edu> tmavor@earthview.cms.udel.edu writes:>>>>[Various justifiable rantings on ESPN coverage by several deleted]>>>>The only way to change ESPN\\'s thinking, if it is even possible, is to complain>to them directly.  Anyone know there telephone # in Bristol, Ct?  Heh... Try the rec.autos.sport FAQ. They are always calling ESPN to complain.I\\'m sure you could find the number for ABC there too, as many west-coast viewers were compaining about how something as boring as hockey cut intothe Long Beach GP. =)>>I do find it hard to believe that ESPN doesn\\'t think viewers will simply>change the channel from a boring game....I know I did.  And then, when>they didn\\'t show the NYI-Wash overtime(s), I was livid!  If I wanted>to watch baseball, I could have turned on the Phillies-Padres extra>inning game....instead, I went to bed angry......I boycotted ESPN\\'s>morning Sportscenter today, I was still so incensed.Were you (and several of the other people here it seems) asleep the day\"contracts\" were explained? ASPN has a piece of paper saying it MUSTshow that baseball game if it happens. Many businesses payedd money tohave their commercials run during a baseball game. This is a business,not your own personal video servant.>>My wife says I shouldn\\'t go to bed angry, but last nite.........GRRRRRRR!>Maybe you should put that anger into something positive. For example, I sawads for the new Dodge both on the ESPN and KBL broadcasts. Why not write toDodge saying that \"thanks to the ads run during the STANLEY CUP PLAYOFFS, you will now concider their products in the future. They love to hear stufflike that and in the future will be more willing to buy commercial timefor hockey games, giving ESPN (and other networks) more incentive to carrygames (just one example)Come on people, as great as we think it is, Hockey does not leapfrog the\"big three\" overight.> >--------------------------------------------------------------------->Tim Mavor   |  \"I am known by many names.......>College of Marine Studies  |   some call me.........Tim.\">Univ. of Delaware   |    >Newark, DE 19716   |  \"You know much that is hidden, O\\' Tim!\">tmavor@pandora.cms.udel.edu|  Monty Python and the Holy Grail--------------------------------------------------------------------->'\n",
    "#texto1 = 'One very good player played in the national baseball team'\n",
    "texto = 'From: JEK@cu.nih.gov Subject: Mary, \"blessed among women\" Lines: 23  Dave Bernard writes:   > When Elizabeth greeted Mary with the words: \"Blessed art thou  > among women\" (Luke 1:42), it appears that this places Mary  > beyond the sanctification of normal humanity.  But Deborah says (Judges 5:24):   > Blessed among women shall be Jael the wife of Heber the Kenite,  > Blessed above all women in the tents.  It can doubtless be taken that Jael\\'s slaying of Sisera was a type of Mary\\'s victory over sin. But even if we take Deborah\\'s words as applying prophetically or symbolically to Mary, they must still be applicable literally to Jael.  We may well take them to mean that God used her as a part of His plan for the deliverance of His people, and that she has this in common with Mary.  But we have no reason to suppose that they mean that she was sinless, and thus no reason to take the like expression applied to Mary as proof that she was sinless.   Yours,  James Kiefer'"
   ]
  },
  {
   "cell_type": "code",
   "execution_count": 106,
   "metadata": {},
   "outputs": [],
   "source": [
    "texto1 = 'Python is a very cool language. We can use it to program computers to do that we want. We can also break the computer motherboard if we perform very fast actions. Also, we can collect sports information from the web. If we collect the data with a Machintoch computer things will be much faster. Macs are the best computers in the market. Mac computers do not break. Apple is a very strong company'"
   ]
  },
  {
   "cell_type": "code",
   "execution_count": 107,
   "metadata": {},
   "outputs": [],
   "source": [
    "predictedNB = text_clf_ok.predict([texto])"
   ]
  },
  {
   "cell_type": "code",
   "execution_count": 108,
   "metadata": {},
   "outputs": [
    {
     "data": {
      "text/plain": [
       "array([15])"
      ]
     },
     "execution_count": 108,
     "metadata": {},
     "output_type": "execute_result"
    }
   ],
   "source": [
    "predictedNB"
   ]
  },
  {
   "cell_type": "code",
   "execution_count": 109,
   "metadata": {},
   "outputs": [
    {
     "data": {
      "text/plain": [
       "'soc.religion.christian'"
      ]
     },
     "execution_count": 109,
     "metadata": {},
     "output_type": "execute_result"
    }
   ],
   "source": [
    "data_test.target_names[15]"
   ]
  },
  {
   "cell_type": "code",
   "execution_count": null,
   "metadata": {},
   "outputs": [],
   "source": []
  },
  {
   "cell_type": "code",
   "execution_count": 111,
   "metadata": {},
   "outputs": [
    {
     "data": {
      "text/plain": [
       "'sci.crypt'"
      ]
     },
     "execution_count": 111,
     "metadata": {},
     "output_type": "execute_result"
    }
   ],
   "source": [
    "data_test.target_names[11]"
   ]
  },
  {
   "cell_type": "code",
   "execution_count": 112,
   "metadata": {},
   "outputs": [
    {
     "data": {
      "text/plain": [
       "array([[0.02320331, 0.04508057, 0.04298924, 0.04333396, 0.070177  ,\n",
       "        0.03411242, 0.07078026, 0.03182282, 0.02688393, 0.14179184,\n",
       "        0.16814726, 0.04514707, 0.0509542 , 0.0370633 , 0.03002339,\n",
       "        0.03291536, 0.03110471, 0.02669439, 0.02539111, 0.02238386]])"
      ]
     },
     "execution_count": 112,
     "metadata": {},
     "output_type": "execute_result"
    }
   ],
   "source": [
    "text_clf_ok.predict_proba([luana])"
   ]
  },
  {
   "cell_type": "markdown",
   "metadata": {},
   "source": [
    "### Construir segundo modelo de ML "
   ]
  },
  {
   "cell_type": "code",
   "execution_count": 113,
   "metadata": {},
   "outputs": [],
   "source": [
    "text_clf = Pipeline([('vect', CountVectorizer(stop_words='english')),\n",
    "                        ('tfidf', TfidfTransformer()),\n",
    "                        ('clf', MultinomialNB(fit_prior=False)),\n",
    "])\n",
    "\n",
    "parameters = {'vect__ngram_range': [(1, 1), (1, 2), (1, 3)],\n",
    "              'vect__max_df': (0.75, 0.80),\n",
    "              'tfidf__use_idf': (True, False),\n",
    "              'clf__alpha': (1e-2, 1e-5), # Additive (Laplace/Lidstone) smoothing parameter\n",
    "}"
   ]
  },
  {
   "cell_type": "code",
   "execution_count": 114,
   "metadata": {},
   "outputs": [],
   "source": [
    "gs_clf = GridSearchCV(text_clf, parameters, n_jobs=-1) # Number of jobs to run in parallel. None means 1. -1 means using all processors"
   ]
  },
  {
   "cell_type": "code",
   "execution_count": 115,
   "metadata": {},
   "outputs": [
    {
     "data": {
      "text/html": [
       "<style>#sk-container-id-4 {color: black;}#sk-container-id-4 pre{padding: 0;}#sk-container-id-4 div.sk-toggleable {background-color: white;}#sk-container-id-4 label.sk-toggleable__label {cursor: pointer;display: block;width: 100%;margin-bottom: 0;padding: 0.3em;box-sizing: border-box;text-align: center;}#sk-container-id-4 label.sk-toggleable__label-arrow:before {content: \"▸\";float: left;margin-right: 0.25em;color: #696969;}#sk-container-id-4 label.sk-toggleable__label-arrow:hover:before {color: black;}#sk-container-id-4 div.sk-estimator:hover label.sk-toggleable__label-arrow:before {color: black;}#sk-container-id-4 div.sk-toggleable__content {max-height: 0;max-width: 0;overflow: hidden;text-align: left;background-color: #f0f8ff;}#sk-container-id-4 div.sk-toggleable__content pre {margin: 0.2em;color: black;border-radius: 0.25em;background-color: #f0f8ff;}#sk-container-id-4 input.sk-toggleable__control:checked~div.sk-toggleable__content {max-height: 200px;max-width: 100%;overflow: auto;}#sk-container-id-4 input.sk-toggleable__control:checked~label.sk-toggleable__label-arrow:before {content: \"▾\";}#sk-container-id-4 div.sk-estimator input.sk-toggleable__control:checked~label.sk-toggleable__label {background-color: #d4ebff;}#sk-container-id-4 div.sk-label input.sk-toggleable__control:checked~label.sk-toggleable__label {background-color: #d4ebff;}#sk-container-id-4 input.sk-hidden--visually {border: 0;clip: rect(1px 1px 1px 1px);clip: rect(1px, 1px, 1px, 1px);height: 1px;margin: -1px;overflow: hidden;padding: 0;position: absolute;width: 1px;}#sk-container-id-4 div.sk-estimator {font-family: monospace;background-color: #f0f8ff;border: 1px dotted black;border-radius: 0.25em;box-sizing: border-box;margin-bottom: 0.5em;}#sk-container-id-4 div.sk-estimator:hover {background-color: #d4ebff;}#sk-container-id-4 div.sk-parallel-item::after {content: \"\";width: 100%;border-bottom: 1px solid gray;flex-grow: 1;}#sk-container-id-4 div.sk-label:hover label.sk-toggleable__label {background-color: #d4ebff;}#sk-container-id-4 div.sk-serial::before {content: \"\";position: absolute;border-left: 1px solid gray;box-sizing: border-box;top: 0;bottom: 0;left: 50%;z-index: 0;}#sk-container-id-4 div.sk-serial {display: flex;flex-direction: column;align-items: center;background-color: white;padding-right: 0.2em;padding-left: 0.2em;position: relative;}#sk-container-id-4 div.sk-item {position: relative;z-index: 1;}#sk-container-id-4 div.sk-parallel {display: flex;align-items: stretch;justify-content: center;background-color: white;position: relative;}#sk-container-id-4 div.sk-item::before, #sk-container-id-4 div.sk-parallel-item::before {content: \"\";position: absolute;border-left: 1px solid gray;box-sizing: border-box;top: 0;bottom: 0;left: 50%;z-index: -1;}#sk-container-id-4 div.sk-parallel-item {display: flex;flex-direction: column;z-index: 1;position: relative;background-color: white;}#sk-container-id-4 div.sk-parallel-item:first-child::after {align-self: flex-end;width: 50%;}#sk-container-id-4 div.sk-parallel-item:last-child::after {align-self: flex-start;width: 50%;}#sk-container-id-4 div.sk-parallel-item:only-child::after {width: 0;}#sk-container-id-4 div.sk-dashed-wrapped {border: 1px dashed gray;margin: 0 0.4em 0.5em 0.4em;box-sizing: border-box;padding-bottom: 0.4em;background-color: white;}#sk-container-id-4 div.sk-label label {font-family: monospace;font-weight: bold;display: inline-block;line-height: 1.2em;}#sk-container-id-4 div.sk-label-container {text-align: center;}#sk-container-id-4 div.sk-container {/* jupyter's `normalize.less` sets `[hidden] { display: none; }` but bootstrap.min.css set `[hidden] { display: none !important; }` so we also need the `!important` here to be able to override the default hidden behavior on the sphinx rendered scikit-learn.org. See: https://github.com/scikit-learn/scikit-learn/issues/21755 */display: inline-block !important;position: relative;}#sk-container-id-4 div.sk-text-repr-fallback {display: none;}</style><div id=\"sk-container-id-4\" class=\"sk-top-container\"><div class=\"sk-text-repr-fallback\"><pre>GridSearchCV(estimator=Pipeline(steps=[(&#x27;vect&#x27;,\n",
       "                                        CountVectorizer(stop_words=&#x27;english&#x27;)),\n",
       "                                       (&#x27;tfidf&#x27;, TfidfTransformer()),\n",
       "                                       (&#x27;clf&#x27;,\n",
       "                                        MultinomialNB(fit_prior=False))]),\n",
       "             n_jobs=-1,\n",
       "             param_grid={&#x27;clf__alpha&#x27;: (0.01, 1e-05),\n",
       "                         &#x27;tfidf__use_idf&#x27;: (True, False),\n",
       "                         &#x27;vect__max_df&#x27;: (0.75, 0.8),\n",
       "                         &#x27;vect__ngram_range&#x27;: [(1, 1), (1, 2), (1, 3)]})</pre><b>In a Jupyter environment, please rerun this cell to show the HTML representation or trust the notebook. <br />On GitHub, the HTML representation is unable to render, please try loading this page with nbviewer.org.</b></div><div class=\"sk-container\" hidden><div class=\"sk-item sk-dashed-wrapped\"><div class=\"sk-label-container\"><div class=\"sk-label sk-toggleable\"><input class=\"sk-toggleable__control sk-hidden--visually\" id=\"sk-estimator-id-10\" type=\"checkbox\" ><label for=\"sk-estimator-id-10\" class=\"sk-toggleable__label sk-toggleable__label-arrow\">GridSearchCV</label><div class=\"sk-toggleable__content\"><pre>GridSearchCV(estimator=Pipeline(steps=[(&#x27;vect&#x27;,\n",
       "                                        CountVectorizer(stop_words=&#x27;english&#x27;)),\n",
       "                                       (&#x27;tfidf&#x27;, TfidfTransformer()),\n",
       "                                       (&#x27;clf&#x27;,\n",
       "                                        MultinomialNB(fit_prior=False))]),\n",
       "             n_jobs=-1,\n",
       "             param_grid={&#x27;clf__alpha&#x27;: (0.01, 1e-05),\n",
       "                         &#x27;tfidf__use_idf&#x27;: (True, False),\n",
       "                         &#x27;vect__max_df&#x27;: (0.75, 0.8),\n",
       "                         &#x27;vect__ngram_range&#x27;: [(1, 1), (1, 2), (1, 3)]})</pre></div></div></div><div class=\"sk-parallel\"><div class=\"sk-parallel-item\"><div class=\"sk-item\"><div class=\"sk-label-container\"><div class=\"sk-label sk-toggleable\"><input class=\"sk-toggleable__control sk-hidden--visually\" id=\"sk-estimator-id-11\" type=\"checkbox\" ><label for=\"sk-estimator-id-11\" class=\"sk-toggleable__label sk-toggleable__label-arrow\">estimator: Pipeline</label><div class=\"sk-toggleable__content\"><pre>Pipeline(steps=[(&#x27;vect&#x27;, CountVectorizer(stop_words=&#x27;english&#x27;)),\n",
       "                (&#x27;tfidf&#x27;, TfidfTransformer()),\n",
       "                (&#x27;clf&#x27;, MultinomialNB(fit_prior=False))])</pre></div></div></div><div class=\"sk-serial\"><div class=\"sk-item\"><div class=\"sk-serial\"><div class=\"sk-item\"><div class=\"sk-estimator sk-toggleable\"><input class=\"sk-toggleable__control sk-hidden--visually\" id=\"sk-estimator-id-12\" type=\"checkbox\" ><label for=\"sk-estimator-id-12\" class=\"sk-toggleable__label sk-toggleable__label-arrow\">CountVectorizer</label><div class=\"sk-toggleable__content\"><pre>CountVectorizer(stop_words=&#x27;english&#x27;)</pre></div></div></div><div class=\"sk-item\"><div class=\"sk-estimator sk-toggleable\"><input class=\"sk-toggleable__control sk-hidden--visually\" id=\"sk-estimator-id-13\" type=\"checkbox\" ><label for=\"sk-estimator-id-13\" class=\"sk-toggleable__label sk-toggleable__label-arrow\">TfidfTransformer</label><div class=\"sk-toggleable__content\"><pre>TfidfTransformer()</pre></div></div></div><div class=\"sk-item\"><div class=\"sk-estimator sk-toggleable\"><input class=\"sk-toggleable__control sk-hidden--visually\" id=\"sk-estimator-id-14\" type=\"checkbox\" ><label for=\"sk-estimator-id-14\" class=\"sk-toggleable__label sk-toggleable__label-arrow\">MultinomialNB</label><div class=\"sk-toggleable__content\"><pre>MultinomialNB(fit_prior=False)</pre></div></div></div></div></div></div></div></div></div></div></div></div>"
      ],
      "text/plain": [
       "GridSearchCV(estimator=Pipeline(steps=[('vect',\n",
       "                                        CountVectorizer(stop_words='english')),\n",
       "                                       ('tfidf', TfidfTransformer()),\n",
       "                                       ('clf',\n",
       "                                        MultinomialNB(fit_prior=False))]),\n",
       "             n_jobs=-1,\n",
       "             param_grid={'clf__alpha': (0.01, 1e-05),\n",
       "                         'tfidf__use_idf': (True, False),\n",
       "                         'vect__max_df': (0.75, 0.8),\n",
       "                         'vect__ngram_range': [(1, 1), (1, 2), (1, 3)]})"
      ]
     },
     "execution_count": 115,
     "metadata": {},
     "output_type": "execute_result"
    }
   ],
   "source": [
    "gs_clf"
   ]
  },
  {
   "cell_type": "code",
   "execution_count": 116,
   "metadata": {},
   "outputs": [
    {
     "name": "stderr",
     "output_type": "stream",
     "text": [
      "/Users/gustavorsampaio/miniconda3/lib/python3.11/site-packages/joblib/externals/loky/process_executor.py:752: UserWarning: A worker stopped while some jobs were given to the executor. This can be caused by a too short worker timeout or by a memory leak.\n",
      "  warnings.warn(\n"
     ]
    }
   ],
   "source": [
    "gs_clf_ok = gs_clf.fit(data_train.data, data_train.target)"
   ]
  },
  {
   "cell_type": "code",
   "execution_count": 117,
   "metadata": {},
   "outputs": [
    {
     "data": {
      "text/plain": [
       "0.9086975615492842"
      ]
     },
     "execution_count": 117,
     "metadata": {},
     "output_type": "execute_result"
    }
   ],
   "source": [
    "gs_clf.best_score_"
   ]
  },
  {
   "cell_type": "code",
   "execution_count": 118,
   "metadata": {},
   "outputs": [
    {
     "data": {
      "text/plain": [
       "{'clf__alpha': 0.01,\n",
       " 'tfidf__use_idf': False,\n",
       " 'vect__max_df': 0.75,\n",
       " 'vect__ngram_range': (1, 1)}"
      ]
     },
     "execution_count": 118,
     "metadata": {},
     "output_type": "execute_result"
    }
   ],
   "source": [
    "gs_clf.best_params_"
   ]
  },
  {
   "cell_type": "code",
   "execution_count": 119,
   "metadata": {},
   "outputs": [],
   "source": [
    "text_clf_final = Pipeline([('vect', CountVectorizer(stop_words='english', max_df=0.75, ngram_range=(1, 1))),\n",
    "                    ('tfidf', TfidfTransformer(use_idf=False)),\n",
    "                    ('clf', MultinomialNB(fit_prior=False, alpha=0.01)), #Whether to learn class prior probabilities or not. If false, a uniform prior will be used.\n",
    "                    ])"
   ]
  },
  {
   "cell_type": "code",
   "execution_count": 120,
   "metadata": {},
   "outputs": [
    {
     "data": {
      "text/html": [
       "<style>#sk-container-id-5 {color: black;}#sk-container-id-5 pre{padding: 0;}#sk-container-id-5 div.sk-toggleable {background-color: white;}#sk-container-id-5 label.sk-toggleable__label {cursor: pointer;display: block;width: 100%;margin-bottom: 0;padding: 0.3em;box-sizing: border-box;text-align: center;}#sk-container-id-5 label.sk-toggleable__label-arrow:before {content: \"▸\";float: left;margin-right: 0.25em;color: #696969;}#sk-container-id-5 label.sk-toggleable__label-arrow:hover:before {color: black;}#sk-container-id-5 div.sk-estimator:hover label.sk-toggleable__label-arrow:before {color: black;}#sk-container-id-5 div.sk-toggleable__content {max-height: 0;max-width: 0;overflow: hidden;text-align: left;background-color: #f0f8ff;}#sk-container-id-5 div.sk-toggleable__content pre {margin: 0.2em;color: black;border-radius: 0.25em;background-color: #f0f8ff;}#sk-container-id-5 input.sk-toggleable__control:checked~div.sk-toggleable__content {max-height: 200px;max-width: 100%;overflow: auto;}#sk-container-id-5 input.sk-toggleable__control:checked~label.sk-toggleable__label-arrow:before {content: \"▾\";}#sk-container-id-5 div.sk-estimator input.sk-toggleable__control:checked~label.sk-toggleable__label {background-color: #d4ebff;}#sk-container-id-5 div.sk-label input.sk-toggleable__control:checked~label.sk-toggleable__label {background-color: #d4ebff;}#sk-container-id-5 input.sk-hidden--visually {border: 0;clip: rect(1px 1px 1px 1px);clip: rect(1px, 1px, 1px, 1px);height: 1px;margin: -1px;overflow: hidden;padding: 0;position: absolute;width: 1px;}#sk-container-id-5 div.sk-estimator {font-family: monospace;background-color: #f0f8ff;border: 1px dotted black;border-radius: 0.25em;box-sizing: border-box;margin-bottom: 0.5em;}#sk-container-id-5 div.sk-estimator:hover {background-color: #d4ebff;}#sk-container-id-5 div.sk-parallel-item::after {content: \"\";width: 100%;border-bottom: 1px solid gray;flex-grow: 1;}#sk-container-id-5 div.sk-label:hover label.sk-toggleable__label {background-color: #d4ebff;}#sk-container-id-5 div.sk-serial::before {content: \"\";position: absolute;border-left: 1px solid gray;box-sizing: border-box;top: 0;bottom: 0;left: 50%;z-index: 0;}#sk-container-id-5 div.sk-serial {display: flex;flex-direction: column;align-items: center;background-color: white;padding-right: 0.2em;padding-left: 0.2em;position: relative;}#sk-container-id-5 div.sk-item {position: relative;z-index: 1;}#sk-container-id-5 div.sk-parallel {display: flex;align-items: stretch;justify-content: center;background-color: white;position: relative;}#sk-container-id-5 div.sk-item::before, #sk-container-id-5 div.sk-parallel-item::before {content: \"\";position: absolute;border-left: 1px solid gray;box-sizing: border-box;top: 0;bottom: 0;left: 50%;z-index: -1;}#sk-container-id-5 div.sk-parallel-item {display: flex;flex-direction: column;z-index: 1;position: relative;background-color: white;}#sk-container-id-5 div.sk-parallel-item:first-child::after {align-self: flex-end;width: 50%;}#sk-container-id-5 div.sk-parallel-item:last-child::after {align-self: flex-start;width: 50%;}#sk-container-id-5 div.sk-parallel-item:only-child::after {width: 0;}#sk-container-id-5 div.sk-dashed-wrapped {border: 1px dashed gray;margin: 0 0.4em 0.5em 0.4em;box-sizing: border-box;padding-bottom: 0.4em;background-color: white;}#sk-container-id-5 div.sk-label label {font-family: monospace;font-weight: bold;display: inline-block;line-height: 1.2em;}#sk-container-id-5 div.sk-label-container {text-align: center;}#sk-container-id-5 div.sk-container {/* jupyter's `normalize.less` sets `[hidden] { display: none; }` but bootstrap.min.css set `[hidden] { display: none !important; }` so we also need the `!important` here to be able to override the default hidden behavior on the sphinx rendered scikit-learn.org. See: https://github.com/scikit-learn/scikit-learn/issues/21755 */display: inline-block !important;position: relative;}#sk-container-id-5 div.sk-text-repr-fallback {display: none;}</style><div id=\"sk-container-id-5\" class=\"sk-top-container\"><div class=\"sk-text-repr-fallback\"><pre>Pipeline(steps=[(&#x27;vect&#x27;, CountVectorizer(max_df=0.75, stop_words=&#x27;english&#x27;)),\n",
       "                (&#x27;tfidf&#x27;, TfidfTransformer(use_idf=False)),\n",
       "                (&#x27;clf&#x27;, MultinomialNB(alpha=0.01, fit_prior=False))])</pre><b>In a Jupyter environment, please rerun this cell to show the HTML representation or trust the notebook. <br />On GitHub, the HTML representation is unable to render, please try loading this page with nbviewer.org.</b></div><div class=\"sk-container\" hidden><div class=\"sk-item sk-dashed-wrapped\"><div class=\"sk-label-container\"><div class=\"sk-label sk-toggleable\"><input class=\"sk-toggleable__control sk-hidden--visually\" id=\"sk-estimator-id-15\" type=\"checkbox\" ><label for=\"sk-estimator-id-15\" class=\"sk-toggleable__label sk-toggleable__label-arrow\">Pipeline</label><div class=\"sk-toggleable__content\"><pre>Pipeline(steps=[(&#x27;vect&#x27;, CountVectorizer(max_df=0.75, stop_words=&#x27;english&#x27;)),\n",
       "                (&#x27;tfidf&#x27;, TfidfTransformer(use_idf=False)),\n",
       "                (&#x27;clf&#x27;, MultinomialNB(alpha=0.01, fit_prior=False))])</pre></div></div></div><div class=\"sk-serial\"><div class=\"sk-item\"><div class=\"sk-estimator sk-toggleable\"><input class=\"sk-toggleable__control sk-hidden--visually\" id=\"sk-estimator-id-16\" type=\"checkbox\" ><label for=\"sk-estimator-id-16\" class=\"sk-toggleable__label sk-toggleable__label-arrow\">CountVectorizer</label><div class=\"sk-toggleable__content\"><pre>CountVectorizer(max_df=0.75, stop_words=&#x27;english&#x27;)</pre></div></div></div><div class=\"sk-item\"><div class=\"sk-estimator sk-toggleable\"><input class=\"sk-toggleable__control sk-hidden--visually\" id=\"sk-estimator-id-17\" type=\"checkbox\" ><label for=\"sk-estimator-id-17\" class=\"sk-toggleable__label sk-toggleable__label-arrow\">TfidfTransformer</label><div class=\"sk-toggleable__content\"><pre>TfidfTransformer(use_idf=False)</pre></div></div></div><div class=\"sk-item\"><div class=\"sk-estimator sk-toggleable\"><input class=\"sk-toggleable__control sk-hidden--visually\" id=\"sk-estimator-id-18\" type=\"checkbox\" ><label for=\"sk-estimator-id-18\" class=\"sk-toggleable__label sk-toggleable__label-arrow\">MultinomialNB</label><div class=\"sk-toggleable__content\"><pre>MultinomialNB(alpha=0.01, fit_prior=False)</pre></div></div></div></div></div></div></div>"
      ],
      "text/plain": [
       "Pipeline(steps=[('vect', CountVectorizer(max_df=0.75, stop_words='english')),\n",
       "                ('tfidf', TfidfTransformer(use_idf=False)),\n",
       "                ('clf', MultinomialNB(alpha=0.01, fit_prior=False))])"
      ]
     },
     "execution_count": 120,
     "metadata": {},
     "output_type": "execute_result"
    }
   ],
   "source": [
    "text_clf_final"
   ]
  },
  {
   "cell_type": "code",
   "execution_count": 121,
   "metadata": {},
   "outputs": [
    {
     "name": "stdout",
     "output_type": "stream",
     "text": [
      "Taxa de acerto:  0.8345724907063197\n"
     ]
    }
   ],
   "source": [
    "predicted = gs_clf.predict(data_test.data)\n",
    "print('Taxa de acerto: ', np.mean(predicted == data_test.target))"
   ]
  },
  {
   "cell_type": "code",
   "execution_count": null,
   "metadata": {},
   "outputs": [],
   "source": []
  },
  {
   "cell_type": "markdown",
   "metadata": {},
   "source": [
    "### Construir terceiro modelo de ML "
   ]
  },
  {
   "cell_type": "code",
   "execution_count": 122,
   "metadata": {},
   "outputs": [],
   "source": [
    "text_clf_svm = Pipeline([('vect', CountVectorizer(stop_words='english')),\n",
    "                     ('tfidf', TfidfTransformer()),\n",
    "                     ('clf-svm', SGDClassifier(loss='hinge', penalty='l2', alpha=1e-3, max_iter=15, random_state=42)), # loss: The loss function to be used, penalty: The penalty (aka regularization term) to be used, n_iter: The number of passes over the training data, random_state: The seed of the pseudo random number generator to use when shuffling the data\n",
    "])\n",
    "parameters_svm = {'vect__ngram_range': [(1, 1), (1, 2), (1, 3)],\n",
    "                  'vect__max_df': (0.75, 0.80),\n",
    "                  'tfidf__use_idf': (True, False),\n",
    "                  'clf-svm__alpha': (1e-2, 1e-5),\n",
    "}"
   ]
  },
  {
   "cell_type": "code",
   "execution_count": 123,
   "metadata": {},
   "outputs": [],
   "source": [
    "gs_clf_svm = GridSearchCV(text_clf_svm, parameters_svm, n_jobs=-1)"
   ]
  },
  {
   "cell_type": "code",
   "execution_count": 124,
   "metadata": {},
   "outputs": [
    {
     "name": "stderr",
     "output_type": "stream",
     "text": [
      "/Users/gustavorsampaio/miniconda3/lib/python3.11/site-packages/joblib/externals/loky/process_executor.py:752: UserWarning: A worker stopped while some jobs were given to the executor. This can be caused by a too short worker timeout or by a memory leak.\n",
      "  warnings.warn(\n"
     ]
    }
   ],
   "source": [
    "gs_clf_svm_ok = gs_clf_svm.fit(data_train.data, data_train.target)"
   ]
  },
  {
   "cell_type": "code",
   "execution_count": 125,
   "metadata": {},
   "outputs": [
    {
     "data": {
      "text/plain": [
       "0.9228390597522205"
      ]
     },
     "execution_count": 125,
     "metadata": {},
     "output_type": "execute_result"
    }
   ],
   "source": [
    "gs_clf_svm_ok.best_score_"
   ]
  },
  {
   "cell_type": "code",
   "execution_count": 126,
   "metadata": {},
   "outputs": [
    {
     "data": {
      "text/plain": [
       "{'clf-svm__alpha': 1e-05,\n",
       " 'tfidf__use_idf': True,\n",
       " 'vect__max_df': 0.75,\n",
       " 'vect__ngram_range': (1, 2)}"
      ]
     },
     "execution_count": 126,
     "metadata": {},
     "output_type": "execute_result"
    }
   ],
   "source": [
    "gs_clf_svm_ok.best_params_"
   ]
  },
  {
   "cell_type": "code",
   "execution_count": null,
   "metadata": {},
   "outputs": [],
   "source": []
  },
  {
   "cell_type": "code",
   "execution_count": 127,
   "metadata": {},
   "outputs": [
    {
     "data": {
      "text/plain": [
       "array([10, 16, 10, ...,  3,  3,  7])"
      ]
     },
     "execution_count": 127,
     "metadata": {},
     "output_type": "execute_result"
    }
   ],
   "source": [
    "predicted"
   ]
  },
  {
   "cell_type": "code",
   "execution_count": 128,
   "metadata": {},
   "outputs": [
    {
     "data": {
      "text/plain": [
       "array([10, 16, 14, ...,  4,  6,  7])"
      ]
     },
     "execution_count": 128,
     "metadata": {},
     "output_type": "execute_result"
    }
   ],
   "source": [
    "data_test.target"
   ]
  },
  {
   "cell_type": "code",
   "execution_count": 129,
   "metadata": {},
   "outputs": [
    {
     "data": {
      "text/plain": [
       "array([ True,  True, False, ..., False, False,  True])"
      ]
     },
     "execution_count": 129,
     "metadata": {},
     "output_type": "execute_result"
    }
   ],
   "source": [
    "predicted == data_test.target"
   ]
  },
  {
   "cell_type": "code",
   "execution_count": 130,
   "metadata": {},
   "outputs": [
    {
     "data": {
      "text/plain": [
       "9.666666666666666"
      ]
     },
     "execution_count": 130,
     "metadata": {},
     "output_type": "execute_result"
    }
   ],
   "source": [
    "np.mean([10,9,10])"
   ]
  },
  {
   "cell_type": "code",
   "execution_count": 131,
   "metadata": {},
   "outputs": [],
   "source": [
    "from sklearn.metrics import accuracy_score"
   ]
  },
  {
   "cell_type": "code",
   "execution_count": 132,
   "metadata": {},
   "outputs": [
    {
     "name": "stdout",
     "output_type": "stream",
     "text": [
      "0.8345724907063197\n"
     ]
    }
   ],
   "source": [
    "print(accuracy_score(data_test.target, predicted))"
   ]
  },
  {
   "cell_type": "code",
   "execution_count": null,
   "metadata": {},
   "outputs": [],
   "source": []
  },
  {
   "cell_type": "code",
   "execution_count": 133,
   "metadata": {},
   "outputs": [
    {
     "data": {
      "text/plain": [
       "array([4])"
      ]
     },
     "execution_count": 133,
     "metadata": {},
     "output_type": "execute_result"
    }
   ],
   "source": [
    "gs_clf_svm_ok.predict([texto1])"
   ]
  },
  {
   "cell_type": "code",
   "execution_count": null,
   "metadata": {},
   "outputs": [],
   "source": []
  },
  {
   "cell_type": "code",
   "execution_count": null,
   "metadata": {},
   "outputs": [],
   "source": []
  },
  {
   "cell_type": "code",
   "execution_count": 134,
   "metadata": {},
   "outputs": [
    {
     "name": "stdout",
     "output_type": "stream",
     "text": [
      "Taxa de acerto:  0.8459904407859798\n"
     ]
    }
   ],
   "source": [
    "predicted = gs_clf_svm_ok.predict(data_test.data)\n",
    "print('Taxa de acerto: ', np.mean(predicted == data_test.target))"
   ]
  },
  {
   "cell_type": "markdown",
   "metadata": {},
   "source": [
    "Montar modelo com melhores parâmetros"
   ]
  },
  {
   "cell_type": "code",
   "execution_count": 136,
   "metadata": {},
   "outputs": [
    {
     "data": {
      "text/plain": [
       "0.7643388210302708"
      ]
     },
     "execution_count": 136,
     "metadata": {},
     "output_type": "execute_result"
    }
   ],
   "source": [
    "text_clf_svm = Pipeline([('vect', CountVectorizer(stop_words='english', max_df=0.75, ngram_range=(1, 2))),\n",
    "                     ('tfidf', TfidfTransformer(use_idf=False)),\n",
    "                     ('clf-svm', SGDClassifier(loss='squared_hinge', penalty='elasticnet', alpha=1e-5, max_iter=90, random_state=42)),\n",
    "])\n",
    "text_clf_svm = text_clf_svm.fit(data_train.data, data_train.target)\n",
    "predicted_svm = text_clf_svm.predict(data_test.data)\n",
    "np.mean(predicted_svm == data_test.target)"
   ]
  },
  {
   "cell_type": "code",
   "execution_count": null,
   "metadata": {},
   "outputs": [],
   "source": []
  },
  {
   "cell_type": "code",
   "execution_count": 137,
   "metadata": {},
   "outputs": [
    {
     "data": {
      "text/plain": [
       "array([10, 16, 14, ...,  4,  6,  7])"
      ]
     },
     "execution_count": 137,
     "metadata": {},
     "output_type": "execute_result"
    }
   ],
   "source": [
    "data_test.target"
   ]
  },
  {
   "cell_type": "code",
   "execution_count": 138,
   "metadata": {},
   "outputs": [
    {
     "data": {
      "text/plain": [
       "array([10, 16, 10, ...,  3,  3,  7])"
      ]
     },
     "execution_count": 138,
     "metadata": {},
     "output_type": "execute_result"
    }
   ],
   "source": [
    "gs_clf.predict(data_test.data)"
   ]
  },
  {
   "cell_type": "code",
   "execution_count": 139,
   "metadata": {},
   "outputs": [
    {
     "data": {
      "text/plain": [
       "array([9])"
      ]
     },
     "execution_count": 139,
     "metadata": {},
     "output_type": "execute_result"
    }
   ],
   "source": [
    "gs_clf.predict([\"baseball baseball baseball\"])"
   ]
  },
  {
   "cell_type": "code",
   "execution_count": null,
   "metadata": {},
   "outputs": [],
   "source": []
  },
  {
   "cell_type": "code",
   "execution_count": null,
   "metadata": {},
   "outputs": [],
   "source": []
  },
  {
   "cell_type": "code",
   "execution_count": 140,
   "metadata": {},
   "outputs": [],
   "source": [
    "le = preprocessing.LabelEncoder()"
   ]
  },
  {
   "cell_type": "code",
   "execution_count": 141,
   "metadata": {},
   "outputs": [
    {
     "data": {
      "text/html": [
       "<style>#sk-container-id-6 {color: black;}#sk-container-id-6 pre{padding: 0;}#sk-container-id-6 div.sk-toggleable {background-color: white;}#sk-container-id-6 label.sk-toggleable__label {cursor: pointer;display: block;width: 100%;margin-bottom: 0;padding: 0.3em;box-sizing: border-box;text-align: center;}#sk-container-id-6 label.sk-toggleable__label-arrow:before {content: \"▸\";float: left;margin-right: 0.25em;color: #696969;}#sk-container-id-6 label.sk-toggleable__label-arrow:hover:before {color: black;}#sk-container-id-6 div.sk-estimator:hover label.sk-toggleable__label-arrow:before {color: black;}#sk-container-id-6 div.sk-toggleable__content {max-height: 0;max-width: 0;overflow: hidden;text-align: left;background-color: #f0f8ff;}#sk-container-id-6 div.sk-toggleable__content pre {margin: 0.2em;color: black;border-radius: 0.25em;background-color: #f0f8ff;}#sk-container-id-6 input.sk-toggleable__control:checked~div.sk-toggleable__content {max-height: 200px;max-width: 100%;overflow: auto;}#sk-container-id-6 input.sk-toggleable__control:checked~label.sk-toggleable__label-arrow:before {content: \"▾\";}#sk-container-id-6 div.sk-estimator input.sk-toggleable__control:checked~label.sk-toggleable__label {background-color: #d4ebff;}#sk-container-id-6 div.sk-label input.sk-toggleable__control:checked~label.sk-toggleable__label {background-color: #d4ebff;}#sk-container-id-6 input.sk-hidden--visually {border: 0;clip: rect(1px 1px 1px 1px);clip: rect(1px, 1px, 1px, 1px);height: 1px;margin: -1px;overflow: hidden;padding: 0;position: absolute;width: 1px;}#sk-container-id-6 div.sk-estimator {font-family: monospace;background-color: #f0f8ff;border: 1px dotted black;border-radius: 0.25em;box-sizing: border-box;margin-bottom: 0.5em;}#sk-container-id-6 div.sk-estimator:hover {background-color: #d4ebff;}#sk-container-id-6 div.sk-parallel-item::after {content: \"\";width: 100%;border-bottom: 1px solid gray;flex-grow: 1;}#sk-container-id-6 div.sk-label:hover label.sk-toggleable__label {background-color: #d4ebff;}#sk-container-id-6 div.sk-serial::before {content: \"\";position: absolute;border-left: 1px solid gray;box-sizing: border-box;top: 0;bottom: 0;left: 50%;z-index: 0;}#sk-container-id-6 div.sk-serial {display: flex;flex-direction: column;align-items: center;background-color: white;padding-right: 0.2em;padding-left: 0.2em;position: relative;}#sk-container-id-6 div.sk-item {position: relative;z-index: 1;}#sk-container-id-6 div.sk-parallel {display: flex;align-items: stretch;justify-content: center;background-color: white;position: relative;}#sk-container-id-6 div.sk-item::before, #sk-container-id-6 div.sk-parallel-item::before {content: \"\";position: absolute;border-left: 1px solid gray;box-sizing: border-box;top: 0;bottom: 0;left: 50%;z-index: -1;}#sk-container-id-6 div.sk-parallel-item {display: flex;flex-direction: column;z-index: 1;position: relative;background-color: white;}#sk-container-id-6 div.sk-parallel-item:first-child::after {align-self: flex-end;width: 50%;}#sk-container-id-6 div.sk-parallel-item:last-child::after {align-self: flex-start;width: 50%;}#sk-container-id-6 div.sk-parallel-item:only-child::after {width: 0;}#sk-container-id-6 div.sk-dashed-wrapped {border: 1px dashed gray;margin: 0 0.4em 0.5em 0.4em;box-sizing: border-box;padding-bottom: 0.4em;background-color: white;}#sk-container-id-6 div.sk-label label {font-family: monospace;font-weight: bold;display: inline-block;line-height: 1.2em;}#sk-container-id-6 div.sk-label-container {text-align: center;}#sk-container-id-6 div.sk-container {/* jupyter's `normalize.less` sets `[hidden] { display: none; }` but bootstrap.min.css set `[hidden] { display: none !important; }` so we also need the `!important` here to be able to override the default hidden behavior on the sphinx rendered scikit-learn.org. See: https://github.com/scikit-learn/scikit-learn/issues/21755 */display: inline-block !important;position: relative;}#sk-container-id-6 div.sk-text-repr-fallback {display: none;}</style><div id=\"sk-container-id-6\" class=\"sk-top-container\"><div class=\"sk-text-repr-fallback\"><pre>LabelEncoder()</pre><b>In a Jupyter environment, please rerun this cell to show the HTML representation or trust the notebook. <br />On GitHub, the HTML representation is unable to render, please try loading this page with nbviewer.org.</b></div><div class=\"sk-container\" hidden><div class=\"sk-item\"><div class=\"sk-estimator sk-toggleable\"><input class=\"sk-toggleable__control sk-hidden--visually\" id=\"sk-estimator-id-19\" type=\"checkbox\" checked><label for=\"sk-estimator-id-19\" class=\"sk-toggleable__label sk-toggleable__label-arrow\">LabelEncoder</label><div class=\"sk-toggleable__content\"><pre>LabelEncoder()</pre></div></div></div></div></div>"
      ],
      "text/plain": [
       "LabelEncoder()"
      ]
     },
     "execution_count": 141,
     "metadata": {},
     "output_type": "execute_result"
    }
   ],
   "source": [
    "le"
   ]
  },
  {
   "cell_type": "code",
   "execution_count": 142,
   "metadata": {},
   "outputs": [
    {
     "data": {
      "text/plain": [
       "['alt.atheism',\n",
       " 'comp.graphics',\n",
       " 'comp.os.ms-windows.misc',\n",
       " 'comp.sys.ibm.pc.hardware',\n",
       " 'comp.sys.mac.hardware',\n",
       " 'comp.windows.x',\n",
       " 'misc.forsale',\n",
       " 'rec.autos',\n",
       " 'rec.motorcycles',\n",
       " 'rec.sport.baseball',\n",
       " 'rec.sport.hockey',\n",
       " 'sci.crypt',\n",
       " 'sci.electronics',\n",
       " 'sci.med',\n",
       " 'sci.space',\n",
       " 'soc.religion.christian',\n",
       " 'talk.politics.guns',\n",
       " 'talk.politics.mideast',\n",
       " 'talk.politics.misc',\n",
       " 'talk.religion.misc']"
      ]
     },
     "execution_count": 142,
     "metadata": {},
     "output_type": "execute_result"
    }
   ],
   "source": [
    "data_train.target_names"
   ]
  },
  {
   "cell_type": "code",
   "execution_count": 143,
   "metadata": {},
   "outputs": [
    {
     "data": {
      "text/html": [
       "<style>#sk-container-id-7 {color: black;}#sk-container-id-7 pre{padding: 0;}#sk-container-id-7 div.sk-toggleable {background-color: white;}#sk-container-id-7 label.sk-toggleable__label {cursor: pointer;display: block;width: 100%;margin-bottom: 0;padding: 0.3em;box-sizing: border-box;text-align: center;}#sk-container-id-7 label.sk-toggleable__label-arrow:before {content: \"▸\";float: left;margin-right: 0.25em;color: #696969;}#sk-container-id-7 label.sk-toggleable__label-arrow:hover:before {color: black;}#sk-container-id-7 div.sk-estimator:hover label.sk-toggleable__label-arrow:before {color: black;}#sk-container-id-7 div.sk-toggleable__content {max-height: 0;max-width: 0;overflow: hidden;text-align: left;background-color: #f0f8ff;}#sk-container-id-7 div.sk-toggleable__content pre {margin: 0.2em;color: black;border-radius: 0.25em;background-color: #f0f8ff;}#sk-container-id-7 input.sk-toggleable__control:checked~div.sk-toggleable__content {max-height: 200px;max-width: 100%;overflow: auto;}#sk-container-id-7 input.sk-toggleable__control:checked~label.sk-toggleable__label-arrow:before {content: \"▾\";}#sk-container-id-7 div.sk-estimator input.sk-toggleable__control:checked~label.sk-toggleable__label {background-color: #d4ebff;}#sk-container-id-7 div.sk-label input.sk-toggleable__control:checked~label.sk-toggleable__label {background-color: #d4ebff;}#sk-container-id-7 input.sk-hidden--visually {border: 0;clip: rect(1px 1px 1px 1px);clip: rect(1px, 1px, 1px, 1px);height: 1px;margin: -1px;overflow: hidden;padding: 0;position: absolute;width: 1px;}#sk-container-id-7 div.sk-estimator {font-family: monospace;background-color: #f0f8ff;border: 1px dotted black;border-radius: 0.25em;box-sizing: border-box;margin-bottom: 0.5em;}#sk-container-id-7 div.sk-estimator:hover {background-color: #d4ebff;}#sk-container-id-7 div.sk-parallel-item::after {content: \"\";width: 100%;border-bottom: 1px solid gray;flex-grow: 1;}#sk-container-id-7 div.sk-label:hover label.sk-toggleable__label {background-color: #d4ebff;}#sk-container-id-7 div.sk-serial::before {content: \"\";position: absolute;border-left: 1px solid gray;box-sizing: border-box;top: 0;bottom: 0;left: 50%;z-index: 0;}#sk-container-id-7 div.sk-serial {display: flex;flex-direction: column;align-items: center;background-color: white;padding-right: 0.2em;padding-left: 0.2em;position: relative;}#sk-container-id-7 div.sk-item {position: relative;z-index: 1;}#sk-container-id-7 div.sk-parallel {display: flex;align-items: stretch;justify-content: center;background-color: white;position: relative;}#sk-container-id-7 div.sk-item::before, #sk-container-id-7 div.sk-parallel-item::before {content: \"\";position: absolute;border-left: 1px solid gray;box-sizing: border-box;top: 0;bottom: 0;left: 50%;z-index: -1;}#sk-container-id-7 div.sk-parallel-item {display: flex;flex-direction: column;z-index: 1;position: relative;background-color: white;}#sk-container-id-7 div.sk-parallel-item:first-child::after {align-self: flex-end;width: 50%;}#sk-container-id-7 div.sk-parallel-item:last-child::after {align-self: flex-start;width: 50%;}#sk-container-id-7 div.sk-parallel-item:only-child::after {width: 0;}#sk-container-id-7 div.sk-dashed-wrapped {border: 1px dashed gray;margin: 0 0.4em 0.5em 0.4em;box-sizing: border-box;padding-bottom: 0.4em;background-color: white;}#sk-container-id-7 div.sk-label label {font-family: monospace;font-weight: bold;display: inline-block;line-height: 1.2em;}#sk-container-id-7 div.sk-label-container {text-align: center;}#sk-container-id-7 div.sk-container {/* jupyter's `normalize.less` sets `[hidden] { display: none; }` but bootstrap.min.css set `[hidden] { display: none !important; }` so we also need the `!important` here to be able to override the default hidden behavior on the sphinx rendered scikit-learn.org. See: https://github.com/scikit-learn/scikit-learn/issues/21755 */display: inline-block !important;position: relative;}#sk-container-id-7 div.sk-text-repr-fallback {display: none;}</style><div id=\"sk-container-id-7\" class=\"sk-top-container\"><div class=\"sk-text-repr-fallback\"><pre>LabelEncoder()</pre><b>In a Jupyter environment, please rerun this cell to show the HTML representation or trust the notebook. <br />On GitHub, the HTML representation is unable to render, please try loading this page with nbviewer.org.</b></div><div class=\"sk-container\" hidden><div class=\"sk-item\"><div class=\"sk-estimator sk-toggleable\"><input class=\"sk-toggleable__control sk-hidden--visually\" id=\"sk-estimator-id-20\" type=\"checkbox\" checked><label for=\"sk-estimator-id-20\" class=\"sk-toggleable__label sk-toggleable__label-arrow\">LabelEncoder</label><div class=\"sk-toggleable__content\"><pre>LabelEncoder()</pre></div></div></div></div></div>"
      ],
      "text/plain": [
       "LabelEncoder()"
      ]
     },
     "execution_count": 143,
     "metadata": {},
     "output_type": "execute_result"
    }
   ],
   "source": [
    "le.fit(data_train.target_names)"
   ]
  },
  {
   "cell_type": "code",
   "execution_count": 144,
   "metadata": {},
   "outputs": [
    {
     "data": {
      "text/plain": [
       "['/Users/gustavorsampaio/Documents/Cursos/Python 2023.2/predictor_label.pkl']"
      ]
     },
     "execution_count": 144,
     "metadata": {},
     "output_type": "execute_result"
    }
   ],
   "source": [
    "joblib.dump(le, '/Users/gustavorsampaio/Documents/Cursos/Python 2023.2/predictor_label.pkl')"
   ]
  },
  {
   "cell_type": "code",
   "execution_count": null,
   "metadata": {},
   "outputs": [],
   "source": []
  },
  {
   "cell_type": "code",
   "execution_count": 145,
   "metadata": {},
   "outputs": [
    {
     "data": {
      "text/plain": [
       "['/Users/gustavorsampaio/Documents/Cursos/Python 2023.2/predictor_model.pkl']"
      ]
     },
     "execution_count": 145,
     "metadata": {},
     "output_type": "execute_result"
    }
   ],
   "source": [
    "joblib.dump(gs_clf_ok, '/Users/gustavorsampaio/Documents/Cursos/Python 2023.2/predictor_model.pkl')"
   ]
  },
  {
   "cell_type": "markdown",
   "metadata": {},
   "source": [
    "# Prever dados Não Classificados:"
   ]
  },
  {
   "cell_type": "code",
   "execution_count": 146,
   "metadata": {},
   "outputs": [],
   "source": [
    "from sklearn.preprocessing import LabelEncoder\n",
    "import joblib\n",
    "\n",
    "grs_clf = joblib.load('/Users/gustavorsampaio/Documents/Cursos/Python 2023.2/predictor_model.pkl')\n",
    "grs_le = joblib.load('/Users/gustavorsampaio/Documents/Cursos/Python 2023.2/predictor_label.pkl')"
   ]
  },
  {
   "cell_type": "code",
   "execution_count": 147,
   "metadata": {},
   "outputs": [
    {
     "data": {
      "text/html": [
       "<style>#sk-container-id-8 {color: black;}#sk-container-id-8 pre{padding: 0;}#sk-container-id-8 div.sk-toggleable {background-color: white;}#sk-container-id-8 label.sk-toggleable__label {cursor: pointer;display: block;width: 100%;margin-bottom: 0;padding: 0.3em;box-sizing: border-box;text-align: center;}#sk-container-id-8 label.sk-toggleable__label-arrow:before {content: \"▸\";float: left;margin-right: 0.25em;color: #696969;}#sk-container-id-8 label.sk-toggleable__label-arrow:hover:before {color: black;}#sk-container-id-8 div.sk-estimator:hover label.sk-toggleable__label-arrow:before {color: black;}#sk-container-id-8 div.sk-toggleable__content {max-height: 0;max-width: 0;overflow: hidden;text-align: left;background-color: #f0f8ff;}#sk-container-id-8 div.sk-toggleable__content pre {margin: 0.2em;color: black;border-radius: 0.25em;background-color: #f0f8ff;}#sk-container-id-8 input.sk-toggleable__control:checked~div.sk-toggleable__content {max-height: 200px;max-width: 100%;overflow: auto;}#sk-container-id-8 input.sk-toggleable__control:checked~label.sk-toggleable__label-arrow:before {content: \"▾\";}#sk-container-id-8 div.sk-estimator input.sk-toggleable__control:checked~label.sk-toggleable__label {background-color: #d4ebff;}#sk-container-id-8 div.sk-label input.sk-toggleable__control:checked~label.sk-toggleable__label {background-color: #d4ebff;}#sk-container-id-8 input.sk-hidden--visually {border: 0;clip: rect(1px 1px 1px 1px);clip: rect(1px, 1px, 1px, 1px);height: 1px;margin: -1px;overflow: hidden;padding: 0;position: absolute;width: 1px;}#sk-container-id-8 div.sk-estimator {font-family: monospace;background-color: #f0f8ff;border: 1px dotted black;border-radius: 0.25em;box-sizing: border-box;margin-bottom: 0.5em;}#sk-container-id-8 div.sk-estimator:hover {background-color: #d4ebff;}#sk-container-id-8 div.sk-parallel-item::after {content: \"\";width: 100%;border-bottom: 1px solid gray;flex-grow: 1;}#sk-container-id-8 div.sk-label:hover label.sk-toggleable__label {background-color: #d4ebff;}#sk-container-id-8 div.sk-serial::before {content: \"\";position: absolute;border-left: 1px solid gray;box-sizing: border-box;top: 0;bottom: 0;left: 50%;z-index: 0;}#sk-container-id-8 div.sk-serial {display: flex;flex-direction: column;align-items: center;background-color: white;padding-right: 0.2em;padding-left: 0.2em;position: relative;}#sk-container-id-8 div.sk-item {position: relative;z-index: 1;}#sk-container-id-8 div.sk-parallel {display: flex;align-items: stretch;justify-content: center;background-color: white;position: relative;}#sk-container-id-8 div.sk-item::before, #sk-container-id-8 div.sk-parallel-item::before {content: \"\";position: absolute;border-left: 1px solid gray;box-sizing: border-box;top: 0;bottom: 0;left: 50%;z-index: -1;}#sk-container-id-8 div.sk-parallel-item {display: flex;flex-direction: column;z-index: 1;position: relative;background-color: white;}#sk-container-id-8 div.sk-parallel-item:first-child::after {align-self: flex-end;width: 50%;}#sk-container-id-8 div.sk-parallel-item:last-child::after {align-self: flex-start;width: 50%;}#sk-container-id-8 div.sk-parallel-item:only-child::after {width: 0;}#sk-container-id-8 div.sk-dashed-wrapped {border: 1px dashed gray;margin: 0 0.4em 0.5em 0.4em;box-sizing: border-box;padding-bottom: 0.4em;background-color: white;}#sk-container-id-8 div.sk-label label {font-family: monospace;font-weight: bold;display: inline-block;line-height: 1.2em;}#sk-container-id-8 div.sk-label-container {text-align: center;}#sk-container-id-8 div.sk-container {/* jupyter's `normalize.less` sets `[hidden] { display: none; }` but bootstrap.min.css set `[hidden] { display: none !important; }` so we also need the `!important` here to be able to override the default hidden behavior on the sphinx rendered scikit-learn.org. See: https://github.com/scikit-learn/scikit-learn/issues/21755 */display: inline-block !important;position: relative;}#sk-container-id-8 div.sk-text-repr-fallback {display: none;}</style><div id=\"sk-container-id-8\" class=\"sk-top-container\"><div class=\"sk-text-repr-fallback\"><pre>LabelEncoder()</pre><b>In a Jupyter environment, please rerun this cell to show the HTML representation or trust the notebook. <br />On GitHub, the HTML representation is unable to render, please try loading this page with nbviewer.org.</b></div><div class=\"sk-container\" hidden><div class=\"sk-item\"><div class=\"sk-estimator sk-toggleable\"><input class=\"sk-toggleable__control sk-hidden--visually\" id=\"sk-estimator-id-21\" type=\"checkbox\" checked><label for=\"sk-estimator-id-21\" class=\"sk-toggleable__label sk-toggleable__label-arrow\">LabelEncoder</label><div class=\"sk-toggleable__content\"><pre>LabelEncoder()</pre></div></div></div></div></div>"
      ],
      "text/plain": [
       "LabelEncoder()"
      ]
     },
     "execution_count": 147,
     "metadata": {},
     "output_type": "execute_result"
    }
   ],
   "source": [
    "grs_le"
   ]
  },
  {
   "cell_type": "code",
   "execution_count": 148,
   "metadata": {},
   "outputs": [
    {
     "data": {
      "text/html": [
       "<style>#sk-container-id-9 {color: black;}#sk-container-id-9 pre{padding: 0;}#sk-container-id-9 div.sk-toggleable {background-color: white;}#sk-container-id-9 label.sk-toggleable__label {cursor: pointer;display: block;width: 100%;margin-bottom: 0;padding: 0.3em;box-sizing: border-box;text-align: center;}#sk-container-id-9 label.sk-toggleable__label-arrow:before {content: \"▸\";float: left;margin-right: 0.25em;color: #696969;}#sk-container-id-9 label.sk-toggleable__label-arrow:hover:before {color: black;}#sk-container-id-9 div.sk-estimator:hover label.sk-toggleable__label-arrow:before {color: black;}#sk-container-id-9 div.sk-toggleable__content {max-height: 0;max-width: 0;overflow: hidden;text-align: left;background-color: #f0f8ff;}#sk-container-id-9 div.sk-toggleable__content pre {margin: 0.2em;color: black;border-radius: 0.25em;background-color: #f0f8ff;}#sk-container-id-9 input.sk-toggleable__control:checked~div.sk-toggleable__content {max-height: 200px;max-width: 100%;overflow: auto;}#sk-container-id-9 input.sk-toggleable__control:checked~label.sk-toggleable__label-arrow:before {content: \"▾\";}#sk-container-id-9 div.sk-estimator input.sk-toggleable__control:checked~label.sk-toggleable__label {background-color: #d4ebff;}#sk-container-id-9 div.sk-label input.sk-toggleable__control:checked~label.sk-toggleable__label {background-color: #d4ebff;}#sk-container-id-9 input.sk-hidden--visually {border: 0;clip: rect(1px 1px 1px 1px);clip: rect(1px, 1px, 1px, 1px);height: 1px;margin: -1px;overflow: hidden;padding: 0;position: absolute;width: 1px;}#sk-container-id-9 div.sk-estimator {font-family: monospace;background-color: #f0f8ff;border: 1px dotted black;border-radius: 0.25em;box-sizing: border-box;margin-bottom: 0.5em;}#sk-container-id-9 div.sk-estimator:hover {background-color: #d4ebff;}#sk-container-id-9 div.sk-parallel-item::after {content: \"\";width: 100%;border-bottom: 1px solid gray;flex-grow: 1;}#sk-container-id-9 div.sk-label:hover label.sk-toggleable__label {background-color: #d4ebff;}#sk-container-id-9 div.sk-serial::before {content: \"\";position: absolute;border-left: 1px solid gray;box-sizing: border-box;top: 0;bottom: 0;left: 50%;z-index: 0;}#sk-container-id-9 div.sk-serial {display: flex;flex-direction: column;align-items: center;background-color: white;padding-right: 0.2em;padding-left: 0.2em;position: relative;}#sk-container-id-9 div.sk-item {position: relative;z-index: 1;}#sk-container-id-9 div.sk-parallel {display: flex;align-items: stretch;justify-content: center;background-color: white;position: relative;}#sk-container-id-9 div.sk-item::before, #sk-container-id-9 div.sk-parallel-item::before {content: \"\";position: absolute;border-left: 1px solid gray;box-sizing: border-box;top: 0;bottom: 0;left: 50%;z-index: -1;}#sk-container-id-9 div.sk-parallel-item {display: flex;flex-direction: column;z-index: 1;position: relative;background-color: white;}#sk-container-id-9 div.sk-parallel-item:first-child::after {align-self: flex-end;width: 50%;}#sk-container-id-9 div.sk-parallel-item:last-child::after {align-self: flex-start;width: 50%;}#sk-container-id-9 div.sk-parallel-item:only-child::after {width: 0;}#sk-container-id-9 div.sk-dashed-wrapped {border: 1px dashed gray;margin: 0 0.4em 0.5em 0.4em;box-sizing: border-box;padding-bottom: 0.4em;background-color: white;}#sk-container-id-9 div.sk-label label {font-family: monospace;font-weight: bold;display: inline-block;line-height: 1.2em;}#sk-container-id-9 div.sk-label-container {text-align: center;}#sk-container-id-9 div.sk-container {/* jupyter's `normalize.less` sets `[hidden] { display: none; }` but bootstrap.min.css set `[hidden] { display: none !important; }` so we also need the `!important` here to be able to override the default hidden behavior on the sphinx rendered scikit-learn.org. See: https://github.com/scikit-learn/scikit-learn/issues/21755 */display: inline-block !important;position: relative;}#sk-container-id-9 div.sk-text-repr-fallback {display: none;}</style><div id=\"sk-container-id-9\" class=\"sk-top-container\"><div class=\"sk-text-repr-fallback\"><pre>GridSearchCV(estimator=Pipeline(steps=[(&#x27;vect&#x27;,\n",
       "                                        CountVectorizer(stop_words=&#x27;english&#x27;)),\n",
       "                                       (&#x27;tfidf&#x27;, TfidfTransformer()),\n",
       "                                       (&#x27;clf&#x27;,\n",
       "                                        MultinomialNB(fit_prior=False))]),\n",
       "             n_jobs=-1,\n",
       "             param_grid={&#x27;clf__alpha&#x27;: (0.01, 1e-05),\n",
       "                         &#x27;tfidf__use_idf&#x27;: (True, False),\n",
       "                         &#x27;vect__max_df&#x27;: (0.75, 0.8),\n",
       "                         &#x27;vect__ngram_range&#x27;: [(1, 1), (1, 2), (1, 3)]})</pre><b>In a Jupyter environment, please rerun this cell to show the HTML representation or trust the notebook. <br />On GitHub, the HTML representation is unable to render, please try loading this page with nbviewer.org.</b></div><div class=\"sk-container\" hidden><div class=\"sk-item sk-dashed-wrapped\"><div class=\"sk-label-container\"><div class=\"sk-label sk-toggleable\"><input class=\"sk-toggleable__control sk-hidden--visually\" id=\"sk-estimator-id-22\" type=\"checkbox\" ><label for=\"sk-estimator-id-22\" class=\"sk-toggleable__label sk-toggleable__label-arrow\">GridSearchCV</label><div class=\"sk-toggleable__content\"><pre>GridSearchCV(estimator=Pipeline(steps=[(&#x27;vect&#x27;,\n",
       "                                        CountVectorizer(stop_words=&#x27;english&#x27;)),\n",
       "                                       (&#x27;tfidf&#x27;, TfidfTransformer()),\n",
       "                                       (&#x27;clf&#x27;,\n",
       "                                        MultinomialNB(fit_prior=False))]),\n",
       "             n_jobs=-1,\n",
       "             param_grid={&#x27;clf__alpha&#x27;: (0.01, 1e-05),\n",
       "                         &#x27;tfidf__use_idf&#x27;: (True, False),\n",
       "                         &#x27;vect__max_df&#x27;: (0.75, 0.8),\n",
       "                         &#x27;vect__ngram_range&#x27;: [(1, 1), (1, 2), (1, 3)]})</pre></div></div></div><div class=\"sk-parallel\"><div class=\"sk-parallel-item\"><div class=\"sk-item\"><div class=\"sk-label-container\"><div class=\"sk-label sk-toggleable\"><input class=\"sk-toggleable__control sk-hidden--visually\" id=\"sk-estimator-id-23\" type=\"checkbox\" ><label for=\"sk-estimator-id-23\" class=\"sk-toggleable__label sk-toggleable__label-arrow\">estimator: Pipeline</label><div class=\"sk-toggleable__content\"><pre>Pipeline(steps=[(&#x27;vect&#x27;, CountVectorizer(stop_words=&#x27;english&#x27;)),\n",
       "                (&#x27;tfidf&#x27;, TfidfTransformer()),\n",
       "                (&#x27;clf&#x27;, MultinomialNB(fit_prior=False))])</pre></div></div></div><div class=\"sk-serial\"><div class=\"sk-item\"><div class=\"sk-serial\"><div class=\"sk-item\"><div class=\"sk-estimator sk-toggleable\"><input class=\"sk-toggleable__control sk-hidden--visually\" id=\"sk-estimator-id-24\" type=\"checkbox\" ><label for=\"sk-estimator-id-24\" class=\"sk-toggleable__label sk-toggleable__label-arrow\">CountVectorizer</label><div class=\"sk-toggleable__content\"><pre>CountVectorizer(stop_words=&#x27;english&#x27;)</pre></div></div></div><div class=\"sk-item\"><div class=\"sk-estimator sk-toggleable\"><input class=\"sk-toggleable__control sk-hidden--visually\" id=\"sk-estimator-id-25\" type=\"checkbox\" ><label for=\"sk-estimator-id-25\" class=\"sk-toggleable__label sk-toggleable__label-arrow\">TfidfTransformer</label><div class=\"sk-toggleable__content\"><pre>TfidfTransformer()</pre></div></div></div><div class=\"sk-item\"><div class=\"sk-estimator sk-toggleable\"><input class=\"sk-toggleable__control sk-hidden--visually\" id=\"sk-estimator-id-26\" type=\"checkbox\" ><label for=\"sk-estimator-id-26\" class=\"sk-toggleable__label sk-toggleable__label-arrow\">MultinomialNB</label><div class=\"sk-toggleable__content\"><pre>MultinomialNB(fit_prior=False)</pre></div></div></div></div></div></div></div></div></div></div></div></div>"
      ],
      "text/plain": [
       "GridSearchCV(estimator=Pipeline(steps=[('vect',\n",
       "                                        CountVectorizer(stop_words='english')),\n",
       "                                       ('tfidf', TfidfTransformer()),\n",
       "                                       ('clf',\n",
       "                                        MultinomialNB(fit_prior=False))]),\n",
       "             n_jobs=-1,\n",
       "             param_grid={'clf__alpha': (0.01, 1e-05),\n",
       "                         'tfidf__use_idf': (True, False),\n",
       "                         'vect__max_df': (0.75, 0.8),\n",
       "                         'vect__ngram_range': [(1, 1), (1, 2), (1, 3)]})"
      ]
     },
     "execution_count": 148,
     "metadata": {},
     "output_type": "execute_result"
    }
   ],
   "source": [
    "grs_clf"
   ]
  },
  {
   "cell_type": "code",
   "execution_count": null,
   "metadata": {},
   "outputs": [],
   "source": []
  },
  {
   "cell_type": "markdown",
   "metadata": {},
   "source": [
    "### Colocar os textos numa lista para passar ao classificador."
   ]
  },
  {
   "cell_type": "code",
   "execution_count": 155,
   "metadata": {},
   "outputs": [],
   "source": [
    "#p = data_test.data[0:10]\n",
    "p = ['My computer runs faster than yours. It has 96 gb of RAM and it is a Macbook Pro. Macs ate the best']"
   ]
  },
  {
   "cell_type": "code",
   "execution_count": 156,
   "metadata": {},
   "outputs": [
    {
     "data": {
      "text/plain": [
       "['My computer runs faster than yours. It has 96 gb of RAM and it is a Macbook Pro. Macs ate the best']"
      ]
     },
     "execution_count": 156,
     "metadata": {},
     "output_type": "execute_result"
    }
   ],
   "source": [
    "p"
   ]
  },
  {
   "cell_type": "code",
   "execution_count": 157,
   "metadata": {},
   "outputs": [],
   "source": [
    "predicted_model = grs_clf.predict(p)"
   ]
  },
  {
   "cell_type": "code",
   "execution_count": 158,
   "metadata": {},
   "outputs": [
    {
     "data": {
      "text/plain": [
       "array([4])"
      ]
     },
     "execution_count": 158,
     "metadata": {},
     "output_type": "execute_result"
    }
   ],
   "source": [
    "predicted_model"
   ]
  },
  {
   "cell_type": "code",
   "execution_count": 159,
   "metadata": {},
   "outputs": [],
   "source": [
    "predicted_labels = grs_le.inverse_transform(predicted_model)"
   ]
  },
  {
   "cell_type": "code",
   "execution_count": 160,
   "metadata": {},
   "outputs": [
    {
     "name": "stdout",
     "output_type": "stream",
     "text": [
      "['comp.sys.mac.hardware']\n"
     ]
    }
   ],
   "source": [
    "print(predicted_labels)"
   ]
  },
  {
   "cell_type": "code",
   "execution_count": 161,
   "metadata": {},
   "outputs": [],
   "source": [
    "teste1 = 'My computer runs faster than yours. It has 96 gb of RAM and it is a Macbook Pro. Macs ate the best'"
   ]
  },
  {
   "cell_type": "code",
   "execution_count": 162,
   "metadata": {},
   "outputs": [],
   "source": [
    "teste2 = \"CLEVELAND -- Guardians catching prospect Andrés Meléndez died suddenly on Thursday afternoon in Miami, the team announced. He was 20 years old. No details were released on the cause of his death. Meléndez was born in Barquisimeto, Venezuela, and began his professional career in 2018, with the Brewers. He was acquired by Cleveland in a November '19 trade with Milwaukee. In 2021, he played 73 games for Low-A Lynchburg. In two years with the Guardians' organization, Meléndez quickly made an impact on his teammates, both in Lynchburg and the Arizona Rookie League.\""
   ]
  },
  {
   "cell_type": "code",
   "execution_count": 163,
   "metadata": {},
   "outputs": [],
   "source": [
    "predicted_model = grs_clf.predict([teste1, teste2])"
   ]
  },
  {
   "cell_type": "code",
   "execution_count": 164,
   "metadata": {},
   "outputs": [],
   "source": [
    "predicted_labels = grs_le.inverse_transform(predicted_model)"
   ]
  },
  {
   "cell_type": "code",
   "execution_count": 165,
   "metadata": {},
   "outputs": [
    {
     "name": "stdout",
     "output_type": "stream",
     "text": [
      "['comp.sys.mac.hardware' 'rec.sport.baseball']\n"
     ]
    }
   ],
   "source": [
    "print(predicted_labels)"
   ]
  },
  {
   "cell_type": "code",
   "execution_count": null,
   "metadata": {},
   "outputs": [],
   "source": []
  },
  {
   "cell_type": "code",
   "execution_count": null,
   "metadata": {},
   "outputs": [],
   "source": []
  },
  {
   "cell_type": "code",
   "execution_count": null,
   "metadata": {},
   "outputs": [],
   "source": []
  }
 ],
 "metadata": {
  "kernelspec": {
   "display_name": "Python 3 (ipykernel)",
   "language": "python",
   "name": "python3"
  },
  "language_info": {
   "codemirror_mode": {
    "name": "ipython",
    "version": 3
   },
   "file_extension": ".py",
   "mimetype": "text/x-python",
   "name": "python",
   "nbconvert_exporter": "python",
   "pygments_lexer": "ipython3",
   "version": "3.11.5"
  }
 },
 "nbformat": 4,
 "nbformat_minor": 4
}
