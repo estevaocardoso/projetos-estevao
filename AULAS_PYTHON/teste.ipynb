{
 "cells": [
  {
   "cell_type": "code",
   "execution_count": 1,
   "metadata": {},
   "outputs": [],
   "source": [
    "import requests"
   ]
  },
  {
   "cell_type": "code",
   "execution_count": 2,
   "metadata": {},
   "outputs": [],
   "source": [
    "url = 'https://letterboxd.com/zach_nabors/list/the-double-feature-list/'\n",
    "\n",
    "headers = {\n",
    "    \"\"\"\n",
    "    :authority:\n",
    "www.imdb.com\n",
    ":method:\n",
    "GET\n",
    ":path:\n",
    "/_json/getads/main?url=https%3A%2F%2Fwww.imdb.com%2Fchart%2Ftop%2F%3Fref_%3Dnv_mv_250&subPageType=top250movie&adLayout=desktop_standard&targeting=c%3D0&userLanguage=pt&slotSizeMap=inlinebottom%3D970x250%2Cinline20%3D970x250%2Cinline40%3D300x250\n",
    ":scheme:\n",
    "https\n",
    "Accept:\n",
    "*/*\n",
    "Accept-Encoding:\n",
    "gzip, deflate, br\n",
    "Accept-Language:\n",
    "pt-BR,pt;q=0.9,en-US;q=0.8,en;q=0.7\n",
    "Cookie:\n",
    "session-id=138-1956129-0114961; session-id-time=2082787201l; ubid-main=132-8397938-8484746; ad-oo=0; session-token=bcufNKBf4mTI5yO+HxHtD0V5cQhMlnk2d0KZ9EjhdyNlrPJNT850dwWRwV6VIf4zmZMG4ZWKKxawY5Uz7NuNPFhTXxgOpmA4Oxi2JKlXIcJDs7hoOmZqU+hieAW4+c9DFIyQ1TAheXNRS4jx1vvgxujmO9CwJxz3jG8HooF3t+fQPuZCEI6ONeglSDzKIqc+2mNsuCWMWa4xWE1z//Fvwec9mAbsqGIxoK2iU0iHvdDNnB3sGgvLr1sSHJonW9CQGaT3NJFjZqMdhsPN5nlvPoCUXF26rQrfuTNHOxX6Nd8h85jZcWnyrdeSr0dj9iMQQmHOXpZoMVS2nvLzkDK46/8ZQ5fF/EgY; csm-hit=tb:s-BAC39F3M82FMHXYTW6W3|1693996215754&t:1693996215754&adb:adblk_yes\n",
    "Referer:\n",
    "https://www.imdb.com/chart/top/?ref_=nv_mv_250\n",
    "Sec-Ch-Ua:\n",
    "\"Chromium\";v=\"116\", \"Not)A;Brand\";v=\"24\", \"Google Chrome\";v=\"116\"\n",
    "Sec-Ch-Ua-Mobile:\n",
    "?0\n",
    "Sec-Ch-Ua-Platform:\n",
    "\"Windows\"\n",
    "Sec-Fetch-Dest:\n",
    "empty\n",
    "Sec-Fetch-Mode:\n",
    "cors\n",
    "Sec-Fetch-Site:\n",
    "same-origin\n",
    "User-Agent:\n",
    "Mozilla/5.0 (Windows NT 10.0; Win64; x64) AppleWebKit/537.36 (KHTML, like Gecko) Chrome/116.0.0.0 Safari/537.36\n",
    "Improved debugging of missing stylesheets\n",
    "Find and fix issues with missing stylesheets with ease.\n",
    "Linear timing support in the Easing Editor\n",
    "Adjust the linear timing function for animations and transitions with a click in the Easing Editor.\n",
    "Storage buckets support and metadata view\n",
    "Application > Storage gets storage buckets support. Local, session, and cache storage sections get a unified metadata view.\"\"\"\n",
    "}\n"
   ]
  },
  {
   "cell_type": "code",
   "execution_count": null,
   "metadata": {},
   "outputs": [],
   "source": [
    "respons"
   ]
  }
 ],
 "metadata": {
  "kernelspec": {
   "display_name": "Python 3",
   "language": "python",
   "name": "python3"
  },
  "language_info": {
   "codemirror_mode": {
    "name": "ipython",
    "version": 3
   },
   "file_extension": ".py",
   "mimetype": "text/x-python",
   "name": "python",
   "nbconvert_exporter": "python",
   "pygments_lexer": "ipython3",
   "version": "3.11.3"
  },
  "orig_nbformat": 4
 },
 "nbformat": 4,
 "nbformat_minor": 2
}
