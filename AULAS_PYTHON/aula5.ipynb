{
 "cells": [
  {
   "cell_type": "markdown",
   "metadata": {},
   "source": [
    "# Aula 5: Pandas e Numpy\n",
    "\n",
    "Pandas e NumPy são duas bibliotecas muito importantes para se trabalhar com dados no python.\n",
    "\n",
    "A biblioteca NumPy que é bastante utilizada na academia para programação numérica\n",
    "\n",
    "Já o Pandas é utilizado predominantemente para Data Visualization e para Data Analysis"
   ]
  },
  {
   "cell_type": "code",
   "execution_count": 1,
   "metadata": {},
   "outputs": [],
   "source": [
    "import numpy as np"
   ]
  },
  {
   "cell_type": "markdown",
   "metadata": {},
   "source": [
    "#### Vetorização\n",
    "\n",
    "NumPy é excelente para operações com vetores.\n",
    "\n",
    "Operações do tipo:\n",
    "\n",
    "- multiplicação matricial e outras operações de álgebra linear  \n",
    "- vetores de número aleatório  \n",
    "- aplicação de transformação (ex., seno, cosseno, log, ...)\n",
    "\n",
    "Vamos tentar criar duas matrizes utilizando listas. Uma 3 x 3 e outra um vetor 1 x 3:"
   ]
  },
  {
   "cell_type": "code",
   "execution_count": 2,
   "metadata": {},
   "outputs": [
    {
     "name": "stdout",
     "output_type": "stream",
     "text": [
      "[[5, 1, 3], [1, 1, 1], [1, 2, 1]]\n",
      "[1, 2, 3]\n"
     ]
    },
    {
     "ename": "TypeError",
     "evalue": "can't multiply sequence by non-int of type 'list'",
     "output_type": "error",
     "traceback": [
      "\u001b[0;31m---------------------------------------------------------------------------\u001b[0m",
      "\u001b[0;31mTypeError\u001b[0m                                 Traceback (most recent call last)",
      "Cell \u001b[0;32mIn [2], line 5\u001b[0m\n\u001b[1;32m      3\u001b[0m \u001b[38;5;28mprint\u001b[39m(a)\n\u001b[1;32m      4\u001b[0m \u001b[38;5;28mprint\u001b[39m(b)\n\u001b[0;32m----> 5\u001b[0m \u001b[38;5;28mprint\u001b[39m(\u001b[43ma\u001b[49m\u001b[38;5;241;43m*\u001b[39;49m\u001b[43mb\u001b[49m)\n",
      "\u001b[0;31mTypeError\u001b[0m: can't multiply sequence by non-int of type 'list'"
     ]
    }
   ],
   "source": [
    "a = [[ 5, 1 ,3], [ 1, 1 ,1], [ 1, 2 ,1]]\n",
    "b = [1, 2, 3]\n",
    "print(a)\n",
    "print(b)\n",
    "print(a*b)"
   ]
  },
  {
   "cell_type": "code",
   "execution_count": null,
   "metadata": {},
   "outputs": [],
   "source": []
  },
  {
   "cell_type": "markdown",
   "metadata": {},
   "source": [
    "Como podemos observar não conseguimos multiplicar essas duas listas. Analisando o erro fica claro que não podemos multiplicar uma lista por uma outra lista.\n",
    "\n",
    "#### NumPy Arrays\n",
    "\n",
    "A coisa mais importante que o NumPy define é um **array** N-dimensional formalmente denominado de [numpy.ndarray](http://docs.scipy.org/doc/numpy/reference/arrays.ndarray.html)\n",
    "\n",
    "Podemos, então, recriar os vetores *a e b* como NumPy arrays e obter sua multiplicação da seguinte maneira:"
   ]
  },
  {
   "cell_type": "code",
   "execution_count": 3,
   "metadata": {},
   "outputs": [
    {
     "name": "stdout",
     "output_type": "stream",
     "text": [
      "[[5 2 9]\n",
      " [1 2 3]\n",
      " [1 4 3]]\n"
     ]
    }
   ],
   "source": [
    "a = np.array([[ 5, 1 ,3], [ 1, 1 ,1], [ 1, 2 ,1]])\n",
    "b = np.array([1, 2, 3])\n",
    "print(a*b)"
   ]
  },
  {
   "cell_type": "code",
   "execution_count": 4,
   "metadata": {},
   "outputs": [
    {
     "data": {
      "text/plain": [
       "numpy.ndarray"
      ]
     },
     "execution_count": 4,
     "metadata": {},
     "output_type": "execute_result"
    }
   ],
   "source": [
    "type(a)"
   ]
  },
  {
   "cell_type": "markdown",
   "metadata": {},
   "source": [
    "Observe, porém, que a multiplicação foi realizada elemento por elemento.\n",
    "\n",
    "Não obtivemos uma multiplicação matricial. Voltaremos a este problema mais tarde\n",
    "\n",
    "NumPy arrays são parecidos com listas exceto que:\n",
    "\n",
    "- As entradas devem ser *homogeneas* (elementos do mesmo tipo)  \n",
    "- Esses tipos devem ser um dos tipos (`dtypes`) suportados pelo NumPy  \n",
    "\n",
    "\n",
    "Os tipos mais importantes são:\n",
    "\n",
    "- float64: 64 bit número em ponto flutuante  \n",
    "- int64: 64 bit inteiro  \n",
    "- bool:  8 bit True ou False  \n",
    "\n",
    "Podemos obter o tipo de um objeto da seguinte maneira:"
   ]
  },
  {
   "cell_type": "code",
   "execution_count": 5,
   "metadata": {},
   "outputs": [
    {
     "data": {
      "text/plain": [
       "(numpy.ndarray, numpy.int64)"
      ]
     },
     "execution_count": 5,
     "metadata": {},
     "output_type": "execute_result"
    }
   ],
   "source": [
    "type(a), type(a[0][0])"
   ]
  },
  {
   "cell_type": "code",
   "execution_count": 6,
   "metadata": {},
   "outputs": [
    {
     "data": {
      "text/plain": [
       "5"
      ]
     },
     "execution_count": 6,
     "metadata": {},
     "output_type": "execute_result"
    }
   ],
   "source": [
    "a[0][0]"
   ]
  },
  {
   "cell_type": "markdown",
   "metadata": {},
   "source": [
    "Para se obter a multiplicação matricial, devemod utilizar \".dot\". Por exemplo:"
   ]
  },
  {
   "cell_type": "code",
   "execution_count": 7,
   "metadata": {},
   "outputs": [
    {
     "name": "stdout",
     "output_type": "stream",
     "text": [
      "[16  6  8]\n"
     ]
    }
   ],
   "source": [
    "print(a.dot(b))"
   ]
  },
  {
   "cell_type": "markdown",
   "metadata": {},
   "source": [
    "Ainda assim nossa multiplicação não esta correta dado que estamos multiplicando uma matrix 3 x 3 por uma 1 x 3.\n",
    "\n",
    "Redefinindo *b* da forma correta podemos obter a multiplicação matricial:"
   ]
  },
  {
   "cell_type": "code",
   "execution_count": 8,
   "metadata": {},
   "outputs": [
    {
     "name": "stdout",
     "output_type": "stream",
     "text": [
      "[[1]\n",
      " [2]\n",
      " [3]]\n",
      "/n\n",
      "[[16]\n",
      " [ 6]\n",
      " [ 8]]\n"
     ]
    }
   ],
   "source": [
    "b = np.array([[1], [2], [3]])\n",
    "print(b)\n",
    "print(\"/n\")\n",
    "print(a.dot(b))"
   ]
  },
  {
   "cell_type": "markdown",
   "metadata": {},
   "source": [
    "Há uma outra maneira de se definir uma matriz. Essa envolve a utilização de [numpy.matrix](https://docs.scipy.org/doc/numpy/reference/generated/numpy.matrix.html)\n",
    "\n",
    "Definindo-se dessa maneira as matrizes, podemos utilizar a operação produto (*), para multiplica-las:"
   ]
  },
  {
   "cell_type": "code",
   "execution_count": 9,
   "metadata": {},
   "outputs": [],
   "source": [
    "sofi  = np.matrix([[5, 1 ,3], [1, 1 ,1], [1, 2 ,1]])"
   ]
  },
  {
   "cell_type": "code",
   "execution_count": 10,
   "metadata": {},
   "outputs": [
    {
     "data": {
      "text/plain": [
       "(3, 3)"
      ]
     },
     "execution_count": 10,
     "metadata": {},
     "output_type": "execute_result"
    }
   ],
   "source": [
    "sofi.shape"
   ]
  },
  {
   "cell_type": "code",
   "execution_count": null,
   "metadata": {},
   "outputs": [],
   "source": []
  },
  {
   "cell_type": "code",
   "execution_count": 11,
   "metadata": {},
   "outputs": [
    {
     "data": {
      "text/plain": [
       "array([[5, 1, 3],\n",
       "       [1, 1, 1],\n",
       "       [1, 2, 1]])"
      ]
     },
     "execution_count": 11,
     "metadata": {},
     "output_type": "execute_result"
    }
   ],
   "source": [
    "a"
   ]
  },
  {
   "cell_type": "code",
   "execution_count": null,
   "metadata": {},
   "outputs": [],
   "source": []
  },
  {
   "cell_type": "code",
   "execution_count": 12,
   "metadata": {},
   "outputs": [
    {
     "name": "stdout",
     "output_type": "stream",
     "text": [
      "[[5 1 3]\n",
      " [1 1 1]\n",
      " [1 2 1]]\n"
     ]
    },
    {
     "data": {
      "text/plain": [
       "matrix([[16],\n",
       "        [ 6],\n",
       "        [ 8]])"
      ]
     },
     "execution_count": 12,
     "metadata": {},
     "output_type": "execute_result"
    }
   ],
   "source": [
    "a = np.matrix('[5, 1 ,3; 1, 1 ,1; 1, 2 ,1]')\n",
    "b = np.matrix('[1; 2; 3]')\n",
    "print(a)\n",
    "a * b"
   ]
  },
  {
   "cell_type": "markdown",
   "metadata": {},
   "source": [
    "Podemos obter a transposta de diferentes maneiras:"
   ]
  },
  {
   "cell_type": "code",
   "execution_count": 13,
   "metadata": {},
   "outputs": [
    {
     "data": {
      "text/plain": [
       "matrix([[5, 1, 1],\n",
       "        [1, 1, 2],\n",
       "        [3, 1, 1]])"
      ]
     },
     "execution_count": 13,
     "metadata": {},
     "output_type": "execute_result"
    }
   ],
   "source": [
    "a.transpose()"
   ]
  },
  {
   "cell_type": "code",
   "execution_count": 14,
   "metadata": {},
   "outputs": [
    {
     "data": {
      "text/plain": [
       "matrix([[5, 1, 1],\n",
       "        [1, 1, 2],\n",
       "        [3, 1, 1]])"
      ]
     },
     "execution_count": 14,
     "metadata": {},
     "output_type": "execute_result"
    }
   ],
   "source": [
    "a.T"
   ]
  },
  {
   "cell_type": "markdown",
   "metadata": {},
   "source": [
    "E a Inversa de uma matriz"
   ]
  },
  {
   "cell_type": "code",
   "execution_count": 15,
   "metadata": {},
   "outputs": [
    {
     "data": {
      "text/plain": [
       "matrix([[ 5.00000000e-01, -2.50000000e+00,  1.00000000e+00],\n",
       "        [-3.08395285e-17, -1.00000000e+00,  1.00000000e+00],\n",
       "        [-5.00000000e-01,  4.50000000e+00, -2.00000000e+00]])"
      ]
     },
     "execution_count": 15,
     "metadata": {},
     "output_type": "execute_result"
    }
   ],
   "source": [
    "a.getI()"
   ]
  },
  {
   "cell_type": "code",
   "execution_count": 16,
   "metadata": {},
   "outputs": [
    {
     "data": {
      "text/plain": [
       "matrix([[ 5.00000000e-01, -2.50000000e+00,  1.00000000e+00],\n",
       "        [-3.08395285e-17, -1.00000000e+00,  1.00000000e+00],\n",
       "        [-5.00000000e-01,  4.50000000e+00, -2.00000000e+00]])"
      ]
     },
     "execution_count": 16,
     "metadata": {},
     "output_type": "execute_result"
    }
   ],
   "source": [
    "a.I"
   ]
  },
  {
   "cell_type": "markdown",
   "metadata": {},
   "source": [
    "No mais, NumPy arrays podem ser criados a partir de listas utilizando np.array"
   ]
  },
  {
   "cell_type": "code",
   "execution_count": 17,
   "metadata": {},
   "outputs": [
    {
     "data": {
      "text/plain": [
       "array([10, 20])"
      ]
     },
     "execution_count": 17,
     "metadata": {},
     "output_type": "execute_result"
    }
   ],
   "source": [
    "lista = [10, 20]\n",
    "np.array(lista)"
   ]
  },
  {
   "cell_type": "code",
   "execution_count": 18,
   "metadata": {},
   "outputs": [
    {
     "data": {
      "text/plain": [
       "matrix([[5, 1, 3],\n",
       "        [1, 1, 1],\n",
       "        [1, 2, 1]])"
      ]
     },
     "execution_count": 18,
     "metadata": {},
     "output_type": "execute_result"
    }
   ],
   "source": [
    "a"
   ]
  },
  {
   "cell_type": "code",
   "execution_count": 19,
   "metadata": {},
   "outputs": [
    {
     "data": {
      "text/plain": [
       "1.7777777777777777"
      ]
     },
     "execution_count": 19,
     "metadata": {},
     "output_type": "execute_result"
    }
   ],
   "source": [
    "a.mean()"
   ]
  },
  {
   "cell_type": "code",
   "execution_count": 20,
   "metadata": {},
   "outputs": [],
   "source": [
    "l = np.array(lista)"
   ]
  },
  {
   "cell_type": "code",
   "execution_count": 21,
   "metadata": {},
   "outputs": [
    {
     "data": {
      "text/plain": [
       "15.0"
      ]
     },
     "execution_count": 21,
     "metadata": {},
     "output_type": "execute_result"
    }
   ],
   "source": [
    "l.mean()"
   ]
  },
  {
   "cell_type": "markdown",
   "metadata": {},
   "source": [
    "##### Métodos em um Array"
   ]
  },
  {
   "cell_type": "code",
   "execution_count": 22,
   "metadata": {},
   "outputs": [
    {
     "data": {
      "text/plain": [
       "array([5, 4, 3, 2, 1])"
      ]
     },
     "execution_count": 22,
     "metadata": {},
     "output_type": "execute_result"
    }
   ],
   "source": [
    "a = np.array([5, 4, 3, 2, 1])\n",
    "a"
   ]
  },
  {
   "cell_type": "code",
   "execution_count": 23,
   "metadata": {},
   "outputs": [
    {
     "data": {
      "text/plain": [
       "array([1, 2, 3, 4, 5])"
      ]
     },
     "execution_count": 23,
     "metadata": {},
     "output_type": "execute_result"
    }
   ],
   "source": [
    "a.sort()\n",
    "a"
   ]
  },
  {
   "cell_type": "code",
   "execution_count": 24,
   "metadata": {},
   "outputs": [
    {
     "data": {
      "text/plain": [
       "15"
      ]
     },
     "execution_count": 24,
     "metadata": {},
     "output_type": "execute_result"
    }
   ],
   "source": [
    "a.sum()"
   ]
  },
  {
   "cell_type": "code",
   "execution_count": 25,
   "metadata": {},
   "outputs": [
    {
     "data": {
      "text/plain": [
       "3.0"
      ]
     },
     "execution_count": 25,
     "metadata": {},
     "output_type": "execute_result"
    }
   ],
   "source": [
    "a.mean()"
   ]
  },
  {
   "cell_type": "code",
   "execution_count": 26,
   "metadata": {},
   "outputs": [
    {
     "data": {
      "text/plain": [
       "3.0"
      ]
     },
     "execution_count": 26,
     "metadata": {},
     "output_type": "execute_result"
    }
   ],
   "source": [
    "np.median(a)"
   ]
  },
  {
   "cell_type": "code",
   "execution_count": 27,
   "metadata": {},
   "outputs": [
    {
     "data": {
      "text/plain": [
       "5"
      ]
     },
     "execution_count": 27,
     "metadata": {},
     "output_type": "execute_result"
    }
   ],
   "source": [
    "a.max()"
   ]
  },
  {
   "cell_type": "markdown",
   "metadata": {},
   "source": [
    "### PANDAS\n",
    "\n",
    "Pandas será, provavelmente, a biblioteca mais utilizada por nós daqui em diante. Realizaremos quase todas as operações com dados nela. Importar, maniputar, salvar, estimar, ..."
   ]
  },
  {
   "cell_type": "code",
   "execution_count": 28,
   "metadata": {},
   "outputs": [],
   "source": [
    "import pandas as pd"
   ]
  },
  {
   "cell_type": "code",
   "execution_count": null,
   "metadata": {},
   "outputs": [],
   "source": []
  },
  {
   "cell_type": "code",
   "execution_count": 29,
   "metadata": {},
   "outputs": [
    {
     "data": {
      "text/html": [
       "<div>\n",
       "<style scoped>\n",
       "    .dataframe tbody tr th:only-of-type {\n",
       "        vertical-align: middle;\n",
       "    }\n",
       "\n",
       "    .dataframe tbody tr th {\n",
       "        vertical-align: top;\n",
       "    }\n",
       "\n",
       "    .dataframe thead th {\n",
       "        text-align: right;\n",
       "    }\n",
       "</style>\n",
       "<table border=\"1\" class=\"dataframe\">\n",
       "  <thead>\n",
       "    <tr style=\"text-align: right;\">\n",
       "      <th></th>\n",
       "      <th>Dunkirk (2017) - IMDb</th>\n",
       "      <th>713K</th>\n",
       "      <th>7.8</th>\n",
       "      <th>2023-09-25 15:45</th>\n",
       "    </tr>\n",
       "  </thead>\n",
       "  <tbody>\n",
       "    <tr>\n",
       "      <th>0</th>\n",
       "      <td>Pirates of the Caribbean: Dead Men Tell No Tal...</td>\n",
       "      <td>333K</td>\n",
       "      <td>6.5</td>\n",
       "      <td>2023-09-25 15:45</td>\n",
       "    </tr>\n",
       "    <tr>\n",
       "      <th>1</th>\n",
       "      <td>Soul Surfer (2011) - IMDb</td>\n",
       "      <td>52K</td>\n",
       "      <td>7.0</td>\n",
       "      <td>2023-09-25 15:45</td>\n",
       "    </tr>\n",
       "    <tr>\n",
       "      <th>2</th>\n",
       "      <td>Top Gun (1986) - IMDb</td>\n",
       "      <td>485K</td>\n",
       "      <td>6.9</td>\n",
       "      <td>2023-09-25 15:45</td>\n",
       "    </tr>\n",
       "    <tr>\n",
       "      <th>3</th>\n",
       "      <td>Schindler's List (1993) - IMDb</td>\n",
       "      <td>1.4M</td>\n",
       "      <td>9.0</td>\n",
       "      <td>2023-09-25 15:45</td>\n",
       "    </tr>\n",
       "    <tr>\n",
       "      <th>4</th>\n",
       "      <td>403 Forbidden</td>\n",
       "      <td>-</td>\n",
       "      <td>-</td>\n",
       "      <td>2023-09-25 15:49</td>\n",
       "    </tr>\n",
       "    <tr>\n",
       "      <th>5</th>\n",
       "      <td>403 Forbidden</td>\n",
       "      <td>-</td>\n",
       "      <td>-</td>\n",
       "      <td>2023-09-25 15:49</td>\n",
       "    </tr>\n",
       "    <tr>\n",
       "      <th>6</th>\n",
       "      <td>403 Forbidden</td>\n",
       "      <td>-</td>\n",
       "      <td>-</td>\n",
       "      <td>2023-09-25 15:49</td>\n",
       "    </tr>\n",
       "    <tr>\n",
       "      <th>7</th>\n",
       "      <td>403 Forbidden</td>\n",
       "      <td>-</td>\n",
       "      <td>-</td>\n",
       "      <td>2023-09-25 15:49</td>\n",
       "    </tr>\n",
       "    <tr>\n",
       "      <th>8</th>\n",
       "      <td>403 Forbidden</td>\n",
       "      <td>-</td>\n",
       "      <td>-</td>\n",
       "      <td>2023-09-25 15:49</td>\n",
       "    </tr>\n",
       "    <tr>\n",
       "      <th>9</th>\n",
       "      <td>Dunkirk (2017) - IMDb</td>\n",
       "      <td>713K</td>\n",
       "      <td>7.8</td>\n",
       "      <td>2023-09-25 15:50</td>\n",
       "    </tr>\n",
       "    <tr>\n",
       "      <th>10</th>\n",
       "      <td>Pirates of the Caribbean: Dead Men Tell No Tal...</td>\n",
       "      <td>333K</td>\n",
       "      <td>6.5</td>\n",
       "      <td>2023-09-25 15:50</td>\n",
       "    </tr>\n",
       "    <tr>\n",
       "      <th>11</th>\n",
       "      <td>Soul Surfer (2011) - IMDb</td>\n",
       "      <td>52K</td>\n",
       "      <td>7.0</td>\n",
       "      <td>2023-09-25 15:50</td>\n",
       "    </tr>\n",
       "    <tr>\n",
       "      <th>12</th>\n",
       "      <td>Top Gun (1986) - IMDb</td>\n",
       "      <td>485K</td>\n",
       "      <td>6.9</td>\n",
       "      <td>2023-09-25 15:50</td>\n",
       "    </tr>\n",
       "    <tr>\n",
       "      <th>13</th>\n",
       "      <td>Schindler's List (1993) - IMDb</td>\n",
       "      <td>1.4M</td>\n",
       "      <td>9.0</td>\n",
       "      <td>2023-09-25 15:50</td>\n",
       "    </tr>\n",
       "  </tbody>\n",
       "</table>\n",
       "</div>"
      ],
      "text/plain": [
       "                                Dunkirk (2017) - IMDb  713K  7.8  \\\n",
       "0   Pirates of the Caribbean: Dead Men Tell No Tal...  333K  6.5   \n",
       "1                           Soul Surfer (2011) - IMDb   52K  7.0   \n",
       "2                               Top Gun (1986) - IMDb  485K  6.9   \n",
       "3                      Schindler's List (1993) - IMDb  1.4M  9.0   \n",
       "4                                       403 Forbidden     -    -   \n",
       "5                                       403 Forbidden     -    -   \n",
       "6                                       403 Forbidden     -    -   \n",
       "7                                       403 Forbidden     -    -   \n",
       "8                                       403 Forbidden     -    -   \n",
       "9                               Dunkirk (2017) - IMDb  713K  7.8   \n",
       "10  Pirates of the Caribbean: Dead Men Tell No Tal...  333K  6.5   \n",
       "11                          Soul Surfer (2011) - IMDb   52K  7.0   \n",
       "12                              Top Gun (1986) - IMDb  485K  6.9   \n",
       "13                     Schindler's List (1993) - IMDb  1.4M  9.0   \n",
       "\n",
       "    2023-09-25 15:45  \n",
       "0   2023-09-25 15:45  \n",
       "1   2023-09-25 15:45  \n",
       "2   2023-09-25 15:45  \n",
       "3   2023-09-25 15:45  \n",
       "4   2023-09-25 15:49  \n",
       "5   2023-09-25 15:49  \n",
       "6   2023-09-25 15:49  \n",
       "7   2023-09-25 15:49  \n",
       "8   2023-09-25 15:49  \n",
       "9   2023-09-25 15:50  \n",
       "10  2023-09-25 15:50  \n",
       "11  2023-09-25 15:50  \n",
       "12  2023-09-25 15:50  \n",
       "13  2023-09-25 15:50  "
      ]
     },
     "execution_count": 29,
     "metadata": {},
     "output_type": "execute_result"
    }
   ],
   "source": [
    "pd.read_csv(\"filmes.csv\")"
   ]
  },
  {
   "cell_type": "code",
   "execution_count": null,
   "metadata": {},
   "outputs": [],
   "source": []
  },
  {
   "cell_type": "markdown",
   "metadata": {},
   "source": [
    "Podemos ler um arquivo em formato CSV, por exemplo, e transforma-lo em uma base (dataframe)."
   ]
  },
  {
   "cell_type": "code",
   "execution_count": 30,
   "metadata": {},
   "outputs": [],
   "source": [
    "df1 = pd.read_csv(\"filmes.csv\", header = None, names=['nome', 'obs', 'rate', 'data']) "
   ]
  },
  {
   "cell_type": "code",
   "execution_count": 31,
   "metadata": {},
   "outputs": [],
   "source": [
    "df_gustavo = pd.read_csv(\"filmes.csv\", header = None, names=['nome', 'obs', 'rate', 'data']) "
   ]
  },
  {
   "cell_type": "code",
   "execution_count": 32,
   "metadata": {},
   "outputs": [
    {
     "data": {
      "text/html": [
       "<div>\n",
       "<style scoped>\n",
       "    .dataframe tbody tr th:only-of-type {\n",
       "        vertical-align: middle;\n",
       "    }\n",
       "\n",
       "    .dataframe tbody tr th {\n",
       "        vertical-align: top;\n",
       "    }\n",
       "\n",
       "    .dataframe thead th {\n",
       "        text-align: right;\n",
       "    }\n",
       "</style>\n",
       "<table border=\"1\" class=\"dataframe\">\n",
       "  <thead>\n",
       "    <tr style=\"text-align: right;\">\n",
       "      <th></th>\n",
       "      <th>nome</th>\n",
       "      <th>obs</th>\n",
       "      <th>rate</th>\n",
       "      <th>data</th>\n",
       "    </tr>\n",
       "  </thead>\n",
       "  <tbody>\n",
       "    <tr>\n",
       "      <th>0</th>\n",
       "      <td>Dunkirk (2017) - IMDb</td>\n",
       "      <td>713K</td>\n",
       "      <td>7.8</td>\n",
       "      <td>2023-09-25 15:45</td>\n",
       "    </tr>\n",
       "    <tr>\n",
       "      <th>1</th>\n",
       "      <td>Pirates of the Caribbean: Dead Men Tell No Tal...</td>\n",
       "      <td>333K</td>\n",
       "      <td>6.5</td>\n",
       "      <td>2023-09-25 15:45</td>\n",
       "    </tr>\n",
       "    <tr>\n",
       "      <th>2</th>\n",
       "      <td>Soul Surfer (2011) - IMDb</td>\n",
       "      <td>52K</td>\n",
       "      <td>7.0</td>\n",
       "      <td>2023-09-25 15:45</td>\n",
       "    </tr>\n",
       "    <tr>\n",
       "      <th>3</th>\n",
       "      <td>Top Gun (1986) - IMDb</td>\n",
       "      <td>485K</td>\n",
       "      <td>6.9</td>\n",
       "      <td>2023-09-25 15:45</td>\n",
       "    </tr>\n",
       "    <tr>\n",
       "      <th>4</th>\n",
       "      <td>Schindler's List (1993) - IMDb</td>\n",
       "      <td>1.4M</td>\n",
       "      <td>9.0</td>\n",
       "      <td>2023-09-25 15:45</td>\n",
       "    </tr>\n",
       "    <tr>\n",
       "      <th>5</th>\n",
       "      <td>403 Forbidden</td>\n",
       "      <td>-</td>\n",
       "      <td>-</td>\n",
       "      <td>2023-09-25 15:49</td>\n",
       "    </tr>\n",
       "    <tr>\n",
       "      <th>6</th>\n",
       "      <td>403 Forbidden</td>\n",
       "      <td>-</td>\n",
       "      <td>-</td>\n",
       "      <td>2023-09-25 15:49</td>\n",
       "    </tr>\n",
       "    <tr>\n",
       "      <th>7</th>\n",
       "      <td>403 Forbidden</td>\n",
       "      <td>-</td>\n",
       "      <td>-</td>\n",
       "      <td>2023-09-25 15:49</td>\n",
       "    </tr>\n",
       "    <tr>\n",
       "      <th>8</th>\n",
       "      <td>403 Forbidden</td>\n",
       "      <td>-</td>\n",
       "      <td>-</td>\n",
       "      <td>2023-09-25 15:49</td>\n",
       "    </tr>\n",
       "    <tr>\n",
       "      <th>9</th>\n",
       "      <td>403 Forbidden</td>\n",
       "      <td>-</td>\n",
       "      <td>-</td>\n",
       "      <td>2023-09-25 15:49</td>\n",
       "    </tr>\n",
       "    <tr>\n",
       "      <th>10</th>\n",
       "      <td>Dunkirk (2017) - IMDb</td>\n",
       "      <td>713K</td>\n",
       "      <td>7.8</td>\n",
       "      <td>2023-09-25 15:50</td>\n",
       "    </tr>\n",
       "    <tr>\n",
       "      <th>11</th>\n",
       "      <td>Pirates of the Caribbean: Dead Men Tell No Tal...</td>\n",
       "      <td>333K</td>\n",
       "      <td>6.5</td>\n",
       "      <td>2023-09-25 15:50</td>\n",
       "    </tr>\n",
       "    <tr>\n",
       "      <th>12</th>\n",
       "      <td>Soul Surfer (2011) - IMDb</td>\n",
       "      <td>52K</td>\n",
       "      <td>7.0</td>\n",
       "      <td>2023-09-25 15:50</td>\n",
       "    </tr>\n",
       "    <tr>\n",
       "      <th>13</th>\n",
       "      <td>Top Gun (1986) - IMDb</td>\n",
       "      <td>485K</td>\n",
       "      <td>6.9</td>\n",
       "      <td>2023-09-25 15:50</td>\n",
       "    </tr>\n",
       "    <tr>\n",
       "      <th>14</th>\n",
       "      <td>Schindler's List (1993) - IMDb</td>\n",
       "      <td>1.4M</td>\n",
       "      <td>9.0</td>\n",
       "      <td>2023-09-25 15:50</td>\n",
       "    </tr>\n",
       "  </tbody>\n",
       "</table>\n",
       "</div>"
      ],
      "text/plain": [
       "                                                 nome   obs rate  \\\n",
       "0                               Dunkirk (2017) - IMDb  713K  7.8   \n",
       "1   Pirates of the Caribbean: Dead Men Tell No Tal...  333K  6.5   \n",
       "2                           Soul Surfer (2011) - IMDb   52K  7.0   \n",
       "3                               Top Gun (1986) - IMDb  485K  6.9   \n",
       "4                      Schindler's List (1993) - IMDb  1.4M  9.0   \n",
       "5                                       403 Forbidden     -    -   \n",
       "6                                       403 Forbidden     -    -   \n",
       "7                                       403 Forbidden     -    -   \n",
       "8                                       403 Forbidden     -    -   \n",
       "9                                       403 Forbidden     -    -   \n",
       "10                              Dunkirk (2017) - IMDb  713K  7.8   \n",
       "11  Pirates of the Caribbean: Dead Men Tell No Tal...  333K  6.5   \n",
       "12                          Soul Surfer (2011) - IMDb   52K  7.0   \n",
       "13                              Top Gun (1986) - IMDb  485K  6.9   \n",
       "14                     Schindler's List (1993) - IMDb  1.4M  9.0   \n",
       "\n",
       "                data  \n",
       "0   2023-09-25 15:45  \n",
       "1   2023-09-25 15:45  \n",
       "2   2023-09-25 15:45  \n",
       "3   2023-09-25 15:45  \n",
       "4   2023-09-25 15:45  \n",
       "5   2023-09-25 15:49  \n",
       "6   2023-09-25 15:49  \n",
       "7   2023-09-25 15:49  \n",
       "8   2023-09-25 15:49  \n",
       "9   2023-09-25 15:49  \n",
       "10  2023-09-25 15:50  \n",
       "11  2023-09-25 15:50  \n",
       "12  2023-09-25 15:50  \n",
       "13  2023-09-25 15:50  \n",
       "14  2023-09-25 15:50  "
      ]
     },
     "execution_count": 32,
     "metadata": {},
     "output_type": "execute_result"
    }
   ],
   "source": [
    "df1"
   ]
  },
  {
   "cell_type": "code",
   "execution_count": 33,
   "metadata": {},
   "outputs": [
    {
     "data": {
      "text/html": [
       "<div>\n",
       "<style scoped>\n",
       "    .dataframe tbody tr th:only-of-type {\n",
       "        vertical-align: middle;\n",
       "    }\n",
       "\n",
       "    .dataframe tbody tr th {\n",
       "        vertical-align: top;\n",
       "    }\n",
       "\n",
       "    .dataframe thead th {\n",
       "        text-align: right;\n",
       "    }\n",
       "</style>\n",
       "<table border=\"1\" class=\"dataframe\">\n",
       "  <thead>\n",
       "    <tr style=\"text-align: right;\">\n",
       "      <th></th>\n",
       "      <th>nome</th>\n",
       "      <th>obs</th>\n",
       "      <th>rate</th>\n",
       "      <th>data</th>\n",
       "    </tr>\n",
       "  </thead>\n",
       "  <tbody>\n",
       "    <tr>\n",
       "      <th>0</th>\n",
       "      <td>Dunkirk (2017) - IMDb</td>\n",
       "      <td>713K</td>\n",
       "      <td>7.8</td>\n",
       "      <td>2023-09-25 15:45</td>\n",
       "    </tr>\n",
       "    <tr>\n",
       "      <th>1</th>\n",
       "      <td>Pirates of the Caribbean: Dead Men Tell No Tal...</td>\n",
       "      <td>333K</td>\n",
       "      <td>6.5</td>\n",
       "      <td>2023-09-25 15:45</td>\n",
       "    </tr>\n",
       "    <tr>\n",
       "      <th>2</th>\n",
       "      <td>Soul Surfer (2011) - IMDb</td>\n",
       "      <td>52K</td>\n",
       "      <td>7.0</td>\n",
       "      <td>2023-09-25 15:45</td>\n",
       "    </tr>\n",
       "    <tr>\n",
       "      <th>3</th>\n",
       "      <td>Top Gun (1986) - IMDb</td>\n",
       "      <td>485K</td>\n",
       "      <td>6.9</td>\n",
       "      <td>2023-09-25 15:45</td>\n",
       "    </tr>\n",
       "    <tr>\n",
       "      <th>4</th>\n",
       "      <td>Schindler's List (1993) - IMDb</td>\n",
       "      <td>1.4M</td>\n",
       "      <td>9.0</td>\n",
       "      <td>2023-09-25 15:45</td>\n",
       "    </tr>\n",
       "    <tr>\n",
       "      <th>5</th>\n",
       "      <td>403 Forbidden</td>\n",
       "      <td>-</td>\n",
       "      <td>-</td>\n",
       "      <td>2023-09-25 15:49</td>\n",
       "    </tr>\n",
       "    <tr>\n",
       "      <th>6</th>\n",
       "      <td>403 Forbidden</td>\n",
       "      <td>-</td>\n",
       "      <td>-</td>\n",
       "      <td>2023-09-25 15:49</td>\n",
       "    </tr>\n",
       "    <tr>\n",
       "      <th>7</th>\n",
       "      <td>403 Forbidden</td>\n",
       "      <td>-</td>\n",
       "      <td>-</td>\n",
       "      <td>2023-09-25 15:49</td>\n",
       "    </tr>\n",
       "    <tr>\n",
       "      <th>8</th>\n",
       "      <td>403 Forbidden</td>\n",
       "      <td>-</td>\n",
       "      <td>-</td>\n",
       "      <td>2023-09-25 15:49</td>\n",
       "    </tr>\n",
       "    <tr>\n",
       "      <th>9</th>\n",
       "      <td>403 Forbidden</td>\n",
       "      <td>-</td>\n",
       "      <td>-</td>\n",
       "      <td>2023-09-25 15:49</td>\n",
       "    </tr>\n",
       "    <tr>\n",
       "      <th>10</th>\n",
       "      <td>Dunkirk (2017) - IMDb</td>\n",
       "      <td>713K</td>\n",
       "      <td>7.8</td>\n",
       "      <td>2023-09-25 15:50</td>\n",
       "    </tr>\n",
       "    <tr>\n",
       "      <th>11</th>\n",
       "      <td>Pirates of the Caribbean: Dead Men Tell No Tal...</td>\n",
       "      <td>333K</td>\n",
       "      <td>6.5</td>\n",
       "      <td>2023-09-25 15:50</td>\n",
       "    </tr>\n",
       "    <tr>\n",
       "      <th>12</th>\n",
       "      <td>Soul Surfer (2011) - IMDb</td>\n",
       "      <td>52K</td>\n",
       "      <td>7.0</td>\n",
       "      <td>2023-09-25 15:50</td>\n",
       "    </tr>\n",
       "    <tr>\n",
       "      <th>13</th>\n",
       "      <td>Top Gun (1986) - IMDb</td>\n",
       "      <td>485K</td>\n",
       "      <td>6.9</td>\n",
       "      <td>2023-09-25 15:50</td>\n",
       "    </tr>\n",
       "    <tr>\n",
       "      <th>14</th>\n",
       "      <td>Schindler's List (1993) - IMDb</td>\n",
       "      <td>1.4M</td>\n",
       "      <td>9.0</td>\n",
       "      <td>2023-09-25 15:50</td>\n",
       "    </tr>\n",
       "  </tbody>\n",
       "</table>\n",
       "</div>"
      ],
      "text/plain": [
       "                                                 nome   obs rate  \\\n",
       "0                               Dunkirk (2017) - IMDb  713K  7.8   \n",
       "1   Pirates of the Caribbean: Dead Men Tell No Tal...  333K  6.5   \n",
       "2                           Soul Surfer (2011) - IMDb   52K  7.0   \n",
       "3                               Top Gun (1986) - IMDb  485K  6.9   \n",
       "4                      Schindler's List (1993) - IMDb  1.4M  9.0   \n",
       "5                                       403 Forbidden     -    -   \n",
       "6                                       403 Forbidden     -    -   \n",
       "7                                       403 Forbidden     -    -   \n",
       "8                                       403 Forbidden     -    -   \n",
       "9                                       403 Forbidden     -    -   \n",
       "10                              Dunkirk (2017) - IMDb  713K  7.8   \n",
       "11  Pirates of the Caribbean: Dead Men Tell No Tal...  333K  6.5   \n",
       "12                          Soul Surfer (2011) - IMDb   52K  7.0   \n",
       "13                              Top Gun (1986) - IMDb  485K  6.9   \n",
       "14                     Schindler's List (1993) - IMDb  1.4M  9.0   \n",
       "\n",
       "                data  \n",
       "0   2023-09-25 15:45  \n",
       "1   2023-09-25 15:45  \n",
       "2   2023-09-25 15:45  \n",
       "3   2023-09-25 15:45  \n",
       "4   2023-09-25 15:45  \n",
       "5   2023-09-25 15:49  \n",
       "6   2023-09-25 15:49  \n",
       "7   2023-09-25 15:49  \n",
       "8   2023-09-25 15:49  \n",
       "9   2023-09-25 15:49  \n",
       "10  2023-09-25 15:50  \n",
       "11  2023-09-25 15:50  \n",
       "12  2023-09-25 15:50  \n",
       "13  2023-09-25 15:50  \n",
       "14  2023-09-25 15:50  "
      ]
     },
     "execution_count": 33,
     "metadata": {},
     "output_type": "execute_result"
    }
   ],
   "source": [
    "df_gustavo"
   ]
  },
  {
   "cell_type": "code",
   "execution_count": null,
   "metadata": {},
   "outputs": [],
   "source": []
  },
  {
   "cell_type": "code",
   "execution_count": 34,
   "metadata": {},
   "outputs": [],
   "source": [
    "df1.to_csv('filmes_YARA.csv')"
   ]
  },
  {
   "cell_type": "code",
   "execution_count": 35,
   "metadata": {},
   "outputs": [
    {
     "data": {
      "text/html": [
       "<div>\n",
       "<style scoped>\n",
       "    .dataframe tbody tr th:only-of-type {\n",
       "        vertical-align: middle;\n",
       "    }\n",
       "\n",
       "    .dataframe tbody tr th {\n",
       "        vertical-align: top;\n",
       "    }\n",
       "\n",
       "    .dataframe thead th {\n",
       "        text-align: right;\n",
       "    }\n",
       "</style>\n",
       "<table border=\"1\" class=\"dataframe\">\n",
       "  <thead>\n",
       "    <tr style=\"text-align: right;\">\n",
       "      <th></th>\n",
       "      <th>nome</th>\n",
       "      <th>obs</th>\n",
       "      <th>rate</th>\n",
       "      <th>data</th>\n",
       "    </tr>\n",
       "  </thead>\n",
       "  <tbody>\n",
       "    <tr>\n",
       "      <th>0</th>\n",
       "      <td>Dunkirk (2017) - IMDb</td>\n",
       "      <td>648K</td>\n",
       "      <td>7.8</td>\n",
       "      <td>2022-09-19</td>\n",
       "    </tr>\n",
       "    <tr>\n",
       "      <th>1</th>\n",
       "      <td>Piratas do Caribe: A Vinganca de Salazar (2017...</td>\n",
       "      <td>309K</td>\n",
       "      <td>6.5</td>\n",
       "      <td>2022-09-19</td>\n",
       "    </tr>\n",
       "    <tr>\n",
       "      <th>2</th>\n",
       "      <td>Soul Surfer: Coragem de Viver (2011) - IMDb</td>\n",
       "      <td>50K</td>\n",
       "      <td>7.0</td>\n",
       "      <td>2022-09-19</td>\n",
       "    </tr>\n",
       "    <tr>\n",
       "      <th>3</th>\n",
       "      <td>Top Gun: Ases Indomaveis (1986) - IMDb</td>\n",
       "      <td>423K</td>\n",
       "      <td>6.9</td>\n",
       "      <td>2022-09-19</td>\n",
       "    </tr>\n",
       "    <tr>\n",
       "      <th>4</th>\n",
       "      <td>A Lista de Schindler (1993) - IMDb</td>\n",
       "      <td>1.3M</td>\n",
       "      <td>9.0</td>\n",
       "      <td>2022-09-19</td>\n",
       "    </tr>\n",
       "    <tr>\n",
       "      <th>5</th>\n",
       "      <td>Dunkirk (2017) - IMDb</td>\n",
       "      <td>648K</td>\n",
       "      <td>7.8</td>\n",
       "      <td>NaN</td>\n",
       "    </tr>\n",
       "    <tr>\n",
       "      <th>6</th>\n",
       "      <td>Piratas do Caribe: A Vinganca de Salazar (2017...</td>\n",
       "      <td>309K</td>\n",
       "      <td>6.5</td>\n",
       "      <td>NaN</td>\n",
       "    </tr>\n",
       "    <tr>\n",
       "      <th>7</th>\n",
       "      <td>Soul Surfer: Coragem de Viver (2011) - IMDb</td>\n",
       "      <td>50K</td>\n",
       "      <td>7.0</td>\n",
       "      <td>NaN</td>\n",
       "    </tr>\n",
       "    <tr>\n",
       "      <th>8</th>\n",
       "      <td>Top Gun: Ases Indomaveis (1986) - IMDb</td>\n",
       "      <td>423K</td>\n",
       "      <td>6.9</td>\n",
       "      <td>NaN</td>\n",
       "    </tr>\n",
       "    <tr>\n",
       "      <th>9</th>\n",
       "      <td>A Lista de Schindler (1993) - IMDb</td>\n",
       "      <td>1.3M</td>\n",
       "      <td>9.0</td>\n",
       "      <td>NaN</td>\n",
       "    </tr>\n",
       "  </tbody>\n",
       "</table>\n",
       "</div>"
      ],
      "text/plain": [
       "                                                nome   obs  rate        data\n",
       "0                              Dunkirk (2017) - IMDb  648K   7.8  2022-09-19\n",
       "1  Piratas do Caribe: A Vinganca de Salazar (2017...  309K   6.5  2022-09-19\n",
       "2        Soul Surfer: Coragem de Viver (2011) - IMDb   50K   7.0  2022-09-19\n",
       "3             Top Gun: Ases Indomaveis (1986) - IMDb  423K   6.9  2022-09-19\n",
       "4                 A Lista de Schindler (1993) - IMDb  1.3M   9.0  2022-09-19\n",
       "5                              Dunkirk (2017) - IMDb  648K   7.8         NaN\n",
       "6  Piratas do Caribe: A Vinganca de Salazar (2017...  309K   6.5         NaN\n",
       "7        Soul Surfer: Coragem de Viver (2011) - IMDb   50K   7.0         NaN\n",
       "8             Top Gun: Ases Indomaveis (1986) - IMDb  423K   6.9         NaN\n",
       "9                 A Lista de Schindler (1993) - IMDb  1.3M   9.0         NaN"
      ]
     },
     "execution_count": 35,
     "metadata": {},
     "output_type": "execute_result"
    }
   ],
   "source": [
    "df1"
   ]
  },
  {
   "cell_type": "code",
   "execution_count": 36,
   "metadata": {},
   "outputs": [],
   "source": [
    "yara = pd.read_csv(\"filmes_YARA.csv\")"
   ]
  },
  {
   "cell_type": "code",
   "execution_count": 37,
   "metadata": {},
   "outputs": [
    {
     "data": {
      "text/html": [
       "<div>\n",
       "<style scoped>\n",
       "    .dataframe tbody tr th:only-of-type {\n",
       "        vertical-align: middle;\n",
       "    }\n",
       "\n",
       "    .dataframe tbody tr th {\n",
       "        vertical-align: top;\n",
       "    }\n",
       "\n",
       "    .dataframe thead th {\n",
       "        text-align: right;\n",
       "    }\n",
       "</style>\n",
       "<table border=\"1\" class=\"dataframe\">\n",
       "  <thead>\n",
       "    <tr style=\"text-align: right;\">\n",
       "      <th></th>\n",
       "      <th>Unnamed: 0</th>\n",
       "      <th>nome</th>\n",
       "      <th>obs</th>\n",
       "      <th>rate</th>\n",
       "      <th>data</th>\n",
       "    </tr>\n",
       "  </thead>\n",
       "  <tbody>\n",
       "    <tr>\n",
       "      <th>0</th>\n",
       "      <td>0</td>\n",
       "      <td>Dunkirk (2017) - IMDb</td>\n",
       "      <td>648K</td>\n",
       "      <td>7.8</td>\n",
       "      <td>2022-09-19</td>\n",
       "    </tr>\n",
       "    <tr>\n",
       "      <th>1</th>\n",
       "      <td>1</td>\n",
       "      <td>Piratas do Caribe: A Vinganca de Salazar (2017...</td>\n",
       "      <td>309K</td>\n",
       "      <td>6.5</td>\n",
       "      <td>2022-09-19</td>\n",
       "    </tr>\n",
       "    <tr>\n",
       "      <th>2</th>\n",
       "      <td>2</td>\n",
       "      <td>Soul Surfer: Coragem de Viver (2011) - IMDb</td>\n",
       "      <td>50K</td>\n",
       "      <td>7.0</td>\n",
       "      <td>2022-09-19</td>\n",
       "    </tr>\n",
       "    <tr>\n",
       "      <th>3</th>\n",
       "      <td>3</td>\n",
       "      <td>Top Gun: Ases Indomaveis (1986) - IMDb</td>\n",
       "      <td>423K</td>\n",
       "      <td>6.9</td>\n",
       "      <td>2022-09-19</td>\n",
       "    </tr>\n",
       "    <tr>\n",
       "      <th>4</th>\n",
       "      <td>4</td>\n",
       "      <td>A Lista de Schindler (1993) - IMDb</td>\n",
       "      <td>1.3M</td>\n",
       "      <td>9.0</td>\n",
       "      <td>2022-09-19</td>\n",
       "    </tr>\n",
       "    <tr>\n",
       "      <th>5</th>\n",
       "      <td>5</td>\n",
       "      <td>Dunkirk (2017) - IMDb</td>\n",
       "      <td>648K</td>\n",
       "      <td>7.8</td>\n",
       "      <td>NaN</td>\n",
       "    </tr>\n",
       "    <tr>\n",
       "      <th>6</th>\n",
       "      <td>6</td>\n",
       "      <td>Piratas do Caribe: A Vinganca de Salazar (2017...</td>\n",
       "      <td>309K</td>\n",
       "      <td>6.5</td>\n",
       "      <td>NaN</td>\n",
       "    </tr>\n",
       "    <tr>\n",
       "      <th>7</th>\n",
       "      <td>7</td>\n",
       "      <td>Soul Surfer: Coragem de Viver (2011) - IMDb</td>\n",
       "      <td>50K</td>\n",
       "      <td>7.0</td>\n",
       "      <td>NaN</td>\n",
       "    </tr>\n",
       "    <tr>\n",
       "      <th>8</th>\n",
       "      <td>8</td>\n",
       "      <td>Top Gun: Ases Indomaveis (1986) - IMDb</td>\n",
       "      <td>423K</td>\n",
       "      <td>6.9</td>\n",
       "      <td>NaN</td>\n",
       "    </tr>\n",
       "    <tr>\n",
       "      <th>9</th>\n",
       "      <td>9</td>\n",
       "      <td>A Lista de Schindler (1993) - IMDb</td>\n",
       "      <td>1.3M</td>\n",
       "      <td>9.0</td>\n",
       "      <td>NaN</td>\n",
       "    </tr>\n",
       "  </tbody>\n",
       "</table>\n",
       "</div>"
      ],
      "text/plain": [
       "   Unnamed: 0                                               nome   obs  rate  \\\n",
       "0           0                              Dunkirk (2017) - IMDb  648K   7.8   \n",
       "1           1  Piratas do Caribe: A Vinganca de Salazar (2017...  309K   6.5   \n",
       "2           2        Soul Surfer: Coragem de Viver (2011) - IMDb   50K   7.0   \n",
       "3           3             Top Gun: Ases Indomaveis (1986) - IMDb  423K   6.9   \n",
       "4           4                 A Lista de Schindler (1993) - IMDb  1.3M   9.0   \n",
       "5           5                              Dunkirk (2017) - IMDb  648K   7.8   \n",
       "6           6  Piratas do Caribe: A Vinganca de Salazar (2017...  309K   6.5   \n",
       "7           7        Soul Surfer: Coragem de Viver (2011) - IMDb   50K   7.0   \n",
       "8           8             Top Gun: Ases Indomaveis (1986) - IMDb  423K   6.9   \n",
       "9           9                 A Lista de Schindler (1993) - IMDb  1.3M   9.0   \n",
       "\n",
       "         data  \n",
       "0  2022-09-19  \n",
       "1  2022-09-19  \n",
       "2  2022-09-19  \n",
       "3  2022-09-19  \n",
       "4  2022-09-19  \n",
       "5         NaN  \n",
       "6         NaN  \n",
       "7         NaN  \n",
       "8         NaN  \n",
       "9         NaN  "
      ]
     },
     "execution_count": 37,
     "metadata": {},
     "output_type": "execute_result"
    }
   ],
   "source": [
    "yara"
   ]
  },
  {
   "cell_type": "code",
   "execution_count": null,
   "metadata": {},
   "outputs": [],
   "source": []
  },
  {
   "cell_type": "markdown",
   "metadata": {},
   "source": [
    "Salvar uma base de dados em csv."
   ]
  },
  {
   "cell_type": "code",
   "execution_count": 29,
   "metadata": {},
   "outputs": [],
   "source": [
    "df1.to_csv('ex_save_filmes.csv', index=False)"
   ]
  },
  {
   "cell_type": "code",
   "execution_count": null,
   "metadata": {},
   "outputs": [],
   "source": []
  },
  {
   "cell_type": "code",
   "execution_count": 40,
   "metadata": {},
   "outputs": [
    {
     "data": {
      "text/html": [
       "<div>\n",
       "<style scoped>\n",
       "    .dataframe tbody tr th:only-of-type {\n",
       "        vertical-align: middle;\n",
       "    }\n",
       "\n",
       "    .dataframe tbody tr th {\n",
       "        vertical-align: top;\n",
       "    }\n",
       "\n",
       "    .dataframe thead th {\n",
       "        text-align: right;\n",
       "    }\n",
       "</style>\n",
       "<table border=\"1\" class=\"dataframe\">\n",
       "  <thead>\n",
       "    <tr style=\"text-align: right;\">\n",
       "      <th></th>\n",
       "      <th>nome</th>\n",
       "      <th>obs</th>\n",
       "      <th>rate</th>\n",
       "    </tr>\n",
       "  </thead>\n",
       "  <tbody>\n",
       "    <tr>\n",
       "      <th>0</th>\n",
       "      <td>Dunkirk (2017) - IMDb</td>\n",
       "      <td>543.268</td>\n",
       "      <td>7.9</td>\n",
       "    </tr>\n",
       "    <tr>\n",
       "      <th>1</th>\n",
       "      <td>Piratas do Caribe: A Vinganca de Salazar (2017...</td>\n",
       "      <td>259.112</td>\n",
       "      <td>6.6</td>\n",
       "    </tr>\n",
       "    <tr>\n",
       "      <th>2</th>\n",
       "      <td>Soul Surfer: Coragem de Viver (2011) - IMDb</td>\n",
       "      <td>45.257</td>\n",
       "      <td>7.0</td>\n",
       "    </tr>\n",
       "    <tr>\n",
       "      <th>3</th>\n",
       "      <td>Top Gun: Ases Indomaveis (1986) - IMDb</td>\n",
       "      <td>291.570</td>\n",
       "      <td>6.9</td>\n",
       "    </tr>\n",
       "    <tr>\n",
       "      <th>4</th>\n",
       "      <td>A Lista de Schindler (1993) - IMDb</td>\n",
       "      <td>1.198.580</td>\n",
       "      <td>8.9</td>\n",
       "    </tr>\n",
       "    <tr>\n",
       "      <th>5</th>\n",
       "      <td>Dunkirk (2017) - IMDb</td>\n",
       "      <td>543.268</td>\n",
       "      <td>7.9</td>\n",
       "    </tr>\n",
       "    <tr>\n",
       "      <th>6</th>\n",
       "      <td>Piratas do Caribe: A Vinganca de Salazar (2017...</td>\n",
       "      <td>259.112</td>\n",
       "      <td>6.6</td>\n",
       "    </tr>\n",
       "    <tr>\n",
       "      <th>7</th>\n",
       "      <td>Soul Surfer: Coragem de Viver (2011) - IMDb</td>\n",
       "      <td>45.257</td>\n",
       "      <td>7.0</td>\n",
       "    </tr>\n",
       "    <tr>\n",
       "      <th>8</th>\n",
       "      <td>Top Gun: Ases Indomaveis (1986) - IMDb</td>\n",
       "      <td>291.570</td>\n",
       "      <td>6.9</td>\n",
       "    </tr>\n",
       "    <tr>\n",
       "      <th>9</th>\n",
       "      <td>A Lista de Schindler (1993) - IMDb</td>\n",
       "      <td>1.198.580</td>\n",
       "      <td>8.9</td>\n",
       "    </tr>\n",
       "    <tr>\n",
       "      <th>10</th>\n",
       "      <td>A Lista de Gustavo (2020) - IMDb</td>\n",
       "      <td>1.198.580</td>\n",
       "      <td>8.9</td>\n",
       "    </tr>\n",
       "  </tbody>\n",
       "</table>\n",
       "</div>"
      ],
      "text/plain": [
       "                                                 nome        obs  rate\n",
       "0                               Dunkirk (2017) - IMDb    543.268   7.9\n",
       "1   Piratas do Caribe: A Vinganca de Salazar (2017...    259.112   6.6\n",
       "2         Soul Surfer: Coragem de Viver (2011) - IMDb     45.257   7.0\n",
       "3              Top Gun: Ases Indomaveis (1986) - IMDb    291.570   6.9\n",
       "4                  A Lista de Schindler (1993) - IMDb  1.198.580   8.9\n",
       "5                               Dunkirk (2017) - IMDb    543.268   7.9\n",
       "6   Piratas do Caribe: A Vinganca de Salazar (2017...    259.112   6.6\n",
       "7         Soul Surfer: Coragem de Viver (2011) - IMDb     45.257   7.0\n",
       "8              Top Gun: Ases Indomaveis (1986) - IMDb    291.570   6.9\n",
       "9                  A Lista de Schindler (1993) - IMDb  1.198.580   8.9\n",
       "10                   A Lista de Gustavo (2020) - IMDb  1.198.580   8.9"
      ]
     },
     "execution_count": 40,
     "metadata": {},
     "output_type": "execute_result"
    }
   ],
   "source": [
    "df1"
   ]
  },
  {
   "cell_type": "code",
   "execution_count": null,
   "metadata": {},
   "outputs": [],
   "source": []
  },
  {
   "cell_type": "code",
   "execution_count": 32,
   "metadata": {},
   "outputs": [],
   "source": [
    "df1.to_pickle('dados.pkl')"
   ]
  },
  {
   "cell_type": "code",
   "execution_count": 33,
   "metadata": {},
   "outputs": [],
   "source": [
    "filmes = pd.read_pickle(\"dados.pkl\")"
   ]
  },
  {
   "cell_type": "code",
   "execution_count": 34,
   "metadata": {},
   "outputs": [
    {
     "data": {
      "text/html": [
       "<div>\n",
       "<style scoped>\n",
       "    .dataframe tbody tr th:only-of-type {\n",
       "        vertical-align: middle;\n",
       "    }\n",
       "\n",
       "    .dataframe tbody tr th {\n",
       "        vertical-align: top;\n",
       "    }\n",
       "\n",
       "    .dataframe thead th {\n",
       "        text-align: right;\n",
       "    }\n",
       "</style>\n",
       "<table border=\"1\" class=\"dataframe\">\n",
       "  <thead>\n",
       "    <tr style=\"text-align: right;\">\n",
       "      <th></th>\n",
       "      <th>nome</th>\n",
       "      <th>obs</th>\n",
       "      <th>rate</th>\n",
       "    </tr>\n",
       "  </thead>\n",
       "  <tbody>\n",
       "    <tr>\n",
       "      <th>0</th>\n",
       "      <td>Dunkirk (2017) - IMDb</td>\n",
       "      <td>543.268</td>\n",
       "      <td>7.9</td>\n",
       "    </tr>\n",
       "    <tr>\n",
       "      <th>1</th>\n",
       "      <td>Piratas do Caribe: A Vinganca de Salazar (2017...</td>\n",
       "      <td>259.112</td>\n",
       "      <td>6.6</td>\n",
       "    </tr>\n",
       "    <tr>\n",
       "      <th>2</th>\n",
       "      <td>Soul Surfer: Coragem de Viver (2011) - IMDb</td>\n",
       "      <td>45.257</td>\n",
       "      <td>7.0</td>\n",
       "    </tr>\n",
       "    <tr>\n",
       "      <th>3</th>\n",
       "      <td>Top Gun: Ases Indomaveis (1986) - IMDb</td>\n",
       "      <td>291.570</td>\n",
       "      <td>6.9</td>\n",
       "    </tr>\n",
       "    <tr>\n",
       "      <th>4</th>\n",
       "      <td>A Lista de Schindler (1993) - IMDb</td>\n",
       "      <td>1.198.580</td>\n",
       "      <td>8.9</td>\n",
       "    </tr>\n",
       "    <tr>\n",
       "      <th>5</th>\n",
       "      <td>Dunkirk (2017) - IMDb</td>\n",
       "      <td>543.268</td>\n",
       "      <td>7.9</td>\n",
       "    </tr>\n",
       "    <tr>\n",
       "      <th>6</th>\n",
       "      <td>Piratas do Caribe: A Vinganca de Salazar (2017...</td>\n",
       "      <td>259.112</td>\n",
       "      <td>6.6</td>\n",
       "    </tr>\n",
       "    <tr>\n",
       "      <th>7</th>\n",
       "      <td>Soul Surfer: Coragem de Viver (2011) - IMDb</td>\n",
       "      <td>45.257</td>\n",
       "      <td>7.0</td>\n",
       "    </tr>\n",
       "    <tr>\n",
       "      <th>8</th>\n",
       "      <td>Top Gun: Ases Indomaveis (1986) - IMDb</td>\n",
       "      <td>291.570</td>\n",
       "      <td>6.9</td>\n",
       "    </tr>\n",
       "    <tr>\n",
       "      <th>9</th>\n",
       "      <td>A Lista de Schindler (1993) - IMDb</td>\n",
       "      <td>1.198.580</td>\n",
       "      <td>8.9</td>\n",
       "    </tr>\n",
       "    <tr>\n",
       "      <th>10</th>\n",
       "      <td>A Lista de Gustavo (2020) - IMDb</td>\n",
       "      <td>1.198.580</td>\n",
       "      <td>8.9</td>\n",
       "    </tr>\n",
       "  </tbody>\n",
       "</table>\n",
       "</div>"
      ],
      "text/plain": [
       "                                                 nome        obs  rate\n",
       "0                               Dunkirk (2017) - IMDb    543.268   7.9\n",
       "1   Piratas do Caribe: A Vinganca de Salazar (2017...    259.112   6.6\n",
       "2         Soul Surfer: Coragem de Viver (2011) - IMDb     45.257   7.0\n",
       "3              Top Gun: Ases Indomaveis (1986) - IMDb    291.570   6.9\n",
       "4                  A Lista de Schindler (1993) - IMDb  1.198.580   8.9\n",
       "5                               Dunkirk (2017) - IMDb    543.268   7.9\n",
       "6   Piratas do Caribe: A Vinganca de Salazar (2017...    259.112   6.6\n",
       "7         Soul Surfer: Coragem de Viver (2011) - IMDb     45.257   7.0\n",
       "8              Top Gun: Ases Indomaveis (1986) - IMDb    291.570   6.9\n",
       "9                  A Lista de Schindler (1993) - IMDb  1.198.580   8.9\n",
       "10                   A Lista de Gustavo (2020) - IMDb  1.198.580   8.9"
      ]
     },
     "execution_count": 34,
     "metadata": {},
     "output_type": "execute_result"
    }
   ],
   "source": [
    "filmes"
   ]
  },
  {
   "cell_type": "markdown",
   "metadata": {},
   "source": [
    "O mesmo pode-se aplicar para o [pickle](). Podemos ler e salvar bases de dados em pickle"
   ]
  },
  {
   "cell_type": "code",
   "execution_count": 39,
   "metadata": {},
   "outputs": [],
   "source": [
    "dfp = pd.read_pickle(\"dados_placas.pkl\")"
   ]
  },
  {
   "cell_type": "code",
   "execution_count": 37,
   "metadata": {
    "collapsed": true,
    "jupyter": {
     "outputs_hidden": true
    },
    "tags": []
   },
   "outputs": [
    {
     "data": {
      "text/plain": [
       "['KFD0001',\n",
       " 'KFD0002',\n",
       " 'KFD0003',\n",
       " 'KFD0004',\n",
       " 'KFD0005',\n",
       " 'KFD0006',\n",
       " 'KFD0007',\n",
       " 'KFD0008',\n",
       " 'KFD0009',\n",
       " 'KFD0010',\n",
       " 'KFD0011',\n",
       " 'KFD0012',\n",
       " 'KFD0013',\n",
       " 'KFD0014',\n",
       " 'KFD0015',\n",
       " 'KFD0016',\n",
       " 'KFD0017',\n",
       " 'KFD0018',\n",
       " 'KFD0019',\n",
       " 'KFD0020',\n",
       " 'KFD0021',\n",
       " 'KFD0022',\n",
       " 'KFD0023',\n",
       " 'KFD0024',\n",
       " 'KFD0025',\n",
       " 'KFD0026',\n",
       " 'KFD0027',\n",
       " 'KFD0028',\n",
       " 'KFD0029',\n",
       " 'KFD0030',\n",
       " 'KFD0031',\n",
       " 'KFD0032',\n",
       " 'KFD0033',\n",
       " 'KFD0034',\n",
       " 'KFD0035',\n",
       " 'KFD0036',\n",
       " 'KFD0037',\n",
       " 'KFD0038',\n",
       " 'KFD0039',\n",
       " 'KFD0040',\n",
       " 'KFD0041',\n",
       " 'KFD0042',\n",
       " 'KFD0043',\n",
       " 'KFD0044',\n",
       " 'KFD0045',\n",
       " 'KFD0046',\n",
       " 'KFD0047',\n",
       " 'KFD0048',\n",
       " 'KFD0049',\n",
       " 'KFD0050',\n",
       " 'KFD0051',\n",
       " 'KFD0052',\n",
       " 'KFD0053',\n",
       " 'KFD0054',\n",
       " 'KFD0055',\n",
       " 'KFD0056',\n",
       " 'KFD0057',\n",
       " 'KFD0058',\n",
       " 'KFD0059',\n",
       " 'KFD0060',\n",
       " 'KFD0061',\n",
       " 'KFD0062',\n",
       " 'KFD0063',\n",
       " 'KFD0064',\n",
       " 'KFD0065',\n",
       " 'KFD0066',\n",
       " 'KFD0067',\n",
       " 'KFD0068',\n",
       " 'KFD0069',\n",
       " 'KFD0070',\n",
       " 'KFD0071',\n",
       " 'KFD0072',\n",
       " 'KFD0073',\n",
       " 'KFD0074',\n",
       " 'KFD0075',\n",
       " 'KFD0076',\n",
       " 'KFD0077',\n",
       " 'KFD0078',\n",
       " 'KFD0079',\n",
       " 'KFD0080',\n",
       " 'KFD0081',\n",
       " 'KFD0082',\n",
       " 'KFD0083',\n",
       " 'KFD0084',\n",
       " 'KFD0085',\n",
       " 'KFD0086',\n",
       " 'KFD0087',\n",
       " 'KFD0088',\n",
       " 'KFD0089',\n",
       " 'KFD0090',\n",
       " 'KFD0091',\n",
       " 'KFD0092',\n",
       " 'KFD0093',\n",
       " 'KFD0094',\n",
       " 'KFD0095',\n",
       " 'KFD0096',\n",
       " 'KFD0097',\n",
       " 'KFD0098',\n",
       " 'KFD0099',\n",
       " 'KFD0100',\n",
       " 'KFD0101',\n",
       " 'KFD0102',\n",
       " 'KFD0103',\n",
       " 'KFD0104',\n",
       " 'KFD0105',\n",
       " 'KFD0106',\n",
       " 'KFD0107',\n",
       " 'KFD0108',\n",
       " 'KFD0109',\n",
       " 'KFD0110',\n",
       " 'KFD0111',\n",
       " 'KFD0112',\n",
       " 'KFD0113',\n",
       " 'KFD0114',\n",
       " 'KFD0115',\n",
       " 'KFD0116',\n",
       " 'KFD0117',\n",
       " 'KFD0118',\n",
       " 'KFD0119',\n",
       " 'KFD0120',\n",
       " 'KFD0121',\n",
       " 'KFD0122',\n",
       " 'KFD0123',\n",
       " 'KFD0124',\n",
       " 'KFD0125',\n",
       " 'KFD0126',\n",
       " 'KFD0127',\n",
       " 'KFD0128',\n",
       " 'KFD0129',\n",
       " 'KFD0130',\n",
       " 'KFD0131',\n",
       " 'KFD0132',\n",
       " 'KFD0133',\n",
       " 'KFD0134',\n",
       " 'KFD0135',\n",
       " 'KFD0136',\n",
       " 'KFD0137',\n",
       " 'KFD0138',\n",
       " 'KFD0139',\n",
       " 'KFD0140',\n",
       " 'KFD0141',\n",
       " 'KFD0142',\n",
       " 'KFD0143',\n",
       " 'KFD0144',\n",
       " 'KFD0145',\n",
       " 'KFD0146',\n",
       " 'KFD0147',\n",
       " 'KFD0148',\n",
       " 'KFD0149',\n",
       " 'KFD0150',\n",
       " 'KFD0151',\n",
       " 'KFD0152',\n",
       " 'KFD0153',\n",
       " 'KFD0154',\n",
       " 'KFD0155',\n",
       " 'KFD0156',\n",
       " 'KFD0157',\n",
       " 'KFD0158',\n",
       " 'KFD0159',\n",
       " 'KFD0160',\n",
       " 'KFD0161',\n",
       " 'KFD0162',\n",
       " 'KFD0163',\n",
       " 'KFD0164',\n",
       " 'KFD0165',\n",
       " 'KFD0166',\n",
       " 'KFD0167',\n",
       " 'KFD0168',\n",
       " 'KFD0169',\n",
       " 'KFD0170',\n",
       " 'KFD0171',\n",
       " 'KFD0172',\n",
       " 'KFD0173',\n",
       " 'KFD0174',\n",
       " 'KFD0175',\n",
       " 'KFD0176',\n",
       " 'KFD0177',\n",
       " 'KFD0178',\n",
       " 'KFD0179',\n",
       " 'KFD0180',\n",
       " 'KFD0181',\n",
       " 'KFD0182',\n",
       " 'KFD0183',\n",
       " 'KFD0184',\n",
       " 'KFD0185',\n",
       " 'KFD0186',\n",
       " 'KFD0187',\n",
       " 'KFD0188',\n",
       " 'KFD0189',\n",
       " 'KFD0190',\n",
       " 'KFD0191',\n",
       " 'KFD0192',\n",
       " 'KFD0193',\n",
       " 'KFD0194',\n",
       " 'KFD0195',\n",
       " 'KFD0196',\n",
       " 'KFD0197',\n",
       " 'KFD0198',\n",
       " 'KFD0199',\n",
       " 'KFD0200',\n",
       " 'KFD0201',\n",
       " 'KFD0202',\n",
       " 'KFD0203',\n",
       " 'KFD0204',\n",
       " 'KFD0205',\n",
       " 'KFD0206',\n",
       " 'KFD0207',\n",
       " 'KFD0208',\n",
       " 'KFD0209',\n",
       " 'KFD0210',\n",
       " 'KFD0211',\n",
       " 'KFD0212',\n",
       " 'KFD0213',\n",
       " 'KFD0214',\n",
       " 'KFD0215',\n",
       " 'KFD0216',\n",
       " 'KFD0217',\n",
       " 'KFD0218',\n",
       " 'KFD0219',\n",
       " 'KFD0220',\n",
       " 'KFD0221',\n",
       " 'KFD0222',\n",
       " 'KFD0223',\n",
       " 'KFD0224',\n",
       " 'KFD0225',\n",
       " 'KFD0226',\n",
       " 'KFD0227',\n",
       " 'KFD0228',\n",
       " 'KFD0229',\n",
       " 'KFD0230',\n",
       " 'KFD0231',\n",
       " 'KFD0232',\n",
       " 'KFD0233',\n",
       " 'KFD0234',\n",
       " 'KFD0235',\n",
       " 'KFD0236',\n",
       " 'KFD0237',\n",
       " 'KFD0238',\n",
       " 'KFD0239',\n",
       " 'KFD0240',\n",
       " 'KFD0241',\n",
       " 'KFD0242',\n",
       " 'KFD0243',\n",
       " 'KFD0244',\n",
       " 'KFD0245',\n",
       " 'KFD0246',\n",
       " 'KFD0247',\n",
       " 'KFD0248',\n",
       " 'KFD0249',\n",
       " 'KFD0250',\n",
       " 'KFD0251',\n",
       " 'KFD0252',\n",
       " 'KFD0253',\n",
       " 'KFD0254',\n",
       " 'KFD0255',\n",
       " 'KFD0256',\n",
       " 'KFD0257',\n",
       " 'KFD0258',\n",
       " 'KFD0259',\n",
       " 'KFD0260',\n",
       " 'KFD0261',\n",
       " 'KFD0262',\n",
       " 'KFD0263',\n",
       " 'KFD0264',\n",
       " 'KFD0265',\n",
       " 'KFD0266',\n",
       " 'KFD0267',\n",
       " 'KFD0268',\n",
       " 'KFD0269',\n",
       " 'KFD0270',\n",
       " 'KFD0271',\n",
       " 'KFD0272',\n",
       " 'KFD0273',\n",
       " 'KFD0274',\n",
       " 'KFD0275',\n",
       " 'KFD0276',\n",
       " 'KFD0277',\n",
       " 'KFD0278',\n",
       " 'KFD0279',\n",
       " 'KFD0280',\n",
       " 'KFD0281',\n",
       " 'KFD0282',\n",
       " 'KFD0283',\n",
       " 'KFD0284',\n",
       " 'KFD0285',\n",
       " 'KFD0286',\n",
       " 'KFD0287',\n",
       " 'KFD0288',\n",
       " 'KFD0289',\n",
       " 'KFD0290',\n",
       " 'KFD0291',\n",
       " 'KFD0292',\n",
       " 'KFD0293',\n",
       " 'KFD0294',\n",
       " 'KFD0295',\n",
       " 'KFD0296',\n",
       " 'KFD0297',\n",
       " 'KFD0298',\n",
       " 'KFD0299',\n",
       " 'KFD0300',\n",
       " 'KFD0301',\n",
       " 'KFD0302',\n",
       " 'KFD0303',\n",
       " 'KFD0304',\n",
       " 'KFD0305',\n",
       " 'KFD0306',\n",
       " 'KFD0307',\n",
       " 'KFD0308',\n",
       " 'KFD0309',\n",
       " 'KFD0310',\n",
       " 'KFD0311',\n",
       " 'KFD0312',\n",
       " 'KFD0313',\n",
       " 'KFD0314',\n",
       " 'KFD0315',\n",
       " 'KFD0316',\n",
       " 'KFD0317',\n",
       " 'KFD0318',\n",
       " 'KFD0319',\n",
       " 'KFD0320',\n",
       " 'KFD0321',\n",
       " 'KFD0322',\n",
       " 'KFD0323',\n",
       " 'KFD0324',\n",
       " 'KFD0325',\n",
       " 'KFD0326',\n",
       " 'KFD0327',\n",
       " 'KFD0328',\n",
       " 'KFD0329',\n",
       " 'KFD0330',\n",
       " 'KFD0331',\n",
       " 'KFD0332',\n",
       " 'KFD0333',\n",
       " 'KFD0334',\n",
       " 'KFD0335',\n",
       " 'KFD0336',\n",
       " 'KFD0337',\n",
       " 'KFD0338',\n",
       " 'KFD0339',\n",
       " 'KFD0340',\n",
       " 'KFD0341',\n",
       " 'KFD0342',\n",
       " 'KFD0343',\n",
       " 'KFD0344',\n",
       " 'KFD0345',\n",
       " 'KFD0346',\n",
       " 'KFD0347',\n",
       " 'KFD0348',\n",
       " 'KFD0349',\n",
       " 'KFD0350',\n",
       " 'KFD0351',\n",
       " 'KFD0352',\n",
       " 'KFD0353',\n",
       " 'KFD0354',\n",
       " 'KFD0355',\n",
       " 'KFD0356',\n",
       " 'KFD0357',\n",
       " 'KFD0358',\n",
       " 'KFD0359',\n",
       " 'KFD0360',\n",
       " 'KFD0361',\n",
       " 'KFD0362',\n",
       " 'KFD0363',\n",
       " 'KFD0364',\n",
       " 'KFD0365',\n",
       " 'KFD0366',\n",
       " 'KFD0367',\n",
       " 'KFD0368',\n",
       " 'KFD0369',\n",
       " 'KFD0370',\n",
       " 'KFD0371',\n",
       " 'KFD0372',\n",
       " 'KFD0373',\n",
       " 'KFD0374',\n",
       " 'KFD0375',\n",
       " 'KFD0376',\n",
       " 'KFD0377',\n",
       " 'KFD0378',\n",
       " 'KFD0379',\n",
       " 'KFD0380',\n",
       " 'KFD0381',\n",
       " 'KFD0382',\n",
       " 'KFD0383',\n",
       " 'KFD0384',\n",
       " 'KFD0385',\n",
       " 'KFD0386',\n",
       " 'KFD0387',\n",
       " 'KFD0388',\n",
       " 'KFD0389',\n",
       " 'KFD0390',\n",
       " 'KFD0391',\n",
       " 'KFD0392',\n",
       " 'KFD0393',\n",
       " 'KFD0394',\n",
       " 'KFD0395',\n",
       " 'KFD0396',\n",
       " 'KFD0397',\n",
       " 'KFD0398',\n",
       " 'KFD0399',\n",
       " 'KFD0400',\n",
       " 'KFD0401',\n",
       " 'KFD0402',\n",
       " 'KFD0403',\n",
       " 'KFD0404',\n",
       " 'KFD0405',\n",
       " 'KFD0406',\n",
       " 'KFD0407',\n",
       " 'KFD0408',\n",
       " 'KFD0409',\n",
       " 'KFD0410',\n",
       " 'KFD0411',\n",
       " 'KFD0412',\n",
       " 'KFD0413',\n",
       " 'KFD0414',\n",
       " 'KFD0415',\n",
       " 'KFD0416',\n",
       " 'KFD0417',\n",
       " 'KFD0418',\n",
       " 'KFD0419',\n",
       " 'KFD0420',\n",
       " 'KFD0421',\n",
       " 'KFD0422',\n",
       " 'KFD0423',\n",
       " 'KFD0424',\n",
       " 'KFD0425',\n",
       " 'KFD0426',\n",
       " 'KFD0427',\n",
       " 'KFD0428',\n",
       " 'KFD0429',\n",
       " 'KFD0430',\n",
       " 'KFD0431',\n",
       " 'KFD0432',\n",
       " 'KFD0433',\n",
       " 'KFD0434',\n",
       " 'KFD0435',\n",
       " 'KFD0436',\n",
       " 'KFD0437',\n",
       " 'KFD0438',\n",
       " 'KFD0439',\n",
       " 'KFD0440',\n",
       " 'KFD0441',\n",
       " 'KFD0442',\n",
       " 'KFD0443',\n",
       " 'KFD0444',\n",
       " 'KFD0445',\n",
       " 'KFD0446',\n",
       " 'KFD0447',\n",
       " 'KFD0448',\n",
       " 'KFD0449',\n",
       " 'KFD0450',\n",
       " 'KFD0451',\n",
       " 'KFD0452',\n",
       " 'KFD0453',\n",
       " 'KFD0454',\n",
       " 'KFD0455',\n",
       " 'KFD0456',\n",
       " 'KFD0457',\n",
       " 'KFD0458',\n",
       " 'KFD0459',\n",
       " 'KFD0460',\n",
       " 'KFD0461',\n",
       " 'KFD0462',\n",
       " 'KFD0463',\n",
       " 'KFD0464',\n",
       " 'KFD0465',\n",
       " 'KFD0466',\n",
       " 'KFD0467',\n",
       " 'KFD0468',\n",
       " 'KFD0469',\n",
       " 'KFD0470',\n",
       " 'KFD0471',\n",
       " 'KFD0472',\n",
       " 'KFD0473',\n",
       " 'KFD0474',\n",
       " 'KFD0475',\n",
       " 'KFD0476',\n",
       " 'KFD0477',\n",
       " 'KFD0478',\n",
       " 'KFD0479',\n",
       " 'KFD0480',\n",
       " 'KFD0481',\n",
       " 'KFD0482',\n",
       " 'KFD0483',\n",
       " 'KFD0484',\n",
       " 'KFD0485',\n",
       " 'KFD0486',\n",
       " 'KFD0487',\n",
       " 'KFD0488',\n",
       " 'KFD0489',\n",
       " 'KFD0490',\n",
       " 'KFD0491',\n",
       " 'KFD0492',\n",
       " 'KFD0493',\n",
       " 'KFD0494',\n",
       " 'KFD0495',\n",
       " 'KFD0496',\n",
       " 'KFD0497',\n",
       " 'KFD0498',\n",
       " 'KFD0499',\n",
       " 'KFD0500',\n",
       " 'KFD0501',\n",
       " 'KFD0502',\n",
       " 'KFD0503',\n",
       " 'KFD0504',\n",
       " 'KFD0505',\n",
       " 'KFD0506',\n",
       " 'KFD0507',\n",
       " 'KFD0508',\n",
       " 'KFD0509',\n",
       " 'KFD0510',\n",
       " 'KFD0511',\n",
       " 'KFD0512',\n",
       " 'KFD0513',\n",
       " 'KFD0514',\n",
       " 'KFD0515',\n",
       " 'KFD0516',\n",
       " 'KFD0517',\n",
       " 'KFD0518',\n",
       " 'KFD0519',\n",
       " 'KFD0520',\n",
       " 'KFD0521',\n",
       " 'KFD0522',\n",
       " 'KFD0523',\n",
       " 'KFD0524',\n",
       " 'KFD0525',\n",
       " 'KFD0526',\n",
       " 'KFD0527',\n",
       " 'KFD0528',\n",
       " 'KFD0529',\n",
       " 'KFD0530',\n",
       " 'KFD0531',\n",
       " 'KFD0532',\n",
       " 'KFD0533',\n",
       " 'KFD0534',\n",
       " 'KFD0535',\n",
       " 'KFD0536',\n",
       " 'KFD0537',\n",
       " 'KFD0538',\n",
       " 'KFD0539',\n",
       " 'KFD0540',\n",
       " 'KFD0541',\n",
       " 'KFD0542',\n",
       " 'KFD0543',\n",
       " 'KFD0544',\n",
       " 'KFD0545',\n",
       " 'KFD0546',\n",
       " 'KFD0547',\n",
       " 'KFD0548',\n",
       " 'KFD0549',\n",
       " 'KFD0550',\n",
       " 'KFD0551',\n",
       " 'KFD0552',\n",
       " 'KFD0553',\n",
       " 'KFD0554',\n",
       " 'KFD0555',\n",
       " 'KFD0556',\n",
       " 'KFD0557',\n",
       " 'KFD0558',\n",
       " 'KFD0559',\n",
       " 'KFD0560',\n",
       " 'KFD0561',\n",
       " 'KFD0562',\n",
       " 'KFD0563',\n",
       " 'KFD0564',\n",
       " 'KFD0565',\n",
       " 'KFD0566',\n",
       " 'KFD0567',\n",
       " 'KFD0568',\n",
       " 'KFD0569',\n",
       " 'KFD0570',\n",
       " 'KFD0571',\n",
       " 'KFD0572',\n",
       " 'KFD0573',\n",
       " 'KFD0574',\n",
       " 'KFD0575',\n",
       " 'KFD0576',\n",
       " 'KFD0577',\n",
       " 'KFD0578',\n",
       " 'KFD0579',\n",
       " 'KFD0580',\n",
       " 'KFD0581',\n",
       " 'KFD0582',\n",
       " 'KFD0583',\n",
       " 'KFD0584',\n",
       " 'KFD0585',\n",
       " 'KFD0586',\n",
       " 'KFD0587',\n",
       " 'KFD0588',\n",
       " 'KFD0589',\n",
       " 'KFD0590',\n",
       " 'KFD0591',\n",
       " 'KFD0592',\n",
       " 'KFD0593',\n",
       " 'KFD0594',\n",
       " 'KFD0595',\n",
       " 'KFD0596',\n",
       " 'KFD0597',\n",
       " 'KFD0598',\n",
       " 'KFD0599',\n",
       " 'KFD0600',\n",
       " 'KFD0601',\n",
       " 'KFD0602',\n",
       " 'KFD0603',\n",
       " 'KFD0604',\n",
       " 'KFD0605',\n",
       " 'KFD0606',\n",
       " 'KFD0607',\n",
       " 'KFD0608',\n",
       " 'KFD0609',\n",
       " 'KFD0610',\n",
       " 'KFD0611',\n",
       " 'KFD0612',\n",
       " 'KFD0613',\n",
       " 'KFD0614',\n",
       " 'KFD0615',\n",
       " 'KFD0616',\n",
       " 'KFD0617',\n",
       " 'KFD0618',\n",
       " 'KFD0619',\n",
       " 'KFD0620',\n",
       " 'KFD0621',\n",
       " 'KFD0622',\n",
       " 'KFD0623',\n",
       " 'KFD0624',\n",
       " 'KFD0625',\n",
       " 'KFD0626',\n",
       " 'KFD0627',\n",
       " 'KFD0628',\n",
       " 'KFD0629',\n",
       " 'KFD0630',\n",
       " 'KFD0631',\n",
       " 'KFD0632',\n",
       " 'KFD0633',\n",
       " 'KFD0634',\n",
       " 'KFD0635',\n",
       " 'KFD0636',\n",
       " 'KFD0637',\n",
       " 'KFD0638',\n",
       " 'KFD0639',\n",
       " 'KFD0640',\n",
       " 'KFD0641',\n",
       " 'KFD0642',\n",
       " 'KFD0643',\n",
       " 'KFD0644',\n",
       " 'KFD0645',\n",
       " 'KFD0646',\n",
       " 'KFD0647',\n",
       " 'KFD0648',\n",
       " 'KFD0649',\n",
       " 'KFD0650',\n",
       " 'KFD0651',\n",
       " 'KFD0652',\n",
       " 'KFD0653',\n",
       " 'KFD0654',\n",
       " 'KFD0655',\n",
       " 'KFD0656',\n",
       " 'KFD0657',\n",
       " 'KFD0658',\n",
       " 'KFD0659',\n",
       " 'KFD0660',\n",
       " 'KFD0661',\n",
       " 'KFD0662',\n",
       " 'KFD0663',\n",
       " 'KFD0664',\n",
       " 'KFD0665',\n",
       " 'KFD0666',\n",
       " 'KFD0667',\n",
       " 'KFD0668',\n",
       " 'KFD0669',\n",
       " 'KFD0670',\n",
       " 'KFD0671',\n",
       " 'KFD0672',\n",
       " 'KFD0673',\n",
       " 'KFD0674',\n",
       " 'KFD0675',\n",
       " 'KFD0676',\n",
       " 'KFD0677',\n",
       " 'KFD0678',\n",
       " 'KFD0679',\n",
       " 'KFD0680',\n",
       " 'KFD0681',\n",
       " 'KFD0682',\n",
       " 'KFD0683',\n",
       " 'KFD0684',\n",
       " 'KFD0685',\n",
       " 'KFD0686',\n",
       " 'KFD0687',\n",
       " 'KFD0688',\n",
       " 'KFD0689',\n",
       " 'KFD0690',\n",
       " 'KFD0691',\n",
       " 'KFD0692',\n",
       " 'KFD0693',\n",
       " 'KFD0694',\n",
       " 'KFD0695',\n",
       " 'KFD0696',\n",
       " 'KFD0697',\n",
       " 'KFD0698',\n",
       " 'KFD0699',\n",
       " 'KFD0700',\n",
       " 'KFD0701',\n",
       " 'KFD0702',\n",
       " 'KFD0703',\n",
       " 'KFD0704',\n",
       " 'KFD0705',\n",
       " 'KFD0706',\n",
       " 'KFD0707',\n",
       " 'KFD0708',\n",
       " 'KFD0709',\n",
       " 'KFD0710',\n",
       " 'KFD0711',\n",
       " 'KFD0712',\n",
       " 'KFD0713',\n",
       " 'KFD0714',\n",
       " 'KFD0715',\n",
       " 'KFD0716',\n",
       " 'KFD0717',\n",
       " 'KFD0718',\n",
       " 'KFD0719',\n",
       " 'KFD0720',\n",
       " 'KFD0721',\n",
       " 'KFD0722',\n",
       " 'KFD0723',\n",
       " 'KFD0724',\n",
       " 'KFD0725',\n",
       " 'KFD0726',\n",
       " 'KFD0727',\n",
       " 'KFD0728',\n",
       " 'KFD0729',\n",
       " 'KFD0730',\n",
       " 'KFD0731',\n",
       " 'KFD0732',\n",
       " 'KFD0733',\n",
       " 'KFD0734',\n",
       " 'KFD0735',\n",
       " 'KFD0736',\n",
       " 'KFD0737',\n",
       " 'KFD0738',\n",
       " 'KFD0739',\n",
       " 'KFD0740',\n",
       " 'KFD0741',\n",
       " 'KFD0742',\n",
       " 'KFD0743',\n",
       " 'KFD0744',\n",
       " 'KFD0745',\n",
       " 'KFD0746',\n",
       " 'KFD0747',\n",
       " 'KFD0748',\n",
       " 'KFD0749',\n",
       " 'KFD0750',\n",
       " 'KFD0751',\n",
       " 'KFD0752',\n",
       " 'KFD0753',\n",
       " 'KFD0754',\n",
       " 'KFD0755',\n",
       " 'KFD0756',\n",
       " 'KFD0757',\n",
       " 'KFD0758',\n",
       " 'KFD0759',\n",
       " 'KFD0760',\n",
       " 'KFD0761',\n",
       " 'KFD0762',\n",
       " 'KFD0763',\n",
       " 'KFD0764',\n",
       " 'KFD0765',\n",
       " 'KFD0766',\n",
       " 'KFD0767',\n",
       " 'KFD0768',\n",
       " 'KFD0769',\n",
       " 'KFD0770',\n",
       " 'KFD0771',\n",
       " 'KFD0772',\n",
       " 'KFD0773',\n",
       " 'KFD0774',\n",
       " 'KFD0775',\n",
       " 'KFD0776',\n",
       " 'KFD0777',\n",
       " 'KFD0778',\n",
       " 'KFD0779',\n",
       " 'KFD0780',\n",
       " 'KFD0781',\n",
       " 'KFD0782',\n",
       " 'KFD0783',\n",
       " 'KFD0784',\n",
       " 'KFD0785',\n",
       " 'KFD0786',\n",
       " 'KFD0787',\n",
       " 'KFD0788',\n",
       " 'KFD0789',\n",
       " 'KFD0790',\n",
       " 'KFD0791',\n",
       " 'KFD0792',\n",
       " 'KFD0793',\n",
       " 'KFD0794',\n",
       " 'KFD0795',\n",
       " 'KFD0796',\n",
       " 'KFD0797',\n",
       " 'KFD0798',\n",
       " 'KFD0799',\n",
       " 'KFD0800',\n",
       " 'KFD0801',\n",
       " 'KFD0802',\n",
       " 'KFD0803',\n",
       " 'KFD0804',\n",
       " 'KFD0805',\n",
       " 'KFD0806',\n",
       " 'KFD0807',\n",
       " 'KFD0808',\n",
       " 'KFD0809',\n",
       " 'KFD0810',\n",
       " 'KFD0811',\n",
       " 'KFD0812',\n",
       " 'KFD0813',\n",
       " 'KFD0814',\n",
       " 'KFD0815',\n",
       " 'KFD0816',\n",
       " 'KFD0817',\n",
       " 'KFD0818',\n",
       " 'KFD0819',\n",
       " 'KFD0820',\n",
       " 'KFD0821',\n",
       " 'KFD0822',\n",
       " 'KFD0823',\n",
       " 'KFD0824',\n",
       " 'KFD0825',\n",
       " 'KFD0826',\n",
       " 'KFD0827',\n",
       " 'KFD0828',\n",
       " 'KFD0829',\n",
       " 'KFD0830',\n",
       " 'KFD0831',\n",
       " 'KFD0832',\n",
       " 'KFD0833',\n",
       " 'KFD0834',\n",
       " 'KFD0835',\n",
       " 'KFD0836',\n",
       " 'KFD0837',\n",
       " 'KFD0838',\n",
       " 'KFD0839',\n",
       " 'KFD0840',\n",
       " 'KFD0841',\n",
       " 'KFD0842',\n",
       " 'KFD0843',\n",
       " 'KFD0844',\n",
       " 'KFD0845',\n",
       " 'KFD0846',\n",
       " 'KFD0847',\n",
       " 'KFD0848',\n",
       " 'KFD0849',\n",
       " 'KFD0850',\n",
       " 'KFD0851',\n",
       " 'KFD0852',\n",
       " 'KFD0853',\n",
       " 'KFD0854',\n",
       " 'KFD0855',\n",
       " 'KFD0856',\n",
       " 'KFD0857',\n",
       " 'KFD0858',\n",
       " 'KFD0859',\n",
       " 'KFD0860',\n",
       " 'KFD0861',\n",
       " 'KFD0862',\n",
       " 'KFD0863',\n",
       " 'KFD0864',\n",
       " 'KFD0865',\n",
       " 'KFD0866',\n",
       " 'KFD0867',\n",
       " 'KFD0868',\n",
       " 'KFD0869',\n",
       " 'KFD0870',\n",
       " 'KFD0871',\n",
       " 'KFD0872',\n",
       " 'KFD0873',\n",
       " 'KFD0874',\n",
       " 'KFD0875',\n",
       " 'KFD0876',\n",
       " 'KFD0877',\n",
       " 'KFD0878',\n",
       " 'KFD0879',\n",
       " 'KFD0880',\n",
       " 'KFD0881',\n",
       " 'KFD0882',\n",
       " 'KFD0883',\n",
       " 'KFD0884',\n",
       " 'KFD0885',\n",
       " 'KFD0886',\n",
       " 'KFD0887',\n",
       " 'KFD0888',\n",
       " 'KFD0889',\n",
       " 'KFD0890',\n",
       " 'KFD0891',\n",
       " 'KFD0892',\n",
       " 'KFD0893',\n",
       " 'KFD0894',\n",
       " 'KFD0895',\n",
       " 'KFD0896',\n",
       " 'KFD0897',\n",
       " 'KFD0898',\n",
       " 'KFD0899',\n",
       " 'KFD0900',\n",
       " 'KFD0901',\n",
       " 'KFD0902',\n",
       " 'KFD0903',\n",
       " 'KFD0904',\n",
       " 'KFD0905',\n",
       " 'KFD0906',\n",
       " 'KFD0907',\n",
       " 'KFD0908',\n",
       " 'KFD0909',\n",
       " 'KFD0910',\n",
       " 'KFD0911',\n",
       " 'KFD0912',\n",
       " 'KFD0913',\n",
       " 'KFD0914',\n",
       " 'KFD0915',\n",
       " 'KFD0916',\n",
       " 'KFD0917',\n",
       " 'KFD0918',\n",
       " 'KFD0919',\n",
       " 'KFD0920',\n",
       " 'KFD0921',\n",
       " 'KFD0922',\n",
       " 'KFD0923',\n",
       " 'KFD0924',\n",
       " 'KFD0925',\n",
       " 'KFD0926',\n",
       " 'KFD0927',\n",
       " 'KFD0928',\n",
       " 'KFD0929',\n",
       " 'KFD0930',\n",
       " 'KFD0931',\n",
       " 'KFD0932',\n",
       " 'KFD0933',\n",
       " 'KFD0934',\n",
       " 'KFD0935',\n",
       " 'KFD0936',\n",
       " 'KFD0937',\n",
       " 'KFD0938',\n",
       " 'KFD0939',\n",
       " 'KFD0940',\n",
       " 'KFD0941',\n",
       " 'KFD0942',\n",
       " 'KFD0943',\n",
       " 'KFD0944',\n",
       " 'KFD0945',\n",
       " 'KFD0946',\n",
       " 'KFD0947',\n",
       " 'KFD0948',\n",
       " 'KFD0949',\n",
       " 'KFD0950',\n",
       " 'KFD0951',\n",
       " 'KFD0952',\n",
       " 'KFD0953',\n",
       " 'KFD0954',\n",
       " 'KFD0955',\n",
       " 'KFD0956',\n",
       " 'KFD0957',\n",
       " 'KFD0958',\n",
       " 'KFD0959',\n",
       " 'KFD0960',\n",
       " 'KFD0961',\n",
       " 'KFD0962',\n",
       " 'KFD0963',\n",
       " 'KFD0964',\n",
       " 'KFD0965',\n",
       " 'KFD0966',\n",
       " 'KFD0967',\n",
       " 'KFD0968',\n",
       " 'KFD0969',\n",
       " 'KFD0970',\n",
       " 'KFD0971',\n",
       " 'KFD0972',\n",
       " 'KFD0973',\n",
       " 'KFD0974',\n",
       " 'KFD0975',\n",
       " 'KFD0976',\n",
       " 'KFD0977',\n",
       " 'KFD0978',\n",
       " 'KFD0979',\n",
       " 'KFD0980',\n",
       " 'KFD0981',\n",
       " 'KFD0982',\n",
       " 'KFD0983',\n",
       " 'KFD0984',\n",
       " 'KFD0985',\n",
       " 'KFD0986',\n",
       " 'KFD0987',\n",
       " 'KFD0988',\n",
       " 'KFD0989',\n",
       " 'KFD0990',\n",
       " 'KFD0991',\n",
       " 'KFD0992',\n",
       " 'KFD0993',\n",
       " 'KFD0994',\n",
       " 'KFD0995',\n",
       " 'KFD0996',\n",
       " 'KFD0997',\n",
       " 'KFD0998',\n",
       " 'KFD0999',\n",
       " 'KFD1000',\n",
       " ...]"
      ]
     },
     "execution_count": 37,
     "metadata": {},
     "output_type": "execute_result"
    }
   ],
   "source": [
    "dfp"
   ]
  },
  {
   "cell_type": "code",
   "execution_count": 40,
   "metadata": {},
   "outputs": [],
   "source": [
    "dfp_paulo = pd.DataFrame(dfp)"
   ]
  },
  {
   "cell_type": "code",
   "execution_count": 43,
   "metadata": {},
   "outputs": [
    {
     "data": {
      "text/html": [
       "<div>\n",
       "<style scoped>\n",
       "    .dataframe tbody tr th:only-of-type {\n",
       "        vertical-align: middle;\n",
       "    }\n",
       "\n",
       "    .dataframe tbody tr th {\n",
       "        vertical-align: top;\n",
       "    }\n",
       "\n",
       "    .dataframe thead th {\n",
       "        text-align: right;\n",
       "    }\n",
       "</style>\n",
       "<table border=\"1\" class=\"dataframe\">\n",
       "  <thead>\n",
       "    <tr style=\"text-align: right;\">\n",
       "      <th></th>\n",
       "      <th>0</th>\n",
       "    </tr>\n",
       "  </thead>\n",
       "  <tbody>\n",
       "    <tr>\n",
       "      <th>0</th>\n",
       "      <td>KFD0001</td>\n",
       "    </tr>\n",
       "    <tr>\n",
       "      <th>1</th>\n",
       "      <td>KFD0002</td>\n",
       "    </tr>\n",
       "    <tr>\n",
       "      <th>2</th>\n",
       "      <td>KFD0003</td>\n",
       "    </tr>\n",
       "    <tr>\n",
       "      <th>3</th>\n",
       "      <td>KFD0004</td>\n",
       "    </tr>\n",
       "    <tr>\n",
       "      <th>4</th>\n",
       "      <td>KFD0005</td>\n",
       "    </tr>\n",
       "    <tr>\n",
       "      <th>...</th>\n",
       "      <td>...</td>\n",
       "    </tr>\n",
       "    <tr>\n",
       "      <th>3319663</th>\n",
       "      <td>PGZ9995</td>\n",
       "    </tr>\n",
       "    <tr>\n",
       "      <th>3319664</th>\n",
       "      <td>PGZ9996</td>\n",
       "    </tr>\n",
       "    <tr>\n",
       "      <th>3319665</th>\n",
       "      <td>PGZ9997</td>\n",
       "    </tr>\n",
       "    <tr>\n",
       "      <th>3319666</th>\n",
       "      <td>PGZ9998</td>\n",
       "    </tr>\n",
       "    <tr>\n",
       "      <th>3319667</th>\n",
       "      <td>PGZ9999</td>\n",
       "    </tr>\n",
       "  </tbody>\n",
       "</table>\n",
       "<p>3319668 rows × 1 columns</p>\n",
       "</div>"
      ],
      "text/plain": [
       "               0\n",
       "0        KFD0001\n",
       "1        KFD0002\n",
       "2        KFD0003\n",
       "3        KFD0004\n",
       "4        KFD0005\n",
       "...          ...\n",
       "3319663  PGZ9995\n",
       "3319664  PGZ9996\n",
       "3319665  PGZ9997\n",
       "3319666  PGZ9998\n",
       "3319667  PGZ9999\n",
       "\n",
       "[3319668 rows x 1 columns]"
      ]
     },
     "execution_count": 43,
     "metadata": {},
     "output_type": "execute_result"
    }
   ],
   "source": [
    "dfp_paulo"
   ]
  },
  {
   "cell_type": "code",
   "execution_count": 34,
   "metadata": {},
   "outputs": [
    {
     "data": {
      "text/html": [
       "<div>\n",
       "<style scoped>\n",
       "    .dataframe tbody tr th:only-of-type {\n",
       "        vertical-align: middle;\n",
       "    }\n",
       "\n",
       "    .dataframe tbody tr th {\n",
       "        vertical-align: top;\n",
       "    }\n",
       "\n",
       "    .dataframe thead th {\n",
       "        text-align: right;\n",
       "    }\n",
       "</style>\n",
       "<table border=\"1\" class=\"dataframe\">\n",
       "  <thead>\n",
       "    <tr style=\"text-align: right;\">\n",
       "      <th></th>\n",
       "      <th>0</th>\n",
       "    </tr>\n",
       "  </thead>\n",
       "  <tbody>\n",
       "    <tr>\n",
       "      <th>0</th>\n",
       "      <td>27</td>\n",
       "    </tr>\n",
       "    <tr>\n",
       "      <th>1</th>\n",
       "      <td>43</td>\n",
       "    </tr>\n",
       "    <tr>\n",
       "      <th>2</th>\n",
       "      <td>12</td>\n",
       "    </tr>\n",
       "    <tr>\n",
       "      <th>3</th>\n",
       "      <td>34</td>\n",
       "    </tr>\n",
       "    <tr>\n",
       "      <th>4</th>\n",
       "      <td>56</td>\n",
       "    </tr>\n",
       "  </tbody>\n",
       "</table>\n",
       "</div>"
      ],
      "text/plain": [
       "    0\n",
       "0  27\n",
       "1  43\n",
       "2  12\n",
       "3  34\n",
       "4  56"
      ]
     },
     "execution_count": 34,
     "metadata": {},
     "output_type": "execute_result"
    }
   ],
   "source": [
    "pd.DataFrame([27,43,12,34,56])"
   ]
  },
  {
   "cell_type": "code",
   "execution_count": 35,
   "metadata": {},
   "outputs": [
    {
     "data": {
      "text/html": [
       "<div>\n",
       "<style scoped>\n",
       "    .dataframe tbody tr th:only-of-type {\n",
       "        vertical-align: middle;\n",
       "    }\n",
       "\n",
       "    .dataframe tbody tr th {\n",
       "        vertical-align: top;\n",
       "    }\n",
       "\n",
       "    .dataframe thead th {\n",
       "        text-align: right;\n",
       "    }\n",
       "</style>\n",
       "<table border=\"1\" class=\"dataframe\">\n",
       "  <thead>\n",
       "    <tr style=\"text-align: right;\">\n",
       "      <th></th>\n",
       "      <th>nome</th>\n",
       "      <th>idade</th>\n",
       "    </tr>\n",
       "  </thead>\n",
       "  <tbody>\n",
       "    <tr>\n",
       "      <th>0</th>\n",
       "      <td>Luiza</td>\n",
       "      <td>23</td>\n",
       "    </tr>\n",
       "    <tr>\n",
       "      <th>1</th>\n",
       "      <td>Jessycka</td>\n",
       "      <td>21</td>\n",
       "    </tr>\n",
       "  </tbody>\n",
       "</table>\n",
       "</div>"
      ],
      "text/plain": [
       "       nome  idade\n",
       "0     Luiza     23\n",
       "1  Jessycka     21"
      ]
     },
     "execution_count": 35,
     "metadata": {},
     "output_type": "execute_result"
    }
   ],
   "source": [
    "pd.DataFrame([{\"nome\":\"Luiza\", \"idade\":23},{\"nome\":\"Jessycka\", \"idade\":21}])"
   ]
  },
  {
   "cell_type": "code",
   "execution_count": null,
   "metadata": {},
   "outputs": [],
   "source": []
  },
  {
   "cell_type": "code",
   "execution_count": 36,
   "metadata": {},
   "outputs": [],
   "source": [
    "import numpy as np"
   ]
  },
  {
   "cell_type": "code",
   "execution_count": 43,
   "metadata": {},
   "outputs": [],
   "source": [
    "np.random.seed(348)"
   ]
  },
  {
   "cell_type": "code",
   "execution_count": 38,
   "metadata": {},
   "outputs": [
    {
     "data": {
      "text/plain": [
       "array([[-0.74514763, -1.46266894,  1.54404756, -0.31482662,  1.36373213],\n",
       "       [ 0.32085106,  1.29412995,  0.0143156 ,  0.14287208, -0.41008282],\n",
       "       [-1.12083216, -0.55690501,  1.63577838, -1.03892929, -0.29886137],\n",
       "       [-0.39862243, -0.33556923, -1.24802003, -0.67311139,  0.60756303],\n",
       "       [ 0.86236012, -1.7406042 ,  0.29265206, -0.66594992,  0.64543729],\n",
       "       [-1.26187917,  0.78069167,  0.86589102, -0.73428542, -0.93107143],\n",
       "       [ 0.89830949,  0.43982177,  1.51167026,  1.47126806, -0.41588905],\n",
       "       [-0.5301987 , -1.49244846,  0.97906741, -0.27851437, -0.50744542],\n",
       "       [-0.36497737, -0.6466633 ,  0.36642132,  0.69406482,  1.81706187],\n",
       "       [-0.41561977,  1.02982406,  0.54369807, -1.03696244, -0.09391205]])"
      ]
     },
     "execution_count": 38,
     "metadata": {},
     "output_type": "execute_result"
    }
   ],
   "source": [
    "np.random.randn(10, 5)"
   ]
  },
  {
   "cell_type": "code",
   "execution_count": 23,
   "metadata": {},
   "outputs": [],
   "source": [
    "dfp.to_pickle(\"dados1.pkl\")"
   ]
  },
  {
   "cell_type": "markdown",
   "metadata": {},
   "source": [
    "Ou gerar uma base de dados com números aleatórios"
   ]
  },
  {
   "cell_type": "code",
   "execution_count": 40,
   "metadata": {},
   "outputs": [],
   "source": [
    "df2 = pd.DataFrame(np.random.randn(10, 5))"
   ]
  },
  {
   "cell_type": "code",
   "execution_count": 35,
   "metadata": {},
   "outputs": [],
   "source": [
    "#seed = 37987384"
   ]
  },
  {
   "cell_type": "code",
   "execution_count": 41,
   "metadata": {},
   "outputs": [
    {
     "data": {
      "text/html": [
       "<div>\n",
       "<style scoped>\n",
       "    .dataframe tbody tr th:only-of-type {\n",
       "        vertical-align: middle;\n",
       "    }\n",
       "\n",
       "    .dataframe tbody tr th {\n",
       "        vertical-align: top;\n",
       "    }\n",
       "\n",
       "    .dataframe thead th {\n",
       "        text-align: right;\n",
       "    }\n",
       "</style>\n",
       "<table border=\"1\" class=\"dataframe\">\n",
       "  <thead>\n",
       "    <tr style=\"text-align: right;\">\n",
       "      <th></th>\n",
       "      <th>0</th>\n",
       "      <th>1</th>\n",
       "      <th>2</th>\n",
       "      <th>3</th>\n",
       "      <th>4</th>\n",
       "    </tr>\n",
       "  </thead>\n",
       "  <tbody>\n",
       "    <tr>\n",
       "      <th>0</th>\n",
       "      <td>-0.745148</td>\n",
       "      <td>-1.462669</td>\n",
       "      <td>1.544048</td>\n",
       "      <td>-0.314827</td>\n",
       "      <td>1.363732</td>\n",
       "    </tr>\n",
       "    <tr>\n",
       "      <th>1</th>\n",
       "      <td>0.320851</td>\n",
       "      <td>1.294130</td>\n",
       "      <td>0.014316</td>\n",
       "      <td>0.142872</td>\n",
       "      <td>-0.410083</td>\n",
       "    </tr>\n",
       "    <tr>\n",
       "      <th>2</th>\n",
       "      <td>-1.120832</td>\n",
       "      <td>-0.556905</td>\n",
       "      <td>1.635778</td>\n",
       "      <td>-1.038929</td>\n",
       "      <td>-0.298861</td>\n",
       "    </tr>\n",
       "    <tr>\n",
       "      <th>3</th>\n",
       "      <td>-0.398622</td>\n",
       "      <td>-0.335569</td>\n",
       "      <td>-1.248020</td>\n",
       "      <td>-0.673111</td>\n",
       "      <td>0.607563</td>\n",
       "    </tr>\n",
       "    <tr>\n",
       "      <th>4</th>\n",
       "      <td>0.862360</td>\n",
       "      <td>-1.740604</td>\n",
       "      <td>0.292652</td>\n",
       "      <td>-0.665950</td>\n",
       "      <td>0.645437</td>\n",
       "    </tr>\n",
       "    <tr>\n",
       "      <th>5</th>\n",
       "      <td>-1.261879</td>\n",
       "      <td>0.780692</td>\n",
       "      <td>0.865891</td>\n",
       "      <td>-0.734285</td>\n",
       "      <td>-0.931071</td>\n",
       "    </tr>\n",
       "    <tr>\n",
       "      <th>6</th>\n",
       "      <td>0.898309</td>\n",
       "      <td>0.439822</td>\n",
       "      <td>1.511670</td>\n",
       "      <td>1.471268</td>\n",
       "      <td>-0.415889</td>\n",
       "    </tr>\n",
       "    <tr>\n",
       "      <th>7</th>\n",
       "      <td>-0.530199</td>\n",
       "      <td>-1.492448</td>\n",
       "      <td>0.979067</td>\n",
       "      <td>-0.278514</td>\n",
       "      <td>-0.507445</td>\n",
       "    </tr>\n",
       "    <tr>\n",
       "      <th>8</th>\n",
       "      <td>-0.364977</td>\n",
       "      <td>-0.646663</td>\n",
       "      <td>0.366421</td>\n",
       "      <td>0.694065</td>\n",
       "      <td>1.817062</td>\n",
       "    </tr>\n",
       "    <tr>\n",
       "      <th>9</th>\n",
       "      <td>-0.415620</td>\n",
       "      <td>1.029824</td>\n",
       "      <td>0.543698</td>\n",
       "      <td>-1.036962</td>\n",
       "      <td>-0.093912</td>\n",
       "    </tr>\n",
       "  </tbody>\n",
       "</table>\n",
       "</div>"
      ],
      "text/plain": [
       "          0         1         2         3         4\n",
       "0 -0.745148 -1.462669  1.544048 -0.314827  1.363732\n",
       "1  0.320851  1.294130  0.014316  0.142872 -0.410083\n",
       "2 -1.120832 -0.556905  1.635778 -1.038929 -0.298861\n",
       "3 -0.398622 -0.335569 -1.248020 -0.673111  0.607563\n",
       "4  0.862360 -1.740604  0.292652 -0.665950  0.645437\n",
       "5 -1.261879  0.780692  0.865891 -0.734285 -0.931071\n",
       "6  0.898309  0.439822  1.511670  1.471268 -0.415889\n",
       "7 -0.530199 -1.492448  0.979067 -0.278514 -0.507445\n",
       "8 -0.364977 -0.646663  0.366421  0.694065  1.817062\n",
       "9 -0.415620  1.029824  0.543698 -1.036962 -0.093912"
      ]
     },
     "execution_count": 41,
     "metadata": {},
     "output_type": "execute_result"
    }
   ],
   "source": [
    "df2"
   ]
  },
  {
   "cell_type": "markdown",
   "metadata": {},
   "source": [
    "Array 10-por-5 de amostras de uma N(0, 1):"
   ]
  },
  {
   "cell_type": "code",
   "execution_count": 42,
   "metadata": {},
   "outputs": [
    {
     "data": {
      "text/plain": [
       "array([[ 2.52167367,  1.61975886, -0.82022577, -0.48772754, -0.09869889],\n",
       "       [-1.83654245,  0.55535121, -0.88008513,  0.77704237,  1.75933062],\n",
       "       [-0.75727009,  0.25917791,  0.50515296, -0.42478323,  0.15291093],\n",
       "       [ 0.47856111,  0.71549107,  0.83473425, -0.48329803, -0.31592175],\n",
       "       [-0.94085722,  0.04387738,  0.9080636 ,  0.81681172, -1.60632205],\n",
       "       [ 0.26751739,  2.27733156, -0.57088182, -0.74022969,  0.83072685],\n",
       "       [-0.5958215 ,  0.58772034,  0.10628872, -0.5407303 , -0.62582666],\n",
       "       [-0.38944248,  0.02037429,  0.23342369, -1.71760353, -0.29137084],\n",
       "       [-0.84085245,  1.11505627,  0.72228551, -0.28326351,  0.16359511],\n",
       "       [ 1.13915731, -1.18333203, -1.51778934, -0.65531438,  1.00987297]])"
      ]
     },
     "execution_count": 42,
     "metadata": {},
     "output_type": "execute_result"
    }
   ],
   "source": [
    "np.random.randn(10, 5)"
   ]
  },
  {
   "cell_type": "code",
   "execution_count": 29,
   "metadata": {},
   "outputs": [],
   "source": [
    "an = np.random.randn(10, 5)"
   ]
  },
  {
   "cell_type": "code",
   "execution_count": 30,
   "metadata": {},
   "outputs": [
    {
     "data": {
      "text/html": [
       "<div>\n",
       "<style scoped>\n",
       "    .dataframe tbody tr th:only-of-type {\n",
       "        vertical-align: middle;\n",
       "    }\n",
       "\n",
       "    .dataframe tbody tr th {\n",
       "        vertical-align: top;\n",
       "    }\n",
       "\n",
       "    .dataframe thead th {\n",
       "        text-align: right;\n",
       "    }\n",
       "</style>\n",
       "<table border=\"1\" class=\"dataframe\">\n",
       "  <thead>\n",
       "    <tr style=\"text-align: right;\">\n",
       "      <th></th>\n",
       "      <th>0</th>\n",
       "      <th>1</th>\n",
       "      <th>2</th>\n",
       "      <th>3</th>\n",
       "      <th>4</th>\n",
       "    </tr>\n",
       "  </thead>\n",
       "  <tbody>\n",
       "    <tr>\n",
       "      <th>0</th>\n",
       "      <td>-0.415811</td>\n",
       "      <td>0.634043</td>\n",
       "      <td>-0.320084</td>\n",
       "      <td>-1.035141</td>\n",
       "      <td>-1.472318</td>\n",
       "    </tr>\n",
       "    <tr>\n",
       "      <th>1</th>\n",
       "      <td>-0.542063</td>\n",
       "      <td>-0.176143</td>\n",
       "      <td>-1.338999</td>\n",
       "      <td>1.164823</td>\n",
       "      <td>1.651221</td>\n",
       "    </tr>\n",
       "    <tr>\n",
       "      <th>2</th>\n",
       "      <td>0.204946</td>\n",
       "      <td>0.519608</td>\n",
       "      <td>-0.064065</td>\n",
       "      <td>-1.443523</td>\n",
       "      <td>-0.982411</td>\n",
       "    </tr>\n",
       "    <tr>\n",
       "      <th>3</th>\n",
       "      <td>-1.420311</td>\n",
       "      <td>0.993670</td>\n",
       "      <td>0.564678</td>\n",
       "      <td>0.244036</td>\n",
       "      <td>-1.161996</td>\n",
       "    </tr>\n",
       "    <tr>\n",
       "      <th>4</th>\n",
       "      <td>0.623735</td>\n",
       "      <td>-1.096172</td>\n",
       "      <td>-0.290833</td>\n",
       "      <td>-0.643554</td>\n",
       "      <td>-0.844381</td>\n",
       "    </tr>\n",
       "    <tr>\n",
       "      <th>5</th>\n",
       "      <td>1.050471</td>\n",
       "      <td>0.735425</td>\n",
       "      <td>0.435364</td>\n",
       "      <td>-0.240895</td>\n",
       "      <td>-1.215186</td>\n",
       "    </tr>\n",
       "    <tr>\n",
       "      <th>6</th>\n",
       "      <td>0.722506</td>\n",
       "      <td>1.076963</td>\n",
       "      <td>0.545667</td>\n",
       "      <td>-1.635789</td>\n",
       "      <td>-1.275542</td>\n",
       "    </tr>\n",
       "    <tr>\n",
       "      <th>7</th>\n",
       "      <td>-0.289325</td>\n",
       "      <td>-0.238281</td>\n",
       "      <td>0.952617</td>\n",
       "      <td>-0.144314</td>\n",
       "      <td>0.437175</td>\n",
       "    </tr>\n",
       "    <tr>\n",
       "      <th>8</th>\n",
       "      <td>0.897783</td>\n",
       "      <td>-0.674219</td>\n",
       "      <td>1.179446</td>\n",
       "      <td>1.552766</td>\n",
       "      <td>1.230427</td>\n",
       "    </tr>\n",
       "    <tr>\n",
       "      <th>9</th>\n",
       "      <td>0.984672</td>\n",
       "      <td>0.604761</td>\n",
       "      <td>-0.755868</td>\n",
       "      <td>-1.388132</td>\n",
       "      <td>0.026702</td>\n",
       "    </tr>\n",
       "  </tbody>\n",
       "</table>\n",
       "</div>"
      ],
      "text/plain": [
       "          0         1         2         3         4\n",
       "0 -0.415811  0.634043 -0.320084 -1.035141 -1.472318\n",
       "1 -0.542063 -0.176143 -1.338999  1.164823  1.651221\n",
       "2  0.204946  0.519608 -0.064065 -1.443523 -0.982411\n",
       "3 -1.420311  0.993670  0.564678  0.244036 -1.161996\n",
       "4  0.623735 -1.096172 -0.290833 -0.643554 -0.844381\n",
       "5  1.050471  0.735425  0.435364 -0.240895 -1.215186\n",
       "6  0.722506  1.076963  0.545667 -1.635789 -1.275542\n",
       "7 -0.289325 -0.238281  0.952617 -0.144314  0.437175\n",
       "8  0.897783 -0.674219  1.179446  1.552766  1.230427\n",
       "9  0.984672  0.604761 -0.755868 -1.388132  0.026702"
      ]
     },
     "execution_count": 30,
     "metadata": {},
     "output_type": "execute_result"
    }
   ],
   "source": [
    "pd.DataFrame(an)"
   ]
  },
  {
   "cell_type": "code",
   "execution_count": null,
   "metadata": {},
   "outputs": [],
   "source": []
  },
  {
   "cell_type": "markdown",
   "metadata": {},
   "source": [
    "Array 10-por-5 de amostras de uma N(3, 6.25):"
   ]
  },
  {
   "cell_type": "code",
   "execution_count": 44,
   "metadata": {},
   "outputs": [
    {
     "data": {
      "text/plain": [
       "array([[ 1.13713092, -0.65667234,  6.86011889,  2.21293345,  6.40933034],\n",
       "       [ 3.80212764,  6.23532489,  3.03578901,  3.3571802 ,  1.97479295],\n",
       "       [ 0.1979196 ,  1.60773748,  7.08944594,  0.40267677,  2.25284657],\n",
       "       [ 2.00344392,  2.16107692, -0.12005008,  1.31722153,  4.51890758],\n",
       "       [ 5.1559003 , -1.35151051,  3.73163015,  1.33512521,  4.61359322],\n",
       "       [-0.15469793,  4.95172918,  5.16472754,  1.16428645,  0.67232143],\n",
       "       [ 5.24577372,  4.09955443,  6.77917565,  6.67817015,  1.96027738],\n",
       "       [ 1.67450324, -0.73112115,  5.44766853,  2.30371409,  1.73138645],\n",
       "       [ 2.08755658,  1.38334175,  3.91605329,  4.73516206,  7.54265467],\n",
       "       [ 1.96095057,  5.57456015,  4.35924518,  0.40759389,  2.76521989]])"
      ]
     },
     "execution_count": 44,
     "metadata": {},
     "output_type": "execute_result"
    }
   ],
   "source": [
    "2.5 * np.random.randn(10, 5) + 3"
   ]
  },
  {
   "cell_type": "code",
   "execution_count": 45,
   "metadata": {},
   "outputs": [],
   "source": [
    "df_N3 = pd.DataFrame(2.5 * np.random.randn(1000000, 5) + 3)"
   ]
  },
  {
   "cell_type": "code",
   "execution_count": 46,
   "metadata": {},
   "outputs": [
    {
     "data": {
      "text/html": [
       "<div>\n",
       "<style scoped>\n",
       "    .dataframe tbody tr th:only-of-type {\n",
       "        vertical-align: middle;\n",
       "    }\n",
       "\n",
       "    .dataframe tbody tr th {\n",
       "        vertical-align: top;\n",
       "    }\n",
       "\n",
       "    .dataframe thead th {\n",
       "        text-align: right;\n",
       "    }\n",
       "</style>\n",
       "<table border=\"1\" class=\"dataframe\">\n",
       "  <thead>\n",
       "    <tr style=\"text-align: right;\">\n",
       "      <th></th>\n",
       "      <th>0</th>\n",
       "      <th>1</th>\n",
       "      <th>2</th>\n",
       "      <th>3</th>\n",
       "      <th>4</th>\n",
       "    </tr>\n",
       "  </thead>\n",
       "  <tbody>\n",
       "    <tr>\n",
       "      <th>0</th>\n",
       "      <td>9.304184</td>\n",
       "      <td>7.049397</td>\n",
       "      <td>0.949436</td>\n",
       "      <td>1.780681</td>\n",
       "      <td>2.753253</td>\n",
       "    </tr>\n",
       "    <tr>\n",
       "      <th>1</th>\n",
       "      <td>-1.591356</td>\n",
       "      <td>4.388378</td>\n",
       "      <td>0.799787</td>\n",
       "      <td>4.942606</td>\n",
       "      <td>7.398327</td>\n",
       "    </tr>\n",
       "    <tr>\n",
       "      <th>2</th>\n",
       "      <td>1.106825</td>\n",
       "      <td>3.647945</td>\n",
       "      <td>4.262882</td>\n",
       "      <td>1.938042</td>\n",
       "      <td>3.382277</td>\n",
       "    </tr>\n",
       "    <tr>\n",
       "      <th>3</th>\n",
       "      <td>4.196403</td>\n",
       "      <td>4.788728</td>\n",
       "      <td>5.086836</td>\n",
       "      <td>1.791755</td>\n",
       "      <td>2.210196</td>\n",
       "    </tr>\n",
       "    <tr>\n",
       "      <th>4</th>\n",
       "      <td>0.647857</td>\n",
       "      <td>3.109693</td>\n",
       "      <td>5.270159</td>\n",
       "      <td>5.042029</td>\n",
       "      <td>-1.015805</td>\n",
       "    </tr>\n",
       "    <tr>\n",
       "      <th>...</th>\n",
       "      <td>...</td>\n",
       "      <td>...</td>\n",
       "      <td>...</td>\n",
       "      <td>...</td>\n",
       "      <td>...</td>\n",
       "    </tr>\n",
       "    <tr>\n",
       "      <th>999995</th>\n",
       "      <td>4.685775</td>\n",
       "      <td>7.308961</td>\n",
       "      <td>4.186600</td>\n",
       "      <td>2.307876</td>\n",
       "      <td>5.008472</td>\n",
       "    </tr>\n",
       "    <tr>\n",
       "      <th>999996</th>\n",
       "      <td>3.515232</td>\n",
       "      <td>1.536897</td>\n",
       "      <td>2.499319</td>\n",
       "      <td>9.574790</td>\n",
       "      <td>3.570077</td>\n",
       "    </tr>\n",
       "    <tr>\n",
       "      <th>999997</th>\n",
       "      <td>2.685452</td>\n",
       "      <td>7.616182</td>\n",
       "      <td>7.357554</td>\n",
       "      <td>2.381461</td>\n",
       "      <td>5.504153</td>\n",
       "    </tr>\n",
       "    <tr>\n",
       "      <th>999998</th>\n",
       "      <td>4.703496</td>\n",
       "      <td>2.480500</td>\n",
       "      <td>5.575493</td>\n",
       "      <td>2.442857</td>\n",
       "      <td>7.280765</td>\n",
       "    </tr>\n",
       "    <tr>\n",
       "      <th>999999</th>\n",
       "      <td>3.540161</td>\n",
       "      <td>4.075161</td>\n",
       "      <td>2.435527</td>\n",
       "      <td>4.013901</td>\n",
       "      <td>5.451683</td>\n",
       "    </tr>\n",
       "  </tbody>\n",
       "</table>\n",
       "<p>1000000 rows × 5 columns</p>\n",
       "</div>"
      ],
      "text/plain": [
       "               0         1         2         3         4\n",
       "0       9.304184  7.049397  0.949436  1.780681  2.753253\n",
       "1      -1.591356  4.388378  0.799787  4.942606  7.398327\n",
       "2       1.106825  3.647945  4.262882  1.938042  3.382277\n",
       "3       4.196403  4.788728  5.086836  1.791755  2.210196\n",
       "4       0.647857  3.109693  5.270159  5.042029 -1.015805\n",
       "...          ...       ...       ...       ...       ...\n",
       "999995  4.685775  7.308961  4.186600  2.307876  5.008472\n",
       "999996  3.515232  1.536897  2.499319  9.574790  3.570077\n",
       "999997  2.685452  7.616182  7.357554  2.381461  5.504153\n",
       "999998  4.703496  2.480500  5.575493  2.442857  7.280765\n",
       "999999  3.540161  4.075161  2.435527  4.013901  5.451683\n",
       "\n",
       "[1000000 rows x 5 columns]"
      ]
     },
     "execution_count": 46,
     "metadata": {},
     "output_type": "execute_result"
    }
   ],
   "source": [
    "df_N3"
   ]
  },
  {
   "cell_type": "code",
   "execution_count": 47,
   "metadata": {},
   "outputs": [],
   "source": [
    "data = {\n",
    "'País': ['Bélgica', 'Índia', 'Brasil'],\n",
    "'Capital': ['Bruxelas', 'Nova Delhi', 'Brasília'],\n",
    "'População': [123465, 456789, 987654]\n",
    "}"
   ]
  },
  {
   "cell_type": "code",
   "execution_count": null,
   "metadata": {},
   "outputs": [],
   "source": []
  },
  {
   "cell_type": "code",
   "execution_count": 48,
   "metadata": {},
   "outputs": [
    {
     "data": {
      "text/plain": [
       "{'País': ['Bélgica', 'Índia', 'Brasil'],\n",
       " 'Capital': ['Bruxelas', 'Nova Delhi', 'Brasília'],\n",
       " 'População': [123465, 456789, 987654]}"
      ]
     },
     "execution_count": 48,
     "metadata": {},
     "output_type": "execute_result"
    }
   ],
   "source": [
    "data"
   ]
  },
  {
   "cell_type": "code",
   "execution_count": 50,
   "metadata": {},
   "outputs": [
    {
     "data": {
      "text/plain": [
       "['Bruxelas', 'Nova Delhi', 'Brasília']"
      ]
     },
     "execution_count": 50,
     "metadata": {},
     "output_type": "execute_result"
    }
   ],
   "source": [
    "data['Capital']"
   ]
  },
  {
   "cell_type": "code",
   "execution_count": null,
   "metadata": {},
   "outputs": [],
   "source": []
  },
  {
   "cell_type": "code",
   "execution_count": 51,
   "metadata": {},
   "outputs": [],
   "source": [
    "df3 = pd.DataFrame(data, columns=['País','Capital','População'])"
   ]
  },
  {
   "cell_type": "code",
   "execution_count": 52,
   "metadata": {},
   "outputs": [
    {
     "data": {
      "text/html": [
       "<div>\n",
       "<style scoped>\n",
       "    .dataframe tbody tr th:only-of-type {\n",
       "        vertical-align: middle;\n",
       "    }\n",
       "\n",
       "    .dataframe tbody tr th {\n",
       "        vertical-align: top;\n",
       "    }\n",
       "\n",
       "    .dataframe thead th {\n",
       "        text-align: right;\n",
       "    }\n",
       "</style>\n",
       "<table border=\"1\" class=\"dataframe\">\n",
       "  <thead>\n",
       "    <tr style=\"text-align: right;\">\n",
       "      <th></th>\n",
       "      <th>País</th>\n",
       "      <th>Capital</th>\n",
       "      <th>População</th>\n",
       "    </tr>\n",
       "  </thead>\n",
       "  <tbody>\n",
       "    <tr>\n",
       "      <th>0</th>\n",
       "      <td>Bélgica</td>\n",
       "      <td>Bruxelas</td>\n",
       "      <td>123465</td>\n",
       "    </tr>\n",
       "    <tr>\n",
       "      <th>1</th>\n",
       "      <td>Índia</td>\n",
       "      <td>Nova Delhi</td>\n",
       "      <td>456789</td>\n",
       "    </tr>\n",
       "    <tr>\n",
       "      <th>2</th>\n",
       "      <td>Brasil</td>\n",
       "      <td>Brasília</td>\n",
       "      <td>987654</td>\n",
       "    </tr>\n",
       "  </tbody>\n",
       "</table>\n",
       "</div>"
      ],
      "text/plain": [
       "      País     Capital  População\n",
       "0  Bélgica    Bruxelas     123465\n",
       "1    Índia  Nova Delhi     456789\n",
       "2   Brasil    Brasília     987654"
      ]
     },
     "execution_count": 52,
     "metadata": {},
     "output_type": "execute_result"
    }
   ],
   "source": [
    "df3"
   ]
  },
  {
   "cell_type": "markdown",
   "metadata": {},
   "source": [
    "Podemos criar a mesma base através de uma lista de vários json's"
   ]
  },
  {
   "cell_type": "code",
   "execution_count": 53,
   "metadata": {},
   "outputs": [],
   "source": [
    "data = [{\"País\":\"Bélgica\",\"Capital\":\"Bruxelas\",\"População\":123465},\n",
    "        {\"País\":\"Índia\",\"Capital\":\"Nova Delhi\",\"População\":456789},\n",
    "        {\"País\":\"Brasil\",\"Capital\":\"Brasília\",\"População\":987654}]"
   ]
  },
  {
   "cell_type": "code",
   "execution_count": 54,
   "metadata": {},
   "outputs": [
    {
     "data": {
      "text/plain": [
       "[{'País': 'Bélgica', 'Capital': 'Bruxelas', 'População': 123465},\n",
       " {'País': 'Índia', 'Capital': 'Nova Delhi', 'População': 456789},\n",
       " {'País': 'Brasil', 'Capital': 'Brasília', 'População': 987654}]"
      ]
     },
     "execution_count": 54,
     "metadata": {},
     "output_type": "execute_result"
    }
   ],
   "source": [
    "data"
   ]
  },
  {
   "cell_type": "code",
   "execution_count": null,
   "metadata": {},
   "outputs": [],
   "source": []
  },
  {
   "cell_type": "code",
   "execution_count": 81,
   "metadata": {},
   "outputs": [],
   "source": [
    "df4 = pd.DataFrame(data)"
   ]
  },
  {
   "cell_type": "code",
   "execution_count": 82,
   "metadata": {},
   "outputs": [
    {
     "data": {
      "text/html": [
       "<div>\n",
       "<style scoped>\n",
       "    .dataframe tbody tr th:only-of-type {\n",
       "        vertical-align: middle;\n",
       "    }\n",
       "\n",
       "    .dataframe tbody tr th {\n",
       "        vertical-align: top;\n",
       "    }\n",
       "\n",
       "    .dataframe thead th {\n",
       "        text-align: right;\n",
       "    }\n",
       "</style>\n",
       "<table border=\"1\" class=\"dataframe\">\n",
       "  <thead>\n",
       "    <tr style=\"text-align: right;\">\n",
       "      <th></th>\n",
       "      <th>País</th>\n",
       "      <th>Capital</th>\n",
       "      <th>População</th>\n",
       "    </tr>\n",
       "  </thead>\n",
       "  <tbody>\n",
       "    <tr>\n",
       "      <th>0</th>\n",
       "      <td>Bélgica</td>\n",
       "      <td>Bruxelas</td>\n",
       "      <td>123465</td>\n",
       "    </tr>\n",
       "    <tr>\n",
       "      <th>1</th>\n",
       "      <td>Índia</td>\n",
       "      <td>Nova Delhi</td>\n",
       "      <td>456789</td>\n",
       "    </tr>\n",
       "    <tr>\n",
       "      <th>2</th>\n",
       "      <td>Brasil</td>\n",
       "      <td>Brasília</td>\n",
       "      <td>987654</td>\n",
       "    </tr>\n",
       "  </tbody>\n",
       "</table>\n",
       "</div>"
      ],
      "text/plain": [
       "      País     Capital  População\n",
       "0  Bélgica    Bruxelas     123465\n",
       "1    Índia  Nova Delhi     456789\n",
       "2   Brasil    Brasília     987654"
      ]
     },
     "execution_count": 82,
     "metadata": {},
     "output_type": "execute_result"
    }
   ],
   "source": [
    "df4"
   ]
  },
  {
   "cell_type": "code",
   "execution_count": null,
   "metadata": {},
   "outputs": [],
   "source": []
  },
  {
   "cell_type": "code",
   "execution_count": 57,
   "metadata": {},
   "outputs": [],
   "source": [
    "df4.drop([0,1], inplace=True)"
   ]
  },
  {
   "cell_type": "code",
   "execution_count": 58,
   "metadata": {},
   "outputs": [
    {
     "data": {
      "text/html": [
       "<div>\n",
       "<style scoped>\n",
       "    .dataframe tbody tr th:only-of-type {\n",
       "        vertical-align: middle;\n",
       "    }\n",
       "\n",
       "    .dataframe tbody tr th {\n",
       "        vertical-align: top;\n",
       "    }\n",
       "\n",
       "    .dataframe thead th {\n",
       "        text-align: right;\n",
       "    }\n",
       "</style>\n",
       "<table border=\"1\" class=\"dataframe\">\n",
       "  <thead>\n",
       "    <tr style=\"text-align: right;\">\n",
       "      <th></th>\n",
       "      <th>País</th>\n",
       "      <th>Capital</th>\n",
       "      <th>População</th>\n",
       "    </tr>\n",
       "  </thead>\n",
       "  <tbody>\n",
       "    <tr>\n",
       "      <th>2</th>\n",
       "      <td>Brasil</td>\n",
       "      <td>Brasília</td>\n",
       "      <td>987654</td>\n",
       "    </tr>\n",
       "  </tbody>\n",
       "</table>\n",
       "</div>"
      ],
      "text/plain": [
       "     País   Capital  População\n",
       "2  Brasil  Brasília     987654"
      ]
     },
     "execution_count": 58,
     "metadata": {},
     "output_type": "execute_result"
    }
   ],
   "source": [
    "df4"
   ]
  },
  {
   "cell_type": "code",
   "execution_count": null,
   "metadata": {},
   "outputs": [],
   "source": []
  },
  {
   "cell_type": "markdown",
   "metadata": {},
   "source": [
    "É possível apagar linhas de um dataframe através do índice"
   ]
  },
  {
   "cell_type": "code",
   "execution_count": 59,
   "metadata": {},
   "outputs": [],
   "source": [
    "df3 = df3.drop([0, 1], axis=0)"
   ]
  },
  {
   "cell_type": "code",
   "execution_count": 60,
   "metadata": {},
   "outputs": [
    {
     "data": {
      "text/html": [
       "<div>\n",
       "<style scoped>\n",
       "    .dataframe tbody tr th:only-of-type {\n",
       "        vertical-align: middle;\n",
       "    }\n",
       "\n",
       "    .dataframe tbody tr th {\n",
       "        vertical-align: top;\n",
       "    }\n",
       "\n",
       "    .dataframe thead th {\n",
       "        text-align: right;\n",
       "    }\n",
       "</style>\n",
       "<table border=\"1\" class=\"dataframe\">\n",
       "  <thead>\n",
       "    <tr style=\"text-align: right;\">\n",
       "      <th></th>\n",
       "      <th>País</th>\n",
       "      <th>Capital</th>\n",
       "      <th>População</th>\n",
       "    </tr>\n",
       "  </thead>\n",
       "  <tbody>\n",
       "    <tr>\n",
       "      <th>2</th>\n",
       "      <td>Brasil</td>\n",
       "      <td>Brasília</td>\n",
       "      <td>987654</td>\n",
       "    </tr>\n",
       "  </tbody>\n",
       "</table>\n",
       "</div>"
      ],
      "text/plain": [
       "     País   Capital  População\n",
       "2  Brasil  Brasília     987654"
      ]
     },
     "execution_count": 60,
     "metadata": {},
     "output_type": "execute_result"
    }
   ],
   "source": [
    "df3"
   ]
  },
  {
   "cell_type": "code",
   "execution_count": 61,
   "metadata": {},
   "outputs": [
    {
     "data": {
      "text/html": [
       "<div>\n",
       "<style scoped>\n",
       "    .dataframe tbody tr th:only-of-type {\n",
       "        vertical-align: middle;\n",
       "    }\n",
       "\n",
       "    .dataframe tbody tr th {\n",
       "        vertical-align: top;\n",
       "    }\n",
       "\n",
       "    .dataframe thead th {\n",
       "        text-align: right;\n",
       "    }\n",
       "</style>\n",
       "<table border=\"1\" class=\"dataframe\">\n",
       "  <thead>\n",
       "    <tr style=\"text-align: right;\">\n",
       "      <th></th>\n",
       "      <th>País</th>\n",
       "    </tr>\n",
       "  </thead>\n",
       "  <tbody>\n",
       "    <tr>\n",
       "      <th>2</th>\n",
       "      <td>Brasil</td>\n",
       "    </tr>\n",
       "  </tbody>\n",
       "</table>\n",
       "</div>"
      ],
      "text/plain": [
       "     País\n",
       "2  Brasil"
      ]
     },
     "execution_count": 61,
     "metadata": {},
     "output_type": "execute_result"
    }
   ],
   "source": [
    "df3.drop([\"Capital\",\"População\"],axis=1)"
   ]
  },
  {
   "cell_type": "code",
   "execution_count": null,
   "metadata": {},
   "outputs": [],
   "source": []
  },
  {
   "cell_type": "code",
   "execution_count": 62,
   "metadata": {},
   "outputs": [],
   "source": [
    "df3.to_csv(\"p.csv\")"
   ]
  },
  {
   "cell_type": "code",
   "execution_count": 63,
   "metadata": {},
   "outputs": [],
   "source": [
    "h = pd.read_csv(\"p.csv\")"
   ]
  },
  {
   "cell_type": "code",
   "execution_count": 64,
   "metadata": {},
   "outputs": [
    {
     "data": {
      "text/html": [
       "<div>\n",
       "<style scoped>\n",
       "    .dataframe tbody tr th:only-of-type {\n",
       "        vertical-align: middle;\n",
       "    }\n",
       "\n",
       "    .dataframe tbody tr th {\n",
       "        vertical-align: top;\n",
       "    }\n",
       "\n",
       "    .dataframe thead th {\n",
       "        text-align: right;\n",
       "    }\n",
       "</style>\n",
       "<table border=\"1\" class=\"dataframe\">\n",
       "  <thead>\n",
       "    <tr style=\"text-align: right;\">\n",
       "      <th></th>\n",
       "      <th>Unnamed: 0</th>\n",
       "      <th>País</th>\n",
       "      <th>Capital</th>\n",
       "      <th>População</th>\n",
       "    </tr>\n",
       "  </thead>\n",
       "  <tbody>\n",
       "    <tr>\n",
       "      <th>0</th>\n",
       "      <td>2</td>\n",
       "      <td>Brasil</td>\n",
       "      <td>Brasília</td>\n",
       "      <td>987654</td>\n",
       "    </tr>\n",
       "  </tbody>\n",
       "</table>\n",
       "</div>"
      ],
      "text/plain": [
       "   Unnamed: 0    País   Capital  População\n",
       "0           2  Brasil  Brasília     987654"
      ]
     },
     "execution_count": 64,
     "metadata": {},
     "output_type": "execute_result"
    }
   ],
   "source": [
    "h"
   ]
  },
  {
   "cell_type": "code",
   "execution_count": null,
   "metadata": {},
   "outputs": [],
   "source": []
  },
  {
   "cell_type": "code",
   "execution_count": 65,
   "metadata": {},
   "outputs": [
    {
     "data": {
      "text/html": [
       "<div>\n",
       "<style scoped>\n",
       "    .dataframe tbody tr th:only-of-type {\n",
       "        vertical-align: middle;\n",
       "    }\n",
       "\n",
       "    .dataframe tbody tr th {\n",
       "        vertical-align: top;\n",
       "    }\n",
       "\n",
       "    .dataframe thead th {\n",
       "        text-align: right;\n",
       "    }\n",
       "</style>\n",
       "<table border=\"1\" class=\"dataframe\">\n",
       "  <thead>\n",
       "    <tr style=\"text-align: right;\">\n",
       "      <th></th>\n",
       "      <th>País</th>\n",
       "      <th>Capital</th>\n",
       "      <th>População</th>\n",
       "    </tr>\n",
       "  </thead>\n",
       "  <tbody>\n",
       "    <tr>\n",
       "      <th>2</th>\n",
       "      <td>Brasil</td>\n",
       "      <td>Brasília</td>\n",
       "      <td>987654</td>\n",
       "    </tr>\n",
       "  </tbody>\n",
       "</table>\n",
       "</div>"
      ],
      "text/plain": [
       "     País   Capital  População\n",
       "2  Brasil  Brasília     987654"
      ]
     },
     "execution_count": 65,
     "metadata": {},
     "output_type": "execute_result"
    }
   ],
   "source": [
    "df3"
   ]
  },
  {
   "cell_type": "code",
   "execution_count": null,
   "metadata": {},
   "outputs": [],
   "source": []
  },
  {
   "cell_type": "code",
   "execution_count": 66,
   "metadata": {},
   "outputs": [
    {
     "data": {
      "text/html": [
       "<div>\n",
       "<style scoped>\n",
       "    .dataframe tbody tr th:only-of-type {\n",
       "        vertical-align: middle;\n",
       "    }\n",
       "\n",
       "    .dataframe tbody tr th {\n",
       "        vertical-align: top;\n",
       "    }\n",
       "\n",
       "    .dataframe thead th {\n",
       "        text-align: right;\n",
       "    }\n",
       "</style>\n",
       "<table border=\"1\" class=\"dataframe\">\n",
       "  <thead>\n",
       "    <tr style=\"text-align: right;\">\n",
       "      <th></th>\n",
       "      <th>index</th>\n",
       "      <th>País</th>\n",
       "      <th>Capital</th>\n",
       "      <th>População</th>\n",
       "    </tr>\n",
       "  </thead>\n",
       "  <tbody>\n",
       "    <tr>\n",
       "      <th>0</th>\n",
       "      <td>2</td>\n",
       "      <td>Brasil</td>\n",
       "      <td>Brasília</td>\n",
       "      <td>987654</td>\n",
       "    </tr>\n",
       "  </tbody>\n",
       "</table>\n",
       "</div>"
      ],
      "text/plain": [
       "   index    País   Capital  População\n",
       "0      2  Brasil  Brasília     987654"
      ]
     },
     "execution_count": 66,
     "metadata": {},
     "output_type": "execute_result"
    }
   ],
   "source": [
    "df3.reset_index()"
   ]
  },
  {
   "cell_type": "code",
   "execution_count": 67,
   "metadata": {},
   "outputs": [
    {
     "data": {
      "text/plain": [
       "<module 'numpy' from '/opt/miniconda3/lib/python3.9/site-packages/numpy/__init__.py'>"
      ]
     },
     "execution_count": 67,
     "metadata": {},
     "output_type": "execute_result"
    }
   ],
   "source": [
    "np"
   ]
  },
  {
   "cell_type": "code",
   "execution_count": 68,
   "metadata": {},
   "outputs": [
    {
     "data": {
      "text/plain": [
       "nan"
      ]
     },
     "execution_count": 68,
     "metadata": {},
     "output_type": "execute_result"
    }
   ],
   "source": [
    "np.nan"
   ]
  },
  {
   "cell_type": "code",
   "execution_count": null,
   "metadata": {},
   "outputs": [],
   "source": []
  },
  {
   "cell_type": "code",
   "execution_count": 69,
   "metadata": {},
   "outputs": [],
   "source": [
    "g = [('bird', 389.0),('bird', 24.0),('mammal', 80.5),('mammal', np.nan)]"
   ]
  },
  {
   "cell_type": "code",
   "execution_count": 70,
   "metadata": {},
   "outputs": [
    {
     "data": {
      "text/plain": [
       "[('bird', 389.0), ('bird', 24.0), ('mammal', 80.5), ('mammal', nan)]"
      ]
     },
     "execution_count": 70,
     "metadata": {},
     "output_type": "execute_result"
    }
   ],
   "source": [
    "g"
   ]
  },
  {
   "cell_type": "code",
   "execution_count": null,
   "metadata": {},
   "outputs": [],
   "source": []
  },
  {
   "cell_type": "code",
   "execution_count": 71,
   "metadata": {},
   "outputs": [
    {
     "data": {
      "text/html": [
       "<div>\n",
       "<style scoped>\n",
       "    .dataframe tbody tr th:only-of-type {\n",
       "        vertical-align: middle;\n",
       "    }\n",
       "\n",
       "    .dataframe tbody tr th {\n",
       "        vertical-align: top;\n",
       "    }\n",
       "\n",
       "    .dataframe thead th {\n",
       "        text-align: right;\n",
       "    }\n",
       "</style>\n",
       "<table border=\"1\" class=\"dataframe\">\n",
       "  <thead>\n",
       "    <tr style=\"text-align: right;\">\n",
       "      <th></th>\n",
       "      <th>0</th>\n",
       "      <th>1</th>\n",
       "    </tr>\n",
       "  </thead>\n",
       "  <tbody>\n",
       "    <tr>\n",
       "      <th>0</th>\n",
       "      <td>bird</td>\n",
       "      <td>389.0</td>\n",
       "    </tr>\n",
       "    <tr>\n",
       "      <th>1</th>\n",
       "      <td>bird</td>\n",
       "      <td>24.0</td>\n",
       "    </tr>\n",
       "    <tr>\n",
       "      <th>2</th>\n",
       "      <td>mammal</td>\n",
       "      <td>80.5</td>\n",
       "    </tr>\n",
       "    <tr>\n",
       "      <th>3</th>\n",
       "      <td>mammal</td>\n",
       "      <td>NaN</td>\n",
       "    </tr>\n",
       "  </tbody>\n",
       "</table>\n",
       "</div>"
      ],
      "text/plain": [
       "        0      1\n",
       "0    bird  389.0\n",
       "1    bird   24.0\n",
       "2  mammal   80.5\n",
       "3  mammal    NaN"
      ]
     },
     "execution_count": 71,
     "metadata": {},
     "output_type": "execute_result"
    }
   ],
   "source": [
    "pd.DataFrame(g)"
   ]
  },
  {
   "cell_type": "code",
   "execution_count": null,
   "metadata": {},
   "outputs": [],
   "source": []
  },
  {
   "cell_type": "code",
   "execution_count": 72,
   "metadata": {},
   "outputs": [],
   "source": [
    "df = pd.DataFrame(g,index=['falcon', 'parrot', 'lion', 'monkey'],columns=('class', 'max_speed'))"
   ]
  },
  {
   "cell_type": "code",
   "execution_count": 73,
   "metadata": {},
   "outputs": [
    {
     "data": {
      "text/html": [
       "<div>\n",
       "<style scoped>\n",
       "    .dataframe tbody tr th:only-of-type {\n",
       "        vertical-align: middle;\n",
       "    }\n",
       "\n",
       "    .dataframe tbody tr th {\n",
       "        vertical-align: top;\n",
       "    }\n",
       "\n",
       "    .dataframe thead th {\n",
       "        text-align: right;\n",
       "    }\n",
       "</style>\n",
       "<table border=\"1\" class=\"dataframe\">\n",
       "  <thead>\n",
       "    <tr style=\"text-align: right;\">\n",
       "      <th></th>\n",
       "      <th>class</th>\n",
       "      <th>max_speed</th>\n",
       "    </tr>\n",
       "  </thead>\n",
       "  <tbody>\n",
       "    <tr>\n",
       "      <th>falcon</th>\n",
       "      <td>bird</td>\n",
       "      <td>389.0</td>\n",
       "    </tr>\n",
       "    <tr>\n",
       "      <th>parrot</th>\n",
       "      <td>bird</td>\n",
       "      <td>24.0</td>\n",
       "    </tr>\n",
       "    <tr>\n",
       "      <th>lion</th>\n",
       "      <td>mammal</td>\n",
       "      <td>80.5</td>\n",
       "    </tr>\n",
       "    <tr>\n",
       "      <th>monkey</th>\n",
       "      <td>mammal</td>\n",
       "      <td>NaN</td>\n",
       "    </tr>\n",
       "  </tbody>\n",
       "</table>\n",
       "</div>"
      ],
      "text/plain": [
       "         class  max_speed\n",
       "falcon    bird      389.0\n",
       "parrot    bird       24.0\n",
       "lion    mammal       80.5\n",
       "monkey  mammal        NaN"
      ]
     },
     "execution_count": 73,
     "metadata": {},
     "output_type": "execute_result"
    }
   ],
   "source": [
    "df"
   ]
  },
  {
   "cell_type": "code",
   "execution_count": null,
   "metadata": {},
   "outputs": [],
   "source": []
  },
  {
   "cell_type": "code",
   "execution_count": 74,
   "metadata": {},
   "outputs": [],
   "source": [
    "joao = [('falcon', 389.0),('parrot', 24.0),('lion', 80.5),('monkey', np.nan)]"
   ]
  },
  {
   "cell_type": "code",
   "execution_count": 75,
   "metadata": {},
   "outputs": [],
   "source": [
    "df = pd.DataFrame(joao,index=['bird', 'bird', 'mammal', 'mammal'],columns=('class', 'max_speed'))"
   ]
  },
  {
   "cell_type": "code",
   "execution_count": 76,
   "metadata": {},
   "outputs": [
    {
     "data": {
      "text/html": [
       "<div>\n",
       "<style scoped>\n",
       "    .dataframe tbody tr th:only-of-type {\n",
       "        vertical-align: middle;\n",
       "    }\n",
       "\n",
       "    .dataframe tbody tr th {\n",
       "        vertical-align: top;\n",
       "    }\n",
       "\n",
       "    .dataframe thead th {\n",
       "        text-align: right;\n",
       "    }\n",
       "</style>\n",
       "<table border=\"1\" class=\"dataframe\">\n",
       "  <thead>\n",
       "    <tr style=\"text-align: right;\">\n",
       "      <th></th>\n",
       "      <th>class</th>\n",
       "      <th>max_speed</th>\n",
       "    </tr>\n",
       "  </thead>\n",
       "  <tbody>\n",
       "    <tr>\n",
       "      <th>bird</th>\n",
       "      <td>falcon</td>\n",
       "      <td>389.0</td>\n",
       "    </tr>\n",
       "    <tr>\n",
       "      <th>bird</th>\n",
       "      <td>parrot</td>\n",
       "      <td>24.0</td>\n",
       "    </tr>\n",
       "    <tr>\n",
       "      <th>mammal</th>\n",
       "      <td>lion</td>\n",
       "      <td>80.5</td>\n",
       "    </tr>\n",
       "    <tr>\n",
       "      <th>mammal</th>\n",
       "      <td>monkey</td>\n",
       "      <td>NaN</td>\n",
       "    </tr>\n",
       "  </tbody>\n",
       "</table>\n",
       "</div>"
      ],
      "text/plain": [
       "         class  max_speed\n",
       "bird    falcon      389.0\n",
       "bird    parrot       24.0\n",
       "mammal    lion       80.5\n",
       "mammal  monkey        NaN"
      ]
     },
     "execution_count": 76,
     "metadata": {},
     "output_type": "execute_result"
    }
   ],
   "source": [
    "df"
   ]
  },
  {
   "cell_type": "code",
   "execution_count": null,
   "metadata": {},
   "outputs": [],
   "source": []
  },
  {
   "cell_type": "code",
   "execution_count": 77,
   "metadata": {},
   "outputs": [
    {
     "data": {
      "text/html": [
       "<div>\n",
       "<style scoped>\n",
       "    .dataframe tbody tr th:only-of-type {\n",
       "        vertical-align: middle;\n",
       "    }\n",
       "\n",
       "    .dataframe tbody tr th {\n",
       "        vertical-align: top;\n",
       "    }\n",
       "\n",
       "    .dataframe thead th {\n",
       "        text-align: right;\n",
       "    }\n",
       "</style>\n",
       "<table border=\"1\" class=\"dataframe\">\n",
       "  <thead>\n",
       "    <tr style=\"text-align: right;\">\n",
       "      <th></th>\n",
       "      <th>index</th>\n",
       "      <th>class</th>\n",
       "      <th>max_speed</th>\n",
       "    </tr>\n",
       "  </thead>\n",
       "  <tbody>\n",
       "    <tr>\n",
       "      <th>0</th>\n",
       "      <td>bird</td>\n",
       "      <td>falcon</td>\n",
       "      <td>389.0</td>\n",
       "    </tr>\n",
       "    <tr>\n",
       "      <th>1</th>\n",
       "      <td>bird</td>\n",
       "      <td>parrot</td>\n",
       "      <td>24.0</td>\n",
       "    </tr>\n",
       "    <tr>\n",
       "      <th>2</th>\n",
       "      <td>mammal</td>\n",
       "      <td>lion</td>\n",
       "      <td>80.5</td>\n",
       "    </tr>\n",
       "    <tr>\n",
       "      <th>3</th>\n",
       "      <td>mammal</td>\n",
       "      <td>monkey</td>\n",
       "      <td>NaN</td>\n",
       "    </tr>\n",
       "  </tbody>\n",
       "</table>\n",
       "</div>"
      ],
      "text/plain": [
       "    index   class  max_speed\n",
       "0    bird  falcon      389.0\n",
       "1    bird  parrot       24.0\n",
       "2  mammal    lion       80.5\n",
       "3  mammal  monkey        NaN"
      ]
     },
     "execution_count": 77,
     "metadata": {},
     "output_type": "execute_result"
    }
   ],
   "source": [
    "df.reset_index()"
   ]
  },
  {
   "cell_type": "code",
   "execution_count": 83,
   "metadata": {},
   "outputs": [],
   "source": [
    "df3 = df4"
   ]
  },
  {
   "cell_type": "code",
   "execution_count": 84,
   "metadata": {},
   "outputs": [
    {
     "data": {
      "text/html": [
       "<div>\n",
       "<style scoped>\n",
       "    .dataframe tbody tr th:only-of-type {\n",
       "        vertical-align: middle;\n",
       "    }\n",
       "\n",
       "    .dataframe tbody tr th {\n",
       "        vertical-align: top;\n",
       "    }\n",
       "\n",
       "    .dataframe thead th {\n",
       "        text-align: right;\n",
       "    }\n",
       "</style>\n",
       "<table border=\"1\" class=\"dataframe\">\n",
       "  <thead>\n",
       "    <tr style=\"text-align: right;\">\n",
       "      <th></th>\n",
       "      <th>País</th>\n",
       "      <th>Capital</th>\n",
       "      <th>População</th>\n",
       "    </tr>\n",
       "  </thead>\n",
       "  <tbody>\n",
       "    <tr>\n",
       "      <th>0</th>\n",
       "      <td>Bélgica</td>\n",
       "      <td>Bruxelas</td>\n",
       "      <td>123465</td>\n",
       "    </tr>\n",
       "    <tr>\n",
       "      <th>1</th>\n",
       "      <td>Índia</td>\n",
       "      <td>Nova Delhi</td>\n",
       "      <td>456789</td>\n",
       "    </tr>\n",
       "    <tr>\n",
       "      <th>2</th>\n",
       "      <td>Brasil</td>\n",
       "      <td>Brasília</td>\n",
       "      <td>987654</td>\n",
       "    </tr>\n",
       "  </tbody>\n",
       "</table>\n",
       "</div>"
      ],
      "text/plain": [
       "      País     Capital  População\n",
       "0  Bélgica    Bruxelas     123465\n",
       "1    Índia  Nova Delhi     456789\n",
       "2   Brasil    Brasília     987654"
      ]
     },
     "execution_count": 84,
     "metadata": {},
     "output_type": "execute_result"
    }
   ],
   "source": [
    "df3"
   ]
  },
  {
   "cell_type": "code",
   "execution_count": 85,
   "metadata": {},
   "outputs": [
    {
     "data": {
      "text/html": [
       "<div>\n",
       "<style scoped>\n",
       "    .dataframe tbody tr th:only-of-type {\n",
       "        vertical-align: middle;\n",
       "    }\n",
       "\n",
       "    .dataframe tbody tr th {\n",
       "        vertical-align: top;\n",
       "    }\n",
       "\n",
       "    .dataframe thead th {\n",
       "        text-align: right;\n",
       "    }\n",
       "</style>\n",
       "<table border=\"1\" class=\"dataframe\">\n",
       "  <thead>\n",
       "    <tr style=\"text-align: right;\">\n",
       "      <th></th>\n",
       "      <th>População</th>\n",
       "      <th>Capital</th>\n",
       "    </tr>\n",
       "  </thead>\n",
       "  <tbody>\n",
       "    <tr>\n",
       "      <th>0</th>\n",
       "      <td>123465</td>\n",
       "      <td>Bruxelas</td>\n",
       "    </tr>\n",
       "    <tr>\n",
       "      <th>1</th>\n",
       "      <td>456789</td>\n",
       "      <td>Nova Delhi</td>\n",
       "    </tr>\n",
       "    <tr>\n",
       "      <th>2</th>\n",
       "      <td>987654</td>\n",
       "      <td>Brasília</td>\n",
       "    </tr>\n",
       "  </tbody>\n",
       "</table>\n",
       "</div>"
      ],
      "text/plain": [
       "   População     Capital\n",
       "0     123465    Bruxelas\n",
       "1     456789  Nova Delhi\n",
       "2     987654    Brasília"
      ]
     },
     "execution_count": 85,
     "metadata": {},
     "output_type": "execute_result"
    }
   ],
   "source": [
    "df3[['População','Capital']]"
   ]
  },
  {
   "cell_type": "code",
   "execution_count": 86,
   "metadata": {},
   "outputs": [
    {
     "data": {
      "text/plain": [
       "0    Bélgica\n",
       "1      Índia\n",
       "2     Brasil\n",
       "Name: País, dtype: object"
      ]
     },
     "execution_count": 86,
     "metadata": {},
     "output_type": "execute_result"
    }
   ],
   "source": [
    "df3['País']"
   ]
  },
  {
   "cell_type": "markdown",
   "metadata": {},
   "source": [
    "Ou remover colunas utilizando o argumento axis=1"
   ]
  },
  {
   "cell_type": "code",
   "execution_count": 87,
   "metadata": {},
   "outputs": [
    {
     "data": {
      "text/html": [
       "<div>\n",
       "<style scoped>\n",
       "    .dataframe tbody tr th:only-of-type {\n",
       "        vertical-align: middle;\n",
       "    }\n",
       "\n",
       "    .dataframe tbody tr th {\n",
       "        vertical-align: top;\n",
       "    }\n",
       "\n",
       "    .dataframe thead th {\n",
       "        text-align: right;\n",
       "    }\n",
       "</style>\n",
       "<table border=\"1\" class=\"dataframe\">\n",
       "  <thead>\n",
       "    <tr style=\"text-align: right;\">\n",
       "      <th></th>\n",
       "      <th>Capital</th>\n",
       "    </tr>\n",
       "  </thead>\n",
       "  <tbody>\n",
       "    <tr>\n",
       "      <th>0</th>\n",
       "      <td>Bruxelas</td>\n",
       "    </tr>\n",
       "    <tr>\n",
       "      <th>1</th>\n",
       "      <td>Nova Delhi</td>\n",
       "    </tr>\n",
       "    <tr>\n",
       "      <th>2</th>\n",
       "      <td>Brasília</td>\n",
       "    </tr>\n",
       "  </tbody>\n",
       "</table>\n",
       "</div>"
      ],
      "text/plain": [
       "      Capital\n",
       "0    Bruxelas\n",
       "1  Nova Delhi\n",
       "2    Brasília"
      ]
     },
     "execution_count": 87,
     "metadata": {},
     "output_type": "execute_result"
    }
   ],
   "source": [
    "df3.drop(['País','População'], axis=1)"
   ]
  },
  {
   "cell_type": "markdown",
   "metadata": {},
   "source": [
    "Coletando informações básicas sobre o DataFrame: \n",
    "\n",
    "Quantidade de linhas e colunas do DataFrame"
   ]
  },
  {
   "cell_type": "code",
   "execution_count": 88,
   "metadata": {},
   "outputs": [
    {
     "data": {
      "text/plain": [
       "(3, 3)"
      ]
     },
     "execution_count": 88,
     "metadata": {},
     "output_type": "execute_result"
    }
   ],
   "source": [
    "df3.shape"
   ]
  },
  {
   "cell_type": "markdown",
   "metadata": {},
   "source": [
    "Descrição do Index"
   ]
  },
  {
   "cell_type": "code",
   "execution_count": 89,
   "metadata": {},
   "outputs": [
    {
     "data": {
      "text/plain": [
       "RangeIndex(start=0, stop=3, step=1)"
      ]
     },
     "execution_count": 89,
     "metadata": {},
     "output_type": "execute_result"
    }
   ],
   "source": [
    "df3.index "
   ]
  },
  {
   "cell_type": "code",
   "execution_count": 90,
   "metadata": {},
   "outputs": [
    {
     "data": {
      "text/plain": [
       "['País', 'Capital', 'População']"
      ]
     },
     "execution_count": 90,
     "metadata": {},
     "output_type": "execute_result"
    }
   ],
   "source": [
    "list(df3)"
   ]
  },
  {
   "cell_type": "markdown",
   "metadata": {},
   "source": [
    "Colunas presentes no DataFrame"
   ]
  },
  {
   "cell_type": "code",
   "execution_count": 91,
   "metadata": {},
   "outputs": [
    {
     "data": {
      "text/plain": [
       "Index(['País', 'Capital', 'População'], dtype='object')"
      ]
     },
     "execution_count": 91,
     "metadata": {},
     "output_type": "execute_result"
    }
   ],
   "source": [
    "df3.columns"
   ]
  },
  {
   "cell_type": "markdown",
   "metadata": {},
   "source": [
    "Contagem de dados não-nulos"
   ]
  },
  {
   "cell_type": "code",
   "execution_count": 92,
   "metadata": {},
   "outputs": [
    {
     "data": {
      "text/plain": [
       "País         3\n",
       "Capital      3\n",
       "População    3\n",
       "dtype: int64"
      ]
     },
     "execution_count": 92,
     "metadata": {},
     "output_type": "execute_result"
    }
   ],
   "source": [
    "df3.count()"
   ]
  },
  {
   "cell_type": "code",
   "execution_count": null,
   "metadata": {},
   "outputs": [],
   "source": []
  },
  {
   "cell_type": "code",
   "execution_count": 93,
   "metadata": {},
   "outputs": [],
   "source": [
    "c = df3.count()"
   ]
  },
  {
   "cell_type": "code",
   "execution_count": 94,
   "metadata": {},
   "outputs": [
    {
     "data": {
      "text/plain": [
       "País         3\n",
       "Capital      3\n",
       "População    3\n",
       "dtype: int64"
      ]
     },
     "execution_count": 94,
     "metadata": {},
     "output_type": "execute_result"
    }
   ],
   "source": [
    "c"
   ]
  },
  {
   "cell_type": "code",
   "execution_count": 95,
   "metadata": {},
   "outputs": [
    {
     "data": {
      "text/html": [
       "<div>\n",
       "<style scoped>\n",
       "    .dataframe tbody tr th:only-of-type {\n",
       "        vertical-align: middle;\n",
       "    }\n",
       "\n",
       "    .dataframe tbody tr th {\n",
       "        vertical-align: top;\n",
       "    }\n",
       "\n",
       "    .dataframe thead th {\n",
       "        text-align: right;\n",
       "    }\n",
       "</style>\n",
       "<table border=\"1\" class=\"dataframe\">\n",
       "  <thead>\n",
       "    <tr style=\"text-align: right;\">\n",
       "      <th></th>\n",
       "      <th>País</th>\n",
       "      <th>Capital</th>\n",
       "      <th>População</th>\n",
       "    </tr>\n",
       "  </thead>\n",
       "  <tbody>\n",
       "    <tr>\n",
       "      <th>0</th>\n",
       "      <td>Bélgica</td>\n",
       "      <td>Bruxelas</td>\n",
       "      <td>123465</td>\n",
       "    </tr>\n",
       "    <tr>\n",
       "      <th>1</th>\n",
       "      <td>Índia</td>\n",
       "      <td>Nova Delhi</td>\n",
       "      <td>456789</td>\n",
       "    </tr>\n",
       "    <tr>\n",
       "      <th>2</th>\n",
       "      <td>Brasil</td>\n",
       "      <td>Brasília</td>\n",
       "      <td>987654</td>\n",
       "    </tr>\n",
       "  </tbody>\n",
       "</table>\n",
       "</div>"
      ],
      "text/plain": [
       "      País     Capital  População\n",
       "0  Bélgica    Bruxelas     123465\n",
       "1    Índia  Nova Delhi     456789\n",
       "2   Brasil    Brasília     987654"
      ]
     },
     "execution_count": 95,
     "metadata": {},
     "output_type": "execute_result"
    }
   ],
   "source": [
    "df3"
   ]
  },
  {
   "cell_type": "markdown",
   "metadata": {},
   "source": [
    "Criando uma nova coluna em um DataFrame"
   ]
  },
  {
   "cell_type": "code",
   "execution_count": 96,
   "metadata": {},
   "outputs": [],
   "source": [
    "df3['Nova_Coluna'] = 0"
   ]
  },
  {
   "cell_type": "code",
   "execution_count": 97,
   "metadata": {},
   "outputs": [],
   "source": [
    "df3['Nova_Coluna1'] = df3['População']**2"
   ]
  },
  {
   "cell_type": "code",
   "execution_count": 98,
   "metadata": {},
   "outputs": [
    {
     "data": {
      "text/html": [
       "<div>\n",
       "<style scoped>\n",
       "    .dataframe tbody tr th:only-of-type {\n",
       "        vertical-align: middle;\n",
       "    }\n",
       "\n",
       "    .dataframe tbody tr th {\n",
       "        vertical-align: top;\n",
       "    }\n",
       "\n",
       "    .dataframe thead th {\n",
       "        text-align: right;\n",
       "    }\n",
       "</style>\n",
       "<table border=\"1\" class=\"dataframe\">\n",
       "  <thead>\n",
       "    <tr style=\"text-align: right;\">\n",
       "      <th></th>\n",
       "      <th>País</th>\n",
       "      <th>Capital</th>\n",
       "      <th>População</th>\n",
       "      <th>Nova_Coluna</th>\n",
       "      <th>Nova_Coluna1</th>\n",
       "    </tr>\n",
       "  </thead>\n",
       "  <tbody>\n",
       "    <tr>\n",
       "      <th>0</th>\n",
       "      <td>Bélgica</td>\n",
       "      <td>Bruxelas</td>\n",
       "      <td>123465</td>\n",
       "      <td>0</td>\n",
       "      <td>15243606225</td>\n",
       "    </tr>\n",
       "    <tr>\n",
       "      <th>1</th>\n",
       "      <td>Índia</td>\n",
       "      <td>Nova Delhi</td>\n",
       "      <td>456789</td>\n",
       "      <td>0</td>\n",
       "      <td>208656190521</td>\n",
       "    </tr>\n",
       "    <tr>\n",
       "      <th>2</th>\n",
       "      <td>Brasil</td>\n",
       "      <td>Brasília</td>\n",
       "      <td>987654</td>\n",
       "      <td>0</td>\n",
       "      <td>975460423716</td>\n",
       "    </tr>\n",
       "  </tbody>\n",
       "</table>\n",
       "</div>"
      ],
      "text/plain": [
       "      País     Capital  População  Nova_Coluna  Nova_Coluna1\n",
       "0  Bélgica    Bruxelas     123465            0   15243606225\n",
       "1    Índia  Nova Delhi     456789            0  208656190521\n",
       "2   Brasil    Brasília     987654            0  975460423716"
      ]
     },
     "execution_count": 98,
     "metadata": {},
     "output_type": "execute_result"
    }
   ],
   "source": [
    "df3"
   ]
  },
  {
   "cell_type": "code",
   "execution_count": null,
   "metadata": {},
   "outputs": [],
   "source": []
  },
  {
   "cell_type": "code",
   "execution_count": 99,
   "metadata": {},
   "outputs": [],
   "source": [
    "df3['Nova_Coluna'] = 10"
   ]
  },
  {
   "cell_type": "code",
   "execution_count": 100,
   "metadata": {},
   "outputs": [
    {
     "data": {
      "text/html": [
       "<div>\n",
       "<style scoped>\n",
       "    .dataframe tbody tr th:only-of-type {\n",
       "        vertical-align: middle;\n",
       "    }\n",
       "\n",
       "    .dataframe tbody tr th {\n",
       "        vertical-align: top;\n",
       "    }\n",
       "\n",
       "    .dataframe thead th {\n",
       "        text-align: right;\n",
       "    }\n",
       "</style>\n",
       "<table border=\"1\" class=\"dataframe\">\n",
       "  <thead>\n",
       "    <tr style=\"text-align: right;\">\n",
       "      <th></th>\n",
       "      <th>País</th>\n",
       "      <th>Capital</th>\n",
       "      <th>População</th>\n",
       "      <th>Nova_Coluna</th>\n",
       "      <th>Nova_Coluna1</th>\n",
       "    </tr>\n",
       "  </thead>\n",
       "  <tbody>\n",
       "    <tr>\n",
       "      <th>0</th>\n",
       "      <td>Bélgica</td>\n",
       "      <td>Bruxelas</td>\n",
       "      <td>123465</td>\n",
       "      <td>10</td>\n",
       "      <td>15243606225</td>\n",
       "    </tr>\n",
       "    <tr>\n",
       "      <th>1</th>\n",
       "      <td>Índia</td>\n",
       "      <td>Nova Delhi</td>\n",
       "      <td>456789</td>\n",
       "      <td>10</td>\n",
       "      <td>208656190521</td>\n",
       "    </tr>\n",
       "    <tr>\n",
       "      <th>2</th>\n",
       "      <td>Brasil</td>\n",
       "      <td>Brasília</td>\n",
       "      <td>987654</td>\n",
       "      <td>10</td>\n",
       "      <td>975460423716</td>\n",
       "    </tr>\n",
       "  </tbody>\n",
       "</table>\n",
       "</div>"
      ],
      "text/plain": [
       "      País     Capital  População  Nova_Coluna  Nova_Coluna1\n",
       "0  Bélgica    Bruxelas     123465           10   15243606225\n",
       "1    Índia  Nova Delhi     456789           10  208656190521\n",
       "2   Brasil    Brasília     987654           10  975460423716"
      ]
     },
     "execution_count": 100,
     "metadata": {},
     "output_type": "execute_result"
    }
   ],
   "source": [
    "df3"
   ]
  },
  {
   "cell_type": "code",
   "execution_count": 101,
   "metadata": {},
   "outputs": [
    {
     "data": {
      "text/plain": [
       "Index(['País', 'Capital', 'População', 'Nova_Coluna', 'Nova_Coluna1'], dtype='object')"
      ]
     },
     "execution_count": 101,
     "metadata": {},
     "output_type": "execute_result"
    }
   ],
   "source": [
    "df3.columns"
   ]
  },
  {
   "cell_type": "code",
   "execution_count": null,
   "metadata": {},
   "outputs": [],
   "source": []
  },
  {
   "cell_type": "markdown",
   "metadata": {},
   "source": [
    "Renomeando colunas de um DataFrame\n",
    "\n",
    "Se seu DataFrame possui 3 colunas, passe 3 novos valores em uma lista"
   ]
  },
  {
   "cell_type": "code",
   "execution_count": 102,
   "metadata": {},
   "outputs": [],
   "source": [
    "df3.columns = ['Coluna 1', 'Coluna 2', 'Coluna 3', 'Coluna 4','Coluna 5']"
   ]
  },
  {
   "cell_type": "code",
   "execution_count": 103,
   "metadata": {},
   "outputs": [
    {
     "data": {
      "text/html": [
       "<div>\n",
       "<style scoped>\n",
       "    .dataframe tbody tr th:only-of-type {\n",
       "        vertical-align: middle;\n",
       "    }\n",
       "\n",
       "    .dataframe tbody tr th {\n",
       "        vertical-align: top;\n",
       "    }\n",
       "\n",
       "    .dataframe thead th {\n",
       "        text-align: right;\n",
       "    }\n",
       "</style>\n",
       "<table border=\"1\" class=\"dataframe\">\n",
       "  <thead>\n",
       "    <tr style=\"text-align: right;\">\n",
       "      <th></th>\n",
       "      <th>Coluna 1</th>\n",
       "      <th>Coluna 2</th>\n",
       "      <th>Coluna 3</th>\n",
       "      <th>Coluna 4</th>\n",
       "      <th>Coluna 5</th>\n",
       "    </tr>\n",
       "  </thead>\n",
       "  <tbody>\n",
       "    <tr>\n",
       "      <th>0</th>\n",
       "      <td>Bélgica</td>\n",
       "      <td>Bruxelas</td>\n",
       "      <td>123465</td>\n",
       "      <td>10</td>\n",
       "      <td>15243606225</td>\n",
       "    </tr>\n",
       "    <tr>\n",
       "      <th>1</th>\n",
       "      <td>Índia</td>\n",
       "      <td>Nova Delhi</td>\n",
       "      <td>456789</td>\n",
       "      <td>10</td>\n",
       "      <td>208656190521</td>\n",
       "    </tr>\n",
       "    <tr>\n",
       "      <th>2</th>\n",
       "      <td>Brasil</td>\n",
       "      <td>Brasília</td>\n",
       "      <td>987654</td>\n",
       "      <td>10</td>\n",
       "      <td>975460423716</td>\n",
       "    </tr>\n",
       "  </tbody>\n",
       "</table>\n",
       "</div>"
      ],
      "text/plain": [
       "  Coluna 1    Coluna 2  Coluna 3  Coluna 4      Coluna 5\n",
       "0  Bélgica    Bruxelas    123465        10   15243606225\n",
       "1    Índia  Nova Delhi    456789        10  208656190521\n",
       "2   Brasil    Brasília    987654        10  975460423716"
      ]
     },
     "execution_count": 103,
     "metadata": {},
     "output_type": "execute_result"
    }
   ],
   "source": [
    "df3"
   ]
  },
  {
   "cell_type": "code",
   "execution_count": 104,
   "metadata": {},
   "outputs": [
    {
     "data": {
      "text/html": [
       "<div>\n",
       "<style scoped>\n",
       "    .dataframe tbody tr th:only-of-type {\n",
       "        vertical-align: middle;\n",
       "    }\n",
       "\n",
       "    .dataframe tbody tr th {\n",
       "        vertical-align: top;\n",
       "    }\n",
       "\n",
       "    .dataframe thead th {\n",
       "        text-align: right;\n",
       "    }\n",
       "</style>\n",
       "<table border=\"1\" class=\"dataframe\">\n",
       "  <thead>\n",
       "    <tr style=\"text-align: right;\">\n",
       "      <th></th>\n",
       "      <th>Coluna 1</th>\n",
       "      <th>Coluna 2</th>\n",
       "      <th>Coluna 3</th>\n",
       "      <th>Sofia</th>\n",
       "      <th>Coluna 5</th>\n",
       "    </tr>\n",
       "  </thead>\n",
       "  <tbody>\n",
       "    <tr>\n",
       "      <th>0</th>\n",
       "      <td>Bélgica</td>\n",
       "      <td>Bruxelas</td>\n",
       "      <td>123465</td>\n",
       "      <td>10</td>\n",
       "      <td>15243606225</td>\n",
       "    </tr>\n",
       "    <tr>\n",
       "      <th>1</th>\n",
       "      <td>Índia</td>\n",
       "      <td>Nova Delhi</td>\n",
       "      <td>456789</td>\n",
       "      <td>10</td>\n",
       "      <td>208656190521</td>\n",
       "    </tr>\n",
       "    <tr>\n",
       "      <th>2</th>\n",
       "      <td>Brasil</td>\n",
       "      <td>Brasília</td>\n",
       "      <td>987654</td>\n",
       "      <td>10</td>\n",
       "      <td>975460423716</td>\n",
       "    </tr>\n",
       "  </tbody>\n",
       "</table>\n",
       "</div>"
      ],
      "text/plain": [
       "  Coluna 1    Coluna 2  Coluna 3  Sofia      Coluna 5\n",
       "0  Bélgica    Bruxelas    123465     10   15243606225\n",
       "1    Índia  Nova Delhi    456789     10  208656190521\n",
       "2   Brasil    Brasília    987654     10  975460423716"
      ]
     },
     "execution_count": 104,
     "metadata": {},
     "output_type": "execute_result"
    }
   ],
   "source": [
    "df3.rename(columns={\"Coluna 4\": \"Sofia\"})"
   ]
  },
  {
   "cell_type": "code",
   "execution_count": 105,
   "metadata": {},
   "outputs": [
    {
     "data": {
      "text/html": [
       "<div>\n",
       "<style scoped>\n",
       "    .dataframe tbody tr th:only-of-type {\n",
       "        vertical-align: middle;\n",
       "    }\n",
       "\n",
       "    .dataframe tbody tr th {\n",
       "        vertical-align: top;\n",
       "    }\n",
       "\n",
       "    .dataframe thead th {\n",
       "        text-align: right;\n",
       "    }\n",
       "</style>\n",
       "<table border=\"1\" class=\"dataframe\">\n",
       "  <thead>\n",
       "    <tr style=\"text-align: right;\">\n",
       "      <th></th>\n",
       "      <th>Coluna 1</th>\n",
       "      <th>Coluna 2</th>\n",
       "      <th>Coluna 3</th>\n",
       "      <th>Coluna 4</th>\n",
       "      <th>Coluna 5</th>\n",
       "    </tr>\n",
       "  </thead>\n",
       "  <tbody>\n",
       "    <tr>\n",
       "      <th>0</th>\n",
       "      <td>Bélgica</td>\n",
       "      <td>Bruxelas</td>\n",
       "      <td>123465</td>\n",
       "      <td>10</td>\n",
       "      <td>15243606225</td>\n",
       "    </tr>\n",
       "    <tr>\n",
       "      <th>1</th>\n",
       "      <td>Índia</td>\n",
       "      <td>Nova Delhi</td>\n",
       "      <td>456789</td>\n",
       "      <td>10</td>\n",
       "      <td>208656190521</td>\n",
       "    </tr>\n",
       "    <tr>\n",
       "      <th>2</th>\n",
       "      <td>Brasil</td>\n",
       "      <td>Brasília</td>\n",
       "      <td>987654</td>\n",
       "      <td>10</td>\n",
       "      <td>975460423716</td>\n",
       "    </tr>\n",
       "  </tbody>\n",
       "</table>\n",
       "</div>"
      ],
      "text/plain": [
       "  Coluna 1    Coluna 2  Coluna 3  Coluna 4      Coluna 5\n",
       "0  Bélgica    Bruxelas    123465        10   15243606225\n",
       "1    Índia  Nova Delhi    456789        10  208656190521\n",
       "2   Brasil    Brasília    987654        10  975460423716"
      ]
     },
     "execution_count": 105,
     "metadata": {},
     "output_type": "execute_result"
    }
   ],
   "source": [
    "df3"
   ]
  },
  {
   "cell_type": "markdown",
   "metadata": {},
   "source": [
    "Resumo dos dados\n",
    "\n",
    "Soma dos valores de um DataFrame"
   ]
  },
  {
   "cell_type": "code",
   "execution_count": 106,
   "metadata": {},
   "outputs": [
    {
     "data": {
      "text/plain": [
       "Coluna 1            BélgicaÍndiaBrasil\n",
       "Coluna 2    BruxelasNova DelhiBrasília\n",
       "Coluna 3                       1567908\n",
       "Coluna 4                            30\n",
       "Coluna 5                 1199360220462\n",
       "dtype: object"
      ]
     },
     "execution_count": 106,
     "metadata": {},
     "output_type": "execute_result"
    }
   ],
   "source": [
    "df3.sum()"
   ]
  },
  {
   "cell_type": "markdown",
   "metadata": {},
   "source": [
    "Menor valor de um DataFrame"
   ]
  },
  {
   "cell_type": "code",
   "execution_count": 107,
   "metadata": {},
   "outputs": [
    {
     "data": {
      "text/plain": [
       "Coluna 1         Brasil\n",
       "Coluna 2       Brasília\n",
       "Coluna 3         123465\n",
       "Coluna 4             10\n",
       "Coluna 5    15243606225\n",
       "dtype: object"
      ]
     },
     "execution_count": 107,
     "metadata": {},
     "output_type": "execute_result"
    }
   ],
   "source": [
    "df3.min()"
   ]
  },
  {
   "cell_type": "markdown",
   "metadata": {},
   "source": [
    "Maior valor"
   ]
  },
  {
   "cell_type": "code",
   "execution_count": 108,
   "metadata": {},
   "outputs": [
    {
     "data": {
      "text/plain": [
       "Coluna 1           Índia\n",
       "Coluna 2      Nova Delhi\n",
       "Coluna 3          987654\n",
       "Coluna 4              10\n",
       "Coluna 5    975460423716\n",
       "dtype: object"
      ]
     },
     "execution_count": 108,
     "metadata": {},
     "output_type": "execute_result"
    }
   ],
   "source": [
    "df3.max()"
   ]
  },
  {
   "cell_type": "code",
   "execution_count": null,
   "metadata": {},
   "outputs": [],
   "source": []
  },
  {
   "cell_type": "code",
   "execution_count": 109,
   "metadata": {},
   "outputs": [
    {
     "data": {
      "text/plain": [
       "30"
      ]
     },
     "execution_count": 109,
     "metadata": {},
     "output_type": "execute_result"
    }
   ],
   "source": [
    "df3['Coluna 4'].sum()"
   ]
  },
  {
   "cell_type": "code",
   "execution_count": null,
   "metadata": {},
   "outputs": [],
   "source": []
  },
  {
   "cell_type": "code",
   "execution_count": 110,
   "metadata": {},
   "outputs": [
    {
     "data": {
      "text/plain": [
       "0    123465\n",
       "1    456789\n",
       "2    987654\n",
       "Name: Coluna 3, dtype: int64"
      ]
     },
     "execution_count": 110,
     "metadata": {},
     "output_type": "execute_result"
    }
   ],
   "source": [
    "df3['Coluna 3']"
   ]
  },
  {
   "cell_type": "markdown",
   "metadata": {},
   "source": [
    "Index do menor valor"
   ]
  },
  {
   "cell_type": "code",
   "execution_count": 111,
   "metadata": {},
   "outputs": [
    {
     "data": {
      "text/plain": [
       "0"
      ]
     },
     "execution_count": 111,
     "metadata": {},
     "output_type": "execute_result"
    }
   ],
   "source": [
    "df3[\"Coluna 3\"].idxmin()"
   ]
  },
  {
   "cell_type": "markdown",
   "metadata": {},
   "source": [
    "Index do maior valor"
   ]
  },
  {
   "cell_type": "code",
   "execution_count": 112,
   "metadata": {},
   "outputs": [
    {
     "data": {
      "text/plain": [
       "2"
      ]
     },
     "execution_count": 112,
     "metadata": {},
     "output_type": "execute_result"
    }
   ],
   "source": [
    "df3[\"Coluna 3\"].idxmax()"
   ]
  },
  {
   "cell_type": "code",
   "execution_count": null,
   "metadata": {},
   "outputs": [],
   "source": []
  },
  {
   "cell_type": "code",
   "execution_count": 113,
   "metadata": {},
   "outputs": [
    {
     "data": {
      "text/html": [
       "<div>\n",
       "<style scoped>\n",
       "    .dataframe tbody tr th:only-of-type {\n",
       "        vertical-align: middle;\n",
       "    }\n",
       "\n",
       "    .dataframe tbody tr th {\n",
       "        vertical-align: top;\n",
       "    }\n",
       "\n",
       "    .dataframe thead th {\n",
       "        text-align: right;\n",
       "    }\n",
       "</style>\n",
       "<table border=\"1\" class=\"dataframe\">\n",
       "  <thead>\n",
       "    <tr style=\"text-align: right;\">\n",
       "      <th></th>\n",
       "      <th>Coluna 3</th>\n",
       "      <th>Coluna 4</th>\n",
       "      <th>Coluna 5</th>\n",
       "    </tr>\n",
       "  </thead>\n",
       "  <tbody>\n",
       "    <tr>\n",
       "      <th>count</th>\n",
       "      <td>3.000000</td>\n",
       "      <td>3.0</td>\n",
       "      <td>3.000000e+00</td>\n",
       "    </tr>\n",
       "    <tr>\n",
       "      <th>mean</th>\n",
       "      <td>522636.000000</td>\n",
       "      <td>10.0</td>\n",
       "      <td>3.997867e+11</td>\n",
       "    </tr>\n",
       "    <tr>\n",
       "      <th>std</th>\n",
       "      <td>435841.172317</td>\n",
       "      <td>0.0</td>\n",
       "      <td>5.078408e+11</td>\n",
       "    </tr>\n",
       "    <tr>\n",
       "      <th>min</th>\n",
       "      <td>123465.000000</td>\n",
       "      <td>10.0</td>\n",
       "      <td>1.524361e+10</td>\n",
       "    </tr>\n",
       "    <tr>\n",
       "      <th>25%</th>\n",
       "      <td>290127.000000</td>\n",
       "      <td>10.0</td>\n",
       "      <td>1.119499e+11</td>\n",
       "    </tr>\n",
       "    <tr>\n",
       "      <th>50%</th>\n",
       "      <td>456789.000000</td>\n",
       "      <td>10.0</td>\n",
       "      <td>2.086562e+11</td>\n",
       "    </tr>\n",
       "    <tr>\n",
       "      <th>75%</th>\n",
       "      <td>722221.500000</td>\n",
       "      <td>10.0</td>\n",
       "      <td>5.920583e+11</td>\n",
       "    </tr>\n",
       "    <tr>\n",
       "      <th>max</th>\n",
       "      <td>987654.000000</td>\n",
       "      <td>10.0</td>\n",
       "      <td>9.754604e+11</td>\n",
       "    </tr>\n",
       "  </tbody>\n",
       "</table>\n",
       "</div>"
      ],
      "text/plain": [
       "            Coluna 3  Coluna 4      Coluna 5\n",
       "count       3.000000       3.0  3.000000e+00\n",
       "mean   522636.000000      10.0  3.997867e+11\n",
       "std    435841.172317       0.0  5.078408e+11\n",
       "min    123465.000000      10.0  1.524361e+10\n",
       "25%    290127.000000      10.0  1.119499e+11\n",
       "50%    456789.000000      10.0  2.086562e+11\n",
       "75%    722221.500000      10.0  5.920583e+11\n",
       "max    987654.000000      10.0  9.754604e+11"
      ]
     },
     "execution_count": 113,
     "metadata": {},
     "output_type": "execute_result"
    }
   ],
   "source": [
    "df3.describe()"
   ]
  },
  {
   "cell_type": "code",
   "execution_count": null,
   "metadata": {},
   "outputs": [],
   "source": []
  },
  {
   "cell_type": "code",
   "execution_count": 114,
   "metadata": {},
   "outputs": [
    {
     "data": {
      "text/html": [
       "<div>\n",
       "<style scoped>\n",
       "    .dataframe tbody tr th:only-of-type {\n",
       "        vertical-align: middle;\n",
       "    }\n",
       "\n",
       "    .dataframe tbody tr th {\n",
       "        vertical-align: top;\n",
       "    }\n",
       "\n",
       "    .dataframe thead th {\n",
       "        text-align: right;\n",
       "    }\n",
       "</style>\n",
       "<table border=\"1\" class=\"dataframe\">\n",
       "  <thead>\n",
       "    <tr style=\"text-align: right;\">\n",
       "      <th></th>\n",
       "      <th>0</th>\n",
       "      <th>1</th>\n",
       "      <th>2</th>\n",
       "      <th>3</th>\n",
       "      <th>4</th>\n",
       "    </tr>\n",
       "  </thead>\n",
       "  <tbody>\n",
       "    <tr>\n",
       "      <th>count</th>\n",
       "      <td>1000000.000000</td>\n",
       "      <td>1000000.000000</td>\n",
       "      <td>1000000.000000</td>\n",
       "      <td>1000000.000000</td>\n",
       "      <td>1000000.000000</td>\n",
       "    </tr>\n",
       "    <tr>\n",
       "      <th>mean</th>\n",
       "      <td>2.998534</td>\n",
       "      <td>2.998239</td>\n",
       "      <td>2.998057</td>\n",
       "      <td>2.996290</td>\n",
       "      <td>3.000458</td>\n",
       "    </tr>\n",
       "    <tr>\n",
       "      <th>std</th>\n",
       "      <td>2.499591</td>\n",
       "      <td>2.498001</td>\n",
       "      <td>2.499250</td>\n",
       "      <td>2.497694</td>\n",
       "      <td>2.499488</td>\n",
       "    </tr>\n",
       "    <tr>\n",
       "      <th>min</th>\n",
       "      <td>-8.750270</td>\n",
       "      <td>-9.146553</td>\n",
       "      <td>-8.548470</td>\n",
       "      <td>-9.068712</td>\n",
       "      <td>-9.295679</td>\n",
       "    </tr>\n",
       "    <tr>\n",
       "      <th>25%</th>\n",
       "      <td>1.311865</td>\n",
       "      <td>1.311910</td>\n",
       "      <td>1.310136</td>\n",
       "      <td>1.309412</td>\n",
       "      <td>1.314885</td>\n",
       "    </tr>\n",
       "    <tr>\n",
       "      <th>50%</th>\n",
       "      <td>2.999539</td>\n",
       "      <td>2.996848</td>\n",
       "      <td>3.001022</td>\n",
       "      <td>2.996453</td>\n",
       "      <td>3.003181</td>\n",
       "    </tr>\n",
       "    <tr>\n",
       "      <th>75%</th>\n",
       "      <td>4.685346</td>\n",
       "      <td>4.682244</td>\n",
       "      <td>4.685295</td>\n",
       "      <td>4.682198</td>\n",
       "      <td>4.685286</td>\n",
       "    </tr>\n",
       "    <tr>\n",
       "      <th>max</th>\n",
       "      <td>15.125428</td>\n",
       "      <td>15.392178</td>\n",
       "      <td>14.971129</td>\n",
       "      <td>15.054953</td>\n",
       "      <td>13.872244</td>\n",
       "    </tr>\n",
       "  </tbody>\n",
       "</table>\n",
       "</div>"
      ],
      "text/plain": [
       "                    0               1               2               3  \\\n",
       "count  1000000.000000  1000000.000000  1000000.000000  1000000.000000   \n",
       "mean         2.998534        2.998239        2.998057        2.996290   \n",
       "std          2.499591        2.498001        2.499250        2.497694   \n",
       "min         -8.750270       -9.146553       -8.548470       -9.068712   \n",
       "25%          1.311865        1.311910        1.310136        1.309412   \n",
       "50%          2.999539        2.996848        3.001022        2.996453   \n",
       "75%          4.685346        4.682244        4.685295        4.682198   \n",
       "max         15.125428       15.392178       14.971129       15.054953   \n",
       "\n",
       "                    4  \n",
       "count  1000000.000000  \n",
       "mean         3.000458  \n",
       "std          2.499488  \n",
       "min         -9.295679  \n",
       "25%          1.314885  \n",
       "50%          3.003181  \n",
       "75%          4.685286  \n",
       "max         13.872244  "
      ]
     },
     "execution_count": 114,
     "metadata": {},
     "output_type": "execute_result"
    }
   ],
   "source": [
    "df_N3.describe()"
   ]
  },
  {
   "cell_type": "code",
   "execution_count": null,
   "metadata": {},
   "outputs": [],
   "source": []
  },
  {
   "cell_type": "markdown",
   "metadata": {},
   "source": [
    "Resumo estatístico do DataFrame, com quartis, mediana, etc."
   ]
  },
  {
   "cell_type": "code",
   "execution_count": 115,
   "metadata": {},
   "outputs": [],
   "source": [
    "lipe = df3.describe()"
   ]
  },
  {
   "cell_type": "code",
   "execution_count": 116,
   "metadata": {},
   "outputs": [
    {
     "name": "stderr",
     "output_type": "stream",
     "text": [
      "/var/folders/j0/5s6rknpd2j1bczb130mw14cm0000gn/T/ipykernel_77057/440450807.py:1: FutureWarning: In future versions `DataFrame.to_latex` is expected to utilise the base implementation of `Styler.to_latex` for formatting and rendering. The arguments signature may therefore change. It is recommended instead to use `DataFrame.style.to_latex` which also contains additional functionality.\n",
      "  lipe.to_latex()\n"
     ]
    },
    {
     "data": {
      "text/plain": [
       "'\\\\begin{tabular}{lrrr}\\n\\\\toprule\\n{} &       Coluna 3 &  Coluna 4 &      Coluna 5 \\\\\\\\\\n\\\\midrule\\ncount &       3.000000 &       3.0 &  3.000000e+00 \\\\\\\\\\nmean  &  522636.000000 &      10.0 &  3.997867e+11 \\\\\\\\\\nstd   &  435841.172317 &       0.0 &  5.078408e+11 \\\\\\\\\\nmin   &  123465.000000 &      10.0 &  1.524361e+10 \\\\\\\\\\n25\\\\%   &  290127.000000 &      10.0 &  1.119499e+11 \\\\\\\\\\n50\\\\%   &  456789.000000 &      10.0 &  2.086562e+11 \\\\\\\\\\n75\\\\%   &  722221.500000 &      10.0 &  5.920583e+11 \\\\\\\\\\nmax   &  987654.000000 &      10.0 &  9.754604e+11 \\\\\\\\\\n\\\\bottomrule\\n\\\\end{tabular}\\n'"
      ]
     },
     "execution_count": 116,
     "metadata": {},
     "output_type": "execute_result"
    }
   ],
   "source": [
    "lipe.to_latex()"
   ]
  },
  {
   "cell_type": "markdown",
   "metadata": {},
   "source": [
    "Vamos utilizar nossa base gerada a partir de uma Normal com média 3 e desvio 2.5"
   ]
  },
  {
   "cell_type": "code",
   "execution_count": 117,
   "metadata": {},
   "outputs": [
    {
     "data": {
      "text/html": [
       "<div>\n",
       "<style scoped>\n",
       "    .dataframe tbody tr th:only-of-type {\n",
       "        vertical-align: middle;\n",
       "    }\n",
       "\n",
       "    .dataframe tbody tr th {\n",
       "        vertical-align: top;\n",
       "    }\n",
       "\n",
       "    .dataframe thead th {\n",
       "        text-align: right;\n",
       "    }\n",
       "</style>\n",
       "<table border=\"1\" class=\"dataframe\">\n",
       "  <thead>\n",
       "    <tr style=\"text-align: right;\">\n",
       "      <th></th>\n",
       "      <th>0</th>\n",
       "      <th>1</th>\n",
       "      <th>2</th>\n",
       "      <th>3</th>\n",
       "      <th>4</th>\n",
       "    </tr>\n",
       "  </thead>\n",
       "  <tbody>\n",
       "    <tr>\n",
       "      <th>count</th>\n",
       "      <td>1000000.000000</td>\n",
       "      <td>1000000.000000</td>\n",
       "      <td>1000000.000000</td>\n",
       "      <td>1000000.000000</td>\n",
       "      <td>1000000.000000</td>\n",
       "    </tr>\n",
       "    <tr>\n",
       "      <th>mean</th>\n",
       "      <td>2.998534</td>\n",
       "      <td>2.998239</td>\n",
       "      <td>2.998057</td>\n",
       "      <td>2.996290</td>\n",
       "      <td>3.000458</td>\n",
       "    </tr>\n",
       "    <tr>\n",
       "      <th>std</th>\n",
       "      <td>2.499591</td>\n",
       "      <td>2.498001</td>\n",
       "      <td>2.499250</td>\n",
       "      <td>2.497694</td>\n",
       "      <td>2.499488</td>\n",
       "    </tr>\n",
       "    <tr>\n",
       "      <th>min</th>\n",
       "      <td>-8.750270</td>\n",
       "      <td>-9.146553</td>\n",
       "      <td>-8.548470</td>\n",
       "      <td>-9.068712</td>\n",
       "      <td>-9.295679</td>\n",
       "    </tr>\n",
       "    <tr>\n",
       "      <th>25%</th>\n",
       "      <td>1.311865</td>\n",
       "      <td>1.311910</td>\n",
       "      <td>1.310136</td>\n",
       "      <td>1.309412</td>\n",
       "      <td>1.314885</td>\n",
       "    </tr>\n",
       "    <tr>\n",
       "      <th>50%</th>\n",
       "      <td>2.999539</td>\n",
       "      <td>2.996848</td>\n",
       "      <td>3.001022</td>\n",
       "      <td>2.996453</td>\n",
       "      <td>3.003181</td>\n",
       "    </tr>\n",
       "    <tr>\n",
       "      <th>75%</th>\n",
       "      <td>4.685346</td>\n",
       "      <td>4.682244</td>\n",
       "      <td>4.685295</td>\n",
       "      <td>4.682198</td>\n",
       "      <td>4.685286</td>\n",
       "    </tr>\n",
       "    <tr>\n",
       "      <th>max</th>\n",
       "      <td>15.125428</td>\n",
       "      <td>15.392178</td>\n",
       "      <td>14.971129</td>\n",
       "      <td>15.054953</td>\n",
       "      <td>13.872244</td>\n",
       "    </tr>\n",
       "  </tbody>\n",
       "</table>\n",
       "</div>"
      ],
      "text/plain": [
       "                    0               1               2               3  \\\n",
       "count  1000000.000000  1000000.000000  1000000.000000  1000000.000000   \n",
       "mean         2.998534        2.998239        2.998057        2.996290   \n",
       "std          2.499591        2.498001        2.499250        2.497694   \n",
       "min         -8.750270       -9.146553       -8.548470       -9.068712   \n",
       "25%          1.311865        1.311910        1.310136        1.309412   \n",
       "50%          2.999539        2.996848        3.001022        2.996453   \n",
       "75%          4.685346        4.682244        4.685295        4.682198   \n",
       "max         15.125428       15.392178       14.971129       15.054953   \n",
       "\n",
       "                    4  \n",
       "count  1000000.000000  \n",
       "mean         3.000458  \n",
       "std          2.499488  \n",
       "min         -9.295679  \n",
       "25%          1.314885  \n",
       "50%          3.003181  \n",
       "75%          4.685286  \n",
       "max         13.872244  "
      ]
     },
     "execution_count": 117,
     "metadata": {},
     "output_type": "execute_result"
    }
   ],
   "source": [
    "df_N3.describe()"
   ]
  },
  {
   "cell_type": "code",
   "execution_count": null,
   "metadata": {},
   "outputs": [],
   "source": []
  },
  {
   "cell_type": "code",
   "execution_count": 118,
   "metadata": {},
   "outputs": [
    {
     "data": {
      "text/html": [
       "<div>\n",
       "<style scoped>\n",
       "    .dataframe tbody tr th:only-of-type {\n",
       "        vertical-align: middle;\n",
       "    }\n",
       "\n",
       "    .dataframe tbody tr th {\n",
       "        vertical-align: top;\n",
       "    }\n",
       "\n",
       "    .dataframe thead th {\n",
       "        text-align: right;\n",
       "    }\n",
       "</style>\n",
       "<table border=\"1\" class=\"dataframe\">\n",
       "  <thead>\n",
       "    <tr style=\"text-align: right;\">\n",
       "      <th></th>\n",
       "      <th>0</th>\n",
       "      <th>1</th>\n",
       "      <th>2</th>\n",
       "      <th>3</th>\n",
       "      <th>4</th>\n",
       "    </tr>\n",
       "  </thead>\n",
       "  <tbody>\n",
       "    <tr>\n",
       "      <th>count</th>\n",
       "      <td>1000000.000000</td>\n",
       "      <td>1000000.000000</td>\n",
       "      <td>1000000.000000</td>\n",
       "      <td>1000000.000000</td>\n",
       "      <td>1000000.000000</td>\n",
       "    </tr>\n",
       "    <tr>\n",
       "      <th>mean</th>\n",
       "      <td>2.998534</td>\n",
       "      <td>2.998239</td>\n",
       "      <td>2.998057</td>\n",
       "      <td>2.996290</td>\n",
       "      <td>3.000458</td>\n",
       "    </tr>\n",
       "    <tr>\n",
       "      <th>std</th>\n",
       "      <td>2.499591</td>\n",
       "      <td>2.498001</td>\n",
       "      <td>2.499250</td>\n",
       "      <td>2.497694</td>\n",
       "      <td>2.499488</td>\n",
       "    </tr>\n",
       "    <tr>\n",
       "      <th>min</th>\n",
       "      <td>-8.750270</td>\n",
       "      <td>-9.146553</td>\n",
       "      <td>-8.548470</td>\n",
       "      <td>-9.068712</td>\n",
       "      <td>-9.295679</td>\n",
       "    </tr>\n",
       "    <tr>\n",
       "      <th>10%</th>\n",
       "      <td>-0.200924</td>\n",
       "      <td>-0.199529</td>\n",
       "      <td>-0.205266</td>\n",
       "      <td>-0.209119</td>\n",
       "      <td>-0.204117</td>\n",
       "    </tr>\n",
       "    <tr>\n",
       "      <th>25%</th>\n",
       "      <td>1.311865</td>\n",
       "      <td>1.311910</td>\n",
       "      <td>1.310136</td>\n",
       "      <td>1.309412</td>\n",
       "      <td>1.314885</td>\n",
       "    </tr>\n",
       "    <tr>\n",
       "      <th>50%</th>\n",
       "      <td>2.999539</td>\n",
       "      <td>2.996848</td>\n",
       "      <td>3.001022</td>\n",
       "      <td>2.996453</td>\n",
       "      <td>3.003181</td>\n",
       "    </tr>\n",
       "    <tr>\n",
       "      <th>65%</th>\n",
       "      <td>3.961957</td>\n",
       "      <td>3.958508</td>\n",
       "      <td>3.964285</td>\n",
       "      <td>3.958027</td>\n",
       "      <td>3.964657</td>\n",
       "    </tr>\n",
       "    <tr>\n",
       "      <th>75%</th>\n",
       "      <td>4.685346</td>\n",
       "      <td>4.682244</td>\n",
       "      <td>4.685295</td>\n",
       "      <td>4.682198</td>\n",
       "      <td>4.685286</td>\n",
       "    </tr>\n",
       "    <tr>\n",
       "      <th>max</th>\n",
       "      <td>15.125428</td>\n",
       "      <td>15.392178</td>\n",
       "      <td>14.971129</td>\n",
       "      <td>15.054953</td>\n",
       "      <td>13.872244</td>\n",
       "    </tr>\n",
       "  </tbody>\n",
       "</table>\n",
       "</div>"
      ],
      "text/plain": [
       "                    0               1               2               3  \\\n",
       "count  1000000.000000  1000000.000000  1000000.000000  1000000.000000   \n",
       "mean         2.998534        2.998239        2.998057        2.996290   \n",
       "std          2.499591        2.498001        2.499250        2.497694   \n",
       "min         -8.750270       -9.146553       -8.548470       -9.068712   \n",
       "10%         -0.200924       -0.199529       -0.205266       -0.209119   \n",
       "25%          1.311865        1.311910        1.310136        1.309412   \n",
       "50%          2.999539        2.996848        3.001022        2.996453   \n",
       "65%          3.961957        3.958508        3.964285        3.958027   \n",
       "75%          4.685346        4.682244        4.685295        4.682198   \n",
       "max         15.125428       15.392178       14.971129       15.054953   \n",
       "\n",
       "                    4  \n",
       "count  1000000.000000  \n",
       "mean         3.000458  \n",
       "std          2.499488  \n",
       "min         -9.295679  \n",
       "10%         -0.204117  \n",
       "25%          1.314885  \n",
       "50%          3.003181  \n",
       "65%          3.964657  \n",
       "75%          4.685286  \n",
       "max         13.872244  "
      ]
     },
     "execution_count": 118,
     "metadata": {},
     "output_type": "execute_result"
    }
   ],
   "source": [
    "df_N3.describe(percentiles=[.10, .25, .5, .65 , .75])"
   ]
  },
  {
   "cell_type": "code",
   "execution_count": null,
   "metadata": {},
   "outputs": [],
   "source": []
  },
  {
   "cell_type": "markdown",
   "metadata": {},
   "source": [
    "Média dos valores"
   ]
  },
  {
   "cell_type": "code",
   "execution_count": 119,
   "metadata": {},
   "outputs": [
    {
     "name": "stderr",
     "output_type": "stream",
     "text": [
      "/var/folders/j0/5s6rknpd2j1bczb130mw14cm0000gn/T/ipykernel_77057/3891983329.py:1: FutureWarning: Dropping of nuisance columns in DataFrame reductions (with 'numeric_only=None') is deprecated; in a future version this will raise TypeError.  Select only valid columns before calling the reduction.\n",
      "  df3.mean()\n"
     ]
    },
    {
     "data": {
      "text/plain": [
       "Coluna 3    5.226360e+05\n",
       "Coluna 4    1.000000e+01\n",
       "Coluna 5    3.997867e+11\n",
       "dtype: float64"
      ]
     },
     "execution_count": 119,
     "metadata": {},
     "output_type": "execute_result"
    }
   ],
   "source": [
    "df3.mean()"
   ]
  },
  {
   "cell_type": "markdown",
   "metadata": {},
   "source": [
    "Mediana dos valores"
   ]
  },
  {
   "cell_type": "code",
   "execution_count": 120,
   "metadata": {},
   "outputs": [
    {
     "name": "stderr",
     "output_type": "stream",
     "text": [
      "/var/folders/j0/5s6rknpd2j1bczb130mw14cm0000gn/T/ipykernel_77057/3131045010.py:1: FutureWarning: Dropping of nuisance columns in DataFrame reductions (with 'numeric_only=None') is deprecated; in a future version this will raise TypeError.  Select only valid columns before calling the reduction.\n",
      "  df3.median()\n"
     ]
    },
    {
     "data": {
      "text/plain": [
       "Coluna 3    4.567890e+05\n",
       "Coluna 4    1.000000e+01\n",
       "Coluna 5    2.086562e+11\n",
       "dtype: float64"
      ]
     },
     "execution_count": 120,
     "metadata": {},
     "output_type": "execute_result"
    }
   ],
   "source": [
    "df3.median()"
   ]
  },
  {
   "cell_type": "markdown",
   "metadata": {},
   "source": [
    "#### Funções Lambda\n",
    "\n",
    "A função lambda é uma função anonima\n",
    "\n",
    "Ela pode receber qualquer número de argumentos, mas só pode ter uma expressão.\n"
   ]
  },
  {
   "cell_type": "code",
   "execution_count": 121,
   "metadata": {},
   "outputs": [],
   "source": [
    "def teste(a):\n",
    "    b = a*3\n",
    "    return b"
   ]
  },
  {
   "cell_type": "code",
   "execution_count": 122,
   "metadata": {},
   "outputs": [
    {
     "data": {
      "text/plain": [
       "12"
      ]
     },
     "execution_count": 122,
     "metadata": {},
     "output_type": "execute_result"
    }
   ],
   "source": [
    "teste(4)"
   ]
  },
  {
   "cell_type": "code",
   "execution_count": 123,
   "metadata": {},
   "outputs": [
    {
     "data": {
      "text/plain": [
       "12"
      ]
     },
     "execution_count": 123,
     "metadata": {},
     "output_type": "execute_result"
    }
   ],
   "source": [
    "(lambda a : a * 3)(4)"
   ]
  },
  {
   "cell_type": "code",
   "execution_count": null,
   "metadata": {},
   "outputs": [],
   "source": []
  },
  {
   "cell_type": "code",
   "execution_count": 124,
   "metadata": {},
   "outputs": [
    {
     "data": {
      "text/plain": [
       "20"
      ]
     },
     "execution_count": 124,
     "metadata": {},
     "output_type": "execute_result"
    }
   ],
   "source": [
    "(lambda a : a + 10)(10)"
   ]
  },
  {
   "cell_type": "code",
   "execution_count": null,
   "metadata": {},
   "outputs": [],
   "source": []
  },
  {
   "cell_type": "code",
   "execution_count": 125,
   "metadata": {},
   "outputs": [
    {
     "data": {
      "text/plain": [
       "20"
      ]
     },
     "execution_count": 125,
     "metadata": {},
     "output_type": "execute_result"
    }
   ],
   "source": [
    "x = lambda a : a + 10\n",
    "x(10)"
   ]
  },
  {
   "cell_type": "code",
   "execution_count": 126,
   "metadata": {},
   "outputs": [],
   "source": [
    "d = lambda x:  x[0] - 2 * x[1] + 2"
   ]
  },
  {
   "cell_type": "code",
   "execution_count": 127,
   "metadata": {},
   "outputs": [
    {
     "data": {
      "text/plain": [
       "-1"
      ]
     },
     "execution_count": 127,
     "metadata": {},
     "output_type": "execute_result"
    }
   ],
   "source": [
    "d([1,2])"
   ]
  },
  {
   "cell_type": "code",
   "execution_count": 128,
   "metadata": {},
   "outputs": [],
   "source": [
    "x = lambda a, b : a * b"
   ]
  },
  {
   "cell_type": "code",
   "execution_count": null,
   "metadata": {},
   "outputs": [],
   "source": []
  },
  {
   "cell_type": "code",
   "execution_count": 129,
   "metadata": {},
   "outputs": [
    {
     "data": {
      "text/plain": [
       "30"
      ]
     },
     "execution_count": 129,
     "metadata": {},
     "output_type": "execute_result"
    }
   ],
   "source": [
    "x(5, 6)"
   ]
  },
  {
   "cell_type": "code",
   "execution_count": null,
   "metadata": {},
   "outputs": [],
   "source": []
  },
  {
   "cell_type": "code",
   "execution_count": 130,
   "metadata": {},
   "outputs": [],
   "source": [
    "def myfunc(n):\n",
    "    return lambda a : a * n"
   ]
  },
  {
   "cell_type": "code",
   "execution_count": 131,
   "metadata": {},
   "outputs": [],
   "source": [
    "mydoubler = myfunc(2)"
   ]
  },
  {
   "cell_type": "code",
   "execution_count": 132,
   "metadata": {},
   "outputs": [
    {
     "data": {
      "text/plain": [
       "<function __main__.myfunc.<locals>.<lambda>(a)>"
      ]
     },
     "execution_count": 132,
     "metadata": {},
     "output_type": "execute_result"
    }
   ],
   "source": [
    "mydoubler"
   ]
  },
  {
   "cell_type": "code",
   "execution_count": 133,
   "metadata": {},
   "outputs": [
    {
     "data": {
      "text/plain": [
       "22"
      ]
     },
     "execution_count": 133,
     "metadata": {},
     "output_type": "execute_result"
    }
   ],
   "source": [
    "mydoubler(11)"
   ]
  },
  {
   "cell_type": "code",
   "execution_count": 134,
   "metadata": {},
   "outputs": [],
   "source": [
    "mytripler = myfunc(3)"
   ]
  },
  {
   "cell_type": "code",
   "execution_count": 135,
   "metadata": {},
   "outputs": [
    {
     "data": {
      "text/plain": [
       "33"
      ]
     },
     "execution_count": 135,
     "metadata": {},
     "output_type": "execute_result"
    }
   ],
   "source": [
    "mytripler(11)"
   ]
  },
  {
   "cell_type": "code",
   "execution_count": 136,
   "metadata": {},
   "outputs": [],
   "source": [
    "myquad = myfunc(4)"
   ]
  },
  {
   "cell_type": "code",
   "execution_count": 138,
   "metadata": {},
   "outputs": [
    {
     "data": {
      "text/plain": [
       "44"
      ]
     },
     "execution_count": 138,
     "metadata": {},
     "output_type": "execute_result"
    }
   ],
   "source": [
    "myquad(11)"
   ]
  },
  {
   "cell_type": "code",
   "execution_count": 139,
   "metadata": {},
   "outputs": [
    {
     "data": {
      "text/html": [
       "<div>\n",
       "<style scoped>\n",
       "    .dataframe tbody tr th:only-of-type {\n",
       "        vertical-align: middle;\n",
       "    }\n",
       "\n",
       "    .dataframe tbody tr th {\n",
       "        vertical-align: top;\n",
       "    }\n",
       "\n",
       "    .dataframe thead th {\n",
       "        text-align: right;\n",
       "    }\n",
       "</style>\n",
       "<table border=\"1\" class=\"dataframe\">\n",
       "  <thead>\n",
       "    <tr style=\"text-align: right;\">\n",
       "      <th></th>\n",
       "      <th>Coluna 1</th>\n",
       "      <th>Coluna 2</th>\n",
       "      <th>Coluna 3</th>\n",
       "      <th>Coluna 4</th>\n",
       "      <th>Coluna 5</th>\n",
       "    </tr>\n",
       "  </thead>\n",
       "  <tbody>\n",
       "    <tr>\n",
       "      <th>0</th>\n",
       "      <td>Bélgica</td>\n",
       "      <td>Bruxelas</td>\n",
       "      <td>123465</td>\n",
       "      <td>10</td>\n",
       "      <td>15243606225</td>\n",
       "    </tr>\n",
       "    <tr>\n",
       "      <th>1</th>\n",
       "      <td>Índia</td>\n",
       "      <td>Nova Delhi</td>\n",
       "      <td>456789</td>\n",
       "      <td>10</td>\n",
       "      <td>208656190521</td>\n",
       "    </tr>\n",
       "    <tr>\n",
       "      <th>2</th>\n",
       "      <td>Brasil</td>\n",
       "      <td>Brasília</td>\n",
       "      <td>987654</td>\n",
       "      <td>10</td>\n",
       "      <td>975460423716</td>\n",
       "    </tr>\n",
       "  </tbody>\n",
       "</table>\n",
       "</div>"
      ],
      "text/plain": [
       "  Coluna 1    Coluna 2  Coluna 3  Coluna 4      Coluna 5\n",
       "0  Bélgica    Bruxelas    123465        10   15243606225\n",
       "1    Índia  Nova Delhi    456789        10  208656190521\n",
       "2   Brasil    Brasília    987654        10  975460423716"
      ]
     },
     "execution_count": 139,
     "metadata": {},
     "output_type": "execute_result"
    }
   ],
   "source": [
    "df3"
   ]
  },
  {
   "cell_type": "code",
   "execution_count": 140,
   "metadata": {},
   "outputs": [
    {
     "data": {
      "text/html": [
       "<div>\n",
       "<style scoped>\n",
       "    .dataframe tbody tr th:only-of-type {\n",
       "        vertical-align: middle;\n",
       "    }\n",
       "\n",
       "    .dataframe tbody tr th {\n",
       "        vertical-align: top;\n",
       "    }\n",
       "\n",
       "    .dataframe thead th {\n",
       "        text-align: right;\n",
       "    }\n",
       "</style>\n",
       "<table border=\"1\" class=\"dataframe\">\n",
       "  <thead>\n",
       "    <tr style=\"text-align: right;\">\n",
       "      <th></th>\n",
       "      <th>Coluna 1</th>\n",
       "      <th>Coluna 2</th>\n",
       "      <th>Coluna 3</th>\n",
       "      <th>Coluna 4</th>\n",
       "      <th>Coluna 5</th>\n",
       "    </tr>\n",
       "  </thead>\n",
       "  <tbody>\n",
       "    <tr>\n",
       "      <th>0</th>\n",
       "      <td>Bélgica</td>\n",
       "      <td>Bruxelas</td>\n",
       "      <td>123465</td>\n",
       "      <td>10</td>\n",
       "      <td>15243606225</td>\n",
       "    </tr>\n",
       "    <tr>\n",
       "      <th>1</th>\n",
       "      <td>Índia</td>\n",
       "      <td>Nova Delhi</td>\n",
       "      <td>456789</td>\n",
       "      <td>10</td>\n",
       "      <td>208656190521</td>\n",
       "    </tr>\n",
       "    <tr>\n",
       "      <th>2</th>\n",
       "      <td>Brasil</td>\n",
       "      <td>Brasília</td>\n",
       "      <td>987654</td>\n",
       "      <td>10</td>\n",
       "      <td>975460423716</td>\n",
       "    </tr>\n",
       "  </tbody>\n",
       "</table>\n",
       "</div>"
      ],
      "text/plain": [
       "  Coluna 1    Coluna 2  Coluna 3  Coluna 4      Coluna 5\n",
       "0  Bélgica    Bruxelas    123465        10   15243606225\n",
       "1    Índia  Nova Delhi    456789        10  208656190521\n",
       "2   Brasil    Brasília    987654        10  975460423716"
      ]
     },
     "execution_count": 140,
     "metadata": {},
     "output_type": "execute_result"
    }
   ],
   "source": [
    "df3"
   ]
  },
  {
   "cell_type": "code",
   "execution_count": 141,
   "metadata": {},
   "outputs": [],
   "source": [
    "df3['Col4'] = 10"
   ]
  },
  {
   "cell_type": "code",
   "execution_count": 142,
   "metadata": {},
   "outputs": [
    {
     "data": {
      "text/html": [
       "<div>\n",
       "<style scoped>\n",
       "    .dataframe tbody tr th:only-of-type {\n",
       "        vertical-align: middle;\n",
       "    }\n",
       "\n",
       "    .dataframe tbody tr th {\n",
       "        vertical-align: top;\n",
       "    }\n",
       "\n",
       "    .dataframe thead th {\n",
       "        text-align: right;\n",
       "    }\n",
       "</style>\n",
       "<table border=\"1\" class=\"dataframe\">\n",
       "  <thead>\n",
       "    <tr style=\"text-align: right;\">\n",
       "      <th></th>\n",
       "      <th>Coluna 1</th>\n",
       "      <th>Coluna 2</th>\n",
       "      <th>Coluna 3</th>\n",
       "      <th>Coluna 4</th>\n",
       "      <th>Coluna 5</th>\n",
       "      <th>Col4</th>\n",
       "    </tr>\n",
       "  </thead>\n",
       "  <tbody>\n",
       "    <tr>\n",
       "      <th>0</th>\n",
       "      <td>Bélgica</td>\n",
       "      <td>Bruxelas</td>\n",
       "      <td>123465</td>\n",
       "      <td>10</td>\n",
       "      <td>15243606225</td>\n",
       "      <td>10</td>\n",
       "    </tr>\n",
       "    <tr>\n",
       "      <th>1</th>\n",
       "      <td>Índia</td>\n",
       "      <td>Nova Delhi</td>\n",
       "      <td>456789</td>\n",
       "      <td>10</td>\n",
       "      <td>208656190521</td>\n",
       "      <td>10</td>\n",
       "    </tr>\n",
       "    <tr>\n",
       "      <th>2</th>\n",
       "      <td>Brasil</td>\n",
       "      <td>Brasília</td>\n",
       "      <td>987654</td>\n",
       "      <td>10</td>\n",
       "      <td>975460423716</td>\n",
       "      <td>10</td>\n",
       "    </tr>\n",
       "  </tbody>\n",
       "</table>\n",
       "</div>"
      ],
      "text/plain": [
       "  Coluna 1    Coluna 2  Coluna 3  Coluna 4      Coluna 5  Col4\n",
       "0  Bélgica    Bruxelas    123465        10   15243606225    10\n",
       "1    Índia  Nova Delhi    456789        10  208656190521    10\n",
       "2   Brasil    Brasília    987654        10  975460423716    10"
      ]
     },
     "execution_count": 142,
     "metadata": {},
     "output_type": "execute_result"
    }
   ],
   "source": [
    "df3"
   ]
  },
  {
   "cell_type": "code",
   "execution_count": null,
   "metadata": {},
   "outputs": [],
   "source": []
  },
  {
   "cell_type": "markdown",
   "metadata": {},
   "source": [
    "Aplicando funções:\n",
    "\n",
    "Aplicando uma função que substitui 0 por 1"
   ]
  },
  {
   "cell_type": "code",
   "execution_count": 143,
   "metadata": {},
   "outputs": [
    {
     "data": {
      "text/html": [
       "<div>\n",
       "<style scoped>\n",
       "    .dataframe tbody tr th:only-of-type {\n",
       "        vertical-align: middle;\n",
       "    }\n",
       "\n",
       "    .dataframe tbody tr th {\n",
       "        vertical-align: top;\n",
       "    }\n",
       "\n",
       "    .dataframe thead th {\n",
       "        text-align: right;\n",
       "    }\n",
       "</style>\n",
       "<table border=\"1\" class=\"dataframe\">\n",
       "  <thead>\n",
       "    <tr style=\"text-align: right;\">\n",
       "      <th></th>\n",
       "      <th>Coluna 1</th>\n",
       "      <th>Coluna 2</th>\n",
       "      <th>Coluna 3</th>\n",
       "      <th>Coluna 4</th>\n",
       "      <th>Coluna 5</th>\n",
       "      <th>Col4</th>\n",
       "    </tr>\n",
       "  </thead>\n",
       "  <tbody>\n",
       "    <tr>\n",
       "      <th>0</th>\n",
       "      <td>Bélgica</td>\n",
       "      <td>Bruxelas</td>\n",
       "      <td>123465</td>\n",
       "      <td>1</td>\n",
       "      <td>15243606225</td>\n",
       "      <td>1</td>\n",
       "    </tr>\n",
       "    <tr>\n",
       "      <th>1</th>\n",
       "      <td>Índia</td>\n",
       "      <td>Nova Delhi</td>\n",
       "      <td>456789</td>\n",
       "      <td>1</td>\n",
       "      <td>208656190521</td>\n",
       "      <td>1</td>\n",
       "    </tr>\n",
       "    <tr>\n",
       "      <th>2</th>\n",
       "      <td>Brasil</td>\n",
       "      <td>Brasília</td>\n",
       "      <td>987654</td>\n",
       "      <td>1</td>\n",
       "      <td>975460423716</td>\n",
       "      <td>1</td>\n",
       "    </tr>\n",
       "  </tbody>\n",
       "</table>\n",
       "</div>"
      ],
      "text/plain": [
       "  Coluna 1    Coluna 2  Coluna 3  Coluna 4      Coluna 5  Col4\n",
       "0  Bélgica    Bruxelas    123465         1   15243606225     1\n",
       "1    Índia  Nova Delhi    456789         1  208656190521     1\n",
       "2   Brasil    Brasília    987654         1  975460423716     1"
      ]
     },
     "execution_count": 143,
     "metadata": {},
     "output_type": "execute_result"
    }
   ],
   "source": [
    "df3.apply(lambda x: x.replace(10, 1))"
   ]
  },
  {
   "cell_type": "markdown",
   "metadata": {},
   "source": [
    "Ordenando valores:\n",
    "\n",
    "Ordenando em ordem crescente"
   ]
  },
  {
   "cell_type": "code",
   "execution_count": 146,
   "metadata": {},
   "outputs": [],
   "source": [
    "df3.columns = ['Coluna 1','Coluna 2','Coluna 3','Coluna 4', 'Coluna 5', 'Coluna 6']"
   ]
  },
  {
   "cell_type": "code",
   "execution_count": 147,
   "metadata": {},
   "outputs": [
    {
     "data": {
      "text/html": [
       "<div>\n",
       "<style scoped>\n",
       "    .dataframe tbody tr th:only-of-type {\n",
       "        vertical-align: middle;\n",
       "    }\n",
       "\n",
       "    .dataframe tbody tr th {\n",
       "        vertical-align: top;\n",
       "    }\n",
       "\n",
       "    .dataframe thead th {\n",
       "        text-align: right;\n",
       "    }\n",
       "</style>\n",
       "<table border=\"1\" class=\"dataframe\">\n",
       "  <thead>\n",
       "    <tr style=\"text-align: right;\">\n",
       "      <th></th>\n",
       "      <th>Coluna 1</th>\n",
       "      <th>Coluna 2</th>\n",
       "      <th>Coluna 3</th>\n",
       "      <th>Coluna 4</th>\n",
       "      <th>Coluna 5</th>\n",
       "      <th>Coluna 6</th>\n",
       "    </tr>\n",
       "  </thead>\n",
       "  <tbody>\n",
       "    <tr>\n",
       "      <th>0</th>\n",
       "      <td>Bélgica</td>\n",
       "      <td>Bruxelas</td>\n",
       "      <td>123465</td>\n",
       "      <td>10</td>\n",
       "      <td>15243606225</td>\n",
       "      <td>10</td>\n",
       "    </tr>\n",
       "    <tr>\n",
       "      <th>1</th>\n",
       "      <td>Índia</td>\n",
       "      <td>Nova Delhi</td>\n",
       "      <td>456789</td>\n",
       "      <td>10</td>\n",
       "      <td>208656190521</td>\n",
       "      <td>10</td>\n",
       "    </tr>\n",
       "    <tr>\n",
       "      <th>2</th>\n",
       "      <td>Brasil</td>\n",
       "      <td>Brasília</td>\n",
       "      <td>987654</td>\n",
       "      <td>10</td>\n",
       "      <td>975460423716</td>\n",
       "      <td>10</td>\n",
       "    </tr>\n",
       "  </tbody>\n",
       "</table>\n",
       "</div>"
      ],
      "text/plain": [
       "  Coluna 1    Coluna 2  Coluna 3  Coluna 4      Coluna 5  Coluna 6\n",
       "0  Bélgica    Bruxelas    123465        10   15243606225        10\n",
       "1    Índia  Nova Delhi    456789        10  208656190521        10\n",
       "2   Brasil    Brasília    987654        10  975460423716        10"
      ]
     },
     "execution_count": 147,
     "metadata": {},
     "output_type": "execute_result"
    }
   ],
   "source": [
    "df3"
   ]
  },
  {
   "cell_type": "code",
   "execution_count": 148,
   "metadata": {},
   "outputs": [
    {
     "data": {
      "text/html": [
       "<div>\n",
       "<style scoped>\n",
       "    .dataframe tbody tr th:only-of-type {\n",
       "        vertical-align: middle;\n",
       "    }\n",
       "\n",
       "    .dataframe tbody tr th {\n",
       "        vertical-align: top;\n",
       "    }\n",
       "\n",
       "    .dataframe thead th {\n",
       "        text-align: right;\n",
       "    }\n",
       "</style>\n",
       "<table border=\"1\" class=\"dataframe\">\n",
       "  <thead>\n",
       "    <tr style=\"text-align: right;\">\n",
       "      <th></th>\n",
       "      <th>Coluna 1</th>\n",
       "      <th>Coluna 2</th>\n",
       "      <th>Coluna 3</th>\n",
       "      <th>Coluna 4</th>\n",
       "      <th>Coluna 5</th>\n",
       "      <th>Coluna 6</th>\n",
       "    </tr>\n",
       "  </thead>\n",
       "  <tbody>\n",
       "    <tr>\n",
       "      <th>0</th>\n",
       "      <td>Bélgica</td>\n",
       "      <td>Bruxelas</td>\n",
       "      <td>123465</td>\n",
       "      <td>10</td>\n",
       "      <td>15243606225</td>\n",
       "      <td>10</td>\n",
       "    </tr>\n",
       "    <tr>\n",
       "      <th>1</th>\n",
       "      <td>Índia</td>\n",
       "      <td>Nova Delhi</td>\n",
       "      <td>456789</td>\n",
       "      <td>10</td>\n",
       "      <td>208656190521</td>\n",
       "      <td>10</td>\n",
       "    </tr>\n",
       "    <tr>\n",
       "      <th>2</th>\n",
       "      <td>Brasil</td>\n",
       "      <td>Brasília</td>\n",
       "      <td>987654</td>\n",
       "      <td>10</td>\n",
       "      <td>975460423716</td>\n",
       "      <td>10</td>\n",
       "    </tr>\n",
       "  </tbody>\n",
       "</table>\n",
       "</div>"
      ],
      "text/plain": [
       "  Coluna 1    Coluna 2  Coluna 3  Coluna 4      Coluna 5  Coluna 6\n",
       "0  Bélgica    Bruxelas    123465        10   15243606225        10\n",
       "1    Índia  Nova Delhi    456789        10  208656190521        10\n",
       "2   Brasil    Brasília    987654        10  975460423716        10"
      ]
     },
     "execution_count": 148,
     "metadata": {},
     "output_type": "execute_result"
    }
   ],
   "source": [
    "df3.sort_values(by='Coluna 3')"
   ]
  },
  {
   "cell_type": "markdown",
   "metadata": {},
   "source": [
    "Ordenando em ordem decrescente"
   ]
  },
  {
   "cell_type": "code",
   "execution_count": 149,
   "metadata": {},
   "outputs": [
    {
     "data": {
      "text/html": [
       "<div>\n",
       "<style scoped>\n",
       "    .dataframe tbody tr th:only-of-type {\n",
       "        vertical-align: middle;\n",
       "    }\n",
       "\n",
       "    .dataframe tbody tr th {\n",
       "        vertical-align: top;\n",
       "    }\n",
       "\n",
       "    .dataframe thead th {\n",
       "        text-align: right;\n",
       "    }\n",
       "</style>\n",
       "<table border=\"1\" class=\"dataframe\">\n",
       "  <thead>\n",
       "    <tr style=\"text-align: right;\">\n",
       "      <th></th>\n",
       "      <th>Coluna 1</th>\n",
       "      <th>Coluna 2</th>\n",
       "      <th>Coluna 3</th>\n",
       "      <th>Coluna 4</th>\n",
       "      <th>Coluna 5</th>\n",
       "      <th>Coluna 6</th>\n",
       "    </tr>\n",
       "  </thead>\n",
       "  <tbody>\n",
       "    <tr>\n",
       "      <th>2</th>\n",
       "      <td>Brasil</td>\n",
       "      <td>Brasília</td>\n",
       "      <td>987654</td>\n",
       "      <td>10</td>\n",
       "      <td>975460423716</td>\n",
       "      <td>10</td>\n",
       "    </tr>\n",
       "    <tr>\n",
       "      <th>1</th>\n",
       "      <td>Índia</td>\n",
       "      <td>Nova Delhi</td>\n",
       "      <td>456789</td>\n",
       "      <td>10</td>\n",
       "      <td>208656190521</td>\n",
       "      <td>10</td>\n",
       "    </tr>\n",
       "    <tr>\n",
       "      <th>0</th>\n",
       "      <td>Bélgica</td>\n",
       "      <td>Bruxelas</td>\n",
       "      <td>123465</td>\n",
       "      <td>10</td>\n",
       "      <td>15243606225</td>\n",
       "      <td>10</td>\n",
       "    </tr>\n",
       "  </tbody>\n",
       "</table>\n",
       "</div>"
      ],
      "text/plain": [
       "  Coluna 1    Coluna 2  Coluna 3  Coluna 4      Coluna 5  Coluna 6\n",
       "2   Brasil    Brasília    987654        10  975460423716        10\n",
       "1    Índia  Nova Delhi    456789        10  208656190521        10\n",
       "0  Bélgica    Bruxelas    123465        10   15243606225        10"
      ]
     },
     "execution_count": 149,
     "metadata": {},
     "output_type": "execute_result"
    }
   ],
   "source": [
    "df3.sort_values(by='Coluna 3',ascending=False)"
   ]
  },
  {
   "cell_type": "markdown",
   "metadata": {},
   "source": [
    "Selecionando valores: \n",
    "\n",
    "Selecionando a primeira linha da coluna país\n",
    "\n",
    "loc: seleciona linhas (ou colunas) com labels particulares do index.\n",
    "\n",
    "iloc: seleciona linhas (ou colunas) em posições particulares do index (assume número inteiro)."
   ]
  },
  {
   "cell_type": "code",
   "execution_count": 150,
   "metadata": {},
   "outputs": [
    {
     "data": {
      "text/html": [
       "<div>\n",
       "<style scoped>\n",
       "    .dataframe tbody tr th:only-of-type {\n",
       "        vertical-align: middle;\n",
       "    }\n",
       "\n",
       "    .dataframe tbody tr th {\n",
       "        vertical-align: top;\n",
       "    }\n",
       "\n",
       "    .dataframe thead th {\n",
       "        text-align: right;\n",
       "    }\n",
       "</style>\n",
       "<table border=\"1\" class=\"dataframe\">\n",
       "  <thead>\n",
       "    <tr style=\"text-align: right;\">\n",
       "      <th></th>\n",
       "      <th>Coluna 1</th>\n",
       "      <th>Coluna 2</th>\n",
       "      <th>Coluna 3</th>\n",
       "      <th>Coluna 4</th>\n",
       "      <th>Coluna 5</th>\n",
       "      <th>Coluna 6</th>\n",
       "    </tr>\n",
       "  </thead>\n",
       "  <tbody>\n",
       "    <tr>\n",
       "      <th>0</th>\n",
       "      <td>Bélgica</td>\n",
       "      <td>Bruxelas</td>\n",
       "      <td>123465</td>\n",
       "      <td>10</td>\n",
       "      <td>15243606225</td>\n",
       "      <td>10</td>\n",
       "    </tr>\n",
       "    <tr>\n",
       "      <th>1</th>\n",
       "      <td>Índia</td>\n",
       "      <td>Nova Delhi</td>\n",
       "      <td>456789</td>\n",
       "      <td>10</td>\n",
       "      <td>208656190521</td>\n",
       "      <td>10</td>\n",
       "    </tr>\n",
       "    <tr>\n",
       "      <th>2</th>\n",
       "      <td>Brasil</td>\n",
       "      <td>Brasília</td>\n",
       "      <td>987654</td>\n",
       "      <td>10</td>\n",
       "      <td>975460423716</td>\n",
       "      <td>10</td>\n",
       "    </tr>\n",
       "  </tbody>\n",
       "</table>\n",
       "</div>"
      ],
      "text/plain": [
       "  Coluna 1    Coluna 2  Coluna 3  Coluna 4      Coluna 5  Coluna 6\n",
       "0  Bélgica    Bruxelas    123465        10   15243606225        10\n",
       "1    Índia  Nova Delhi    456789        10  208656190521        10\n",
       "2   Brasil    Brasília    987654        10  975460423716        10"
      ]
     },
     "execution_count": 150,
     "metadata": {},
     "output_type": "execute_result"
    }
   ],
   "source": [
    "df3"
   ]
  },
  {
   "cell_type": "code",
   "execution_count": 151,
   "metadata": {},
   "outputs": [],
   "source": [
    "df3['NC'] = 100"
   ]
  },
  {
   "cell_type": "code",
   "execution_count": 152,
   "metadata": {},
   "outputs": [
    {
     "data": {
      "text/html": [
       "<div>\n",
       "<style scoped>\n",
       "    .dataframe tbody tr th:only-of-type {\n",
       "        vertical-align: middle;\n",
       "    }\n",
       "\n",
       "    .dataframe tbody tr th {\n",
       "        vertical-align: top;\n",
       "    }\n",
       "\n",
       "    .dataframe thead th {\n",
       "        text-align: right;\n",
       "    }\n",
       "</style>\n",
       "<table border=\"1\" class=\"dataframe\">\n",
       "  <thead>\n",
       "    <tr style=\"text-align: right;\">\n",
       "      <th></th>\n",
       "      <th>Coluna 1</th>\n",
       "      <th>Coluna 2</th>\n",
       "      <th>Coluna 3</th>\n",
       "      <th>Coluna 4</th>\n",
       "      <th>Coluna 5</th>\n",
       "      <th>Coluna 6</th>\n",
       "      <th>NC</th>\n",
       "    </tr>\n",
       "  </thead>\n",
       "  <tbody>\n",
       "    <tr>\n",
       "      <th>0</th>\n",
       "      <td>Bélgica</td>\n",
       "      <td>Bruxelas</td>\n",
       "      <td>123465</td>\n",
       "      <td>10</td>\n",
       "      <td>15243606225</td>\n",
       "      <td>10</td>\n",
       "      <td>100</td>\n",
       "    </tr>\n",
       "    <tr>\n",
       "      <th>1</th>\n",
       "      <td>Índia</td>\n",
       "      <td>Nova Delhi</td>\n",
       "      <td>456789</td>\n",
       "      <td>10</td>\n",
       "      <td>208656190521</td>\n",
       "      <td>10</td>\n",
       "      <td>100</td>\n",
       "    </tr>\n",
       "    <tr>\n",
       "      <th>2</th>\n",
       "      <td>Brasil</td>\n",
       "      <td>Brasília</td>\n",
       "      <td>987654</td>\n",
       "      <td>10</td>\n",
       "      <td>975460423716</td>\n",
       "      <td>10</td>\n",
       "      <td>100</td>\n",
       "    </tr>\n",
       "  </tbody>\n",
       "</table>\n",
       "</div>"
      ],
      "text/plain": [
       "  Coluna 1    Coluna 2  Coluna 3  Coluna 4      Coluna 5  Coluna 6   NC\n",
       "0  Bélgica    Bruxelas    123465        10   15243606225        10  100\n",
       "1    Índia  Nova Delhi    456789        10  208656190521        10  100\n",
       "2   Brasil    Brasília    987654        10  975460423716        10  100"
      ]
     },
     "execution_count": 152,
     "metadata": {},
     "output_type": "execute_result"
    }
   ],
   "source": [
    "df3"
   ]
  },
  {
   "cell_type": "code",
   "execution_count": 153,
   "metadata": {},
   "outputs": [
    {
     "data": {
      "text/plain": [
       "RangeIndex(start=0, stop=3, step=1)"
      ]
     },
     "execution_count": 153,
     "metadata": {},
     "output_type": "execute_result"
    }
   ],
   "source": [
    "df3.index"
   ]
  },
  {
   "cell_type": "code",
   "execution_count": 154,
   "metadata": {},
   "outputs": [
    {
     "data": {
      "text/plain": [
       "Coluna 1        Bélgica\n",
       "Coluna 2       Bruxelas\n",
       "Coluna 3         123465\n",
       "Coluna 4             10\n",
       "Coluna 5    15243606225\n",
       "Coluna 6             10\n",
       "NC                  100\n",
       "Name: 0, dtype: object"
      ]
     },
     "execution_count": 154,
     "metadata": {},
     "output_type": "execute_result"
    }
   ],
   "source": [
    "df3.loc[0]"
   ]
  },
  {
   "cell_type": "code",
   "execution_count": 155,
   "metadata": {},
   "outputs": [
    {
     "data": {
      "text/html": [
       "<div>\n",
       "<style scoped>\n",
       "    .dataframe tbody tr th:only-of-type {\n",
       "        vertical-align: middle;\n",
       "    }\n",
       "\n",
       "    .dataframe tbody tr th {\n",
       "        vertical-align: top;\n",
       "    }\n",
       "\n",
       "    .dataframe thead th {\n",
       "        text-align: right;\n",
       "    }\n",
       "</style>\n",
       "<table border=\"1\" class=\"dataframe\">\n",
       "  <thead>\n",
       "    <tr style=\"text-align: right;\">\n",
       "      <th></th>\n",
       "      <th>Coluna 1</th>\n",
       "      <th>Coluna 2</th>\n",
       "      <th>Coluna 3</th>\n",
       "      <th>Coluna 4</th>\n",
       "      <th>Coluna 5</th>\n",
       "      <th>Coluna 6</th>\n",
       "      <th>NC</th>\n",
       "    </tr>\n",
       "  </thead>\n",
       "  <tbody>\n",
       "    <tr>\n",
       "      <th>0</th>\n",
       "      <td>Bélgica</td>\n",
       "      <td>Bruxelas</td>\n",
       "      <td>123465</td>\n",
       "      <td>10</td>\n",
       "      <td>15243606225</td>\n",
       "      <td>10</td>\n",
       "      <td>100</td>\n",
       "    </tr>\n",
       "    <tr>\n",
       "      <th>1</th>\n",
       "      <td>Índia</td>\n",
       "      <td>Nova Delhi</td>\n",
       "      <td>456789</td>\n",
       "      <td>10</td>\n",
       "      <td>208656190521</td>\n",
       "      <td>10</td>\n",
       "      <td>100</td>\n",
       "    </tr>\n",
       "  </tbody>\n",
       "</table>\n",
       "</div>"
      ],
      "text/plain": [
       "  Coluna 1    Coluna 2  Coluna 3  Coluna 4      Coluna 5  Coluna 6   NC\n",
       "0  Bélgica    Bruxelas    123465        10   15243606225        10  100\n",
       "1    Índia  Nova Delhi    456789        10  208656190521        10  100"
      ]
     },
     "execution_count": 155,
     "metadata": {},
     "output_type": "execute_result"
    }
   ],
   "source": [
    "df3.iloc[0:2]"
   ]
  },
  {
   "cell_type": "code",
   "execution_count": 156,
   "metadata": {},
   "outputs": [],
   "source": [
    "dfp = df3.drop(1)"
   ]
  },
  {
   "cell_type": "code",
   "execution_count": 157,
   "metadata": {},
   "outputs": [
    {
     "data": {
      "text/html": [
       "<div>\n",
       "<style scoped>\n",
       "    .dataframe tbody tr th:only-of-type {\n",
       "        vertical-align: middle;\n",
       "    }\n",
       "\n",
       "    .dataframe tbody tr th {\n",
       "        vertical-align: top;\n",
       "    }\n",
       "\n",
       "    .dataframe thead th {\n",
       "        text-align: right;\n",
       "    }\n",
       "</style>\n",
       "<table border=\"1\" class=\"dataframe\">\n",
       "  <thead>\n",
       "    <tr style=\"text-align: right;\">\n",
       "      <th></th>\n",
       "      <th>Coluna 1</th>\n",
       "      <th>Coluna 2</th>\n",
       "      <th>Coluna 3</th>\n",
       "      <th>Coluna 4</th>\n",
       "      <th>Coluna 5</th>\n",
       "      <th>Coluna 6</th>\n",
       "      <th>NC</th>\n",
       "    </tr>\n",
       "  </thead>\n",
       "  <tbody>\n",
       "    <tr>\n",
       "      <th>0</th>\n",
       "      <td>Bélgica</td>\n",
       "      <td>Bruxelas</td>\n",
       "      <td>123465</td>\n",
       "      <td>10</td>\n",
       "      <td>15243606225</td>\n",
       "      <td>10</td>\n",
       "      <td>100</td>\n",
       "    </tr>\n",
       "    <tr>\n",
       "      <th>2</th>\n",
       "      <td>Brasil</td>\n",
       "      <td>Brasília</td>\n",
       "      <td>987654</td>\n",
       "      <td>10</td>\n",
       "      <td>975460423716</td>\n",
       "      <td>10</td>\n",
       "      <td>100</td>\n",
       "    </tr>\n",
       "  </tbody>\n",
       "</table>\n",
       "</div>"
      ],
      "text/plain": [
       "  Coluna 1  Coluna 2  Coluna 3  Coluna 4      Coluna 5  Coluna 6   NC\n",
       "0  Bélgica  Bruxelas    123465        10   15243606225        10  100\n",
       "2   Brasil  Brasília    987654        10  975460423716        10  100"
      ]
     },
     "execution_count": 157,
     "metadata": {},
     "output_type": "execute_result"
    }
   ],
   "source": [
    "dfp"
   ]
  },
  {
   "cell_type": "code",
   "execution_count": 158,
   "metadata": {},
   "outputs": [
    {
     "data": {
      "text/plain": [
       "Coluna 1          Brasil\n",
       "Coluna 2        Brasília\n",
       "Coluna 3          987654\n",
       "Coluna 4              10\n",
       "Coluna 5    975460423716\n",
       "Coluna 6              10\n",
       "NC                   100\n",
       "Name: 2, dtype: object"
      ]
     },
     "execution_count": 158,
     "metadata": {},
     "output_type": "execute_result"
    }
   ],
   "source": [
    "dfp.iloc[1]"
   ]
  },
  {
   "cell_type": "code",
   "execution_count": null,
   "metadata": {},
   "outputs": [],
   "source": []
  },
  {
   "cell_type": "code",
   "execution_count": 159,
   "metadata": {},
   "outputs": [
    {
     "data": {
      "text/html": [
       "<div>\n",
       "<style scoped>\n",
       "    .dataframe tbody tr th:only-of-type {\n",
       "        vertical-align: middle;\n",
       "    }\n",
       "\n",
       "    .dataframe tbody tr th {\n",
       "        vertical-align: top;\n",
       "    }\n",
       "\n",
       "    .dataframe thead th {\n",
       "        text-align: right;\n",
       "    }\n",
       "</style>\n",
       "<table border=\"1\" class=\"dataframe\">\n",
       "  <thead>\n",
       "    <tr style=\"text-align: right;\">\n",
       "      <th></th>\n",
       "      <th>Coluna 1</th>\n",
       "      <th>Coluna 2</th>\n",
       "      <th>Coluna 3</th>\n",
       "      <th>Coluna 4</th>\n",
       "      <th>Coluna 5</th>\n",
       "      <th>Coluna 6</th>\n",
       "      <th>NC</th>\n",
       "    </tr>\n",
       "  </thead>\n",
       "  <tbody>\n",
       "    <tr>\n",
       "      <th>0</th>\n",
       "      <td>Bélgica</td>\n",
       "      <td>Bruxelas</td>\n",
       "      <td>123465</td>\n",
       "      <td>10</td>\n",
       "      <td>15243606225</td>\n",
       "      <td>10</td>\n",
       "      <td>100</td>\n",
       "    </tr>\n",
       "    <tr>\n",
       "      <th>1</th>\n",
       "      <td>Índia</td>\n",
       "      <td>Nova Delhi</td>\n",
       "      <td>456789</td>\n",
       "      <td>10</td>\n",
       "      <td>208656190521</td>\n",
       "      <td>10</td>\n",
       "      <td>100</td>\n",
       "    </tr>\n",
       "    <tr>\n",
       "      <th>2</th>\n",
       "      <td>Brasil</td>\n",
       "      <td>Brasília</td>\n",
       "      <td>987654</td>\n",
       "      <td>10</td>\n",
       "      <td>975460423716</td>\n",
       "      <td>10</td>\n",
       "      <td>100</td>\n",
       "    </tr>\n",
       "  </tbody>\n",
       "</table>\n",
       "</div>"
      ],
      "text/plain": [
       "  Coluna 1    Coluna 2  Coluna 3  Coluna 4      Coluna 5  Coluna 6   NC\n",
       "0  Bélgica    Bruxelas    123465        10   15243606225        10  100\n",
       "1    Índia  Nova Delhi    456789        10  208656190521        10  100\n",
       "2   Brasil    Brasília    987654        10  975460423716        10  100"
      ]
     },
     "execution_count": 159,
     "metadata": {},
     "output_type": "execute_result"
    }
   ],
   "source": [
    "df3"
   ]
  },
  {
   "cell_type": "code",
   "execution_count": 160,
   "metadata": {},
   "outputs": [
    {
     "data": {
      "text/plain": [
       "0    False\n",
       "1    False\n",
       "2     True\n",
       "Name: Coluna 1, dtype: bool"
      ]
     },
     "execution_count": 160,
     "metadata": {},
     "output_type": "execute_result"
    }
   ],
   "source": [
    "df3[\"Coluna 1\"] == 'Brasil'"
   ]
  },
  {
   "cell_type": "code",
   "execution_count": null,
   "metadata": {},
   "outputs": [],
   "source": []
  },
  {
   "cell_type": "code",
   "execution_count": 161,
   "metadata": {},
   "outputs": [
    {
     "data": {
      "text/html": [
       "<div>\n",
       "<style scoped>\n",
       "    .dataframe tbody tr th:only-of-type {\n",
       "        vertical-align: middle;\n",
       "    }\n",
       "\n",
       "    .dataframe tbody tr th {\n",
       "        vertical-align: top;\n",
       "    }\n",
       "\n",
       "    .dataframe thead th {\n",
       "        text-align: right;\n",
       "    }\n",
       "</style>\n",
       "<table border=\"1\" class=\"dataframe\">\n",
       "  <thead>\n",
       "    <tr style=\"text-align: right;\">\n",
       "      <th></th>\n",
       "      <th>Coluna 1</th>\n",
       "      <th>Coluna 2</th>\n",
       "      <th>Coluna 3</th>\n",
       "      <th>Coluna 4</th>\n",
       "      <th>Coluna 5</th>\n",
       "      <th>Coluna 6</th>\n",
       "      <th>NC</th>\n",
       "    </tr>\n",
       "  </thead>\n",
       "  <tbody>\n",
       "    <tr>\n",
       "      <th>2</th>\n",
       "      <td>Brasil</td>\n",
       "      <td>Brasília</td>\n",
       "      <td>987654</td>\n",
       "      <td>10</td>\n",
       "      <td>975460423716</td>\n",
       "      <td>10</td>\n",
       "      <td>100</td>\n",
       "    </tr>\n",
       "  </tbody>\n",
       "</table>\n",
       "</div>"
      ],
      "text/plain": [
       "  Coluna 1  Coluna 2  Coluna 3  Coluna 4      Coluna 5  Coluna 6   NC\n",
       "2   Brasil  Brasília    987654        10  975460423716        10  100"
      ]
     },
     "execution_count": 161,
     "metadata": {},
     "output_type": "execute_result"
    }
   ],
   "source": [
    "df3[df3[\"Coluna 1\"] == 'Brasil']"
   ]
  },
  {
   "cell_type": "code",
   "execution_count": null,
   "metadata": {},
   "outputs": [],
   "source": []
  },
  {
   "cell_type": "code",
   "execution_count": 162,
   "metadata": {},
   "outputs": [
    {
     "data": {
      "text/html": [
       "<div>\n",
       "<style scoped>\n",
       "    .dataframe tbody tr th:only-of-type {\n",
       "        vertical-align: middle;\n",
       "    }\n",
       "\n",
       "    .dataframe tbody tr th {\n",
       "        vertical-align: top;\n",
       "    }\n",
       "\n",
       "    .dataframe thead th {\n",
       "        text-align: right;\n",
       "    }\n",
       "</style>\n",
       "<table border=\"1\" class=\"dataframe\">\n",
       "  <thead>\n",
       "    <tr style=\"text-align: right;\">\n",
       "      <th></th>\n",
       "      <th>Coluna 1</th>\n",
       "      <th>Coluna 2</th>\n",
       "      <th>Coluna 3</th>\n",
       "      <th>Coluna 4</th>\n",
       "      <th>Coluna 5</th>\n",
       "      <th>Coluna 6</th>\n",
       "      <th>NC</th>\n",
       "    </tr>\n",
       "  </thead>\n",
       "  <tbody>\n",
       "    <tr>\n",
       "      <th>0</th>\n",
       "      <td>Bélgica</td>\n",
       "      <td>Bruxelas</td>\n",
       "      <td>123465</td>\n",
       "      <td>10</td>\n",
       "      <td>15243606225</td>\n",
       "      <td>10</td>\n",
       "      <td>100</td>\n",
       "    </tr>\n",
       "  </tbody>\n",
       "</table>\n",
       "</div>"
      ],
      "text/plain": [
       "  Coluna 1  Coluna 2  Coluna 3  Coluna 4     Coluna 5  Coluna 6   NC\n",
       "0  Bélgica  Bruxelas    123465        10  15243606225        10  100"
      ]
     },
     "execution_count": 162,
     "metadata": {},
     "output_type": "execute_result"
    }
   ],
   "source": [
    "df3[df3[\"Coluna 1\"] == 'Bélgica']"
   ]
  },
  {
   "cell_type": "code",
   "execution_count": 163,
   "metadata": {},
   "outputs": [
    {
     "data": {
      "text/html": [
       "<div>\n",
       "<style scoped>\n",
       "    .dataframe tbody tr th:only-of-type {\n",
       "        vertical-align: middle;\n",
       "    }\n",
       "\n",
       "    .dataframe tbody tr th {\n",
       "        vertical-align: top;\n",
       "    }\n",
       "\n",
       "    .dataframe thead th {\n",
       "        text-align: right;\n",
       "    }\n",
       "</style>\n",
       "<table border=\"1\" class=\"dataframe\">\n",
       "  <thead>\n",
       "    <tr style=\"text-align: right;\">\n",
       "      <th></th>\n",
       "      <th>Coluna 1</th>\n",
       "      <th>Coluna 2</th>\n",
       "      <th>Coluna 3</th>\n",
       "      <th>Coluna 4</th>\n",
       "      <th>Coluna 5</th>\n",
       "      <th>Coluna 6</th>\n",
       "      <th>NC</th>\n",
       "    </tr>\n",
       "  </thead>\n",
       "  <tbody>\n",
       "    <tr>\n",
       "      <th>1</th>\n",
       "      <td>Índia</td>\n",
       "      <td>Nova Delhi</td>\n",
       "      <td>456789</td>\n",
       "      <td>10</td>\n",
       "      <td>208656190521</td>\n",
       "      <td>10</td>\n",
       "      <td>100</td>\n",
       "    </tr>\n",
       "    <tr>\n",
       "      <th>2</th>\n",
       "      <td>Brasil</td>\n",
       "      <td>Brasília</td>\n",
       "      <td>987654</td>\n",
       "      <td>10</td>\n",
       "      <td>975460423716</td>\n",
       "      <td>10</td>\n",
       "      <td>100</td>\n",
       "    </tr>\n",
       "  </tbody>\n",
       "</table>\n",
       "</div>"
      ],
      "text/plain": [
       "  Coluna 1    Coluna 2  Coluna 3  Coluna 4      Coluna 5  Coluna 6   NC\n",
       "1    Índia  Nova Delhi    456789        10  208656190521        10  100\n",
       "2   Brasil    Brasília    987654        10  975460423716        10  100"
      ]
     },
     "execution_count": 163,
     "metadata": {},
     "output_type": "execute_result"
    }
   ],
   "source": [
    "df3[df3[\"Coluna 3\"] >= 123475]"
   ]
  },
  {
   "cell_type": "code",
   "execution_count": 164,
   "metadata": {},
   "outputs": [
    {
     "data": {
      "text/html": [
       "<div>\n",
       "<style scoped>\n",
       "    .dataframe tbody tr th:only-of-type {\n",
       "        vertical-align: middle;\n",
       "    }\n",
       "\n",
       "    .dataframe tbody tr th {\n",
       "        vertical-align: top;\n",
       "    }\n",
       "\n",
       "    .dataframe thead th {\n",
       "        text-align: right;\n",
       "    }\n",
       "</style>\n",
       "<table border=\"1\" class=\"dataframe\">\n",
       "  <thead>\n",
       "    <tr style=\"text-align: right;\">\n",
       "      <th></th>\n",
       "      <th>Coluna 1</th>\n",
       "      <th>Coluna 2</th>\n",
       "      <th>Coluna 3</th>\n",
       "      <th>Coluna 4</th>\n",
       "      <th>Coluna 5</th>\n",
       "      <th>Coluna 6</th>\n",
       "      <th>NC</th>\n",
       "    </tr>\n",
       "  </thead>\n",
       "  <tbody>\n",
       "    <tr>\n",
       "      <th>0</th>\n",
       "      <td>Bélgica</td>\n",
       "      <td>Bruxelas</td>\n",
       "      <td>123465</td>\n",
       "      <td>10</td>\n",
       "      <td>15243606225</td>\n",
       "      <td>10</td>\n",
       "      <td>100</td>\n",
       "    </tr>\n",
       "    <tr>\n",
       "      <th>1</th>\n",
       "      <td>Índia</td>\n",
       "      <td>Nova Delhi</td>\n",
       "      <td>456789</td>\n",
       "      <td>10</td>\n",
       "      <td>208656190521</td>\n",
       "      <td>10</td>\n",
       "      <td>100</td>\n",
       "    </tr>\n",
       "    <tr>\n",
       "      <th>2</th>\n",
       "      <td>Brasil</td>\n",
       "      <td>Brasília</td>\n",
       "      <td>987654</td>\n",
       "      <td>10</td>\n",
       "      <td>975460423716</td>\n",
       "      <td>10</td>\n",
       "      <td>100</td>\n",
       "    </tr>\n",
       "  </tbody>\n",
       "</table>\n",
       "</div>"
      ],
      "text/plain": [
       "  Coluna 1    Coluna 2  Coluna 3  Coluna 4      Coluna 5  Coluna 6   NC\n",
       "0  Bélgica    Bruxelas    123465        10   15243606225        10  100\n",
       "1    Índia  Nova Delhi    456789        10  208656190521        10  100\n",
       "2   Brasil    Brasília    987654        10  975460423716        10  100"
      ]
     },
     "execution_count": 164,
     "metadata": {},
     "output_type": "execute_result"
    }
   ],
   "source": [
    "df3"
   ]
  },
  {
   "cell_type": "code",
   "execution_count": null,
   "metadata": {},
   "outputs": [],
   "source": []
  },
  {
   "cell_type": "code",
   "execution_count": 165,
   "metadata": {},
   "outputs": [
    {
     "data": {
      "text/html": [
       "<div>\n",
       "<style scoped>\n",
       "    .dataframe tbody tr th:only-of-type {\n",
       "        vertical-align: middle;\n",
       "    }\n",
       "\n",
       "    .dataframe tbody tr th {\n",
       "        vertical-align: top;\n",
       "    }\n",
       "\n",
       "    .dataframe thead th {\n",
       "        text-align: right;\n",
       "    }\n",
       "</style>\n",
       "<table border=\"1\" class=\"dataframe\">\n",
       "  <thead>\n",
       "    <tr style=\"text-align: right;\">\n",
       "      <th></th>\n",
       "      <th>Coluna 1</th>\n",
       "      <th>Coluna 2</th>\n",
       "      <th>Coluna 3</th>\n",
       "      <th>Coluna 4</th>\n",
       "      <th>Coluna 5</th>\n",
       "      <th>Coluna 6</th>\n",
       "      <th>NC</th>\n",
       "    </tr>\n",
       "  </thead>\n",
       "  <tbody>\n",
       "    <tr>\n",
       "      <th>0</th>\n",
       "      <td>Bélgica</td>\n",
       "      <td>Bruxelas</td>\n",
       "      <td>123465</td>\n",
       "      <td>10</td>\n",
       "      <td>15243606225</td>\n",
       "      <td>10</td>\n",
       "      <td>100</td>\n",
       "    </tr>\n",
       "    <tr>\n",
       "      <th>1</th>\n",
       "      <td>Índia</td>\n",
       "      <td>Nova Delhi</td>\n",
       "      <td>456789</td>\n",
       "      <td>10</td>\n",
       "      <td>208656190521</td>\n",
       "      <td>10</td>\n",
       "      <td>100</td>\n",
       "    </tr>\n",
       "    <tr>\n",
       "      <th>2</th>\n",
       "      <td>Brasil</td>\n",
       "      <td>Brasília</td>\n",
       "      <td>987654</td>\n",
       "      <td>10</td>\n",
       "      <td>975460423716</td>\n",
       "      <td>10</td>\n",
       "      <td>100</td>\n",
       "    </tr>\n",
       "  </tbody>\n",
       "</table>\n",
       "</div>"
      ],
      "text/plain": [
       "  Coluna 1    Coluna 2  Coluna 3  Coluna 4      Coluna 5  Coluna 6   NC\n",
       "0  Bélgica    Bruxelas    123465        10   15243606225        10  100\n",
       "1    Índia  Nova Delhi    456789        10  208656190521        10  100\n",
       "2   Brasil    Brasília    987654        10  975460423716        10  100"
      ]
     },
     "execution_count": 165,
     "metadata": {},
     "output_type": "execute_result"
    }
   ],
   "source": [
    "df3"
   ]
  },
  {
   "cell_type": "code",
   "execution_count": 166,
   "metadata": {},
   "outputs": [
    {
     "data": {
      "text/plain": [
       "Coluna 1        Bélgica\n",
       "Coluna 2       Bruxelas\n",
       "Coluna 3         123465\n",
       "Coluna 4             10\n",
       "Coluna 5    15243606225\n",
       "Coluna 6             10\n",
       "NC                  100\n",
       "Name: 0, dtype: object"
      ]
     },
     "execution_count": 166,
     "metadata": {},
     "output_type": "execute_result"
    }
   ],
   "source": [
    "df3.loc[0]"
   ]
  },
  {
   "cell_type": "code",
   "execution_count": 167,
   "metadata": {},
   "outputs": [],
   "source": [
    "df3.loc[0, 'Coluna 1'] = \"Kyev\""
   ]
  },
  {
   "cell_type": "code",
   "execution_count": 168,
   "metadata": {},
   "outputs": [
    {
     "data": {
      "text/plain": [
       "123465"
      ]
     },
     "execution_count": 168,
     "metadata": {},
     "output_type": "execute_result"
    }
   ],
   "source": [
    "df3.iloc[0]['Coluna 3']"
   ]
  },
  {
   "cell_type": "code",
   "execution_count": 169,
   "metadata": {},
   "outputs": [
    {
     "data": {
      "text/html": [
       "<div>\n",
       "<style scoped>\n",
       "    .dataframe tbody tr th:only-of-type {\n",
       "        vertical-align: middle;\n",
       "    }\n",
       "\n",
       "    .dataframe tbody tr th {\n",
       "        vertical-align: top;\n",
       "    }\n",
       "\n",
       "    .dataframe thead th {\n",
       "        text-align: right;\n",
       "    }\n",
       "</style>\n",
       "<table border=\"1\" class=\"dataframe\">\n",
       "  <thead>\n",
       "    <tr style=\"text-align: right;\">\n",
       "      <th></th>\n",
       "      <th>Coluna 3</th>\n",
       "      <th>Coluna 2</th>\n",
       "    </tr>\n",
       "  </thead>\n",
       "  <tbody>\n",
       "    <tr>\n",
       "      <th>0</th>\n",
       "      <td>123465</td>\n",
       "      <td>Bruxelas</td>\n",
       "    </tr>\n",
       "    <tr>\n",
       "      <th>1</th>\n",
       "      <td>456789</td>\n",
       "      <td>Nova Delhi</td>\n",
       "    </tr>\n",
       "    <tr>\n",
       "      <th>2</th>\n",
       "      <td>987654</td>\n",
       "      <td>Brasília</td>\n",
       "    </tr>\n",
       "  </tbody>\n",
       "</table>\n",
       "</div>"
      ],
      "text/plain": [
       "   Coluna 3    Coluna 2\n",
       "0    123465    Bruxelas\n",
       "1    456789  Nova Delhi\n",
       "2    987654    Brasília"
      ]
     },
     "execution_count": 169,
     "metadata": {},
     "output_type": "execute_result"
    }
   ],
   "source": [
    "df3[['Coluna 3','Coluna 2']]"
   ]
  },
  {
   "cell_type": "code",
   "execution_count": 170,
   "metadata": {},
   "outputs": [
    {
     "data": {
      "text/html": [
       "<div>\n",
       "<style scoped>\n",
       "    .dataframe tbody tr th:only-of-type {\n",
       "        vertical-align: middle;\n",
       "    }\n",
       "\n",
       "    .dataframe tbody tr th {\n",
       "        vertical-align: top;\n",
       "    }\n",
       "\n",
       "    .dataframe thead th {\n",
       "        text-align: right;\n",
       "    }\n",
       "</style>\n",
       "<table border=\"1\" class=\"dataframe\">\n",
       "  <thead>\n",
       "    <tr style=\"text-align: right;\">\n",
       "      <th></th>\n",
       "      <th>Coluna 1</th>\n",
       "      <th>Coluna 2</th>\n",
       "      <th>Coluna 3</th>\n",
       "      <th>Coluna 4</th>\n",
       "      <th>Coluna 5</th>\n",
       "      <th>Coluna 6</th>\n",
       "      <th>NC</th>\n",
       "    </tr>\n",
       "  </thead>\n",
       "  <tbody>\n",
       "    <tr>\n",
       "      <th>0</th>\n",
       "      <td>Kyev</td>\n",
       "      <td>Bruxelas</td>\n",
       "      <td>123465</td>\n",
       "      <td>10</td>\n",
       "      <td>15243606225</td>\n",
       "      <td>10</td>\n",
       "      <td>100</td>\n",
       "    </tr>\n",
       "    <tr>\n",
       "      <th>1</th>\n",
       "      <td>Índia</td>\n",
       "      <td>Nova Delhi</td>\n",
       "      <td>456789</td>\n",
       "      <td>10</td>\n",
       "      <td>208656190521</td>\n",
       "      <td>10</td>\n",
       "      <td>100</td>\n",
       "    </tr>\n",
       "    <tr>\n",
       "      <th>2</th>\n",
       "      <td>Brasil</td>\n",
       "      <td>Brasília</td>\n",
       "      <td>987654</td>\n",
       "      <td>10</td>\n",
       "      <td>975460423716</td>\n",
       "      <td>10</td>\n",
       "      <td>100</td>\n",
       "    </tr>\n",
       "  </tbody>\n",
       "</table>\n",
       "</div>"
      ],
      "text/plain": [
       "  Coluna 1    Coluna 2  Coluna 3  Coluna 4      Coluna 5  Coluna 6   NC\n",
       "0     Kyev    Bruxelas    123465        10   15243606225        10  100\n",
       "1    Índia  Nova Delhi    456789        10  208656190521        10  100\n",
       "2   Brasil    Brasília    987654        10  975460423716        10  100"
      ]
     },
     "execution_count": 170,
     "metadata": {},
     "output_type": "execute_result"
    }
   ],
   "source": [
    "df3"
   ]
  },
  {
   "cell_type": "markdown",
   "metadata": {},
   "source": [
    "Suponha, agora, que queremos importar a base de dados AUTO em \".dta\"."
   ]
  },
  {
   "cell_type": "code",
   "execution_count": 171,
   "metadata": {},
   "outputs": [],
   "source": [
    "df4 = pd.read_stata(\"auto.dta\")"
   ]
  },
  {
   "cell_type": "code",
   "execution_count": 172,
   "metadata": {},
   "outputs": [
    {
     "data": {
      "text/html": [
       "<div>\n",
       "<style scoped>\n",
       "    .dataframe tbody tr th:only-of-type {\n",
       "        vertical-align: middle;\n",
       "    }\n",
       "\n",
       "    .dataframe tbody tr th {\n",
       "        vertical-align: top;\n",
       "    }\n",
       "\n",
       "    .dataframe thead th {\n",
       "        text-align: right;\n",
       "    }\n",
       "</style>\n",
       "<table border=\"1\" class=\"dataframe\">\n",
       "  <thead>\n",
       "    <tr style=\"text-align: right;\">\n",
       "      <th></th>\n",
       "      <th>make</th>\n",
       "      <th>price</th>\n",
       "      <th>mpg</th>\n",
       "      <th>rep78</th>\n",
       "      <th>headroom</th>\n",
       "      <th>trunk</th>\n",
       "      <th>weight</th>\n",
       "      <th>length</th>\n",
       "      <th>turn</th>\n",
       "      <th>displacement</th>\n",
       "      <th>gear_ratio</th>\n",
       "      <th>foreign</th>\n",
       "    </tr>\n",
       "  </thead>\n",
       "  <tbody>\n",
       "    <tr>\n",
       "      <th>0</th>\n",
       "      <td>AMC Concord</td>\n",
       "      <td>4099</td>\n",
       "      <td>22</td>\n",
       "      <td>3.0</td>\n",
       "      <td>2.5</td>\n",
       "      <td>11</td>\n",
       "      <td>2930</td>\n",
       "      <td>186</td>\n",
       "      <td>40</td>\n",
       "      <td>121</td>\n",
       "      <td>3.58</td>\n",
       "      <td>Domestic</td>\n",
       "    </tr>\n",
       "    <tr>\n",
       "      <th>1</th>\n",
       "      <td>AMC Pacer</td>\n",
       "      <td>4749</td>\n",
       "      <td>17</td>\n",
       "      <td>3.0</td>\n",
       "      <td>3.0</td>\n",
       "      <td>11</td>\n",
       "      <td>3350</td>\n",
       "      <td>173</td>\n",
       "      <td>40</td>\n",
       "      <td>258</td>\n",
       "      <td>2.53</td>\n",
       "      <td>Domestic</td>\n",
       "    </tr>\n",
       "    <tr>\n",
       "      <th>2</th>\n",
       "      <td>AMC Spirit</td>\n",
       "      <td>3799</td>\n",
       "      <td>22</td>\n",
       "      <td>NaN</td>\n",
       "      <td>3.0</td>\n",
       "      <td>12</td>\n",
       "      <td>2640</td>\n",
       "      <td>168</td>\n",
       "      <td>35</td>\n",
       "      <td>121</td>\n",
       "      <td>3.08</td>\n",
       "      <td>Domestic</td>\n",
       "    </tr>\n",
       "    <tr>\n",
       "      <th>3</th>\n",
       "      <td>Buick Century</td>\n",
       "      <td>4816</td>\n",
       "      <td>20</td>\n",
       "      <td>3.0</td>\n",
       "      <td>4.5</td>\n",
       "      <td>16</td>\n",
       "      <td>3250</td>\n",
       "      <td>196</td>\n",
       "      <td>40</td>\n",
       "      <td>196</td>\n",
       "      <td>2.93</td>\n",
       "      <td>Domestic</td>\n",
       "    </tr>\n",
       "    <tr>\n",
       "      <th>4</th>\n",
       "      <td>Buick Electra</td>\n",
       "      <td>7827</td>\n",
       "      <td>15</td>\n",
       "      <td>4.0</td>\n",
       "      <td>4.0</td>\n",
       "      <td>20</td>\n",
       "      <td>4080</td>\n",
       "      <td>222</td>\n",
       "      <td>43</td>\n",
       "      <td>350</td>\n",
       "      <td>2.41</td>\n",
       "      <td>Domestic</td>\n",
       "    </tr>\n",
       "    <tr>\n",
       "      <th>...</th>\n",
       "      <td>...</td>\n",
       "      <td>...</td>\n",
       "      <td>...</td>\n",
       "      <td>...</td>\n",
       "      <td>...</td>\n",
       "      <td>...</td>\n",
       "      <td>...</td>\n",
       "      <td>...</td>\n",
       "      <td>...</td>\n",
       "      <td>...</td>\n",
       "      <td>...</td>\n",
       "      <td>...</td>\n",
       "    </tr>\n",
       "    <tr>\n",
       "      <th>69</th>\n",
       "      <td>VW Dasher</td>\n",
       "      <td>7140</td>\n",
       "      <td>23</td>\n",
       "      <td>4.0</td>\n",
       "      <td>2.5</td>\n",
       "      <td>12</td>\n",
       "      <td>2160</td>\n",
       "      <td>172</td>\n",
       "      <td>36</td>\n",
       "      <td>97</td>\n",
       "      <td>3.74</td>\n",
       "      <td>Foreign</td>\n",
       "    </tr>\n",
       "    <tr>\n",
       "      <th>70</th>\n",
       "      <td>VW Diesel</td>\n",
       "      <td>5397</td>\n",
       "      <td>41</td>\n",
       "      <td>5.0</td>\n",
       "      <td>3.0</td>\n",
       "      <td>15</td>\n",
       "      <td>2040</td>\n",
       "      <td>155</td>\n",
       "      <td>35</td>\n",
       "      <td>90</td>\n",
       "      <td>3.78</td>\n",
       "      <td>Foreign</td>\n",
       "    </tr>\n",
       "    <tr>\n",
       "      <th>71</th>\n",
       "      <td>VW Rabbit</td>\n",
       "      <td>4697</td>\n",
       "      <td>25</td>\n",
       "      <td>4.0</td>\n",
       "      <td>3.0</td>\n",
       "      <td>15</td>\n",
       "      <td>1930</td>\n",
       "      <td>155</td>\n",
       "      <td>35</td>\n",
       "      <td>89</td>\n",
       "      <td>3.78</td>\n",
       "      <td>Foreign</td>\n",
       "    </tr>\n",
       "    <tr>\n",
       "      <th>72</th>\n",
       "      <td>VW Scirocco</td>\n",
       "      <td>6850</td>\n",
       "      <td>25</td>\n",
       "      <td>4.0</td>\n",
       "      <td>2.0</td>\n",
       "      <td>16</td>\n",
       "      <td>1990</td>\n",
       "      <td>156</td>\n",
       "      <td>36</td>\n",
       "      <td>97</td>\n",
       "      <td>3.78</td>\n",
       "      <td>Foreign</td>\n",
       "    </tr>\n",
       "    <tr>\n",
       "      <th>73</th>\n",
       "      <td>Volvo 260</td>\n",
       "      <td>11995</td>\n",
       "      <td>17</td>\n",
       "      <td>5.0</td>\n",
       "      <td>2.5</td>\n",
       "      <td>14</td>\n",
       "      <td>3170</td>\n",
       "      <td>193</td>\n",
       "      <td>37</td>\n",
       "      <td>163</td>\n",
       "      <td>2.98</td>\n",
       "      <td>Foreign</td>\n",
       "    </tr>\n",
       "  </tbody>\n",
       "</table>\n",
       "<p>74 rows × 12 columns</p>\n",
       "</div>"
      ],
      "text/plain": [
       "             make  price  mpg  rep78  headroom  trunk  weight  length  turn  \\\n",
       "0     AMC Concord   4099   22    3.0       2.5     11    2930     186    40   \n",
       "1       AMC Pacer   4749   17    3.0       3.0     11    3350     173    40   \n",
       "2      AMC Spirit   3799   22    NaN       3.0     12    2640     168    35   \n",
       "3   Buick Century   4816   20    3.0       4.5     16    3250     196    40   \n",
       "4   Buick Electra   7827   15    4.0       4.0     20    4080     222    43   \n",
       "..            ...    ...  ...    ...       ...    ...     ...     ...   ...   \n",
       "69      VW Dasher   7140   23    4.0       2.5     12    2160     172    36   \n",
       "70      VW Diesel   5397   41    5.0       3.0     15    2040     155    35   \n",
       "71      VW Rabbit   4697   25    4.0       3.0     15    1930     155    35   \n",
       "72    VW Scirocco   6850   25    4.0       2.0     16    1990     156    36   \n",
       "73      Volvo 260  11995   17    5.0       2.5     14    3170     193    37   \n",
       "\n",
       "    displacement  gear_ratio   foreign  \n",
       "0            121        3.58  Domestic  \n",
       "1            258        2.53  Domestic  \n",
       "2            121        3.08  Domestic  \n",
       "3            196        2.93  Domestic  \n",
       "4            350        2.41  Domestic  \n",
       "..           ...         ...       ...  \n",
       "69            97        3.74   Foreign  \n",
       "70            90        3.78   Foreign  \n",
       "71            89        3.78   Foreign  \n",
       "72            97        3.78   Foreign  \n",
       "73           163        2.98   Foreign  \n",
       "\n",
       "[74 rows x 12 columns]"
      ]
     },
     "execution_count": 172,
     "metadata": {},
     "output_type": "execute_result"
    }
   ],
   "source": [
    "df4"
   ]
  },
  {
   "cell_type": "code",
   "execution_count": 173,
   "metadata": {},
   "outputs": [
    {
     "data": {
      "text/plain": [
       "['make',\n",
       " 'price',\n",
       " 'mpg',\n",
       " 'rep78',\n",
       " 'headroom',\n",
       " 'trunk',\n",
       " 'weight',\n",
       " 'length',\n",
       " 'turn',\n",
       " 'displacement',\n",
       " 'gear_ratio',\n",
       " 'foreign']"
      ]
     },
     "execution_count": 173,
     "metadata": {},
     "output_type": "execute_result"
    }
   ],
   "source": [
    "list(df4)"
   ]
  },
  {
   "cell_type": "code",
   "execution_count": 174,
   "metadata": {},
   "outputs": [
    {
     "data": {
      "text/plain": [
       "make              object\n",
       "price              int16\n",
       "mpg                int16\n",
       "rep78            float64\n",
       "headroom         float32\n",
       "trunk              int16\n",
       "weight             int16\n",
       "length             int16\n",
       "turn               int16\n",
       "displacement       int16\n",
       "gear_ratio       float32\n",
       "foreign         category\n",
       "dtype: object"
      ]
     },
     "execution_count": 174,
     "metadata": {},
     "output_type": "execute_result"
    }
   ],
   "source": [
    "df4.dtypes"
   ]
  },
  {
   "cell_type": "code",
   "execution_count": 175,
   "metadata": {},
   "outputs": [
    {
     "data": {
      "text/plain": [
       "Index(['make', 'price', 'mpg', 'rep78', 'headroom', 'trunk', 'weight',\n",
       "       'length', 'turn', 'displacement', 'gear_ratio', 'foreign'],\n",
       "      dtype='object')"
      ]
     },
     "execution_count": 175,
     "metadata": {},
     "output_type": "execute_result"
    }
   ],
   "source": [
    "df4.columns"
   ]
  },
  {
   "cell_type": "code",
   "execution_count": 176,
   "metadata": {},
   "outputs": [
    {
     "data": {
      "text/html": [
       "<div>\n",
       "<style scoped>\n",
       "    .dataframe tbody tr th:only-of-type {\n",
       "        vertical-align: middle;\n",
       "    }\n",
       "\n",
       "    .dataframe tbody tr th {\n",
       "        vertical-align: top;\n",
       "    }\n",
       "\n",
       "    .dataframe thead th {\n",
       "        text-align: right;\n",
       "    }\n",
       "</style>\n",
       "<table border=\"1\" class=\"dataframe\">\n",
       "  <thead>\n",
       "    <tr style=\"text-align: right;\">\n",
       "      <th></th>\n",
       "      <th>make</th>\n",
       "      <th>price</th>\n",
       "      <th>mpg</th>\n",
       "      <th>rep78</th>\n",
       "      <th>headroom</th>\n",
       "      <th>trunk</th>\n",
       "      <th>weight</th>\n",
       "      <th>length</th>\n",
       "      <th>turn</th>\n",
       "      <th>displacement</th>\n",
       "      <th>gear_ratio</th>\n",
       "      <th>foreign</th>\n",
       "    </tr>\n",
       "  </thead>\n",
       "  <tbody>\n",
       "    <tr>\n",
       "      <th>0</th>\n",
       "      <td>AMC Concord</td>\n",
       "      <td>4099</td>\n",
       "      <td>22</td>\n",
       "      <td>3.0</td>\n",
       "      <td>2.5</td>\n",
       "      <td>11</td>\n",
       "      <td>2930</td>\n",
       "      <td>186</td>\n",
       "      <td>40</td>\n",
       "      <td>121</td>\n",
       "      <td>3.58</td>\n",
       "      <td>Domestic</td>\n",
       "    </tr>\n",
       "    <tr>\n",
       "      <th>1</th>\n",
       "      <td>AMC Pacer</td>\n",
       "      <td>4749</td>\n",
       "      <td>17</td>\n",
       "      <td>3.0</td>\n",
       "      <td>3.0</td>\n",
       "      <td>11</td>\n",
       "      <td>3350</td>\n",
       "      <td>173</td>\n",
       "      <td>40</td>\n",
       "      <td>258</td>\n",
       "      <td>2.53</td>\n",
       "      <td>Domestic</td>\n",
       "    </tr>\n",
       "    <tr>\n",
       "      <th>2</th>\n",
       "      <td>AMC Spirit</td>\n",
       "      <td>3799</td>\n",
       "      <td>22</td>\n",
       "      <td>NaN</td>\n",
       "      <td>3.0</td>\n",
       "      <td>12</td>\n",
       "      <td>2640</td>\n",
       "      <td>168</td>\n",
       "      <td>35</td>\n",
       "      <td>121</td>\n",
       "      <td>3.08</td>\n",
       "      <td>Domestic</td>\n",
       "    </tr>\n",
       "    <tr>\n",
       "      <th>3</th>\n",
       "      <td>Buick Century</td>\n",
       "      <td>4816</td>\n",
       "      <td>20</td>\n",
       "      <td>3.0</td>\n",
       "      <td>4.5</td>\n",
       "      <td>16</td>\n",
       "      <td>3250</td>\n",
       "      <td>196</td>\n",
       "      <td>40</td>\n",
       "      <td>196</td>\n",
       "      <td>2.93</td>\n",
       "      <td>Domestic</td>\n",
       "    </tr>\n",
       "    <tr>\n",
       "      <th>4</th>\n",
       "      <td>Buick Electra</td>\n",
       "      <td>7827</td>\n",
       "      <td>15</td>\n",
       "      <td>4.0</td>\n",
       "      <td>4.0</td>\n",
       "      <td>20</td>\n",
       "      <td>4080</td>\n",
       "      <td>222</td>\n",
       "      <td>43</td>\n",
       "      <td>350</td>\n",
       "      <td>2.41</td>\n",
       "      <td>Domestic</td>\n",
       "    </tr>\n",
       "    <tr>\n",
       "      <th>5</th>\n",
       "      <td>Buick LeSabre</td>\n",
       "      <td>5788</td>\n",
       "      <td>18</td>\n",
       "      <td>3.0</td>\n",
       "      <td>4.0</td>\n",
       "      <td>21</td>\n",
       "      <td>3670</td>\n",
       "      <td>218</td>\n",
       "      <td>43</td>\n",
       "      <td>231</td>\n",
       "      <td>2.73</td>\n",
       "      <td>Domestic</td>\n",
       "    </tr>\n",
       "    <tr>\n",
       "      <th>6</th>\n",
       "      <td>Buick Opel</td>\n",
       "      <td>4453</td>\n",
       "      <td>26</td>\n",
       "      <td>NaN</td>\n",
       "      <td>3.0</td>\n",
       "      <td>10</td>\n",
       "      <td>2230</td>\n",
       "      <td>170</td>\n",
       "      <td>34</td>\n",
       "      <td>304</td>\n",
       "      <td>2.87</td>\n",
       "      <td>Domestic</td>\n",
       "    </tr>\n",
       "  </tbody>\n",
       "</table>\n",
       "</div>"
      ],
      "text/plain": [
       "            make  price  mpg  rep78  headroom  trunk  weight  length  turn  \\\n",
       "0    AMC Concord   4099   22    3.0       2.5     11    2930     186    40   \n",
       "1      AMC Pacer   4749   17    3.0       3.0     11    3350     173    40   \n",
       "2     AMC Spirit   3799   22    NaN       3.0     12    2640     168    35   \n",
       "3  Buick Century   4816   20    3.0       4.5     16    3250     196    40   \n",
       "4  Buick Electra   7827   15    4.0       4.0     20    4080     222    43   \n",
       "5  Buick LeSabre   5788   18    3.0       4.0     21    3670     218    43   \n",
       "6     Buick Opel   4453   26    NaN       3.0     10    2230     170    34   \n",
       "\n",
       "   displacement  gear_ratio   foreign  \n",
       "0           121        3.58  Domestic  \n",
       "1           258        2.53  Domestic  \n",
       "2           121        3.08  Domestic  \n",
       "3           196        2.93  Domestic  \n",
       "4           350        2.41  Domestic  \n",
       "5           231        2.73  Domestic  \n",
       "6           304        2.87  Domestic  "
      ]
     },
     "execution_count": 176,
     "metadata": {},
     "output_type": "execute_result"
    }
   ],
   "source": [
    "df4.head(7)"
   ]
  },
  {
   "cell_type": "code",
   "execution_count": 177,
   "metadata": {},
   "outputs": [
    {
     "data": {
      "text/html": [
       "<div>\n",
       "<style scoped>\n",
       "    .dataframe tbody tr th:only-of-type {\n",
       "        vertical-align: middle;\n",
       "    }\n",
       "\n",
       "    .dataframe tbody tr th {\n",
       "        vertical-align: top;\n",
       "    }\n",
       "\n",
       "    .dataframe thead th {\n",
       "        text-align: right;\n",
       "    }\n",
       "</style>\n",
       "<table border=\"1\" class=\"dataframe\">\n",
       "  <thead>\n",
       "    <tr style=\"text-align: right;\">\n",
       "      <th></th>\n",
       "      <th>make</th>\n",
       "      <th>price</th>\n",
       "      <th>mpg</th>\n",
       "      <th>rep78</th>\n",
       "      <th>headroom</th>\n",
       "      <th>trunk</th>\n",
       "      <th>weight</th>\n",
       "      <th>length</th>\n",
       "      <th>turn</th>\n",
       "      <th>displacement</th>\n",
       "      <th>gear_ratio</th>\n",
       "      <th>foreign</th>\n",
       "    </tr>\n",
       "  </thead>\n",
       "  <tbody>\n",
       "    <tr>\n",
       "      <th>69</th>\n",
       "      <td>VW Dasher</td>\n",
       "      <td>7140</td>\n",
       "      <td>23</td>\n",
       "      <td>4.0</td>\n",
       "      <td>2.5</td>\n",
       "      <td>12</td>\n",
       "      <td>2160</td>\n",
       "      <td>172</td>\n",
       "      <td>36</td>\n",
       "      <td>97</td>\n",
       "      <td>3.74</td>\n",
       "      <td>Foreign</td>\n",
       "    </tr>\n",
       "    <tr>\n",
       "      <th>70</th>\n",
       "      <td>VW Diesel</td>\n",
       "      <td>5397</td>\n",
       "      <td>41</td>\n",
       "      <td>5.0</td>\n",
       "      <td>3.0</td>\n",
       "      <td>15</td>\n",
       "      <td>2040</td>\n",
       "      <td>155</td>\n",
       "      <td>35</td>\n",
       "      <td>90</td>\n",
       "      <td>3.78</td>\n",
       "      <td>Foreign</td>\n",
       "    </tr>\n",
       "    <tr>\n",
       "      <th>71</th>\n",
       "      <td>VW Rabbit</td>\n",
       "      <td>4697</td>\n",
       "      <td>25</td>\n",
       "      <td>4.0</td>\n",
       "      <td>3.0</td>\n",
       "      <td>15</td>\n",
       "      <td>1930</td>\n",
       "      <td>155</td>\n",
       "      <td>35</td>\n",
       "      <td>89</td>\n",
       "      <td>3.78</td>\n",
       "      <td>Foreign</td>\n",
       "    </tr>\n",
       "    <tr>\n",
       "      <th>72</th>\n",
       "      <td>VW Scirocco</td>\n",
       "      <td>6850</td>\n",
       "      <td>25</td>\n",
       "      <td>4.0</td>\n",
       "      <td>2.0</td>\n",
       "      <td>16</td>\n",
       "      <td>1990</td>\n",
       "      <td>156</td>\n",
       "      <td>36</td>\n",
       "      <td>97</td>\n",
       "      <td>3.78</td>\n",
       "      <td>Foreign</td>\n",
       "    </tr>\n",
       "    <tr>\n",
       "      <th>73</th>\n",
       "      <td>Volvo 260</td>\n",
       "      <td>11995</td>\n",
       "      <td>17</td>\n",
       "      <td>5.0</td>\n",
       "      <td>2.5</td>\n",
       "      <td>14</td>\n",
       "      <td>3170</td>\n",
       "      <td>193</td>\n",
       "      <td>37</td>\n",
       "      <td>163</td>\n",
       "      <td>2.98</td>\n",
       "      <td>Foreign</td>\n",
       "    </tr>\n",
       "  </tbody>\n",
       "</table>\n",
       "</div>"
      ],
      "text/plain": [
       "           make  price  mpg  rep78  headroom  trunk  weight  length  turn  \\\n",
       "69    VW Dasher   7140   23    4.0       2.5     12    2160     172    36   \n",
       "70    VW Diesel   5397   41    5.0       3.0     15    2040     155    35   \n",
       "71    VW Rabbit   4697   25    4.0       3.0     15    1930     155    35   \n",
       "72  VW Scirocco   6850   25    4.0       2.0     16    1990     156    36   \n",
       "73    Volvo 260  11995   17    5.0       2.5     14    3170     193    37   \n",
       "\n",
       "    displacement  gear_ratio  foreign  \n",
       "69            97        3.74  Foreign  \n",
       "70            90        3.78  Foreign  \n",
       "71            89        3.78  Foreign  \n",
       "72            97        3.78  Foreign  \n",
       "73           163        2.98  Foreign  "
      ]
     },
     "execution_count": 177,
     "metadata": {},
     "output_type": "execute_result"
    }
   ],
   "source": [
    "df4.tail()"
   ]
  },
  {
   "cell_type": "code",
   "execution_count": null,
   "metadata": {},
   "outputs": [],
   "source": []
  },
  {
   "cell_type": "code",
   "execution_count": 178,
   "metadata": {},
   "outputs": [
    {
     "data": {
      "text/html": [
       "<div>\n",
       "<style scoped>\n",
       "    .dataframe tbody tr th:only-of-type {\n",
       "        vertical-align: middle;\n",
       "    }\n",
       "\n",
       "    .dataframe tbody tr th {\n",
       "        vertical-align: top;\n",
       "    }\n",
       "\n",
       "    .dataframe thead th {\n",
       "        text-align: right;\n",
       "    }\n",
       "</style>\n",
       "<table border=\"1\" class=\"dataframe\">\n",
       "  <thead>\n",
       "    <tr style=\"text-align: right;\">\n",
       "      <th></th>\n",
       "      <th>make</th>\n",
       "      <th>price</th>\n",
       "      <th>mpg</th>\n",
       "      <th>rep78</th>\n",
       "      <th>headroom</th>\n",
       "      <th>trunk</th>\n",
       "      <th>weight</th>\n",
       "      <th>length</th>\n",
       "      <th>turn</th>\n",
       "      <th>displacement</th>\n",
       "      <th>gear_ratio</th>\n",
       "      <th>foreign</th>\n",
       "    </tr>\n",
       "  </thead>\n",
       "  <tbody>\n",
       "    <tr>\n",
       "      <th>23</th>\n",
       "      <td>Ford Fiesta</td>\n",
       "      <td>4389</td>\n",
       "      <td>28</td>\n",
       "      <td>4.0</td>\n",
       "      <td>1.5</td>\n",
       "      <td>9</td>\n",
       "      <td>1800</td>\n",
       "      <td>147</td>\n",
       "      <td>33</td>\n",
       "      <td>98</td>\n",
       "      <td>3.15</td>\n",
       "      <td>Domestic</td>\n",
       "    </tr>\n",
       "    <tr>\n",
       "      <th>55</th>\n",
       "      <td>Datsun 200</td>\n",
       "      <td>6229</td>\n",
       "      <td>23</td>\n",
       "      <td>4.0</td>\n",
       "      <td>1.5</td>\n",
       "      <td>6</td>\n",
       "      <td>2370</td>\n",
       "      <td>170</td>\n",
       "      <td>35</td>\n",
       "      <td>119</td>\n",
       "      <td>3.89</td>\n",
       "      <td>Foreign</td>\n",
       "    </tr>\n",
       "    <tr>\n",
       "      <th>40</th>\n",
       "      <td>Olds Toronado</td>\n",
       "      <td>10371</td>\n",
       "      <td>16</td>\n",
       "      <td>3.0</td>\n",
       "      <td>3.5</td>\n",
       "      <td>17</td>\n",
       "      <td>4030</td>\n",
       "      <td>206</td>\n",
       "      <td>43</td>\n",
       "      <td>350</td>\n",
       "      <td>2.41</td>\n",
       "      <td>Domestic</td>\n",
       "    </tr>\n",
       "    <tr>\n",
       "      <th>42</th>\n",
       "      <td>Plym. Champ</td>\n",
       "      <td>4425</td>\n",
       "      <td>34</td>\n",
       "      <td>5.0</td>\n",
       "      <td>2.5</td>\n",
       "      <td>11</td>\n",
       "      <td>1800</td>\n",
       "      <td>157</td>\n",
       "      <td>37</td>\n",
       "      <td>86</td>\n",
       "      <td>2.97</td>\n",
       "      <td>Domestic</td>\n",
       "    </tr>\n",
       "    <tr>\n",
       "      <th>10</th>\n",
       "      <td>Cad. Deville</td>\n",
       "      <td>11385</td>\n",
       "      <td>14</td>\n",
       "      <td>3.0</td>\n",
       "      <td>4.0</td>\n",
       "      <td>20</td>\n",
       "      <td>4330</td>\n",
       "      <td>221</td>\n",
       "      <td>44</td>\n",
       "      <td>425</td>\n",
       "      <td>2.28</td>\n",
       "      <td>Domestic</td>\n",
       "    </tr>\n",
       "    <tr>\n",
       "      <th>21</th>\n",
       "      <td>Dodge Magnum</td>\n",
       "      <td>5886</td>\n",
       "      <td>16</td>\n",
       "      <td>2.0</td>\n",
       "      <td>4.0</td>\n",
       "      <td>17</td>\n",
       "      <td>3600</td>\n",
       "      <td>206</td>\n",
       "      <td>46</td>\n",
       "      <td>318</td>\n",
       "      <td>2.47</td>\n",
       "      <td>Domestic</td>\n",
       "    </tr>\n",
       "    <tr>\n",
       "      <th>18</th>\n",
       "      <td>Chev. Nova</td>\n",
       "      <td>3955</td>\n",
       "      <td>19</td>\n",
       "      <td>3.0</td>\n",
       "      <td>3.5</td>\n",
       "      <td>13</td>\n",
       "      <td>3430</td>\n",
       "      <td>197</td>\n",
       "      <td>43</td>\n",
       "      <td>250</td>\n",
       "      <td>2.56</td>\n",
       "      <td>Domestic</td>\n",
       "    </tr>\n",
       "    <tr>\n",
       "      <th>27</th>\n",
       "      <td>Linc. Versailles</td>\n",
       "      <td>13466</td>\n",
       "      <td>14</td>\n",
       "      <td>3.0</td>\n",
       "      <td>3.5</td>\n",
       "      <td>15</td>\n",
       "      <td>3830</td>\n",
       "      <td>201</td>\n",
       "      <td>41</td>\n",
       "      <td>302</td>\n",
       "      <td>2.47</td>\n",
       "      <td>Domestic</td>\n",
       "    </tr>\n",
       "    <tr>\n",
       "      <th>53</th>\n",
       "      <td>Audi Fox</td>\n",
       "      <td>6295</td>\n",
       "      <td>23</td>\n",
       "      <td>3.0</td>\n",
       "      <td>2.5</td>\n",
       "      <td>11</td>\n",
       "      <td>2070</td>\n",
       "      <td>174</td>\n",
       "      <td>36</td>\n",
       "      <td>97</td>\n",
       "      <td>3.70</td>\n",
       "      <td>Foreign</td>\n",
       "    </tr>\n",
       "    <tr>\n",
       "      <th>71</th>\n",
       "      <td>VW Rabbit</td>\n",
       "      <td>4697</td>\n",
       "      <td>25</td>\n",
       "      <td>4.0</td>\n",
       "      <td>3.0</td>\n",
       "      <td>15</td>\n",
       "      <td>1930</td>\n",
       "      <td>155</td>\n",
       "      <td>35</td>\n",
       "      <td>89</td>\n",
       "      <td>3.78</td>\n",
       "      <td>Foreign</td>\n",
       "    </tr>\n",
       "  </tbody>\n",
       "</table>\n",
       "</div>"
      ],
      "text/plain": [
       "                make  price  mpg  rep78  headroom  trunk  weight  length  \\\n",
       "23       Ford Fiesta   4389   28    4.0       1.5      9    1800     147   \n",
       "55        Datsun 200   6229   23    4.0       1.5      6    2370     170   \n",
       "40     Olds Toronado  10371   16    3.0       3.5     17    4030     206   \n",
       "42       Plym. Champ   4425   34    5.0       2.5     11    1800     157   \n",
       "10      Cad. Deville  11385   14    3.0       4.0     20    4330     221   \n",
       "21      Dodge Magnum   5886   16    2.0       4.0     17    3600     206   \n",
       "18        Chev. Nova   3955   19    3.0       3.5     13    3430     197   \n",
       "27  Linc. Versailles  13466   14    3.0       3.5     15    3830     201   \n",
       "53          Audi Fox   6295   23    3.0       2.5     11    2070     174   \n",
       "71         VW Rabbit   4697   25    4.0       3.0     15    1930     155   \n",
       "\n",
       "    turn  displacement  gear_ratio   foreign  \n",
       "23    33            98        3.15  Domestic  \n",
       "55    35           119        3.89   Foreign  \n",
       "40    43           350        2.41  Domestic  \n",
       "42    37            86        2.97  Domestic  \n",
       "10    44           425        2.28  Domestic  \n",
       "21    46           318        2.47  Domestic  \n",
       "18    43           250        2.56  Domestic  \n",
       "27    41           302        2.47  Domestic  \n",
       "53    36            97        3.70   Foreign  \n",
       "71    35            89        3.78   Foreign  "
      ]
     },
     "execution_count": 178,
     "metadata": {},
     "output_type": "execute_result"
    }
   ],
   "source": [
    "df4.sample(n=10)"
   ]
  },
  {
   "cell_type": "code",
   "execution_count": 179,
   "metadata": {},
   "outputs": [
    {
     "data": {
      "text/plain": [
       "0      4099\n",
       "1      4749\n",
       "2      3799\n",
       "3      4816\n",
       "4      7827\n",
       "      ...  \n",
       "69     7140\n",
       "70     5397\n",
       "71     4697\n",
       "72     6850\n",
       "73    11995\n",
       "Name: price, Length: 74, dtype: int16"
      ]
     },
     "execution_count": 179,
     "metadata": {},
     "output_type": "execute_result"
    }
   ],
   "source": [
    "df4[\"price\"]"
   ]
  },
  {
   "cell_type": "code",
   "execution_count": null,
   "metadata": {},
   "outputs": [],
   "source": []
  },
  {
   "cell_type": "code",
   "execution_count": 180,
   "metadata": {},
   "outputs": [
    {
     "data": {
      "text/plain": [
       "15906"
      ]
     },
     "execution_count": 180,
     "metadata": {},
     "output_type": "execute_result"
    }
   ],
   "source": [
    "df4[\"price\"].max()"
   ]
  },
  {
   "cell_type": "code",
   "execution_count": 181,
   "metadata": {},
   "outputs": [
    {
     "data": {
      "text/html": [
       "<div>\n",
       "<style scoped>\n",
       "    .dataframe tbody tr th:only-of-type {\n",
       "        vertical-align: middle;\n",
       "    }\n",
       "\n",
       "    .dataframe tbody tr th {\n",
       "        vertical-align: top;\n",
       "    }\n",
       "\n",
       "    .dataframe thead th {\n",
       "        text-align: right;\n",
       "    }\n",
       "</style>\n",
       "<table border=\"1\" class=\"dataframe\">\n",
       "  <thead>\n",
       "    <tr style=\"text-align: right;\">\n",
       "      <th></th>\n",
       "      <th>make</th>\n",
       "      <th>price</th>\n",
       "      <th>mpg</th>\n",
       "      <th>rep78</th>\n",
       "      <th>headroom</th>\n",
       "      <th>trunk</th>\n",
       "      <th>weight</th>\n",
       "      <th>length</th>\n",
       "      <th>turn</th>\n",
       "      <th>displacement</th>\n",
       "      <th>gear_ratio</th>\n",
       "      <th>foreign</th>\n",
       "    </tr>\n",
       "  </thead>\n",
       "  <tbody>\n",
       "    <tr>\n",
       "      <th>12</th>\n",
       "      <td>Cad. Seville</td>\n",
       "      <td>15906</td>\n",
       "      <td>21</td>\n",
       "      <td>3.0</td>\n",
       "      <td>3.0</td>\n",
       "      <td>13</td>\n",
       "      <td>4290</td>\n",
       "      <td>204</td>\n",
       "      <td>45</td>\n",
       "      <td>350</td>\n",
       "      <td>2.24</td>\n",
       "      <td>Domestic</td>\n",
       "    </tr>\n",
       "  </tbody>\n",
       "</table>\n",
       "</div>"
      ],
      "text/plain": [
       "            make  price  mpg  rep78  headroom  trunk  weight  length  turn  \\\n",
       "12  Cad. Seville  15906   21    3.0       3.0     13    4290     204    45   \n",
       "\n",
       "    displacement  gear_ratio   foreign  \n",
       "12           350        2.24  Domestic  "
      ]
     },
     "execution_count": 181,
     "metadata": {},
     "output_type": "execute_result"
    }
   ],
   "source": [
    "df4[df4[\"price\"] == df4[\"price\"].max()]"
   ]
  },
  {
   "cell_type": "code",
   "execution_count": null,
   "metadata": {},
   "outputs": [],
   "source": []
  },
  {
   "cell_type": "code",
   "execution_count": 182,
   "metadata": {},
   "outputs": [
    {
     "data": {
      "text/html": [
       "<div>\n",
       "<style scoped>\n",
       "    .dataframe tbody tr th:only-of-type {\n",
       "        vertical-align: middle;\n",
       "    }\n",
       "\n",
       "    .dataframe tbody tr th {\n",
       "        vertical-align: top;\n",
       "    }\n",
       "\n",
       "    .dataframe thead th {\n",
       "        text-align: right;\n",
       "    }\n",
       "</style>\n",
       "<table border=\"1\" class=\"dataframe\">\n",
       "  <thead>\n",
       "    <tr style=\"text-align: right;\">\n",
       "      <th></th>\n",
       "      <th>make</th>\n",
       "      <th>price</th>\n",
       "      <th>mpg</th>\n",
       "      <th>rep78</th>\n",
       "      <th>headroom</th>\n",
       "      <th>trunk</th>\n",
       "      <th>weight</th>\n",
       "      <th>length</th>\n",
       "      <th>turn</th>\n",
       "      <th>displacement</th>\n",
       "      <th>gear_ratio</th>\n",
       "      <th>foreign</th>\n",
       "    </tr>\n",
       "  </thead>\n",
       "  <tbody>\n",
       "    <tr>\n",
       "      <th>33</th>\n",
       "      <td>Merc. Zephyr</td>\n",
       "      <td>3291</td>\n",
       "      <td>20</td>\n",
       "      <td>3.0</td>\n",
       "      <td>3.5</td>\n",
       "      <td>17</td>\n",
       "      <td>2830</td>\n",
       "      <td>195</td>\n",
       "      <td>43</td>\n",
       "      <td>140</td>\n",
       "      <td>3.08</td>\n",
       "      <td>Domestic</td>\n",
       "    </tr>\n",
       "  </tbody>\n",
       "</table>\n",
       "</div>"
      ],
      "text/plain": [
       "            make  price  mpg  rep78  headroom  trunk  weight  length  turn  \\\n",
       "33  Merc. Zephyr   3291   20    3.0       3.5     17    2830     195    43   \n",
       "\n",
       "    displacement  gear_ratio   foreign  \n",
       "33           140        3.08  Domestic  "
      ]
     },
     "execution_count": 182,
     "metadata": {},
     "output_type": "execute_result"
    }
   ],
   "source": [
    "df4[df4[\"price\"] == df4[\"price\"].min()]"
   ]
  },
  {
   "cell_type": "code",
   "execution_count": null,
   "metadata": {},
   "outputs": [],
   "source": []
  },
  {
   "cell_type": "code",
   "execution_count": 183,
   "metadata": {},
   "outputs": [
    {
     "data": {
      "text/html": [
       "<div>\n",
       "<style scoped>\n",
       "    .dataframe tbody tr th:only-of-type {\n",
       "        vertical-align: middle;\n",
       "    }\n",
       "\n",
       "    .dataframe tbody tr th {\n",
       "        vertical-align: top;\n",
       "    }\n",
       "\n",
       "    .dataframe thead th {\n",
       "        text-align: right;\n",
       "    }\n",
       "</style>\n",
       "<table border=\"1\" class=\"dataframe\">\n",
       "  <thead>\n",
       "    <tr style=\"text-align: right;\">\n",
       "      <th></th>\n",
       "      <th>make</th>\n",
       "      <th>price</th>\n",
       "      <th>mpg</th>\n",
       "      <th>rep78</th>\n",
       "      <th>headroom</th>\n",
       "      <th>trunk</th>\n",
       "      <th>weight</th>\n",
       "      <th>length</th>\n",
       "      <th>turn</th>\n",
       "      <th>displacement</th>\n",
       "      <th>gear_ratio</th>\n",
       "      <th>foreign</th>\n",
       "    </tr>\n",
       "  </thead>\n",
       "  <tbody>\n",
       "    <tr>\n",
       "      <th>12</th>\n",
       "      <td>Cad. Seville</td>\n",
       "      <td>15906</td>\n",
       "      <td>21</td>\n",
       "      <td>3.0</td>\n",
       "      <td>3.0</td>\n",
       "      <td>13</td>\n",
       "      <td>4290</td>\n",
       "      <td>204</td>\n",
       "      <td>45</td>\n",
       "      <td>350</td>\n",
       "      <td>2.24</td>\n",
       "      <td>Domestic</td>\n",
       "    </tr>\n",
       "  </tbody>\n",
       "</table>\n",
       "</div>"
      ],
      "text/plain": [
       "            make  price  mpg  rep78  headroom  trunk  weight  length  turn  \\\n",
       "12  Cad. Seville  15906   21    3.0       3.0     13    4290     204    45   \n",
       "\n",
       "    displacement  gear_ratio   foreign  \n",
       "12           350        2.24  Domestic  "
      ]
     },
     "execution_count": 183,
     "metadata": {},
     "output_type": "execute_result"
    }
   ],
   "source": [
    "df4[df4[\"price\"] == 15906]"
   ]
  },
  {
   "cell_type": "code",
   "execution_count": 184,
   "metadata": {},
   "outputs": [
    {
     "data": {
      "text/plain": [
       "74"
      ]
     },
     "execution_count": 184,
     "metadata": {},
     "output_type": "execute_result"
    }
   ],
   "source": [
    "len(df4)"
   ]
  },
  {
   "cell_type": "code",
   "execution_count": 185,
   "metadata": {},
   "outputs": [
    {
     "name": "stdout",
     "output_type": "stream",
     "text": [
      "0\n",
      "1\n",
      "2\n",
      "3\n",
      "4\n",
      "5\n",
      "6\n",
      "7\n",
      "8\n",
      "9\n",
      "10\n",
      "11\n",
      "12\n",
      "13\n",
      "14\n",
      "15\n",
      "16\n",
      "17\n",
      "18\n",
      "19\n",
      "20\n",
      "21\n",
      "22\n",
      "23\n",
      "24\n",
      "25\n",
      "26\n",
      "27\n",
      "28\n",
      "29\n",
      "30\n",
      "31\n",
      "32\n",
      "33\n",
      "34\n",
      "35\n",
      "36\n",
      "37\n",
      "38\n",
      "39\n",
      "40\n",
      "41\n",
      "42\n",
      "43\n",
      "44\n",
      "45\n",
      "46\n",
      "47\n",
      "48\n",
      "49\n",
      "50\n",
      "51\n",
      "52\n",
      "53\n",
      "54\n",
      "55\n",
      "56\n",
      "57\n",
      "58\n",
      "59\n",
      "60\n",
      "61\n",
      "62\n",
      "63\n",
      "64\n",
      "65\n",
      "66\n",
      "67\n",
      "68\n",
      "69\n",
      "70\n",
      "71\n",
      "72\n",
      "73\n"
     ]
    }
   ],
   "source": [
    "for i in range(len(df4)):\n",
    "    print(i)"
   ]
  },
  {
   "cell_type": "code",
   "execution_count": null,
   "metadata": {},
   "outputs": [],
   "source": []
  },
  {
   "cell_type": "code",
   "execution_count": 188,
   "metadata": {},
   "outputs": [
    {
     "name": "stdout",
     "output_type": "stream",
     "text": [
      "make            Cad. Seville\n",
      "price                  15906\n",
      "mpg                       21\n",
      "rep78                    3.0\n",
      "headroom                 3.0\n",
      "trunk                     13\n",
      "weight                  4290\n",
      "length                   204\n",
      "turn                      45\n",
      "displacement             350\n",
      "gear_ratio              2.24\n",
      "foreign             Domestic\n",
      "Name: 12, dtype: object\n"
     ]
    }
   ],
   "source": [
    "for i in range(len(df4)):\n",
    "    preco = df4.iloc[i]['price']\n",
    "    if preco == 15906:\n",
    "        print(df4.iloc[i])\n",
    "    else:\n",
    "        continue # pass\n",
    "        print(\"Jose\")"
   ]
  },
  {
   "cell_type": "code",
   "execution_count": null,
   "metadata": {},
   "outputs": [],
   "source": []
  },
  {
   "cell_type": "code",
   "execution_count": 189,
   "metadata": {},
   "outputs": [
    {
     "name": "stdout",
     "output_type": "stream",
     "text": [
      "make            Cad. Seville\n",
      "price                  15906\n",
      "mpg                       21\n",
      "rep78                    3.0\n",
      "headroom                 3.0\n",
      "trunk                     13\n",
      "weight                  4290\n",
      "length                   204\n",
      "turn                      45\n",
      "displacement             350\n",
      "gear_ratio              2.24\n",
      "foreign             Domestic\n",
      "Name: 12, dtype: object\n"
     ]
    }
   ],
   "source": [
    "for i in range(len(df4)):\n",
    "    preco = df4.iloc[i]['price']\n",
    "    if preco == 15906:\n",
    "        print(df4.iloc[i])\n",
    "    else:\n",
    "        continue"
   ]
  },
  {
   "cell_type": "code",
   "execution_count": null,
   "metadata": {},
   "outputs": [],
   "source": []
  },
  {
   "cell_type": "code",
   "execution_count": 190,
   "metadata": {},
   "outputs": [
    {
     "data": {
      "text/html": [
       "<div>\n",
       "<style scoped>\n",
       "    .dataframe tbody tr th:only-of-type {\n",
       "        vertical-align: middle;\n",
       "    }\n",
       "\n",
       "    .dataframe tbody tr th {\n",
       "        vertical-align: top;\n",
       "    }\n",
       "\n",
       "    .dataframe thead th {\n",
       "        text-align: right;\n",
       "    }\n",
       "</style>\n",
       "<table border=\"1\" class=\"dataframe\">\n",
       "  <thead>\n",
       "    <tr style=\"text-align: right;\">\n",
       "      <th></th>\n",
       "      <th>make</th>\n",
       "      <th>price</th>\n",
       "      <th>mpg</th>\n",
       "      <th>rep78</th>\n",
       "      <th>headroom</th>\n",
       "      <th>trunk</th>\n",
       "      <th>weight</th>\n",
       "      <th>length</th>\n",
       "      <th>turn</th>\n",
       "      <th>displacement</th>\n",
       "      <th>gear_ratio</th>\n",
       "      <th>foreign</th>\n",
       "    </tr>\n",
       "  </thead>\n",
       "  <tbody>\n",
       "    <tr>\n",
       "      <th>19</th>\n",
       "      <td>Dodge Colt</td>\n",
       "      <td>3984</td>\n",
       "      <td>30</td>\n",
       "      <td>5.0</td>\n",
       "      <td>2.0</td>\n",
       "      <td>8</td>\n",
       "      <td>2120</td>\n",
       "      <td>163</td>\n",
       "      <td>35</td>\n",
       "      <td>98</td>\n",
       "      <td>3.54</td>\n",
       "      <td>Domestic</td>\n",
       "    </tr>\n",
       "    <tr>\n",
       "      <th>18</th>\n",
       "      <td>Chev. Nova</td>\n",
       "      <td>3955</td>\n",
       "      <td>19</td>\n",
       "      <td>3.0</td>\n",
       "      <td>3.5</td>\n",
       "      <td>13</td>\n",
       "      <td>3430</td>\n",
       "      <td>197</td>\n",
       "      <td>43</td>\n",
       "      <td>250</td>\n",
       "      <td>2.56</td>\n",
       "      <td>Domestic</td>\n",
       "    </tr>\n",
       "    <tr>\n",
       "      <th>64</th>\n",
       "      <td>Renault Le Car</td>\n",
       "      <td>3895</td>\n",
       "      <td>26</td>\n",
       "      <td>3.0</td>\n",
       "      <td>3.0</td>\n",
       "      <td>10</td>\n",
       "      <td>1830</td>\n",
       "      <td>142</td>\n",
       "      <td>34</td>\n",
       "      <td>79</td>\n",
       "      <td>3.72</td>\n",
       "      <td>Foreign</td>\n",
       "    </tr>\n",
       "    <tr>\n",
       "      <th>28</th>\n",
       "      <td>Merc. Bobcat</td>\n",
       "      <td>3829</td>\n",
       "      <td>22</td>\n",
       "      <td>4.0</td>\n",
       "      <td>3.0</td>\n",
       "      <td>9</td>\n",
       "      <td>2580</td>\n",
       "      <td>169</td>\n",
       "      <td>39</td>\n",
       "      <td>140</td>\n",
       "      <td>2.73</td>\n",
       "      <td>Domestic</td>\n",
       "    </tr>\n",
       "    <tr>\n",
       "      <th>2</th>\n",
       "      <td>AMC Spirit</td>\n",
       "      <td>3799</td>\n",
       "      <td>22</td>\n",
       "      <td>NaN</td>\n",
       "      <td>3.0</td>\n",
       "      <td>12</td>\n",
       "      <td>2640</td>\n",
       "      <td>168</td>\n",
       "      <td>35</td>\n",
       "      <td>121</td>\n",
       "      <td>3.08</td>\n",
       "      <td>Domestic</td>\n",
       "    </tr>\n",
       "    <tr>\n",
       "      <th>65</th>\n",
       "      <td>Subaru</td>\n",
       "      <td>3798</td>\n",
       "      <td>35</td>\n",
       "      <td>5.0</td>\n",
       "      <td>2.5</td>\n",
       "      <td>11</td>\n",
       "      <td>2050</td>\n",
       "      <td>164</td>\n",
       "      <td>36</td>\n",
       "      <td>97</td>\n",
       "      <td>3.81</td>\n",
       "      <td>Foreign</td>\n",
       "    </tr>\n",
       "    <tr>\n",
       "      <th>67</th>\n",
       "      <td>Toyota Corolla</td>\n",
       "      <td>3748</td>\n",
       "      <td>31</td>\n",
       "      <td>5.0</td>\n",
       "      <td>3.0</td>\n",
       "      <td>9</td>\n",
       "      <td>2200</td>\n",
       "      <td>165</td>\n",
       "      <td>35</td>\n",
       "      <td>97</td>\n",
       "      <td>3.21</td>\n",
       "      <td>Foreign</td>\n",
       "    </tr>\n",
       "    <tr>\n",
       "      <th>17</th>\n",
       "      <td>Chev. Monza</td>\n",
       "      <td>3667</td>\n",
       "      <td>24</td>\n",
       "      <td>2.0</td>\n",
       "      <td>2.0</td>\n",
       "      <td>7</td>\n",
       "      <td>2750</td>\n",
       "      <td>179</td>\n",
       "      <td>40</td>\n",
       "      <td>151</td>\n",
       "      <td>2.73</td>\n",
       "      <td>Domestic</td>\n",
       "    </tr>\n",
       "    <tr>\n",
       "      <th>13</th>\n",
       "      <td>Chev. Chevette</td>\n",
       "      <td>3299</td>\n",
       "      <td>29</td>\n",
       "      <td>3.0</td>\n",
       "      <td>2.5</td>\n",
       "      <td>9</td>\n",
       "      <td>2110</td>\n",
       "      <td>163</td>\n",
       "      <td>34</td>\n",
       "      <td>231</td>\n",
       "      <td>2.93</td>\n",
       "      <td>Domestic</td>\n",
       "    </tr>\n",
       "    <tr>\n",
       "      <th>33</th>\n",
       "      <td>Merc. Zephyr</td>\n",
       "      <td>3291</td>\n",
       "      <td>20</td>\n",
       "      <td>3.0</td>\n",
       "      <td>3.5</td>\n",
       "      <td>17</td>\n",
       "      <td>2830</td>\n",
       "      <td>195</td>\n",
       "      <td>43</td>\n",
       "      <td>140</td>\n",
       "      <td>3.08</td>\n",
       "      <td>Domestic</td>\n",
       "    </tr>\n",
       "  </tbody>\n",
       "</table>\n",
       "</div>"
      ],
      "text/plain": [
       "              make  price  mpg  rep78  headroom  trunk  weight  length  turn  \\\n",
       "19      Dodge Colt   3984   30    5.0       2.0      8    2120     163    35   \n",
       "18      Chev. Nova   3955   19    3.0       3.5     13    3430     197    43   \n",
       "64  Renault Le Car   3895   26    3.0       3.0     10    1830     142    34   \n",
       "28    Merc. Bobcat   3829   22    4.0       3.0      9    2580     169    39   \n",
       "2       AMC Spirit   3799   22    NaN       3.0     12    2640     168    35   \n",
       "65          Subaru   3798   35    5.0       2.5     11    2050     164    36   \n",
       "67  Toyota Corolla   3748   31    5.0       3.0      9    2200     165    35   \n",
       "17     Chev. Monza   3667   24    2.0       2.0      7    2750     179    40   \n",
       "13  Chev. Chevette   3299   29    3.0       2.5      9    2110     163    34   \n",
       "33    Merc. Zephyr   3291   20    3.0       3.5     17    2830     195    43   \n",
       "\n",
       "    displacement  gear_ratio   foreign  \n",
       "19            98        3.54  Domestic  \n",
       "18           250        2.56  Domestic  \n",
       "64            79        3.72   Foreign  \n",
       "28           140        2.73  Domestic  \n",
       "2            121        3.08  Domestic  \n",
       "65            97        3.81   Foreign  \n",
       "67            97        3.21   Foreign  \n",
       "17           151        2.73  Domestic  \n",
       "13           231        2.93  Domestic  \n",
       "33           140        3.08  Domestic  "
      ]
     },
     "execution_count": 190,
     "metadata": {},
     "output_type": "execute_result"
    }
   ],
   "source": [
    "df4.sort_values(by='price',ascending=False).tail(10)"
   ]
  },
  {
   "cell_type": "code",
   "execution_count": null,
   "metadata": {},
   "outputs": [],
   "source": []
  },
  {
   "cell_type": "code",
   "execution_count": null,
   "metadata": {},
   "outputs": [],
   "source": []
  },
  {
   "cell_type": "code",
   "execution_count": 191,
   "metadata": {},
   "outputs": [
    {
     "data": {
      "text/plain": [
       "2998533.948325042"
      ]
     },
     "execution_count": 191,
     "metadata": {},
     "output_type": "execute_result"
    }
   ],
   "source": [
    "df_N3[0].sum()"
   ]
  },
  {
   "cell_type": "code",
   "execution_count": null,
   "metadata": {},
   "outputs": [],
   "source": []
  },
  {
   "cell_type": "code",
   "execution_count": 192,
   "metadata": {},
   "outputs": [
    {
     "name": "stdout",
     "output_type": "stream",
     "text": [
      "Soma:  456229\n",
      "Valor máximo:  15906\n",
      "Valor mínimo:  3291\n",
      "Média 6165.256756756757\n"
     ]
    }
   ],
   "source": [
    "print('Soma: ',         df4[\"price\"].sum())\n",
    "print('Valor máximo: ', df4[\"price\"].max())\n",
    "print('Valor mínimo: ', df4[\"price\"].min())\n",
    "print('Média',          df4[\"price\"].mean())"
   ]
  },
  {
   "cell_type": "markdown",
   "metadata": {},
   "source": [
    "Um outro comando bastante útil é o \"value_counts\". Com ele podemos contar a frequência de cada valor em um columa não numérica."
   ]
  },
  {
   "cell_type": "code",
   "execution_count": 193,
   "metadata": {},
   "outputs": [
    {
     "data": {
      "text/plain": [
       "Domestic    52\n",
       "Foreign     22\n",
       "Name: foreign, dtype: int64"
      ]
     },
     "execution_count": 193,
     "metadata": {},
     "output_type": "execute_result"
    }
   ],
   "source": [
    "df4[\"foreign\"].value_counts()"
   ]
  },
  {
   "cell_type": "markdown",
   "metadata": {},
   "source": [
    "Pode-se, então, criar uma sub-base de dados baseada em valores específicos de uma coluna. Por exemplo, imagine que queremos apenas as informações dos carros importados."
   ]
  },
  {
   "cell_type": "code",
   "execution_count": 194,
   "metadata": {},
   "outputs": [],
   "source": [
    "carros_importados = df4[df4[\"foreign\"] == 'Foreign']"
   ]
  },
  {
   "cell_type": "code",
   "execution_count": 93,
   "metadata": {},
   "outputs": [],
   "source": [
    "carros_importados.to_stata(\"autos_importados.dta\")"
   ]
  },
  {
   "cell_type": "code",
   "execution_count": null,
   "metadata": {},
   "outputs": [],
   "source": []
  },
  {
   "cell_type": "code",
   "execution_count": null,
   "metadata": {},
   "outputs": [],
   "source": []
  },
  {
   "cell_type": "code",
   "execution_count": 195,
   "metadata": {},
   "outputs": [],
   "source": [
    "df4_impot = df4[df4[\"foreign\"] == 'Foreign'] # Dados carros importados\n",
    "df4_nacio = df4[df4[\"foreign\"] == 'Domestic']"
   ]
  },
  {
   "cell_type": "code",
   "execution_count": 196,
   "metadata": {},
   "outputs": [
    {
     "data": {
      "text/html": [
       "<div>\n",
       "<style scoped>\n",
       "    .dataframe tbody tr th:only-of-type {\n",
       "        vertical-align: middle;\n",
       "    }\n",
       "\n",
       "    .dataframe tbody tr th {\n",
       "        vertical-align: top;\n",
       "    }\n",
       "\n",
       "    .dataframe thead th {\n",
       "        text-align: right;\n",
       "    }\n",
       "</style>\n",
       "<table border=\"1\" class=\"dataframe\">\n",
       "  <thead>\n",
       "    <tr style=\"text-align: right;\">\n",
       "      <th></th>\n",
       "      <th>make</th>\n",
       "      <th>price</th>\n",
       "      <th>mpg</th>\n",
       "      <th>rep78</th>\n",
       "      <th>headroom</th>\n",
       "      <th>trunk</th>\n",
       "      <th>weight</th>\n",
       "      <th>length</th>\n",
       "      <th>turn</th>\n",
       "      <th>displacement</th>\n",
       "      <th>gear_ratio</th>\n",
       "      <th>foreign</th>\n",
       "    </tr>\n",
       "  </thead>\n",
       "  <tbody>\n",
       "    <tr>\n",
       "      <th>52</th>\n",
       "      <td>Audi 5000</td>\n",
       "      <td>9690</td>\n",
       "      <td>17</td>\n",
       "      <td>5.0</td>\n",
       "      <td>3.0</td>\n",
       "      <td>15</td>\n",
       "      <td>2830</td>\n",
       "      <td>189</td>\n",
       "      <td>37</td>\n",
       "      <td>131</td>\n",
       "      <td>3.20</td>\n",
       "      <td>Foreign</td>\n",
       "    </tr>\n",
       "    <tr>\n",
       "      <th>53</th>\n",
       "      <td>Audi Fox</td>\n",
       "      <td>6295</td>\n",
       "      <td>23</td>\n",
       "      <td>3.0</td>\n",
       "      <td>2.5</td>\n",
       "      <td>11</td>\n",
       "      <td>2070</td>\n",
       "      <td>174</td>\n",
       "      <td>36</td>\n",
       "      <td>97</td>\n",
       "      <td>3.70</td>\n",
       "      <td>Foreign</td>\n",
       "    </tr>\n",
       "    <tr>\n",
       "      <th>54</th>\n",
       "      <td>BMW 320i</td>\n",
       "      <td>9735</td>\n",
       "      <td>25</td>\n",
       "      <td>4.0</td>\n",
       "      <td>2.5</td>\n",
       "      <td>12</td>\n",
       "      <td>2650</td>\n",
       "      <td>177</td>\n",
       "      <td>34</td>\n",
       "      <td>121</td>\n",
       "      <td>3.64</td>\n",
       "      <td>Foreign</td>\n",
       "    </tr>\n",
       "    <tr>\n",
       "      <th>55</th>\n",
       "      <td>Datsun 200</td>\n",
       "      <td>6229</td>\n",
       "      <td>23</td>\n",
       "      <td>4.0</td>\n",
       "      <td>1.5</td>\n",
       "      <td>6</td>\n",
       "      <td>2370</td>\n",
       "      <td>170</td>\n",
       "      <td>35</td>\n",
       "      <td>119</td>\n",
       "      <td>3.89</td>\n",
       "      <td>Foreign</td>\n",
       "    </tr>\n",
       "    <tr>\n",
       "      <th>56</th>\n",
       "      <td>Datsun 210</td>\n",
       "      <td>4589</td>\n",
       "      <td>35</td>\n",
       "      <td>5.0</td>\n",
       "      <td>2.0</td>\n",
       "      <td>8</td>\n",
       "      <td>2020</td>\n",
       "      <td>165</td>\n",
       "      <td>32</td>\n",
       "      <td>85</td>\n",
       "      <td>3.70</td>\n",
       "      <td>Foreign</td>\n",
       "    </tr>\n",
       "  </tbody>\n",
       "</table>\n",
       "</div>"
      ],
      "text/plain": [
       "          make  price  mpg  rep78  headroom  trunk  weight  length  turn  \\\n",
       "52   Audi 5000   9690   17    5.0       3.0     15    2830     189    37   \n",
       "53    Audi Fox   6295   23    3.0       2.5     11    2070     174    36   \n",
       "54    BMW 320i   9735   25    4.0       2.5     12    2650     177    34   \n",
       "55  Datsun 200   6229   23    4.0       1.5      6    2370     170    35   \n",
       "56  Datsun 210   4589   35    5.0       2.0      8    2020     165    32   \n",
       "\n",
       "    displacement  gear_ratio  foreign  \n",
       "52           131        3.20  Foreign  \n",
       "53            97        3.70  Foreign  \n",
       "54           121        3.64  Foreign  \n",
       "55           119        3.89  Foreign  \n",
       "56            85        3.70  Foreign  "
      ]
     },
     "execution_count": 196,
     "metadata": {},
     "output_type": "execute_result"
    }
   ],
   "source": [
    "df4_impot.head()"
   ]
  },
  {
   "cell_type": "code",
   "execution_count": 197,
   "metadata": {},
   "outputs": [
    {
     "data": {
      "text/html": [
       "<div>\n",
       "<style scoped>\n",
       "    .dataframe tbody tr th:only-of-type {\n",
       "        vertical-align: middle;\n",
       "    }\n",
       "\n",
       "    .dataframe tbody tr th {\n",
       "        vertical-align: top;\n",
       "    }\n",
       "\n",
       "    .dataframe thead th {\n",
       "        text-align: right;\n",
       "    }\n",
       "</style>\n",
       "<table border=\"1\" class=\"dataframe\">\n",
       "  <thead>\n",
       "    <tr style=\"text-align: right;\">\n",
       "      <th></th>\n",
       "      <th>make</th>\n",
       "      <th>price</th>\n",
       "      <th>mpg</th>\n",
       "      <th>rep78</th>\n",
       "      <th>headroom</th>\n",
       "      <th>trunk</th>\n",
       "      <th>weight</th>\n",
       "      <th>length</th>\n",
       "      <th>turn</th>\n",
       "      <th>displacement</th>\n",
       "      <th>gear_ratio</th>\n",
       "      <th>foreign</th>\n",
       "    </tr>\n",
       "  </thead>\n",
       "  <tbody>\n",
       "    <tr>\n",
       "      <th>0</th>\n",
       "      <td>AMC Concord</td>\n",
       "      <td>4099</td>\n",
       "      <td>22</td>\n",
       "      <td>3.0</td>\n",
       "      <td>2.5</td>\n",
       "      <td>11</td>\n",
       "      <td>2930</td>\n",
       "      <td>186</td>\n",
       "      <td>40</td>\n",
       "      <td>121</td>\n",
       "      <td>3.58</td>\n",
       "      <td>Domestic</td>\n",
       "    </tr>\n",
       "    <tr>\n",
       "      <th>1</th>\n",
       "      <td>AMC Pacer</td>\n",
       "      <td>4749</td>\n",
       "      <td>17</td>\n",
       "      <td>3.0</td>\n",
       "      <td>3.0</td>\n",
       "      <td>11</td>\n",
       "      <td>3350</td>\n",
       "      <td>173</td>\n",
       "      <td>40</td>\n",
       "      <td>258</td>\n",
       "      <td>2.53</td>\n",
       "      <td>Domestic</td>\n",
       "    </tr>\n",
       "    <tr>\n",
       "      <th>2</th>\n",
       "      <td>AMC Spirit</td>\n",
       "      <td>3799</td>\n",
       "      <td>22</td>\n",
       "      <td>NaN</td>\n",
       "      <td>3.0</td>\n",
       "      <td>12</td>\n",
       "      <td>2640</td>\n",
       "      <td>168</td>\n",
       "      <td>35</td>\n",
       "      <td>121</td>\n",
       "      <td>3.08</td>\n",
       "      <td>Domestic</td>\n",
       "    </tr>\n",
       "    <tr>\n",
       "      <th>3</th>\n",
       "      <td>Buick Century</td>\n",
       "      <td>4816</td>\n",
       "      <td>20</td>\n",
       "      <td>3.0</td>\n",
       "      <td>4.5</td>\n",
       "      <td>16</td>\n",
       "      <td>3250</td>\n",
       "      <td>196</td>\n",
       "      <td>40</td>\n",
       "      <td>196</td>\n",
       "      <td>2.93</td>\n",
       "      <td>Domestic</td>\n",
       "    </tr>\n",
       "    <tr>\n",
       "      <th>4</th>\n",
       "      <td>Buick Electra</td>\n",
       "      <td>7827</td>\n",
       "      <td>15</td>\n",
       "      <td>4.0</td>\n",
       "      <td>4.0</td>\n",
       "      <td>20</td>\n",
       "      <td>4080</td>\n",
       "      <td>222</td>\n",
       "      <td>43</td>\n",
       "      <td>350</td>\n",
       "      <td>2.41</td>\n",
       "      <td>Domestic</td>\n",
       "    </tr>\n",
       "  </tbody>\n",
       "</table>\n",
       "</div>"
      ],
      "text/plain": [
       "            make  price  mpg  rep78  headroom  trunk  weight  length  turn  \\\n",
       "0    AMC Concord   4099   22    3.0       2.5     11    2930     186    40   \n",
       "1      AMC Pacer   4749   17    3.0       3.0     11    3350     173    40   \n",
       "2     AMC Spirit   3799   22    NaN       3.0     12    2640     168    35   \n",
       "3  Buick Century   4816   20    3.0       4.5     16    3250     196    40   \n",
       "4  Buick Electra   7827   15    4.0       4.0     20    4080     222    43   \n",
       "\n",
       "   displacement  gear_ratio   foreign  \n",
       "0           121        3.58  Domestic  \n",
       "1           258        2.53  Domestic  \n",
       "2           121        3.08  Domestic  \n",
       "3           196        2.93  Domestic  \n",
       "4           350        2.41  Domestic  "
      ]
     },
     "execution_count": 197,
     "metadata": {},
     "output_type": "execute_result"
    }
   ],
   "source": [
    "df4_nacio.head()"
   ]
  },
  {
   "cell_type": "markdown",
   "metadata": {},
   "source": [
    "Vamos observar o preço médio do carro importado."
   ]
  },
  {
   "cell_type": "code",
   "execution_count": 198,
   "metadata": {},
   "outputs": [
    {
     "name": "stdout",
     "output_type": "stream",
     "text": [
      "Média Impot.:  6384.681818181818\n",
      "Média Nacio.:  6072.423076923077\n"
     ]
    }
   ],
   "source": [
    "print('Média Impot.: ',df4_impot[\"price\"].mean())\n",
    "print('Média Nacio.: ',df4_nacio[\"price\"].mean())"
   ]
  },
  {
   "cell_type": "code",
   "execution_count": null,
   "metadata": {},
   "outputs": [],
   "source": []
  },
  {
   "cell_type": "code",
   "execution_count": 199,
   "metadata": {},
   "outputs": [],
   "source": [
    "df_filmes = pd.DataFrame(columns=('name', 'obs', 'rate'))"
   ]
  },
  {
   "cell_type": "code",
   "execution_count": 200,
   "metadata": {},
   "outputs": [
    {
     "data": {
      "text/html": [
       "<div>\n",
       "<style scoped>\n",
       "    .dataframe tbody tr th:only-of-type {\n",
       "        vertical-align: middle;\n",
       "    }\n",
       "\n",
       "    .dataframe tbody tr th {\n",
       "        vertical-align: top;\n",
       "    }\n",
       "\n",
       "    .dataframe thead th {\n",
       "        text-align: right;\n",
       "    }\n",
       "</style>\n",
       "<table border=\"1\" class=\"dataframe\">\n",
       "  <thead>\n",
       "    <tr style=\"text-align: right;\">\n",
       "      <th></th>\n",
       "      <th>name</th>\n",
       "      <th>obs</th>\n",
       "      <th>rate</th>\n",
       "    </tr>\n",
       "  </thead>\n",
       "  <tbody>\n",
       "  </tbody>\n",
       "</table>\n",
       "</div>"
      ],
      "text/plain": [
       "Empty DataFrame\n",
       "Columns: [name, obs, rate]\n",
       "Index: []"
      ]
     },
     "execution_count": 200,
     "metadata": {},
     "output_type": "execute_result"
    }
   ],
   "source": [
    "df_filmes"
   ]
  },
  {
   "cell_type": "code",
   "execution_count": 201,
   "metadata": {},
   "outputs": [
    {
     "data": {
      "text/plain": [
       "0"
      ]
     },
     "execution_count": 201,
     "metadata": {},
     "output_type": "execute_result"
    }
   ],
   "source": [
    "len(df_filmes)"
   ]
  },
  {
   "cell_type": "code",
   "execution_count": 202,
   "metadata": {},
   "outputs": [],
   "source": [
    "df_filmes.loc[0] = ['Teste', '50', '4']"
   ]
  },
  {
   "cell_type": "code",
   "execution_count": 203,
   "metadata": {},
   "outputs": [
    {
     "data": {
      "text/html": [
       "<div>\n",
       "<style scoped>\n",
       "    .dataframe tbody tr th:only-of-type {\n",
       "        vertical-align: middle;\n",
       "    }\n",
       "\n",
       "    .dataframe tbody tr th {\n",
       "        vertical-align: top;\n",
       "    }\n",
       "\n",
       "    .dataframe thead th {\n",
       "        text-align: right;\n",
       "    }\n",
       "</style>\n",
       "<table border=\"1\" class=\"dataframe\">\n",
       "  <thead>\n",
       "    <tr style=\"text-align: right;\">\n",
       "      <th></th>\n",
       "      <th>name</th>\n",
       "      <th>obs</th>\n",
       "      <th>rate</th>\n",
       "    </tr>\n",
       "  </thead>\n",
       "  <tbody>\n",
       "    <tr>\n",
       "      <th>0</th>\n",
       "      <td>Teste</td>\n",
       "      <td>50</td>\n",
       "      <td>4</td>\n",
       "    </tr>\n",
       "  </tbody>\n",
       "</table>\n",
       "</div>"
      ],
      "text/plain": [
       "    name obs rate\n",
       "0  Teste  50    4"
      ]
     },
     "execution_count": 203,
     "metadata": {},
     "output_type": "execute_result"
    }
   ],
   "source": [
    "df_filmes"
   ]
  },
  {
   "cell_type": "code",
   "execution_count": 204,
   "metadata": {},
   "outputs": [
    {
     "data": {
      "text/plain": [
       "1"
      ]
     },
     "execution_count": 204,
     "metadata": {},
     "output_type": "execute_result"
    }
   ],
   "source": [
    "len(df_filmes)"
   ]
  },
  {
   "cell_type": "code",
   "execution_count": 205,
   "metadata": {},
   "outputs": [],
   "source": [
    "df_filmes.loc[len(df_filmes)] = ['Rafaela', '50', '4']"
   ]
  },
  {
   "cell_type": "code",
   "execution_count": 206,
   "metadata": {},
   "outputs": [
    {
     "data": {
      "text/html": [
       "<div>\n",
       "<style scoped>\n",
       "    .dataframe tbody tr th:only-of-type {\n",
       "        vertical-align: middle;\n",
       "    }\n",
       "\n",
       "    .dataframe tbody tr th {\n",
       "        vertical-align: top;\n",
       "    }\n",
       "\n",
       "    .dataframe thead th {\n",
       "        text-align: right;\n",
       "    }\n",
       "</style>\n",
       "<table border=\"1\" class=\"dataframe\">\n",
       "  <thead>\n",
       "    <tr style=\"text-align: right;\">\n",
       "      <th></th>\n",
       "      <th>name</th>\n",
       "      <th>obs</th>\n",
       "      <th>rate</th>\n",
       "    </tr>\n",
       "  </thead>\n",
       "  <tbody>\n",
       "    <tr>\n",
       "      <th>0</th>\n",
       "      <td>Teste</td>\n",
       "      <td>50</td>\n",
       "      <td>4</td>\n",
       "    </tr>\n",
       "    <tr>\n",
       "      <th>1</th>\n",
       "      <td>Rafaela</td>\n",
       "      <td>50</td>\n",
       "      <td>4</td>\n",
       "    </tr>\n",
       "  </tbody>\n",
       "</table>\n",
       "</div>"
      ],
      "text/plain": [
       "      name obs rate\n",
       "0    Teste  50    4\n",
       "1  Rafaela  50    4"
      ]
     },
     "execution_count": 206,
     "metadata": {},
     "output_type": "execute_result"
    }
   ],
   "source": [
    "df_filmes"
   ]
  },
  {
   "cell_type": "code",
   "execution_count": 207,
   "metadata": {},
   "outputs": [
    {
     "data": {
      "text/plain": [
       "2"
      ]
     },
     "execution_count": 207,
     "metadata": {},
     "output_type": "execute_result"
    }
   ],
   "source": [
    "len(df_filmes)"
   ]
  },
  {
   "cell_type": "code",
   "execution_count": 208,
   "metadata": {},
   "outputs": [
    {
     "data": {
      "text/html": [
       "<div>\n",
       "<style scoped>\n",
       "    .dataframe tbody tr th:only-of-type {\n",
       "        vertical-align: middle;\n",
       "    }\n",
       "\n",
       "    .dataframe tbody tr th {\n",
       "        vertical-align: top;\n",
       "    }\n",
       "\n",
       "    .dataframe thead th {\n",
       "        text-align: right;\n",
       "    }\n",
       "</style>\n",
       "<table border=\"1\" class=\"dataframe\">\n",
       "  <thead>\n",
       "    <tr style=\"text-align: right;\">\n",
       "      <th></th>\n",
       "      <th>name</th>\n",
       "      <th>obs</th>\n",
       "      <th>rate</th>\n",
       "    </tr>\n",
       "  </thead>\n",
       "  <tbody>\n",
       "    <tr>\n",
       "      <th>0</th>\n",
       "      <td>Teste</td>\n",
       "      <td>50</td>\n",
       "      <td>4</td>\n",
       "    </tr>\n",
       "    <tr>\n",
       "      <th>1</th>\n",
       "      <td>Rafaela</td>\n",
       "      <td>50</td>\n",
       "      <td>4</td>\n",
       "    </tr>\n",
       "  </tbody>\n",
       "</table>\n",
       "</div>"
      ],
      "text/plain": [
       "      name obs rate\n",
       "0    Teste  50    4\n",
       "1  Rafaela  50    4"
      ]
     },
     "execution_count": 208,
     "metadata": {},
     "output_type": "execute_result"
    }
   ],
   "source": [
    "df_filmes"
   ]
  },
  {
   "cell_type": "code",
   "execution_count": null,
   "metadata": {},
   "outputs": [],
   "source": []
  },
  {
   "cell_type": "markdown",
   "metadata": {},
   "source": [
    "Deletar base de dados da memória"
   ]
  },
  {
   "cell_type": "code",
   "execution_count": 209,
   "metadata": {},
   "outputs": [],
   "source": [
    "del(df_filmes)"
   ]
  },
  {
   "cell_type": "code",
   "execution_count": 210,
   "metadata": {},
   "outputs": [
    {
     "ename": "NameError",
     "evalue": "name 'df_filmes' is not defined",
     "output_type": "error",
     "traceback": [
      "\u001b[0;31m---------------------------------------------------------------------------\u001b[0m",
      "\u001b[0;31mNameError\u001b[0m                                 Traceback (most recent call last)",
      "Cell \u001b[0;32mIn [210], line 1\u001b[0m\n\u001b[0;32m----> 1\u001b[0m \u001b[43mdf_filmes\u001b[49m\n",
      "\u001b[0;31mNameError\u001b[0m: name 'df_filmes' is not defined"
     ]
    }
   ],
   "source": [
    "df_filmes"
   ]
  },
  {
   "cell_type": "code",
   "execution_count": null,
   "metadata": {},
   "outputs": [],
   "source": []
  },
  {
   "cell_type": "code",
   "execution_count": null,
   "metadata": {},
   "outputs": [],
   "source": []
  },
  {
   "cell_type": "code",
   "execution_count": null,
   "metadata": {},
   "outputs": [],
   "source": []
  },
  {
   "cell_type": "code",
   "execution_count": 211,
   "metadata": {},
   "outputs": [],
   "source": [
    "df_filmes = pd.DataFrame(columns=('name', 'obs', 'rate'))"
   ]
  },
  {
   "cell_type": "code",
   "execution_count": 215,
   "metadata": {},
   "outputs": [],
   "source": [
    "import requests\n",
    "from bs4 import BeautifulSoup\n",
    "import unicodedata\n",
    "url = ['http://www.imdb.com/title/tt5013056/', \n",
    "       'http://www.imdb.com/title/tt1790809/',\n",
    "       'http://www.imdb.com/title/tt1596346/',\n",
    "       'http://www.imdb.com/title/tt0092099/',\n",
    "       'http://www.imdb.com/title/tt0108052/']"
   ]
  },
  {
   "cell_type": "code",
   "execution_count": 216,
   "metadata": {},
   "outputs": [],
   "source": [
    "headers = {\n",
    "    \"accept\": \"text/html,application/xhtml+xml,application/xml;q=0.9,image/avif,image/webp,image/apng,*/*;q=0.8,application/signed-exchange;v=b3;q=0.9\",\n",
    "    \"accept-encoding\": \"gzip, deflate, br\",\n",
    "    \"accept-language\": \"en-US,en;q=0.9\",\n",
    "    \"sec-ch-ua\": \"'Not?A_Brand';v='8', 'Chromium';v='108', 'Google Chrome';v='108'\",\n",
    "    \"sec-ch-ua-mobile\": \"?0\",\n",
    "    \"sec-ch-ua-platform\": \"'macOS'\",\n",
    "    \"sec-fetch-dest\": \"document\",\n",
    "    \"sec-fetch-mode\": \"navigate\",\n",
    "    \"sec-fetch-site\": \"none\",\n",
    "    \"sec-fetch-user\": \"?1\",\n",
    "    \"upgrade-insecure-requests\": \"1\",\n",
    "    \"user-agent\": \"Mozilla/5.0 (Macintosh; Intel Mac OS X 10_15_7) AppleWebKit/537.36 (KHTML, like Gecko) Chrome/108.0.0.0 Safari/537.36\"}"
   ]
  },
  {
   "cell_type": "code",
   "execution_count": 213,
   "metadata": {},
   "outputs": [],
   "source": [
    "def strip_accents(s):\n",
    "    return ''.join(c for c in unicodedata.normalize('NFD', s) if unicodedata.category(c) != 'Mn')"
   ]
  },
  {
   "cell_type": "code",
   "execution_count": 214,
   "metadata": {},
   "outputs": [
    {
     "data": {
      "text/html": [
       "<div>\n",
       "<style scoped>\n",
       "    .dataframe tbody tr th:only-of-type {\n",
       "        vertical-align: middle;\n",
       "    }\n",
       "\n",
       "    .dataframe tbody tr th {\n",
       "        vertical-align: top;\n",
       "    }\n",
       "\n",
       "    .dataframe thead th {\n",
       "        text-align: right;\n",
       "    }\n",
       "</style>\n",
       "<table border=\"1\" class=\"dataframe\">\n",
       "  <thead>\n",
       "    <tr style=\"text-align: right;\">\n",
       "      <th></th>\n",
       "      <th>name</th>\n",
       "      <th>obs</th>\n",
       "      <th>rate</th>\n",
       "    </tr>\n",
       "  </thead>\n",
       "  <tbody>\n",
       "  </tbody>\n",
       "</table>\n",
       "</div>"
      ],
      "text/plain": [
       "Empty DataFrame\n",
       "Columns: [name, obs, rate]\n",
       "Index: []"
      ]
     },
     "execution_count": 214,
     "metadata": {},
     "output_type": "execute_result"
    }
   ],
   "source": [
    "df_filmes"
   ]
  },
  {
   "cell_type": "code",
   "execution_count": 217,
   "metadata": {},
   "outputs": [],
   "source": [
    "for item in url:\n",
    "    response = requests.get(item, headers=headers)\n",
    "    soup = BeautifulSoup(response.text, 'lxml')\n",
    "    name = strip_accents(soup.title.text)\n",
    "    rate = soup.find_all(\"span\", attrs={\"class\": \"sc-bde20123-1 iZlgcd\"})[0].text\n",
    "    obs = soup.find_all(\"div\", attrs={\"class\": \"sc-bde20123-3 bjjENQ\"})[0].text\n",
    "    #print(name, obs, rate)\n",
    "    df_filmes.loc[len(df_filmes)] = [name, obs, rate]"
   ]
  },
  {
   "cell_type": "code",
   "execution_count": 218,
   "metadata": {},
   "outputs": [
    {
     "data": {
      "text/html": [
       "<div>\n",
       "<style scoped>\n",
       "    .dataframe tbody tr th:only-of-type {\n",
       "        vertical-align: middle;\n",
       "    }\n",
       "\n",
       "    .dataframe tbody tr th {\n",
       "        vertical-align: top;\n",
       "    }\n",
       "\n",
       "    .dataframe thead th {\n",
       "        text-align: right;\n",
       "    }\n",
       "</style>\n",
       "<table border=\"1\" class=\"dataframe\">\n",
       "  <thead>\n",
       "    <tr style=\"text-align: right;\">\n",
       "      <th></th>\n",
       "      <th>name</th>\n",
       "      <th>obs</th>\n",
       "      <th>rate</th>\n",
       "    </tr>\n",
       "  </thead>\n",
       "  <tbody>\n",
       "    <tr>\n",
       "      <th>0</th>\n",
       "      <td>Dunkirk (2017) - IMDb</td>\n",
       "      <td>713K</td>\n",
       "      <td>7.8</td>\n",
       "    </tr>\n",
       "    <tr>\n",
       "      <th>1</th>\n",
       "      <td>Pirates of the Caribbean: Dead Men Tell No Tal...</td>\n",
       "      <td>333K</td>\n",
       "      <td>6.5</td>\n",
       "    </tr>\n",
       "    <tr>\n",
       "      <th>2</th>\n",
       "      <td>Soul Surfer (2011) - IMDb</td>\n",
       "      <td>52K</td>\n",
       "      <td>7.0</td>\n",
       "    </tr>\n",
       "    <tr>\n",
       "      <th>3</th>\n",
       "      <td>Top Gun (1986) - IMDb</td>\n",
       "      <td>485K</td>\n",
       "      <td>6.9</td>\n",
       "    </tr>\n",
       "    <tr>\n",
       "      <th>4</th>\n",
       "      <td>Schindler's List (1993) - IMDb</td>\n",
       "      <td>1.4M</td>\n",
       "      <td>9.0</td>\n",
       "    </tr>\n",
       "  </tbody>\n",
       "</table>\n",
       "</div>"
      ],
      "text/plain": [
       "                                                name   obs rate\n",
       "0                              Dunkirk (2017) - IMDb  713K  7.8\n",
       "1  Pirates of the Caribbean: Dead Men Tell No Tal...  333K  6.5\n",
       "2                          Soul Surfer (2011) - IMDb   52K  7.0\n",
       "3                              Top Gun (1986) - IMDb  485K  6.9\n",
       "4                     Schindler's List (1993) - IMDb  1.4M  9.0"
      ]
     },
     "execution_count": 218,
     "metadata": {},
     "output_type": "execute_result"
    }
   ],
   "source": [
    "df_filmes"
   ]
  },
  {
   "cell_type": "code",
   "execution_count": 219,
   "metadata": {},
   "outputs": [
    {
     "data": {
      "text/plain": [
       "name    object\n",
       "obs     object\n",
       "rate    object\n",
       "dtype: object"
      ]
     },
     "execution_count": 219,
     "metadata": {},
     "output_type": "execute_result"
    }
   ],
   "source": [
    "df_filmes.dtypes"
   ]
  },
  {
   "cell_type": "markdown",
   "metadata": {},
   "source": [
    "Podemos observar o tipo de variável. No caso de rate, ela é um object. Ou seja, não numérica."
   ]
  },
  {
   "cell_type": "code",
   "execution_count": 220,
   "metadata": {},
   "outputs": [
    {
     "data": {
      "text/plain": [
       "'713K'"
      ]
     },
     "execution_count": 220,
     "metadata": {},
     "output_type": "execute_result"
    }
   ],
   "source": [
    "df_filmes[\"obs\"].max()"
   ]
  },
  {
   "cell_type": "markdown",
   "metadata": {},
   "source": [
    "Neste caso, não conseguimos obter estatísticas"
   ]
  },
  {
   "cell_type": "code",
   "execution_count": 221,
   "metadata": {},
   "outputs": [
    {
     "data": {
      "text/plain": [
       "'7.86.57.06.99.0'"
      ]
     },
     "execution_count": 221,
     "metadata": {},
     "output_type": "execute_result"
    }
   ],
   "source": [
    "df_filmes[\"rate\"].sum()"
   ]
  },
  {
   "cell_type": "code",
   "execution_count": 222,
   "metadata": {},
   "outputs": [
    {
     "data": {
      "text/plain": [
       "0    7.8\n",
       "1    6.5\n",
       "2    7.0\n",
       "3    6.9\n",
       "4    9.0\n",
       "Name: rate, dtype: float64"
      ]
     },
     "execution_count": 222,
     "metadata": {},
     "output_type": "execute_result"
    }
   ],
   "source": [
    "pd.to_numeric(df_filmes[\"rate\"])"
   ]
  },
  {
   "cell_type": "code",
   "execution_count": null,
   "metadata": {},
   "outputs": [],
   "source": []
  },
  {
   "cell_type": "markdown",
   "metadata": {},
   "source": [
    "Mas podemos converter: "
   ]
  },
  {
   "cell_type": "code",
   "execution_count": 223,
   "metadata": {},
   "outputs": [],
   "source": [
    "df_filmes[\"rate\"] = pd.to_numeric(df_filmes[\"rate\"])"
   ]
  },
  {
   "cell_type": "code",
   "execution_count": 224,
   "metadata": {},
   "outputs": [
    {
     "data": {
      "text/html": [
       "<div>\n",
       "<style scoped>\n",
       "    .dataframe tbody tr th:only-of-type {\n",
       "        vertical-align: middle;\n",
       "    }\n",
       "\n",
       "    .dataframe tbody tr th {\n",
       "        vertical-align: top;\n",
       "    }\n",
       "\n",
       "    .dataframe thead th {\n",
       "        text-align: right;\n",
       "    }\n",
       "</style>\n",
       "<table border=\"1\" class=\"dataframe\">\n",
       "  <thead>\n",
       "    <tr style=\"text-align: right;\">\n",
       "      <th></th>\n",
       "      <th>name</th>\n",
       "      <th>obs</th>\n",
       "      <th>rate</th>\n",
       "    </tr>\n",
       "  </thead>\n",
       "  <tbody>\n",
       "    <tr>\n",
       "      <th>0</th>\n",
       "      <td>Dunkirk (2017) - IMDb</td>\n",
       "      <td>713K</td>\n",
       "      <td>7.8</td>\n",
       "    </tr>\n",
       "    <tr>\n",
       "      <th>1</th>\n",
       "      <td>Pirates of the Caribbean: Dead Men Tell No Tal...</td>\n",
       "      <td>333K</td>\n",
       "      <td>6.5</td>\n",
       "    </tr>\n",
       "    <tr>\n",
       "      <th>2</th>\n",
       "      <td>Soul Surfer (2011) - IMDb</td>\n",
       "      <td>52K</td>\n",
       "      <td>7.0</td>\n",
       "    </tr>\n",
       "    <tr>\n",
       "      <th>3</th>\n",
       "      <td>Top Gun (1986) - IMDb</td>\n",
       "      <td>485K</td>\n",
       "      <td>6.9</td>\n",
       "    </tr>\n",
       "    <tr>\n",
       "      <th>4</th>\n",
       "      <td>Schindler's List (1993) - IMDb</td>\n",
       "      <td>1.4M</td>\n",
       "      <td>9.0</td>\n",
       "    </tr>\n",
       "  </tbody>\n",
       "</table>\n",
       "</div>"
      ],
      "text/plain": [
       "                                                name   obs  rate\n",
       "0                              Dunkirk (2017) - IMDb  713K   7.8\n",
       "1  Pirates of the Caribbean: Dead Men Tell No Tal...  333K   6.5\n",
       "2                          Soul Surfer (2011) - IMDb   52K   7.0\n",
       "3                              Top Gun (1986) - IMDb  485K   6.9\n",
       "4                     Schindler's List (1993) - IMDb  1.4M   9.0"
      ]
     },
     "execution_count": 224,
     "metadata": {},
     "output_type": "execute_result"
    }
   ],
   "source": [
    "df_filmes"
   ]
  },
  {
   "cell_type": "code",
   "execution_count": null,
   "metadata": {},
   "outputs": [],
   "source": []
  },
  {
   "cell_type": "code",
   "execution_count": 225,
   "metadata": {},
   "outputs": [
    {
     "data": {
      "text/plain": [
       "0    7.8\n",
       "1    6.5\n",
       "2    7.0\n",
       "3    6.9\n",
       "4    9.0\n",
       "Name: rate, dtype: float64"
      ]
     },
     "execution_count": 225,
     "metadata": {},
     "output_type": "execute_result"
    }
   ],
   "source": [
    "df_filmes[\"rate\"]"
   ]
  },
  {
   "cell_type": "code",
   "execution_count": 226,
   "metadata": {},
   "outputs": [
    {
     "data": {
      "text/plain": [
       "37.2"
      ]
     },
     "execution_count": 226,
     "metadata": {},
     "output_type": "execute_result"
    }
   ],
   "source": [
    "df_filmes[\"rate\"].sum()"
   ]
  },
  {
   "cell_type": "code",
   "execution_count": 227,
   "metadata": {},
   "outputs": [
    {
     "data": {
      "text/plain": [
       "name     object\n",
       "obs      object\n",
       "rate    float64\n",
       "dtype: object"
      ]
     },
     "execution_count": 227,
     "metadata": {},
     "output_type": "execute_result"
    }
   ],
   "source": [
    "df_filmes.dtypes"
   ]
  },
  {
   "cell_type": "code",
   "execution_count": 228,
   "metadata": {},
   "outputs": [
    {
     "name": "stdout",
     "output_type": "stream",
     "text": [
      "37.2\n",
      "9.0\n",
      "6.5\n",
      "7.44\n"
     ]
    }
   ],
   "source": [
    "print(df_filmes[\"rate\"].sum())\n",
    "print(df_filmes[\"rate\"].max())\n",
    "print(df_filmes[\"rate\"].min())\n",
    "print(df_filmes[\"rate\"].mean())"
   ]
  },
  {
   "cell_type": "code",
   "execution_count": 229,
   "metadata": {},
   "outputs": [
    {
     "data": {
      "text/html": [
       "<div>\n",
       "<style scoped>\n",
       "    .dataframe tbody tr th:only-of-type {\n",
       "        vertical-align: middle;\n",
       "    }\n",
       "\n",
       "    .dataframe tbody tr th {\n",
       "        vertical-align: top;\n",
       "    }\n",
       "\n",
       "    .dataframe thead th {\n",
       "        text-align: right;\n",
       "    }\n",
       "</style>\n",
       "<table border=\"1\" class=\"dataframe\">\n",
       "  <thead>\n",
       "    <tr style=\"text-align: right;\">\n",
       "      <th></th>\n",
       "      <th>name</th>\n",
       "      <th>obs</th>\n",
       "      <th>rate</th>\n",
       "    </tr>\n",
       "  </thead>\n",
       "  <tbody>\n",
       "    <tr>\n",
       "      <th>0</th>\n",
       "      <td>Dunkirk (2017) - IMDb</td>\n",
       "      <td>713K</td>\n",
       "      <td>7.8</td>\n",
       "    </tr>\n",
       "    <tr>\n",
       "      <th>1</th>\n",
       "      <td>Pirates of the Caribbean: Dead Men Tell No Tal...</td>\n",
       "      <td>333K</td>\n",
       "      <td>6.5</td>\n",
       "    </tr>\n",
       "    <tr>\n",
       "      <th>2</th>\n",
       "      <td>Soul Surfer (2011) - IMDb</td>\n",
       "      <td>52K</td>\n",
       "      <td>7.0</td>\n",
       "    </tr>\n",
       "    <tr>\n",
       "      <th>3</th>\n",
       "      <td>Top Gun (1986) - IMDb</td>\n",
       "      <td>485K</td>\n",
       "      <td>6.9</td>\n",
       "    </tr>\n",
       "    <tr>\n",
       "      <th>4</th>\n",
       "      <td>Schindler's List (1993) - IMDb</td>\n",
       "      <td>1.4M</td>\n",
       "      <td>9.0</td>\n",
       "    </tr>\n",
       "  </tbody>\n",
       "</table>\n",
       "</div>"
      ],
      "text/plain": [
       "                                                name   obs  rate\n",
       "0                              Dunkirk (2017) - IMDb  713K   7.8\n",
       "1  Pirates of the Caribbean: Dead Men Tell No Tal...  333K   6.5\n",
       "2                          Soul Surfer (2011) - IMDb   52K   7.0\n",
       "3                              Top Gun (1986) - IMDb  485K   6.9\n",
       "4                     Schindler's List (1993) - IMDb  1.4M   9.0"
      ]
     },
     "execution_count": 229,
     "metadata": {},
     "output_type": "execute_result"
    }
   ],
   "source": [
    "df_filmes"
   ]
  },
  {
   "cell_type": "code",
   "execution_count": 230,
   "metadata": {},
   "outputs": [],
   "source": [
    "df_filmes[\"obs\"] = df_filmes[\"obs\"].apply(lambda x: x.replace(\"K\", \"000\").replace(\"M\", \"00000\").replace(\".\", \"\"))"
   ]
  },
  {
   "cell_type": "code",
   "execution_count": 231,
   "metadata": {},
   "outputs": [
    {
     "data": {
      "text/html": [
       "<div>\n",
       "<style scoped>\n",
       "    .dataframe tbody tr th:only-of-type {\n",
       "        vertical-align: middle;\n",
       "    }\n",
       "\n",
       "    .dataframe tbody tr th {\n",
       "        vertical-align: top;\n",
       "    }\n",
       "\n",
       "    .dataframe thead th {\n",
       "        text-align: right;\n",
       "    }\n",
       "</style>\n",
       "<table border=\"1\" class=\"dataframe\">\n",
       "  <thead>\n",
       "    <tr style=\"text-align: right;\">\n",
       "      <th></th>\n",
       "      <th>name</th>\n",
       "      <th>obs</th>\n",
       "      <th>rate</th>\n",
       "    </tr>\n",
       "  </thead>\n",
       "  <tbody>\n",
       "    <tr>\n",
       "      <th>0</th>\n",
       "      <td>Dunkirk (2017) - IMDb</td>\n",
       "      <td>713000</td>\n",
       "      <td>7.8</td>\n",
       "    </tr>\n",
       "    <tr>\n",
       "      <th>1</th>\n",
       "      <td>Pirates of the Caribbean: Dead Men Tell No Tal...</td>\n",
       "      <td>333000</td>\n",
       "      <td>6.5</td>\n",
       "    </tr>\n",
       "    <tr>\n",
       "      <th>2</th>\n",
       "      <td>Soul Surfer (2011) - IMDb</td>\n",
       "      <td>52000</td>\n",
       "      <td>7.0</td>\n",
       "    </tr>\n",
       "    <tr>\n",
       "      <th>3</th>\n",
       "      <td>Top Gun (1986) - IMDb</td>\n",
       "      <td>485000</td>\n",
       "      <td>6.9</td>\n",
       "    </tr>\n",
       "    <tr>\n",
       "      <th>4</th>\n",
       "      <td>Schindler's List (1993) - IMDb</td>\n",
       "      <td>1400000</td>\n",
       "      <td>9.0</td>\n",
       "    </tr>\n",
       "  </tbody>\n",
       "</table>\n",
       "</div>"
      ],
      "text/plain": [
       "                                                name      obs  rate\n",
       "0                              Dunkirk (2017) - IMDb   713000   7.8\n",
       "1  Pirates of the Caribbean: Dead Men Tell No Tal...   333000   6.5\n",
       "2                          Soul Surfer (2011) - IMDb    52000   7.0\n",
       "3                              Top Gun (1986) - IMDb   485000   6.9\n",
       "4                     Schindler's List (1993) - IMDb  1400000   9.0"
      ]
     },
     "execution_count": 231,
     "metadata": {},
     "output_type": "execute_result"
    }
   ],
   "source": [
    "df_filmes"
   ]
  },
  {
   "cell_type": "code",
   "execution_count": 232,
   "metadata": {},
   "outputs": [],
   "source": [
    "df_filmes[\"obs\"] = pd.to_numeric(df_filmes[\"obs\"])"
   ]
  },
  {
   "cell_type": "code",
   "execution_count": 233,
   "metadata": {},
   "outputs": [
    {
     "data": {
      "text/plain": [
       "name     object\n",
       "obs       int64\n",
       "rate    float64\n",
       "dtype: object"
      ]
     },
     "execution_count": 233,
     "metadata": {},
     "output_type": "execute_result"
    }
   ],
   "source": [
    "df_filmes.dtypes"
   ]
  },
  {
   "cell_type": "code",
   "execution_count": 234,
   "metadata": {},
   "outputs": [
    {
     "data": {
      "text/html": [
       "<div>\n",
       "<style scoped>\n",
       "    .dataframe tbody tr th:only-of-type {\n",
       "        vertical-align: middle;\n",
       "    }\n",
       "\n",
       "    .dataframe tbody tr th {\n",
       "        vertical-align: top;\n",
       "    }\n",
       "\n",
       "    .dataframe thead th {\n",
       "        text-align: right;\n",
       "    }\n",
       "</style>\n",
       "<table border=\"1\" class=\"dataframe\">\n",
       "  <thead>\n",
       "    <tr style=\"text-align: right;\">\n",
       "      <th></th>\n",
       "      <th>name</th>\n",
       "      <th>obs</th>\n",
       "      <th>rate</th>\n",
       "    </tr>\n",
       "  </thead>\n",
       "  <tbody>\n",
       "    <tr>\n",
       "      <th>0</th>\n",
       "      <td>Dunkirk (2017) - IMDb</td>\n",
       "      <td>713000</td>\n",
       "      <td>7.8</td>\n",
       "    </tr>\n",
       "    <tr>\n",
       "      <th>1</th>\n",
       "      <td>Pirates of the Caribbean: Dead Men Tell No Tal...</td>\n",
       "      <td>333000</td>\n",
       "      <td>6.5</td>\n",
       "    </tr>\n",
       "    <tr>\n",
       "      <th>2</th>\n",
       "      <td>Soul Surfer (2011) - IMDb</td>\n",
       "      <td>52000</td>\n",
       "      <td>7.0</td>\n",
       "    </tr>\n",
       "    <tr>\n",
       "      <th>3</th>\n",
       "      <td>Top Gun (1986) - IMDb</td>\n",
       "      <td>485000</td>\n",
       "      <td>6.9</td>\n",
       "    </tr>\n",
       "    <tr>\n",
       "      <th>4</th>\n",
       "      <td>Schindler's List (1993) - IMDb</td>\n",
       "      <td>1400000</td>\n",
       "      <td>9.0</td>\n",
       "    </tr>\n",
       "  </tbody>\n",
       "</table>\n",
       "</div>"
      ],
      "text/plain": [
       "                                                name      obs  rate\n",
       "0                              Dunkirk (2017) - IMDb   713000   7.8\n",
       "1  Pirates of the Caribbean: Dead Men Tell No Tal...   333000   6.5\n",
       "2                          Soul Surfer (2011) - IMDb    52000   7.0\n",
       "3                              Top Gun (1986) - IMDb   485000   6.9\n",
       "4                     Schindler's List (1993) - IMDb  1400000   9.0"
      ]
     },
     "execution_count": 234,
     "metadata": {},
     "output_type": "execute_result"
    }
   ],
   "source": [
    "df_filmes"
   ]
  },
  {
   "cell_type": "code",
   "execution_count": 235,
   "metadata": {},
   "outputs": [
    {
     "data": {
      "text/html": [
       "<div>\n",
       "<style scoped>\n",
       "    .dataframe tbody tr th:only-of-type {\n",
       "        vertical-align: middle;\n",
       "    }\n",
       "\n",
       "    .dataframe tbody tr th {\n",
       "        vertical-align: top;\n",
       "    }\n",
       "\n",
       "    .dataframe thead th {\n",
       "        text-align: right;\n",
       "    }\n",
       "</style>\n",
       "<table border=\"1\" class=\"dataframe\">\n",
       "  <thead>\n",
       "    <tr style=\"text-align: right;\">\n",
       "      <th></th>\n",
       "      <th>dum_Dunkirk (2017) - IMDb</th>\n",
       "      <th>dum_Pirates of the Caribbean: Dead Men Tell No Tales (2017) - IMDb</th>\n",
       "      <th>dum_Schindler's List (1993) - IMDb</th>\n",
       "      <th>dum_Soul Surfer (2011) - IMDb</th>\n",
       "      <th>dum_Top Gun (1986) - IMDb</th>\n",
       "    </tr>\n",
       "  </thead>\n",
       "  <tbody>\n",
       "    <tr>\n",
       "      <th>0</th>\n",
       "      <td>1</td>\n",
       "      <td>0</td>\n",
       "      <td>0</td>\n",
       "      <td>0</td>\n",
       "      <td>0</td>\n",
       "    </tr>\n",
       "    <tr>\n",
       "      <th>1</th>\n",
       "      <td>0</td>\n",
       "      <td>1</td>\n",
       "      <td>0</td>\n",
       "      <td>0</td>\n",
       "      <td>0</td>\n",
       "    </tr>\n",
       "    <tr>\n",
       "      <th>2</th>\n",
       "      <td>0</td>\n",
       "      <td>0</td>\n",
       "      <td>0</td>\n",
       "      <td>1</td>\n",
       "      <td>0</td>\n",
       "    </tr>\n",
       "    <tr>\n",
       "      <th>3</th>\n",
       "      <td>0</td>\n",
       "      <td>0</td>\n",
       "      <td>0</td>\n",
       "      <td>0</td>\n",
       "      <td>1</td>\n",
       "    </tr>\n",
       "    <tr>\n",
       "      <th>4</th>\n",
       "      <td>0</td>\n",
       "      <td>0</td>\n",
       "      <td>1</td>\n",
       "      <td>0</td>\n",
       "      <td>0</td>\n",
       "    </tr>\n",
       "  </tbody>\n",
       "</table>\n",
       "</div>"
      ],
      "text/plain": [
       "   dum_Dunkirk (2017) - IMDb  \\\n",
       "0                          1   \n",
       "1                          0   \n",
       "2                          0   \n",
       "3                          0   \n",
       "4                          0   \n",
       "\n",
       "   dum_Pirates of the Caribbean: Dead Men Tell No Tales (2017) - IMDb  \\\n",
       "0                                                  0                    \n",
       "1                                                  1                    \n",
       "2                                                  0                    \n",
       "3                                                  0                    \n",
       "4                                                  0                    \n",
       "\n",
       "   dum_Schindler's List (1993) - IMDb  dum_Soul Surfer (2011) - IMDb  \\\n",
       "0                                   0                              0   \n",
       "1                                   0                              0   \n",
       "2                                   0                              1   \n",
       "3                                   0                              0   \n",
       "4                                   1                              0   \n",
       "\n",
       "   dum_Top Gun (1986) - IMDb  \n",
       "0                          0  \n",
       "1                          0  \n",
       "2                          0  \n",
       "3                          1  \n",
       "4                          0  "
      ]
     },
     "execution_count": 235,
     "metadata": {},
     "output_type": "execute_result"
    }
   ],
   "source": [
    "pd.get_dummies(df_filmes['name'], prefix=\"dum\")"
   ]
  },
  {
   "cell_type": "markdown",
   "metadata": {},
   "source": [
    "Uma outra operação importante é obter dummies. Iremos criar uma outra base com a dummies e depois juntar a base original"
   ]
  },
  {
   "cell_type": "code",
   "execution_count": 236,
   "metadata": {},
   "outputs": [],
   "source": [
    "df_dum = pd.get_dummies(df_filmes['name'])"
   ]
  },
  {
   "cell_type": "code",
   "execution_count": 237,
   "metadata": {},
   "outputs": [
    {
     "data": {
      "text/html": [
       "<div>\n",
       "<style scoped>\n",
       "    .dataframe tbody tr th:only-of-type {\n",
       "        vertical-align: middle;\n",
       "    }\n",
       "\n",
       "    .dataframe tbody tr th {\n",
       "        vertical-align: top;\n",
       "    }\n",
       "\n",
       "    .dataframe thead th {\n",
       "        text-align: right;\n",
       "    }\n",
       "</style>\n",
       "<table border=\"1\" class=\"dataframe\">\n",
       "  <thead>\n",
       "    <tr style=\"text-align: right;\">\n",
       "      <th></th>\n",
       "      <th>Dunkirk (2017) - IMDb</th>\n",
       "      <th>Pirates of the Caribbean: Dead Men Tell No Tales (2017) - IMDb</th>\n",
       "      <th>Schindler's List (1993) - IMDb</th>\n",
       "      <th>Soul Surfer (2011) - IMDb</th>\n",
       "      <th>Top Gun (1986) - IMDb</th>\n",
       "    </tr>\n",
       "  </thead>\n",
       "  <tbody>\n",
       "    <tr>\n",
       "      <th>0</th>\n",
       "      <td>1</td>\n",
       "      <td>0</td>\n",
       "      <td>0</td>\n",
       "      <td>0</td>\n",
       "      <td>0</td>\n",
       "    </tr>\n",
       "    <tr>\n",
       "      <th>1</th>\n",
       "      <td>0</td>\n",
       "      <td>1</td>\n",
       "      <td>0</td>\n",
       "      <td>0</td>\n",
       "      <td>0</td>\n",
       "    </tr>\n",
       "    <tr>\n",
       "      <th>2</th>\n",
       "      <td>0</td>\n",
       "      <td>0</td>\n",
       "      <td>0</td>\n",
       "      <td>1</td>\n",
       "      <td>0</td>\n",
       "    </tr>\n",
       "    <tr>\n",
       "      <th>3</th>\n",
       "      <td>0</td>\n",
       "      <td>0</td>\n",
       "      <td>0</td>\n",
       "      <td>0</td>\n",
       "      <td>1</td>\n",
       "    </tr>\n",
       "    <tr>\n",
       "      <th>4</th>\n",
       "      <td>0</td>\n",
       "      <td>0</td>\n",
       "      <td>1</td>\n",
       "      <td>0</td>\n",
       "      <td>0</td>\n",
       "    </tr>\n",
       "  </tbody>\n",
       "</table>\n",
       "</div>"
      ],
      "text/plain": [
       "   Dunkirk (2017) - IMDb  \\\n",
       "0                      1   \n",
       "1                      0   \n",
       "2                      0   \n",
       "3                      0   \n",
       "4                      0   \n",
       "\n",
       "   Pirates of the Caribbean: Dead Men Tell No Tales (2017) - IMDb  \\\n",
       "0                                                  0                \n",
       "1                                                  1                \n",
       "2                                                  0                \n",
       "3                                                  0                \n",
       "4                                                  0                \n",
       "\n",
       "   Schindler's List (1993) - IMDb  Soul Surfer (2011) - IMDb  \\\n",
       "0                               0                          0   \n",
       "1                               0                          0   \n",
       "2                               0                          1   \n",
       "3                               0                          0   \n",
       "4                               1                          0   \n",
       "\n",
       "   Top Gun (1986) - IMDb  \n",
       "0                      0  \n",
       "1                      0  \n",
       "2                      0  \n",
       "3                      1  \n",
       "4                      0  "
      ]
     },
     "execution_count": 237,
     "metadata": {},
     "output_type": "execute_result"
    }
   ],
   "source": [
    "df_dum"
   ]
  },
  {
   "cell_type": "markdown",
   "metadata": {},
   "source": [
    "Podemos usar o comando ``pd.concat``para concatenar as duas bases"
   ]
  },
  {
   "cell_type": "code",
   "execution_count": 238,
   "metadata": {},
   "outputs": [
    {
     "data": {
      "text/html": [
       "<div>\n",
       "<style scoped>\n",
       "    .dataframe tbody tr th:only-of-type {\n",
       "        vertical-align: middle;\n",
       "    }\n",
       "\n",
       "    .dataframe tbody tr th {\n",
       "        vertical-align: top;\n",
       "    }\n",
       "\n",
       "    .dataframe thead th {\n",
       "        text-align: right;\n",
       "    }\n",
       "</style>\n",
       "<table border=\"1\" class=\"dataframe\">\n",
       "  <thead>\n",
       "    <tr style=\"text-align: right;\">\n",
       "      <th></th>\n",
       "      <th>name</th>\n",
       "      <th>obs</th>\n",
       "      <th>rate</th>\n",
       "      <th>Dunkirk (2017) - IMDb</th>\n",
       "      <th>Pirates of the Caribbean: Dead Men Tell No Tales (2017) - IMDb</th>\n",
       "      <th>Schindler's List (1993) - IMDb</th>\n",
       "      <th>Soul Surfer (2011) - IMDb</th>\n",
       "      <th>Top Gun (1986) - IMDb</th>\n",
       "    </tr>\n",
       "  </thead>\n",
       "  <tbody>\n",
       "    <tr>\n",
       "      <th>0</th>\n",
       "      <td>Dunkirk (2017) - IMDb</td>\n",
       "      <td>713000.0</td>\n",
       "      <td>7.8</td>\n",
       "      <td>NaN</td>\n",
       "      <td>NaN</td>\n",
       "      <td>NaN</td>\n",
       "      <td>NaN</td>\n",
       "      <td>NaN</td>\n",
       "    </tr>\n",
       "    <tr>\n",
       "      <th>1</th>\n",
       "      <td>Pirates of the Caribbean: Dead Men Tell No Tal...</td>\n",
       "      <td>333000.0</td>\n",
       "      <td>6.5</td>\n",
       "      <td>NaN</td>\n",
       "      <td>NaN</td>\n",
       "      <td>NaN</td>\n",
       "      <td>NaN</td>\n",
       "      <td>NaN</td>\n",
       "    </tr>\n",
       "    <tr>\n",
       "      <th>2</th>\n",
       "      <td>Soul Surfer (2011) - IMDb</td>\n",
       "      <td>52000.0</td>\n",
       "      <td>7.0</td>\n",
       "      <td>NaN</td>\n",
       "      <td>NaN</td>\n",
       "      <td>NaN</td>\n",
       "      <td>NaN</td>\n",
       "      <td>NaN</td>\n",
       "    </tr>\n",
       "    <tr>\n",
       "      <th>3</th>\n",
       "      <td>Top Gun (1986) - IMDb</td>\n",
       "      <td>485000.0</td>\n",
       "      <td>6.9</td>\n",
       "      <td>NaN</td>\n",
       "      <td>NaN</td>\n",
       "      <td>NaN</td>\n",
       "      <td>NaN</td>\n",
       "      <td>NaN</td>\n",
       "    </tr>\n",
       "    <tr>\n",
       "      <th>4</th>\n",
       "      <td>Schindler's List (1993) - IMDb</td>\n",
       "      <td>1400000.0</td>\n",
       "      <td>9.0</td>\n",
       "      <td>NaN</td>\n",
       "      <td>NaN</td>\n",
       "      <td>NaN</td>\n",
       "      <td>NaN</td>\n",
       "      <td>NaN</td>\n",
       "    </tr>\n",
       "    <tr>\n",
       "      <th>0</th>\n",
       "      <td>NaN</td>\n",
       "      <td>NaN</td>\n",
       "      <td>NaN</td>\n",
       "      <td>1.0</td>\n",
       "      <td>0.0</td>\n",
       "      <td>0.0</td>\n",
       "      <td>0.0</td>\n",
       "      <td>0.0</td>\n",
       "    </tr>\n",
       "    <tr>\n",
       "      <th>1</th>\n",
       "      <td>NaN</td>\n",
       "      <td>NaN</td>\n",
       "      <td>NaN</td>\n",
       "      <td>0.0</td>\n",
       "      <td>1.0</td>\n",
       "      <td>0.0</td>\n",
       "      <td>0.0</td>\n",
       "      <td>0.0</td>\n",
       "    </tr>\n",
       "    <tr>\n",
       "      <th>2</th>\n",
       "      <td>NaN</td>\n",
       "      <td>NaN</td>\n",
       "      <td>NaN</td>\n",
       "      <td>0.0</td>\n",
       "      <td>0.0</td>\n",
       "      <td>0.0</td>\n",
       "      <td>1.0</td>\n",
       "      <td>0.0</td>\n",
       "    </tr>\n",
       "    <tr>\n",
       "      <th>3</th>\n",
       "      <td>NaN</td>\n",
       "      <td>NaN</td>\n",
       "      <td>NaN</td>\n",
       "      <td>0.0</td>\n",
       "      <td>0.0</td>\n",
       "      <td>0.0</td>\n",
       "      <td>0.0</td>\n",
       "      <td>1.0</td>\n",
       "    </tr>\n",
       "    <tr>\n",
       "      <th>4</th>\n",
       "      <td>NaN</td>\n",
       "      <td>NaN</td>\n",
       "      <td>NaN</td>\n",
       "      <td>0.0</td>\n",
       "      <td>0.0</td>\n",
       "      <td>1.0</td>\n",
       "      <td>0.0</td>\n",
       "      <td>0.0</td>\n",
       "    </tr>\n",
       "  </tbody>\n",
       "</table>\n",
       "</div>"
      ],
      "text/plain": [
       "                                                name        obs  rate  \\\n",
       "0                              Dunkirk (2017) - IMDb   713000.0   7.8   \n",
       "1  Pirates of the Caribbean: Dead Men Tell No Tal...   333000.0   6.5   \n",
       "2                          Soul Surfer (2011) - IMDb    52000.0   7.0   \n",
       "3                              Top Gun (1986) - IMDb   485000.0   6.9   \n",
       "4                     Schindler's List (1993) - IMDb  1400000.0   9.0   \n",
       "0                                                NaN        NaN   NaN   \n",
       "1                                                NaN        NaN   NaN   \n",
       "2                                                NaN        NaN   NaN   \n",
       "3                                                NaN        NaN   NaN   \n",
       "4                                                NaN        NaN   NaN   \n",
       "\n",
       "   Dunkirk (2017) - IMDb  \\\n",
       "0                    NaN   \n",
       "1                    NaN   \n",
       "2                    NaN   \n",
       "3                    NaN   \n",
       "4                    NaN   \n",
       "0                    1.0   \n",
       "1                    0.0   \n",
       "2                    0.0   \n",
       "3                    0.0   \n",
       "4                    0.0   \n",
       "\n",
       "   Pirates of the Caribbean: Dead Men Tell No Tales (2017) - IMDb  \\\n",
       "0                                                NaN                \n",
       "1                                                NaN                \n",
       "2                                                NaN                \n",
       "3                                                NaN                \n",
       "4                                                NaN                \n",
       "0                                                0.0                \n",
       "1                                                1.0                \n",
       "2                                                0.0                \n",
       "3                                                0.0                \n",
       "4                                                0.0                \n",
       "\n",
       "   Schindler's List (1993) - IMDb  Soul Surfer (2011) - IMDb  \\\n",
       "0                             NaN                        NaN   \n",
       "1                             NaN                        NaN   \n",
       "2                             NaN                        NaN   \n",
       "3                             NaN                        NaN   \n",
       "4                             NaN                        NaN   \n",
       "0                             0.0                        0.0   \n",
       "1                             0.0                        0.0   \n",
       "2                             0.0                        1.0   \n",
       "3                             0.0                        0.0   \n",
       "4                             1.0                        0.0   \n",
       "\n",
       "   Top Gun (1986) - IMDb  \n",
       "0                    NaN  \n",
       "1                    NaN  \n",
       "2                    NaN  \n",
       "3                    NaN  \n",
       "4                    NaN  \n",
       "0                    0.0  \n",
       "1                    0.0  \n",
       "2                    0.0  \n",
       "3                    1.0  \n",
       "4                    0.0  "
      ]
     },
     "execution_count": 238,
     "metadata": {},
     "output_type": "execute_result"
    }
   ],
   "source": [
    "pd.concat([df_filmes, df_dum])"
   ]
  },
  {
   "cell_type": "code",
   "execution_count": null,
   "metadata": {},
   "outputs": [],
   "source": []
  },
  {
   "cell_type": "code",
   "execution_count": 239,
   "metadata": {},
   "outputs": [],
   "source": [
    "df_filmes = pd.concat([df_filmes, df_dum], axis=1)"
   ]
  },
  {
   "cell_type": "code",
   "execution_count": 240,
   "metadata": {},
   "outputs": [
    {
     "data": {
      "text/html": [
       "<div>\n",
       "<style scoped>\n",
       "    .dataframe tbody tr th:only-of-type {\n",
       "        vertical-align: middle;\n",
       "    }\n",
       "\n",
       "    .dataframe tbody tr th {\n",
       "        vertical-align: top;\n",
       "    }\n",
       "\n",
       "    .dataframe thead th {\n",
       "        text-align: right;\n",
       "    }\n",
       "</style>\n",
       "<table border=\"1\" class=\"dataframe\">\n",
       "  <thead>\n",
       "    <tr style=\"text-align: right;\">\n",
       "      <th></th>\n",
       "      <th>name</th>\n",
       "      <th>obs</th>\n",
       "      <th>rate</th>\n",
       "      <th>Dunkirk (2017) - IMDb</th>\n",
       "      <th>Pirates of the Caribbean: Dead Men Tell No Tales (2017) - IMDb</th>\n",
       "      <th>Schindler's List (1993) - IMDb</th>\n",
       "      <th>Soul Surfer (2011) - IMDb</th>\n",
       "      <th>Top Gun (1986) - IMDb</th>\n",
       "    </tr>\n",
       "  </thead>\n",
       "  <tbody>\n",
       "    <tr>\n",
       "      <th>0</th>\n",
       "      <td>Dunkirk (2017) - IMDb</td>\n",
       "      <td>713000</td>\n",
       "      <td>7.8</td>\n",
       "      <td>1</td>\n",
       "      <td>0</td>\n",
       "      <td>0</td>\n",
       "      <td>0</td>\n",
       "      <td>0</td>\n",
       "    </tr>\n",
       "    <tr>\n",
       "      <th>1</th>\n",
       "      <td>Pirates of the Caribbean: Dead Men Tell No Tal...</td>\n",
       "      <td>333000</td>\n",
       "      <td>6.5</td>\n",
       "      <td>0</td>\n",
       "      <td>1</td>\n",
       "      <td>0</td>\n",
       "      <td>0</td>\n",
       "      <td>0</td>\n",
       "    </tr>\n",
       "    <tr>\n",
       "      <th>2</th>\n",
       "      <td>Soul Surfer (2011) - IMDb</td>\n",
       "      <td>52000</td>\n",
       "      <td>7.0</td>\n",
       "      <td>0</td>\n",
       "      <td>0</td>\n",
       "      <td>0</td>\n",
       "      <td>1</td>\n",
       "      <td>0</td>\n",
       "    </tr>\n",
       "    <tr>\n",
       "      <th>3</th>\n",
       "      <td>Top Gun (1986) - IMDb</td>\n",
       "      <td>485000</td>\n",
       "      <td>6.9</td>\n",
       "      <td>0</td>\n",
       "      <td>0</td>\n",
       "      <td>0</td>\n",
       "      <td>0</td>\n",
       "      <td>1</td>\n",
       "    </tr>\n",
       "    <tr>\n",
       "      <th>4</th>\n",
       "      <td>Schindler's List (1993) - IMDb</td>\n",
       "      <td>1400000</td>\n",
       "      <td>9.0</td>\n",
       "      <td>0</td>\n",
       "      <td>0</td>\n",
       "      <td>1</td>\n",
       "      <td>0</td>\n",
       "      <td>0</td>\n",
       "    </tr>\n",
       "  </tbody>\n",
       "</table>\n",
       "</div>"
      ],
      "text/plain": [
       "                                                name      obs  rate  \\\n",
       "0                              Dunkirk (2017) - IMDb   713000   7.8   \n",
       "1  Pirates of the Caribbean: Dead Men Tell No Tal...   333000   6.5   \n",
       "2                          Soul Surfer (2011) - IMDb    52000   7.0   \n",
       "3                              Top Gun (1986) - IMDb   485000   6.9   \n",
       "4                     Schindler's List (1993) - IMDb  1400000   9.0   \n",
       "\n",
       "   Dunkirk (2017) - IMDb  \\\n",
       "0                      1   \n",
       "1                      0   \n",
       "2                      0   \n",
       "3                      0   \n",
       "4                      0   \n",
       "\n",
       "   Pirates of the Caribbean: Dead Men Tell No Tales (2017) - IMDb  \\\n",
       "0                                                  0                \n",
       "1                                                  1                \n",
       "2                                                  0                \n",
       "3                                                  0                \n",
       "4                                                  0                \n",
       "\n",
       "   Schindler's List (1993) - IMDb  Soul Surfer (2011) - IMDb  \\\n",
       "0                               0                          0   \n",
       "1                               0                          0   \n",
       "2                               0                          1   \n",
       "3                               0                          0   \n",
       "4                               1                          0   \n",
       "\n",
       "   Top Gun (1986) - IMDb  \n",
       "0                      0  \n",
       "1                      0  \n",
       "2                      0  \n",
       "3                      1  \n",
       "4                      0  "
      ]
     },
     "execution_count": 240,
     "metadata": {},
     "output_type": "execute_result"
    }
   ],
   "source": [
    "df_filmes"
   ]
  },
  {
   "cell_type": "code",
   "execution_count": 242,
   "metadata": {},
   "outputs": [
    {
     "data": {
      "text/plain": [
       "\"\\\\begin{tabular}{llrrrrrrr}\\n & name & obs & rate & Dunkirk (2017) - IMDb & Pirates of the Caribbean: Dead Men Tell No Tales (2017) - IMDb & Schindler's List (1993) - IMDb & Soul Surfer (2011) - IMDb & Top Gun (1986) - IMDb \\\\\\\\\\n0 & Dunkirk (2017) - IMDb & 713000 & 7.800000 & 1 & 0 & 0 & 0 & 0 \\\\\\\\\\n1 & Pirates of the Caribbean: Dead Men Tell No Tales (2017) - IMDb & 333000 & 6.500000 & 0 & 1 & 0 & 0 & 0 \\\\\\\\\\n2 & Soul Surfer (2011) - IMDb & 52000 & 7.000000 & 0 & 0 & 0 & 1 & 0 \\\\\\\\\\n3 & Top Gun (1986) - IMDb & 485000 & 6.900000 & 0 & 0 & 0 & 0 & 1 \\\\\\\\\\n4 & Schindler's List (1993) - IMDb & 1400000 & 9.000000 & 0 & 0 & 1 & 0 & 0 \\\\\\\\\\n\\\\end{tabular}\\n\""
      ]
     },
     "execution_count": 242,
     "metadata": {},
     "output_type": "execute_result"
    }
   ],
   "source": [
    "df_filmes.style.to_latex()"
   ]
  },
  {
   "cell_type": "code",
   "execution_count": null,
   "metadata": {},
   "outputs": [],
   "source": []
  },
  {
   "cell_type": "code",
   "execution_count": 1,
   "metadata": {},
   "outputs": [],
   "source": [
    "import pandas as pd\n",
    "import pickle"
   ]
  },
  {
   "cell_type": "code",
   "execution_count": 3,
   "metadata": {},
   "outputs": [],
   "source": [
    "df = pd.read_pickle('dados.pkl')"
   ]
  },
  {
   "cell_type": "code",
   "execution_count": null,
   "metadata": {},
   "outputs": [],
   "source": [
    "\n"
   ]
  },
  {
   "cell_type": "markdown",
   "metadata": {},
   "source": [
    "## Infrações IBAMA"
   ]
  },
  {
   "cell_type": "code",
   "execution_count": 251,
   "metadata": {},
   "outputs": [],
   "source": [
    "import requests\n",
    "from bs4 import BeautifulSoup\n",
    "import pandas as pd\n",
    "import multiprocessing as mp \n",
    "from joblib import Parallel, delayed\n",
    "import time"
   ]
  },
  {
   "cell_type": "code",
   "execution_count": 252,
   "metadata": {},
   "outputs": [],
   "source": [
    "num_cores = mp.cpu_count()"
   ]
  },
  {
   "cell_type": "code",
   "execution_count": 253,
   "metadata": {},
   "outputs": [
    {
     "data": {
      "text/plain": [
       "8"
      ]
     },
     "execution_count": 253,
     "metadata": {},
     "output_type": "execute_result"
    }
   ],
   "source": [
    "num_cores"
   ]
  },
  {
   "cell_type": "code",
   "execution_count": 254,
   "metadata": {},
   "outputs": [],
   "source": [
    "from requests.adapters import HTTPAdapter\n",
    "from urllib3.util.retry import Retry\n",
    "\n",
    "\n",
    "session = requests.Session()\n",
    "retry = Retry(connect=3, backoff_factor=0.5)\n",
    "adapter = HTTPAdapter(max_retries=retry)\n",
    "session.mount('http://', adapter)\n",
    "session.mount('https://', adapter)"
   ]
  },
  {
   "cell_type": "code",
   "execution_count": null,
   "metadata": {},
   "outputs": [],
   "source": []
  },
  {
   "cell_type": "code",
   "execution_count": 247,
   "metadata": {},
   "outputs": [
    {
     "name": "stderr",
     "output_type": "stream",
     "text": [
      "/opt/miniconda3/lib/python3.9/site-packages/urllib3/connectionpool.py:1045: InsecureRequestWarning: Unverified HTTPS request is being made to host 'dadosabertos.ibama.gov.br'. Adding certificate verification is strongly advised. See: https://urllib3.readthedocs.io/en/1.26.x/advanced-usage.html#ssl-warnings\n",
      "  warnings.warn(\n"
     ]
    }
   ],
   "source": [
    "r = session.get(\"http://dadosabertos.ibama.gov.br/dados/SIFISC/auto_infracao/auto_infracao/auto_infracao.html\", verify=False)"
   ]
  },
  {
   "cell_type": "code",
   "execution_count": 248,
   "metadata": {},
   "outputs": [],
   "source": [
    "texto = r.text"
   ]
  },
  {
   "cell_type": "code",
   "execution_count": 260,
   "metadata": {},
   "outputs": [
    {
     "data": {
      "text/plain": [
       "'<html><body><h1>AUTO DE INFRAÇÃO <br>Atualizado em: 01/10/2023 6:35</h1><table border=\"1\" cellspacing=\"1\" cellpadding=\"5\"><thead bgcolor=\"#808080\"><th align=\"center\">SEQ AUTO INFRACAO</th><th align=\"center\">NUM_AUTO_INFRACAO</th><th align=\"center\">SER_AUTO_INFRACAO</th><th align=\"center\">TIPO_AUTO</th><th align=\"center\">TIPO_MULTA</th><th align=\"center\">VAL_AUTO_INFRACAO</th><th align=\"center\">PATRIMONIO_APURACAO</th><th align=\"center\">PATRIMONIO_PORTE</th><th align=\"center\">GRAVIDADE_INFRACAO</th><th align=\"center\">UNID_ARRECADACAO</th><th align=\"center\">DES_AUTO_INFRACAO</th><th align=\"center\">DAT_HORA_AUTO_INFRACAO</th><th align=\"center\">FORMA_ENTREGA</th><th align=\"center\">DAT_CIENCIA_AUTUACAO</th><th align=\"center\">COD_MUNICIPIO</th><th align=\"center\">MUNICIPIO</th><th align=\"center\">UF</th><th align=\"center\">NUM_PROCESSO</th><th align=\"center\">COD_INFRACAO</th><th align=\"center\">DES_INFRACAO</th><th align=\"center\">TIPO_INFRACAO</th><th align=\"center\">NOME_INFRATOR</th><th align=\"center\">CPF_CNPJ_INFRATOR</th><th align=\"center\">QTD_AREA</th><th align=\"center\">INFRACAO_AREA</th><th align=\"center\">DES_OUTROS_TIPO_AREA</th><th align=\"center\">CLASSIFICACAO_AREA</th><th align=\"center\">NUM_LATITUDE_AUTO</th><th align=\"center\">NUM_LONGITUDE_AUTO</th><th align=\"center\">DES_LOCAL_INFRACAO</th><th align=\"center\">NOTIFICACAO_VINCULADA</th><th align=\"center\">ACAO_FISCALIZATORIA</th><th align=\"center\">UNID_CONTROLE</th><th align=\"center\">TIPO_ACAO</th><th align=\"center\">OPERACAO</th><th align=\"center\">DENUNCIA_SISLIV</th><th align=\"center\">ORDEM_FISCALIZACAO</th><th align=\"center\">SOLICITACAO_RECURSO</th><th align=\"center\">OPERACAO_SOL_RECURSO</th><th align=\"center\">DAT_LANCAMENTO</th><th align=\"center\">DAT_ULT_ALTERACAO</th><th align=\"center\">TIPO_ULT_ALTERACAO</th></thead><tbody><tr><td>3.0</td><td>26363</td><td>D</td><td>Multa simples</td><td></td><td>1500.0</td><td></td><td></td><td></td><td>IMP/GEREX</td><td>POR FUNCIONAR ESTABELICIMENTO PONTENCIALMENTE POLUIDORAS SEM '"
      ]
     },
     "execution_count": 260,
     "metadata": {},
     "output_type": "execute_result"
    }
   ],
   "source": [
    "texto[0:2000]"
   ]
  },
  {
   "cell_type": "code",
   "execution_count": null,
   "metadata": {},
   "outputs": [],
   "source": []
  },
  {
   "cell_type": "code",
   "execution_count": 256,
   "metadata": {},
   "outputs": [
    {
     "data": {
      "text/plain": [
       "'<td></td><td>multa simples;</td><td>Fechada</td><td>5000.0</td><td></td><td></td><td></td><td></td><td>Impedir a regeneração natural de floresta nativa, por meio de atividade de agricultura, em uma área de 01 ha (um hectare), sendo esta parte da área embargada sob o termo de n. 835/E.</td><td>05/08/2022 17:46:40</td><td>Representante</td><td></td><td>4118709</td><td>Paulo Frontin</td><td>PR</td><td>02017.002161/2022-06</td><td>272491.0</td><td>Impedir a regeneração natural de floresta nativa, por meio de atividade de agricultura, em uma área de 01 ha (um hectare), sendo esta parte da área embargada sob o termo de n. 835/E.</td><td>Flora</td><td>Eliane Sfair dos Santos</td><td>01834887925</td><td></td><td>Atividade</td><td></td><td></td><td>-26,17136111111111</td><td>-50,73886111111111</td><td>Fazenda Chapéu de Sol</td><td></td><td></td><td>SUPES/PR</td><td></td><td></td><td></td><td></td><td></td><td></td><td></td><td>05/08/2022 17:51:56</td><td></td></tr></tbody></table></body></html>'"
      ]
     },
     "execution_count": 256,
     "metadata": {},
     "output_type": "execute_result"
    }
   ],
   "source": [
    "texto[-1000:]"
   ]
  },
  {
   "cell_type": "code",
   "execution_count": 261,
   "metadata": {},
   "outputs": [],
   "source": [
    "texto_0 = texto.split(\"</thead><tbody>\")[0]\n",
    "colunas = [item.text for item in BeautifulSoup(texto_0.split('<thead bgcolor=\"#808080\">')[1],'lxml').find_all('th')]"
   ]
  },
  {
   "cell_type": "code",
   "execution_count": 262,
   "metadata": {},
   "outputs": [
    {
     "data": {
      "text/plain": [
       "['SEQ AUTO INFRACAO',\n",
       " 'NUM_AUTO_INFRACAO',\n",
       " 'SER_AUTO_INFRACAO',\n",
       " 'TIPO_AUTO',\n",
       " 'TIPO_MULTA',\n",
       " 'VAL_AUTO_INFRACAO',\n",
       " 'PATRIMONIO_APURACAO',\n",
       " 'PATRIMONIO_PORTE',\n",
       " 'GRAVIDADE_INFRACAO',\n",
       " 'UNID_ARRECADACAO',\n",
       " 'DES_AUTO_INFRACAO',\n",
       " 'DAT_HORA_AUTO_INFRACAO',\n",
       " 'FORMA_ENTREGA',\n",
       " 'DAT_CIENCIA_AUTUACAO',\n",
       " 'COD_MUNICIPIO',\n",
       " 'MUNICIPIO',\n",
       " 'UF',\n",
       " 'NUM_PROCESSO',\n",
       " 'COD_INFRACAO',\n",
       " 'DES_INFRACAO',\n",
       " 'TIPO_INFRACAO',\n",
       " 'NOME_INFRATOR',\n",
       " 'CPF_CNPJ_INFRATOR',\n",
       " 'QTD_AREA',\n",
       " 'INFRACAO_AREA',\n",
       " 'DES_OUTROS_TIPO_AREA',\n",
       " 'CLASSIFICACAO_AREA',\n",
       " 'NUM_LATITUDE_AUTO',\n",
       " 'NUM_LONGITUDE_AUTO',\n",
       " 'DES_LOCAL_INFRACAO',\n",
       " 'NOTIFICACAO_VINCULADA',\n",
       " 'ACAO_FISCALIZATORIA',\n",
       " 'UNID_CONTROLE',\n",
       " 'TIPO_ACAO',\n",
       " 'OPERACAO',\n",
       " 'DENUNCIA_SISLIV',\n",
       " 'ORDEM_FISCALIZACAO',\n",
       " 'SOLICITACAO_RECURSO',\n",
       " 'OPERACAO_SOL_RECURSO',\n",
       " 'DAT_LANCAMENTO',\n",
       " 'DAT_ULT_ALTERACAO',\n",
       " 'TIPO_ULT_ALTERACAO']"
      ]
     },
     "execution_count": 262,
     "metadata": {},
     "output_type": "execute_result"
    }
   ],
   "source": [
    "colunas"
   ]
  },
  {
   "cell_type": "code",
   "execution_count": 263,
   "metadata": {},
   "outputs": [],
   "source": [
    "texto_1 = texto.split(\"</thead><tbody>\")[1]\n",
    "texto_final = texto_1.split(\"</tbody></table>\")[0]"
   ]
  },
  {
   "cell_type": "code",
   "execution_count": 264,
   "metadata": {},
   "outputs": [
    {
     "data": {
      "text/plain": [
       "'<tr><td>3.0</td><td>26363</td><td>D</td><td>Multa simples</td><td></td><td>1500.0</td><td></td><td></td><td></td><td>IMP/GEREX</td><td>POR FUNCIONAR ESTABELICIMENTO PONTENCIALMENTE POLUIDORAS SEM O CADASTRO TECNICO FEDERAL SEM APRESENTAR RELATORIO ANUAL DE SUAS ATIVIDEDAS</td><td>05/03/2004 00:00:00</td><td></td><td>05/03/2004</td><td>2105302</td><td>IMPERATRIZ</td><td>MA</td><td>0205100001204</td><td>401001.0</td><td>Funcionar sem prévio registro no Ibama - Administradora</td><td>Penalidade pecuniária - Flora</td><td>PALADAR IOGURTE LTDA</td><td>01790868000103</td><td></td><td></td><td></td><td></td><td></td><td></td><td></td><td>-</td><td></td><td>IMP/GEREX</td><td>Rotina</td><td></td><td>/</td><td></td><td></td><td></td><td>01/06/2004 10:13:30</td><td>06/09/2010 10:09:03</td><td>Preenchido</td></tr><tr><td>4.0</td><td>26364</td><td>D</td><td>Multa simples</td><td></td><td>1500.0</td><td></td><td></td><td></td><td>IMP/GEREX</td><td>POR FUCIONAR ESTABELECIMENTO POTENCIALMENTE POLUIDOR'"
      ]
     },
     "execution_count": 264,
     "metadata": {},
     "output_type": "execute_result"
    }
   ],
   "source": [
    "texto_final[0:1000]"
   ]
  },
  {
   "cell_type": "code",
   "execution_count": 265,
   "metadata": {},
   "outputs": [
    {
     "data": {
      "text/plain": [
       "'<tr><td></td><td>ZZX3XEZJ</td><td></td><td>multa simples;</td><td>Fechada</td><td>5000.0</td><td></td><td></td><td></td><td></td><td>Impedir a regeneração natural de floresta nativa, por meio de atividade de agricultura, em uma área de 01 ha (um hectare), sendo esta parte da área embargada sob o termo de n. 835/E.</td><td>05/08/2022 17:46:40</td><td>Representante</td><td></td><td>4118709</td><td>Paulo Frontin</td><td>PR</td><td>02017.002161/2022-06</td><td>272491.0</td><td>Impedir a regeneração natural de floresta nativa, por meio de atividade de agricultura, em uma área de 01 ha (um hectare), sendo esta parte da área embargada sob o termo de n. 835/E.</td><td>Flora</td><td>Eliane Sfair dos Santos</td><td>01834887925</td><td></td><td>Atividade</td><td></td><td></td><td>-26,17136111111111</td><td>-50,73886111111111</td><td>Fazenda Chapéu de Sol</td><td></td><td></td><td>SUPES/PR</td><td></td><td></td><td></td><td></td><td></td><td></td><td></td><td>05/08/2022 17:51:56</td><td></td></tr>'"
      ]
     },
     "execution_count": 265,
     "metadata": {},
     "output_type": "execute_result"
    }
   ],
   "source": [
    "texto_final[-1000:]"
   ]
  },
  {
   "cell_type": "code",
   "execution_count": 266,
   "metadata": {},
   "outputs": [],
   "source": [
    "texto_completo = texto_final.split(\"<tr>\")"
   ]
  },
  {
   "cell_type": "code",
   "execution_count": 267,
   "metadata": {},
   "outputs": [
    {
     "data": {
      "text/plain": [
       "659542"
      ]
     },
     "execution_count": 267,
     "metadata": {},
     "output_type": "execute_result"
    }
   ],
   "source": [
    "len(texto_completo)"
   ]
  },
  {
   "cell_type": "code",
   "execution_count": 268,
   "metadata": {},
   "outputs": [
    {
     "data": {
      "text/plain": [
       "''"
      ]
     },
     "execution_count": 268,
     "metadata": {},
     "output_type": "execute_result"
    }
   ],
   "source": [
    "texto_completo[0]"
   ]
  },
  {
   "cell_type": "code",
   "execution_count": 269,
   "metadata": {},
   "outputs": [
    {
     "data": {
      "text/plain": [
       "'<td>3.0</td><td>26363</td><td>D</td><td>Multa simples</td><td></td><td>1500.0</td><td></td><td></td><td></td><td>IMP/GEREX</td><td>POR FUNCIONAR ESTABELICIMENTO PONTENCIALMENTE POLUIDORAS SEM O CADASTRO TECNICO FEDERAL SEM APRESENTAR RELATORIO ANUAL DE SUAS ATIVIDEDAS</td><td>05/03/2004 00:00:00</td><td></td><td>05/03/2004</td><td>2105302</td><td>IMPERATRIZ</td><td>MA</td><td>0205100001204</td><td>401001.0</td><td>Funcionar sem prévio registro no Ibama - Administradora</td><td>Penalidade pecuniária - Flora</td><td>PALADAR IOGURTE LTDA</td><td>01790868000103</td><td></td><td></td><td></td><td></td><td></td><td></td><td></td><td>-</td><td></td><td>IMP/GEREX</td><td>Rotina</td><td></td><td>/</td><td></td><td></td><td></td><td>01/06/2004 10:13:30</td><td>06/09/2010 10:09:03</td><td>Preenchido</td></tr>'"
      ]
     },
     "execution_count": 269,
     "metadata": {},
     "output_type": "execute_result"
    }
   ],
   "source": [
    "texto_completo[1]"
   ]
  },
  {
   "cell_type": "code",
   "execution_count": 270,
   "metadata": {},
   "outputs": [
    {
     "data": {
      "text/plain": [
       "'<td></td><td>ZZX3XEZJ</td><td></td><td>multa simples;</td><td>Fechada</td><td>5000.0</td><td></td><td></td><td></td><td></td><td>Impedir a regeneração natural de floresta nativa, por meio de atividade de agricultura, em uma área de 01 ha (um hectare), sendo esta parte da área embargada sob o termo de n. 835/E.</td><td>05/08/2022 17:46:40</td><td>Representante</td><td></td><td>4118709</td><td>Paulo Frontin</td><td>PR</td><td>02017.002161/2022-06</td><td>272491.0</td><td>Impedir a regeneração natural de floresta nativa, por meio de atividade de agricultura, em uma área de 01 ha (um hectare), sendo esta parte da área embargada sob o termo de n. 835/E.</td><td>Flora</td><td>Eliane Sfair dos Santos</td><td>01834887925</td><td></td><td>Atividade</td><td></td><td></td><td>-26,17136111111111</td><td>-50,73886111111111</td><td>Fazenda Chapéu de Sol</td><td></td><td></td><td>SUPES/PR</td><td></td><td></td><td></td><td></td><td></td><td></td><td></td><td>05/08/2022 17:51:56</td><td></td></tr>'"
      ]
     },
     "execution_count": 270,
     "metadata": {},
     "output_type": "execute_result"
    }
   ],
   "source": [
    "texto_completo[-1]"
   ]
  },
  {
   "cell_type": "code",
   "execution_count": 271,
   "metadata": {},
   "outputs": [],
   "source": [
    "texto_completo = texto_completo[1:]\n",
    "tc = [\"<tr>\"+text for text in texto_completo]"
   ]
  },
  {
   "cell_type": "code",
   "execution_count": 272,
   "metadata": {},
   "outputs": [
    {
     "data": {
      "text/plain": [
       "'<tr><td>3.0</td><td>26363</td><td>D</td><td>Multa simples</td><td></td><td>1500.0</td><td></td><td></td><td></td><td>IMP/GEREX</td><td>POR FUNCIONAR ESTABELICIMENTO PONTENCIALMENTE POLUIDORAS SEM O CADASTRO TECNICO FEDERAL SEM APRESENTAR RELATORIO ANUAL DE SUAS ATIVIDEDAS</td><td>05/03/2004 00:00:00</td><td></td><td>05/03/2004</td><td>2105302</td><td>IMPERATRIZ</td><td>MA</td><td>0205100001204</td><td>401001.0</td><td>Funcionar sem prévio registro no Ibama - Administradora</td><td>Penalidade pecuniária - Flora</td><td>PALADAR IOGURTE LTDA</td><td>01790868000103</td><td></td><td></td><td></td><td></td><td></td><td></td><td></td><td>-</td><td></td><td>IMP/GEREX</td><td>Rotina</td><td></td><td>/</td><td></td><td></td><td></td><td>01/06/2004 10:13:30</td><td>06/09/2010 10:09:03</td><td>Preenchido</td></tr>'"
      ]
     },
     "execution_count": 272,
     "metadata": {},
     "output_type": "execute_result"
    }
   ],
   "source": [
    "tc[0]"
   ]
  },
  {
   "cell_type": "code",
   "execution_count": 273,
   "metadata": {},
   "outputs": [
    {
     "data": {
      "text/plain": [
       "659541"
      ]
     },
     "execution_count": 273,
     "metadata": {},
     "output_type": "execute_result"
    }
   ],
   "source": [
    "len(tc)"
   ]
  },
  {
   "cell_type": "code",
   "execution_count": null,
   "metadata": {},
   "outputs": [],
   "source": []
  },
  {
   "cell_type": "code",
   "execution_count": 274,
   "metadata": {},
   "outputs": [],
   "source": [
    "def gustavo(item):\n",
    "\tdata = {}\n",
    "\titem_soup = BeautifulSoup(item,'lxml')\n",
    "\ttds = item_soup.find_all(\"td\")\n",
    "\tdados = [i.text for i in tds]\n",
    "\tfor i,j in zip(colunas,dados):\n",
    "\t\tdata[i] = j\n",
    "\treturn data"
   ]
  },
  {
   "cell_type": "code",
   "execution_count": null,
   "metadata": {},
   "outputs": [],
   "source": []
  },
  {
   "cell_type": "code",
   "execution_count": 275,
   "metadata": {},
   "outputs": [
    {
     "data": {
      "text/plain": [
       "{'SEQ AUTO INFRACAO': '3.0',\n",
       " 'NUM_AUTO_INFRACAO': '26363',\n",
       " 'SER_AUTO_INFRACAO': 'D',\n",
       " 'TIPO_AUTO': 'Multa simples',\n",
       " 'TIPO_MULTA': '',\n",
       " 'VAL_AUTO_INFRACAO': '1500.0',\n",
       " 'PATRIMONIO_APURACAO': '',\n",
       " 'PATRIMONIO_PORTE': '',\n",
       " 'GRAVIDADE_INFRACAO': '',\n",
       " 'UNID_ARRECADACAO': 'IMP/GEREX',\n",
       " 'DES_AUTO_INFRACAO': 'POR FUNCIONAR ESTABELICIMENTO PONTENCIALMENTE POLUIDORAS SEM O CADASTRO TECNICO FEDERAL SEM APRESENTAR RELATORIO ANUAL DE SUAS ATIVIDEDAS',\n",
       " 'DAT_HORA_AUTO_INFRACAO': '05/03/2004 00:00:00',\n",
       " 'FORMA_ENTREGA': '',\n",
       " 'DAT_CIENCIA_AUTUACAO': '05/03/2004',\n",
       " 'COD_MUNICIPIO': '2105302',\n",
       " 'MUNICIPIO': 'IMPERATRIZ',\n",
       " 'UF': 'MA',\n",
       " 'NUM_PROCESSO': '0205100001204',\n",
       " 'COD_INFRACAO': '401001.0',\n",
       " 'DES_INFRACAO': 'Funcionar sem prévio registro no Ibama - Administradora',\n",
       " 'TIPO_INFRACAO': 'Penalidade pecuniária - Flora',\n",
       " 'NOME_INFRATOR': 'PALADAR IOGURTE LTDA',\n",
       " 'CPF_CNPJ_INFRATOR': '01790868000103',\n",
       " 'QTD_AREA': '',\n",
       " 'INFRACAO_AREA': '',\n",
       " 'DES_OUTROS_TIPO_AREA': '',\n",
       " 'CLASSIFICACAO_AREA': '',\n",
       " 'NUM_LATITUDE_AUTO': '',\n",
       " 'NUM_LONGITUDE_AUTO': '',\n",
       " 'DES_LOCAL_INFRACAO': '',\n",
       " 'NOTIFICACAO_VINCULADA': '-',\n",
       " 'ACAO_FISCALIZATORIA': '',\n",
       " 'UNID_CONTROLE': 'IMP/GEREX',\n",
       " 'TIPO_ACAO': 'Rotina',\n",
       " 'OPERACAO': '',\n",
       " 'DENUNCIA_SISLIV': '/',\n",
       " 'ORDEM_FISCALIZACAO': '',\n",
       " 'SOLICITACAO_RECURSO': '',\n",
       " 'OPERACAO_SOL_RECURSO': '',\n",
       " 'DAT_LANCAMENTO': '01/06/2004 10:13:30',\n",
       " 'DAT_ULT_ALTERACAO': '06/09/2010 10:09:03',\n",
       " 'TIPO_ULT_ALTERACAO': 'Preenchido'}"
      ]
     },
     "execution_count": 275,
     "metadata": {},
     "output_type": "execute_result"
    }
   ],
   "source": [
    "gustavo(tc[0])"
   ]
  },
  {
   "cell_type": "code",
   "execution_count": 276,
   "metadata": {},
   "outputs": [
    {
     "data": {
      "text/plain": [
       "{'SEQ AUTO INFRACAO': '',\n",
       " 'NUM_AUTO_INFRACAO': 'ZZX3XEZJ',\n",
       " 'SER_AUTO_INFRACAO': '',\n",
       " 'TIPO_AUTO': 'multa simples;',\n",
       " 'TIPO_MULTA': 'Fechada',\n",
       " 'VAL_AUTO_INFRACAO': '5000.0',\n",
       " 'PATRIMONIO_APURACAO': '',\n",
       " 'PATRIMONIO_PORTE': '',\n",
       " 'GRAVIDADE_INFRACAO': '',\n",
       " 'UNID_ARRECADACAO': '',\n",
       " 'DES_AUTO_INFRACAO': 'Impedir a regeneração natural de floresta nativa, por meio de atividade de agricultura, em uma área de 01 ha (um hectare), sendo esta parte da área embargada sob o termo de n. 835/E.',\n",
       " 'DAT_HORA_AUTO_INFRACAO': '05/08/2022 17:46:40',\n",
       " 'FORMA_ENTREGA': 'Representante',\n",
       " 'DAT_CIENCIA_AUTUACAO': '',\n",
       " 'COD_MUNICIPIO': '4118709',\n",
       " 'MUNICIPIO': 'Paulo Frontin',\n",
       " 'UF': 'PR',\n",
       " 'NUM_PROCESSO': '02017.002161/2022-06',\n",
       " 'COD_INFRACAO': '272491.0',\n",
       " 'DES_INFRACAO': 'Impedir a regeneração natural de floresta nativa, por meio de atividade de agricultura, em uma área de 01 ha (um hectare), sendo esta parte da área embargada sob o termo de n. 835/E.',\n",
       " 'TIPO_INFRACAO': 'Flora',\n",
       " 'NOME_INFRATOR': 'Eliane Sfair dos Santos',\n",
       " 'CPF_CNPJ_INFRATOR': '01834887925',\n",
       " 'QTD_AREA': '',\n",
       " 'INFRACAO_AREA': 'Atividade',\n",
       " 'DES_OUTROS_TIPO_AREA': '',\n",
       " 'CLASSIFICACAO_AREA': '',\n",
       " 'NUM_LATITUDE_AUTO': '-26,17136111111111',\n",
       " 'NUM_LONGITUDE_AUTO': '-50,73886111111111',\n",
       " 'DES_LOCAL_INFRACAO': 'Fazenda Chapéu de Sol',\n",
       " 'NOTIFICACAO_VINCULADA': '',\n",
       " 'ACAO_FISCALIZATORIA': '',\n",
       " 'UNID_CONTROLE': 'SUPES/PR',\n",
       " 'TIPO_ACAO': '',\n",
       " 'OPERACAO': '',\n",
       " 'DENUNCIA_SISLIV': '',\n",
       " 'ORDEM_FISCALIZACAO': '',\n",
       " 'SOLICITACAO_RECURSO': '',\n",
       " 'OPERACAO_SOL_RECURSO': '',\n",
       " 'DAT_LANCAMENTO': '',\n",
       " 'DAT_ULT_ALTERACAO': '05/08/2022 17:51:56',\n",
       " 'TIPO_ULT_ALTERACAO': ''}"
      ]
     },
     "execution_count": 276,
     "metadata": {},
     "output_type": "execute_result"
    }
   ],
   "source": [
    "gustavo(tc[-1])"
   ]
  },
  {
   "cell_type": "code",
   "execution_count": null,
   "metadata": {},
   "outputs": [],
   "source": []
  },
  {
   "cell_type": "code",
   "execution_count": 277,
   "metadata": {},
   "outputs": [
    {
     "name": "stdout",
     "output_type": "stream",
     "text": [
      "CPU times: user 4 µs, sys: 2 µs, total: 6 µs\n",
      "Wall time: 10 µs\n"
     ]
    }
   ],
   "source": [
    "%time\n",
    "dados_final = Parallel(n_jobs=num_cores)(delayed(gustavo)(i) for i in tc)"
   ]
  },
  {
   "cell_type": "code",
   "execution_count": 278,
   "metadata": {},
   "outputs": [
    {
     "data": {
      "text/plain": [
       "659541"
      ]
     },
     "execution_count": 278,
     "metadata": {},
     "output_type": "execute_result"
    }
   ],
   "source": [
    "len(dados_final)"
   ]
  },
  {
   "cell_type": "code",
   "execution_count": 279,
   "metadata": {},
   "outputs": [
    {
     "data": {
      "text/plain": [
       "{'SEQ AUTO INFRACAO': '3.0',\n",
       " 'NUM_AUTO_INFRACAO': '26363',\n",
       " 'SER_AUTO_INFRACAO': 'D',\n",
       " 'TIPO_AUTO': 'Multa simples',\n",
       " 'TIPO_MULTA': '',\n",
       " 'VAL_AUTO_INFRACAO': '1500.0',\n",
       " 'PATRIMONIO_APURACAO': '',\n",
       " 'PATRIMONIO_PORTE': '',\n",
       " 'GRAVIDADE_INFRACAO': '',\n",
       " 'UNID_ARRECADACAO': 'IMP/GEREX',\n",
       " 'DES_AUTO_INFRACAO': 'POR FUNCIONAR ESTABELICIMENTO PONTENCIALMENTE POLUIDORAS SEM O CADASTRO TECNICO FEDERAL SEM APRESENTAR RELATORIO ANUAL DE SUAS ATIVIDEDAS',\n",
       " 'DAT_HORA_AUTO_INFRACAO': '05/03/2004 00:00:00',\n",
       " 'FORMA_ENTREGA': '',\n",
       " 'DAT_CIENCIA_AUTUACAO': '05/03/2004',\n",
       " 'COD_MUNICIPIO': '2105302',\n",
       " 'MUNICIPIO': 'IMPERATRIZ',\n",
       " 'UF': 'MA',\n",
       " 'NUM_PROCESSO': '0205100001204',\n",
       " 'COD_INFRACAO': '401001.0',\n",
       " 'DES_INFRACAO': 'Funcionar sem prévio registro no Ibama - Administradora',\n",
       " 'TIPO_INFRACAO': 'Penalidade pecuniária - Flora',\n",
       " 'NOME_INFRATOR': 'PALADAR IOGURTE LTDA',\n",
       " 'CPF_CNPJ_INFRATOR': '01790868000103',\n",
       " 'QTD_AREA': '',\n",
       " 'INFRACAO_AREA': '',\n",
       " 'DES_OUTROS_TIPO_AREA': '',\n",
       " 'CLASSIFICACAO_AREA': '',\n",
       " 'NUM_LATITUDE_AUTO': '',\n",
       " 'NUM_LONGITUDE_AUTO': '',\n",
       " 'DES_LOCAL_INFRACAO': '',\n",
       " 'NOTIFICACAO_VINCULADA': '-',\n",
       " 'ACAO_FISCALIZATORIA': '',\n",
       " 'UNID_CONTROLE': 'IMP/GEREX',\n",
       " 'TIPO_ACAO': 'Rotina',\n",
       " 'OPERACAO': '',\n",
       " 'DENUNCIA_SISLIV': '/',\n",
       " 'ORDEM_FISCALIZACAO': '',\n",
       " 'SOLICITACAO_RECURSO': '',\n",
       " 'OPERACAO_SOL_RECURSO': '',\n",
       " 'DAT_LANCAMENTO': '01/06/2004 10:13:30',\n",
       " 'DAT_ULT_ALTERACAO': '06/09/2010 10:09:03',\n",
       " 'TIPO_ULT_ALTERACAO': 'Preenchido'}"
      ]
     },
     "execution_count": 279,
     "metadata": {},
     "output_type": "execute_result"
    }
   ],
   "source": [
    "dados_final[0]"
   ]
  },
  {
   "cell_type": "code",
   "execution_count": 280,
   "metadata": {},
   "outputs": [],
   "source": [
    "df = pd.DataFrame(dados_final)"
   ]
  },
  {
   "cell_type": "code",
   "execution_count": 281,
   "metadata": {},
   "outputs": [
    {
     "data": {
      "text/html": [
       "<div>\n",
       "<style scoped>\n",
       "    .dataframe tbody tr th:only-of-type {\n",
       "        vertical-align: middle;\n",
       "    }\n",
       "\n",
       "    .dataframe tbody tr th {\n",
       "        vertical-align: top;\n",
       "    }\n",
       "\n",
       "    .dataframe thead th {\n",
       "        text-align: right;\n",
       "    }\n",
       "</style>\n",
       "<table border=\"1\" class=\"dataframe\">\n",
       "  <thead>\n",
       "    <tr style=\"text-align: right;\">\n",
       "      <th></th>\n",
       "      <th>SEQ AUTO INFRACAO</th>\n",
       "      <th>NUM_AUTO_INFRACAO</th>\n",
       "      <th>SER_AUTO_INFRACAO</th>\n",
       "      <th>TIPO_AUTO</th>\n",
       "      <th>TIPO_MULTA</th>\n",
       "      <th>VAL_AUTO_INFRACAO</th>\n",
       "      <th>PATRIMONIO_APURACAO</th>\n",
       "      <th>PATRIMONIO_PORTE</th>\n",
       "      <th>GRAVIDADE_INFRACAO</th>\n",
       "      <th>UNID_ARRECADACAO</th>\n",
       "      <th>...</th>\n",
       "      <th>UNID_CONTROLE</th>\n",
       "      <th>TIPO_ACAO</th>\n",
       "      <th>OPERACAO</th>\n",
       "      <th>DENUNCIA_SISLIV</th>\n",
       "      <th>ORDEM_FISCALIZACAO</th>\n",
       "      <th>SOLICITACAO_RECURSO</th>\n",
       "      <th>OPERACAO_SOL_RECURSO</th>\n",
       "      <th>DAT_LANCAMENTO</th>\n",
       "      <th>DAT_ULT_ALTERACAO</th>\n",
       "      <th>TIPO_ULT_ALTERACAO</th>\n",
       "    </tr>\n",
       "  </thead>\n",
       "  <tbody>\n",
       "    <tr>\n",
       "      <th>0</th>\n",
       "      <td>3.0</td>\n",
       "      <td>26363</td>\n",
       "      <td>D</td>\n",
       "      <td>Multa simples</td>\n",
       "      <td></td>\n",
       "      <td>1500.0</td>\n",
       "      <td></td>\n",
       "      <td></td>\n",
       "      <td></td>\n",
       "      <td>IMP/GEREX</td>\n",
       "      <td>...</td>\n",
       "      <td>IMP/GEREX</td>\n",
       "      <td>Rotina</td>\n",
       "      <td></td>\n",
       "      <td>/</td>\n",
       "      <td></td>\n",
       "      <td></td>\n",
       "      <td></td>\n",
       "      <td>01/06/2004 10:13:30</td>\n",
       "      <td>06/09/2010 10:09:03</td>\n",
       "      <td>Preenchido</td>\n",
       "    </tr>\n",
       "    <tr>\n",
       "      <th>1</th>\n",
       "      <td>4.0</td>\n",
       "      <td>26364</td>\n",
       "      <td>D</td>\n",
       "      <td>Multa simples</td>\n",
       "      <td></td>\n",
       "      <td>1500.0</td>\n",
       "      <td></td>\n",
       "      <td></td>\n",
       "      <td></td>\n",
       "      <td>IMP/GEREX</td>\n",
       "      <td>...</td>\n",
       "      <td>IMP/GEREX</td>\n",
       "      <td></td>\n",
       "      <td></td>\n",
       "      <td>/</td>\n",
       "      <td></td>\n",
       "      <td></td>\n",
       "      <td></td>\n",
       "      <td>01/06/2004 10:01:11</td>\n",
       "      <td>01/06/2004 10:01:11</td>\n",
       "      <td>Preenchido</td>\n",
       "    </tr>\n",
       "    <tr>\n",
       "      <th>2</th>\n",
       "      <td>5.0</td>\n",
       "      <td>26365</td>\n",
       "      <td>D</td>\n",
       "      <td>Multa simples</td>\n",
       "      <td></td>\n",
       "      <td>2500.0</td>\n",
       "      <td></td>\n",
       "      <td></td>\n",
       "      <td></td>\n",
       "      <td>IMP/GEREX</td>\n",
       "      <td>...</td>\n",
       "      <td>IMP/GEREX</td>\n",
       "      <td></td>\n",
       "      <td></td>\n",
       "      <td>/</td>\n",
       "      <td></td>\n",
       "      <td></td>\n",
       "      <td></td>\n",
       "      <td>12/07/2004 11:58:19</td>\n",
       "      <td>12/07/2004 11:58:19</td>\n",
       "      <td>Preenchido</td>\n",
       "    </tr>\n",
       "    <tr>\n",
       "      <th>3</th>\n",
       "      <td>7.0</td>\n",
       "      <td>26367</td>\n",
       "      <td>D</td>\n",
       "      <td>Multa simples</td>\n",
       "      <td></td>\n",
       "      <td>200.0</td>\n",
       "      <td></td>\n",
       "      <td></td>\n",
       "      <td></td>\n",
       "      <td>IMP/GEREX</td>\n",
       "      <td>...</td>\n",
       "      <td>IMP/GEREX</td>\n",
       "      <td></td>\n",
       "      <td></td>\n",
       "      <td>/</td>\n",
       "      <td></td>\n",
       "      <td></td>\n",
       "      <td></td>\n",
       "      <td>07/10/2005 17:14:21</td>\n",
       "      <td>23/04/2009 15:53:12</td>\n",
       "      <td>Preenchido</td>\n",
       "    </tr>\n",
       "    <tr>\n",
       "      <th>4</th>\n",
       "      <td>9.0</td>\n",
       "      <td>26369</td>\n",
       "      <td>D</td>\n",
       "      <td>Multa simples</td>\n",
       "      <td></td>\n",
       "      <td>600.0</td>\n",
       "      <td></td>\n",
       "      <td></td>\n",
       "      <td></td>\n",
       "      <td>IMP/GEREX</td>\n",
       "      <td>...</td>\n",
       "      <td>IMP/GEREX</td>\n",
       "      <td></td>\n",
       "      <td></td>\n",
       "      <td>/</td>\n",
       "      <td></td>\n",
       "      <td></td>\n",
       "      <td></td>\n",
       "      <td>25/05/2005 10:08:53</td>\n",
       "      <td>25/05/2005 10:08:53</td>\n",
       "      <td>Preenchido</td>\n",
       "    </tr>\n",
       "    <tr>\n",
       "      <th>...</th>\n",
       "      <td>...</td>\n",
       "      <td>...</td>\n",
       "      <td>...</td>\n",
       "      <td>...</td>\n",
       "      <td>...</td>\n",
       "      <td>...</td>\n",
       "      <td>...</td>\n",
       "      <td>...</td>\n",
       "      <td>...</td>\n",
       "      <td>...</td>\n",
       "      <td>...</td>\n",
       "      <td>...</td>\n",
       "      <td>...</td>\n",
       "      <td>...</td>\n",
       "      <td>...</td>\n",
       "      <td>...</td>\n",
       "      <td>...</td>\n",
       "      <td>...</td>\n",
       "      <td>...</td>\n",
       "      <td>...</td>\n",
       "      <td>...</td>\n",
       "    </tr>\n",
       "    <tr>\n",
       "      <th>659536</th>\n",
       "      <td></td>\n",
       "      <td>ZZKWIRGS</td>\n",
       "      <td></td>\n",
       "      <td>multa simples;</td>\n",
       "      <td>Fechada</td>\n",
       "      <td>2707500.0</td>\n",
       "      <td></td>\n",
       "      <td></td>\n",
       "      <td></td>\n",
       "      <td></td>\n",
       "      <td>...</td>\n",
       "      <td>DITEC/PA</td>\n",
       "      <td></td>\n",
       "      <td></td>\n",
       "      <td></td>\n",
       "      <td></td>\n",
       "      <td></td>\n",
       "      <td></td>\n",
       "      <td></td>\n",
       "      <td>02/08/2022 10:37:18</td>\n",
       "      <td></td>\n",
       "    </tr>\n",
       "    <tr>\n",
       "      <th>659537</th>\n",
       "      <td></td>\n",
       "      <td>ZZM64AB4</td>\n",
       "      <td></td>\n",
       "      <td>multa simples;</td>\n",
       "      <td>Aberta</td>\n",
       "      <td>325000.0</td>\n",
       "      <td></td>\n",
       "      <td></td>\n",
       "      <td>Mdio</td>\n",
       "      <td></td>\n",
       "      <td>...</td>\n",
       "      <td>DITEC/MA</td>\n",
       "      <td></td>\n",
       "      <td></td>\n",
       "      <td></td>\n",
       "      <td></td>\n",
       "      <td></td>\n",
       "      <td></td>\n",
       "      <td></td>\n",
       "      <td>03/03/2023 14:25:37</td>\n",
       "      <td></td>\n",
       "    </tr>\n",
       "    <tr>\n",
       "      <th>659538</th>\n",
       "      <td></td>\n",
       "      <td>ZZM64AB4</td>\n",
       "      <td></td>\n",
       "      <td>multa simples;</td>\n",
       "      <td>Aberta</td>\n",
       "      <td>325000.0</td>\n",
       "      <td></td>\n",
       "      <td></td>\n",
       "      <td>Mdio</td>\n",
       "      <td></td>\n",
       "      <td>...</td>\n",
       "      <td>DITEC/MA</td>\n",
       "      <td></td>\n",
       "      <td></td>\n",
       "      <td></td>\n",
       "      <td></td>\n",
       "      <td></td>\n",
       "      <td></td>\n",
       "      <td></td>\n",
       "      <td>03/03/2023 14:25:37</td>\n",
       "      <td></td>\n",
       "    </tr>\n",
       "    <tr>\n",
       "      <th>659539</th>\n",
       "      <td></td>\n",
       "      <td>ZZORTR3Q</td>\n",
       "      <td></td>\n",
       "      <td>multa simples;</td>\n",
       "      <td>Aberta</td>\n",
       "      <td>4200.0</td>\n",
       "      <td></td>\n",
       "      <td></td>\n",
       "      <td>Mdio</td>\n",
       "      <td></td>\n",
       "      <td>...</td>\n",
       "      <td>ICMBio</td>\n",
       "      <td></td>\n",
       "      <td></td>\n",
       "      <td></td>\n",
       "      <td></td>\n",
       "      <td></td>\n",
       "      <td></td>\n",
       "      <td></td>\n",
       "      <td>14/10/2021 17:41:33</td>\n",
       "      <td></td>\n",
       "    </tr>\n",
       "    <tr>\n",
       "      <th>659540</th>\n",
       "      <td></td>\n",
       "      <td>ZZX3XEZJ</td>\n",
       "      <td></td>\n",
       "      <td>multa simples;</td>\n",
       "      <td>Fechada</td>\n",
       "      <td>5000.0</td>\n",
       "      <td></td>\n",
       "      <td></td>\n",
       "      <td></td>\n",
       "      <td></td>\n",
       "      <td>...</td>\n",
       "      <td>SUPES/PR</td>\n",
       "      <td></td>\n",
       "      <td></td>\n",
       "      <td></td>\n",
       "      <td></td>\n",
       "      <td></td>\n",
       "      <td></td>\n",
       "      <td></td>\n",
       "      <td>05/08/2022 17:51:56</td>\n",
       "      <td></td>\n",
       "    </tr>\n",
       "  </tbody>\n",
       "</table>\n",
       "<p>659541 rows × 42 columns</p>\n",
       "</div>"
      ],
      "text/plain": [
       "       SEQ AUTO INFRACAO NUM_AUTO_INFRACAO SER_AUTO_INFRACAO       TIPO_AUTO  \\\n",
       "0                    3.0             26363                 D   Multa simples   \n",
       "1                    4.0             26364                 D   Multa simples   \n",
       "2                    5.0             26365                 D   Multa simples   \n",
       "3                    7.0             26367                 D   Multa simples   \n",
       "4                    9.0             26369                 D   Multa simples   \n",
       "...                  ...               ...               ...             ...   \n",
       "659536                            ZZKWIRGS                    multa simples;   \n",
       "659537                            ZZM64AB4                    multa simples;   \n",
       "659538                            ZZM64AB4                    multa simples;   \n",
       "659539                            ZZORTR3Q                    multa simples;   \n",
       "659540                            ZZX3XEZJ                    multa simples;   \n",
       "\n",
       "       TIPO_MULTA VAL_AUTO_INFRACAO PATRIMONIO_APURACAO PATRIMONIO_PORTE  \\\n",
       "0                            1500.0                                        \n",
       "1                            1500.0                                        \n",
       "2                            2500.0                                        \n",
       "3                             200.0                                        \n",
       "4                             600.0                                        \n",
       "...           ...               ...                 ...              ...   \n",
       "659536    Fechada         2707500.0                                        \n",
       "659537     Aberta          325000.0                                        \n",
       "659538     Aberta          325000.0                                        \n",
       "659539     Aberta            4200.0                                        \n",
       "659540    Fechada            5000.0                                        \n",
       "\n",
       "       GRAVIDADE_INFRACAO UNID_ARRECADACAO  ... UNID_CONTROLE TIPO_ACAO  \\\n",
       "0                                IMP/GEREX  ...     IMP/GEREX    Rotina   \n",
       "1                                IMP/GEREX  ...     IMP/GEREX             \n",
       "2                                IMP/GEREX  ...     IMP/GEREX             \n",
       "3                                IMP/GEREX  ...     IMP/GEREX             \n",
       "4                                IMP/GEREX  ...     IMP/GEREX             \n",
       "...                   ...              ...  ...           ...       ...   \n",
       "659536                                      ...      DITEC/PA             \n",
       "659537               Mdio                   ...      DITEC/MA             \n",
       "659538               Mdio                   ...      DITEC/MA             \n",
       "659539               Mdio                   ...        ICMBio             \n",
       "659540                                      ...      SUPES/PR             \n",
       "\n",
       "       OPERACAO DENUNCIA_SISLIV ORDEM_FISCALIZACAO SOLICITACAO_RECURSO  \\\n",
       "0                             /                                          \n",
       "1                             /                                          \n",
       "2                             /                                          \n",
       "3                             /                                          \n",
       "4                             /                                          \n",
       "...         ...             ...                ...                 ...   \n",
       "659536                                                                   \n",
       "659537                                                                   \n",
       "659538                                                                   \n",
       "659539                                                                   \n",
       "659540                                                                   \n",
       "\n",
       "       OPERACAO_SOL_RECURSO       DAT_LANCAMENTO    DAT_ULT_ALTERACAO  \\\n",
       "0                            01/06/2004 10:13:30  06/09/2010 10:09:03   \n",
       "1                            01/06/2004 10:01:11  01/06/2004 10:01:11   \n",
       "2                            12/07/2004 11:58:19  12/07/2004 11:58:19   \n",
       "3                            07/10/2005 17:14:21  23/04/2009 15:53:12   \n",
       "4                            25/05/2005 10:08:53  25/05/2005 10:08:53   \n",
       "...                     ...                  ...                  ...   \n",
       "659536                                            02/08/2022 10:37:18   \n",
       "659537                                            03/03/2023 14:25:37   \n",
       "659538                                            03/03/2023 14:25:37   \n",
       "659539                                            14/10/2021 17:41:33   \n",
       "659540                                            05/08/2022 17:51:56   \n",
       "\n",
       "       TIPO_ULT_ALTERACAO  \n",
       "0              Preenchido  \n",
       "1              Preenchido  \n",
       "2              Preenchido  \n",
       "3              Preenchido  \n",
       "4              Preenchido  \n",
       "...                   ...  \n",
       "659536                     \n",
       "659537                     \n",
       "659538                     \n",
       "659539                     \n",
       "659540                     \n",
       "\n",
       "[659541 rows x 42 columns]"
      ]
     },
     "execution_count": 281,
     "metadata": {},
     "output_type": "execute_result"
    }
   ],
   "source": [
    "df"
   ]
  },
  {
   "cell_type": "code",
   "execution_count": 282,
   "metadata": {},
   "outputs": [],
   "source": [
    "df['VAL_AUTO_INFRACAO'] = df['VAL_AUTO_INFRACAO'].apply(lambda x: x.replace(\",\",\".\"))"
   ]
  },
  {
   "cell_type": "code",
   "execution_count": 283,
   "metadata": {},
   "outputs": [],
   "source": [
    "df['VAL_AUTO_INFRACAO'] = pd.to_numeric(df['VAL_AUTO_INFRACAO'])"
   ]
  },
  {
   "cell_type": "code",
   "execution_count": 284,
   "metadata": {},
   "outputs": [
    {
     "data": {
      "text/plain": [
       "0            1500.0\n",
       "1            1500.0\n",
       "2            2500.0\n",
       "3             200.0\n",
       "4             600.0\n",
       "            ...    \n",
       "659536    2707500.0\n",
       "659537     325000.0\n",
       "659538     325000.0\n",
       "659539       4200.0\n",
       "659540       5000.0\n",
       "Name: VAL_AUTO_INFRACAO, Length: 659541, dtype: float64"
      ]
     },
     "execution_count": 284,
     "metadata": {},
     "output_type": "execute_result"
    }
   ],
   "source": [
    "df['VAL_AUTO_INFRACAO']"
   ]
  },
  {
   "cell_type": "code",
   "execution_count": 285,
   "metadata": {},
   "outputs": [
    {
     "data": {
      "text/plain": [
       "4306569666.0"
      ]
     },
     "execution_count": 285,
     "metadata": {},
     "output_type": "execute_result"
    }
   ],
   "source": [
    "df['VAL_AUTO_INFRACAO'].max()"
   ]
  },
  {
   "cell_type": "code",
   "execution_count": 286,
   "metadata": {},
   "outputs": [
    {
     "data": {
      "text/html": [
       "<div>\n",
       "<style scoped>\n",
       "    .dataframe tbody tr th:only-of-type {\n",
       "        vertical-align: middle;\n",
       "    }\n",
       "\n",
       "    .dataframe tbody tr th {\n",
       "        vertical-align: top;\n",
       "    }\n",
       "\n",
       "    .dataframe thead th {\n",
       "        text-align: right;\n",
       "    }\n",
       "</style>\n",
       "<table border=\"1\" class=\"dataframe\">\n",
       "  <thead>\n",
       "    <tr style=\"text-align: right;\">\n",
       "      <th></th>\n",
       "      <th>SEQ AUTO INFRACAO</th>\n",
       "      <th>NUM_AUTO_INFRACAO</th>\n",
       "      <th>SER_AUTO_INFRACAO</th>\n",
       "      <th>TIPO_AUTO</th>\n",
       "      <th>TIPO_MULTA</th>\n",
       "      <th>VAL_AUTO_INFRACAO</th>\n",
       "      <th>PATRIMONIO_APURACAO</th>\n",
       "      <th>PATRIMONIO_PORTE</th>\n",
       "      <th>GRAVIDADE_INFRACAO</th>\n",
       "      <th>UNID_ARRECADACAO</th>\n",
       "      <th>...</th>\n",
       "      <th>UNID_CONTROLE</th>\n",
       "      <th>TIPO_ACAO</th>\n",
       "      <th>OPERACAO</th>\n",
       "      <th>DENUNCIA_SISLIV</th>\n",
       "      <th>ORDEM_FISCALIZACAO</th>\n",
       "      <th>SOLICITACAO_RECURSO</th>\n",
       "      <th>OPERACAO_SOL_RECURSO</th>\n",
       "      <th>DAT_LANCAMENTO</th>\n",
       "      <th>DAT_ULT_ALTERACAO</th>\n",
       "      <th>TIPO_ULT_ALTERACAO</th>\n",
       "    </tr>\n",
       "  </thead>\n",
       "  <tbody>\n",
       "    <tr>\n",
       "      <th>235761</th>\n",
       "      <td>748345.0</td>\n",
       "      <td>285378</td>\n",
       "      <td>A</td>\n",
       "      <td>Multa simples</td>\n",
       "      <td></td>\n",
       "      <td>4.306570e+09</td>\n",
       "      <td></td>\n",
       "      <td></td>\n",
       "      <td></td>\n",
       "      <td>CONV/PM/MG</td>\n",
       "      <td>...</td>\n",
       "      <td>MG/SUPES</td>\n",
       "      <td></td>\n",
       "      <td></td>\n",
       "      <td>/</td>\n",
       "      <td></td>\n",
       "      <td></td>\n",
       "      <td></td>\n",
       "      <td>02/02/2005 15:40:10</td>\n",
       "      <td>02/02/2005 15:40:10</td>\n",
       "      <td>Preenchido</td>\n",
       "    </tr>\n",
       "  </tbody>\n",
       "</table>\n",
       "<p>1 rows × 42 columns</p>\n",
       "</div>"
      ],
      "text/plain": [
       "       SEQ AUTO INFRACAO NUM_AUTO_INFRACAO SER_AUTO_INFRACAO      TIPO_AUTO  \\\n",
       "235761          748345.0            285378                 A  Multa simples   \n",
       "\n",
       "       TIPO_MULTA  VAL_AUTO_INFRACAO PATRIMONIO_APURACAO PATRIMONIO_PORTE  \\\n",
       "235761                  4.306570e+09                                        \n",
       "\n",
       "       GRAVIDADE_INFRACAO UNID_ARRECADACAO  ... UNID_CONTROLE TIPO_ACAO  \\\n",
       "235761                          CONV/PM/MG  ...      MG/SUPES             \n",
       "\n",
       "       OPERACAO DENUNCIA_SISLIV ORDEM_FISCALIZACAO SOLICITACAO_RECURSO  \\\n",
       "235761                        /                                          \n",
       "\n",
       "       OPERACAO_SOL_RECURSO       DAT_LANCAMENTO    DAT_ULT_ALTERACAO  \\\n",
       "235761                       02/02/2005 15:40:10  02/02/2005 15:40:10   \n",
       "\n",
       "       TIPO_ULT_ALTERACAO  \n",
       "235761         Preenchido  \n",
       "\n",
       "[1 rows x 42 columns]"
      ]
     },
     "execution_count": 286,
     "metadata": {},
     "output_type": "execute_result"
    }
   ],
   "source": [
    "df[df['VAL_AUTO_INFRACAO'] == df['VAL_AUTO_INFRACAO'].max()]"
   ]
  },
  {
   "cell_type": "code",
   "execution_count": null,
   "metadata": {},
   "outputs": [],
   "source": []
  },
  {
   "cell_type": "code",
   "execution_count": 288,
   "metadata": {},
   "outputs": [
    {
     "data": {
      "text/plain": [
       "SEQ AUTO INFRACAO                                                  748345.0\n",
       "NUM_AUTO_INFRACAO                                                    285378\n",
       "SER_AUTO_INFRACAO                                                         A\n",
       "TIPO_AUTO                                                     Multa simples\n",
       "TIPO_MULTA                                                                 \n",
       "VAL_AUTO_INFRACAO                                              4306569666.0\n",
       "PATRIMONIO_APURACAO                                                        \n",
       "PATRIMONIO_PORTE                                                           \n",
       "GRAVIDADE_INFRACAO                                                         \n",
       "UNID_ARRECADACAO                                                 CONV/PM/MG\n",
       "DES_AUTO_INFRACAO         POR CONSUMIR QUANTIDADE SUPERIOR DE MDC AO PRE...\n",
       "DAT_HORA_AUTO_INFRACAO                                  28/08/1992 00:00:00\n",
       "FORMA_ENTREGA                                                              \n",
       "DAT_CIENCIA_AUTUACAO                                                       \n",
       "COD_MUNICIPIO                                                       3106200\n",
       "MUNICIPIO                                                    BELO HORIZONTE\n",
       "UF                                                                       MG\n",
       "NUM_PROCESSO                                                  0201502314992\n",
       "COD_INFRACAO                                                       619001.0\n",
       "DES_INFRACAO              Causar danos ambientais, de qualquer natureza,...\n",
       "TIPO_INFRACAO                    Penalidade pecuniária - Controle ambiental\n",
       "NOME_INFRATOR                                     FERROESTE INDUSTRIAL LTDA\n",
       "CPF_CNPJ_INFRATOR                                            20150090000104\n",
       "QTD_AREA                                                                   \n",
       "INFRACAO_AREA                                                              \n",
       "DES_OUTROS_TIPO_AREA                                                       \n",
       "CLASSIFICACAO_AREA                                                         \n",
       "NUM_LATITUDE_AUTO                                                          \n",
       "NUM_LONGITUDE_AUTO                                                         \n",
       "DES_LOCAL_INFRACAO                                                         \n",
       "NOTIFICACAO_VINCULADA                                                     -\n",
       "ACAO_FISCALIZATORIA                                                        \n",
       "UNID_CONTROLE                                                      MG/SUPES\n",
       "TIPO_ACAO                                                                  \n",
       "OPERACAO                                                                   \n",
       "DENUNCIA_SISLIV                                                           /\n",
       "ORDEM_FISCALIZACAO                                                         \n",
       "SOLICITACAO_RECURSO                                                        \n",
       "OPERACAO_SOL_RECURSO                                                       \n",
       "DAT_LANCAMENTO                                          02/02/2005 15:40:10\n",
       "DAT_ULT_ALTERACAO                                       02/02/2005 15:40:10\n",
       "TIPO_ULT_ALTERACAO                                               Preenchido\n",
       "Name: 235761, dtype: object"
      ]
     },
     "execution_count": 288,
     "metadata": {},
     "output_type": "execute_result"
    }
   ],
   "source": [
    "df.iloc[235761]"
   ]
  },
  {
   "cell_type": "code",
   "execution_count": 289,
   "metadata": {},
   "outputs": [
    {
     "data": {
      "text/plain": [
       "'POR CONSUMIR QUANTIDADE SUPERIOR DE MDC AO PREVISTO NO PIFI.'"
      ]
     },
     "execution_count": 289,
     "metadata": {},
     "output_type": "execute_result"
    }
   ],
   "source": [
    "df.iloc[235761]['DES_AUTO_INFRACAO']"
   ]
  },
  {
   "cell_type": "code",
   "execution_count": null,
   "metadata": {},
   "outputs": [],
   "source": []
  },
  {
   "cell_type": "code",
   "execution_count": 290,
   "metadata": {},
   "outputs": [
    {
     "data": {
      "text/html": [
       "<div>\n",
       "<style scoped>\n",
       "    .dataframe tbody tr th:only-of-type {\n",
       "        vertical-align: middle;\n",
       "    }\n",
       "\n",
       "    .dataframe tbody tr th {\n",
       "        vertical-align: top;\n",
       "    }\n",
       "\n",
       "    .dataframe thead th {\n",
       "        text-align: right;\n",
       "    }\n",
       "</style>\n",
       "<table border=\"1\" class=\"dataframe\">\n",
       "  <thead>\n",
       "    <tr style=\"text-align: right;\">\n",
       "      <th></th>\n",
       "      <th>SEQ AUTO INFRACAO</th>\n",
       "      <th>NUM_AUTO_INFRACAO</th>\n",
       "      <th>SER_AUTO_INFRACAO</th>\n",
       "      <th>TIPO_AUTO</th>\n",
       "      <th>TIPO_MULTA</th>\n",
       "      <th>VAL_AUTO_INFRACAO</th>\n",
       "      <th>PATRIMONIO_APURACAO</th>\n",
       "      <th>PATRIMONIO_PORTE</th>\n",
       "      <th>GRAVIDADE_INFRACAO</th>\n",
       "      <th>UNID_ARRECADACAO</th>\n",
       "      <th>...</th>\n",
       "      <th>UNID_CONTROLE</th>\n",
       "      <th>TIPO_ACAO</th>\n",
       "      <th>OPERACAO</th>\n",
       "      <th>DENUNCIA_SISLIV</th>\n",
       "      <th>ORDEM_FISCALIZACAO</th>\n",
       "      <th>SOLICITACAO_RECURSO</th>\n",
       "      <th>OPERACAO_SOL_RECURSO</th>\n",
       "      <th>DAT_LANCAMENTO</th>\n",
       "      <th>DAT_ULT_ALTERACAO</th>\n",
       "      <th>TIPO_ULT_ALTERACAO</th>\n",
       "    </tr>\n",
       "  </thead>\n",
       "  <tbody>\n",
       "    <tr>\n",
       "      <th>14698</th>\n",
       "      <td>18168.0</td>\n",
       "      <td>71081</td>\n",
       "      <td>B</td>\n",
       "      <td>Multa simples</td>\n",
       "      <td></td>\n",
       "      <td>200000000.0</td>\n",
       "      <td></td>\n",
       "      <td></td>\n",
       "      <td></td>\n",
       "      <td>CONV/PM/MG</td>\n",
       "      <td>...</td>\n",
       "      <td>MG/SUPES</td>\n",
       "      <td></td>\n",
       "      <td></td>\n",
       "      <td>/</td>\n",
       "      <td></td>\n",
       "      <td></td>\n",
       "      <td></td>\n",
       "      <td>07/12/1998 00:00:00</td>\n",
       "      <td>07/12/1998 00:00:00</td>\n",
       "      <td>Preenchido</td>\n",
       "    </tr>\n",
       "    <tr>\n",
       "      <th>24303</th>\n",
       "      <td>28280.0</td>\n",
       "      <td>526862</td>\n",
       "      <td>D</td>\n",
       "      <td>Multa simples</td>\n",
       "      <td></td>\n",
       "      <td>147621215.0</td>\n",
       "      <td></td>\n",
       "      <td></td>\n",
       "      <td></td>\n",
       "      <td>DF/SUPES</td>\n",
       "      <td>...</td>\n",
       "      <td>DF/SUPES</td>\n",
       "      <td></td>\n",
       "      <td></td>\n",
       "      <td>/</td>\n",
       "      <td></td>\n",
       "      <td></td>\n",
       "      <td></td>\n",
       "      <td>31/10/2005 14:36:44</td>\n",
       "      <td>27/03/2006 14:39:51</td>\n",
       "      <td>Preenchido</td>\n",
       "    </tr>\n",
       "    <tr>\n",
       "      <th>24304</th>\n",
       "      <td>28285.0</td>\n",
       "      <td>526867</td>\n",
       "      <td>D</td>\n",
       "      <td>Multa simples</td>\n",
       "      <td></td>\n",
       "      <td>38755143.0</td>\n",
       "      <td></td>\n",
       "      <td></td>\n",
       "      <td></td>\n",
       "      <td>DF/SUPES</td>\n",
       "      <td>...</td>\n",
       "      <td>DF/SUPES</td>\n",
       "      <td></td>\n",
       "      <td></td>\n",
       "      <td>/</td>\n",
       "      <td></td>\n",
       "      <td></td>\n",
       "      <td></td>\n",
       "      <td>31/10/2005 14:36:44</td>\n",
       "      <td>27/03/2006 15:59:33</td>\n",
       "      <td>Preenchido</td>\n",
       "    </tr>\n",
       "    <tr>\n",
       "      <th>34987</th>\n",
       "      <td>61634.0</td>\n",
       "      <td>509919</td>\n",
       "      <td>D</td>\n",
       "      <td>Multa simples</td>\n",
       "      <td></td>\n",
       "      <td>50000000.0</td>\n",
       "      <td></td>\n",
       "      <td></td>\n",
       "      <td></td>\n",
       "      <td>RJ/SUPES</td>\n",
       "      <td>...</td>\n",
       "      <td>RJ/SUPES</td>\n",
       "      <td></td>\n",
       "      <td></td>\n",
       "      <td>/</td>\n",
       "      <td></td>\n",
       "      <td></td>\n",
       "      <td></td>\n",
       "      <td>02/09/2005 12:15:36</td>\n",
       "      <td>02/05/2007 10:22:19</td>\n",
       "      <td>Preenchido</td>\n",
       "    </tr>\n",
       "    <tr>\n",
       "      <th>54226</th>\n",
       "      <td>424698.0</td>\n",
       "      <td>111655</td>\n",
       "      <td>A</td>\n",
       "      <td>Multa simples</td>\n",
       "      <td></td>\n",
       "      <td>149182200.0</td>\n",
       "      <td></td>\n",
       "      <td></td>\n",
       "      <td></td>\n",
       "      <td>DES3453</td>\n",
       "      <td>...</td>\n",
       "      <td></td>\n",
       "      <td></td>\n",
       "      <td></td>\n",
       "      <td>/</td>\n",
       "      <td></td>\n",
       "      <td></td>\n",
       "      <td></td>\n",
       "      <td>11/07/2000 16:22:34</td>\n",
       "      <td>11/07/2000 16:22:34</td>\n",
       "      <td>Preenchido</td>\n",
       "    </tr>\n",
       "    <tr>\n",
       "      <th>...</th>\n",
       "      <td>...</td>\n",
       "      <td>...</td>\n",
       "      <td>...</td>\n",
       "      <td>...</td>\n",
       "      <td>...</td>\n",
       "      <td>...</td>\n",
       "      <td>...</td>\n",
       "      <td>...</td>\n",
       "      <td>...</td>\n",
       "      <td>...</td>\n",
       "      <td>...</td>\n",
       "      <td>...</td>\n",
       "      <td>...</td>\n",
       "      <td>...</td>\n",
       "      <td>...</td>\n",
       "      <td>...</td>\n",
       "      <td>...</td>\n",
       "      <td>...</td>\n",
       "      <td>...</td>\n",
       "      <td>...</td>\n",
       "      <td>...</td>\n",
       "    </tr>\n",
       "    <tr>\n",
       "      <th>653919</th>\n",
       "      <td></td>\n",
       "      <td>OPY26H1C</td>\n",
       "      <td></td>\n",
       "      <td>multa simples;</td>\n",
       "      <td>Fechada</td>\n",
       "      <td>50000000.0</td>\n",
       "      <td></td>\n",
       "      <td></td>\n",
       "      <td></td>\n",
       "      <td></td>\n",
       "      <td>...</td>\n",
       "      <td>NUBIO/SC</td>\n",
       "      <td></td>\n",
       "      <td></td>\n",
       "      <td></td>\n",
       "      <td></td>\n",
       "      <td></td>\n",
       "      <td></td>\n",
       "      <td></td>\n",
       "      <td>05/04/2022 12:20:27</td>\n",
       "      <td></td>\n",
       "    </tr>\n",
       "    <tr>\n",
       "      <th>654487</th>\n",
       "      <td></td>\n",
       "      <td>PV9M7H24</td>\n",
       "      <td></td>\n",
       "      <td>multa simples;</td>\n",
       "      <td>Aberta</td>\n",
       "      <td>35055000.0</td>\n",
       "      <td></td>\n",
       "      <td></td>\n",
       "      <td>Mdio</td>\n",
       "      <td></td>\n",
       "      <td>...</td>\n",
       "      <td>UNID_TEC_OIAPOQUE</td>\n",
       "      <td></td>\n",
       "      <td></td>\n",
       "      <td></td>\n",
       "      <td></td>\n",
       "      <td></td>\n",
       "      <td></td>\n",
       "      <td></td>\n",
       "      <td>09/12/2019 13:06:44</td>\n",
       "      <td></td>\n",
       "    </tr>\n",
       "    <tr>\n",
       "      <th>654694</th>\n",
       "      <td></td>\n",
       "      <td>QATIH3TI</td>\n",
       "      <td></td>\n",
       "      <td>multa simples;</td>\n",
       "      <td>Fechada</td>\n",
       "      <td>31338300.0</td>\n",
       "      <td></td>\n",
       "      <td></td>\n",
       "      <td></td>\n",
       "      <td></td>\n",
       "      <td>...</td>\n",
       "      <td>COFIS</td>\n",
       "      <td></td>\n",
       "      <td></td>\n",
       "      <td></td>\n",
       "      <td></td>\n",
       "      <td></td>\n",
       "      <td></td>\n",
       "      <td></td>\n",
       "      <td>29/11/2021 08:51:57</td>\n",
       "      <td></td>\n",
       "    </tr>\n",
       "    <tr>\n",
       "      <th>654857</th>\n",
       "      <td></td>\n",
       "      <td>QM5CV1O9</td>\n",
       "      <td></td>\n",
       "      <td>multa simples;</td>\n",
       "      <td>Aberta</td>\n",
       "      <td>35055000.0</td>\n",
       "      <td></td>\n",
       "      <td></td>\n",
       "      <td>Mdio</td>\n",
       "      <td></td>\n",
       "      <td>...</td>\n",
       "      <td>UNID_TEC_OIAPOQUE</td>\n",
       "      <td></td>\n",
       "      <td></td>\n",
       "      <td></td>\n",
       "      <td></td>\n",
       "      <td></td>\n",
       "      <td></td>\n",
       "      <td></td>\n",
       "      <td>03/12/2019 17:41:29</td>\n",
       "      <td></td>\n",
       "    </tr>\n",
       "    <tr>\n",
       "      <th>658414</th>\n",
       "      <td></td>\n",
       "      <td>XTV64M5P</td>\n",
       "      <td></td>\n",
       "      <td>multa simples;</td>\n",
       "      <td>Fechada</td>\n",
       "      <td>43640000.0</td>\n",
       "      <td></td>\n",
       "      <td></td>\n",
       "      <td></td>\n",
       "      <td></td>\n",
       "      <td>...</td>\n",
       "      <td>ICMBio</td>\n",
       "      <td></td>\n",
       "      <td></td>\n",
       "      <td></td>\n",
       "      <td></td>\n",
       "      <td></td>\n",
       "      <td></td>\n",
       "      <td></td>\n",
       "      <td>21/12/2020 13:33:39</td>\n",
       "      <td></td>\n",
       "    </tr>\n",
       "  </tbody>\n",
       "</table>\n",
       "<p>218 rows × 42 columns</p>\n",
       "</div>"
      ],
      "text/plain": [
       "       SEQ AUTO INFRACAO NUM_AUTO_INFRACAO SER_AUTO_INFRACAO       TIPO_AUTO  \\\n",
       "14698            18168.0             71081                 B   Multa simples   \n",
       "24303            28280.0            526862                 D   Multa simples   \n",
       "24304            28285.0            526867                 D   Multa simples   \n",
       "34987            61634.0            509919                 D   Multa simples   \n",
       "54226           424698.0            111655                 A   Multa simples   \n",
       "...                  ...               ...               ...             ...   \n",
       "653919                            OPY26H1C                    multa simples;   \n",
       "654487                            PV9M7H24                    multa simples;   \n",
       "654694                            QATIH3TI                    multa simples;   \n",
       "654857                            QM5CV1O9                    multa simples;   \n",
       "658414                            XTV64M5P                    multa simples;   \n",
       "\n",
       "       TIPO_MULTA  VAL_AUTO_INFRACAO PATRIMONIO_APURACAO PATRIMONIO_PORTE  \\\n",
       "14698                    200000000.0                                        \n",
       "24303                    147621215.0                                        \n",
       "24304                     38755143.0                                        \n",
       "34987                     50000000.0                                        \n",
       "54226                    149182200.0                                        \n",
       "...           ...                ...                 ...              ...   \n",
       "653919    Fechada         50000000.0                                        \n",
       "654487     Aberta         35055000.0                                        \n",
       "654694    Fechada         31338300.0                                        \n",
       "654857     Aberta         35055000.0                                        \n",
       "658414    Fechada         43640000.0                                        \n",
       "\n",
       "       GRAVIDADE_INFRACAO UNID_ARRECADACAO  ...      UNID_CONTROLE TIPO_ACAO  \\\n",
       "14698                           CONV/PM/MG  ...           MG/SUPES             \n",
       "24303                             DF/SUPES  ...           DF/SUPES             \n",
       "24304                             DF/SUPES  ...           DF/SUPES             \n",
       "34987                             RJ/SUPES  ...           RJ/SUPES             \n",
       "54226                              DES3453  ...                                \n",
       "...                   ...              ...  ...                ...       ...   \n",
       "653919                                      ...           NUBIO/SC             \n",
       "654487               Mdio                   ...  UNID_TEC_OIAPOQUE             \n",
       "654694                                      ...              COFIS             \n",
       "654857               Mdio                   ...  UNID_TEC_OIAPOQUE             \n",
       "658414                                      ...             ICMBio             \n",
       "\n",
       "       OPERACAO DENUNCIA_SISLIV ORDEM_FISCALIZACAO SOLICITACAO_RECURSO  \\\n",
       "14698                         /                                          \n",
       "24303                         /                                          \n",
       "24304                         /                                          \n",
       "34987                         /                                          \n",
       "54226                         /                                          \n",
       "...         ...             ...                ...                 ...   \n",
       "653919                                                                   \n",
       "654487                                                                   \n",
       "654694                                                                   \n",
       "654857                                                                   \n",
       "658414                                                                   \n",
       "\n",
       "       OPERACAO_SOL_RECURSO       DAT_LANCAMENTO    DAT_ULT_ALTERACAO  \\\n",
       "14698                        07/12/1998 00:00:00  07/12/1998 00:00:00   \n",
       "24303                        31/10/2005 14:36:44  27/03/2006 14:39:51   \n",
       "24304                        31/10/2005 14:36:44  27/03/2006 15:59:33   \n",
       "34987                        02/09/2005 12:15:36  02/05/2007 10:22:19   \n",
       "54226                        11/07/2000 16:22:34  11/07/2000 16:22:34   \n",
       "...                     ...                  ...                  ...   \n",
       "653919                                            05/04/2022 12:20:27   \n",
       "654487                                            09/12/2019 13:06:44   \n",
       "654694                                            29/11/2021 08:51:57   \n",
       "654857                                            03/12/2019 17:41:29   \n",
       "658414                                            21/12/2020 13:33:39   \n",
       "\n",
       "       TIPO_ULT_ALTERACAO  \n",
       "14698          Preenchido  \n",
       "24303          Preenchido  \n",
       "24304          Preenchido  \n",
       "34987          Preenchido  \n",
       "54226          Preenchido  \n",
       "...                   ...  \n",
       "653919                     \n",
       "654487                     \n",
       "654694                     \n",
       "654857                     \n",
       "658414                     \n",
       "\n",
       "[218 rows x 42 columns]"
      ]
     },
     "execution_count": 290,
     "metadata": {},
     "output_type": "execute_result"
    }
   ],
   "source": [
    "df[df['VAL_AUTO_INFRACAO'] >= 30000000]"
   ]
  },
  {
   "cell_type": "code",
   "execution_count": null,
   "metadata": {},
   "outputs": [],
   "source": []
  },
  {
   "cell_type": "code",
   "execution_count": 175,
   "metadata": {},
   "outputs": [],
   "source": [
    "df.to_pickle(\"ibama_infracao_OUT_2022.pkl\")"
   ]
  },
  {
   "cell_type": "code",
   "execution_count": 286,
   "metadata": {},
   "outputs": [
    {
     "data": {
      "text/plain": [
       "SEQ AUTO INFRACAO                                                      19,0\n",
       "NUM_AUTO_INFRACAO                                                     26379\n",
       "SER_AUTO_INFRACAO                                                         D\n",
       "TIPO_AUTO                                                     Multa simples\n",
       "TIPO_MULTA                                                                 \n",
       "VAL_AUTO_INFRACAO                                                     300.0\n",
       "PATRIMONIO_APURACAO                                                        \n",
       "PATRIMONIO_PORTE                                                           \n",
       "GRAVIDADE_INFRACAO                                                         \n",
       "UNID_ARRECADACAO                                                  IMP/GEREX\n",
       "DES_AUTO_INFRACAO         POR COMERCIALIZAR PRODUTO  FLORESTAIS  A SABER...\n",
       "DAT_HORA_AUTO_INFRACAO                                  13/04/2005 10:20:00\n",
       "FORMA_ENTREGA                                                              \n",
       "DAT_CIENCIA_AUTUACAO                                                       \n",
       "COD_MUNICIPIO                                                       2104057\n",
       "MUNICIPIO                                                          ESTREITO\n",
       "UF                                                                       MA\n",
       "NUM_PROCESSO                                                  0205100029105\n",
       "COD_INFRACAO                                                       422001,0\n",
       "DES_INFRACAO              Receber e comercializar produto florestal sem ...\n",
       "TIPO_INFRACAO                                 Penalidade pecuniária - Flora\n",
       "NOME_INFRATOR                             MARIA SANTANA CAVALCANTE FERREIRA\n",
       "CPF_CNPJ_INFRATOR                                               ***585323**\n",
       "QTD_AREA                                                                   \n",
       "INFRACAO_AREA                                                              \n",
       "DES_OUTROS_TIPO_AREA                                                       \n",
       "CLASSIFICACAO_AREA                                                         \n",
       "NUM_LATITUDE_AUTO                                                          \n",
       "NUM_LONGITUDE_AUTO                                                         \n",
       "DES_LOCAL_INFRACAO                                                         \n",
       "NOTIFICACAO_VINCULADA                                                     -\n",
       "ACAO_FISCALIZATORIA                                                        \n",
       "UNID_CONTROLE                                                     IMP/GEREX\n",
       "TIPO_ACAO                                                                  \n",
       "OPERACAO                                                                   \n",
       "DENUNCIA_SISLIV                                                           /\n",
       "ORDEM_FISCALIZACAO                                                         \n",
       "SOLICITACAO_RECURSO                                                        \n",
       "OPERACAO_SOL_RECURSO                                                       \n",
       "DAT_LANCAMENTO                                          02/06/2005 13:44:42\n",
       "DAT_ULT_ALTERACAO                                       20/07/2006 12:54:59\n",
       "TIPO_ULT_ALTERACAO                                               Preenchido\n",
       "Name: 10, dtype: object"
      ]
     },
     "execution_count": 286,
     "metadata": {},
     "output_type": "execute_result"
    }
   ],
   "source": [
    "df.iloc[10]"
   ]
  },
  {
   "cell_type": "code",
   "execution_count": 287,
   "metadata": {},
   "outputs": [
    {
     "data": {
      "text/plain": [
       "'POR COMERCIALIZAR PRODUTO  FLORESTAIS  A SABER: 2,816 M3 DE MADEIRA EM TOROS DA ESSÊNCIA FLORESTAL JATOBÁ, SEM ADEVIDA COBERTURA DE ATPF.'"
      ]
     },
     "execution_count": 287,
     "metadata": {},
     "output_type": "execute_result"
    }
   ],
   "source": [
    "df.iloc[10]['DES_AUTO_INFRACAO']"
   ]
  },
  {
   "cell_type": "code",
   "execution_count": null,
   "metadata": {},
   "outputs": [],
   "source": []
  },
  {
   "cell_type": "code",
   "execution_count": 288,
   "metadata": {},
   "outputs": [
    {
     "data": {
      "text/plain": [
       "SEQ AUTO INFRACAO                                                   12459,0\n",
       "NUM_AUTO_INFRACAO                                                     26551\n",
       "SER_AUTO_INFRACAO                                                         D\n",
       "TIPO_AUTO                                                     Multa simples\n",
       "TIPO_MULTA                                                                 \n",
       "VAL_AUTO_INFRACAO                                                    4300.0\n",
       "PATRIMONIO_APURACAO                                                        \n",
       "PATRIMONIO_PORTE                                                           \n",
       "GRAVIDADE_INFRACAO                                                         \n",
       "UNID_ARRECADACAO                                                   MA/SUPES\n",
       "DES_AUTO_INFRACAO         TRANSPORTAR 42 M3 DE CARVÃO VEGETAL SEM CARIMB...\n",
       "DAT_HORA_AUTO_INFRACAO                                  03/11/2000 00:00:00\n",
       "FORMA_ENTREGA                                                              \n",
       "DAT_CIENCIA_AUTUACAO                                             03/11/2000\n",
       "COD_MUNICIPIO                                                       2104800\n",
       "MUNICIPIO                                                            GRAJAU\n",
       "UF                                                                       MA\n",
       "NUM_PROCESSO                                                  0201200390500\n",
       "COD_INFRACAO                                                       403003,0\n",
       "DES_INFRACAO              Transportar produto florestal com ATPF rasurad...\n",
       "TIPO_INFRACAO                                 Penalidade pecuniária - Flora\n",
       "NOME_INFRATOR                           GUARANY SIDERÚRGICA E MINERAÇÃO S/A\n",
       "CPF_CNPJ_INFRATOR                                            10426518000145\n",
       "QTD_AREA                                                                   \n",
       "INFRACAO_AREA                                                              \n",
       "DES_OUTROS_TIPO_AREA                                                       \n",
       "CLASSIFICACAO_AREA                                                         \n",
       "NUM_LATITUDE_AUTO                                                          \n",
       "NUM_LONGITUDE_AUTO                                                         \n",
       "DES_LOCAL_INFRACAO                                                         \n",
       "NOTIFICACAO_VINCULADA                                                     -\n",
       "ACAO_FISCALIZATORIA                                                        \n",
       "UNID_CONTROLE                                                      MA/SUPES\n",
       "TIPO_ACAO                                                                  \n",
       "OPERACAO                                                                   \n",
       "DENUNCIA_SISLIV                                                           /\n",
       "ORDEM_FISCALIZACAO                                                         \n",
       "SOLICITACAO_RECURSO                                                        \n",
       "OPERACAO_SOL_RECURSO                                                       \n",
       "DAT_LANCAMENTO                                          27/11/2000 17:53:16\n",
       "DAT_ULT_ALTERACAO                                       27/11/2000 17:53:16\n",
       "TIPO_ULT_ALTERACAO                                               Preenchido\n",
       "Name: 10000, dtype: object"
      ]
     },
     "execution_count": 288,
     "metadata": {},
     "output_type": "execute_result"
    }
   ],
   "source": [
    "df.iloc[10000]"
   ]
  },
  {
   "cell_type": "code",
   "execution_count": 289,
   "metadata": {},
   "outputs": [
    {
     "data": {
      "text/plain": [
       "'TRANSPORTAR 42 M3 DE CARVÃO VEGETAL SEM CARIMBO VALIDO EM BRANCO  CAMPO 19 ATPF  Nº0547259 CAMINHÃO MERCEDES BENZ BRANCA PLACA HPF 3238 -MA LAT.05.39.05 S LONG. 49.29.3 S'"
      ]
     },
     "execution_count": 289,
     "metadata": {},
     "output_type": "execute_result"
    }
   ],
   "source": [
    "df.iloc[10000]['DES_AUTO_INFRACAO']"
   ]
  },
  {
   "cell_type": "code",
   "execution_count": null,
   "metadata": {},
   "outputs": [],
   "source": []
  },
  {
   "cell_type": "code",
   "execution_count": null,
   "metadata": {},
   "outputs": [],
   "source": []
  },
  {
   "cell_type": "code",
   "execution_count": null,
   "metadata": {},
   "outputs": [],
   "source": []
  },
  {
   "cell_type": "code",
   "execution_count": null,
   "metadata": {},
   "outputs": [],
   "source": []
  }
 ],
 "metadata": {
  "kernelspec": {
   "display_name": "Python 3 (ipykernel)",
   "language": "python",
   "name": "python3"
  },
  "language_info": {
   "codemirror_mode": {
    "name": "ipython",
    "version": 3
   },
   "file_extension": ".py",
   "mimetype": "text/x-python",
   "name": "python",
   "nbconvert_exporter": "python",
   "pygments_lexer": "ipython3",
   "version": "3.9.13"
  }
 },
 "nbformat": 4,
 "nbformat_minor": 4
}
