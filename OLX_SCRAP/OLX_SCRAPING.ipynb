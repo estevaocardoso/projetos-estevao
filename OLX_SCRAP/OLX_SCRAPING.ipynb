{
 "cells": [
  {
   "cell_type": "markdown",
   "metadata": {},
   "source": [
    "Importing libraries\n"
   ]
  },
  {
   "cell_type": "code",
   "execution_count": 3,
   "metadata": {},
   "outputs": [],
   "source": [
    "from bs4 import BeautifulSoup\n",
    "import requests\n",
    "import pandas as pd \n",
    "import sqlite3\n",
    "from selenium.webdriver.common.keys import Keys\n",
    "from selenium.webdriver.common.by import By\n",
    "from selenium.webdriver.support.ui import WebDriverWait\n",
    "from selenium.webdriver.support import expected_conditions as EC\n",
    "from selenium.common.exceptions import TimeoutException\n",
    "from selenium.webdriver.firefox.options import Options\n",
    "from selenium.webdriver.support.expected_conditions import presence_of_element_located\n",
    "from selenium import webdriver"
   ]
  },
  {
   "cell_type": "markdown",
   "metadata": {},
   "source": [
    "Setting up a fuction to work along the scrap\n"
   ]
  },
  {
   "cell_type": "code",
   "execution_count": 1,
   "metadata": {},
   "outputs": [],
   "source": [
    "class OLX:\n",
    "        def __init__(self, queue, lock):\n",
    "            self.queue = queue\n",
    "            self.lock = lock\n",
    "            self.all_data = []\n",
    "            self.finish_first = False  \n",
    "\n",
    "            options = Options()\n",
    "            options.add_argument('--headless')\n",
    "\n",
    "            self.driver = webdriver.Firefox(options=options)\n",
    "        def requests_olx(self, url):\n",
    "            self.driver.get(url)\n",
    "            return self.driver.page_source\n",
    "        \n",
    "        def anuncios_pg(self, url):\n",
    "            pg = 0\n",
    "\n",
    "            while True:\n",
    "                pg+=1\n",
    "                print('PAGE: ', pg)\n",
    "                content_pg = self.requests_olx(url)\n",
    "                source_pg = BeautifulSoup(content_pg, 'html.parser')\n",
    "                list_anun = list(map(lambda x: x.attrs['href'], source_pg.find_all('a', attrs={'data-ds-component':'DS-NewAdCard-Link'})))\n",
    "                self.lock.acquire()   \n",
    "                [self.queue.put(i) for i in list_anun]\n",
    "                self.lock.release()\n",
    "                self.finish_first = True\n",
    "\n",
    "\n",
    "                if source_pg.select_one('a[data-ds-component=\"DS-Button\"].olx-button.olx-button--link-button.olx-button--small.olx-button--a:nth-of-type(12)') or pg > 5:\n",
    "                    url = source_pg.select_one('a[data-ds-component=\"DS-Button\"].olx-button.olx-button--link-button.olx-button--small.olx-button--a:nth-of-type(12)').get('href')\n",
    "\n",
    "                else:\n",
    "                    print('acabou de pegar os links...')\n",
    "                    break\n",
    "\n",
    "        def anuncios(self, id_robot=None, url=None):\n",
    "            while True:\n",
    "                 sleep(1)\n",
    "                 if self.finish_first == True:\n",
    "                    url = self.queue.get(block = True)\n",
    "                    break\n",
    "            while True:\n",
    "\n",
    "\n",
    "                content_pg = self.requests_olx(url)\n",
    "                source_pg = BeautifulSoup(content_pg, 'html.parser')\n",
    "                values = {}\n",
    "                try:\n",
    "                    title_span = source_pg.find('span', class_='olx-text--title-medium')\n",
    "                    values['title'] =  title_span.text.strip() if title_span else None\n",
    "\n",
    "                    owner_name_span = source_pg.find('span', class_='olx-text olx-text--body-large olx-text--block olx-text--regular ad__sc-ypp2u2-4 TTTuh')\n",
    "                    values['owner_name'] = owner_name_span.text if owner_name_span else None\n",
    "\n",
    "                    description_span = source_pg.find('meta', {'property':'og:description'})\n",
    "                    values['description'] = description_span.get('content') if description_span else None\n",
    "\n",
    "                    url_anuncio = source_pg.find('meta', {'property':'og:url'})\n",
    "                    url_id = url_anuncio.get('content') if url_anuncio else None\n",
    "                                \n",
    "                    values['id'] = url_id.split('-')[-1]\n",
    "\n",
    "                    adress_span = source_pg.find('span', class_='olx-text olx-text--body-small olx-text--block olx-text--semibold olx-color-neutral-110')\n",
    "                    adress_text = adress_span.text.strip() if adress_span else None\n",
    "                    v = adress_text.split(',') if adress_text else None\n",
    "                    values['city'] = v[0].strip() if adress_text else None\n",
    "                    values['state'] = v[1].strip() if adress_text else None\n",
    "                    values['cep'] = v[2].strip() if adress_text else None\n",
    "\n",
    "                except:\n",
    "                    print(\"***\":url)\n",
    "\n",
    "                print('Proc_id: {} | link: {}'.format(id_robot, url))\n",
    "\n",
    "                self.lock.acquire()   \n",
    "                self.all_data.append(values)\n",
    "                self.lock.release()\n",
    "                \n",
    "                if self.queue.qsize() == 0:\n",
    "                    break\n",
    "                else:\n",
    "                    url = self.queue.get(block = True)\n",
    "                \n",
    "\n",
    "            \n",
    "           \n",
    "        \n",
    "        def __del__(self):\n",
    "            self.driver.quit()\n",
    "\n",
    "        \n"
   ]
  },
  {
   "cell_type": "code",
   "execution_count": 5,
   "metadata": {},
   "outputs": [],
   "source": [
    "from multiprocessing.pool import ThreadPool as Pool\n",
    "import multiprocessing\n",
    "import threading\n",
    "from time import sleep\n"
   ]
  },
  {
   "cell_type": "code",
   "execution_count": 7,
   "metadata": {},
   "outputs": [
    {
     "name": "stdout",
     "output_type": "stream",
     "text": [
      "PAGE:  1\n"
     ]
    }
   ],
   "source": [
    "\n",
    "num_robot = 4\n",
    "pool = Pool(num_robot)\n",
    "\n",
    "manager = multiprocessing.Manager()\n",
    "queue = manager.Queue()\n",
    "lock = multiprocessing.Lock()\n",
    "\n",
    "threads = []\n",
    "olx = OLX(queue, lock)\n",
    "\n",
    "add_itens = threading.Thread(target=olx.anuncios_pg, args=('https://www.olx.com.br/servicos?sct=9',))\n",
    "add_itens.start()\n",
    "\n",
    "for i in range(1,num_robot):\n",
    "    threads.append(pool.apply_async(olx.anuncios() , args=(i, None)))\n",
    "for result in threads:\n",
    "    result.get()\n",
    "pool.close()\n",
    "pool.join()\n",
    "add_itens.join()\n"
   ]
  },
  {
   "cell_type": "code",
   "execution_count": 5,
   "metadata": {},
   "outputs": [
    {
     "ename": "NameError",
     "evalue": "name 'threading' is not defined",
     "output_type": "error",
     "traceback": [
      "\u001b[1;31m---------------------------------------------------------------------------\u001b[0m",
      "\u001b[1;31mNameError\u001b[0m                                 Traceback (most recent call last)",
      "Cell \u001b[1;32mIn[5], line 1\u001b[0m\n\u001b[1;32m----> 1\u001b[0m add_itens \u001b[38;5;241m=\u001b[39m \u001b[43mthreading\u001b[49m\u001b[38;5;241m.\u001b[39mThread(target\u001b[38;5;241m=\u001b[39molx\u001b[38;5;241m.\u001b[39manuncios_pg, args\u001b[38;5;241m=\u001b[39m(\u001b[38;5;124m'\u001b[39m\u001b[38;5;124mhttps://www.olx.com.br/servicos?sct=9\u001b[39m\u001b[38;5;124m'\u001b[39m,))\n",
      "\u001b[1;31mNameError\u001b[0m: name 'threading' is not defined"
     ]
    }
   ],
   "source": []
  }
 ],
 "metadata": {
  "kernelspec": {
   "display_name": ".venv",
   "language": "python",
   "name": "python3"
  },
  "language_info": {
   "codemirror_mode": {
    "name": "ipython",
    "version": 3
   },
   "file_extension": ".py",
   "mimetype": "text/x-python",
   "name": "python",
   "nbconvert_exporter": "python",
   "pygments_lexer": "ipython3",
   "version": "3.11.3"
  }
 },
 "nbformat": 4,
 "nbformat_minor": 2
}
