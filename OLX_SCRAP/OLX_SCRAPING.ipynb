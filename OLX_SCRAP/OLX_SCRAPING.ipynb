{
 "cells": [
  {
   "cell_type": "markdown",
   "metadata": {},
   "source": [
    "Importing libraries\n"
   ]
  },
  {
   "cell_type": "code",
   "execution_count": 1,
   "metadata": {},
   "outputs": [],
   "source": [
    "from bs4 import BeautifulSoup\n",
    "import requests\n",
    "import pandas as pd \n",
    "import sqlite3\n",
    "from selenium.webdriver.common.keys import Keys\n",
    "from selenium.webdriver.common.by import By\n",
    "from selenium.webdriver.support.ui import WebDriverWait\n",
    "from selenium.webdriver.support import expected_conditions as EC\n",
    "from selenium.common.exceptions import TimeoutException\n",
    "from selenium.webdriver.firefox.options import Options\n",
    "from selenium.webdriver.support.expected_conditions import presence_of_element_located\n",
    "from selenium import webdriver"
   ]
  },
  {
   "cell_type": "markdown",
   "metadata": {},
   "source": [
    "Setting up a fuction to work along the scrap\n"
   ]
  },
  {
   "cell_type": "code",
   "execution_count": 2,
   "metadata": {},
   "outputs": [],
   "source": [
    "class OLX:\n",
    "    def __init__(self):\n",
    "        pass\n",
    "    def request_olx(self, url):\n",
    "        headers = {\n",
    "            'authority': 'www.olx.com.br',\n",
    "            'accept': 'text/html,application/xhtml+xml,application/xml;q=0.9,image/avif,image/webp,image/apng,*/*;q=0.8,application/signed-exchange;v=b3;q=0.7',\n",
    "            'accept-language': 'pt-BR,pt;q=0.9,en-US;q=0.8,en;q=0.7',\n",
    "            'cache-control': 'max-age=0',\n",
    "            'cookie': 'loginIdentifier=OTM0MDM5Y2QyNGRmZjhhZWY0YWJkYTZmNWJlODgxMWY6ZDE5ZWUzZmU1NDY2NTEwYWViNmY4YmJmYjQ0N2EyZTRjZjJjYWIxNDgzZWJiMDNhZGU5Y2ViMWQ0MGM0M2RkODExZTJhMzNlODFhZDhmNDU0M2UxNjQ0ZGVlMjdmMjNhMDgwYmJiMDhhYjczYjNjMzlkZWEzNWRlM2I1NjJhYmU3NDg4ZDY1NGI2YWQwMmUzZjlkNDhlYWI5NzkwMDhmZDU3NzFlMDc2YzBjZDU4OWIyZDg4M2ZmOWFlMGFiZDYxOTk0Y2M2M2JiOGRmMzc0YWJkNDg1ZTgxNWUwMDUxYjBhMGZlODI4YzdlMzBkMTFjZmNjZWQxMjU2NmU3ZWYyMGI5YTA3ODViYWM1NGYxOTEwODc0ZmQzMmZmNjIyMDA5; __spdt=e5285bcf701c4d23884dc33e0c279483; olx_lr_controller=1296000; session_id=undefined; nl_id=a5b4aa09-58d8-4d67-aa77-eaf1f153b893; l_id=1a067676-5ee2-4b30-af21-17c462d84820; lo_uid=1689600386301-ei64av89fmu; _tt_enable_cookie=1; _ttp=JSHTzh5YjsNsVuDCeUiBL0r4lcu; _cc_id=1637950d85e7af400608285ce846f26b; __gsas=ID=9a8a5c243a08d826:T=1689600548:RT=1689600548:S=ALNI_MaXWAE9YKbfLeSPg70ClpOl_kEdHw; ACC_LL=2|MTAyMjI0NDMyNzA5MDM1ODkxMTUw; _hjSessionUser_736533=eyJpZCI6ImE1ZTI5NjczLWE0YTMtNWU1OC05MTNhLWNlMGZiYzRjYjUzMiIsImNyZWF0ZWQiOjE2ODk2MDAzODQ2OTYsImV4aXN0aW5nIjp0cnVlfQ==; userID=4faa46c4-016c-4b2a-8e48-2f6a6fbf42dd; _gcl_au=1.1.1893538978.1697452346; _ttuu.s=1698573928613; tt.u=0100007FDB4D8864B106C5400295EF1E; r_id=5837d93a-14fa-4c5c-9152-f0310afc53b8; olx_lr_controller=1296000; _clck=lnuw98|2|fi4|0|1339; _gat_UA-70177409-2=1; _hjSession_736533=eyJpZCI6IjYzM2M2OTRhLWM4NDctNDUzNy05OGFmLTk0OGQxNWZmMTAyMiIsImMiOjE3MDQ4Mjk0MDcxMjEsInMiOjAsInIiOjAsInNiIjowfQ==; _lr_geo_location_state=PA; _lr_geo_location=BR; fp_id=WEB:d138bbf648060ceedacf6752e7d10c38; cf_clearance=K34.129qI0Dz1ZD258DEfgDLbUB9y1TIrqFC_Mq1GjU-1704829422-0-2-e6e72e19.bf644945.b1e671f9-0.2.1704829422; TestAB_Groups=gtm-web-vitals_control.adv-cookieless-ppid_enabled.sanityweb50_A.ngage-chat-on-gallery_enabled.payg-discount-re-julius_ml-ranges.ppc-myplan-redirect-lp_enabled.adfacelift-default-web_enabled.ppf-free-insertion-re_enabled.ds-header-navbar_enabled.delivery-quote-weight-11060_control.delivery-quote-weight-3040_control.txp-expanded-delivery-method_enabled.adfacelift-re-web_enabled.billing-history_enabled.sa-price-variation_enabled.ppf-standalone-cars_essential.pay-now-always_enabled.mes-ads-free_enabled.cmod-security-central-my-ads_configA.imo-xp-linkshelf-autocomplete_enabled.ngage-chat-miniprofile_enabled.ppf-boost-motos_control.ngage-adview-miniprofile_enabled.delivery-address-management_a.bumpds-bjperformancetrackb_control.pos-cars-free-edition_control.ppf-edition-re_enabled.chatmod-logged-user-showphonebody_enabled.free-insertion-goods-parcela_control.adsxp-adviewlinks-bjQTZ-3020_control.contentmod-gallery-tip_final.payg-redirect-nc_control.imo-xp-privatead_enabled.adv-desk-redesign_enabled.pos-cars-fee-boost_d-first.adv-listing-lazyload_margin-500.free-edtion-goods-parcela_enabled.payg-discount-julius_ml-c-mab.ngage-listing-adcard-clean_enabled.txp-home-moda-beleza_enabled.fee-boost-goods-parcela_control.autospp-notshow-modal-hv-myads_enabled.adfacelift-goods-web_enabled.ngage-new-home-autos_enabled.autospp-marketplace-header_enabled.adv-amz-call_control.adv-cookieless-liveramp_enabled.additional-seller-info-profile_control.rec-home-by-region_on.additional-seller-info-edit_control; __cf_bm=BF0fuyMQ4EuS8T0m1YpfaXJq0oP.qcF6QeGuUQFKFlg-1705329250-1-ARNpPLA5SnYw+4WK4jMQDp1vSDSZKxWnU09L0Je/hiLLuPFR314HXhSjHgbUzCZ0PlwSw6d1REwkgQh8LMRS4IA=; _cfuvid=iVMLA9OCKNpUbu91JYOHObtsUyzYBaRl3r5sZaFF.rI-1705329251590-0-604800000; mf_b837e449-83ee-457f-9ef5-8f976953f2bc=||1705329252775||0||||0|0|27.1292; s_id=6240c020-3736-448f-84c1-e35752526b342024-01-15T14:34:12.828Z; _gid=GA1.3.1000907121.1705329253; panoramaId_expiry=1705934071609; panoramaId=9aa19ae6329db998ac32688ab1d4185ca02c31ab9399332e2a94603c75a32e6d; panoramaIdType=panoDevice; nvg83482=1305aaca77778a873f60c10a7a10|0_16; olx-cookies-accept=1; pubaccid=4faa46c4-016c-4b2a-8e48-2f6a6fbf42dd; _ga=GA1.3.1658291985.1689600385; cto_bundle=noh7Z194VjZhenB5djMxUjZaa0hmTjBTNGNERUY3ZWpGSExHTWNCJTJCYzVTS1k5eiUyQjVpRUtXdTlZZmE5T1ZEUFFDJTJCRGxzWll5S2hFRmdSY0h4SzljTlU4aWFwQmhyME5LenAzWGdiY2pXb0ZIazNLd1pqVjJabzdGMFN6dExwME83dCUyQlklMkJEQXdqamQxVTN3ZEZXVVFBJTJGa0s5d1ElM0QlM0Q; _ga_50C013M2CC=GS1.1.1705329253.82.1.1705329843.21.0.0; _dd_s=rum=0&expire=1705330742872',\n",
    "            'referer': 'https://www.olx.com.br/estado-pa',\n",
    "            'sec-ch-ua': '\"Not_A Brand\";v=\"8\", \"Chromium\";v=\"120\", \"Google Chrome\";v=\"120\"',\n",
    "            'sec-ch-ua-mobile': '?0',\n",
    "            'sec-ch-ua-platform': '\"Windows\"',\n",
    "            'sec-fetch-dest': 'document',\n",
    "            'sec-fetch-mode': 'navigate',\n",
    "            'sec-fetch-site': 'same-origin',\n",
    "            'sec-fetch-user': '?1',\n",
    "            'upgrade-insecure-requests': '1',\n",
    "            'user-agent': 'Mozilla/5.0 (Windows NT 10.0; Win64; x64) AppleWebKit/537.36 (KHTML, like Gecko) Chrome/120.0.0.0 Safari/537.36'\n",
    "        }\n",
    "\n",
    "        return requests.request(\"GET\", url, headers=headers)\n",
    "    \n",
    "    def anuncios_pg(self, url):\n",
    "        content_pg = self.request_olx(url)\n",
    "        source_pg = BeautifulSoup(content_pg.content)\n",
    "        \n",
    "        return source_pg.find_all(\"div\", attrs={\"class\":\"DS-NewAdCard-Link\"})\n",
    "    \n"
   ]
  },
  {
   "cell_type": "code",
   "execution_count": 40,
   "metadata": {},
   "outputs": [],
   "source": [
    "class OLX:\n",
    "        def __init__(self):\n",
    "            options = Options()\n",
    "            options.add_argument('--headless')\n",
    "\n",
    "            self.driver = webdriver.Firefox(options = options)\n",
    "        def requests_olx(self, url):\n",
    "            self.driver.get(url)\n",
    "            return self.driver.page_source\n",
    "        def anuncios_pg(self, url):\n",
    "            content_pg = self.requests_olx(url)\n",
    "            source_pg = BeautifulSoup(content_pg, 'html.parser')\n",
    "\n",
    "            return list(map(lambda x: x.attrs['href'], source_pg.find_all('a', attrs={'data-ds-component':'DS-NewAdCard-Link'})))\n",
    "            \n",
    "        def anuncios(self, url):\n",
    "            content_pg = self.requests_olx(url)\n",
    "            source_pg = BeautifulSoup(content_pg, 'html.parser')\n",
    "            values = {}\n",
    "\n",
    "            title_span = source_pg.find('span', class_='olx-text--title-medium')\n",
    "            values['title'] =  title_span.text.strip() if title_span else None\n",
    "\n",
    "            owner_name_span = source_pg.find('span', class_='textolx-text olx-text--body-large olx-text--block olx-text--regular')\n",
    "            values['owner_name'] = owner_name_span.text if owner_name_span else None\n",
    "\n",
    "            description_span = source_pg.find('meta', {'property':'og:description'})\n",
    "            values['description'] = description_span.get('content') if description_span else None\n",
    "\n",
    "            elementos_anuncio = source_pg.find_all('a', attrs={'data-ds-component': 'DS-NewAdCard-Link'})\n",
    "            for elemento in elementos_anuncio:\n",
    "                url_anuncio = elemento.get('href', '')\n",
    "                anuncio_id = url_anuncio.split('-')[-1]\n",
    "            \n",
    "            values['id'] = anuncio_id\n",
    "\n",
    "            adress_span = source_pg.find_all('span', class_='olx-text olx-text--body-small olx-text--block olx-text--regular ad__sc-k5plwo-1 idmeSY')\n",
    "            values['adress'] = adress_span[1].text if adress_span else None\n",
    "\n",
    "\n",
    "            \n",
    "            \n",
    "            return values\n",
    "        def __del__(self):\n",
    "            self.driver.quit()\n"
   ]
  },
  {
   "cell_type": "code",
   "execution_count": 21,
   "metadata": {},
   "outputs": [],
   "source": []
  },
  {
   "cell_type": "code",
   "execution_count": 39,
   "metadata": {},
   "outputs": [],
   "source": [
    "\n",
    "res = olx.anuncios_pg('https://www.olx.com.br/servicos?sct=9')"
   ]
  },
  {
   "cell_type": "code",
   "execution_count": 43,
   "metadata": {},
   "outputs": [],
   "source": []
  },
  {
   "cell_type": "code",
   "execution_count": 41,
   "metadata": {},
   "outputs": [
    {
     "data": {
      "text/plain": [
       "{'title': 'Carreto e Mudança',\n",
       " 'owner_name': None,\n",
       " 'description': 'Venha fazer seu orçamento whatsapp 71993595684 ',\n",
       " 'id': 'https://www.olx.com.br/vi/1271217534?rec=a',\n",
       " 'adress': 'Fazenda Grande do Retiro, Salvador - BA'}"
      ]
     },
     "execution_count": 41,
     "metadata": {},
     "output_type": "execute_result"
    }
   ],
   "source": [
    "olx = OLX()\n",
    "olx.anuncios(res[0])"
   ]
  },
  {
   "cell_type": "code",
   "execution_count": 27,
   "metadata": {},
   "outputs": [
    {
     "data": {
      "text/plain": [
       "'https://ba.olx.com.br/grande-salvador/servicos/carreto-frete-mudanca-empresas-transporte-interior-agregamento-1268310180'"
      ]
     },
     "execution_count": 27,
     "metadata": {},
     "output_type": "execute_result"
    }
   ],
   "source": [
    "res[0]"
   ]
  }
 ],
 "metadata": {
  "kernelspec": {
   "display_name": ".venv",
   "language": "python",
   "name": "python3"
  },
  "language_info": {
   "codemirror_mode": {
    "name": "ipython",
    "version": 3
   },
   "file_extension": ".py",
   "mimetype": "text/x-python",
   "name": "python",
   "nbconvert_exporter": "python",
   "pygments_lexer": "ipython3",
   "version": "3.11.3"
  }
 },
 "nbformat": 4,
 "nbformat_minor": 2
}
