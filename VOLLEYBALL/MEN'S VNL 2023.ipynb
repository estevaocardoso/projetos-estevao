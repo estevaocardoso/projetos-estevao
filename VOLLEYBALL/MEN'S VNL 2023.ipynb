{
 "cells": [
  {
   "cell_type": "markdown",
   "metadata": {},
   "source": [
    "GROUP STAGE"
   ]
  },
  {
   "cell_type": "code",
   "execution_count": null,
   "metadata": {},
   "outputs": [],
   "source": [
    "from bs4 import BeautifulSoup\n",
    "import pandas as pd\n",
    "import requests\n",
    "\n",
    "items = ['best-scorers', 'best-attackers','best-blockers', 'best-servers', 'best-setters', 'best-diggers', 'best-receivers']"
   ]
  },
  {
   "cell_type": "code",
   "execution_count": null,
   "metadata": {},
   "outputs": [],
   "source": [
    "class VNL:\n",
    "    def __init__(self):\n",
    "        self.all_tables = []\n",
    "        \n",
    "    def requests_vnl(self, url):\n",
    "       \n",
    "      \n",
    "        headers = {\n",
    "            'authority': 'en.volleyballworld.com',\n",
    "            'accept': 'text/html,application/xhtml+xml,application/xml;q=0.9,image/avif,image/webp,image/apng,*/*;q=0.8,application/signed-exchange;v=b3;q=0.7',\n",
    "            'accept-language': 'pt-BR,pt;q=0.9,en-US;q=0.8,en;q=0.7',\n",
    "            'cookie': '_tt_enable_cookie=1; _ttp=mC9cwvZDEfFvm84XhcY_UpCFQS1; __qca=P0-22326168-1696070767255; _hjSessionUser_3054680=eyJpZCI6Ijc5NjFiZWRhLWFiYmItNTFmMi05YjZlLTljMWE4Mjg0Yzk2MiIsImNyZWF0ZWQiOjE2OTYwNzA3ODA1MjcsImV4aXN0aW5nIjp0cnVlfQ==; _vwo_uuid_v2=DB3B3C099E1E6AF8DAD0304C6CC4A4098|a687021c2fb118a0e3b8b34c2e8eef96; _hjSessionUser_1859763=eyJpZCI6IjcwNmIzOWRmLWU2ZWQtNWIyNC04YzgxLWQxYjczMmQxMWU2NCIsImNyZWF0ZWQiOjE2OTYwNzA3NjYxMjIsImV4aXN0aW5nIjp0cnVlfQ==; _ga=GA1.1.173820319.1696070762; _gid=GA1.2.283440947.1696070762; OptanonAlertBoxClosed=2023-09-30T22:00:03.458Z; Language=en; fivbCookies=true; SC_ANALYTICS_GLOBAL_COOKIE=acbe818e7254478b85d066a48829924e|False; _gcl_au=1.1.60668392.1704369909; _fbp=fb.1.1705345778579.1082455755; _gid=GA1.2.283440947.1696070762; _hjSession_1859763=eyJpZCI6IjA5YWQ0MzM1LWM4MTEtNDJmMC04ZGI4LWFlNzMyMjJiM2Y5ZiIsImMiOjE3MDYyODc1MjExMTUsInMiOjAsInIiOjAsInNiIjoxLCJzciI6MCwic2UiOjAsImZzIjowLCJzcCI6MH0=; _ga_5ZY57D5RSS=GS1.1.1706287521.25.1.1706289169.39.0.0; _ga=GA1.1.173820319.1696070762; _ga_R215V1S3VM=GS1.1.1706282387.12.1.1706289169.60.0.0; OptanonConsent=isIABGlobal=false&datestamp=Fri+Jan+26+2024+14%3A12%3A50+GMT-0300+(Hor%C3%A1rio+Padr%C3%A3o+de+Bras%C3%ADlia)&version=6.18.0&hosts=&consentId=99d3274d-8d3a-4770-9823-42325ef10494&interactionCount=2&landingPath=NotLandingPage&groups=C0001%3A1%2CC0004%3A1%2CC0002%3A1%2CC0003%3A1&AwaitingReconsent=false&geolocation=BR%3BPE; _ga_0XQMFZ8Y93=GS1.2.1706287522.16.1.1706289170.0.0.0',\n",
    "            'referer': f'{url}',\n",
    "            'sec-ch-ua': '\"Not A(Brand\";v=\"99\", \"Google Chrome\";v=\"121\", \"Chromium\";v=\"121\"',\n",
    "            'sec-ch-ua-mobile': '?0',\n",
    "            'sec-ch-ua-platform': '\"Windows\"',\n",
    "            'sec-fetch-dest': 'document',\n",
    "            'sec-fetch-mode': 'navigate',\n",
    "            'sec-fetch-site': 'same-origin',\n",
    "            'sec-fetch-user': '?1',\n",
    "            'upgrade-insecure-requests': '1',\n",
    "            'user-agent': 'Mozilla/5.0 (Windows NT 10.0; Win64; x64) AppleWebKit/537.36 (KHTML, like Gecko) Chrome/121.0.0.0 Safari/537.36'\n",
    "}\n",
    "        content = requests.get(url, headers=headers)\n",
    "        return content.text\n",
    "    \n",
    "    def links_vnl(self, url):\n",
    "        tb = 0\n",
    "        url_tables = {}\n",
    "        url_base = 'https://en.volleyballworld.com'\n",
    "        \n",
    "        while True:\n",
    "            tb+=1\n",
    "            print(f'Pegou a tabela{tb}')\n",
    "            \n",
    "            content_pg = self.requests_vnl(url)\n",
    "            source_pg = BeautifulSoup(content_pg, 'lxml')\n",
    "\n",
    "            \n",
    "            url_tables = source_pg.find_all('ul', attrs={'class': 'd3-o-nav__list d3-o-list d3-o-nav__list--squared'})[0].find_all('a')\n",
    "            url_tables = [url_base + i.get('href') for i in url_tables]\n",
    "\n",
    "            \n",
    "            if tb >=6:\n",
    "                break\n",
    "            #url_tables = [url_base + i for i in url_tables]  \n",
    "        return url_tables\n",
    "    \n",
    "    def vnl_tables(self, url):\n",
    "        #items = ['best-scorers', 'best-attackers','best-blockers', 'best-servers', 'best-setters', 'best-diggers', 'best-receivers']\n",
    "        #for item in items:\n",
    "            \n",
    "        \n",
    "        counter = 0\n",
    "            \n",
    "        while True:\n",
    "            \n",
    "            content_pg = self.requests_vnl(url)\n",
    "            source_pg = BeautifulSoup(content_pg, 'lxml')\n",
    "            \n",
    "            headers = [th.get_text() for th in source_pg.find_all('th')] \n",
    "            rows = [tr for tr in source_pg.find_all('tr')]\n",
    "            data = [[cells.get_text(strip=True) for cells in row.find_all('td')] for row in rows]\n",
    "            table = [dict(zip(headers, row)) for row in data]\n",
    "            \n",
    "            \n",
    "            t = {'id_table': url , 'tabela':table}\n",
    "\n",
    "          \n",
    "\n",
    "            self.all_tables.append(t)\n",
    "            counter +=1\n",
    "                #print(f'a tabela está feita')\n",
    "            \n",
    "            break\n",
    "        for table in self.all_tables:\n",
    "            for row in table['tabela']:\n",
    "                row['competition'] = \"MEN'S VNL 2023 Group Stage\"\n",
    "                row['ano'] = \"2023\"\n",
    "        return self.all_tables\n",
    "            \n",
    "\n",
    "    \n",
    "\n",
    "\n",
    "        \n",
    "        \n",
    "\n",
    "        \n"
   ]
  },
  {
   "cell_type": "code",
   "execution_count": 87,
   "metadata": {},
   "outputs": [],
   "source": [
    "vnl = VNL()"
   ]
  },
  {
   "cell_type": "code",
   "execution_count": null,
   "metadata": {},
   "outputs": [],
   "source": [
    "res = vnl.links_vnl('https://en.volleyballworld.com/volleyball/competitions/volleyball-nations-league/2023/statistics/men/best-scorers/')\n"
   ]
  },
  {
   "cell_type": "code",
   "execution_count": 88,
   "metadata": {},
   "outputs": [
    {
     "data": {
      "text/plain": [
       "'https://en.volleyballworld.com/volleyball/competitions/volleyball-nations-league/2023/statistics/men/best-attackers/'"
      ]
     },
     "execution_count": 88,
     "metadata": {},
     "output_type": "execute_result"
    }
   ],
   "source": [
    "res[1]"
   ]
  },
  {
   "cell_type": "code",
   "execution_count": 104,
   "metadata": {},
   "outputs": [
    {
     "name": "stdout",
     "output_type": "stream",
     "text": [
      "a tabela https://en.volleyballworld.com/volleyball/competitions/volleyball-nations-league/2023/statistics/men/best-scorers/ foi feita\n",
      "a tabela https://en.volleyballworld.com/volleyball/competitions/volleyball-nations-league/2023/statistics/men/best-attackers/ foi feita\n",
      "a tabela https://en.volleyballworld.com/volleyball/competitions/volleyball-nations-league/2023/statistics/men/best-blockers/ foi feita\n",
      "a tabela https://en.volleyballworld.com/volleyball/competitions/volleyball-nations-league/2023/statistics/men/best-servers/ foi feita\n",
      "a tabela https://en.volleyballworld.com/volleyball/competitions/volleyball-nations-league/2023/statistics/men/best-setters/ foi feita\n",
      "a tabela https://en.volleyballworld.com/volleyball/competitions/volleyball-nations-league/2023/statistics/men/best-diggers/ foi feita\n",
      "a tabela https://en.volleyballworld.com/volleyball/competitions/volleyball-nations-league/2023/statistics/men/best-receivers/ foi feita\n"
     ]
    }
   ],
   "source": [
    "for url in res[:]:\n",
    "    vnl.vnl_tables(url)\n",
    "    print(f'a tabela {url} foi feita')"
   ]
  },
  {
   "cell_type": "code",
   "execution_count": 109,
   "metadata": {},
   "outputs": [],
   "source": [
    "import json\n",
    "name = \"MEN'S_VNL_2023.json\"\n",
    "with open(name, 'w', encoding='utf-8') as json_file:\n",
    "    json.dump(vnl.all_tables, json_file, ensure_ascii=False, indent=2)\n",
    "\n",
    "\n",
    "\n",
    "\n",
    "\n",
    "       \n",
    "\n",
    "\n"
   ]
  }
 ],
 "metadata": {
  "kernelspec": {
   "display_name": ".venv",
   "language": "python",
   "name": "python3"
  },
  "language_info": {
   "codemirror_mode": {
    "name": "ipython",
    "version": 3
   },
   "file_extension": ".py",
   "mimetype": "text/x-python",
   "name": "python",
   "nbconvert_exporter": "python",
   "pygments_lexer": "ipython3",
   "version": "3.11.5"
  }
 },
 "nbformat": 4,
 "nbformat_minor": 2
}
