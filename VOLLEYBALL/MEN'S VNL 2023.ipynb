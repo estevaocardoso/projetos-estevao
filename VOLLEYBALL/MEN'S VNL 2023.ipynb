{
 "cells": [
  {
   "cell_type": "code",
   "execution_count": 1,
   "metadata": {},
   "outputs": [],
   "source": [
    "from bs4 import BeautifulSoup\n",
    "import pandas as pd\n",
    "import requests\n",
    "\n",
    "items = ['best-scorers', 'best-attackers','best-blockers', 'best-servers', 'best-setters', 'best-diggers', 'best-receivers']"
   ]
  },
  {
   "cell_type": "code",
   "execution_count": 2,
   "metadata": {},
   "outputs": [],
   "source": [
    "import requests\n",
    "\n",
    "url = \"https://en.volleyballworld.com/volleyball/competitions/vnl-2023/statistics/men/best-scorers/\"\n",
    "\n",
    "payload = {}\n",
    "headers = {\n",
    "  'authority': 'en.volleyballworld.com',\n",
    "  'accept': 'text/html,application/xhtml+xml,application/xml;q=0.9,image/avif,image/webp,image/apng,*/*;q=0.8,application/signed-exchange;v=b3;q=0.7',\n",
    "  'accept-language': 'pt-BR,pt;q=0.9,en-US;q=0.8,en;q=0.7',\n",
    "  'cache-control': 'max-age=0',\n",
    "  'cookie': '_tt_enable_cookie=1; _ttp=mC9cwvZDEfFvm84XhcY_UpCFQS1; __qca=P0-22326168-1696070767255; _hjSessionUser_3054680=eyJpZCI6Ijc5NjFiZWRhLWFiYmItNTFmMi05YjZlLTljMWE4Mjg0Yzk2MiIsImNyZWF0ZWQiOjE2OTYwNzA3ODA1MjcsImV4aXN0aW5nIjp0cnVlfQ==; _vwo_uuid_v2=DB3B3C099E1E6AF8DAD0304C6CC4A4098|a687021c2fb118a0e3b8b34c2e8eef96; _hjSessionUser_1859763=eyJpZCI6IjcwNmIzOWRmLWU2ZWQtNWIyNC04YzgxLWQxYjczMmQxMWU2NCIsImNyZWF0ZWQiOjE2OTYwNzA3NjYxMjIsImV4aXN0aW5nIjp0cnVlfQ==; _ga=GA1.1.173820319.1696070762; _gid=GA1.2.283440947.1696070762; OptanonAlertBoxClosed=2023-09-30T22:00:03.458Z; Language=en; fivbCookies=true; SC_ANALYTICS_GLOBAL_COOKIE=acbe818e7254478b85d066a48829924e|False; _gcl_au=1.1.60668392.1704369909; _fbp=fb.1.1705345778579.1082455755; _hjIncludedInSessionSample_3054680=0; _hjSession_3054680=eyJpZCI6ImJmNzEwMDM3LWYyNGUtNDkwOC1iYTE4LWExOWQ1ZWEwM2MyOCIsImMiOjE3MDUzNDU3Nzg2MTEsInMiOjAsInIiOjAsInNiIjoxLCJzciI6MCwic2UiOjAsImZzIjowLCJzcCI6MH0=; _gid=GA1.2.283440947.1696070762; _hjIncludedInSessionSample_1859763=0; _hjSession_1859763=eyJpZCI6ImE4MGFkOTY2LTdiMjgtNDQ4MS05ZDYwLThlYjUxZTdkN2Q2ZiIsImMiOjE3MDUzNDU4MTU2NDEsInMiOjAsInIiOjAsInNiIjoxLCJzciI6MCwic2UiOjAsImZzIjowLCJzcCI6MH0=; OptanonConsent=isIABGlobal=false&datestamp=Mon+Jan+15+2024+16%3A10%3A58+GMT-0300+(Hor%C3%A1rio+Padr%C3%A3o+de+Bras%C3%ADlia)&version=6.18.0&hosts=&consentId=99d3274d-8d3a-4770-9823-42325ef10494&interactionCount=2&landingPath=NotLandingPage&groups=C0001%3A1%2CC0004%3A1%2CC0002%3A1%2CC0003%3A1&AwaitingReconsent=false&geolocation=BR%3BPE; _ga=GA1.1.173820319.1696070762; _ga_R215V1S3VM=GS1.1.1705345778.10.1.1705345858.40.0.0; _ga_5ZY57D5RSS=GS1.1.1705345815.20.1.1705345858.17.0.0; _ga_0XQMFZ8Y93=GS1.2.1705345778.14.1.1705345859.0.0.0',\n",
    "  'if-none-match': '\"Wlco7EE5kf-OnkPte5gFFJuFWjg\"',\n",
    "  'referer': 'https://en.volleyballworld.com/volleyball/competitions/vnl-2023/statistics/',\n",
    "  'sec-ch-ua': '\"Not_A Brand\";v=\"8\", \"Chromium\";v=\"120\", \"Google Chrome\";v=\"120\"',\n",
    "  'sec-ch-ua-mobile': '?0',\n",
    "  'sec-ch-ua-platform': '\"Windows\"',\n",
    "  'sec-fetch-dest': 'document',\n",
    "  'sec-fetch-mode': 'navigate',\n",
    "  'sec-fetch-site': 'same-origin',\n",
    "  'sec-fetch-user': '?1',\n",
    "  'upgrade-insecure-requests': '1',\n",
    "  'user-agent': 'Mozilla/5.0 (Windows NT 10.0; Win64; x64) AppleWebKit/537.36 (KHTML, like Gecko) Chrome/120.0.0.0 Safari/537.36'\n",
    "}\n",
    "\n",
    "response = requests.request(\"GET\", url, headers=headers, data=payload)\n",
    "content = response.text\n",
    "\n"
   ]
  },
  {
   "cell_type": "code",
   "execution_count": 3,
   "metadata": {},
   "outputs": [],
   "source": [
    "soup = BeautifulSoup(content, \"lxml\")"
   ]
  },
  {
   "cell_type": "code",
   "execution_count": 16,
   "metadata": {},
   "outputs": [],
   "source": [
    "headers = [th.text for th in soup.find_all('th')]\n",
    "rows = [td.text.strip() for td in soup.find_all('tbody')]"
   ]
  },
  {
   "cell_type": "code",
   "execution_count": 18,
   "metadata": {},
   "outputs": [
    {
     "data": {
      "text/plain": [
       "[\"14Ishikawa YukiJPN275237172116RomanÃ² YuriITA223185162214Abdel-Aziz NimirNED21718482512Herrera Jaime JesusCUB212180112122Zhang JingyinCHN201162221712Takahashi RanJPN198173101516Luburic DrazenSRB19217271317Urnaut TineSLO18616441818Souza Ricardo LucarelliBRA18515412197Palonsky LucianoARG183151131921Souza AlanBRA1771628718Ä\\x8cebulj KlemenSLO1721451898Defalco ToreyUSA172143131618Lopez Castro Miguel AngelCUB1711487168Loser AgustinARG168103531219MoÅ¾iÄ\\x8d RokSLO16414014101Anderson MatthewUSA16113681710KujundÅ¾iÄ\\x87 MiranSRB15112411165Michieletto AlessandroITA145115171320Weber LinusGER143125997Maar Stephen TimothyCAN1401171589Leon Venero WilfredoPOL13710914144Miyaura KentoJPN1361165151Nishida YujiJPN13411931215Lavia DanieleITA13410820612Lima BrunoARG1331197717Vicentin LucianoARG13311215610Sclater Ryan JosephCAN1321141173Van Garderen MaartenNED128103151023Nikolov AleksandarBUL126114574Atanasov MartinBUL1211001385Reichert MoritzGER1211048910Esmaeilnezhad AminIRI1189681412Brehme AntonGER1179313112Russell AaronUSA1078410132Jiang ChuanCHN10494642Onodera TaishiJPN1007818423Yant Herrera MarlonCUB100851147Krsmanovic PetarSRB100642975Concepcion Rojas Javier OctavioCUB99672934Hoag NicholasCAN988441017Jaeschke ThomasUSA98801178Honorato Henrique Dantas NÃ³bregaBRA977715514Szwarc ArthurCAN96807919Russo RobertoITA9659241317Clevenot TrevorFRA96867329Nedeljkovic AleksandarSRB94612946Yu YuantaiCHN92834549Sharifi MortezaIRI9284447Tillie KevinFRA9286426Mousavi Eraghi Seyed MohammadIRI915335316Koukartsev Pablo SergioARG9081634Kozamernik JanSLO895524108Plak FabianNED89572571Chinenyeze BarthÃ©lÃ©myFRA89701542Pajenk AlenSLO87661835Kaczmarek LukaszPOL86741024Patry JeanFRA846810611Sliwka AleksanderPOL84746412Tuinstra Bennie JuniorNED836931112Dimitrov DimitarBUL8269856Kurek BartoszPOL8276426Demyanenko DannyCAN805716723Resende Gualberto FlavioBRA80562228Asparuhov AsparuhBUL79716211Grozdanov AleksBUL795323321Faure ThÃ©oFRA796112623Carle TimothÃ©eFRA79684715Kochanowski JakubPOL7845201320Bieniek MateuszPOL775691214Galassi GianlucaITA76462286Yamauchi AkihiroJPN745812412Peric PavleSRB74628412Holt MaxwellUSA745312916Bultor DarylFRA735910427Valizadeh MohammadIRI72462159Li YongzhenCHN714918420Smith DavidUSA694122616Hajipour Moghadam Faroji AliIRI68521244Rodrigues Pinto OtÃ¡vio HenriqueBRA68471388Ivovic MarkoSRB68585515Peng ShikunCHN654615412Esfandiar AmirhosseinIRI65489899Huber NorbertPOL653917925Szalpuk ArturPOL64546419Hossein Khanzadeh Firouzjah PoriyaIRI63554412Boyer StephenFRA6257321Masso Alvarez Jose IsraelCUB59479316Semeniuk KamilPOL59468514Zhai DejunCHN58503522Wiltenburg TwanNED573420319Averill TaylorUSA5643763Kolev NikolayBUL54419420Rinaldi TommasoITA53473321Krick TobiasGER534013022Zerba NicolasARG52409316Ter Maat WouterNED52464230Nunes da Cunha Jr Judson AmabelBRA51456014Å\\xa0tern Å½igaSLO4944416Giannelli SimoneITA492714810Bednorz BartoszPOL48405331BÃ¶hme YanGER47416016Saatkamp LucasBRA4632957Klos KarolPOL452716219RÃ¶hrs ErikGER45403210Karyagin DenisBUL4236517Jorna GijsNED42347119Louati YacineFRA42335412Bottolo MattiaITA4137221Eshenko PearsonCAN39316212Van Berkel LucasCAN39309023Butryn KarolPOL39321619Moreira Roque FelipeBRA3932612Mergarejo Hernandez Osniel LazaroCUB3834224Jendryk II JeffreyUSA3630429Hanes JakeUSA36273623Saadat BardiaIRI3633307DramÃ© Neto AboubacarBRA3533116Fernandes P.X.Cavalcante AdrianoBRA34303129Dulski DawidPOL33263418Krage FlorianGER33238222Brand TobiasGER3330301Wang DongchenCHN32218325Jouffroy QuentinFRA32205718Muagututia GarrettUSA32282221Fornal TomaszPOL3230205Otsuka TatsunoriJPN31310023Wang BinCHN29250413Schott RubenGER29214414Le Goff NicolasFRA2920811Fromm ChristianGER2928013Martinez Franchi JanARG28252113Cooper SamuelCAN27212418Ramos MartinARG26188010Takahashi KentaroJPN25196011Christenson MicahUSA2561545Gotsev SvetoslavBUL24159030Mosca Leandro AusibioITA2417702Keemink WesselNED23128328Sanguinetti GiovanniITA21124519Pedroso Garriga Endriel AlbertoCUB211011023Vucicevic BozidarSRB21183011Brizard AntoineFRA2186724Karimisouchelmaei JavadIRI2013524Gallego JoaquinARG20146011Taboada Diaz LyvanCUB20614017Anzani SimoneITA2013615Hofer BrodieCAN19180199Elser MathiasCAN19172020Homayonfarmanesh ShahroozIRI18161117Parkinson MichaelNED18512124Petkov IliyaBUL17122314Manavinezhad MohammadjavadIRI17170021Todorovic VukSRB176832Tille JohannesGER171793Wang HebinCHN1658315De Cecco LucianoARG1675430Boladz BartlomiejPOL16151017Penchev NikolayBUL1513202Szymanski JakubPOL1513021Rezende Bruno MossaBRA1556411Armoa ManuelARG1410131Jelveh Ghaziani MahdiIRI1312102Herr LukeCAN1328316Ropret GregorSLO1366123Kessel CodyUSA1311203Kaliberda DenysGER1310124Ter Horst ThijsNED13111110Gutierrez Suarez Miguel DavidCUB1192022Urbanowicz KarolPOL117312Porro PaoloITA1082014Ma'a MicahUSA1054111Tomita ShomaJPN99009Recine FrancescoITA950425Maase LukasGER963013Adamczyk SebastianPOL95409Seganov GeorgiBUL82518Sekita MasahiroJPN82155Katic MilanSRB871019Zhang GuanhuaCHN760120Bento Buczmiejuk ArthurBRA752020Bratoev ValentinBUL75115KÃ¶k MatejSLO660012Lomacz GrzegorzPOL62315Ensing KyleUSA651013Cortesia LorenzoITA55006Thondike Mejias Christian ManuelCUB513110Å\\xa0talekar SaÅ¡oSLO55003Corre RaphaÃ«lFRA531111Kampa LukasGER52123PlaninÅ¡iÄ\\x8d UroÅ¡SLO40401Korenblek SiebeNED42206Meijs SilvesterNED403115Masulovic NemanjaSRB43016Toniutti BenjaminFRA431018Nishiyama HirotoJPN430118Vadi Mohammad TaherIRI321018Gironi FabrizioITA330096Firlej JanPOL32108Walsh Brett JamesCAN301218Ivanov SvetoslavBUL321019Janusz MarcinPOL30128Guo ChengCHN202022Gutierrez Suarez Jose MiguelCUB201155Sawicki MikolajPOL220028Evbade-Dan Larry IkJPN22009Leal Hidalgo YoandyBRA22001Bratoev GeorgiBUL10101Sanchez MatiasARG100110Zelayeta MauroARG110016Schnitzer JordanCAN11004MaÅ¡uloviÄ\\x87 VeljkoSRB101011Batak AleksaSRB101018Pothron AntoineFRA110026Henno HilirFRA110014Gil Kreling FernandoBRA110016Tuaniga JoshuaUSA110020MujanoviÄ\\x8d NikSLO110018Chen LeiyangCHN10018Sbertoli RiccardoITA101027Caneschi EdoardoITA100129Magalini GiulioITA101021Eiro MotokiJPN10102Kovacevic UrosSRB110013Ramezani AliIRI110022Afshin Far ArminIRI110015Russell KyleUSA100114Bozhilov MartinBUL000021Dobrev SimeonBUL000010Liu MengCHN000011Chen JiajieCHN000016Qu ZongshuaiCHN00003Fukatsu AkihiroJPN000013Ogawa TomohiroJPN000020Yamamoto TomohiroJPN000030Kai MasatoJPN00008Hazratpourtalatappeh MohammadrezaIRI000021Salehi ArmanIRI00003Falaschi MarcoITA00007Balaso FabioITA000011Gardini DavideITA000025Vitelli MarcoITA000026Federici FilippoITA00009Danani SantiagoARG00009Blankenau JayCAN000018Lui JustinCAN000097Currie LandonCAN00007Garcia Alvarez Yonder RomanCUB000014Goide Arredondo Adrian EduardoCUB000024Gorguet Salas AlainCUB00006Toman UrbanSLO00008Bracko RokSLO000011Koncilja DanijelSLO000013KovaÄ\\x8diÄ\\x8d JaniSLO00003Kapur MiloradSRB000013GajoviÄ\\x87 VladimirSRB000017Krsteski MiloÅ¡SRB000019Petrovic DusanSRB000024Szymura KamilPOL000041Hawryluk KubaPOL000072Poreba MateuszPOL00005Motta Paes KellianFRA000015Henry MÃ©dÃ©ricFRA000020Diez BenjaminFRA000022Basic LukaFRA000028Loubeyre ThibaultFRA000029Roehrig SimonFRA000022Shoji ErikUSA00005van Der Ent Cornelis LuucNED000018Andringa RobbertNED000020Bak YannickNED000025Wijkstra JasperNED000030Lipke NielsNED000015Nascimento Maique ReisBRA000017Hoss ThalesBRA000027Oliveira Morais do Nascimento Thiery FellipeBRA00006Graven LeonardGER000017Salehi MeisamIRI000017Zimmermann JanGER000045GÃ¼nthÃ¶r JakobGER000010Dagostino KyleUSA000077Giraudo MatiasARG00005Yang YimingCHN000013Salparov TeodorBUL000015Raev DelchoBUL000010Scanferla LeonardoITA000017Zatorski PawelPOL00002Grebennikov JeniaFRA000030Huetz FranÃ§oisFRA000013Kavalkievicz GabrielBRA000021Piccinelli AlessandroITA000031Sala LorenzoITA000020Rao ShuhanCHN000018Podrascanin MarkoSRB00009Moazzen MohammadrezaIRI00003Popiwczak JakubPOL000077Daneshdoust EhsanIRI0000\"]"
      ]
     },
     "execution_count": 18,
     "metadata": {},
     "output_type": "execute_result"
    }
   ],
   "source": [
    "rows"
   ]
  },
  {
   "cell_type": "code",
   "execution_count": null,
   "metadata": {},
   "outputs": [],
   "source": []
  }
 ],
 "metadata": {
  "kernelspec": {
   "display_name": ".venv",
   "language": "python",
   "name": "python3"
  },
  "language_info": {
   "codemirror_mode": {
    "name": "ipython",
    "version": 3
   },
   "file_extension": ".py",
   "mimetype": "text/x-python",
   "name": "python",
   "nbconvert_exporter": "python",
   "pygments_lexer": "ipython3",
   "version": "3.11.5"
  }
 },
 "nbformat": 4,
 "nbformat_minor": 2
}
