{
 "cells": [
  {
   "cell_type": "code",
   "execution_count": 2,
   "metadata": {},
   "outputs": [],
   "source": [
    "import requests\n",
    "from bs4 import BeautifulSoup\n",
    "import pandas as pd"
   ]
  },
  {
   "cell_type": "code",
   "execution_count": 121,
   "metadata": {},
   "outputs": [],
   "source": [
    "class VNL:\n",
    "    def __init__(self):\n",
    "        self.all_tables = []\n",
    "        self.items = ['best-scorers', 'best-attackers','best-blockers', 'best-servers', 'best-setters', 'best-diggers', 'best-receivers']\n",
    "\n",
    "    def vnl_requests(self, url):\n",
    "\n",
    "        for item in self.items:\n",
    "            headers = {\n",
    "            'authority': 'en.volleyballworld.com',\n",
    "            'accept': 'text/html,application/xhtml+xml,application/xml;q=0.9,image/avif,image/webp,image/apng,*/*;q=0.8,application/signed-exchange;v=b3;q=0.7',\n",
    "            'accept-language': 'pt-BR,pt;q=0.9,en-US;q=0.8,en;q=0.7',\n",
    "            'cache-control': 'max-age=0',\n",
    "            'cookie': '_tt_enable_cookie=1; _ttp=mC9cwvZDEfFvm84XhcY_UpCFQS1; __qca=P0-22326168-1696070767255; _hjSessionUser_3054680=eyJpZCI6Ijc5NjFiZWRhLWFiYmItNTFmMi05YjZlLTljMWE4Mjg0Yzk2MiIsImNyZWF0ZWQiOjE2OTYwNzA3ODA1MjcsImV4aXN0aW5nIjp0cnVlfQ==; _vwo_uuid_v2=DB3B3C099E1E6AF8DAD0304C6CC4A4098|a687021c2fb118a0e3b8b34c2e8eef96; _hjSessionUser_1859763=eyJpZCI6IjcwNmIzOWRmLWU2ZWQtNWIyNC04YzgxLWQxYjczMmQxMWU2NCIsImNyZWF0ZWQiOjE2OTYwNzA3NjYxMjIsImV4aXN0aW5nIjp0cnVlfQ==; _ga=GA1.1.173820319.1696070762; _gid=GA1.2.283440947.1696070762; OptanonAlertBoxClosed=2023-09-30T22:00:03.458Z; Language=en; fivbCookies=true; SC_ANALYTICS_GLOBAL_COOKIE=acbe818e7254478b85d066a48829924e|False; _gcl_au=1.1.60668392.1704369909; _fbp=fb.1.1705345778579.1082455755; _gid=GA1.2.283440947.1696070762; _hjSession_1859763=eyJpZCI6ImU4MjU4YTllLWIwZGMtNDg5Ny1hMTE5LTEzYTUxOTgxOGYzOCIsImMiOjE3MDY2MjQzNzUwNDEsInMiOjAsInIiOjAsInNiIjowLCJzciI6MCwic2UiOjAsImZzIjowLCJzcCI6MX0=; _ga=GA1.1.173820319.1696070762; _ga_R215V1S3VM=GS1.1.1706624374.16.1.1706626687.39.0.0; _ga_5ZY57D5RSS=GS1.1.1706626330.32.1.1706626688.37.0.0; OptanonConsent=isIABGlobal=false&datestamp=Tue+Jan+30+2024+11%3A58%3A08+GMT-0300+(Hor%C3%A1rio+Padr%C3%A3o+de+Bras%C3%ADlia)&version=6.18.0&hosts=&consentId=99d3274d-8d3a-4770-9823-42325ef10494&interactionCount=2&landingPath=NotLandingPage&groups=C0001%3A1%2CC0004%3A1%2CC0002%3A1%2CC0003%3A1&AwaitingReconsent=false&geolocation=BR%3BPE; _ga_0XQMFZ8Y93=GS1.2.1706624375.20.1.1706626688.0.0.0',\n",
    "            'if-none-match': '\"fHr8noq2CUqyI5YwyBcL9KGBMAQ\"',\n",
    "            'referer': f'{url}',\n",
    "            'sec-ch-ua': '\"Not A(Brand\";v=\"99\", \"Google Chrome\";v=\"121\", \"Chromium\";v=\"121\"',\n",
    "            'sec-ch-ua-mobile': '?0',\n",
    "            'sec-ch-ua-platform': '\"Windows\"',\n",
    "            'sec-fetch-dest': 'document',\n",
    "            'sec-fetch-mode': 'navigate',\n",
    "            'sec-fetch-site': 'same-origin',\n",
    "            'sec-fetch-user': '?1',\n",
    "            'upgrade-insecure-requests': '1',\n",
    "            'user-agent': 'Mozilla/5.0 (Windows NT 10.0; Win64; x64) AppleWebKit/537.36 (KHTML, like Gecko) Chrome/121.0.0.0 Safari/537.36'\n",
    "            }\n",
    "\n",
    "            response = requests.request(\"GET\", url, headers=headers)\n",
    "            content = response.text\n",
    "        return content\n",
    "    \n",
    "    def vnl_getlinks(self, url):\n",
    "        con = 0\n",
    "        url_base = 'https://en.volleyballworld.com'\n",
    "        url_table = \"\"\n",
    "\n",
    "            \n",
    "        content_pg = self.vnl_requests(url)\n",
    "        source_pg = BeautifulSoup(content_pg, 'lxml')\n",
    "            \n",
    "        ul = source_pg.find('ul', attrs={'class':'d3-o-nav__list d3-o-list d3-o-nav__list--squared'})\n",
    "        links = [url_base + i['href'] for i in ul.find_all('a')]\n",
    "        for i in links:\n",
    "            con+=1            \n",
    "            print(f\"esse {i} é o link da tabela {con}\")\n",
    "                           \n",
    "        url_table = links\n",
    "        return url_table\n",
    "            \n",
    "    def vnl_gettables(self, url):\n",
    "        content_pg = self.vnl_requests(url)\n",
    "        source_pg = BeautifulSoup(content_pg, 'lxml')\n",
    "        con = 0\n",
    "        while True:\n",
    "            try:\n",
    "                headers = [th.text for th in source_pg.find_all('th')]\n",
    "                tbody = source_pg.find('tbody')\n",
    "                rows = [[tr.get_text(strip=True) for tr in row] for row in tbody]\n",
    "\n",
    "                table = [dict(zip(headers, row)) for row in rows]\n",
    "\n",
    "                t = {'id_table':url, 'tabela':table}\n",
    "                self.all_tables.append(t)\n",
    "                con +=1\n",
    "            except:\n",
    "                print(f\"got an erro in: {url}\")\n",
    "            break\n",
    "\n",
    "        for table in self.all_tables:\n",
    "            for row in table['tabela']:\n",
    "                row['competition'] = \"MEN'S VNL 2023 Finals\"\n",
    "                row['ano'] = \"2023\"\n",
    "            \n",
    "        return self.all_tables\n",
    "    \n",
    "    def vnl_json(self, table):\n",
    "        name = \"MEN'S_VNL_2023_FINALS.json\"\n",
    "        import json\n",
    "        with open(name, 'w', encoding='utf-8') as json_file:\n",
    "            json.dump(table, json_file, ensure_ascii=False, indent=2)    "
   ]
  },
  {
   "cell_type": "code",
   "execution_count": 131,
   "metadata": {},
   "outputs": [],
   "source": [
    "vnl = VNL()"
   ]
  },
  {
   "cell_type": "code",
   "execution_count": 94,
   "metadata": {},
   "outputs": [
    {
     "name": "stdout",
     "output_type": "stream",
     "text": [
      "esse https://en.volleyballworld.com/volleyball/competitions/volleyball-nations-league/2023/finals-statistics/men/best-scorers/ é o link da tabela 1\n",
      "esse https://en.volleyballworld.com/volleyball/competitions/volleyball-nations-league/2023/finals-statistics/men/best-attackers/ é o link da tabela 2\n",
      "esse https://en.volleyballworld.com/volleyball/competitions/volleyball-nations-league/2023/finals-statistics/men/best-blockers/ é o link da tabela 3\n",
      "esse https://en.volleyballworld.com/volleyball/competitions/volleyball-nations-league/2023/finals-statistics/men/best-servers/ é o link da tabela 4\n",
      "esse https://en.volleyballworld.com/volleyball/competitions/volleyball-nations-league/2023/finals-statistics/men/best-setters/ é o link da tabela 5\n",
      "esse https://en.volleyballworld.com/volleyball/competitions/volleyball-nations-league/2023/finals-statistics/men/best-diggers/ é o link da tabela 6\n",
      "esse https://en.volleyballworld.com/volleyball/competitions/volleyball-nations-league/2023/finals-statistics/men/best-receivers/ é o link da tabela 7\n"
     ]
    }
   ],
   "source": [
    "res = vnl.vnl_getlinks('https://en.volleyballworld.com/volleyball/competitions/volleyball-nations-league/2023/finals-statistics/men/best-diggers/')"
   ]
  },
  {
   "cell_type": "code",
   "execution_count": 108,
   "metadata": {},
   "outputs": [
    {
     "data": {
      "text/plain": [
       "7"
      ]
     },
     "execution_count": 108,
     "metadata": {},
     "output_type": "execute_result"
    }
   ],
   "source": [
    "len(res)"
   ]
  },
  {
   "cell_type": "code",
   "execution_count": 132,
   "metadata": {},
   "outputs": [],
   "source": [
    "for i in res[:]:\n",
    "    vnl.vnl_gettables(i)"
   ]
  },
  {
   "cell_type": "code",
   "execution_count": 133,
   "metadata": {},
   "outputs": [],
   "source": [
    "vnl.vnl_json(vnl.all_tables)"
   ]
  }
 ],
 "metadata": {
  "kernelspec": {
   "display_name": "Python 3",
   "language": "python",
   "name": "python3"
  },
  "language_info": {
   "codemirror_mode": {
    "name": "ipython",
    "version": 3
   },
   "file_extension": ".py",
   "mimetype": "text/x-python",
   "name": "python",
   "nbconvert_exporter": "python",
   "pygments_lexer": "ipython3",
   "version": "3.11.3"
  }
 },
 "nbformat": 4,
 "nbformat_minor": 2
}
