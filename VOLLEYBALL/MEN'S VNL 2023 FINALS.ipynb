{
 "cells": [
  {
   "cell_type": "code",
   "execution_count": 1,
   "metadata": {},
   "outputs": [],
   "source": [
    "import requests\n",
    "from bs4 import BeautifulSoup\n",
    "import pandas as pd"
   ]
  },
  {
   "cell_type": "code",
   "execution_count": 87,
   "metadata": {},
   "outputs": [],
   "source": [
    "class VNL:\n",
    "    def __init__(self):\n",
    "        self.all_tables = []\n",
    "        self.items = ['best-scorers', 'best-attackers','best-blockers', 'best-servers', 'best-setters', 'best-diggers', 'best-receivers']\n",
    "\n",
    "    def vnl_requests(self, url):\n",
    "\n",
    "        for item in self.items:\n",
    "            headers = {\n",
    "            'authority': 'en.volleyballworld.com',\n",
    "            'accept': 'text/html,application/xhtml+xml,application/xml;q=0.9,image/avif,image/webp,image/apng,*/*;q=0.8,application/signed-exchange;v=b3;q=0.7',\n",
    "            'accept-language': 'pt-BR,pt;q=0.9,en-US;q=0.8,en;q=0.7',\n",
    "            'cache-control': 'max-age=0',\n",
    "            'cookie': '_tt_enable_cookie=1; _ttp=mC9cwvZDEfFvm84XhcY_UpCFQS1; __qca=P0-22326168-1696070767255; _hjSessionUser_3054680=eyJpZCI6Ijc5NjFiZWRhLWFiYmItNTFmMi05YjZlLTljMWE4Mjg0Yzk2MiIsImNyZWF0ZWQiOjE2OTYwNzA3ODA1MjcsImV4aXN0aW5nIjp0cnVlfQ==; _vwo_uuid_v2=DB3B3C099E1E6AF8DAD0304C6CC4A4098|a687021c2fb118a0e3b8b34c2e8eef96; _hjSessionUser_1859763=eyJpZCI6IjcwNmIzOWRmLWU2ZWQtNWIyNC04YzgxLWQxYjczMmQxMWU2NCIsImNyZWF0ZWQiOjE2OTYwNzA3NjYxMjIsImV4aXN0aW5nIjp0cnVlfQ==; _ga=GA1.1.173820319.1696070762; _gid=GA1.2.283440947.1696070762; OptanonAlertBoxClosed=2023-09-30T22:00:03.458Z; Language=en; fivbCookies=true; SC_ANALYTICS_GLOBAL_COOKIE=acbe818e7254478b85d066a48829924e|False; _gcl_au=1.1.60668392.1704369909; _fbp=fb.1.1705345778579.1082455755; _gid=GA1.2.283440947.1696070762; _hjSession_1859763=eyJpZCI6ImU4MjU4YTllLWIwZGMtNDg5Ny1hMTE5LTEzYTUxOTgxOGYzOCIsImMiOjE3MDY2MjQzNzUwNDEsInMiOjAsInIiOjAsInNiIjowLCJzciI6MCwic2UiOjAsImZzIjowLCJzcCI6MX0=; _ga=GA1.1.173820319.1696070762; _ga_R215V1S3VM=GS1.1.1706624374.16.1.1706626687.39.0.0; _ga_5ZY57D5RSS=GS1.1.1706626330.32.1.1706626688.37.0.0; OptanonConsent=isIABGlobal=false&datestamp=Tue+Jan+30+2024+11%3A58%3A08+GMT-0300+(Hor%C3%A1rio+Padr%C3%A3o+de+Bras%C3%ADlia)&version=6.18.0&hosts=&consentId=99d3274d-8d3a-4770-9823-42325ef10494&interactionCount=2&landingPath=NotLandingPage&groups=C0001%3A1%2CC0004%3A1%2CC0002%3A1%2CC0003%3A1&AwaitingReconsent=false&geolocation=BR%3BPE; _ga_0XQMFZ8Y93=GS1.2.1706624375.20.1.1706626688.0.0.0',\n",
    "            'if-none-match': '\"fHr8noq2CUqyI5YwyBcL9KGBMAQ\"',\n",
    "            'referer': f'{url}',\n",
    "            'sec-ch-ua': '\"Not A(Brand\";v=\"99\", \"Google Chrome\";v=\"121\", \"Chromium\";v=\"121\"',\n",
    "            'sec-ch-ua-mobile': '?0',\n",
    "            'sec-ch-ua-platform': '\"Windows\"',\n",
    "            'sec-fetch-dest': 'document',\n",
    "            'sec-fetch-mode': 'navigate',\n",
    "            'sec-fetch-site': 'same-origin',\n",
    "            'sec-fetch-user': '?1',\n",
    "            'upgrade-insecure-requests': '1',\n",
    "            'user-agent': 'Mozilla/5.0 (Windows NT 10.0; Win64; x64) AppleWebKit/537.36 (KHTML, like Gecko) Chrome/121.0.0.0 Safari/537.36'\n",
    "            }\n",
    "\n",
    "            response = requests.request(\"GET\", url, headers=headers)\n",
    "            content = response.text\n",
    "        return content\n",
    "    \n",
    "    def vnl_getlinks(self, url):\n",
    "        con = 0\n",
    "        url_base = 'https://en.volleyballworld.com'\n",
    "        url_table = []\n",
    "\n",
    "        while True:\n",
    "            con +=1\n",
    "            content_pg = self.vnl_requests(url)\n",
    "            source_pg = BeautifulSoup(content_pg, 'lxml')\n",
    "            \n",
    "            ul = source_pg.find_all('ul', attrs={'class':'d3-o-nav__list d3-o-list d3-o-nav__list--squared'})[0].find_all('a')\n",
    "            link = [url_base + i.get('href') for i in ul]\n",
    "\n",
    "            \n",
    "            url_table.append(link)\n",
    "            \n",
    "            \n",
    "            if con >= 6:\n",
    "                break\n",
    "            else:\n",
    "                return url_table\n",
    "\n",
    "\n",
    "\n",
    "\n",
    "\n",
    "        \n",
    "\n",
    "    \n",
    " \n",
    "\n",
    "\n",
    "\n",
    "\n",
    "\n"
   ]
  },
  {
   "cell_type": "code",
   "execution_count": 88,
   "metadata": {},
   "outputs": [],
   "source": [
    "vnl = VNL()"
   ]
  },
  {
   "cell_type": "code",
   "execution_count": 89,
   "metadata": {},
   "outputs": [
    {
     "ename": "AttributeError",
     "evalue": "ResultSet object has no attribute 'find_all'. You're probably treating a list of elements like a single element. Did you call find_all() when you meant to call find()?",
     "output_type": "error",
     "traceback": [
      "\u001b[1;31m---------------------------------------------------------------------------\u001b[0m",
      "\u001b[1;31mAttributeError\u001b[0m                            Traceback (most recent call last)",
      "Cell \u001b[1;32mIn[89], line 1\u001b[0m\n\u001b[1;32m----> 1\u001b[0m \u001b[43mvnl\u001b[49m\u001b[38;5;241;43m.\u001b[39;49m\u001b[43mvnl_getlinks\u001b[49m\u001b[43m(\u001b[49m\u001b[38;5;124;43m'\u001b[39;49m\u001b[38;5;124;43mhttps://en.volleyballworld.com/volleyball/competitions/volleyball-nations-league/2023/finals-statistics/men/best-diggers/\u001b[39;49m\u001b[38;5;124;43m'\u001b[39;49m\u001b[43m)\u001b[49m\n",
      "Cell \u001b[1;32mIn[87], line 42\u001b[0m, in \u001b[0;36mVNL.vnl_getlinks\u001b[1;34m(self, url)\u001b[0m\n\u001b[0;32m     39\u001b[0m content_pg \u001b[38;5;241m=\u001b[39m \u001b[38;5;28mself\u001b[39m\u001b[38;5;241m.\u001b[39mvnl_requests(url)\n\u001b[0;32m     40\u001b[0m source_pg \u001b[38;5;241m=\u001b[39m BeautifulSoup(content_pg, \u001b[38;5;124m'\u001b[39m\u001b[38;5;124mlxml\u001b[39m\u001b[38;5;124m'\u001b[39m)\n\u001b[1;32m---> 42\u001b[0m ul \u001b[38;5;241m=\u001b[39m \u001b[43msource_pg\u001b[49m\u001b[38;5;241;43m.\u001b[39;49m\u001b[43mfind_all\u001b[49m\u001b[43m(\u001b[49m\u001b[38;5;124;43m'\u001b[39;49m\u001b[38;5;124;43mul\u001b[39;49m\u001b[38;5;124;43m'\u001b[39;49m\u001b[43m,\u001b[49m\u001b[43m \u001b[49m\u001b[43mattrs\u001b[49m\u001b[38;5;241;43m=\u001b[39;49m\u001b[43m{\u001b[49m\u001b[38;5;124;43m'\u001b[39;49m\u001b[38;5;124;43mclass\u001b[39;49m\u001b[38;5;124;43m'\u001b[39;49m\u001b[43m:\u001b[49m\u001b[38;5;124;43m'\u001b[39;49m\u001b[38;5;124;43md3-o-nav__list d3-o-list d3-o-nav__list--squared\u001b[39;49m\u001b[38;5;124;43m'\u001b[39;49m\u001b[43m}\u001b[49m\u001b[43m)\u001b[49m\u001b[38;5;241;43m.\u001b[39;49m\u001b[43mfind_all\u001b[49m(\u001b[38;5;124m'\u001b[39m\u001b[38;5;124ma\u001b[39m\u001b[38;5;124m'\u001b[39m)\n\u001b[0;32m     43\u001b[0m link \u001b[38;5;241m=\u001b[39m [url_base \u001b[38;5;241m+\u001b[39m i\u001b[38;5;241m.\u001b[39mget(\u001b[38;5;124m'\u001b[39m\u001b[38;5;124mhref\u001b[39m\u001b[38;5;124m'\u001b[39m) \u001b[38;5;28;01mfor\u001b[39;00m i \u001b[38;5;129;01min\u001b[39;00m ul]\n\u001b[0;32m     46\u001b[0m url_table\u001b[38;5;241m.\u001b[39mappend(link)\n",
      "File \u001b[1;32mc:\\Users\\estev\\AppData\\Local\\Programs\\Python\\Python311\\Lib\\site-packages\\bs4\\element.py:2428\u001b[0m, in \u001b[0;36mResultSet.__getattr__\u001b[1;34m(self, key)\u001b[0m\n\u001b[0;32m   2426\u001b[0m \u001b[38;5;28;01mdef\u001b[39;00m \u001b[38;5;21m__getattr__\u001b[39m(\u001b[38;5;28mself\u001b[39m, key):\n\u001b[0;32m   2427\u001b[0m \u001b[38;5;250m    \u001b[39m\u001b[38;5;124;03m\"\"\"Raise a helpful exception to explain a common code fix.\"\"\"\u001b[39;00m\n\u001b[1;32m-> 2428\u001b[0m     \u001b[38;5;28;01mraise\u001b[39;00m \u001b[38;5;167;01mAttributeError\u001b[39;00m(\n\u001b[0;32m   2429\u001b[0m         \u001b[38;5;124m\"\u001b[39m\u001b[38;5;124mResultSet object has no attribute \u001b[39m\u001b[38;5;124m'\u001b[39m\u001b[38;5;132;01m%s\u001b[39;00m\u001b[38;5;124m'\u001b[39m\u001b[38;5;124m. You\u001b[39m\u001b[38;5;124m'\u001b[39m\u001b[38;5;124mre probably treating a list of elements like a single element. Did you call find_all() when you meant to call find()?\u001b[39m\u001b[38;5;124m\"\u001b[39m \u001b[38;5;241m%\u001b[39m key\n\u001b[0;32m   2430\u001b[0m     )\n",
      "\u001b[1;31mAttributeError\u001b[0m: ResultSet object has no attribute 'find_all'. You're probably treating a list of elements like a single element. Did you call find_all() when you meant to call find()?"
     ]
    }
   ],
   "source": [
    "vnl.vnl_getlinks('https://en.volleyballworld.com/volleyball/competitions/volleyball-nations-league/2023/finals-statistics/men/best-diggers/')"
   ]
  },
  {
   "cell_type": "code",
   "execution_count": 77,
   "metadata": {},
   "outputs": [
    {
     "ename": "AttributeError",
     "evalue": "'NoneType' object has no attribute 'get'",
     "output_type": "error",
     "traceback": [
      "\u001b[1;31m---------------------------------------------------------------------------\u001b[0m",
      "\u001b[1;31mAttributeError\u001b[0m                            Traceback (most recent call last)",
      "Cell \u001b[1;32mIn[77], line 1\u001b[0m\n\u001b[1;32m----> 1\u001b[0m \u001b[43mu\u001b[49m\u001b[38;5;241;43m.\u001b[39;49m\u001b[43mget\u001b[49m(\u001b[38;5;124m'\u001b[39m\u001b[38;5;124ma\u001b[39m\u001b[38;5;124m'\u001b[39m)\n",
      "\u001b[1;31mAttributeError\u001b[0m: 'NoneType' object has no attribute 'get'"
     ]
    }
   ],
   "source": []
  }
 ],
 "metadata": {
  "kernelspec": {
   "display_name": "Python 3",
   "language": "python",
   "name": "python3"
  },
  "language_info": {
   "codemirror_mode": {
    "name": "ipython",
    "version": 3
   },
   "file_extension": ".py",
   "mimetype": "text/x-python",
   "name": "python",
   "nbconvert_exporter": "python",
   "pygments_lexer": "ipython3",
   "version": "3.11.3"
  }
 },
 "nbformat": 4,
 "nbformat_minor": 2
}
